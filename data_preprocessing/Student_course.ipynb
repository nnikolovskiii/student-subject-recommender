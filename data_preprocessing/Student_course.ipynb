{
  "cells": [
    {
      "cell_type": "markdown",
      "metadata": {
        "id": "i4JF4qSImSb9"
      },
      "source": [
        "#Imports and downloads"
      ]
    },
    {
      "cell_type": "code",
      "source": [
        "from google.colab import drive\n",
        "drive.mount('/content/drive')"
      ],
      "metadata": {
        "colab": {
          "base_uri": "https://localhost:8080/"
        },
        "id": "7M8qcGDAFaH-",
        "outputId": "93db592a-cdc5-41b5-a759-7483dd2a7e0f"
      },
      "execution_count": null,
      "outputs": [
        {
          "output_type": "stream",
          "name": "stdout",
          "text": [
            "Drive already mounted at /content/drive; to attempt to forcibly remount, call drive.mount(\"/content/drive\", force_remount=True).\n"
          ]
        }
      ]
    },
    {
      "cell_type": "code",
      "execution_count": null,
      "metadata": {
        "id": "i4139HqkoN9h"
      },
      "outputs": [],
      "source": [
        "import pandas as pd\n",
        "\n",
        "df = pd.read_csv('/content/drive/MyDrive/your_dataframe3.csv')"
      ]
    },
    {
      "cell_type": "markdown",
      "metadata": {
        "id": "jM31Qj9D1X_J"
      },
      "source": [
        "Number of students and teachers"
      ]
    },
    {
      "cell_type": "code",
      "execution_count": null,
      "metadata": {
        "colab": {
          "base_uri": "https://localhost:8080/"
        },
        "id": "fBCpAr3YpCk3",
        "outputId": "6edf1460-6962-4a66-a5df-75c9ae10dd59"
      },
      "outputs": [
        {
          "output_type": "execute_result",
          "data": {
            "text/plain": [
              "6096"
            ]
          },
          "metadata": {},
          "execution_count": 289
        }
      ],
      "source": [
        "len(df)"
      ]
    },
    {
      "cell_type": "code",
      "execution_count": null,
      "metadata": {
        "colab": {
          "base_uri": "https://localhost:8080/"
        },
        "id": "0j-9o-BrpDSo",
        "outputId": "d22048ea-6e05-403c-8e96-66d0bfe8066c"
      },
      "outputs": [
        {
          "output_type": "execute_result",
          "data": {
            "text/plain": [
              "                   Names                                        Emails  \\\n",
              "0          Aaron Köndgen         aaron.koendgen@students.finki.ukim.mk   \n",
              "1  Anastasija Cvetanovic  anastasija.cvetanovic@students.finki.ukim.mk   \n",
              "2           Anchev Nenad                    nenad.anchev@finki.ukim.mk   \n",
              "3         Andonov Stefan                  stefan.andonov@finki.ukim.mk   \n",
              "4  Anil Cinar-Kapacuoglu  cinar.kapucuoglu.anil@students.finki.ukim.mk   \n",
              "\n",
              "     Roles                                            Courses  \n",
              "0  Student  Консултации@Машинска визија-Machine Vision 202...  \n",
              "1  Student  Консултации@Интернет програмирање на клиентска...  \n",
              "2  Teacher  ННС@ФИНКИ@Консултации@Студентски информативен ...  \n",
              "3  Teacher  ННС@ФИНКИ@Консултации@Студентски информативен ...  \n",
              "4  Student  Консултации@Студентски информативен центар@Bus...  "
            ],
            "text/html": [
              "\n",
              "  <div id=\"df-9f80585e-b5a2-4ae5-b778-ea7b3561b63f\" class=\"colab-df-container\">\n",
              "    <div>\n",
              "<style scoped>\n",
              "    .dataframe tbody tr th:only-of-type {\n",
              "        vertical-align: middle;\n",
              "    }\n",
              "\n",
              "    .dataframe tbody tr th {\n",
              "        vertical-align: top;\n",
              "    }\n",
              "\n",
              "    .dataframe thead th {\n",
              "        text-align: right;\n",
              "    }\n",
              "</style>\n",
              "<table border=\"1\" class=\"dataframe\">\n",
              "  <thead>\n",
              "    <tr style=\"text-align: right;\">\n",
              "      <th></th>\n",
              "      <th>Names</th>\n",
              "      <th>Emails</th>\n",
              "      <th>Roles</th>\n",
              "      <th>Courses</th>\n",
              "    </tr>\n",
              "  </thead>\n",
              "  <tbody>\n",
              "    <tr>\n",
              "      <th>0</th>\n",
              "      <td>Aaron Köndgen</td>\n",
              "      <td>aaron.koendgen@students.finki.ukim.mk</td>\n",
              "      <td>Student</td>\n",
              "      <td>Консултации@Машинска визија-Machine Vision 202...</td>\n",
              "    </tr>\n",
              "    <tr>\n",
              "      <th>1</th>\n",
              "      <td>Anastasija Cvetanovic</td>\n",
              "      <td>anastasija.cvetanovic@students.finki.ukim.mk</td>\n",
              "      <td>Student</td>\n",
              "      <td>Консултации@Интернет програмирање на клиентска...</td>\n",
              "    </tr>\n",
              "    <tr>\n",
              "      <th>2</th>\n",
              "      <td>Anchev Nenad</td>\n",
              "      <td>nenad.anchev@finki.ukim.mk</td>\n",
              "      <td>Teacher</td>\n",
              "      <td>ННС@ФИНКИ@Консултации@Студентски информативен ...</td>\n",
              "    </tr>\n",
              "    <tr>\n",
              "      <th>3</th>\n",
              "      <td>Andonov Stefan</td>\n",
              "      <td>stefan.andonov@finki.ukim.mk</td>\n",
              "      <td>Teacher</td>\n",
              "      <td>ННС@ФИНКИ@Консултации@Студентски информативен ...</td>\n",
              "    </tr>\n",
              "    <tr>\n",
              "      <th>4</th>\n",
              "      <td>Anil Cinar-Kapacuoglu</td>\n",
              "      <td>cinar.kapucuoglu.anil@students.finki.ukim.mk</td>\n",
              "      <td>Student</td>\n",
              "      <td>Консултации@Студентски информативен центар@Bus...</td>\n",
              "    </tr>\n",
              "  </tbody>\n",
              "</table>\n",
              "</div>\n",
              "    <div class=\"colab-df-buttons\">\n",
              "\n",
              "  <div class=\"colab-df-container\">\n",
              "    <button class=\"colab-df-convert\" onclick=\"convertToInteractive('df-9f80585e-b5a2-4ae5-b778-ea7b3561b63f')\"\n",
              "            title=\"Convert this dataframe to an interactive table.\"\n",
              "            style=\"display:none;\">\n",
              "\n",
              "  <svg xmlns=\"http://www.w3.org/2000/svg\" height=\"24px\" viewBox=\"0 -960 960 960\">\n",
              "    <path d=\"M120-120v-720h720v720H120Zm60-500h600v-160H180v160Zm220 220h160v-160H400v160Zm0 220h160v-160H400v160ZM180-400h160v-160H180v160Zm440 0h160v-160H620v160ZM180-180h160v-160H180v160Zm440 0h160v-160H620v160Z\"/>\n",
              "  </svg>\n",
              "    </button>\n",
              "\n",
              "  <style>\n",
              "    .colab-df-container {\n",
              "      display:flex;\n",
              "      gap: 12px;\n",
              "    }\n",
              "\n",
              "    .colab-df-convert {\n",
              "      background-color: #E8F0FE;\n",
              "      border: none;\n",
              "      border-radius: 50%;\n",
              "      cursor: pointer;\n",
              "      display: none;\n",
              "      fill: #1967D2;\n",
              "      height: 32px;\n",
              "      padding: 0 0 0 0;\n",
              "      width: 32px;\n",
              "    }\n",
              "\n",
              "    .colab-df-convert:hover {\n",
              "      background-color: #E2EBFA;\n",
              "      box-shadow: 0px 1px 2px rgba(60, 64, 67, 0.3), 0px 1px 3px 1px rgba(60, 64, 67, 0.15);\n",
              "      fill: #174EA6;\n",
              "    }\n",
              "\n",
              "    .colab-df-buttons div {\n",
              "      margin-bottom: 4px;\n",
              "    }\n",
              "\n",
              "    [theme=dark] .colab-df-convert {\n",
              "      background-color: #3B4455;\n",
              "      fill: #D2E3FC;\n",
              "    }\n",
              "\n",
              "    [theme=dark] .colab-df-convert:hover {\n",
              "      background-color: #434B5C;\n",
              "      box-shadow: 0px 1px 3px 1px rgba(0, 0, 0, 0.15);\n",
              "      filter: drop-shadow(0px 1px 2px rgba(0, 0, 0, 0.3));\n",
              "      fill: #FFFFFF;\n",
              "    }\n",
              "  </style>\n",
              "\n",
              "    <script>\n",
              "      const buttonEl =\n",
              "        document.querySelector('#df-9f80585e-b5a2-4ae5-b778-ea7b3561b63f button.colab-df-convert');\n",
              "      buttonEl.style.display =\n",
              "        google.colab.kernel.accessAllowed ? 'block' : 'none';\n",
              "\n",
              "      async function convertToInteractive(key) {\n",
              "        const element = document.querySelector('#df-9f80585e-b5a2-4ae5-b778-ea7b3561b63f');\n",
              "        const dataTable =\n",
              "          await google.colab.kernel.invokeFunction('convertToInteractive',\n",
              "                                                    [key], {});\n",
              "        if (!dataTable) return;\n",
              "\n",
              "        const docLinkHtml = 'Like what you see? Visit the ' +\n",
              "          '<a target=\"_blank\" href=https://colab.research.google.com/notebooks/data_table.ipynb>data table notebook</a>'\n",
              "          + ' to learn more about interactive tables.';\n",
              "        element.innerHTML = '';\n",
              "        dataTable['output_type'] = 'display_data';\n",
              "        await google.colab.output.renderOutput(dataTable, element);\n",
              "        const docLink = document.createElement('div');\n",
              "        docLink.innerHTML = docLinkHtml;\n",
              "        element.appendChild(docLink);\n",
              "      }\n",
              "    </script>\n",
              "  </div>\n",
              "\n",
              "\n",
              "<div id=\"df-2a9336cb-c64b-4a2f-9d49-d9cdb9c662a1\">\n",
              "  <button class=\"colab-df-quickchart\" onclick=\"quickchart('df-2a9336cb-c64b-4a2f-9d49-d9cdb9c662a1')\"\n",
              "            title=\"Suggest charts\"\n",
              "            style=\"display:none;\">\n",
              "\n",
              "<svg xmlns=\"http://www.w3.org/2000/svg\" height=\"24px\"viewBox=\"0 0 24 24\"\n",
              "     width=\"24px\">\n",
              "    <g>\n",
              "        <path d=\"M19 3H5c-1.1 0-2 .9-2 2v14c0 1.1.9 2 2 2h14c1.1 0 2-.9 2-2V5c0-1.1-.9-2-2-2zM9 17H7v-7h2v7zm4 0h-2V7h2v10zm4 0h-2v-4h2v4z\"/>\n",
              "    </g>\n",
              "</svg>\n",
              "  </button>\n",
              "\n",
              "<style>\n",
              "  .colab-df-quickchart {\n",
              "      --bg-color: #E8F0FE;\n",
              "      --fill-color: #1967D2;\n",
              "      --hover-bg-color: #E2EBFA;\n",
              "      --hover-fill-color: #174EA6;\n",
              "      --disabled-fill-color: #AAA;\n",
              "      --disabled-bg-color: #DDD;\n",
              "  }\n",
              "\n",
              "  [theme=dark] .colab-df-quickchart {\n",
              "      --bg-color: #3B4455;\n",
              "      --fill-color: #D2E3FC;\n",
              "      --hover-bg-color: #434B5C;\n",
              "      --hover-fill-color: #FFFFFF;\n",
              "      --disabled-bg-color: #3B4455;\n",
              "      --disabled-fill-color: #666;\n",
              "  }\n",
              "\n",
              "  .colab-df-quickchart {\n",
              "    background-color: var(--bg-color);\n",
              "    border: none;\n",
              "    border-radius: 50%;\n",
              "    cursor: pointer;\n",
              "    display: none;\n",
              "    fill: var(--fill-color);\n",
              "    height: 32px;\n",
              "    padding: 0;\n",
              "    width: 32px;\n",
              "  }\n",
              "\n",
              "  .colab-df-quickchart:hover {\n",
              "    background-color: var(--hover-bg-color);\n",
              "    box-shadow: 0 1px 2px rgba(60, 64, 67, 0.3), 0 1px 3px 1px rgba(60, 64, 67, 0.15);\n",
              "    fill: var(--button-hover-fill-color);\n",
              "  }\n",
              "\n",
              "  .colab-df-quickchart-complete:disabled,\n",
              "  .colab-df-quickchart-complete:disabled:hover {\n",
              "    background-color: var(--disabled-bg-color);\n",
              "    fill: var(--disabled-fill-color);\n",
              "    box-shadow: none;\n",
              "  }\n",
              "\n",
              "  .colab-df-spinner {\n",
              "    border: 2px solid var(--fill-color);\n",
              "    border-color: transparent;\n",
              "    border-bottom-color: var(--fill-color);\n",
              "    animation:\n",
              "      spin 1s steps(1) infinite;\n",
              "  }\n",
              "\n",
              "  @keyframes spin {\n",
              "    0% {\n",
              "      border-color: transparent;\n",
              "      border-bottom-color: var(--fill-color);\n",
              "      border-left-color: var(--fill-color);\n",
              "    }\n",
              "    20% {\n",
              "      border-color: transparent;\n",
              "      border-left-color: var(--fill-color);\n",
              "      border-top-color: var(--fill-color);\n",
              "    }\n",
              "    30% {\n",
              "      border-color: transparent;\n",
              "      border-left-color: var(--fill-color);\n",
              "      border-top-color: var(--fill-color);\n",
              "      border-right-color: var(--fill-color);\n",
              "    }\n",
              "    40% {\n",
              "      border-color: transparent;\n",
              "      border-right-color: var(--fill-color);\n",
              "      border-top-color: var(--fill-color);\n",
              "    }\n",
              "    60% {\n",
              "      border-color: transparent;\n",
              "      border-right-color: var(--fill-color);\n",
              "    }\n",
              "    80% {\n",
              "      border-color: transparent;\n",
              "      border-right-color: var(--fill-color);\n",
              "      border-bottom-color: var(--fill-color);\n",
              "    }\n",
              "    90% {\n",
              "      border-color: transparent;\n",
              "      border-bottom-color: var(--fill-color);\n",
              "    }\n",
              "  }\n",
              "</style>\n",
              "\n",
              "  <script>\n",
              "    async function quickchart(key) {\n",
              "      const quickchartButtonEl =\n",
              "        document.querySelector('#' + key + ' button');\n",
              "      quickchartButtonEl.disabled = true;  // To prevent multiple clicks.\n",
              "      quickchartButtonEl.classList.add('colab-df-spinner');\n",
              "      try {\n",
              "        const charts = await google.colab.kernel.invokeFunction(\n",
              "            'suggestCharts', [key], {});\n",
              "      } catch (error) {\n",
              "        console.error('Error during call to suggestCharts:', error);\n",
              "      }\n",
              "      quickchartButtonEl.classList.remove('colab-df-spinner');\n",
              "      quickchartButtonEl.classList.add('colab-df-quickchart-complete');\n",
              "    }\n",
              "    (() => {\n",
              "      let quickchartButtonEl =\n",
              "        document.querySelector('#df-2a9336cb-c64b-4a2f-9d49-d9cdb9c662a1 button');\n",
              "      quickchartButtonEl.style.display =\n",
              "        google.colab.kernel.accessAllowed ? 'block' : 'none';\n",
              "    })();\n",
              "  </script>\n",
              "</div>\n",
              "    </div>\n",
              "  </div>\n"
            ]
          },
          "metadata": {},
          "execution_count": 290
        }
      ],
      "source": [
        "df.head()"
      ]
    },
    {
      "cell_type": "markdown",
      "metadata": {
        "id": "BB7pBTOapUWq"
      },
      "source": [
        "TO DO: In order for the identity of the students to not be compromised we can encode their names."
      ]
    },
    {
      "cell_type": "code",
      "execution_count": null,
      "metadata": {
        "id": "uZAqKAWIpF9w"
      },
      "outputs": [],
      "source": [
        "# from sklearn.preprocessing import LabelEncoder\n",
        "\n",
        "# label_encoder = LabelEncoder()\n",
        "# df['Names'] = label_encoder.fit_transform(df['Names'])\n"
      ]
    },
    {
      "cell_type": "code",
      "execution_count": null,
      "metadata": {
        "id": "xm89Nl-4qXr7"
      },
      "outputs": [],
      "source": [
        "# df.head()"
      ]
    },
    {
      "cell_type": "markdown",
      "metadata": {
        "id": "PKzr6x46mK_k"
      },
      "source": [
        "#Defining groups"
      ]
    },
    {
      "cell_type": "markdown",
      "metadata": {
        "id": "MXzOjQh3rFKo"
      },
      "source": [
        "We can identify all of the different courses/chats each student and professor attends."
      ]
    },
    {
      "cell_type": "code",
      "execution_count": null,
      "metadata": {
        "id": "NnPaw8tuqY8M"
      },
      "outputs": [],
      "source": [
        "groups = set()\n",
        "for index, row in df.iterrows():\n",
        "    line_courses = row['Courses'].split('@')\n",
        "    for c in line_courses:\n",
        "      groups.add(c)"
      ]
    },
    {
      "cell_type": "code",
      "execution_count": null,
      "metadata": {
        "colab": {
          "base_uri": "https://localhost:8080/"
        },
        "id": "NGwgd9Eosf57",
        "outputId": "639fe6ee-b9ba-43f4-b290-11523db0bb91"
      },
      "outputs": [
        {
          "output_type": "execute_result",
          "data": {
            "text/plain": [
              "2239"
            ]
          },
          "metadata": {},
          "execution_count": 294
        }
      ],
      "source": [
        "len(groups)"
      ]
    },
    {
      "cell_type": "markdown",
      "metadata": {
        "id": "mEM_02gl2GcP"
      },
      "source": [
        "Here are the first 10 groups"
      ]
    },
    {
      "cell_type": "code",
      "execution_count": null,
      "metadata": {
        "colab": {
          "base_uri": "https://localhost:8080/"
        },
        "id": "RDbak2eZwrrz",
        "outputId": "d54b192b-a57e-4fe5-87d9-9bad035ae809"
      },
      "outputs": [
        {
          "output_type": "stream",
          "name": "stdout",
          "text": [
            "Вреднување и тестирање на софтверот-2016/2017/Z\n",
            "Сервисно ориентирани архитектури - 2009/2010 - Зимски - 4год\n",
            "Компјутерски мрежи и безбедност - СГ, ИМ, ММ, ДС - 2022/2023/Z\n",
            "Виртуелизирани податочни центри-2019/2020/Z\n",
            "Објектно и визуелно програмирање - 4 годишни - 2008/2009 - Летен семестар\n",
            "Софтверски квалитет и тестирање-2016/2017/L\n",
            "Современи компјутерски системи - 2011/2012 - Зимски - 4 год\n",
            "Психологија на училишна возраст-2022/2023/L\n",
            "Социјални мрежи и медиуми-2023/2024/Z\n",
            "Алгоритми и податочни структури-2013/2014/Z\n"
          ]
        }
      ],
      "source": [
        "for i,key in enumerate(groups):\n",
        "  if i < 10:\n",
        "    print(key)"
      ]
    },
    {
      "cell_type": "code",
      "execution_count": null,
      "metadata": {
        "colab": {
          "base_uri": "https://localhost:8080/"
        },
        "id": "elHvlQ1wz0vp",
        "outputId": "2ca86289-2149-45e5-d987-bf68dad1fae7"
      },
      "outputs": [
        {
          "output_type": "stream",
          "name": "stdout",
          "text": [
            "Сервисно ориентирани архитектури - 2009/2010 - Зимски - 4год\n",
            "Сервисно ориентирани архитектури - 2009/2010 - Зимски - 4год\n",
            "Објектно и визуелно програмирање - 4 годишни - 2008/2009 - Летен семестар\n",
            "Современи компјутерски системи - 2011/2012 - Зимски - 4 год\n",
            "Современи компјутерски системи - 2011/2012 - Зимски - 4 год\n",
            "Алгоритми и податочни структури-2013/2014/Z\n",
            "Алгоритми и податочни структури-2013/2014/Z\n",
            "Калкулус 2 - 2011/2012 - Зимски - 4 год\n",
            "Калкулус 2 - 2011/2012 - Зимски - 4 год\n",
            "Современи компјутерски системи - 2009/2010 - Зимски - 4год\n"
          ]
        },
        {
          "output_type": "execute_result",
          "data": {
            "text/plain": [
              "701"
            ]
          },
          "metadata": {},
          "execution_count": 296
        }
      ],
      "source": [
        "j = 0\n",
        "past_courses = set()\n",
        "for elem in groups:\n",
        "  for i in range(2009, 2015):\n",
        "    if str(i) in elem:\n",
        "      past_courses.add(elem)\n",
        "      if j < 10:\n",
        "        print(elem)\n",
        "        j+=1\n",
        "\n",
        "len(past_courses)"
      ]
    },
    {
      "cell_type": "markdown",
      "metadata": {
        "id": "Q1VKMeDQ4WUc"
      },
      "source": [
        "There are 701 course from 2008 to 2015 that are irrelevant. There could be more irrelevant courses depending on which year we want to set as the starting year from which we choose all the courses."
      ]
    },
    {
      "cell_type": "markdown",
      "metadata": {
        "id": "OvNYgV2H49db"
      },
      "source": [
        "Defining a dataset for the users which have Role = Student"
      ]
    },
    {
      "cell_type": "markdown",
      "metadata": {
        "id": "v06sIncflbsl"
      },
      "source": [
        "#Groups with missing values"
      ]
    },
    {
      "cell_type": "markdown",
      "metadata": {
        "id": "u2V8-vwkaao5"
      },
      "source": [
        "##Groups that have no year attached to them"
      ]
    },
    {
      "cell_type": "code",
      "execution_count": null,
      "metadata": {
        "id": "lq_QJBOYAhom"
      },
      "outputs": [],
      "source": [
        "no_year_groups = set()\n",
        "for group in groups:\n",
        "  in_if = False\n",
        "  for year in range(2008,2025):\n",
        "    if str(year) in group or str(year)[-2:] in group:\n",
        "      in_if = True\n",
        "  if not in_if:\n",
        "    no_year_groups.add(group)"
      ]
    },
    {
      "cell_type": "code",
      "execution_count": null,
      "metadata": {
        "colab": {
          "base_uri": "https://localhost:8080/"
        },
        "id": "Dveak_hoYCrJ",
        "outputId": "665195a9-c27b-4fd2-ffcb-cbb91b67dea6"
      },
      "outputs": [
        {
          "output_type": "execute_result",
          "data": {
            "text/plain": [
              "{'Algorithms and data structures',\n",
              " 'Microsoft MVC',\n",
              " 'Test',\n",
              " 'VI-SEEM test course',\n",
              " 'Аналитика на големи податоци',\n",
              " 'ЕТЕСТ Тест',\n",
              " 'ИКТ во образование – експериментален курс',\n",
              " 'ИКТ во образованието - експериментален курс',\n",
              " 'Интеракција човек-компјутер (втор циклус)',\n",
              " 'Консултации',\n",
              " 'ННС',\n",
              " 'Напредни теми од вештачка интелигенција и машинско учење',\n",
              " 'Пишување и презентирање на научен труд',\n",
              " 'Прекалкулус',\n",
              " 'Препрограмирање',\n",
              " 'Студентски информативен центар',\n",
              " 'Студентски информативен центар - втор циклус',\n",
              " 'УПРАВА',\n",
              " 'ФИНКИ'}"
            ]
          },
          "metadata": {},
          "execution_count": 298
        }
      ],
      "source": [
        "no_year_groups"
      ]
    },
    {
      "cell_type": "markdown",
      "metadata": {
        "id": "2p1X8hJLad8a"
      },
      "source": [
        "Clearing away conflicts that can emerge from these no year groups"
      ]
    },
    {
      "cell_type": "markdown",
      "metadata": {
        "id": "VGqa_vgFiWhj"
      },
      "source": [
        "##get_students__by_course() implementation"
      ]
    },
    {
      "cell_type": "code",
      "execution_count": null,
      "metadata": {
        "colab": {
          "base_uri": "https://localhost:8080/"
        },
        "id": "70Hqfzx_1LJL",
        "outputId": "56d0e9db-b1d2-4aa8-cd03-9d0b8c090bd0"
      },
      "outputs": [
        {
          "output_type": "execute_result",
          "data": {
            "text/plain": [
              "array(['Student', 'Teacher', 'Non-editing teacher'], dtype=object)"
            ]
          },
          "metadata": {},
          "execution_count": 299
        }
      ],
      "source": [
        "df[\"Roles\"].unique()"
      ]
    },
    {
      "cell_type": "code",
      "execution_count": null,
      "metadata": {
        "id": "OtWHzUVVYSFn"
      },
      "outputs": [],
      "source": [
        "#get all the students with that course name and print them\n",
        "def get_students__by_course(course, neighbours= False, count=2, num = 4, student=True, debug=True):\n",
        "  students = []\n",
        "  for index, row in df.iterrows():\n",
        "      if student and  row['Roles']==\"Student\":\n",
        "        pass\n",
        "      elif not student and  row['Roles']==\"Teacher\":\n",
        "        pass\n",
        "      else:continue\n",
        "      courses= row['Courses']\n",
        "      for c in courses.split(\"@\"):\n",
        "        if c == course:\n",
        "          students.append(row)\n",
        "\n",
        "  m = min(len(students), count)\n",
        "  if student:\n",
        "    if debug:\n",
        "      print(f\"Count students: {len(students)}\")\n",
        "  else:\n",
        "    if debug:\n",
        "      print(f\"Count professors: {len(students)}\")\n",
        "\n",
        "  for s in students[0:m]:\n",
        "      if debug:\n",
        "        if student:\n",
        "          print(f\"Name: {s['Names']}, Courses: {s['Courses'].split('@')}\")\n",
        "        if not student:\n",
        "          print(f\"{s['Names']}\")\n",
        "\n",
        "      if student:\n",
        "        courses = s['Courses'].split('@')\n",
        "        if neighbours:\n",
        "          ind = courses.index(course)\n",
        "          start = max(0, ind-num)\n",
        "          end = min(ind+num, len(courses))\n",
        "          for c in courses[start:ind]:\n",
        "            if debug:\n",
        "              print(f\"\\t{c}\")\n",
        "          if debug:\n",
        "            print(f\"------->{course}\")\n",
        "          for c in courses[ind+1:end]:\n",
        "            if debug:\n",
        "              print(f\"\\t{c}\")\n",
        "  if student:\n",
        "    return len(students)"
      ]
    },
    {
      "cell_type": "code",
      "execution_count": null,
      "metadata": {
        "colab": {
          "base_uri": "https://localhost:8080/"
        },
        "id": "yoLxj8b1Bzew",
        "outputId": "b4b8f8c3-caab-420d-ff23-c1affba0c411"
      },
      "outputs": [
        {
          "output_type": "stream",
          "name": "stdout",
          "text": [
            "Count students: 3\n",
            "Name: Арсова Ангела, Courses: ['Консултации', 'Студентски информативен центар', 'Алгоритми и податочни структури-2023/2024/Z', 'Дискретна математика 2-2022/2023/L', 'Алгоритми и податочни структури-2022/2023/Z', 'Дискретна математика 2-2021/2022/L', 'Алгоритми и податочни структури-2021/2022/Z', 'Дипломска работа-2020/2021/L', 'Дискретна математика 2-2020/2021/L', 'Алгоритми и податочни структури-2020/2021/Z', 'Дипломска работа-2019/2020/L', 'Дискретна математика 2-2019/2020/L', 'Оперативни системи-2019/2020/L', 'Алгоритми и податочни структури-2019/2020/Z', 'Дизајн на образовен софтвер-2019/2020/Z', 'Географски информациски системи 2018-2019', 'Дискретна математика 2-2018/2019/L', 'Оперативни системи-2018/2019/L', 'Учење на далечина-2018/2019/L', 'Алгоритми и податочни структури -2018/2019/Z', 'Бази на податоци - ГВ - 2018/2019/Z', 'Интерактивни апликации-2018/2019/Z', 'Мрежи од следната генерација-2018/2019/Z', 'Напреден веб дизајн-2018/2019/Z', 'Вовед во когнитивни науки-2017/2018/L', 'Дискретна математика 2-2017/2018/L', 'е-Влада-2017/2018/L', 'Концепти на информатичко општество-2017/2018/L', 'Оперативни системи-2017/2018/L', 'Софтверско инженерство 2017/2018 - Летен - ДЃ,ЃМ', 'Алгоритми и податочни структури -2017/2018/Z', 'Анализа и дизајн на ИС-2017/2018/Z', 'Бази на податоци - ГВ - 2017/2018/Z', 'Компјутерски подржано производство 2017-2018', 'Системи на знаење-2017/2018/Z', 'Системска анализа и дизајн 2017-2018', 'Дискретна математика 2-2016/2017/L', 'Електронска и мобилна трговија-2016/2017/L', 'Оперативни системи-2016/2017/L', 'Софтверско инженерство 2016/2017 - Летен - ДЃ,ЃМ', 'Алгоритми и податочни структури -2016/2017/Z', 'Компјутерска етика-2016/2017/Z', 'Менаџмент на информациски системи-2016/2017/Z', 'Системи на знаење-2016/2017/Z', 'Управување со техничка поддршка-2016/2017/Z', 'Дискретна математика 2-2015/2016/L', 'Електронска и мобилна трговија-2015/2016/L', 'Компјутерски Kомпоненти 2015-2016', 'Оперативни системи-2015/2016/L', 'Софтверско инженерство 2015/2016 - Летен - КЗ', 'Алгоритми и податочни структури -2015/2016/Z', 'Иновации во ИКТ-2015/2016/Z', 'Интерактивни апликации-2015/2016/Z', 'Компјутерски мрежи-2015/2016/Z', 'Менаџмент на информациски системи-2015/2016/Z', 'Системи на знаење-2015/2016/Z', 'ИКТ во образованието - експериментален курс', 'ИКТ во образованието-2014/2015/L', 'Објектно-ориентирано програмирање-2014/2015/L', 'Основи на Веб дизајн-2014/2015/L', 'Дискретна математика 2-2014/2015/L', 'Интерактивни апликации-2014/2015/Z', 'ИТ системи за учење-2014/2015/Z', 'Маркетинг-2014/2015/Z', 'Структурно програмирање -2014/2015/Z', 'Бизнис и менаџмент -2013/2014/L', 'Дискретна математика 2 / Discrete Math 2, 2013/2014/L', 'Објектно-ориентирано програмирање-2013/2014/L', 'Основи на Веб дизајн-2013/2014/L', 'Препрограмирање', 'Вовед во информатика-2013/2014/Z', 'Дискретна математика 1-2013/2014/Z , Discrete Mathematics 1-2013/2014/W', 'Професионални вештини-2013/2014/Z', 'Структурно програмирање -2013/2014/Z']\n",
            "\tАлгоритми и податочни структури -2015/2016/Z\n",
            "\tИновации во ИКТ-2015/2016/Z\n",
            "\tИнтерактивни апликации-2015/2016/Z\n",
            "\tКомпјутерски мрежи-2015/2016/Z\n",
            "\tМенаџмент на информациски системи-2015/2016/Z\n",
            "\tСистеми на знаење-2015/2016/Z\n",
            "------->ИКТ во образованието - експериментален курс\n",
            "\tИКТ во образованието-2014/2015/L\n",
            "\tОбјектно-ориентирано програмирање-2014/2015/L\n",
            "\tОснови на Веб дизајн-2014/2015/L\n",
            "\tДискретна математика 2-2014/2015/L\n",
            "\tИнтерактивни апликации-2014/2015/Z\n",
            "Count students: 19\n",
            "Name: Андоновска Фросина, Courses: ['Консултации', 'Електронска и мобилна трговија-2019/2020/L', 'Веб програмирање-2019/2020/Z', 'Дизајн на образовен софтвер-2019/2020/Z', 'Компјутерска етика-2019/2020/Z', 'Менаџмент информациски системи-2019/2020/Z', 'Безжични и мобилни системи-2018/2019/L', 'Безжични мултимедиски системи-2018/2019/L', 'Интернет технологии-2018/2019/L', 'Компјутерски компоненти 2018-2019', 'Теорија на сообраќај-2018/2019/L', 'Учење на далечина-2018/2019/L', 'Алгоритми и податочни структури -2018/2019/Z', 'Анализа и дизајн на ИС-2018/2019/Z', 'Вовед во интернет-2018/2019/Z', 'Компјутерска етика-2018/2019/Z', 'Менаџмент информациски системи-2018/2019/Z', 'Безжични и мобилни системи-2017/2018/L', 'Дигитални библиотеки-2017/2018/L', 'Електронска и мобилна трговија-2017/2018/L', 'Компјутерски компоненти 2017-2018', 'Концепти на информатичко општество-2017/2018/L', 'Оперативни системи-2017/2018/L', 'Алгоритми и податочни структури -2017/2018/Z', 'Бази на податоци - СК,КТ,ГМ - 2017/2018/Z', 'Компјутерска етика-2017/2018/Z', 'Менаџмент на информациски системи-2017/2018/Z', 'Методологија на истражувањето во ИКТ-2017/2018/Z', 'Системи на знаење-2017/2018/Z', 'Бизнис и менаџмент -2016/2017/L', 'Вовед во когнитивни науки-2016/2017/L', 'Географски информациски системи 2016-2017', 'е-Влада-2016/2017/L', 'Компјутерски компоненти 2016-2017', 'Оперативни системи-2016/2017/L', 'Алгоритми и податочни структури -2016/2017/Z', 'Анализа на софтверски барања-2016/2017/Z', 'Бази на податоци - ГВ - 2016/2017/Z', 'Бази на податоци - СККТ - 2016/2017/Z', 'Менаџмент на информациски системи-2016/2017/Z', 'Оптички мрежи и технологии-2016/2017/Z', 'Системи на знаење-2016/2017/Z', 'Деловна пракса-2015/2016/L', 'Моделирање на бизнис процеси-2015/2016/L', 'Оперативни системи-2015/2016/L', 'Управување на ИКТ проекти-2015/2016/L', 'Алгоритми и податочни структури -2015/2016/Z', 'Бази на податоци - ДД,СК,КТ - 2015/2016/Z', 'Компјутерски мрежи-2015/2016/Z', 'Менаџмент на информациски системи-2015/2016/Z', 'Мрежи од следната генерација-2015/2016/Z', 'Системи на знаење-2015/2016/Z', 'Интернет технологии-2014/2015/L', 'Калкулус 2-2014/2015/L', 'Објектно-ориентирано програмирање-2014/2015/L', 'Дискретна математика 2-2014/2015/L', 'Алгоритми и податочни структури -2014/2015/Z', 'Дискретна математика 1-2014/2015/Z', 'Интерактивни апликации-2014/2015/Z', 'Калкулус 1-2014/2015/Z', 'Дискретна математика 2 / Discrete Math 2, 2013/2014/L', 'Калкулус 2-2013/2014/L', 'Објектно-ориентирано програмирање-2013/2014/L', 'Основи на Веб дизајн-2013/2014/L', 'Прекалкулус', 'Дискретна математика 1-2013/2014/Z , Discrete Mathematics 1-2013/2014/W', 'Интерактивни апликации-2013/2014/Z', 'Менаџмент и маркетинг (ФИНКИ)-2013/2014/Z', 'Структурно програмирање -2013/2014/Z', 'Веб дизајн-2012/2013/L', 'Дискретна математика 2-2012/2013/L', 'Калкулус 2-2012/2013/L', 'Напреден развој на софтвер-2012/2013/L', 'Дискретна математика 1-2012/2013/Z', 'Калкулус 1-2012/2013/Z', 'Концепти за развој на софтвер-2012/2013/Z', 'Основи на софтверско инженерство-2012/2013/Z', 'Професионални вештини-2012/2013/Z']\n",
            "\tИнтерактивни апликации-2014/2015/Z\n",
            "\tКалкулус 1-2014/2015/Z\n",
            "\tДискретна математика 2 / Discrete Math 2, 2013/2014/L\n",
            "\tКалкулус 2-2013/2014/L\n",
            "\tОбјектно-ориентирано програмирање-2013/2014/L\n",
            "\tОснови на Веб дизајн-2013/2014/L\n",
            "------->Прекалкулус\n",
            "\tДискретна математика 1-2013/2014/Z , Discrete Mathematics 1-2013/2014/W\n",
            "\tИнтерактивни апликации-2013/2014/Z\n",
            "\tМенаџмент и маркетинг (ФИНКИ)-2013/2014/Z\n",
            "\tСтруктурно програмирање -2013/2014/Z\n",
            "\tВеб дизајн-2012/2013/L\n",
            "Count students: 5\n",
            "Name: student student1, Courses: ['ФИНКИ', 'Консултации', 'Test course - 2019/2020/L', 'Економија за ИКТ инженери-2022/2023/Z', 'Бизнис и менаџмент-2022/2023/Z', 'Вовед во науката за податоци-2022/2023/Z', 'Интернет на нештата-2022/2023/Z', 'Е-влада-2021/2022/L', 'Вовед во науката за податоци-2021/2022/Z', 'Економија за ИКТ инженери-2021/2022/Z', 'Методологија на истражувањето во ИКТ 2021/2022', 'Мобилни платформи и програмирање-2021/2022/Z', 'Структурно програмирање-2021/2022/Z', 'Computer Architecture and Organization-2020/2021/L', 'Бизнис статистика-2020/2021/L', 'Калкулус 2-2020/2021/L', 'Веб програмирање-2020/2021/Z', 'Вовед во компјутерските науки-2020/2021/Z', 'Калкулус 1-2020/2021/Z', 'Персонални и ад хок мрежи-2020/2021/Z', 'Computer Architecture and Organization-2019/2020/L', 'Архитектура и организација на компјутери-2019/2020/L', 'Бизнис статистика-2019/2020/L', 'Вештачка интелигенција-2019/2020/L', 'Дизајн на компјутерски мрежи-2019/2020/L', 'Дискретна математика 2-2019/2020/L', 'Дискретна математика-2019/2020/L', 'Електронска и мобилна трговија-2019/2020/L', 'Калкулус 2-2019/2020/L', 'Калкулус-2019/2020/L', 'Компјутерска анимација-2019/2020/L', 'Медиуми и комуникации-2019/2020/L', 'Мобилни апликации-2019/2020/L', 'Модерна физика-2019/2020/L', 'Објектно ориентирана анализа и дизајн-2019/2020/L', 'Оперативни системи-2019/2020/L', 'Софтверско инженерство-2019/2020/L', 'Физика-2019/2020/Z']\n",
            "------->ФИНКИ\n",
            "\tКонсултации\n",
            "\tTest course - 2019/2020/L\n",
            "\tЕкономија за ИКТ инженери-2022/2023/Z\n",
            "\tБизнис и менаџмент-2022/2023/Z\n",
            "\tВовед во науката за податоци-2022/2023/Z\n",
            "Count students: 3\n",
            "Name: Webadmin FINKI, Courses: ['Консултации', 'Студентски информативен центар', 'Студентски информативен центар - втор циклус']\n",
            "\tКонсултации\n",
            "\tСтудентски информативен центар\n",
            "------->Студентски информативен центар - втор циклус\n",
            "Count students: 1\n",
            "Name: Кирил Перунковски, Courses: ['Консултации', 'Пишување и презентирање на научен труд', 'Пишување и презентирање на научен труд - 2020/2021/Z']\n",
            "\tКонсултации\n",
            "------->Пишување и презентирање на научен труд\n",
            "\tПишување и презентирање на научен труд - 2020/2021/Z\n",
            "Count students: 2\n",
            "Name: Бидиков Јован, Courses: ['Консултации', 'Студентски информативен центар', 'Бази на податоци - ВА - 2023/2024/Z', 'Бази на податоци-2023/2024/Z', 'Веројатност и статистика-2023/2024/Z', 'Микропроцесорски системи-2023/2024/Z', 'Веројатност и статистика-2022/2023/Z', 'Микропроцесорски системи-2022/2023/Z', 'Бази на податоци-2021/2022/Z', 'Веројатност и статистика-2021/2022/Z', 'Микропроцесорски системи-2021/2022/Z', 'Дипломска работа-2020/2021/L', 'Мобилни апликации-2020/2021/L', 'Мрежна безбедност-2020/2021/L', 'Претприемништво-2020/2021/L', 'Управување со ИКТ проекти-2020/2021/L', 'Бази на податоци-2020/2021/Z', 'Веројатност и статистика-2020/2021/Z', 'Менаџмент информациски системи-2020/2021/Z', 'Микропроцесорски системи-2020/2021/Z', 'Напредно програмирање-2020/2021/Z', 'Безбедност на компјутерски системи-2019/2020/L', 'Визуелно програмирање-2019/2020/L', 'Дизајн на алгоритми-2019/2020/L', 'Напредни бази на податоци -2019/2020/L', 'Паралелно програмирање-2019/2020/L', 'Бази на податоци - СК,КТ,ГМ - 2019/2020/Z', 'Веројатност и статистика / Probability and Statistics - 2019/2020/Z', 'Менаџмент информациски системи-2019/2020/Z', 'Микропроцесорски системи-2019/2020/Z', 'Напредно програмирање-2019/2020/Z', 'Администрирање на ИТ системи-2018/2019/L', 'Алгоритми и сложеност-2018/2019/L', 'Визуелно програмирање-2018/2019/L', 'Компјутерски компоненти 2018-2019', 'Паралелно програмирање-2018/2019/L', 'Databases - 2018/2019/Z', 'Веројатност и статистика-2018/2019/Z', 'Менаџмент информациски системи-2018/2019/Z', 'Микропроцесорски системи-2018/2019/Z', 'Напредно програмирање-2018/2019/Z', 'Визуелно програмирање-2017/2018/L', 'Вовед во когнитивни науки-2017/2018/L', 'Дизајн на компјутерски мрежи-2017/2018/L', 'Интернет технологии-2017/2018/L', 'Мрежна безбедност-2017/2018/L', 'Databases - 2017/2018/Z', 'Администрација на мрежни сервиси-2017/2018/Z', 'Веројатност и статистика-2017/2018/Z', 'Менаџмент на информациски системи-2017/2018/Z', 'Микропроцесорски системи-2017/2018/Z', 'Operating systems - 2016/2017- Summer', 'Бизнис и менаџмент -2016/2017/L', 'Географски информациски системи 2016-2017', 'е-Влада-2016/2017/L', 'Компјутерски компоненти 2016-2017', 'Обработка на слика-2016/2017/L', 'Databases - 2016/2017/Z', 'Management Information Systems-2016/2017/W', 'Microprocessor Systems - 2016/2017/Z', 'Веројатност и статистика-2016/2017/Z', 'Вовед во интернет-2016/2017/Z', 'Менаџмент на информациски системи-2016/2017/Z', 'Микропроцесорски системи-2016/2017/Z', 'Operating systems - 2015/2016 - Summer', 'Безбедност на компјутерски системи-2015/2016/L', 'Интернет технологии-2015/2016/L', 'Оперативни системи-2015/2016/L', 'Роботика-2015/2016/L', 'Софтверско инженерство 2015/2016 - Летен - КЗ', 'Computer networks Winter semester 2015/16', 'Бази на податоци - ДД,СК,КТ - 2015/2016/Z', 'Веројатност и статистика-2015/2016/Z', 'Компјутерски мрежи-2015/2016/Z', 'Логичко и функционално програмирање-2015/2016/Z', 'Напредно програмирање-2015/2016/Z', 'Operating Systems - 2014/2015/S', 'Вештачка интелигенција-2014/2015/L', 'Интернет технологии-2014/2015/L', 'Оперативни системи-2014/2015/L', 'Случајни процеси-2014/2015/L', 'Софтверско Инженерство-2014/2015/L', 'Algorithms and data structures', 'Алгоритми и податочни структури -2014/2015/Z', 'Веројатност и статистика-2014/2015/Z/ Probability and Statistics', 'Логичко и функционално програмирање-2014/2015/Z', 'Напредно програмирање-2014/2015/Z', 'Дискретна математика 2 / Discrete Math 2, 2013/2014/L', 'Калкулус 2-2013/2014/L', 'Објектно-ориентирано програмирање-2013/2014/L', 'Основи на Веб дизајн-2013/2014/L', 'Вовед во информатика-2013/2014/Z', 'Дискретна математика 1-2013/2014/Z , Discrete Mathematics 1-2013/2014/W', 'Професионални вештини-2013/2014/Z', 'Структурно програмирање -2013/2014/Z']\n",
            "\tOperating Systems - 2014/2015/S\n",
            "\tВештачка интелигенција-2014/2015/L\n",
            "\tИнтернет технологии-2014/2015/L\n",
            "\tОперативни системи-2014/2015/L\n",
            "\tСлучајни процеси-2014/2015/L\n",
            "\tСофтверско Инженерство-2014/2015/L\n",
            "------->Algorithms and data structures\n",
            "\tАлгоритми и податочни структури -2014/2015/Z\n",
            "\tВеројатност и статистика-2014/2015/Z/ Probability and Statistics\n",
            "\tЛогичко и функционално програмирање-2014/2015/Z\n",
            "\tНапредно програмирање-2014/2015/Z\n",
            "\tДискретна математика 2 / Discrete Math 2, 2013/2014/L\n",
            "Count students: 0\n",
            "Count students: 0\n",
            "Count students: 0\n",
            "Count students: 22\n",
            "Name: Арсова Ангела, Courses: ['Консултации', 'Студентски информативен центар', 'Алгоритми и податочни структури-2023/2024/Z', 'Дискретна математика 2-2022/2023/L', 'Алгоритми и податочни структури-2022/2023/Z', 'Дискретна математика 2-2021/2022/L', 'Алгоритми и податочни структури-2021/2022/Z', 'Дипломска работа-2020/2021/L', 'Дискретна математика 2-2020/2021/L', 'Алгоритми и податочни структури-2020/2021/Z', 'Дипломска работа-2019/2020/L', 'Дискретна математика 2-2019/2020/L', 'Оперативни системи-2019/2020/L', 'Алгоритми и податочни структури-2019/2020/Z', 'Дизајн на образовен софтвер-2019/2020/Z', 'Географски информациски системи 2018-2019', 'Дискретна математика 2-2018/2019/L', 'Оперативни системи-2018/2019/L', 'Учење на далечина-2018/2019/L', 'Алгоритми и податочни структури -2018/2019/Z', 'Бази на податоци - ГВ - 2018/2019/Z', 'Интерактивни апликации-2018/2019/Z', 'Мрежи од следната генерација-2018/2019/Z', 'Напреден веб дизајн-2018/2019/Z', 'Вовед во когнитивни науки-2017/2018/L', 'Дискретна математика 2-2017/2018/L', 'е-Влада-2017/2018/L', 'Концепти на информатичко општество-2017/2018/L', 'Оперативни системи-2017/2018/L', 'Софтверско инженерство 2017/2018 - Летен - ДЃ,ЃМ', 'Алгоритми и податочни структури -2017/2018/Z', 'Анализа и дизајн на ИС-2017/2018/Z', 'Бази на податоци - ГВ - 2017/2018/Z', 'Компјутерски подржано производство 2017-2018', 'Системи на знаење-2017/2018/Z', 'Системска анализа и дизајн 2017-2018', 'Дискретна математика 2-2016/2017/L', 'Електронска и мобилна трговија-2016/2017/L', 'Оперативни системи-2016/2017/L', 'Софтверско инженерство 2016/2017 - Летен - ДЃ,ЃМ', 'Алгоритми и податочни структури -2016/2017/Z', 'Компјутерска етика-2016/2017/Z', 'Менаџмент на информациски системи-2016/2017/Z', 'Системи на знаење-2016/2017/Z', 'Управување со техничка поддршка-2016/2017/Z', 'Дискретна математика 2-2015/2016/L', 'Електронска и мобилна трговија-2015/2016/L', 'Компјутерски Kомпоненти 2015-2016', 'Оперативни системи-2015/2016/L', 'Софтверско инженерство 2015/2016 - Летен - КЗ', 'Алгоритми и податочни структури -2015/2016/Z', 'Иновации во ИКТ-2015/2016/Z', 'Интерактивни апликации-2015/2016/Z', 'Компјутерски мрежи-2015/2016/Z', 'Менаџмент на информациски системи-2015/2016/Z', 'Системи на знаење-2015/2016/Z', 'ИКТ во образованието - експериментален курс', 'ИКТ во образованието-2014/2015/L', 'Објектно-ориентирано програмирање-2014/2015/L', 'Основи на Веб дизајн-2014/2015/L', 'Дискретна математика 2-2014/2015/L', 'Интерактивни апликации-2014/2015/Z', 'ИТ системи за учење-2014/2015/Z', 'Маркетинг-2014/2015/Z', 'Структурно програмирање -2014/2015/Z', 'Бизнис и менаџмент -2013/2014/L', 'Дискретна математика 2 / Discrete Math 2, 2013/2014/L', 'Објектно-ориентирано програмирање-2013/2014/L', 'Основи на Веб дизајн-2013/2014/L', 'Препрограмирање', 'Вовед во информатика-2013/2014/Z', 'Дискретна математика 1-2013/2014/Z , Discrete Mathematics 1-2013/2014/W', 'Професионални вештини-2013/2014/Z', 'Структурно програмирање -2013/2014/Z']\n",
            "\tМаркетинг-2014/2015/Z\n",
            "\tСтруктурно програмирање -2014/2015/Z\n",
            "\tБизнис и менаџмент -2013/2014/L\n",
            "\tДискретна математика 2 / Discrete Math 2, 2013/2014/L\n",
            "\tОбјектно-ориентирано програмирање-2013/2014/L\n",
            "\tОснови на Веб дизајн-2013/2014/L\n",
            "------->Препрограмирање\n",
            "\tВовед во информатика-2013/2014/Z\n",
            "\tДискретна математика 1-2013/2014/Z , Discrete Mathematics 1-2013/2014/W\n",
            "\tПрофесионални вештини-2013/2014/Z\n",
            "\tСтруктурно програмирање -2013/2014/Z\n",
            "Count students: 0\n",
            "Count students: 1\n",
            "Name: Мерџан Бајрами, Courses: ['Консултации', 'Студентски информативен центар', 'Современи интелигентни системи-2022/2023/Z', 'Напредни теми од вештачка интелигенција и машинско учење']\n",
            "\tКонсултации\n",
            "\tСтудентски информативен центар\n",
            "\tСовремени интелигентни системи-2022/2023/Z\n",
            "------->Напредни теми од вештачка интелигенција и машинско учење\n",
            "Count students: 8\n",
            "Name: Александар Ристоски, Courses: ['ННС', 'Консултации', 'Студентски информативен центар', 'Апсолвенти ФИНКИ-2022/2023/Z', 'Апсолвенти ФИНКИ-2023/2024/Z', 'Databases-2023/2024/Z', 'Администрација на системи-2023/2024/Z', 'Бази на податоци-2023/2024/Z', 'Веб програмирање-2023/2024/Z', 'Линеарна алгебра и примени-2023/2024/Z', 'Програмирање на видео игри-2023/2024/Z', 'Рударење на масивни податоци-2023/2024/Z', 'Вештачка интелигенција-2022/2023/L', 'Дигитално процесирање на слика-2022/2023/L', 'Дизајн на интеракцијата човек-компјутер-2022/2023/L', 'Електронска и мобилна трговија-2022/2023/L', 'Машинско учење-2022/2023/L', 'Оперативни системи-2022/2023/L', 'Основи на роботиката-2022-23/Z', 'Бази на податоци - СК-КТ-ГМ-СГ-2022/2023/Z', 'Веб програмирање-2022/2023/Z', 'Вовед во науката за податоци-2022/2023/Z', 'Интернет програмирање на клиентска страна-2022/2023/Z', 'Линеарна алгебра и примени-2022/2023/Z', 'Вештачка интелигенција-2021-22/L', 'Дизајн на алгоритми-2021/2022/L', 'Калкулус-2021/2022/L', 'Оперативни системи-2021/2022/L', 'Софтверско инженерство-2021/2022/L', 'Алгоритми и податочни структури-2021/2022/Z', 'Вовед во науката за податоци-2021/2022/Z', 'Интернет програмирање-2021/2022/Z', 'Компјутерски мрежи и безбедност - АМ, СФ, АД - 2021/2022/Z', 'Напредно програмирање-2021/2022/Z', 'Бизнис статистика-2020/2021/L', 'Маркетинг-2020/2021/L', 'Објектно-ориентирано програмирање-2020/2021/L', 'Оперативни системи-2020/2021/L', 'Основи на Веб дизајн-2020/2021/L', 'Дискретна математика-2020/2021/Z', 'Економија за ИКТ инженери-2020/2021/Z', 'Интернет програмирање на клиентска страна-2020/2021/Z', 'Професионални вештини-2020/2021/Z', 'Структурно програмирање-2020/2021/Z', 'Архитектура и организација на компјутери-2019/2020/L', 'Бизнис статистика-2019/2020/L', 'Маркетинг-2019/2020/L', 'Објектно-ориентирано програмирање-2019/2020/L', 'Основи на Веб дизајн-2019/2020/L', 'Вовед во компјутерските науки-2019/2020/Z', 'Дискретна математика-2019/2020/Z', 'Економија за ИКТ инженери-2019/2020/Z', 'Професионални вештини-2019/2020/Z', 'Структурно програмирање-2019/2020/Z', 'Архитектура и организација на компјутери-2018/2019/L', 'Бизнис статистика-2018/2019/L', 'Маркетинг-2018/2019/L', 'Објектно-ориентирано програмирање-2018/2019/L', 'Основи на Веб дизајн-2018/2019/L', 'Бизнис и менаџмент-2018/2019/Z', 'Вовед во компјутерските науки-2018/2019/Z', 'Дискретна математика-2018/2019/Z', 'Професионални вештини-2018/2019/Z', 'Структурно програмирање-2018/2019/Z']\n",
            "------->ННС\n",
            "\tКонсултации\n",
            "\tСтудентски информативен центар\n",
            "\tАпсолвенти ФИНКИ-2022/2023/Z\n",
            "\tАпсолвенти ФИНКИ-2023/2024/Z\n",
            "\tDatabases-2023/2024/Z\n",
            "Count students: 0\n",
            "Count students: 2\n",
            "Name: Златков Борис, Courses: ['Консултации', 'Студентски информативен центар', 'Бази на податоци - СК-КТ-ГМ-СГ-2022/2023/Z', 'Алгоритми и податочни структури-2022/2023/Z', 'Дизајн и архитектура на софтвер-2022/2023/Z', 'Интернет технологии - ГА,МК - 2021/2022/L', 'Оперативни системи-2021/2022/L', 'Софтверско инженерство-2021/2022/L', 'Учење на далечина-2021/2022/L', 'Бази на податоци - ГВ - 2021/2022/Z', 'Бази на податоци - ГВ - 2020/2021/Z', 'Софтверско инженерство 2018/2019 - Летен - ДЃ,ЃМ,КТ', 'Математика 1-2018/2019/Z', 'Мобилни апликации-2017/2018/L', 'Софтверско инженерство 2017/2018 - Летен - ДЃ,ЃМ', 'Бази на податоци - ВА - 2017/2018/Z', 'Microsoft MVC', 'Софтверско инженерство 2016/2017 - Летен - ДЃ,ЃМ', 'Софтверско инженерство 2015/2016 - Летен - КЗ', 'Бази на податоци - ГВ - 2015/2016/Z', 'Софтверско Инженерство-2014/2015/L', 'Дискретни структури 2 - 2011/2012 - Летен - 4 год', 'Калкулус 2 - 2011/2012 - Летен - 3 и 4 год', 'Компјутерски архитектури - 2011/2012 - Летен - 3 и 4 год', 'Објектно и визуелно програмирање - 2011/2012 - Летен - 3 и 4 год', 'Вовед во ИТ - 2011/2012 - Зимски - 4 год', 'Дискретни структури 3 - 2011/2012 - Зимски - 3 и 4 год', 'Менаџмент во ИКТ - 2011/2012 - Зимски - 3 и 4 год', 'Основи на програмирање - 2011/2012 - Зимски - 3 и 4 год', 'Архитектура на компјутери - 2010/2011 - Летен - 3 и 4 год', 'Дискретни структури 2 - 2010/2011 - Летен - 4 год', 'Калкулус 2 - 2010/2011 - Летен - 3 и 4 год', 'Објектно и визуелно програмирање - 2010/2011 - Летен - 4 год', 'Англиски јазик - 2009/2010 - Зимски - 4год', 'Дискретни структури (3Г) - 2009/2010 - Зимски - 4год', 'Дискретни структури 1 - 2010/2011 - Зимски - 4 год', 'Основи на програмирање - 2010/2011 - Зимски - 4 год', 'Формални јазици и автомати - 2010/2011 - Зимски - 4 год', 'Англиски јазик 2 - 2009/2010 - Летен - 3 и 4год', 'Вовед во ИТ - 2009/2010 - Летен - 3 и 4 год', 'Калкулус 1 - 2009/2010 - Зимски - 4год', 'Основи на програмирање - 2009/2010 - Зимски - 4год']\n",
            "\tБази на податоци - ГВ - 2020/2021/Z\n",
            "\tСофтверско инженерство 2018/2019 - Летен - ДЃ,ЃМ,КТ\n",
            "\tМатематика 1-2018/2019/Z\n",
            "\tМобилни апликации-2017/2018/L\n",
            "\tСофтверско инженерство 2017/2018 - Летен - ДЃ,ЃМ\n",
            "\tБази на податоци - ВА - 2017/2018/Z\n",
            "------->Microsoft MVC\n",
            "\tСофтверско инженерство 2016/2017 - Летен - ДЃ,ЃМ\n",
            "\tСофтверско инженерство 2015/2016 - Летен - КЗ\n",
            "\tБази на податоци - ГВ - 2015/2016/Z\n",
            "\tСофтверско Инженерство-2014/2015/L\n",
            "\tДискретни структури 2 - 2011/2012 - Летен - 4 год\n",
            "Count students: 1\n",
            "Name: Весела Трајкоска, Courses: ['УПРАВА', 'ННС', 'ФИНКИ', 'Консултации', 'Студентски информативен центар', 'Апсолвенти ФИНКИ-2022/2023/Z', 'Вовед во паметни градови-2023/2024/Z', 'Машинска визија - Machine Vision 2023-24', 'Програмирање на видео игри-2023/2024/Z', 'Вовед во когнитивни науки-2022/2023/L', 'Интегрирани системи-2022/2023/L', 'Машинско учење-2022/2023/L', 'Неструктурирани бази на податоци-2022/2023/L', 'Управување на ИКТ проекти-2022/2023/L', 'Тимски проект-2022/2023/Z', 'Introduction to Data Science-2022/2023/Z', 'Вовед во биоинформатиката-2022/2023/Z', 'Вовед во науката за податоци-2022/2023/Z', 'Линеарна алгебра и примени-2022/2023/Z', 'Методологија на истражувањето во ИКТ 2022/2023', 'Software quality and testing-2021/2022/L', 'Агентно-базирани системи-2021/2022/L', 'Дизајн на интеракцијата човек-компјутер-2021/2022/L', 'Е-влада-2021/2022/L', 'Интегрирани системи-2021/2022/L', 'Оперативни системи-2021/2022/L', 'Databases-2021/2022/Z', 'Веројатност и статистика-2021/2022/Z', 'Дизајн и архитектура на софтвер-2021/2022/Z', 'Компјутерска етика-2021/2022/Z', 'Основи на роботика-2021/2022/Z', 'Анализа на софтверските барања-2020/2021/L', 'Вештачка интелигенција-2020/2021/L', 'Дизајн на алгоритми-2020/2021/L', 'Интернет технологии - ГА,МК - 2020/2021/L', 'Оперативни системи-2020/2021/L', 'Algorithms and Data Structures-2020/2021/Z', 'Computer Networks and Security-2020/2021/Z', 'Веројатност и статистика-2020/2021/Z', 'Интернет програмирање на клиентска страна-2020/2021/Z', 'Напредно програмирање-2020/2021/Z', 'Computer Architecture and Organization-2019/2020/L', 'Object Oriented Analysis and Design-2019/2020/L', 'Архитектура и организација на компјутери-2019/2020/L', 'Дискретна математика-2019/2020/L', 'Објектно-ориентирано програмирање-2019/2020/L', 'Основи на Веб дизајн-2019/2020/L', 'Professional skills-2019/2020/Z', 'Бизнис и менаџмент-2019/2020/Z', 'Вовед во компјутерските науки-2019/2020/Z', 'Калкулус-2019/2020/Z', 'Структурно програмирање-2019/2020/Z']\n",
            "------->УПРАВА\n",
            "\tННС\n",
            "\tФИНКИ\n",
            "\tКонсултации\n",
            "\tСтудентски информативен центар\n",
            "\tАпсолвенти ФИНКИ-2022/2023/Z\n",
            "Count students: 5576\n",
            "Name: Anil Cinar-Kapacuoglu, Courses: ['Консултации', 'Студентски информативен центар', 'Business 2023/2024/Z', 'Mathematics 1 / Calculus (foreign students) 2023/2024/Z', 'Introduction to Computer Science -2023/2024/Z', 'Professional skills 2023/2024/Z', 'Professional skills-2023/2024/Z', 'Structured programming 2023/2024 - English group', 'Бизнис и менаџмент-2023/2024/Z', 'Вовед во компјутерските науки-2023/2024/Z', 'Математика 1 / Mathematics 1-2023/2024/Z', 'Структурно програмирање-2023/2024/Z', 'Computer Architecture and Organization-2022/2023/L', 'Discrete Mathematics-2022/2023/L', 'Object Oriented Analysis and Design-2022/2023/L', 'Објектно-ориентирано програмирање-2022/2023/L', 'Основи на Веб дизајн-2022/2023/L', 'Professional skills-2022/2023/Z', 'Structural programming-2022/2023/Z', 'Бизнис и менаџмент-2022/2023/Z', 'Вовед во компјутерските науки-2022/2023/Z', 'Калкулус-2022/2023/Z']\n",
            "\tКонсултации\n",
            "------->Студентски информативен центар\n",
            "\tBusiness 2023/2024/Z\n",
            "\tMathematics 1 / Calculus (foreign students) 2023/2024/Z\n",
            "\tIntroduction to Computer Science -2023/2024/Z\n",
            "\tProfessional skills 2023/2024/Z\n",
            "\tProfessional skills-2023/2024/Z\n",
            "Count students: 3\n",
            "Name: Дамјан Ангеловски, Courses: ['Консултации', 'Аналитика на големи податоци', 'Виртуелизирани податочни центри-2019/2020/Z', 'Методи на статистичко заклучување-2019/2020/Z и Линеарни модели-2019/2020/L']\n",
            "\tКонсултации\n",
            "------->Аналитика на големи податоци\n",
            "\tВиртуелизирани податочни центри-2019/2020/Z\n",
            "\tМетоди на статистичко заклучување-2019/2020/Z и Линеарни модели-2019/2020/L\n",
            "Count students: 5998\n",
            "Name: Aaron Köndgen, Courses: ['Консултации', 'Машинска визија-Machine Vision 2022-23']\n",
            "------->Консултации\n",
            "\tМашинска визија-Machine Vision 2022-23\n"
          ]
        }
      ],
      "source": [
        "for g in no_year_groups:\n",
        "  get_students__by_course(g, True, 1, 6)"
      ]
    },
    {
      "cell_type": "markdown",
      "metadata": {
        "id": "FKIsrh52Emvg"
      },
      "source": [
        "Microsoft MVC -"
      ]
    },
    {
      "cell_type": "code",
      "execution_count": null,
      "metadata": {
        "colab": {
          "base_uri": "https://localhost:8080/"
        },
        "id": "Uaobplo9Z9ih",
        "outputId": "8875d87d-7a85-439b-aad4-df6eafb6ae95"
      },
      "outputs": [
        {
          "output_type": "stream",
          "name": "stdout",
          "text": [
            "Count students: 0\n"
          ]
        },
        {
          "output_type": "execute_result",
          "data": {
            "text/plain": [
              "0"
            ]
          },
          "metadata": {},
          "execution_count": 302
        }
      ],
      "source": [
        "get_students__by_course(\"Интеракција човек-компјутер (втор циклус)\", True, 10, 10)"
      ]
    },
    {
      "cell_type": "code",
      "execution_count": null,
      "metadata": {
        "colab": {
          "base_uri": "https://localhost:8080/"
        },
        "id": "PZFPiScEEmX1",
        "outputId": "34ccaa79-00f7-43e4-bc3a-2fc26fdd29cd"
      },
      "outputs": [
        {
          "output_type": "stream",
          "name": "stdout",
          "text": [
            "Count students: 2\n",
            "Name: Златков Борис, Courses: ['Консултации', 'Студентски информативен центар', 'Бази на податоци - СК-КТ-ГМ-СГ-2022/2023/Z', 'Алгоритми и податочни структури-2022/2023/Z', 'Дизајн и архитектура на софтвер-2022/2023/Z', 'Интернет технологии - ГА,МК - 2021/2022/L', 'Оперативни системи-2021/2022/L', 'Софтверско инженерство-2021/2022/L', 'Учење на далечина-2021/2022/L', 'Бази на податоци - ГВ - 2021/2022/Z', 'Бази на податоци - ГВ - 2020/2021/Z', 'Софтверско инженерство 2018/2019 - Летен - ДЃ,ЃМ,КТ', 'Математика 1-2018/2019/Z', 'Мобилни апликации-2017/2018/L', 'Софтверско инженерство 2017/2018 - Летен - ДЃ,ЃМ', 'Бази на податоци - ВА - 2017/2018/Z', 'Microsoft MVC', 'Софтверско инженерство 2016/2017 - Летен - ДЃ,ЃМ', 'Софтверско инженерство 2015/2016 - Летен - КЗ', 'Бази на податоци - ГВ - 2015/2016/Z', 'Софтверско Инженерство-2014/2015/L', 'Дискретни структури 2 - 2011/2012 - Летен - 4 год', 'Калкулус 2 - 2011/2012 - Летен - 3 и 4 год', 'Компјутерски архитектури - 2011/2012 - Летен - 3 и 4 год', 'Објектно и визуелно програмирање - 2011/2012 - Летен - 3 и 4 год', 'Вовед во ИТ - 2011/2012 - Зимски - 4 год', 'Дискретни структури 3 - 2011/2012 - Зимски - 3 и 4 год', 'Менаџмент во ИКТ - 2011/2012 - Зимски - 3 и 4 год', 'Основи на програмирање - 2011/2012 - Зимски - 3 и 4 год', 'Архитектура на компјутери - 2010/2011 - Летен - 3 и 4 год', 'Дискретни структури 2 - 2010/2011 - Летен - 4 год', 'Калкулус 2 - 2010/2011 - Летен - 3 и 4 год', 'Објектно и визуелно програмирање - 2010/2011 - Летен - 4 год', 'Англиски јазик - 2009/2010 - Зимски - 4год', 'Дискретни структури (3Г) - 2009/2010 - Зимски - 4год', 'Дискретни структури 1 - 2010/2011 - Зимски - 4 год', 'Основи на програмирање - 2010/2011 - Зимски - 4 год', 'Формални јазици и автомати - 2010/2011 - Зимски - 4 год', 'Англиски јазик 2 - 2009/2010 - Летен - 3 и 4год', 'Вовед во ИТ - 2009/2010 - Летен - 3 и 4 год', 'Калкулус 1 - 2009/2010 - Зимски - 4год', 'Основи на програмирање - 2009/2010 - Зимски - 4год']\n",
            "\tОперативни системи-2021/2022/L\n",
            "\tСофтверско инженерство-2021/2022/L\n",
            "\tУчење на далечина-2021/2022/L\n",
            "\tБази на податоци - ГВ - 2021/2022/Z\n",
            "\tБази на податоци - ГВ - 2020/2021/Z\n",
            "\tСофтверско инженерство 2018/2019 - Летен - ДЃ,ЃМ,КТ\n",
            "\tМатематика 1-2018/2019/Z\n",
            "\tМобилни апликации-2017/2018/L\n",
            "\tСофтверско инженерство 2017/2018 - Летен - ДЃ,ЃМ\n",
            "\tБази на податоци - ВА - 2017/2018/Z\n",
            "------->Microsoft MVC\n",
            "\tСофтверско инженерство 2016/2017 - Летен - ДЃ,ЃМ\n",
            "\tСофтверско инженерство 2015/2016 - Летен - КЗ\n",
            "\tБази на податоци - ГВ - 2015/2016/Z\n",
            "\tСофтверско Инженерство-2014/2015/L\n",
            "\tДискретни структури 2 - 2011/2012 - Летен - 4 год\n",
            "\tКалкулус 2 - 2011/2012 - Летен - 3 и 4 год\n",
            "\tКомпјутерски архитектури - 2011/2012 - Летен - 3 и 4 год\n",
            "\tОбјектно и визуелно програмирање - 2011/2012 - Летен - 3 и 4 год\n",
            "\tВовед во ИТ - 2011/2012 - Зимски - 4 год\n",
            "Name: Марија Сидоренко, Courses: ['Консултации', 'Студентски информативен центар', 'Веб програмирање-2023/2024/Z', 'Моделирање на бизнис процеси-2022/2023/L', 'Линеарна алгебра и примени-2022/2023/Z', 'Машинска визија-Machine Vision 2022-23', 'Интелигентни информациски системи-2021/2022/L', 'Машинско учење-2021/2022/L', 'Неструктурирани бази на податоци-2021/2022/L', 'Податочно рударство-2021/2022/L', 'Складови на податоци и аналитичка обработка-2021/2022/L', 'Бази на податоци - СК,КТ,СГ,ГМ - 2021/2022/Z', 'Бази на податоци-2021/2022/Z', 'Веројатност и статистика-2021/2022/Z', 'Вовед во препознавање на облици-2021/2022/Z', 'Машинска визија - Machine Vision - 2021/2022/Z(W)', 'Вовед во когнитивни науки-2020/2021/L', 'Интелигентни информациски системи-2020/2021/L', 'Интелигентни системи-2020/2021/L', 'Моделирање на бизнис процеси-2020/2021/L', 'Објектно ориентирана анализа и дизајн-2020/2021/L', 'Податочно рударство-2020/2021/L', 'Анализа и дизајн на ИС-2020/2021/Z', 'Бази на податоци - СК,КТ,ГМ,СГ - 2020/2021/Z', 'Бази на податоци-2020/2021/Z', 'Веројатност и статистика-2020/2021/Z', 'Дизајн на образовен софтвер-2020/2021/Z', 'Машинска визија-2020/2021/Z', 'Моделирање и симулација-2020/2021/Z', 'Вештачка интелигенција-2019/2020/L', 'Географски информациски системи 2019-2020', 'Дизајн на алгоритми-2019/2020/L', 'Интелигентни системи-2019/2020/L', 'Моделирање на бизнис процеси-2019/2020/L', 'Податочно рударство-2019/2020/L', 'Databases - 2019/2020/Z', 'Алгоритми и податочни структури-2019/2020/Z', 'Бази на податоци - СК,КТ,ГМ - 2019/2020/Z', 'Веројатност и статистика / Probability and Statistics - 2019/2020/Z', 'Машинска визија-2019/2020/Z', 'Системи на знаење-2019/2020/Z', 'Системска анализа и дизајн 2019-2020', 'Вградливи компјутерски системи-2018/2019/L', 'Вештачка интелигенција-2018/2019/L', 'Калкулус 2-2018/2019/L', 'Оперативни системи-2018/2019/L', 'Податочно рударство-2018/2019/L', 'Сензорски системи-2018/2019/L', 'Алгоритми и податочни структури -2018/2019/Z', 'Веројатност и статистика-2018/2019/Z', 'Машинско учење-2018/2019/Z', 'Менаџмент информациски системи-2018/2019/Z', 'Микропроцесорски системи-2018/2019/Z', 'Вештачка интелигенција-2017/2018/L', 'Визуелно програмирање-2017/2018/L', 'Калкулус 2-2017/2018/L', 'Обработка на слика-2017/2018/L', 'Оперативни системи-2017/2018/L', 'Софтверско инженерство 2017/2018 - Летен - КЗ', 'Алгоритми и податочни структури -2017/2018/Z', 'Веројатност и статистика-2017/2018/Z', 'Логичко и функционално програмирање-2017/2018/Z', 'Менаџмент на информациски системи-2017/2018/Z', 'Микропроцесорски системи-2017/2018/Z', 'Напредно програмирање-2017/2018/Z', 'Microsoft MVC', 'Вештачка интелигенција-2016/2017/L', 'Калкулус 2-2016/2017/L', 'Објектно-ориентирано програмирање-2016/2017/L', 'Основи на Веб дизајн-2016/2017/L', 'Алгоритми и податочни структури -2016/2017/Z', 'Веројатност и статистика-2016/2017/Z', 'Дискретна математика 1-2016/2017/Z', 'Калкулус 3-2016/2017/Z', 'Логичко и функционално програмирање-2016/2017/Z', 'Дискретна математика 2-2015/2016/L', 'Калкулус 2-2015/2016/L', 'Објектно-ориентирано програмирање-2015/2016/L', 'Основи на Веб дизајн-2015/2016/L', 'Вовед во информатика-2015/2016/Z', 'Дискретна математика 1-2015/2016/Z', 'Калкулус 1-2015/2016/Z', 'Професионални вештини-2015/2016/Z', 'Структурно програмирање -2015/2016/Z']\n",
            "\tКалкулус 2-2017/2018/L\n",
            "\tОбработка на слика-2017/2018/L\n",
            "\tОперативни системи-2017/2018/L\n",
            "\tСофтверско инженерство 2017/2018 - Летен - КЗ\n",
            "\tАлгоритми и податочни структури -2017/2018/Z\n",
            "\tВеројатност и статистика-2017/2018/Z\n",
            "\tЛогичко и функционално програмирање-2017/2018/Z\n",
            "\tМенаџмент на информациски системи-2017/2018/Z\n",
            "\tМикропроцесорски системи-2017/2018/Z\n",
            "\tНапредно програмирање-2017/2018/Z\n",
            "------->Microsoft MVC\n",
            "\tВештачка интелигенција-2016/2017/L\n",
            "\tКалкулус 2-2016/2017/L\n",
            "\tОбјектно-ориентирано програмирање-2016/2017/L\n",
            "\tОснови на Веб дизајн-2016/2017/L\n",
            "\tАлгоритми и податочни структури -2016/2017/Z\n",
            "\tВеројатност и статистика-2016/2017/Z\n",
            "\tДискретна математика 1-2016/2017/Z\n",
            "\tКалкулус 3-2016/2017/Z\n",
            "\tЛогичко и функционално програмирање-2016/2017/Z\n"
          ]
        },
        {
          "output_type": "execute_result",
          "data": {
            "text/plain": [
              "2"
            ]
          },
          "metadata": {},
          "execution_count": 303
        }
      ],
      "source": [
        "get_students__by_course(\"Microsoft MVC\", True, 10, 10)"
      ]
    },
    {
      "cell_type": "markdown",
      "metadata": {
        "id": "XOp2tbRpbHE2"
      },
      "source": [
        "![image.png](data:image/png;base64,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)"
      ]
    },
    {
      "cell_type": "markdown",
      "metadata": {
        "id": "JqKFj8UxbLbH"
      },
      "source": [
        "All of the courses are ordered by themselves before they were fetched. They are ordered in the faculty site. So, for the courses that have no year, or semester type, we can deduce these values from the neighbours."
      ]
    },
    {
      "cell_type": "markdown",
      "metadata": {
        "id": "Pqa2HS-ZIAwZ"
      },
      "source": [
        "###Fixing some problems"
      ]
    },
    {
      "cell_type": "code",
      "execution_count": null,
      "metadata": {
        "colab": {
          "base_uri": "https://localhost:8080/"
        },
        "id": "CiNgtQa1IATr",
        "outputId": "6f9f2539-8e41-47c9-b40c-ea698bcf9f26"
      },
      "outputs": [
        {
          "output_type": "execute_result",
          "data": {
            "text/plain": [
              "{'Прекалкулус': 'Прекалкулус-2013/2014/Z',\n",
              " 'ИКТ во образованието - експериментален курс': ' ИКТ во образованието - експериментален курс-2014/2015/L',\n",
              " 'Препрограмирање': 'Препрограмирање-2013/2014/Z',\n",
              " 'Algorithms and data structures': 'Algorithms and data structures-2014/2015/Z',\n",
              " 'Аналитика на големи податоци': 'Аналитика на големи податоци-2019/2020/Z',\n",
              " 'Напредни теми од вештачка интелигенција и машинско учење': 'Напредни теми од вештачка интелигенција и машинско учење-2022/2023/Z',\n",
              " 'Microsoft MVC': 'Microsoft MVC-2016/2017/L'}"
            ]
          },
          "metadata": {},
          "execution_count": 304
        }
      ],
      "source": [
        "no_year_str = '''Прекалкулус:Прекалкулус-2013/2014/Z\n",
        "ИКТ во образованието - експериментален курс: ИКТ во образованието - експериментален курс-2014/2015/L\n",
        "Препрограмирање:Препрограмирање-2013/2014/Z\n",
        "Algorithms and data structures:Algorithms and data structures-2014/2015/Z\n",
        "Аналитика на големи податоци:Аналитика на големи податоци-2019/2020/Z\n",
        "Напредни теми од вештачка интелигенција и машинско учење:Напредни теми од вештачка интелигенција и машинско учење-2022/2023/Z\n",
        "Microsoft MVC:Microsoft MVC-2016/2017/L'''\n",
        "li = no_year_str.split(\"\\n\")\n",
        "no_year_m = {}\n",
        "for elem in li:\n",
        "  key, value = elem.split(\":\")\n",
        "  no_year_m[key] = value\n",
        "no_year_m"
      ]
    },
    {
      "cell_type": "code",
      "execution_count": null,
      "metadata": {
        "id": "fiMHGwjWX9MQ"
      },
      "outputs": [],
      "source": [
        "for index, row in df.iterrows():\n",
        "    line_courses = row['Courses'].split('@')\n",
        "    new_courses = []\n",
        "    for c in line_courses:\n",
        "        if c in no_year_m:\n",
        "            c = no_year_m[c]\n",
        "        new_courses.append(c)\n",
        "    c = \"@\".join(new_courses)\n",
        "    df.at[index, 'Courses'] = c"
      ]
    },
    {
      "cell_type": "code",
      "execution_count": null,
      "metadata": {
        "id": "I85spuDsZFlh"
      },
      "outputs": [],
      "source": [
        "groups = set()\n",
        "for index, row in df.iterrows():\n",
        "    line_courses = row['Courses'].split('@')\n",
        "    for c in line_courses:\n",
        "      groups.add(c)"
      ]
    },
    {
      "cell_type": "code",
      "execution_count": null,
      "metadata": {
        "id": "ekwsPMaeZHjd"
      },
      "outputs": [],
      "source": [
        "no_year_groups = set()\n",
        "for group in groups:\n",
        "  in_if = False\n",
        "  for year in range(2008,2025):\n",
        "    if str(year) in group or str(year)[-2:] in group:\n",
        "      in_if = True\n",
        "  if not in_if:\n",
        "    no_year_groups.add(group)"
      ]
    },
    {
      "cell_type": "code",
      "execution_count": null,
      "metadata": {
        "colab": {
          "base_uri": "https://localhost:8080/"
        },
        "id": "7LYsv3OgZTHi",
        "outputId": "b3fdec99-c8da-4a50-a4fe-caf762983fb8"
      },
      "outputs": [
        {
          "output_type": "execute_result",
          "data": {
            "text/plain": [
              "{'Test',\n",
              " 'VI-SEEM test course',\n",
              " 'ЕТЕСТ Тест',\n",
              " 'ИКТ во образование – експериментален курс',\n",
              " 'Интеракција човек-компјутер (втор циклус)',\n",
              " 'Консултации',\n",
              " 'ННС',\n",
              " 'Пишување и презентирање на научен труд',\n",
              " 'Студентски информативен центар',\n",
              " 'Студентски информативен центар - втор циклус',\n",
              " 'УПРАВА',\n",
              " 'ФИНКИ'}"
            ]
          },
          "metadata": {},
          "execution_count": 308
        }
      ],
      "source": [
        "no_year_groups"
      ]
    },
    {
      "cell_type": "code",
      "execution_count": null,
      "metadata": {
        "id": "QGEW6eTAbhfx"
      },
      "outputs": [],
      "source": [
        "for index, row in df.iterrows():\n",
        "    line_courses = row['Courses'].split('@')\n",
        "    new_courses = []\n",
        "    for c in line_courses:\n",
        "        if c not in no_year_groups:\n",
        "          new_courses.append(c)\n",
        "    c = \"@\".join(new_courses)\n",
        "    df.at[index, 'Courses'] = c"
      ]
    },
    {
      "cell_type": "code",
      "execution_count": null,
      "metadata": {
        "id": "t6f4aF4yb6Vg"
      },
      "outputs": [],
      "source": [
        "groups = set()\n",
        "for index, row in df.iterrows():\n",
        "    line_courses = row['Courses'].split('@')\n",
        "    for c in line_courses:\n",
        "      groups.add(c)"
      ]
    },
    {
      "cell_type": "code",
      "execution_count": null,
      "metadata": {
        "id": "mPD2ZpZTbxjk"
      },
      "outputs": [],
      "source": [
        "no_year_groups = set()\n",
        "for group in groups:\n",
        "  in_if = False\n",
        "  for year in range(2008,2025):\n",
        "    if str(year) in group or str(year)[-2:] in group:\n",
        "      in_if = True\n",
        "  if not in_if:\n",
        "    no_year_groups.add(group)"
      ]
    },
    {
      "cell_type": "code",
      "execution_count": null,
      "metadata": {
        "colab": {
          "base_uri": "https://localhost:8080/"
        },
        "id": "v179CLVbc0Ps",
        "outputId": "8fb80860-7caf-4804-f9f8-523a1bdf6942"
      },
      "outputs": [
        {
          "output_type": "execute_result",
          "data": {
            "text/plain": [
              "{''}"
            ]
          },
          "metadata": {},
          "execution_count": 312
        }
      ],
      "source": [
        "no_year_groups"
      ]
    },
    {
      "cell_type": "code",
      "execution_count": null,
      "metadata": {
        "colab": {
          "base_uri": "https://localhost:8080/"
        },
        "id": "AgpPSQxwbzT-",
        "outputId": "12aa7728-39db-48ea-ee8d-cdb9cec256c1"
      },
      "outputs": [
        {
          "output_type": "stream",
          "name": "stdout",
          "text": [
            "Count students: 29\n",
            "Name: Webadmin FINKI, Courses: ['']\n",
            "------->\n",
            "Name: Александар Јањиќ, Courses: ['']\n",
            "------->\n"
          ]
        }
      ],
      "source": [
        "for g in no_year_groups:\n",
        "  get_students__by_course(g, True)"
      ]
    },
    {
      "cell_type": "code",
      "execution_count": null,
      "metadata": {
        "colab": {
          "base_uri": "https://localhost:8080/"
        },
        "id": "AYEq0wQafzIt",
        "outputId": "7bf26ca1-e6ec-49f2-a461-2b7dd8924021"
      },
      "outputs": [
        {
          "output_type": "stream",
          "name": "stdout",
          "text": [
            "Count students: 0\n"
          ]
        },
        {
          "output_type": "execute_result",
          "data": {
            "text/plain": [
              "0"
            ]
          },
          "metadata": {},
          "execution_count": 314
        }
      ],
      "source": [
        "get_students__by_course(\"Microsoft MVC\", True)"
      ]
    },
    {
      "cell_type": "code",
      "execution_count": null,
      "metadata": {
        "colab": {
          "base_uri": "https://localhost:8080/"
        },
        "id": "FjeN_gniBGQi",
        "outputId": "8b932131-7d9c-4d92-e4ad-6dd2ea8abd54"
      },
      "outputs": [
        {
          "output_type": "stream",
          "name": "stdout",
          "text": [
            "Count students: 0\n"
          ]
        },
        {
          "output_type": "execute_result",
          "data": {
            "text/plain": [
              "0"
            ]
          },
          "metadata": {},
          "execution_count": 315
        }
      ],
      "source": [
        "get_students__by_course(\"Аналитика на големи податоци\", True)"
      ]
    },
    {
      "cell_type": "code",
      "execution_count": null,
      "metadata": {
        "colab": {
          "base_uri": "https://localhost:8080/"
        },
        "id": "XiHZXETO5yW4",
        "outputId": "6298689a-3f9a-4454-90fb-27eea51110ae"
      },
      "outputs": [
        {
          "output_type": "stream",
          "name": "stdout",
          "text": [
            "Count students: 0\n"
          ]
        },
        {
          "output_type": "execute_result",
          "data": {
            "text/plain": [
              "0"
            ]
          },
          "metadata": {},
          "execution_count": 316
        }
      ],
      "source": [
        "get_students__by_course(\"ИКТ во образование - експериментален курс\", True)"
      ]
    },
    {
      "cell_type": "code",
      "execution_count": null,
      "metadata": {
        "colab": {
          "base_uri": "https://localhost:8080/"
        },
        "id": "FPfkTjs_grSf",
        "outputId": "8a648a3e-8b0c-4ae4-9fee-a8d3e8d2073f"
      },
      "outputs": [
        {
          "output_type": "stream",
          "name": "stdout",
          "text": [
            "Count students: 0\n"
          ]
        },
        {
          "output_type": "execute_result",
          "data": {
            "text/plain": [
              "0"
            ]
          },
          "metadata": {},
          "execution_count": 317
        }
      ],
      "source": [
        "#Интеракција човек-компјутер (втор циклус)\n",
        "get_students__by_course(\"Интеракција човек-компјутер (втор циклус)\", True)"
      ]
    },
    {
      "cell_type": "code",
      "execution_count": null,
      "metadata": {
        "colab": {
          "base_uri": "https://localhost:8080/"
        },
        "id": "zw7zVO39g7Lg",
        "outputId": "d9764fb2-9840-4437-889c-a10d7145899c"
      },
      "outputs": [
        {
          "output_type": "stream",
          "name": "stdout",
          "text": [
            "Count students: 0\n"
          ]
        },
        {
          "output_type": "execute_result",
          "data": {
            "text/plain": [
              "0"
            ]
          },
          "metadata": {},
          "execution_count": 318
        }
      ],
      "source": [
        "#Прекалкулус\n",
        "get_students__by_course(\"Прекалкулус\", True)"
      ]
    },
    {
      "cell_type": "markdown",
      "metadata": {
        "id": "P7Ym8SdKiK84"
      },
      "source": [
        "##Groups that only have one year in them"
      ]
    },
    {
      "cell_type": "code",
      "execution_count": null,
      "metadata": {
        "id": "jjfDv_M8iTmN"
      },
      "outputs": [],
      "source": [
        "one_year_groups = set()\n",
        "for group in groups:\n",
        "  in_if = False\n",
        "  for year in range(2008,2025):\n",
        "    if (str(year) in group or str(year)[-2:] in group) and (str(year+1) in group or str(year+1)[-2:] in group):\n",
        "      in_if = True\n",
        "  if not in_if and group not in no_year_groups:\n",
        "    one_year_groups.add(group)"
      ]
    },
    {
      "cell_type": "code",
      "execution_count": null,
      "metadata": {
        "colab": {
          "base_uri": "https://localhost:8080/"
        },
        "id": "84wDElDgkZPc",
        "outputId": "a25a90c2-0b58-4cbd-cdb0-cd0ced71ff08"
      },
      "outputs": [
        {
          "output_type": "execute_result",
          "data": {
            "text/plain": [
              "{'Microprocessor Systems Fall 2015',\n",
              " 'Стручни студии – ВВКН -2023',\n",
              " 'Стручни студии – Интернет програмирање -2023',\n",
              " 'Стручни студии – СП -2023'}"
            ]
          },
          "metadata": {},
          "execution_count": 320
        }
      ],
      "source": [
        "one_year_groups"
      ]
    },
    {
      "cell_type": "code",
      "execution_count": null,
      "metadata": {
        "colab": {
          "base_uri": "https://localhost:8080/"
        },
        "id": "XxqTt6ydkiwc",
        "outputId": "6239a422-5d61-4c97-8257-412ab2db0b92"
      },
      "outputs": [
        {
          "output_type": "stream",
          "name": "stdout",
          "text": [
            "Count students: 1\n",
            "Name: Златанова Симона, Courses: ['Веројатност и статистика-2022/2023/Z', 'Веројатност и статистика-2021/2022/Z', 'Микропроцесорски системи-2021/2022/Z', 'Дигитални библиотеки-2017/2018/L', 'Дигитално процесирање на сигнали-2017/2018/L', 'е-Влада-2017/2018/L', 'Компјутерски компоненти 2017-2018', 'Кориснички интерфејси-2017/2018/L', 'Веројатност и статистика-2017/2018/Z', 'Интерактивни апликации-2017/2018/Z', 'ИТ системи за учење-2017/2018/Z', 'Криптографија-2017/2018/Z', 'Микропроцесорски системи-2017/2018/Z', 'Мобилни платформи и програмирање-2017/2018/Z', 'Безжични и мобилни системи-2016/2017/L', 'Вовед во биоинформатика-2016/2017/L', 'Вовед во когнитивни науки-2016/2017/L', 'Компјутерска анимација-2016/2017/L', 'Софтверски квалитет и тестирање-2016/2017/L', 'Databases - 2016/2017/Z', 'Microprocessor Systems - 2016/2017/Z', 'Веројатност и статистика-2016/2017/Z', 'Микропроцесорски системи-2016/2017/Z', 'Напредно програмирање-2016/2017/Z', 'Системи на знаење-2016/2017/Z', 'Operating systems - 2015/2016 - Summer', 'Визуелно програмирање-2015/2016/L', 'Вовед во когнитивни науки-2015/2016/L', 'Географски информациони системи-2015/2016/L', 'Компајлери-2015/2016/L', 'Оперативни системи-2015/2016/L', 'Microprocessor Systems Fall 2015', 'Бази на податоци - ДД,СК,КТ - 2015/2016/Z', 'Веројатност и статистика-2015/2016/Z', 'Имплементација на системи со отворен код (Програмски практикум)-2015/2016/Z', 'Менаџмент на информациски системи-2015/2016/Z', 'Микропроцесорски системи-2015/2016/Z', 'Management Information Systems-2015/2016/W', 'Operating Systems - 2014/2015/S', 'Алгоритми и сложеност-2014/2015/L', 'Вештачка интелигенција-2014/2015/L', 'Оперативни системи-2014/2015/L', 'Основи на компјутерска графика-2014/2015/L', 'Софтверско Инженерство-2014/2015/L', 'Algorithms and data structures-2014/2015/Z', 'Алгоритми и податочни структури -2014/2015/Z', 'Веројатност и статистика-2014/2015/Z/ Probability and Statistics', 'Логичко и функционално програмирање-2014/2015/Z', 'Формални јазици и автомати-2014/2015/Z', 'Дискретна математика 2 / Discrete Math 2, 2013/2014/L', 'Калкулус 2-2013/2014/L', 'Објектно-ориентирано програмирање-2013/2014/L', 'Основи на Веб дизајн-2013/2014/L', 'Вовед во информатика-2013/2014/Z', 'Дискретна математика 1-2013/2014/Z , Discrete Mathematics 1-2013/2014/W', 'Професионални вештини-2013/2014/Z', 'Структурно програмирање -2013/2014/Z']\n",
            "\tВеројатност и статистика-2016/2017/Z\n",
            "\tМикропроцесорски системи-2016/2017/Z\n",
            "\tНапредно програмирање-2016/2017/Z\n",
            "\tСистеми на знаење-2016/2017/Z\n",
            "\tOperating systems - 2015/2016 - Summer\n",
            "\tВизуелно програмирање-2015/2016/L\n",
            "\tВовед во когнитивни науки-2015/2016/L\n",
            "\tГеографски информациони системи-2015/2016/L\n",
            "\tКомпајлери-2015/2016/L\n",
            "\tОперативни системи-2015/2016/L\n",
            "------->Microprocessor Systems Fall 2015\n",
            "\tБази на податоци - ДД,СК,КТ - 2015/2016/Z\n",
            "\tВеројатност и статистика-2015/2016/Z\n",
            "\tИмплементација на системи со отворен код (Програмски практикум)-2015/2016/Z\n",
            "\tМенаџмент на информациски системи-2015/2016/Z\n",
            "\tМикропроцесорски системи-2015/2016/Z\n",
            "\tManagement Information Systems-2015/2016/W\n",
            "\tOperating Systems - 2014/2015/S\n",
            "\tАлгоритми и сложеност-2014/2015/L\n",
            "\tВештачка интелигенција-2014/2015/L\n"
          ]
        },
        {
          "output_type": "execute_result",
          "data": {
            "text/plain": [
              "1"
            ]
          },
          "metadata": {},
          "execution_count": 321
        }
      ],
      "source": [
        "#Microprocessor Systems Fall 2015\n",
        "get_students__by_course(\"Microprocessor Systems Fall 2015\", True, 1, 10)"
      ]
    },
    {
      "cell_type": "markdown",
      "metadata": {
        "id": "b1JwQZnIa0No"
      },
      "source": [
        "###Fixing some problems"
      ]
    },
    {
      "cell_type": "code",
      "execution_count": null,
      "metadata": {
        "colab": {
          "base_uri": "https://localhost:8080/"
        },
        "id": "aXlszEp1axSi",
        "outputId": "482b313a-54f2-4ff5-fde6-8bff9b0816f2"
      },
      "outputs": [
        {
          "output_type": "execute_result",
          "data": {
            "text/plain": [
              "{'Microprocessor Systems Fall 2015': 'Microprocessor Systems Fall 2015/2016/Z',\n",
              " 'Стручни студии – ВВКН -2023': 'Стручни студии – ВВКН -2023/2024/Z',\n",
              " 'Стручни студии – Интернет програмирање -2023': 'Стручни студии – Интернет програмирање -2023/2024/Z',\n",
              " 'Стручни студии – СП -2023': 'Стручни студии – СП -2023/2024/Z'}"
            ]
          },
          "metadata": {},
          "execution_count": 322
        }
      ],
      "source": [
        "one_year_str = '''Microprocessor Systems Fall 2015:Microprocessor Systems Fall 2015/2016/Z\n",
        "Стручни студии – ВВКН -2023:Стручни студии – ВВКН -2023/2024/Z\n",
        "Стручни студии – Интернет програмирање -2023:Стручни студии – Интернет програмирање -2023/2024/Z\n",
        "Стручни студии – СП -2023:Стручни студии – СП -2023/2024/Z'''\n",
        "li = one_year_str.split(\"\\n\")\n",
        "one_year_m = {}\n",
        "for elem in li:\n",
        "  key, value = elem.split(\":\")\n",
        "  one_year_m[key] = value\n",
        "one_year_m"
      ]
    },
    {
      "cell_type": "code",
      "execution_count": null,
      "metadata": {
        "id": "eZmSLrk1bAj4"
      },
      "outputs": [],
      "source": [
        "for index, row in df.iterrows():\n",
        "    line_courses = row['Courses'].split('@')\n",
        "    new_courses = []\n",
        "    for c in line_courses:\n",
        "        if c in one_year_m:\n",
        "            c = one_year_m[c]\n",
        "        new_courses.append(c)\n",
        "    c = \"@\".join(new_courses)\n",
        "    df.at[index, 'Courses'] = c"
      ]
    },
    {
      "cell_type": "code",
      "execution_count": null,
      "metadata": {
        "id": "WuIvkRRSbIpK"
      },
      "outputs": [],
      "source": [
        "groups = set()\n",
        "for index, row in df.iterrows():\n",
        "    line_courses = row['Courses'].split('@')\n",
        "    for c in line_courses:\n",
        "      groups.add(c)"
      ]
    },
    {
      "cell_type": "code",
      "execution_count": null,
      "metadata": {
        "id": "SRcWKf9ebOV0"
      },
      "outputs": [],
      "source": [
        "one_year_groups = set()\n",
        "for group in groups:\n",
        "  in_if = False\n",
        "  for year in range(2008,2025):\n",
        "    if (str(year) in group or str(year)[-2:] in group) and (str(year+1) in group or str(year+1)[-2:] in group):\n",
        "      in_if = True\n",
        "  if not in_if and group not in no_year_groups:\n",
        "    one_year_groups.add(group)"
      ]
    },
    {
      "cell_type": "code",
      "execution_count": null,
      "metadata": {
        "colab": {
          "base_uri": "https://localhost:8080/"
        },
        "id": "3JxRV_tlbP0A",
        "outputId": "3745ab5f-e5ea-4b0f-c5da-bdc36454feab"
      },
      "outputs": [
        {
          "output_type": "execute_result",
          "data": {
            "text/plain": [
              "set()"
            ]
          },
          "metadata": {},
          "execution_count": 326
        }
      ],
      "source": [
        "one_year_groups"
      ]
    },
    {
      "cell_type": "markdown",
      "metadata": {
        "id": "fEsKP67pmBN6"
      },
      "source": [
        "#Creating student dataframe"
      ]
    },
    {
      "cell_type": "code",
      "execution_count": null,
      "metadata": {
        "id": "8ZRDABp92_9U"
      },
      "outputs": [],
      "source": [
        "df_s = df[df['Roles'] == 'Student'].reset_index(drop=True)"
      ]
    },
    {
      "cell_type": "code",
      "execution_count": null,
      "metadata": {
        "colab": {
          "base_uri": "https://localhost:8080/"
        },
        "id": "fYS_4TNh3Tu0",
        "outputId": "076ae5ed-4bef-4ecf-b617-cc006021ce3a"
      },
      "outputs": [
        {
          "output_type": "stream",
          "name": "stdout",
          "text": [
            "Number of students: 5998\n"
          ]
        }
      ],
      "source": [
        "print(f\"Number of students: {len(df_s)}\")"
      ]
    },
    {
      "cell_type": "code",
      "execution_count": null,
      "metadata": {
        "colab": {
          "base_uri": "https://localhost:8080/"
        },
        "id": "xtQdExcUdY8P",
        "outputId": "e09d50e9-4c72-4af3-b884-ae0d38c4ade1"
      },
      "outputs": [
        {
          "output_type": "execute_result",
          "data": {
            "text/plain": [
              "                   Names                                        Emails  \\\n",
              "0          Aaron Köndgen         aaron.koendgen@students.finki.ukim.mk   \n",
              "1  Anastasija Cvetanovic  anastasija.cvetanovic@students.finki.ukim.mk   \n",
              "2  Anil Cinar-Kapacuoglu  cinar.kapucuoglu.anil@students.finki.ukim.mk   \n",
              "3           Anisa Salihi           anisa.salihi@students.finki.ukim.mk   \n",
              "4       Atanasovska Sara       sara.atanasovska@students.finki.ukim.mk   \n",
              "\n",
              "     Roles                                            Courses  \n",
              "0  Student             Машинска визија-Machine Vision 2022-23  \n",
              "1  Student  Интернет програмирање на клиентска страна-2023...  \n",
              "2  Student  Business 2023/2024/Z@Mathematics 1 / Calculus ...  \n",
              "3  Student  Professional skills-2023/2024/Z@Structured pro...  \n",
              "4  Student  Бизнис и менаџмент-2020/2021/Z@Вовед во компју...  "
            ],
            "text/html": [
              "\n",
              "  <div id=\"df-a22121b6-dc3e-403c-9210-7cd6585604f1\" class=\"colab-df-container\">\n",
              "    <div>\n",
              "<style scoped>\n",
              "    .dataframe tbody tr th:only-of-type {\n",
              "        vertical-align: middle;\n",
              "    }\n",
              "\n",
              "    .dataframe tbody tr th {\n",
              "        vertical-align: top;\n",
              "    }\n",
              "\n",
              "    .dataframe thead th {\n",
              "        text-align: right;\n",
              "    }\n",
              "</style>\n",
              "<table border=\"1\" class=\"dataframe\">\n",
              "  <thead>\n",
              "    <tr style=\"text-align: right;\">\n",
              "      <th></th>\n",
              "      <th>Names</th>\n",
              "      <th>Emails</th>\n",
              "      <th>Roles</th>\n",
              "      <th>Courses</th>\n",
              "    </tr>\n",
              "  </thead>\n",
              "  <tbody>\n",
              "    <tr>\n",
              "      <th>0</th>\n",
              "      <td>Aaron Köndgen</td>\n",
              "      <td>aaron.koendgen@students.finki.ukim.mk</td>\n",
              "      <td>Student</td>\n",
              "      <td>Машинска визија-Machine Vision 2022-23</td>\n",
              "    </tr>\n",
              "    <tr>\n",
              "      <th>1</th>\n",
              "      <td>Anastasija Cvetanovic</td>\n",
              "      <td>anastasija.cvetanovic@students.finki.ukim.mk</td>\n",
              "      <td>Student</td>\n",
              "      <td>Интернет програмирање на клиентска страна-2023...</td>\n",
              "    </tr>\n",
              "    <tr>\n",
              "      <th>2</th>\n",
              "      <td>Anil Cinar-Kapacuoglu</td>\n",
              "      <td>cinar.kapucuoglu.anil@students.finki.ukim.mk</td>\n",
              "      <td>Student</td>\n",
              "      <td>Business 2023/2024/Z@Mathematics 1 / Calculus ...</td>\n",
              "    </tr>\n",
              "    <tr>\n",
              "      <th>3</th>\n",
              "      <td>Anisa Salihi</td>\n",
              "      <td>anisa.salihi@students.finki.ukim.mk</td>\n",
              "      <td>Student</td>\n",
              "      <td>Professional skills-2023/2024/Z@Structured pro...</td>\n",
              "    </tr>\n",
              "    <tr>\n",
              "      <th>4</th>\n",
              "      <td>Atanasovska Sara</td>\n",
              "      <td>sara.atanasovska@students.finki.ukim.mk</td>\n",
              "      <td>Student</td>\n",
              "      <td>Бизнис и менаџмент-2020/2021/Z@Вовед во компју...</td>\n",
              "    </tr>\n",
              "  </tbody>\n",
              "</table>\n",
              "</div>\n",
              "    <div class=\"colab-df-buttons\">\n",
              "\n",
              "  <div class=\"colab-df-container\">\n",
              "    <button class=\"colab-df-convert\" onclick=\"convertToInteractive('df-a22121b6-dc3e-403c-9210-7cd6585604f1')\"\n",
              "            title=\"Convert this dataframe to an interactive table.\"\n",
              "            style=\"display:none;\">\n",
              "\n",
              "  <svg xmlns=\"http://www.w3.org/2000/svg\" height=\"24px\" viewBox=\"0 -960 960 960\">\n",
              "    <path d=\"M120-120v-720h720v720H120Zm60-500h600v-160H180v160Zm220 220h160v-160H400v160Zm0 220h160v-160H400v160ZM180-400h160v-160H180v160Zm440 0h160v-160H620v160ZM180-180h160v-160H180v160Zm440 0h160v-160H620v160Z\"/>\n",
              "  </svg>\n",
              "    </button>\n",
              "\n",
              "  <style>\n",
              "    .colab-df-container {\n",
              "      display:flex;\n",
              "      gap: 12px;\n",
              "    }\n",
              "\n",
              "    .colab-df-convert {\n",
              "      background-color: #E8F0FE;\n",
              "      border: none;\n",
              "      border-radius: 50%;\n",
              "      cursor: pointer;\n",
              "      display: none;\n",
              "      fill: #1967D2;\n",
              "      height: 32px;\n",
              "      padding: 0 0 0 0;\n",
              "      width: 32px;\n",
              "    }\n",
              "\n",
              "    .colab-df-convert:hover {\n",
              "      background-color: #E2EBFA;\n",
              "      box-shadow: 0px 1px 2px rgba(60, 64, 67, 0.3), 0px 1px 3px 1px rgba(60, 64, 67, 0.15);\n",
              "      fill: #174EA6;\n",
              "    }\n",
              "\n",
              "    .colab-df-buttons div {\n",
              "      margin-bottom: 4px;\n",
              "    }\n",
              "\n",
              "    [theme=dark] .colab-df-convert {\n",
              "      background-color: #3B4455;\n",
              "      fill: #D2E3FC;\n",
              "    }\n",
              "\n",
              "    [theme=dark] .colab-df-convert:hover {\n",
              "      background-color: #434B5C;\n",
              "      box-shadow: 0px 1px 3px 1px rgba(0, 0, 0, 0.15);\n",
              "      filter: drop-shadow(0px 1px 2px rgba(0, 0, 0, 0.3));\n",
              "      fill: #FFFFFF;\n",
              "    }\n",
              "  </style>\n",
              "\n",
              "    <script>\n",
              "      const buttonEl =\n",
              "        document.querySelector('#df-a22121b6-dc3e-403c-9210-7cd6585604f1 button.colab-df-convert');\n",
              "      buttonEl.style.display =\n",
              "        google.colab.kernel.accessAllowed ? 'block' : 'none';\n",
              "\n",
              "      async function convertToInteractive(key) {\n",
              "        const element = document.querySelector('#df-a22121b6-dc3e-403c-9210-7cd6585604f1');\n",
              "        const dataTable =\n",
              "          await google.colab.kernel.invokeFunction('convertToInteractive',\n",
              "                                                    [key], {});\n",
              "        if (!dataTable) return;\n",
              "\n",
              "        const docLinkHtml = 'Like what you see? Visit the ' +\n",
              "          '<a target=\"_blank\" href=https://colab.research.google.com/notebooks/data_table.ipynb>data table notebook</a>'\n",
              "          + ' to learn more about interactive tables.';\n",
              "        element.innerHTML = '';\n",
              "        dataTable['output_type'] = 'display_data';\n",
              "        await google.colab.output.renderOutput(dataTable, element);\n",
              "        const docLink = document.createElement('div');\n",
              "        docLink.innerHTML = docLinkHtml;\n",
              "        element.appendChild(docLink);\n",
              "      }\n",
              "    </script>\n",
              "  </div>\n",
              "\n",
              "\n",
              "<div id=\"df-4cb9fa47-9da5-4352-9cfa-820aaed2b0ab\">\n",
              "  <button class=\"colab-df-quickchart\" onclick=\"quickchart('df-4cb9fa47-9da5-4352-9cfa-820aaed2b0ab')\"\n",
              "            title=\"Suggest charts\"\n",
              "            style=\"display:none;\">\n",
              "\n",
              "<svg xmlns=\"http://www.w3.org/2000/svg\" height=\"24px\"viewBox=\"0 0 24 24\"\n",
              "     width=\"24px\">\n",
              "    <g>\n",
              "        <path d=\"M19 3H5c-1.1 0-2 .9-2 2v14c0 1.1.9 2 2 2h14c1.1 0 2-.9 2-2V5c0-1.1-.9-2-2-2zM9 17H7v-7h2v7zm4 0h-2V7h2v10zm4 0h-2v-4h2v4z\"/>\n",
              "    </g>\n",
              "</svg>\n",
              "  </button>\n",
              "\n",
              "<style>\n",
              "  .colab-df-quickchart {\n",
              "      --bg-color: #E8F0FE;\n",
              "      --fill-color: #1967D2;\n",
              "      --hover-bg-color: #E2EBFA;\n",
              "      --hover-fill-color: #174EA6;\n",
              "      --disabled-fill-color: #AAA;\n",
              "      --disabled-bg-color: #DDD;\n",
              "  }\n",
              "\n",
              "  [theme=dark] .colab-df-quickchart {\n",
              "      --bg-color: #3B4455;\n",
              "      --fill-color: #D2E3FC;\n",
              "      --hover-bg-color: #434B5C;\n",
              "      --hover-fill-color: #FFFFFF;\n",
              "      --disabled-bg-color: #3B4455;\n",
              "      --disabled-fill-color: #666;\n",
              "  }\n",
              "\n",
              "  .colab-df-quickchart {\n",
              "    background-color: var(--bg-color);\n",
              "    border: none;\n",
              "    border-radius: 50%;\n",
              "    cursor: pointer;\n",
              "    display: none;\n",
              "    fill: var(--fill-color);\n",
              "    height: 32px;\n",
              "    padding: 0;\n",
              "    width: 32px;\n",
              "  }\n",
              "\n",
              "  .colab-df-quickchart:hover {\n",
              "    background-color: var(--hover-bg-color);\n",
              "    box-shadow: 0 1px 2px rgba(60, 64, 67, 0.3), 0 1px 3px 1px rgba(60, 64, 67, 0.15);\n",
              "    fill: var(--button-hover-fill-color);\n",
              "  }\n",
              "\n",
              "  .colab-df-quickchart-complete:disabled,\n",
              "  .colab-df-quickchart-complete:disabled:hover {\n",
              "    background-color: var(--disabled-bg-color);\n",
              "    fill: var(--disabled-fill-color);\n",
              "    box-shadow: none;\n",
              "  }\n",
              "\n",
              "  .colab-df-spinner {\n",
              "    border: 2px solid var(--fill-color);\n",
              "    border-color: transparent;\n",
              "    border-bottom-color: var(--fill-color);\n",
              "    animation:\n",
              "      spin 1s steps(1) infinite;\n",
              "  }\n",
              "\n",
              "  @keyframes spin {\n",
              "    0% {\n",
              "      border-color: transparent;\n",
              "      border-bottom-color: var(--fill-color);\n",
              "      border-left-color: var(--fill-color);\n",
              "    }\n",
              "    20% {\n",
              "      border-color: transparent;\n",
              "      border-left-color: var(--fill-color);\n",
              "      border-top-color: var(--fill-color);\n",
              "    }\n",
              "    30% {\n",
              "      border-color: transparent;\n",
              "      border-left-color: var(--fill-color);\n",
              "      border-top-color: var(--fill-color);\n",
              "      border-right-color: var(--fill-color);\n",
              "    }\n",
              "    40% {\n",
              "      border-color: transparent;\n",
              "      border-right-color: var(--fill-color);\n",
              "      border-top-color: var(--fill-color);\n",
              "    }\n",
              "    60% {\n",
              "      border-color: transparent;\n",
              "      border-right-color: var(--fill-color);\n",
              "    }\n",
              "    80% {\n",
              "      border-color: transparent;\n",
              "      border-right-color: var(--fill-color);\n",
              "      border-bottom-color: var(--fill-color);\n",
              "    }\n",
              "    90% {\n",
              "      border-color: transparent;\n",
              "      border-bottom-color: var(--fill-color);\n",
              "    }\n",
              "  }\n",
              "</style>\n",
              "\n",
              "  <script>\n",
              "    async function quickchart(key) {\n",
              "      const quickchartButtonEl =\n",
              "        document.querySelector('#' + key + ' button');\n",
              "      quickchartButtonEl.disabled = true;  // To prevent multiple clicks.\n",
              "      quickchartButtonEl.classList.add('colab-df-spinner');\n",
              "      try {\n",
              "        const charts = await google.colab.kernel.invokeFunction(\n",
              "            'suggestCharts', [key], {});\n",
              "      } catch (error) {\n",
              "        console.error('Error during call to suggestCharts:', error);\n",
              "      }\n",
              "      quickchartButtonEl.classList.remove('colab-df-spinner');\n",
              "      quickchartButtonEl.classList.add('colab-df-quickchart-complete');\n",
              "    }\n",
              "    (() => {\n",
              "      let quickchartButtonEl =\n",
              "        document.querySelector('#df-4cb9fa47-9da5-4352-9cfa-820aaed2b0ab button');\n",
              "      quickchartButtonEl.style.display =\n",
              "        google.colab.kernel.accessAllowed ? 'block' : 'none';\n",
              "    })();\n",
              "  </script>\n",
              "</div>\n",
              "    </div>\n",
              "  </div>\n"
            ]
          },
          "metadata": {},
          "execution_count": 329
        }
      ],
      "source": [
        "df_s.head()"
      ]
    },
    {
      "cell_type": "markdown",
      "metadata": {
        "id": "aaCcQOgf6Dvb"
      },
      "source": [
        "#Enrollment year for students"
      ]
    },
    {
      "cell_type": "code",
      "execution_count": null,
      "metadata": {
        "id": "GLYFwaWJ1YkD"
      },
      "outputs": [],
      "source": [
        "rows_to_drop = []\n",
        "enrollment_year=[]\n",
        "without_enrollment = []\n",
        "for index, row in df_s.iterrows():\n",
        "    courses= row['Courses']\n",
        "    in_if = False\n",
        "    for year in range(2008,2025):\n",
        "      if str(year) in courses:\n",
        "        enrollment_year.append(int(year))\n",
        "        in_if = True\n",
        "        break\n",
        "    if not in_if:\n",
        "      enrollment_year.append(None)\n",
        "      without_enrollment.append(f\"Name: {row['Names']}, Courses: {row['Courses'].split('@')} \")\n",
        "      rows_to_drop.append(index)\n"
      ]
    },
    {
      "cell_type": "code",
      "execution_count": null,
      "metadata": {
        "colab": {
          "base_uri": "https://localhost:8080/"
        },
        "id": "t5YwJaTP7UOD",
        "outputId": "34e156fe-40bf-4c6e-a1e2-61d239811e79"
      },
      "outputs": [
        {
          "output_type": "stream",
          "name": "stdout",
          "text": [
            "There are 29 students without an enrollment year.\n",
            "Here are the students and all of their courses:\n",
            "Name: Webadmin FINKI, Courses: [''] \n",
            "Name: Александар Јањиќ, Courses: [''] \n",
            "Name: Александар Саздовски, Courses: [''] \n",
            "Name: Борис Дедејски, Courses: [''] \n",
            "Name: Горазд Петрушевски, Courses: [''] \n",
            "Name: Горан Митров, Courses: [''] \n",
            "Name: Диме Бошковски, Courses: [''] \n",
            "Name: Драгана Милошеска, Courses: [''] \n",
            "Name: Катерина Јангеловска, Courses: [''] \n",
            "Name: Марија Атанасова, Courses: [''] \n",
            "Name: Методија Новковски, Courses: [''] \n",
            "Name: Мила Јовановска, Courses: [''] \n",
            "Name: Милена Ѓорѓиевска Перушеска, Courses: [''] \n",
            "Name: Наќе Давчев, Courses: [''] \n",
            "Name: Никола Нацевски, Courses: [''] \n",
            "Name: Никола Томиќ, Courses: [''] \n",
            "Name: Огнен Спироски, Courses: [''] \n",
            "Name: Орданоски Петар, Courses: [''] \n",
            "Name: Славчо Иванов, Courses: [''] \n",
            "Name: Стаменковска Ема, Courses: [''] \n",
            "Name: Стефан Анчевски, Courses: [''] \n",
            "Name: Стефан Павлов, Courses: [''] \n",
            "Name: Стефан Невеселов, Courses: [''] \n",
            "Name: Тамара Илиева, Courses: [''] \n",
            "Name: Тијана Колеска-Налбантов, Courses: [''] \n",
            "Name: Тијана Мицева, Courses: [''] \n",
            "Name: Филип Пушкинов, Courses: [''] \n",
            "Name: Филип Донев, Courses: [''] \n",
            "Name: Христина Митровска, Courses: [''] \n"
          ]
        }
      ],
      "source": [
        "print(f\"There are {len(without_enrollment)} students without an enrollment year.\\nHere are the students and all of their courses:\")\n",
        "for elem in without_enrollment:\n",
        "  print(elem)"
      ]
    },
    {
      "cell_type": "markdown",
      "metadata": {
        "id": "NZid0Ys071v0"
      },
      "source": [
        "All of these students are not in any other group except for \"Консултации\" which mean that they don't attribute anything to our study. Also, Webadmin FINKI, is not a Student, even though they have the role student. We can drop all of these rows."
      ]
    },
    {
      "cell_type": "code",
      "execution_count": null,
      "metadata": {
        "id": "VByuEYLe8sRN"
      },
      "outputs": [],
      "source": [
        "df_s = df_s.drop(rows_to_drop).reset_index(drop=True)"
      ]
    },
    {
      "cell_type": "code",
      "execution_count": null,
      "metadata": {
        "id": "9ZYkN_9g86PM"
      },
      "outputs": [],
      "source": [
        "enrollment_year = []\n",
        "for index, row in df_s.iterrows():\n",
        "    courses= row['Courses']\n",
        "    in_if = False\n",
        "    for year in range(2008,2025):\n",
        "      if str(year) in courses:\n",
        "        enrollment_year.append(int(year))\n",
        "        in_if = True\n",
        "        break\n",
        "    if not in_if:\n",
        "      enrollment_year.append(None)\n",
        "      print(row[\"Name\"])"
      ]
    },
    {
      "cell_type": "code",
      "execution_count": null,
      "metadata": {
        "colab": {
          "base_uri": "https://localhost:8080/"
        },
        "id": "6gomJyY39Gzn",
        "outputId": "e6447276-67d5-4b5f-d25e-840a341c488d"
      },
      "outputs": [
        {
          "output_type": "stream",
          "name": "stdout",
          "text": [
            "After deleting these rows df_s length is: 5969\n"
          ]
        }
      ],
      "source": [
        "print(f'After deleting these rows df_s length is: {len(df_s)}')"
      ]
    },
    {
      "cell_type": "code",
      "execution_count": null,
      "metadata": {
        "id": "xI2Al2YE3upf"
      },
      "outputs": [],
      "source": [
        "df_s[\"Enrollment Year\"] = enrollment_year"
      ]
    },
    {
      "cell_type": "markdown",
      "metadata": {
        "id": "sA2dwkBY9e4n"
      },
      "source": [
        "df_s with added Enollment Year"
      ]
    },
    {
      "cell_type": "code",
      "execution_count": null,
      "metadata": {
        "colab": {
          "base_uri": "https://localhost:8080/"
        },
        "id": "faQo2jhP3VWc",
        "outputId": "ee8e3110-8542-44eb-8d78-8f0b78563d9e"
      },
      "outputs": [
        {
          "output_type": "execute_result",
          "data": {
            "text/plain": [
              "                   Names                                        Emails  \\\n",
              "0          Aaron Köndgen         aaron.koendgen@students.finki.ukim.mk   \n",
              "1  Anastasija Cvetanovic  anastasija.cvetanovic@students.finki.ukim.mk   \n",
              "2  Anil Cinar-Kapacuoglu  cinar.kapucuoglu.anil@students.finki.ukim.mk   \n",
              "3           Anisa Salihi           anisa.salihi@students.finki.ukim.mk   \n",
              "4       Atanasovska Sara       sara.atanasovska@students.finki.ukim.mk   \n",
              "\n",
              "     Roles                                            Courses  Enrollment Year  \n",
              "0  Student             Машинска визија-Machine Vision 2022-23             2022  \n",
              "1  Student  Интернет програмирање на клиентска страна-2023...             2023  \n",
              "2  Student  Business 2023/2024/Z@Mathematics 1 / Calculus ...             2022  \n",
              "3  Student  Professional skills-2023/2024/Z@Structured pro...             2023  \n",
              "4  Student  Бизнис и менаџмент-2020/2021/Z@Вовед во компју...             2019  "
            ],
            "text/html": [
              "\n",
              "  <div id=\"df-bf98a3f8-abff-43ac-a9c7-099404e63e14\" class=\"colab-df-container\">\n",
              "    <div>\n",
              "<style scoped>\n",
              "    .dataframe tbody tr th:only-of-type {\n",
              "        vertical-align: middle;\n",
              "    }\n",
              "\n",
              "    .dataframe tbody tr th {\n",
              "        vertical-align: top;\n",
              "    }\n",
              "\n",
              "    .dataframe thead th {\n",
              "        text-align: right;\n",
              "    }\n",
              "</style>\n",
              "<table border=\"1\" class=\"dataframe\">\n",
              "  <thead>\n",
              "    <tr style=\"text-align: right;\">\n",
              "      <th></th>\n",
              "      <th>Names</th>\n",
              "      <th>Emails</th>\n",
              "      <th>Roles</th>\n",
              "      <th>Courses</th>\n",
              "      <th>Enrollment Year</th>\n",
              "    </tr>\n",
              "  </thead>\n",
              "  <tbody>\n",
              "    <tr>\n",
              "      <th>0</th>\n",
              "      <td>Aaron Köndgen</td>\n",
              "      <td>aaron.koendgen@students.finki.ukim.mk</td>\n",
              "      <td>Student</td>\n",
              "      <td>Машинска визија-Machine Vision 2022-23</td>\n",
              "      <td>2022</td>\n",
              "    </tr>\n",
              "    <tr>\n",
              "      <th>1</th>\n",
              "      <td>Anastasija Cvetanovic</td>\n",
              "      <td>anastasija.cvetanovic@students.finki.ukim.mk</td>\n",
              "      <td>Student</td>\n",
              "      <td>Интернет програмирање на клиентска страна-2023...</td>\n",
              "      <td>2023</td>\n",
              "    </tr>\n",
              "    <tr>\n",
              "      <th>2</th>\n",
              "      <td>Anil Cinar-Kapacuoglu</td>\n",
              "      <td>cinar.kapucuoglu.anil@students.finki.ukim.mk</td>\n",
              "      <td>Student</td>\n",
              "      <td>Business 2023/2024/Z@Mathematics 1 / Calculus ...</td>\n",
              "      <td>2022</td>\n",
              "    </tr>\n",
              "    <tr>\n",
              "      <th>3</th>\n",
              "      <td>Anisa Salihi</td>\n",
              "      <td>anisa.salihi@students.finki.ukim.mk</td>\n",
              "      <td>Student</td>\n",
              "      <td>Professional skills-2023/2024/Z@Structured pro...</td>\n",
              "      <td>2023</td>\n",
              "    </tr>\n",
              "    <tr>\n",
              "      <th>4</th>\n",
              "      <td>Atanasovska Sara</td>\n",
              "      <td>sara.atanasovska@students.finki.ukim.mk</td>\n",
              "      <td>Student</td>\n",
              "      <td>Бизнис и менаџмент-2020/2021/Z@Вовед во компју...</td>\n",
              "      <td>2019</td>\n",
              "    </tr>\n",
              "  </tbody>\n",
              "</table>\n",
              "</div>\n",
              "    <div class=\"colab-df-buttons\">\n",
              "\n",
              "  <div class=\"colab-df-container\">\n",
              "    <button class=\"colab-df-convert\" onclick=\"convertToInteractive('df-bf98a3f8-abff-43ac-a9c7-099404e63e14')\"\n",
              "            title=\"Convert this dataframe to an interactive table.\"\n",
              "            style=\"display:none;\">\n",
              "\n",
              "  <svg xmlns=\"http://www.w3.org/2000/svg\" height=\"24px\" viewBox=\"0 -960 960 960\">\n",
              "    <path d=\"M120-120v-720h720v720H120Zm60-500h600v-160H180v160Zm220 220h160v-160H400v160Zm0 220h160v-160H400v160ZM180-400h160v-160H180v160Zm440 0h160v-160H620v160ZM180-180h160v-160H180v160Zm440 0h160v-160H620v160Z\"/>\n",
              "  </svg>\n",
              "    </button>\n",
              "\n",
              "  <style>\n",
              "    .colab-df-container {\n",
              "      display:flex;\n",
              "      gap: 12px;\n",
              "    }\n",
              "\n",
              "    .colab-df-convert {\n",
              "      background-color: #E8F0FE;\n",
              "      border: none;\n",
              "      border-radius: 50%;\n",
              "      cursor: pointer;\n",
              "      display: none;\n",
              "      fill: #1967D2;\n",
              "      height: 32px;\n",
              "      padding: 0 0 0 0;\n",
              "      width: 32px;\n",
              "    }\n",
              "\n",
              "    .colab-df-convert:hover {\n",
              "      background-color: #E2EBFA;\n",
              "      box-shadow: 0px 1px 2px rgba(60, 64, 67, 0.3), 0px 1px 3px 1px rgba(60, 64, 67, 0.15);\n",
              "      fill: #174EA6;\n",
              "    }\n",
              "\n",
              "    .colab-df-buttons div {\n",
              "      margin-bottom: 4px;\n",
              "    }\n",
              "\n",
              "    [theme=dark] .colab-df-convert {\n",
              "      background-color: #3B4455;\n",
              "      fill: #D2E3FC;\n",
              "    }\n",
              "\n",
              "    [theme=dark] .colab-df-convert:hover {\n",
              "      background-color: #434B5C;\n",
              "      box-shadow: 0px 1px 3px 1px rgba(0, 0, 0, 0.15);\n",
              "      filter: drop-shadow(0px 1px 2px rgba(0, 0, 0, 0.3));\n",
              "      fill: #FFFFFF;\n",
              "    }\n",
              "  </style>\n",
              "\n",
              "    <script>\n",
              "      const buttonEl =\n",
              "        document.querySelector('#df-bf98a3f8-abff-43ac-a9c7-099404e63e14 button.colab-df-convert');\n",
              "      buttonEl.style.display =\n",
              "        google.colab.kernel.accessAllowed ? 'block' : 'none';\n",
              "\n",
              "      async function convertToInteractive(key) {\n",
              "        const element = document.querySelector('#df-bf98a3f8-abff-43ac-a9c7-099404e63e14');\n",
              "        const dataTable =\n",
              "          await google.colab.kernel.invokeFunction('convertToInteractive',\n",
              "                                                    [key], {});\n",
              "        if (!dataTable) return;\n",
              "\n",
              "        const docLinkHtml = 'Like what you see? Visit the ' +\n",
              "          '<a target=\"_blank\" href=https://colab.research.google.com/notebooks/data_table.ipynb>data table notebook</a>'\n",
              "          + ' to learn more about interactive tables.';\n",
              "        element.innerHTML = '';\n",
              "        dataTable['output_type'] = 'display_data';\n",
              "        await google.colab.output.renderOutput(dataTable, element);\n",
              "        const docLink = document.createElement('div');\n",
              "        docLink.innerHTML = docLinkHtml;\n",
              "        element.appendChild(docLink);\n",
              "      }\n",
              "    </script>\n",
              "  </div>\n",
              "\n",
              "\n",
              "<div id=\"df-a316731f-2696-42c2-88cf-a6511a9e7a48\">\n",
              "  <button class=\"colab-df-quickchart\" onclick=\"quickchart('df-a316731f-2696-42c2-88cf-a6511a9e7a48')\"\n",
              "            title=\"Suggest charts\"\n",
              "            style=\"display:none;\">\n",
              "\n",
              "<svg xmlns=\"http://www.w3.org/2000/svg\" height=\"24px\"viewBox=\"0 0 24 24\"\n",
              "     width=\"24px\">\n",
              "    <g>\n",
              "        <path d=\"M19 3H5c-1.1 0-2 .9-2 2v14c0 1.1.9 2 2 2h14c1.1 0 2-.9 2-2V5c0-1.1-.9-2-2-2zM9 17H7v-7h2v7zm4 0h-2V7h2v10zm4 0h-2v-4h2v4z\"/>\n",
              "    </g>\n",
              "</svg>\n",
              "  </button>\n",
              "\n",
              "<style>\n",
              "  .colab-df-quickchart {\n",
              "      --bg-color: #E8F0FE;\n",
              "      --fill-color: #1967D2;\n",
              "      --hover-bg-color: #E2EBFA;\n",
              "      --hover-fill-color: #174EA6;\n",
              "      --disabled-fill-color: #AAA;\n",
              "      --disabled-bg-color: #DDD;\n",
              "  }\n",
              "\n",
              "  [theme=dark] .colab-df-quickchart {\n",
              "      --bg-color: #3B4455;\n",
              "      --fill-color: #D2E3FC;\n",
              "      --hover-bg-color: #434B5C;\n",
              "      --hover-fill-color: #FFFFFF;\n",
              "      --disabled-bg-color: #3B4455;\n",
              "      --disabled-fill-color: #666;\n",
              "  }\n",
              "\n",
              "  .colab-df-quickchart {\n",
              "    background-color: var(--bg-color);\n",
              "    border: none;\n",
              "    border-radius: 50%;\n",
              "    cursor: pointer;\n",
              "    display: none;\n",
              "    fill: var(--fill-color);\n",
              "    height: 32px;\n",
              "    padding: 0;\n",
              "    width: 32px;\n",
              "  }\n",
              "\n",
              "  .colab-df-quickchart:hover {\n",
              "    background-color: var(--hover-bg-color);\n",
              "    box-shadow: 0 1px 2px rgba(60, 64, 67, 0.3), 0 1px 3px 1px rgba(60, 64, 67, 0.15);\n",
              "    fill: var(--button-hover-fill-color);\n",
              "  }\n",
              "\n",
              "  .colab-df-quickchart-complete:disabled,\n",
              "  .colab-df-quickchart-complete:disabled:hover {\n",
              "    background-color: var(--disabled-bg-color);\n",
              "    fill: var(--disabled-fill-color);\n",
              "    box-shadow: none;\n",
              "  }\n",
              "\n",
              "  .colab-df-spinner {\n",
              "    border: 2px solid var(--fill-color);\n",
              "    border-color: transparent;\n",
              "    border-bottom-color: var(--fill-color);\n",
              "    animation:\n",
              "      spin 1s steps(1) infinite;\n",
              "  }\n",
              "\n",
              "  @keyframes spin {\n",
              "    0% {\n",
              "      border-color: transparent;\n",
              "      border-bottom-color: var(--fill-color);\n",
              "      border-left-color: var(--fill-color);\n",
              "    }\n",
              "    20% {\n",
              "      border-color: transparent;\n",
              "      border-left-color: var(--fill-color);\n",
              "      border-top-color: var(--fill-color);\n",
              "    }\n",
              "    30% {\n",
              "      border-color: transparent;\n",
              "      border-left-color: var(--fill-color);\n",
              "      border-top-color: var(--fill-color);\n",
              "      border-right-color: var(--fill-color);\n",
              "    }\n",
              "    40% {\n",
              "      border-color: transparent;\n",
              "      border-right-color: var(--fill-color);\n",
              "      border-top-color: var(--fill-color);\n",
              "    }\n",
              "    60% {\n",
              "      border-color: transparent;\n",
              "      border-right-color: var(--fill-color);\n",
              "    }\n",
              "    80% {\n",
              "      border-color: transparent;\n",
              "      border-right-color: var(--fill-color);\n",
              "      border-bottom-color: var(--fill-color);\n",
              "    }\n",
              "    90% {\n",
              "      border-color: transparent;\n",
              "      border-bottom-color: var(--fill-color);\n",
              "    }\n",
              "  }\n",
              "</style>\n",
              "\n",
              "  <script>\n",
              "    async function quickchart(key) {\n",
              "      const quickchartButtonEl =\n",
              "        document.querySelector('#' + key + ' button');\n",
              "      quickchartButtonEl.disabled = true;  // To prevent multiple clicks.\n",
              "      quickchartButtonEl.classList.add('colab-df-spinner');\n",
              "      try {\n",
              "        const charts = await google.colab.kernel.invokeFunction(\n",
              "            'suggestCharts', [key], {});\n",
              "      } catch (error) {\n",
              "        console.error('Error during call to suggestCharts:', error);\n",
              "      }\n",
              "      quickchartButtonEl.classList.remove('colab-df-spinner');\n",
              "      quickchartButtonEl.classList.add('colab-df-quickchart-complete');\n",
              "    }\n",
              "    (() => {\n",
              "      let quickchartButtonEl =\n",
              "        document.querySelector('#df-a316731f-2696-42c2-88cf-a6511a9e7a48 button');\n",
              "      quickchartButtonEl.style.display =\n",
              "        google.colab.kernel.accessAllowed ? 'block' : 'none';\n",
              "    })();\n",
              "  </script>\n",
              "</div>\n",
              "    </div>\n",
              "  </div>\n"
            ]
          },
          "metadata": {},
          "execution_count": 336
        }
      ],
      "source": [
        "df_s.head()"
      ]
    },
    {
      "cell_type": "code",
      "execution_count": null,
      "metadata": {
        "colab": {
          "base_uri": "https://localhost:8080/"
        },
        "id": "GVSkx7IF5Z2p",
        "outputId": "804d824e-3f5d-4216-d3d0-a9e6efacd60f"
      },
      "outputs": [
        {
          "output_type": "stream",
          "name": "stdout",
          "text": [
            "2022    1198\n",
            "2021    1018\n",
            "2023     995\n",
            "2019     751\n",
            "2020     596\n",
            "2018     501\n",
            "2017     320\n",
            "2016     211\n",
            "2015     128\n",
            "2014      98\n",
            "2013      67\n",
            "2012      47\n",
            "2011      27\n",
            "2008       7\n",
            "2010       3\n",
            "2009       2\n",
            "Name: Enrollment Year, dtype: int64\n"
          ]
        }
      ],
      "source": [
        "unique_counts = df_s[\"Enrollment Year\"].value_counts()\n",
        "\n",
        "print(unique_counts)"
      ]
    },
    {
      "cell_type": "markdown",
      "metadata": {
        "id": "nMUj4WTwmcJ4"
      },
      "source": [
        "##Plots"
      ]
    },
    {
      "cell_type": "code",
      "execution_count": null,
      "metadata": {
        "colab": {
          "base_uri": "https://localhost:8080/"
        },
        "id": "uxUa4mxw9-b8",
        "outputId": "8736e8ba-8512-4f89-b5d5-9ab3183d575a"
      },
      "outputs": [
        {
          "output_type": "display_data",
          "data": {
            "text/html": [
              "<html>\n",
              "<head><meta charset=\"utf-8\" /></head>\n",
              "<body>\n",
              "    <div>            <script src=\"https://cdnjs.cloudflare.com/ajax/libs/mathjax/2.7.5/MathJax.js?config=TeX-AMS-MML_SVG\"></script><script type=\"text/javascript\">if (window.MathJax && window.MathJax.Hub && window.MathJax.Hub.Config) {window.MathJax.Hub.Config({SVG: {font: \"STIX-Web\"}});}</script>                <script type=\"text/javascript\">window.PlotlyConfig = {MathJaxConfig: 'local'};</script>\n",
              "        <script charset=\"utf-8\" src=\"https://cdn.plot.ly/plotly-2.24.1.min.js\"></script>                <div id=\"c6c45cad-4e00-4cf4-b91c-1b1637908c4d\" class=\"plotly-graph-div\" style=\"height:525px; width:100%;\"></div>            <script type=\"text/javascript\">                                    window.PLOTLYENV=window.PLOTLYENV || {};                                    if (document.getElementById(\"c6c45cad-4e00-4cf4-b91c-1b1637908c4d\")) {                    Plotly.newPlot(                        \"c6c45cad-4e00-4cf4-b91c-1b1637908c4d\",                        [{\"domain\":{\"x\":[0.0,1.0],\"y\":[0.0,1.0]},\"hovertemplate\":\"label=%{label}\\u003cbr\\u003evalue=%{value}\\u003cextra\\u003e\\u003c\\u002fextra\\u003e\",\"labels\":[2022,2021,2023,2019,2020,2018,2017,2016,2015,2014,2013,2012,2011,2008,2010,2009],\"legendgroup\":\"\",\"name\":\"\",\"showlegend\":true,\"values\":[1198,1018,995,751,596,501,320,211,128,98,67,47,27,7,3,2],\"type\":\"pie\"}],                        {\"template\":{\"data\":{\"histogram2dcontour\":[{\"type\":\"histogram2dcontour\",\"colorbar\":{\"outlinewidth\":0,\"ticks\":\"\"},\"colorscale\":[[0.0,\"#0d0887\"],[0.1111111111111111,\"#46039f\"],[0.2222222222222222,\"#7201a8\"],[0.3333333333333333,\"#9c179e\"],[0.4444444444444444,\"#bd3786\"],[0.5555555555555556,\"#d8576b\"],[0.6666666666666666,\"#ed7953\"],[0.7777777777777778,\"#fb9f3a\"],[0.8888888888888888,\"#fdca26\"],[1.0,\"#f0f921\"]]}],\"choropleth\":[{\"type\":\"choropleth\",\"colorbar\":{\"outlinewidth\":0,\"ticks\":\"\"}}],\"histogram2d\":[{\"type\":\"histogram2d\",\"colorbar\":{\"outlinewidth\":0,\"ticks\":\"\"},\"colorscale\":[[0.0,\"#0d0887\"],[0.1111111111111111,\"#46039f\"],[0.2222222222222222,\"#7201a8\"],[0.3333333333333333,\"#9c179e\"],[0.4444444444444444,\"#bd3786\"],[0.5555555555555556,\"#d8576b\"],[0.6666666666666666,\"#ed7953\"],[0.7777777777777778,\"#fb9f3a\"],[0.8888888888888888,\"#fdca26\"],[1.0,\"#f0f921\"]]}],\"heatmap\":[{\"type\":\"heatmap\",\"colorbar\":{\"outlinewidth\":0,\"ticks\":\"\"},\"colorscale\":[[0.0,\"#0d0887\"],[0.1111111111111111,\"#46039f\"],[0.2222222222222222,\"#7201a8\"],[0.3333333333333333,\"#9c179e\"],[0.4444444444444444,\"#bd3786\"],[0.5555555555555556,\"#d8576b\"],[0.6666666666666666,\"#ed7953\"],[0.7777777777777778,\"#fb9f3a\"],[0.8888888888888888,\"#fdca26\"],[1.0,\"#f0f921\"]]}],\"heatmapgl\":[{\"type\":\"heatmapgl\",\"colorbar\":{\"outlinewidth\":0,\"ticks\":\"\"},\"colorscale\":[[0.0,\"#0d0887\"],[0.1111111111111111,\"#46039f\"],[0.2222222222222222,\"#7201a8\"],[0.3333333333333333,\"#9c179e\"],[0.4444444444444444,\"#bd3786\"],[0.5555555555555556,\"#d8576b\"],[0.6666666666666666,\"#ed7953\"],[0.7777777777777778,\"#fb9f3a\"],[0.8888888888888888,\"#fdca26\"],[1.0,\"#f0f921\"]]}],\"contourcarpet\":[{\"type\":\"contourcarpet\",\"colorbar\":{\"outlinewidth\":0,\"ticks\":\"\"}}],\"contour\":[{\"type\":\"contour\",\"colorbar\":{\"outlinewidth\":0,\"ticks\":\"\"},\"colorscale\":[[0.0,\"#0d0887\"],[0.1111111111111111,\"#46039f\"],[0.2222222222222222,\"#7201a8\"],[0.3333333333333333,\"#9c179e\"],[0.4444444444444444,\"#bd3786\"],[0.5555555555555556,\"#d8576b\"],[0.6666666666666666,\"#ed7953\"],[0.7777777777777778,\"#fb9f3a\"],[0.8888888888888888,\"#fdca26\"],[1.0,\"#f0f921\"]]}],\"surface\":[{\"type\":\"surface\",\"colorbar\":{\"outlinewidth\":0,\"ticks\":\"\"},\"colorscale\":[[0.0,\"#0d0887\"],[0.1111111111111111,\"#46039f\"],[0.2222222222222222,\"#7201a8\"],[0.3333333333333333,\"#9c179e\"],[0.4444444444444444,\"#bd3786\"],[0.5555555555555556,\"#d8576b\"],[0.6666666666666666,\"#ed7953\"],[0.7777777777777778,\"#fb9f3a\"],[0.8888888888888888,\"#fdca26\"],[1.0,\"#f0f921\"]]}],\"mesh3d\":[{\"type\":\"mesh3d\",\"colorbar\":{\"outlinewidth\":0,\"ticks\":\"\"}}],\"scatter\":[{\"fillpattern\":{\"fillmode\":\"overlay\",\"size\":10,\"solidity\":0.2},\"type\":\"scatter\"}],\"parcoords\":[{\"type\":\"parcoords\",\"line\":{\"colorbar\":{\"outlinewidth\":0,\"ticks\":\"\"}}}],\"scatterpolargl\":[{\"type\":\"scatterpolargl\",\"marker\":{\"colorbar\":{\"outlinewidth\":0,\"ticks\":\"\"}}}],\"bar\":[{\"error_x\":{\"color\":\"#2a3f5f\"},\"error_y\":{\"color\":\"#2a3f5f\"},\"marker\":{\"line\":{\"color\":\"#E5ECF6\",\"width\":0.5},\"pattern\":{\"fillmode\":\"overlay\",\"size\":10,\"solidity\":0.2}},\"type\":\"bar\"}],\"scattergeo\":[{\"type\":\"scattergeo\",\"marker\":{\"colorbar\":{\"outlinewidth\":0,\"ticks\":\"\"}}}],\"scatterpolar\":[{\"type\":\"scatterpolar\",\"marker\":{\"colorbar\":{\"outlinewidth\":0,\"ticks\":\"\"}}}],\"histogram\":[{\"marker\":{\"pattern\":{\"fillmode\":\"overlay\",\"size\":10,\"solidity\":0.2}},\"type\":\"histogram\"}],\"scattergl\":[{\"type\":\"scattergl\",\"marker\":{\"colorbar\":{\"outlinewidth\":0,\"ticks\":\"\"}}}],\"scatter3d\":[{\"type\":\"scatter3d\",\"line\":{\"colorbar\":{\"outlinewidth\":0,\"ticks\":\"\"}},\"marker\":{\"colorbar\":{\"outlinewidth\":0,\"ticks\":\"\"}}}],\"scattermapbox\":[{\"type\":\"scattermapbox\",\"marker\":{\"colorbar\":{\"outlinewidth\":0,\"ticks\":\"\"}}}],\"scatterternary\":[{\"type\":\"scatterternary\",\"marker\":{\"colorbar\":{\"outlinewidth\":0,\"ticks\":\"\"}}}],\"scattercarpet\":[{\"type\":\"scattercarpet\",\"marker\":{\"colorbar\":{\"outlinewidth\":0,\"ticks\":\"\"}}}],\"carpet\":[{\"aaxis\":{\"endlinecolor\":\"#2a3f5f\",\"gridcolor\":\"white\",\"linecolor\":\"white\",\"minorgridcolor\":\"white\",\"startlinecolor\":\"#2a3f5f\"},\"baxis\":{\"endlinecolor\":\"#2a3f5f\",\"gridcolor\":\"white\",\"linecolor\":\"white\",\"minorgridcolor\":\"white\",\"startlinecolor\":\"#2a3f5f\"},\"type\":\"carpet\"}],\"table\":[{\"cells\":{\"fill\":{\"color\":\"#EBF0F8\"},\"line\":{\"color\":\"white\"}},\"header\":{\"fill\":{\"color\":\"#C8D4E3\"},\"line\":{\"color\":\"white\"}},\"type\":\"table\"}],\"barpolar\":[{\"marker\":{\"line\":{\"color\":\"#E5ECF6\",\"width\":0.5},\"pattern\":{\"fillmode\":\"overlay\",\"size\":10,\"solidity\":0.2}},\"type\":\"barpolar\"}],\"pie\":[{\"automargin\":true,\"type\":\"pie\"}]},\"layout\":{\"autotypenumbers\":\"strict\",\"colorway\":[\"#636efa\",\"#EF553B\",\"#00cc96\",\"#ab63fa\",\"#FFA15A\",\"#19d3f3\",\"#FF6692\",\"#B6E880\",\"#FF97FF\",\"#FECB52\"],\"font\":{\"color\":\"#2a3f5f\"},\"hovermode\":\"closest\",\"hoverlabel\":{\"align\":\"left\"},\"paper_bgcolor\":\"white\",\"plot_bgcolor\":\"#E5ECF6\",\"polar\":{\"bgcolor\":\"#E5ECF6\",\"angularaxis\":{\"gridcolor\":\"white\",\"linecolor\":\"white\",\"ticks\":\"\"},\"radialaxis\":{\"gridcolor\":\"white\",\"linecolor\":\"white\",\"ticks\":\"\"}},\"ternary\":{\"bgcolor\":\"#E5ECF6\",\"aaxis\":{\"gridcolor\":\"white\",\"linecolor\":\"white\",\"ticks\":\"\"},\"baxis\":{\"gridcolor\":\"white\",\"linecolor\":\"white\",\"ticks\":\"\"},\"caxis\":{\"gridcolor\":\"white\",\"linecolor\":\"white\",\"ticks\":\"\"}},\"coloraxis\":{\"colorbar\":{\"outlinewidth\":0,\"ticks\":\"\"}},\"colorscale\":{\"sequential\":[[0.0,\"#0d0887\"],[0.1111111111111111,\"#46039f\"],[0.2222222222222222,\"#7201a8\"],[0.3333333333333333,\"#9c179e\"],[0.4444444444444444,\"#bd3786\"],[0.5555555555555556,\"#d8576b\"],[0.6666666666666666,\"#ed7953\"],[0.7777777777777778,\"#fb9f3a\"],[0.8888888888888888,\"#fdca26\"],[1.0,\"#f0f921\"]],\"sequentialminus\":[[0.0,\"#0d0887\"],[0.1111111111111111,\"#46039f\"],[0.2222222222222222,\"#7201a8\"],[0.3333333333333333,\"#9c179e\"],[0.4444444444444444,\"#bd3786\"],[0.5555555555555556,\"#d8576b\"],[0.6666666666666666,\"#ed7953\"],[0.7777777777777778,\"#fb9f3a\"],[0.8888888888888888,\"#fdca26\"],[1.0,\"#f0f921\"]],\"diverging\":[[0,\"#8e0152\"],[0.1,\"#c51b7d\"],[0.2,\"#de77ae\"],[0.3,\"#f1b6da\"],[0.4,\"#fde0ef\"],[0.5,\"#f7f7f7\"],[0.6,\"#e6f5d0\"],[0.7,\"#b8e186\"],[0.8,\"#7fbc41\"],[0.9,\"#4d9221\"],[1,\"#276419\"]]},\"xaxis\":{\"gridcolor\":\"white\",\"linecolor\":\"white\",\"ticks\":\"\",\"title\":{\"standoff\":15},\"zerolinecolor\":\"white\",\"automargin\":true,\"zerolinewidth\":2},\"yaxis\":{\"gridcolor\":\"white\",\"linecolor\":\"white\",\"ticks\":\"\",\"title\":{\"standoff\":15},\"zerolinecolor\":\"white\",\"automargin\":true,\"zerolinewidth\":2},\"scene\":{\"xaxis\":{\"backgroundcolor\":\"#E5ECF6\",\"gridcolor\":\"white\",\"linecolor\":\"white\",\"showbackground\":true,\"ticks\":\"\",\"zerolinecolor\":\"white\",\"gridwidth\":2},\"yaxis\":{\"backgroundcolor\":\"#E5ECF6\",\"gridcolor\":\"white\",\"linecolor\":\"white\",\"showbackground\":true,\"ticks\":\"\",\"zerolinecolor\":\"white\",\"gridwidth\":2},\"zaxis\":{\"backgroundcolor\":\"#E5ECF6\",\"gridcolor\":\"white\",\"linecolor\":\"white\",\"showbackground\":true,\"ticks\":\"\",\"zerolinecolor\":\"white\",\"gridwidth\":2}},\"shapedefaults\":{\"line\":{\"color\":\"#2a3f5f\"}},\"annotationdefaults\":{\"arrowcolor\":\"#2a3f5f\",\"arrowhead\":0,\"arrowwidth\":1},\"geo\":{\"bgcolor\":\"white\",\"landcolor\":\"#E5ECF6\",\"subunitcolor\":\"white\",\"showland\":true,\"showlakes\":true,\"lakecolor\":\"white\"},\"title\":{\"x\":0.05},\"mapbox\":{\"style\":\"light\"}}},\"legend\":{\"tracegroupgap\":0},\"title\":{\"text\":\"Enrollment Year Distribution\"}},                        {\"responsive\": true}                    ).then(function(){\n",
              "                            \n",
              "var gd = document.getElementById('c6c45cad-4e00-4cf4-b91c-1b1637908c4d');\n",
              "var x = new MutationObserver(function (mutations, observer) {{\n",
              "        var display = window.getComputedStyle(gd).display;\n",
              "        if (!display || display === 'none') {{\n",
              "            console.log([gd, 'removed!']);\n",
              "            Plotly.purge(gd);\n",
              "            observer.disconnect();\n",
              "        }}\n",
              "}});\n",
              "\n",
              "// Listen for the removal of the full notebook cells\n",
              "var notebookContainer = gd.closest('#notebook-container');\n",
              "if (notebookContainer) {{\n",
              "    x.observe(notebookContainer, {childList: true});\n",
              "}}\n",
              "\n",
              "// Listen for the clearing of the current output cell\n",
              "var outputEl = gd.closest('.output');\n",
              "if (outputEl) {{\n",
              "    x.observe(outputEl, {childList: true});\n",
              "}}\n",
              "\n",
              "                        })                };                            </script>        </div>\n",
              "</body>\n",
              "</html>"
            ]
          },
          "metadata": {}
        }
      ],
      "source": [
        "import plotly.express as px\n",
        "import pandas as pd\n",
        "\n",
        "fig = px.pie(\n",
        "    names=unique_counts.index,\n",
        "    values=unique_counts.values,\n",
        "    title='Enrollment Year Distribution'\n",
        ")\n",
        "\n",
        "fig.show()"
      ]
    },
    {
      "cell_type": "code",
      "execution_count": null,
      "metadata": {
        "colab": {
          "base_uri": "https://localhost:8080/"
        },
        "id": "9WLXsAj64qcy",
        "outputId": "fd06b567-c34f-4d06-b562-8c62f3362e50"
      },
      "outputs": [
        {
          "output_type": "display_data",
          "data": {
            "text/html": [
              "<html>\n",
              "<head><meta charset=\"utf-8\" /></head>\n",
              "<body>\n",
              "    <div>            <script src=\"https://cdnjs.cloudflare.com/ajax/libs/mathjax/2.7.5/MathJax.js?config=TeX-AMS-MML_SVG\"></script><script type=\"text/javascript\">if (window.MathJax && window.MathJax.Hub && window.MathJax.Hub.Config) {window.MathJax.Hub.Config({SVG: {font: \"STIX-Web\"}});}</script>                <script type=\"text/javascript\">window.PlotlyConfig = {MathJaxConfig: 'local'};</script>\n",
              "        <script charset=\"utf-8\" src=\"https://cdn.plot.ly/plotly-2.24.1.min.js\"></script>                <div id=\"63b790ba-2f6d-4bd3-9394-4ebc07bad197\" class=\"plotly-graph-div\" style=\"height:525px; width:100%;\"></div>            <script type=\"text/javascript\">                                    window.PLOTLYENV=window.PLOTLYENV || {};                                    if (document.getElementById(\"63b790ba-2f6d-4bd3-9394-4ebc07bad197\")) {                    Plotly.newPlot(                        \"63b790ba-2f6d-4bd3-9394-4ebc07bad197\",                        [{\"alignmentgroup\":\"True\",\"bingroup\":\"x\",\"hovertemplate\":\"Year=%{x}\\u003cbr\\u003ecount=%{y}\\u003cextra\\u003e\\u003c\\u002fextra\\u003e\",\"legendgroup\":\"\",\"marker\":{\"color\":\"#636efa\",\"pattern\":{\"shape\":\"\"}},\"name\":\"\",\"offsetgroup\":\"\",\"orientation\":\"v\",\"showlegend\":false,\"x\":[2022,2023,2022,2023,2019,2022,2023,2021,2022,2019,2021,2020,2022,2022,2021,2022,2021,2023,2022,2023,2021,2022,2022,2018,2022,2022,2021,2021,2021,2021,2022,2022,2019,2019,2019,2019,2019,2022,2022,2017,2014,2021,2017,2018,2019,2022,2019,2022,2023,2020,2016,2023,2022,2019,2022,2017,2023,2022,2023,2023,2022,2022,2023,2010,2022,2018,2023,2017,2016,2021,2018,2022,2022,2019,2021,2020,2022,2020,2015,2021,2019,2022,2023,2023,2019,2023,2019,2021,2023,2022,2021,2019,2019,2019,2020,2021,2023,2023,2022,2023,2019,2023,2023,2019,2023,2022,2023,2018,2023,2021,2021,2022,2021,2019,2018,2023,2019,2023,2022,2021,2021,2022,2021,2022,2023,2023,2020,2020,2018,2019,2019,2022,2021,2022,2023,2018,2019,2022,2020,2018,2018,2021,2020,2022,2021,2021,2023,2022,2023,2023,2023,2018,2019,2021,2020,2022,2020,2022,2023,2021,2022,2023,2022,2017,2023,2023,2022,2021,2018,2023,2018,2023,2022,2019,2023,2020,2020,2023,2023,2018,2021,2021,2020,2018,2019,2021,2020,2021,2018,2019,2018,2023,2018,2022,2023,2021,2020,2021,2018,2021,2018,2019,2023,2020,2022,2023,2021,2022,2023,2022,2022,2020,2022,2021,2019,2023,2023,2022,2021,2018,2023,2019,2018,2019,2022,2021,2020,2019,2018,2021,2018,2023,2022,2020,2023,2020,2023,2019,2021,2022,2021,2022,2022,2022,2020,2023,2021,2023,2018,2017,2016,2016,2014,2016,2019,2021,2022,2017,2021,2017,2016,2014,2018,2018,2022,2020,2021,2016,2019,2019,2022,2015,2020,2017,2022,2022,2023,2017,2020,2019,2019,2015,2018,2023,2019,2020,2022,2019,2022,2018,2018,2022,2022,2022,2023,2023,2019,2022,2022,2019,2023,2022,2022,2019,2022,2021,2023,2023,2019,2022,2018,2021,2015,2023,2019,2023,2019,2023,2021,2020,2019,2019,2018,2021,2022,2022,2022,2022,2022,2022,2018,2022,2023,2021,2021,2023,2023,2021,2020,2022,2019,2015,2021,2023,2021,2022,2019,2021,2021,2019,2022,2021,2018,2019,2022,2021,2023,2019,2023,2021,2019,2019,2021,2021,2015,2018,2020,2019,2019,2020,2022,2015,2019,2023,2019,2022,2021,2020,2021,2018,2021,2022,2023,2020,2021,2022,2021,2019,2021,2018,2019,2023,2021,2022,2023,2021,2019,2023,2022,2022,2018,2020,2021,2023,2021,2022,2020,2018,2022,2018,2019,2022,2018,2020,2022,2020,2021,2020,2023,2022,2018,2020,2022,2022,2018,2020,2018,2022,2021,2021,2018,2020,2019,2017,2017,2020,2020,2022,2021,2023,2019,2020,2020,2021,2021,2021,2021,2022,2022,2023,2022,2020,2021,2019,2018,2019,2023,2022,2021,2022,2021,2019,2023,2022,2022,2022,2022,2019,2023,2018,2020,2018,2023,2022,2021,2020,2021,2022,2022,2021,2022,2021,2023,2023,2022,2020,2020,2015,2022,2018,2019,2022,2019,2020,2020,2019,2022,2021,2021,2022,2023,2019,2015,2022,2021,2019,2019,2019,2022,2022,2022,2019,2022,2023,2023,2021,2023,2015,2023,2020,2022,2022,2019,2021,2023,2021,2021,2022,2021,2019,2020,2021,2021,2018,2022,2016,2014,2016,2016,2014,2016,2017,2023,2022,2019,2017,2019,2023,2022,2012,2016,2022,2021,2023,2021,2018,2023,2023,2018,2021,2021,2018,2018,2023,2019,2022,2022,2019,2023,2011,2023,2019,2020,2022,2018,2022,2023,2020,2018,2020,2019,2022,2021,2020,2018,2021,2021,2023,2018,2019,2023,2020,2023,2021,2019,2021,2021,2022,2022,2020,2020,2022,2018,2022,2022,2022,2020,2022,2019,2021,2022,2022,2020,2023,2021,2023,2019,2021,2021,2022,2021,2023,2018,2021,2018,2022,2020,2021,2021,2022,2021,2022,2018,2019,2020,2022,2021,2021,2020,2023,2019,2023,2020,2019,2019,2023,2019,2022,2022,2018,2021,2021,2020,2023,2022,2021,2019,2022,2023,2023,2022,2018,2022,2023,2019,2023,2022,2021,2023,2022,2023,2023,2019,2021,2023,2023,2018,2022,2019,2023,2020,2021,2022,2023,2023,2022,2022,2023,2021,2019,2020,2019,2023,2021,2021,2019,2023,2023,2019,2023,2019,2022,2018,2023,2021,2023,2021,2023,2019,2022,2021,2018,2023,2021,2023,2020,2019,2023,2015,2022,2017,2023,2017,2023,2023,2023,2022,2020,2020,2019,2020,2022,2020,2018,2021,2021,2022,2022,2022,2023,2018,2018,2018,2021,2019,2018,2023,2021,2022,2019,2021,2019,2022,2018,2023,2019,2022,2022,2021,2022,2022,2022,2015,2023,2023,2018,2015,2023,2021,2023,2022,2023,2021,2022,2021,2023,2021,2020,2023,2019,2021,2016,2021,2023,2020,2023,2023,2022,2021,2021,2019,2023,2021,2022,2016,2023,2018,2022,2021,2019,2016,2021,2022,2021,2022,2021,2023,2022,2021,2015,2014,2017,2013,2016,2016,2012,2019,2022,2015,2021,2018,2016,2016,2022,2023,2023,2018,2020,2022,2023,2021,2021,2022,2023,2017,2013,2012,2017,2017,2022,2020,2022,2022,2023,2022,2010,2014,2023,2020,2017,2020,2021,2008,2020,2022,2023,2020,2023,2020,2021,2022,2019,2022,2023,2017,2019,2021,2022,2019,2023,2017,2019,2014,2019,2022,2011,2013,2017,2018,2022,2017,2017,2021,2017,2014,2017,2022,2022,2019,2021,2021,2020,2019,2019,2023,2017,2017,2018,2023,2018,2022,2018,2020,2023,2021,2022,2019,2021,2018,2019,2019,2023,2019,2018,2023,2022,2021,2023,2021,2018,2018,2020,2022,2022,2021,2021,2021,2016,2016,2016,2022,2019,2017,2018,2015,2018,2019,2023,2021,2022,2021,2022,2016,2017,2016,2017,2013,2022,2019,2021,2019,2019,2017,2017,2014,2014,2013,2021,2019,2018,2018,2019,2021,2022,2020,2021,2021,2020,2018,2022,2022,2015,2018,2015,2019,2019,2018,2023,2021,2019,2015,2021,2018,2021,2022,2020,2020,2021,2018,2020,2023,2022,2022,2019,2022,2021,2018,2019,2019,2022,2019,2023,2019,2019,2023,2020,2022,2023,2021,2019,2018,2018,2021,2023,2023,2019,2019,2021,2021,2019,2018,2021,2022,2022,2019,2022,2023,2022,2021,2018,2020,2020,2021,2021,2019,2018,2020,2023,2022,2023,2021,2020,2021,2022,2021,2019,2021,2020,2022,2022,2023,2021,2022,2023,2013,2017,2017,2017,2017,2016,2023,2020,2023,2019,2022,2023,2023,2017,2020,2022,2021,2022,2019,2022,2023,2021,2022,2019,2018,2022,2021,2022,2023,2018,2021,2020,2023,2023,2019,2022,2019,2022,2022,2020,2023,2023,2021,2020,2022,2021,2022,2019,2020,2022,2022,2016,2017,2016,2014,2019,2011,2013,2012,2017,2018,2020,2019,2021,2019,2019,2022,2022,2019,2022,2018,2022,2021,2017,2021,2017,2017,2020,2019,2023,2016,2016,2019,2022,2021,2023,2019,2023,2022,2019,2020,2018,2022,2022,2018,2018,2014,2021,2021,2022,2015,2023,2018,2023,2023,2018,2022,2022,2021,2020,2018,2021,2019,2018,2018,2021,2021,2021,2021,2017,2020,2023,2017,2022,2023,2021,2019,2022,2022,2023,2023,2023,2019,2023,2017,2022,2021,2022,2021,2021,2019,2021,2021,2020,2016,2017,2023,2017,2019,2017,2017,2017,2022,2016,2013,2016,2016,2023,2016,2023,2020,2014,2020,2022,2019,2022,2022,2019,2022,2022,2023,2015,2018,2020,2023,2021,2023,2021,2023,2021,2020,2019,2022,2023,2017,2018,2022,2017,2022,2019,2018,2022,2022,2021,2022,2022,2021,2021,2022,2020,2021,2023,2021,2022,2021,2019,2021,2020,2019,2021,2019,2020,2019,2021,2018,2021,2023,2021,2019,2021,2021,2022,2023,2021,2019,2023,2020,2018,2019,2019,2023,2022,2018,2020,2019,2019,2022,2021,2023,2022,2021,2022,2022,2022,2020,2019,2020,2023,2019,2020,2018,2022,2022,2021,2020,2020,2023,2023,2023,2021,2019,2022,2021,2019,2018,2019,2021,2018,2018,2021,2023,2023,2021,2021,2019,2019,2020,2022,2018,2022,2021,2018,2022,2022,2023,2021,2022,2023,2018,2019,2018,2020,2015,2015,2019,2019,2023,2023,2020,2019,2015,2020,2022,2021,2022,2020,2018,2018,2022,2020,2022,2021,2021,2018,2021,2022,2022,2018,2017,2018,2022,2019,2022,2018,2020,2019,2023,2017,2016,2014,2013,2021,2015,2019,2022,2018,2019,2018,2018,2020,2017,2017,2013,2017,2022,2019,2022,2012,2021,2016,2022,2018,2020,2021,2022,2015,2022,2020,2014,2016,2020,2020,2020,2019,2017,2017,2014,2019,2020,2022,2023,2018,2017,2020,2022,2013,2023,2018,2023,2022,2018,2022,2022,2020,2022,2022,2023,2018,2015,2022,2022,2020,2021,2015,2019,2021,2018,2019,2023,2022,2020,2023,2022,2015,2023,2021,2019,2022,2021,2018,2021,2023,2021,2022,2020,2022,2021,2021,2019,2019,2023,2021,2020,2016,2014,2021,2021,2020,2022,2018,2017,2013,2016,2017,2016,2019,2018,2023,2020,2021,2023,2023,2020,2019,2021,2022,2020,2023,2018,2020,2020,2018,2022,2023,2021,2023,2022,2022,2023,2018,2021,2021,2021,2018,2023,2022,2021,2022,2022,2022,2021,2018,2019,2021,2018,2020,2022,2018,2021,2021,2022,2023,2023,2018,2022,2020,2022,2021,2022,2022,2022,2023,2020,2022,2023,2022,2023,2023,2018,2019,2020,2021,2021,2021,2022,2022,2019,2023,2019,2018,2020,2021,2021,2019,2023,2021,2023,2022,2019,2021,2017,2021,2018,2018,2023,2021,2021,2023,2016,2012,2017,2020,2020,2022,2022,2019,2023,2018,2015,2023,2020,2023,2021,2020,2020,2020,2021,2017,2023,2022,2018,2019,2020,2022,2023,2022,2022,2022,2019,2023,2023,2018,2021,2023,2022,2022,2023,2021,2020,2023,2020,2021,2019,2018,2022,2021,2018,2021,2022,2021,2022,2021,2018,2019,2018,2018,2021,2021,2021,2020,2019,2019,2022,2022,2018,2023,2023,2023,2023,2018,2020,2020,2022,2019,2021,2019,2023,2021,2019,2019,2022,2022,2021,2018,2023,2022,2019,2021,2022,2022,2023,2022,2021,2018,2022,2022,2019,2018,2022,2022,2021,2018,2021,2022,2022,2022,2021,2022,2022,2022,2022,2019,2019,2020,2022,2020,2023,2019,2020,2020,2023,2023,2021,2020,2020,2021,2017,2019,2018,2021,2022,2018,2023,2023,2020,2021,2021,2022,2021,2023,2023,2023,2023,2021,2019,2019,2022,2020,2021,2022,2019,2022,2022,2022,2021,2020,2021,2021,2021,2018,2020,2018,2018,2023,2019,2020,2019,2023,2020,2020,2021,2020,2023,2015,2020,2022,2022,2023,2020,2022,2022,2021,2022,2018,2021,2023,2018,2022,2021,2021,2023,2021,2018,2023,2022,2019,2019,2022,2019,2021,2019,2018,2021,2019,2021,2023,2017,2022,2018,2022,2021,2022,2023,2022,2022,2022,2021,2015,2019,2020,2015,2021,2018,2021,2019,2018,2019,2021,2023,2021,2015,2015,2022,2023,2020,2023,2023,2017,2016,2022,2019,2023,2016,2022,2023,2021,2023,2015,2023,2011,2020,2019,2017,2023,2022,2021,2023,2020,2018,2021,2021,2020,2015,2018,2019,2021,2023,2023,2022,2021,2018,2021,2022,2020,2015,2022,2021,2021,2019,2021,2022,2021,2023,2021,2021,2021,2021,2022,2020,2018,2021,2020,2021,2021,2020,2021,2019,2023,2022,2020,2022,2017,2023,2020,2019,2022,2022,2018,2022,2020,2023,2021,2020,2018,2023,2021,2019,2023,2022,2019,2021,2023,2022,2020,2022,2021,2022,2019,2018,2021,2019,2020,2021,2019,2018,2022,2023,2022,2016,2017,2014,2021,2021,2021,2022,2023,2020,2016,2017,2014,2011,2018,2016,2017,2017,2017,2017,2016,2017,2016,2016,2017,2016,2017,2016,2017,2016,2022,2022,2023,2018,2015,2021,2023,2014,2023,2022,2023,2023,2020,2021,2022,2021,2020,2017,2013,2017,2014,2023,2019,2020,2021,2022,2021,2021,2018,2023,2019,2019,2021,2021,2023,2019,2021,2015,2022,2019,2023,2023,2023,2015,2019,2023,2019,2021,2021,2019,2021,2020,2023,2021,2022,2022,2022,2022,2021,2019,2023,2022,2022,2022,2023,2022,2019,2023,2021,2021,2020,2022,2021,2017,2012,2017,2021,2020,2022,2022,2022,2021,2015,2023,2018,2023,2022,2021,2019,2021,2019,2018,2017,2016,2016,2021,2013,2019,2022,2015,2017,2018,2022,2022,2018,2021,2021,2021,2023,2023,2021,2022,2019,2020,2019,2017,2013,2016,2019,2016,2013,2016,2023,2014,2019,2018,2022,2019,2020,2021,2019,2022,2021,2023,2017,2019,2023,2021,2018,2019,2021,2023,2016,2017,2013,2021,2014,2016,2023,2014,2014,2019,2023,2019,2022,2022,2017,2013,2018,2020,2022,2021,2023,2021,2021,2023,2023,2022,2018,2023,2019,2020,2022,2022,2023,2023,2019,2018,2017,2022,2022,2022,2023,2020,2022,2019,2022,2023,2020,2021,2022,2021,2022,2019,2019,2023,2021,2023,2019,2021,2022,2023,2021,2022,2019,2023,2021,2020,2022,2015,2023,2023,2022,2022,2021,2023,2018,2020,2015,2022,2019,2019,2022,2022,2020,2021,2022,2022,2019,2018,2022,2016,2019,2022,2021,2018,2021,2022,2022,2015,2022,2019,2018,2018,2023,2014,2021,2022,2018,2020,2021,2020,2018,2020,2021,2020,2021,2023,2021,2021,2021,2020,2018,2022,2019,2021,2019,2022,2019,2022,2021,2021,2019,2023,2023,2022,2022,2023,2023,2023,2019,2019,2023,2021,2023,2023,2019,2023,2020,2021,2022,2020,2020,2022,2021,2019,2019,2018,2018,2019,2021,2022,2023,2018,2019,2019,2018,2023,2019,2019,2023,2021,2019,2021,2020,2019,2019,2021,2022,2021,2020,2022,2021,2022,2021,2019,2018,2021,2019,2022,2022,2023,2019,2022,2020,2019,2023,2023,2022,2023,2020,2022,2022,2021,2023,2021,2021,2023,2021,2022,2023,2023,2021,2018,2016,2017,2022,2019,2018,2020,2022,2019,2022,2016,2022,2019,2018,2015,2021,2011,2016,2022,2019,2023,2021,2016,2020,2019,2017,2021,2014,2019,2020,2014,2013,2022,2021,2019,2019,2009,2021,2022,2021,2022,2020,2020,2019,2021,2021,2021,2023,2022,2022,2023,2016,2018,2018,2023,2022,2021,2018,2022,2021,2020,2020,2021,2019,2023,2022,2023,2021,2018,2022,2021,2020,2019,2019,2023,2021,2020,2022,2021,2020,2022,2019,2021,2021,2020,2019,2022,2022,2022,2019,2019,2022,2023,2022,2019,2019,2023,2023,2019,2023,2020,2018,2023,2021,2019,2020,2022,2020,2021,2019,2021,2022,2018,2018,2022,2021,2019,2019,2023,2023,2015,2023,2022,2022,2022,2023,2023,2021,2018,2022,2023,2022,2021,2021,2022,2021,2023,2015,2021,2023,2023,2018,2015,2018,2020,2020,2023,2022,2021,2022,2023,2023,2021,2018,2019,2023,2021,2020,2023,2019,2023,2021,2018,2022,2022,2019,2018,2021,2023,2018,2020,2015,2019,2019,2022,2023,2018,2019,2021,2020,2020,2019,2021,2022,2022,2020,2023,2020,2018,2023,2023,2019,2023,2018,2023,2016,2017,2012,2017,2020,2020,2021,2021,2022,2019,2020,2019,2021,2021,2023,2023,2022,2019,2021,2018,2020,2022,2019,2021,2018,2023,2018,2019,2022,2020,2020,2023,2021,2019,2022,2022,2022,2023,2015,2019,2019,2023,2019,2021,2020,2023,2019,2012,2022,2018,2021,2021,2022,2021,2022,2022,2020,2019,2011,2016,2018,2016,2017,2016,2012,2013,2020,2023,2022,2023,2022,2021,2019,2023,2022,2021,2019,2021,2021,2019,2021,2023,2023,2022,2022,2022,2018,2023,2022,2016,2022,2021,2022,2022,2022,2023,2022,2023,2011,2016,2014,2017,2014,2014,2020,2022,2021,2015,2018,2022,2019,2018,2015,2021,2023,2021,2018,2018,2015,2021,2014,2017,2022,2022,2021,2021,2023,2018,2022,2022,2019,2020,2017,2021,2017,2017,2016,2016,2012,2016,2016,2021,2017,2018,2019,2017,2018,2022,2019,2021,2018,2022,2023,2021,2019,2019,2019,2023,2022,2018,2022,2022,2022,2022,2022,2021,2018,2022,2022,2022,2020,2022,2019,2019,2022,2020,2022,2021,2020,2021,2021,2019,2021,2020,2019,2022,2018,2021,2021,2021,2022,2022,2021,2018,2017,2017,2017,2017,2019,2016,2016,2012,2016,2013,2012,2021,2023,2022,2019,2015,2023,2019,2022,2022,2020,2023,2018,2019,2023,2019,2018,2020,2018,2020,2023,2022,2023,2018,2019,2021,2019,2019,2021,2023,2018,2020,2018,2020,2021,2018,2023,2022,2020,2015,2020,2022,2023,2022,2021,2021,2023,2021,2022,2022,2021,2023,2022,2020,2018,2023,2022,2023,2018,2022,2020,2021,2020,2015,2023,2022,2022,2019,2022,2022,2020,2019,2023,2023,2021,2020,2019,2018,2021,2023,2019,2022,2023,2018,2020,2023,2019,2020,2022,2023,2022,2019,2022,2018,2023,2023,2021,2016,2016,2017,2016,2017,2017,2017,2017,2017,2017,2016,2016,2011,2011,2017,2017,2016,2015,2020,2016,2021,2023,2016,2019,2019,2023,2019,2020,2021,2020,2022,2014,2016,2017,2021,2021,2023,2019,2019,2023,2022,2011,2017,2014,2017,2022,2020,2012,2023,2017,2014,2013,2021,2021,2018,2021,2022,2019,2019,2021,2017,2018,2017,2012,2017,2021,2022,2016,2017,2016,2018,2018,2018,2019,2022,2022,2020,2018,2021,2023,2019,2021,2021,2021,2023,2015,2015,2020,2022,2023,2020,2023,2023,2019,2021,2016,2017,2016,2017,2019,2017,2021,2021,2021,2022,2022,2022,2018,2019,2023,2020,2019,2020,2018,2018,2019,2022,2023,2023,2023,2023,2019,2022,2019,2023,2021,2022,2021,2020,2022,2022,2022,2021,2019,2021,2022,2020,2015,2020,2022,2019,2018,2020,2022,2013,2016,2022,2022,2018,2021,2023,2020,2019,2018,2020,2021,2022,2023,2020,2014,2013,2011,2016,2016,2021,2022,2019,2022,2022,2020,2020,2019,2021,2022,2018,2022,2020,2017,2017,2017,2019,2023,2020,2023,2023,2023,2019,2022,2018,2020,2022,2022,2019,2019,2013,2017,2014,2013,2017,2016,2014,2012,2016,2017,2014,2014,2017,2013,2016,2008,2016,2017,2017,2017,2017,2023,2021,2018,2023,2022,2021,2022,2020,2019,2021,2020,2018,2023,2023,2022,2022,2015,2023,2018,2023,2022,2022,2020,2021,2022,2018,2023,2015,2021,2019,2022,2021,2022,2020,2022,2019,2019,2022,2022,2023,2023,2021,2021,2023,2021,2018,2021,2023,2022,2022,2020,2022,2021,2023,2020,2022,2021,2020,2018,2020,2020,2019,2020,2023,2018,2022,2022,2021,2022,2021,2023,2021,2020,2021,2020,2019,2020,2015,2022,2022,2021,2018,2022,2022,2020,2020,2021,2021,2021,2021,2020,2023,2019,2023,2022,2021,2022,2017,2014,2022,2020,2022,2019,2019,2020,2016,2017,2017,2017,2014,2023,2018,2019,2022,2023,2017,2014,2021,2016,2019,2019,2017,2017,2020,2020,2019,2019,2021,2021,2021,2016,2012,2016,2017,2014,2010,2016,2017,2021,2021,2022,2017,2018,2021,2023,2017,2023,2022,2021,2018,2012,2017,2014,2023,2019,2019,2023,2023,2023,2021,2019,2019,2022,2022,2021,2018,2023,2021,2018,2019,2022,2023,2022,2018,2020,2021,2020,2020,2021,2023,2022,2022,2021,2022,2018,2018,2023,2019,2023,2022,2023,2023,2023,2021,2020,2020,2017,2022,2017,2023,2023,2023,2020,2022,2022,2022,2019,2020,2023,2018,2020,2019,2020,2017,2017,2019,2023,2023,2023,2021,2019,2020,2023,2023,2023,2022,2021,2023,2019,2023,2023,2022,2021,2021,2023,2021,2021,2021,2023,2023,2022,2023,2022,2021,2023,2023,2020,2021,2022,2023,2022,2019,2023,2021,2023,2023,2022,2020,2022,2022,2023,2021,2021,2021,2021,2017,2016,2021,2022,2023,2022,2022,2021,2021,2020,2015,2020,2022,2021,2022,2021,2020,2023,2023,2022,2022,2021,2020,2022,2022,2019,2021,2022,2022,2020,2019,2023,2020,2021,2023,2020,2022,2023,2019,2022,2022,2023,2019,2023,2022,2022,2018,2021,2022,2022,2017,2022,2018,2018,2022,2018,2019,2022,2023,2018,2019,2023,2022,2022,2020,2015,2020,2022,2020,2019,2022,2017,2019,2022,2022,2021,2020,2019,2023,2023,2023,2023,2016,2021,2022,2022,2021,2017,2017,2017,2017,2016,2019,2014,2017,2013,2022,2019,2022,2011,2022,2023,2020,2018,2021,2021,2022,2020,2019,2022,2021,2019,2019,2022,2021,2020,2021,2020,2023,2018,2022,2021,2023,2023,2021,2023,2023,2019,2021,2022,2022,2020,2019,2022,2020,2020,2023,2023,2021,2021,2023,2020,2018,2022,2023,2023,2023,2022,2023,2015,2023,2022,2019,2018,2018,2015,2021,2022,2022,2021,2018,2020,2021,2018,2018,2023,2022,2018,2023,2022,2023,2021,2023,2021,2019,2022,2021,2021,2023,2020,2019,2018,2023,2021,2021,2021,2022,2019,2019,2019,2020,2021,2021,2022,2022,2023,2022,2018,2021,2018,2023,2021,2019,2020,2022,2021,2015,2021,2020,2020,2020,2018,2022,2023,2022,2022,2021,2023,2018,2018,2019,2020,2018,2023,2022,2019,2019,2019,2018,2018,2022,2023,2022,2023,2022,2020,2023,2020,2022,2022,2018,2021,2022,2019,2023,2022,2021,2023,2022,2023,2022,2023,2022,2022,2020,2019,2019,2023,2021,2018,2022,2022,2018,2019,2022,2022,2022,2018,2021,2022,2019,2019,2022,2018,2023,2022,2021,2022,2019,2022,2022,2022,2022,2019,2019,2020,2021,2021,2019,2023,2021,2023,2021,2021,2022,2021,2021,2019,2022,2018,2020,2023,2023,2023,2021,2019,2018,2022,2020,2020,2023,2021,2023,2022,2019,2021,2023,2021,2021,2022,2019,2019,2019,2023,2021,2021,2018,2023,2023,2023,2022,2023,2019,2018,2015,2022,2023,2020,2019,2023,2023,2022,2019,2022,2021,2018,2021,2022,2023,2023,2023,2022,2022,2020,2023,2019,2020,2019,2020,2023,2020,2019,2019,2018,2021,2020,2019,2023,2023,2022,2022,2022,2023,2021,2019,2022,2020,2022,2023,2022,2023,2018,2023,2021,2018,2019,2021,2023,2018,2021,2020,2021,2018,2022,2022,2015,2018,2021,2022,2022,2018,2023,2022,2019,2020,2023,2019,2018,2021,2021,2023,2022,2014,2014,2016,2016,2016,2016,2022,2019,2020,2021,2023,2022,2019,2023,2022,2022,2023,2019,2019,2022,2022,2021,2021,2019,2022,2017,2023,2023,2023,2022,2019,2022,2022,2022,2022,2019,2023,2021,2020,2023,2023,2019,2019,2021,2020,2021,2019,2023,2020,2022,2019,2018,2022,2022,2023,2022,2022,2019,2023,2021,2019,2020,2022,2023,2022,2023,2020,2018,2023,2020,2022,2022,2021,2023,2022,2019,2021,2020,2020,2021,2022,2021,2022,2020,2022,2019,2021,2019,2019,2018,2020,2022,2021,2023,2023,2021,2023,2021,2021,2018,2018,2022,2018,2023,2018,2022,2021,2019,2020,2023,2023,2021,2019,2021,2021,2018,2019,2023,2022,2022,2022,2020,2022,2023,2023,2023,2020,2022,2019,2022,2020,2021,2020,2021,2022,2020,2022,2021,2023,2022,2023,2020,2022,2023,2021,2020,2021,2018,2022,2023,2023,2020,2019,2023,2018,2022,2023,2021,2019,2020,2018,2021,2023,2022,2021,2019,2019,2020,2023,2021,2021,2020,2022,2022,2022,2021,2021,2020,2023,2022,2018,2021,2023,2021,2020,2018,2023,2023,2023,2021,2023,2022,2022,2019,2019,2019,2023,2020,2023,2021,2022,2020,2021,2021,2022,2022,2021,2022,2019,2022,2021,2019,2021,2023,2017,2013,2008,2021,2023,2021,2017,2021,2019,2022,2023,2022,2022,2020,2023,2018,2023,2019,2020,2020,2022,2014,2017,2021,2019,2020,2023,2019,2021,2022,2019,2019,2018,2022,2019,2019,2019,2021,2022,2020,2023,2020,2023,2021,2023,2023,2022,2023,2021,2021,2023,2015,2020,2017,2017,2017,2017,2020,2021,2020,2023,2022,2020,2022,2019,2023,2023,2019,2020,2023,2023,2021,2022,2021,2021,2020,2019,2021,2021,2022,2021,2021,2019,2022,2020,2022,2021,2023,2023,2019,2022,2022,2023,2021,2011,2020,2020,2022,2019,2019,2022,2020,2023,2023,2019,2020,2022,2021,2021,2019,2023,2023,2023,2021,2022,2017,2021,2020,2020,2023,2021,2016,2019,2022,2023,2021,2018,2022,2012,2022,2023,2022,2023,2015,2021,2014,2020,2016,2016,2022,2021,2022,2023,2021,2022,2019,2018,2022,2019,2014,2017,2016,2017,2021,2023,2018,2018,2016,2014,2023,2012,2018,2023,2023,2018,2021,2020,2018,2015,2014,2017,2014,2019,2019,2013,2013,2011,2023,2023,2022,2017,2017,2017,2022,2016,2017,2014,2013,2011,2015,2022,2022,2019,2022,2022,2022,2023,2019,2023,2023,2018,2019,2023,2019,2023,2018,2021,2022,2022,2023,2019,2023,2022,2020,2022,2018,2023,2021,2015,2022,2019,2023,2019,2021,2022,2020,2019,2023,2020,2019,2021,2022,2019,2022,2018,2018,2022,2021,2023,2020,2023,2020,2023,2018,2023,2020,2021,2020,2022,2015,2019,2023,2022,2022,2023,2022,2017,2017,2017,2023,2013,2023,2018,2019,2020,2021,2020,2018,2017,2016,2017,2016,2017,2016,2016,2012,2018,2016,2020,2022,2023,2018,2022,2020,2018,2018,2021,2018,2019,2022,2021,2021,2018,2019,2020,2021,2018,2020,2020,2019,2016,2016,2018,2015,2022,2017,2017,2022,2018,2016,2016,2022,2022,2020,2019,2015,2023,2021,2021,2023,2021,2023,2019,2022,2019,2014,2013,2014,2017,2017,2019,2022,2018,2021,2021,2023,2022,2021,2019,2022,2021,2018,2022,2023,2019,2019,2022,2021,2021,2020,2023,2023,2022,2023,2021,2019,2019,2022,2020,2022,2013,2023,2016,2014,2017,2020,2016,2021,2023,2019,2019,2019,2023,2020,2014,2017,2012,2014,2023,2022,2012,2020,2021,2022,2023,2023,2023,2020,2021,2015,2022,2019,2015,2022,2019,2018,2022,2023,2022,2020,2023,2016,2017,2016,2022,2019,2022,2022,2023,2022,2022,2014,2022,2019,2019,2021,2015,2020,2021,2022,2022,2022,2020,2018,2020,2023,2023,2020,2023,2021,2015,2019,2022,2022,2021,2020,2020,2018,2020,2022,2018,2018,2022,2021,2019,2020,2022,2022,2021,2022,2020,2022,2020,2022,2019,2018,2021,2021,2018,2021,2021,2020,2023,2021,2021,2021,2018,2018,2021,2018,2015,2021,2022,2022,2019,2021,2021,2021,2021,2022,2023,2019,2021,2020,2022,2019,2015,2015,2018,2021,2019,2019,2019,2022,2021,2021,2020,2021,2022,2023,2015,2022,2023,2021,2022,2020,2020,2019,2021,2022,2023,2018,2022,2023,2022,2019,2021,2019,2019,2022,2021,2020,2020,2023,2020,2022,2022,2023,2021,2022,2022,2020,2023,2022,2021,2022,2021,2023,2019,2021,2019,2021,2021,2022,2023,2018,2023,2020,2021,2019,2022,2019,2022,2021,2020,2021,2020,2019,2021,2013,2017,2017,2023,2013,2016,2008,2016,2014,2016,2017,2016,2016,2014,2017,2014,2023,2023,2022,2023,2023,2023,2023,2023,2022,2022,2022,2022,2019,2021,2021,2021,2020,2022,2023,2023,2018,2018,2022,2013,2017,2017,2018,2020,2019,2021,2018,2021,2023,2020,2023,2022,2023,2022,2023,2021,2021,2015,2020,2019,2023,2019,2021,2022,2020,2018,2020,2021,2021,2019,2017,2020,2017,2012,2017,2019,2023,2023,2021,2023,2023,2022,2023,2023,2023,2022,2020,2022,2020,2022,2018,2021,2020,2021,2022,2020,2021,2018,2013,2017,2014,2013,2017,2023,2008,2017,2016,2012,2016,2021,2015,2021,2021,2015,2018,2019,2018,2022,2017,2017,2014,2023,2023,2016,2014,2016,2016,2017,2012,2022,2021,2016,2019,2023,2023,2023,2022,2021,2023,2021,2021,2023,2020,2018,2023,2020,2022,2022,2022,2022,2023,2023,2018,2022,2020,2021,2023,2021,2023,2020,2022,2019,2021,2021,2020,2022,2019,2019,2019,2023,2021,2021,2019,2022,2018,2022,2022,2020,2022,2020,2023,2020,2018,2023,2021,2022,2023,2023,2022,2020,2018,2021,2021,2022,2022,2019,2019,2015,2023,2022,2020,2023,2020,2023,2020,2021,2021,2020,2019,2018,2021,2020,2023,2019,2023,2019,2021,2019,2021,2021,2023,2021,2022,2017,2017,2016,2014,2017,2012,2017,2020,2013,2019,2020,2016,2014,2011,2017,2014,2017,2016,2016,2017,2017,2017,2017,2017,2017,2017,2016,2017,2016,2021,2017,2014,2013,2012,2013,2017,2016,2014,2011,2017,2013,2012,2016,2017,2023,2018,2021,2020,2017,2017,2018,2017,2016,2022,2022,2019,2021,2017,2021,2023,2023,2021,2023,2014,2022,2017,2022,2017,2018,2019,2022,2019,2019,2021,2014,2022,2016,2020,2019,2022,2021,2022,2015,2020,2021,2023,2021,2023,2014,2017,2017,2016,2017,2017,2020,2023,2019,2022,2019,2019,2012,2017,2017,2016,2014,2013,2017,2017,2014,2011,2017,2012,2014,2019,2023,2021,2023,2022,2015,2019,2021,2023,2021,2018,2023,2018,2023,2021,2016,2021,2023,2022,2019,2022,2018,2017,2016,2017,2011,2012,2017,2012,2018,2020,2020,2017,2023,2021,2023,2023,2018,2022,2022,2021,2021,2022,2015,2019,2023,2021,2015,2023,2021,2023,2022,2022,2023,2020,2019,2018,2023,2022,2018,2023,2022,2022,2019,2021,2019,2022,2022,2023,2021,2019,2023,2018,2021,2022,2018,2021,2019,2021,2020,2018,2015,2022,2021,2019,2019,2019,2019,2022,2023,2023,2021,2021,2023,2021,2020,2023,2021,2018,2022,2022,2022,2023,2023,2020,2023,2023,2021,2022,2020,2023,2021,2022,2021,2023,2021,2019,2018,2023,2020,2021,2023,2023,2014,2021,2021,2018,2020,2023,2020,2022,2018,2021,2021,2016,2014,2016,2017,2016,2017,2020,2021,2018,2023,2023,2018,2023,2022,2022,2019,2019,2020,2021,2022,2022,2018,2022,2022,2016,2017,2021,2021,2021,2022,2022,2018,2023,2018,2022,2020,2018,2022,2019,2022,2021,2018,2019,2018,2023,2015,2022,2023,2019,2015,2015,2022,2022,2022,2020,2023,2020,2021,2020,2022,2023,2019,2020,2018,2022,2019,2017,2020,2011,2020,2019,2022,2015,2023,2018,2021,2023,2023,2022,2015,2023,2019,2019,2021,2017,2015,2022,2021,2022,2022,2019,2017,2020,2022,2021,2018,2019,2017,2017,2017,2019,2022,2023,2018,2014,2013,2022,2021,2015,2021,2021,2021,2021,2022,2019,2019,2022,2021,2022,2023,2023,2022,2021,2023,2023,2021,2018,2019,2016,2016,2017,2016,2008,2016,2023,2018,2013,2014,2021,2022,2019,2019,2019,2022,2017,2022,2017,2016,2012,2012,2012,2013,2013,2023,2013,2022,2023,2013,2014,2017,2017,2012,2019,2022,2019,2019,2021,2022,2019,2022,2023,2015,2021,2019,2022,2022,2021,2020,2022,2019,2020,2020,2018,2021,2022,2018,2020,2022,2020,2018,2015,2015,2022,2023,2020,2023,2022,2020,2020,2019,2022,2023,2023,2021,2018,2021,2023,2023,2021,2022,2018,2023,2022,2018,2022,2021,2022,2019,2021,2018,2020,2023,2019,2023,2022,2018,2018,2022,2021,2018,2023,2019,2022,2022,2021,2019,2019,2021,2021,2022,2020,2019,2023,2022,2022,2022,2020,2023,2019,2020,2022,2023,2022,2021,2021,2020,2023,2020,2020,2022,2022,2019,2021,2023,2022,2023,2018,2023,2023,2023,2021,2021,2020,2020,2021,2021,2022,2023,2023,2014,2023,2019,2023,2021,2023,2019,2019,2023,2023,2023,2019,2021,2019,2022,2020,2022,2019,2023,2023,2020,2022,2022,2022,2020,2023,2023,2020,2021,2015,2018,2022,2015,2018,2022,2018,2018,2021,2023,2023,2020,2020,2022,2023,2019,2020,2020,2021,2023,2023,2022,2023,2019,2023,2015,2022,2022,2023,2018,2022,2018,2022,2020,2018,2015,2019,2022,2023,2015,2021,2019,2021,2019,2023,2023,2021,2018,2019,2023,2018,2016,2011,2014,2013,2016,2017,2020,2019,2022,2021,2021,2017,2017,2017,2016,2019,2014,2013,2012,2017,2016,2016,2013,2017,2009,2016,2016,2016,2021,2019,2019,2019,2017,2019,2016,2012,2012,2011,2016,2014,2017,2011,2021,2022,2014,2016,2017,2022,2022,2022,2017,2023,2023,2017,2022,2023,2016,2014,2012,2016,2017,2023,2017,2022,2013,2023,2016,2012,2016,2022,2019,2019,2021,2021,2020,2019,2018,2021,2022,2022,2023,2022,2021,2018,2018,2022,2022,2021,2022,2023,2017,2022,2023,2021,2021,2023,2019,2022,2021,2022,2021,2015,2023,2021,2022,2018,2021,2018,2023,2017,2016,2015,2021,2016,2016,2017,2021,2022,2019,2022,2018,2014,2017,2016,2017,2017,2021,2022,2021,2019,2018,2018,2018,2023,2023,2023,2023,2022,2022,2021,2021,2016,2015,2022,2015,2021,2022,2021,2022,2023,2020,2022,2022,2022,2023,2023,2021,2020,2023,2018,2021,2018,2022,2022,2022,2020,2015,2021,2020,2022,2022,2018,2019,2023,2021,2022,2022,2022,2022,2019,2022,2020,2019,2022,2023,2023,2021,2019,2021,2020,2020,2020,2022,2023,2020,2020,2015,2017,2017,2022,2023,2022,2020,2023,2022,2019,2022,2020,2021,2023,2023,2022,2022,2022,2021,2019,2016,2016,2017,2020,2019,2021,2019,2016,2019,2021,2022,2018,2020,2020,2013,2013,2017,2021,2020,2019,2019,2023,2019,2020,2023,2023,2021,2021,2022,2021,2021,2020,2013,2016,2016,2013,2023,2019,2016,2012,2022,2023,2023,2023,2020,2019,2016,2011,2023,2019,2023,2022,2018,2022,2023,2020,2018,2021,2022,2023,2017,2021,2019,2021,2017,2013,2016,2017,2017,2023,2016,2020,2016,2017,2017,2017,2017,2016,2017,2017,2013,2017,2017,2020,2022,2023,2019,2023,2022,2023,2021,2022,2020,2012,2021,2013,2016,2016,2017,2017,2013,2017,2014,2023,2017,2014,2015,2019,2016,2017,2016,2017,2017,2016,2021,2023,2018,2023,2019,2021,2020,2019,2023,2023,2019,2019,2020,2018,2020,2022,2023,2018,2021,2021,2022,2018,2023,2021,2021,2022,2018,2022,2021,2018,2020,2021,2022,2022,2018,2022,2022,2019,2015,2022,2021,2022,2022,2021,2022,2019,2021,2023,2022,2015,2022,2023,2020,2021,2020,2020,2020,2015,2021,2015,2019,2021,2022,2020,2020,2018,2021,2022,2021,2023,2019,2020,2023,2019,2020,2023,2018,2023,2019,2019,2022,2021,2022,2019,2023,2022,2023,2023,2023,2022,2023,2023,2022,2021,2021,2021,2020,2018,2021,2021,2021,2023,2023,2018,2021,2023,2020,2018,2023,2021,2018,2022,2020,2021,2019,2021,2023,2019,2020,2023,2021,2019,2019,2021,2018,2023,2023,2020,2023,2020,2023,2021,2023,2019,2021,2021,2022,2023,2019,2022,2021,2019,2018,2022,2023,2023,2021,2022,2018,2021,2018,2021,2021,2022,2023,2023,2012,2017,2016,2017,2017,2023,2022,2023,2023,2017,2022,2019,2023,2022,2019,2019,2021,2018,2022,2019,2023,2022,2016,2021,2020,2018,2022,2019,2019,2019,2016,2021,2021,2014,2019,2023,2013,2016,2021,2023,2023,2023,2022,2021,2023,2022,2023,2018,2018,2018,2018,2018,2019,2022,2019,2020,2021,2023,2021,2022,2023,2022,2020,2021,2021,2022,2021,2021,2022,2019,2022,2023,2020,2020,2022,2019,2015,2020,2020,2015,2022,2021,2019,2023,2022,2020,2019,2018,2023,2023,2023,2021,2022,2022,2022,2021,2022,2023,2021,2022,2022,2022,2019,2023,2023,2022,2023,2020,2022,2021,2022,2019,2022,2018,2015,2023,2021,2023,2015,2019,2015,2023,2021,2021,2021,2020,2020,2021,2023,2022,2018,2022,2022,2019,2021,2023,2008,2017,2016,2016,2019,2017,2021,2022,2022,2017,2022,2019,2017,2017,2012,2012,2013,2014,2016,2014,2014,2017,2017,2016,2017,2011,2020,2017,2017,2016,2022,2013,2023,2017,2016,2021,2022,2022,2019,2019,2014,2018,2017,2011,2023,2023,2017,2016,2016,2018,2019,2013,2017],\"xaxis\":\"x\",\"yaxis\":\"y\",\"type\":\"histogram\"}],                        {\"template\":{\"data\":{\"histogram2dcontour\":[{\"type\":\"histogram2dcontour\",\"colorbar\":{\"outlinewidth\":0,\"ticks\":\"\"},\"colorscale\":[[0.0,\"#0d0887\"],[0.1111111111111111,\"#46039f\"],[0.2222222222222222,\"#7201a8\"],[0.3333333333333333,\"#9c179e\"],[0.4444444444444444,\"#bd3786\"],[0.5555555555555556,\"#d8576b\"],[0.6666666666666666,\"#ed7953\"],[0.7777777777777778,\"#fb9f3a\"],[0.8888888888888888,\"#fdca26\"],[1.0,\"#f0f921\"]]}],\"choropleth\":[{\"type\":\"choropleth\",\"colorbar\":{\"outlinewidth\":0,\"ticks\":\"\"}}],\"histogram2d\":[{\"type\":\"histogram2d\",\"colorbar\":{\"outlinewidth\":0,\"ticks\":\"\"},\"colorscale\":[[0.0,\"#0d0887\"],[0.1111111111111111,\"#46039f\"],[0.2222222222222222,\"#7201a8\"],[0.3333333333333333,\"#9c179e\"],[0.4444444444444444,\"#bd3786\"],[0.5555555555555556,\"#d8576b\"],[0.6666666666666666,\"#ed7953\"],[0.7777777777777778,\"#fb9f3a\"],[0.8888888888888888,\"#fdca26\"],[1.0,\"#f0f921\"]]}],\"heatmap\":[{\"type\":\"heatmap\",\"colorbar\":{\"outlinewidth\":0,\"ticks\":\"\"},\"colorscale\":[[0.0,\"#0d0887\"],[0.1111111111111111,\"#46039f\"],[0.2222222222222222,\"#7201a8\"],[0.3333333333333333,\"#9c179e\"],[0.4444444444444444,\"#bd3786\"],[0.5555555555555556,\"#d8576b\"],[0.6666666666666666,\"#ed7953\"],[0.7777777777777778,\"#fb9f3a\"],[0.8888888888888888,\"#fdca26\"],[1.0,\"#f0f921\"]]}],\"heatmapgl\":[{\"type\":\"heatmapgl\",\"colorbar\":{\"outlinewidth\":0,\"ticks\":\"\"},\"colorscale\":[[0.0,\"#0d0887\"],[0.1111111111111111,\"#46039f\"],[0.2222222222222222,\"#7201a8\"],[0.3333333333333333,\"#9c179e\"],[0.4444444444444444,\"#bd3786\"],[0.5555555555555556,\"#d8576b\"],[0.6666666666666666,\"#ed7953\"],[0.7777777777777778,\"#fb9f3a\"],[0.8888888888888888,\"#fdca26\"],[1.0,\"#f0f921\"]]}],\"contourcarpet\":[{\"type\":\"contourcarpet\",\"colorbar\":{\"outlinewidth\":0,\"ticks\":\"\"}}],\"contour\":[{\"type\":\"contour\",\"colorbar\":{\"outlinewidth\":0,\"ticks\":\"\"},\"colorscale\":[[0.0,\"#0d0887\"],[0.1111111111111111,\"#46039f\"],[0.2222222222222222,\"#7201a8\"],[0.3333333333333333,\"#9c179e\"],[0.4444444444444444,\"#bd3786\"],[0.5555555555555556,\"#d8576b\"],[0.6666666666666666,\"#ed7953\"],[0.7777777777777778,\"#fb9f3a\"],[0.8888888888888888,\"#fdca26\"],[1.0,\"#f0f921\"]]}],\"surface\":[{\"type\":\"surface\",\"colorbar\":{\"outlinewidth\":0,\"ticks\":\"\"},\"colorscale\":[[0.0,\"#0d0887\"],[0.1111111111111111,\"#46039f\"],[0.2222222222222222,\"#7201a8\"],[0.3333333333333333,\"#9c179e\"],[0.4444444444444444,\"#bd3786\"],[0.5555555555555556,\"#d8576b\"],[0.6666666666666666,\"#ed7953\"],[0.7777777777777778,\"#fb9f3a\"],[0.8888888888888888,\"#fdca26\"],[1.0,\"#f0f921\"]]}],\"mesh3d\":[{\"type\":\"mesh3d\",\"colorbar\":{\"outlinewidth\":0,\"ticks\":\"\"}}],\"scatter\":[{\"fillpattern\":{\"fillmode\":\"overlay\",\"size\":10,\"solidity\":0.2},\"type\":\"scatter\"}],\"parcoords\":[{\"type\":\"parcoords\",\"line\":{\"colorbar\":{\"outlinewidth\":0,\"ticks\":\"\"}}}],\"scatterpolargl\":[{\"type\":\"scatterpolargl\",\"marker\":{\"colorbar\":{\"outlinewidth\":0,\"ticks\":\"\"}}}],\"bar\":[{\"error_x\":{\"color\":\"#2a3f5f\"},\"error_y\":{\"color\":\"#2a3f5f\"},\"marker\":{\"line\":{\"color\":\"#E5ECF6\",\"width\":0.5},\"pattern\":{\"fillmode\":\"overlay\",\"size\":10,\"solidity\":0.2}},\"type\":\"bar\"}],\"scattergeo\":[{\"type\":\"scattergeo\",\"marker\":{\"colorbar\":{\"outlinewidth\":0,\"ticks\":\"\"}}}],\"scatterpolar\":[{\"type\":\"scatterpolar\",\"marker\":{\"colorbar\":{\"outlinewidth\":0,\"ticks\":\"\"}}}],\"histogram\":[{\"marker\":{\"pattern\":{\"fillmode\":\"overlay\",\"size\":10,\"solidity\":0.2}},\"type\":\"histogram\"}],\"scattergl\":[{\"type\":\"scattergl\",\"marker\":{\"colorbar\":{\"outlinewidth\":0,\"ticks\":\"\"}}}],\"scatter3d\":[{\"type\":\"scatter3d\",\"line\":{\"colorbar\":{\"outlinewidth\":0,\"ticks\":\"\"}},\"marker\":{\"colorbar\":{\"outlinewidth\":0,\"ticks\":\"\"}}}],\"scattermapbox\":[{\"type\":\"scattermapbox\",\"marker\":{\"colorbar\":{\"outlinewidth\":0,\"ticks\":\"\"}}}],\"scatterternary\":[{\"type\":\"scatterternary\",\"marker\":{\"colorbar\":{\"outlinewidth\":0,\"ticks\":\"\"}}}],\"scattercarpet\":[{\"type\":\"scattercarpet\",\"marker\":{\"colorbar\":{\"outlinewidth\":0,\"ticks\":\"\"}}}],\"carpet\":[{\"aaxis\":{\"endlinecolor\":\"#2a3f5f\",\"gridcolor\":\"white\",\"linecolor\":\"white\",\"minorgridcolor\":\"white\",\"startlinecolor\":\"#2a3f5f\"},\"baxis\":{\"endlinecolor\":\"#2a3f5f\",\"gridcolor\":\"white\",\"linecolor\":\"white\",\"minorgridcolor\":\"white\",\"startlinecolor\":\"#2a3f5f\"},\"type\":\"carpet\"}],\"table\":[{\"cells\":{\"fill\":{\"color\":\"#EBF0F8\"},\"line\":{\"color\":\"white\"}},\"header\":{\"fill\":{\"color\":\"#C8D4E3\"},\"line\":{\"color\":\"white\"}},\"type\":\"table\"}],\"barpolar\":[{\"marker\":{\"line\":{\"color\":\"#E5ECF6\",\"width\":0.5},\"pattern\":{\"fillmode\":\"overlay\",\"size\":10,\"solidity\":0.2}},\"type\":\"barpolar\"}],\"pie\":[{\"automargin\":true,\"type\":\"pie\"}]},\"layout\":{\"autotypenumbers\":\"strict\",\"colorway\":[\"#636efa\",\"#EF553B\",\"#00cc96\",\"#ab63fa\",\"#FFA15A\",\"#19d3f3\",\"#FF6692\",\"#B6E880\",\"#FF97FF\",\"#FECB52\"],\"font\":{\"color\":\"#2a3f5f\"},\"hovermode\":\"closest\",\"hoverlabel\":{\"align\":\"left\"},\"paper_bgcolor\":\"white\",\"plot_bgcolor\":\"#E5ECF6\",\"polar\":{\"bgcolor\":\"#E5ECF6\",\"angularaxis\":{\"gridcolor\":\"white\",\"linecolor\":\"white\",\"ticks\":\"\"},\"radialaxis\":{\"gridcolor\":\"white\",\"linecolor\":\"white\",\"ticks\":\"\"}},\"ternary\":{\"bgcolor\":\"#E5ECF6\",\"aaxis\":{\"gridcolor\":\"white\",\"linecolor\":\"white\",\"ticks\":\"\"},\"baxis\":{\"gridcolor\":\"white\",\"linecolor\":\"white\",\"ticks\":\"\"},\"caxis\":{\"gridcolor\":\"white\",\"linecolor\":\"white\",\"ticks\":\"\"}},\"coloraxis\":{\"colorbar\":{\"outlinewidth\":0,\"ticks\":\"\"}},\"colorscale\":{\"sequential\":[[0.0,\"#0d0887\"],[0.1111111111111111,\"#46039f\"],[0.2222222222222222,\"#7201a8\"],[0.3333333333333333,\"#9c179e\"],[0.4444444444444444,\"#bd3786\"],[0.5555555555555556,\"#d8576b\"],[0.6666666666666666,\"#ed7953\"],[0.7777777777777778,\"#fb9f3a\"],[0.8888888888888888,\"#fdca26\"],[1.0,\"#f0f921\"]],\"sequentialminus\":[[0.0,\"#0d0887\"],[0.1111111111111111,\"#46039f\"],[0.2222222222222222,\"#7201a8\"],[0.3333333333333333,\"#9c179e\"],[0.4444444444444444,\"#bd3786\"],[0.5555555555555556,\"#d8576b\"],[0.6666666666666666,\"#ed7953\"],[0.7777777777777778,\"#fb9f3a\"],[0.8888888888888888,\"#fdca26\"],[1.0,\"#f0f921\"]],\"diverging\":[[0,\"#8e0152\"],[0.1,\"#c51b7d\"],[0.2,\"#de77ae\"],[0.3,\"#f1b6da\"],[0.4,\"#fde0ef\"],[0.5,\"#f7f7f7\"],[0.6,\"#e6f5d0\"],[0.7,\"#b8e186\"],[0.8,\"#7fbc41\"],[0.9,\"#4d9221\"],[1,\"#276419\"]]},\"xaxis\":{\"gridcolor\":\"white\",\"linecolor\":\"white\",\"ticks\":\"\",\"title\":{\"standoff\":15},\"zerolinecolor\":\"white\",\"automargin\":true,\"zerolinewidth\":2},\"yaxis\":{\"gridcolor\":\"white\",\"linecolor\":\"white\",\"ticks\":\"\",\"title\":{\"standoff\":15},\"zerolinecolor\":\"white\",\"automargin\":true,\"zerolinewidth\":2},\"scene\":{\"xaxis\":{\"backgroundcolor\":\"#E5ECF6\",\"gridcolor\":\"white\",\"linecolor\":\"white\",\"showbackground\":true,\"ticks\":\"\",\"zerolinecolor\":\"white\",\"gridwidth\":2},\"yaxis\":{\"backgroundcolor\":\"#E5ECF6\",\"gridcolor\":\"white\",\"linecolor\":\"white\",\"showbackground\":true,\"ticks\":\"\",\"zerolinecolor\":\"white\",\"gridwidth\":2},\"zaxis\":{\"backgroundcolor\":\"#E5ECF6\",\"gridcolor\":\"white\",\"linecolor\":\"white\",\"showbackground\":true,\"ticks\":\"\",\"zerolinecolor\":\"white\",\"gridwidth\":2}},\"shapedefaults\":{\"line\":{\"color\":\"#2a3f5f\"}},\"annotationdefaults\":{\"arrowcolor\":\"#2a3f5f\",\"arrowhead\":0,\"arrowwidth\":1},\"geo\":{\"bgcolor\":\"white\",\"landcolor\":\"#E5ECF6\",\"subunitcolor\":\"white\",\"showland\":true,\"showlakes\":true,\"lakecolor\":\"white\"},\"title\":{\"x\":0.05},\"mapbox\":{\"style\":\"light\"}}},\"xaxis\":{\"anchor\":\"y\",\"domain\":[0.0,1.0],\"title\":{\"text\":\"Year\"}},\"yaxis\":{\"anchor\":\"x\",\"domain\":[0.0,1.0],\"title\":{\"text\":\"count\"}},\"legend\":{\"tracegroupgap\":0},\"title\":{\"text\":\"Enrollment Year Distribution\"},\"barmode\":\"relative\"},                        {\"responsive\": true}                    ).then(function(){\n",
              "                            \n",
              "var gd = document.getElementById('63b790ba-2f6d-4bd3-9394-4ebc07bad197');\n",
              "var x = new MutationObserver(function (mutations, observer) {{\n",
              "        var display = window.getComputedStyle(gd).display;\n",
              "        if (!display || display === 'none') {{\n",
              "            console.log([gd, 'removed!']);\n",
              "            Plotly.purge(gd);\n",
              "            observer.disconnect();\n",
              "        }}\n",
              "}});\n",
              "\n",
              "// Listen for the removal of the full notebook cells\n",
              "var notebookContainer = gd.closest('#notebook-container');\n",
              "if (notebookContainer) {{\n",
              "    x.observe(notebookContainer, {childList: true});\n",
              "}}\n",
              "\n",
              "// Listen for the clearing of the current output cell\n",
              "var outputEl = gd.closest('.output');\n",
              "if (outputEl) {{\n",
              "    x.observe(outputEl, {childList: true});\n",
              "}}\n",
              "\n",
              "                        })                };                            </script>        </div>\n",
              "</body>\n",
              "</html>"
            ]
          },
          "metadata": {}
        }
      ],
      "source": [
        "fig = px.histogram(\n",
        "    df_s,\n",
        "    x='Enrollment Year',\n",
        "    title='Enrollment Year Distribution',\n",
        "    labels={'Enrollment Year': 'Year', 'count': 'Frequency'},\n",
        ")\n",
        "\n",
        "fig.show()"
      ]
    },
    {
      "cell_type": "markdown",
      "metadata": {
        "id": "FJKUmw-IhICO"
      },
      "source": [
        "##Study programs over the years"
      ]
    },
    {
      "cell_type": "markdown",
      "metadata": {
        "id": "sfUV9CYwgTqg"
      },
      "source": [
        "There are mainly three study programs over the years:\n",
        "![image.png](data:image/png;base64,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)\n",
        "![image.png](data:image/png;base64,iVBORw0KGgoAAAANSUhEUgAAA5wAAAE+CAYAAADh+R8dAAAAAXNSR0IArs4c6QAAAARnQU1BAACxjwv8YQUAAAAJcEhZcwAAFiUAABYlAUlSJPAAALytSURBVHhe7N0PXFP3vT/+lyBhQBAFSwHLnyqFCmhB23J1o7XS6eiq9I901z/Xq25VeldYb6X3t9J9N/v9bvQ+VtrbQXeLdkXn1Xon/Ye2sjKxdqxaahWKgIJoSaiQIqBIJEvSxN/nc84JJOEkJIFYu76fj0dMPJycP5/zOSef9/n8OZOMRv1VEEIIIYQQQgghE8xHeieEEEIIIYQQQiYUBZyEEEIIIYQQQryCAk5CCCGEEEIIIV5BASchhBBCCCGEEK+ggJMQQgghhBBCiFdQwEkIIYQQQgghxCso4CSEEEIIIYQQ4hUUcBJCCCGEEEII8QoKOAkhhBBCCCGEeAUFnIQQQgghhBBCvIICTkIIIYQQQgghXkEBJyGEEEIIIYQQr6CAkxBCCCGEEEKIV0wyGvVXpc9ju9SBI4fexL79x3H8VAcGhYlKxM2+HbcvW4YV31+AuGBhIiGEEEJc0PfuZvzw10fZp5V49eM8zBEnj6EP+/59GYrY1xb+Yj9evD9Mmu5Y2x9XYe0rHcLnVVuPIP824aPA/W0YWT/WbMPHj6eIkwVNKPmnjXidfXK2bX3H96Bk2+v44LM+GNj/h7fps1L806Y97IOL23LpMH71YCHe17HPC57Ge/+1DGOnxjeDofs49v0PK3f97QjaengqKRCWsBD3PPAw1mfPR5ivOJ8sXReOvLkN2/cexknhu6y8tmgZVq1cheW3uZdChqMv4N5/fxMr7PKNrJ4m7Nv7Ot6otmwzW++dC7H8kXVYtiAOwc62+ZvIZEDX8f14/a39+KCuDX08HwaEISF9EZY/tA4r7nSe1oYvjuKN17Zj9+Em8btT47Do/pVY/cgyzAkX55E1nvWOc5sJcZdrNZymLrz/3Drc9YNVePK3b+LwcLDJadFx6jDe+O1m/PPydSiq7pKmE0IIIeS60LYDv5SCzetBFwtwH/xpKd6Xgk3PaXH4xS1isPkPxYCOtwrxwwfzUPzWYSlwE6f3tfEyVx5++EMWZHdLk+11V+PnD67Aky9XS8Emx8prh/egaNPDWLutyfV0796Pnxe+6dL8hs+2Ye2PNqJol/U2s/V+Uo2SglV46JfV6DJJk/8R6Drwxi/vx0P5L+CNw1LgJkzvQ9vhN1Gcvwzff8bxPndVsWO8YjNKqqRgk7vUgcO7nsOjP1qHss8cpPp41jvObSbEE2MHnLomlK1fhV9VtrGLjRK3b9yCnW9U468fHcHHH7PXR4fx1tanseo2BZu3Dft+yYLSdynoJIQQQq4LJlbA/O02XDfhZs9+FP/6KCtTKDDnsW34i1SeGLPmTIbh6Fb8strl0Okbw3C0FGt/e1i4uR93/9PY+d5hqzLXZiyPZX/gNbtPlOKkfbBtasOOJ7bg8CVAcds6vPy29N2/voFXH1+EYJbybeWP4zc1WukLTvQdRfETz+GI/TrksO35zRM70MbmtVnvR9XY+YtliGOzDNZswZOvuRHsXtcMOFK6DsVCOsZh+S924L2/inlZSOv/sNrnV2T2uW0HnnyWH2N2HmwoxVvSd//69jbkZyqFMvWOJ4qE42hrPOsd5zYT4iHnAaepC/v+z+PY0cayXMACFOx+Fy9vWIKEm5RQWJpE+CoQddsy5P/36yj8Hgs6eWb+dQH7jvhnQgghhFgxadHxtzdR/PN1WLt8kdSUlduDR/9pCf55fR5+tW0/PlW5EBC4oOOtIhQ3Sf+5DrS9+0cc4R9S8vDMmhTPm1jqjqLExZq3bxZW9npN3C/FQy8IwVpCGC9fMUKZ62EUvvQ0Fgaw/6v2oKTK9ib/YM0OlKnYh4CH8Z8vbcTtkdJ3FVGYs6YIr27mzZ8NeP/lN9DmpBZrsGkPHl+9GW/wZbmg4y87xJrmyJV40Xq9vkoksKD5xacXCP/tKH8DR0aayX1zfbEf298SjhJW/NcOFN6fAMthEtL6IbbPv1jA/sr2eVcJ9n0h/kmkxft/FG8CKR56Dr/fOB9RlsMUmYJV/3cbCvhh0lWj5C27AvV41juubSbEc04DzsHD21D8N54x47DqpeewYpYlV8rwjcLy/8fm4RdAdgqV/bHaqtktIYQQQrqqn8Pae1lQWSA2ZxtpdmjBu6kcx/vlz+HxHy3B9/N34NM+6U+e6N6PkhfEaFPxvQVYKHz6Ghl4n0QxQFr0yFLEedyfz4BPt7E0FGre4rDwewnC1H8I3cdxWDhkCcj/kVj4HyVyGVY9IH48eaQJI1mkC+/vPSx8Svi3h8Wg1E5c9iaxrNa9A/uO2+c/ZrAN+55bhx/+pBSfXgKC75zvQp9elm9PSoFR5j24XWa9Ud9bKuW/ajSeEz58o3UdP4yT/MPsPKxYIF8+jspahRXCpyYcOWl1In/xPt6o4R8cHGPfOCzf+LAwvet/9uNTq8M0nvWOa5sJGQcnASe7aO2pFu8cZq7Det5kdiwBC7D8XxIQd+cSrJofJU3kgwcsxD+5+Cr5jH2F/SAV3yP+/8l3nWX2Nux4UJyv+OjI2cgHP7BepvxrM/b1SF+QnHxZ+tvLDm4F644Ob9c//ft+qwu8FUMXPt21RSgoiOtZhB+uLUTJu+wHwf5OYs9+POlgW/qOluLR5YuEZQyngZP5LToqNkrrldLSRcP77sLLZrnD21QqXMQG2/ajeNMy3CVMY/u+aQte/1sHBsfqC8AHGXi5ULjbL66HFcjyt6Csus3Bd/mAFSPbNPolpdFEbJ9QG7EHv8pnP8CW489e3/8Rr4WoRpvcnZXh9YqvuxzlKUEX3vjJyLz2+W9C8uVY3E5/bqxjIL3c3SY+YIjccuReDtJKOGdMffi0vBD//ANp3h+sws9f3o+TDs4dp+cA++7an5fi/TZ3a5xG0sjxtczJPMNpIebf0Qw48lvLMbO7Lrh7fRG4c70e2aaut6Trzj1smpNziTfTEuZb/+ao5p2Dp6pR8nOrc4yl+ePP7sGRL2QKxM64cJ0cSVcH87C8c/LdUvx8/Sp8X5iPv8RrefFbx0dfy11iYHmM92HbLzQ5DL5zJQq3voG/fHAE7/1CrPkRBsn56DD+su91vPj4EiSwQvvgJ9vw+Aq2nY766jnDWyn99jmxNpH9Pj/zH+uF5nJfp8HDb4pBYsDDWLFIKU70gOH4VhTtEQPXuA2FyF80zkFOBjtwROa3e8zj7eL1yp3fY/RpcXl2HIIxH3E3SdNk3DxLyjcmvfjO9bEgQbgsRmHxbQ6OtiIRt2fwDwbsaxjdHO3kH9ehiHejCkgQmly+9V+bXBzISmK9PdYUCrZPnvO0bDfM02PsQN/gIBJiWR5OjXN8XrHAMc5yeluto+/kEfH6GbkIc3nzaBmK2fNxD/+gYwGn1WEa13rH8V1CxsNxwKk6in1SWW7p4oUuXyQSNuzA/5ZsQf5DKZ5fWBRzsOh+McA9UnPEcWH11BHxR5j9cC2a70JAPE5te0ulu6nyDKd24NGlK/D4y9VWTaHEDv6v/3ojHly/bXRfCzlfvImf//seq47+Lrp0GNv/20FQcg18XlWIh9Y+hzeGB4Fg+/7Z2AMF8Dv+/7xcfpCBHb9kBdD1pTjiMBO4zqPt6zuKkvX3458LWLDxiVXnemZQxWshtrAgbezCoOHNDxwXxL84ivfHcdjGypdjuVbpf00NHkHZ+ofx+LbD6LD0f3FlIAZH2HfbDu/Br9ZuZAVHN7/rTW2vo0RoHuUGT68vTkTduVQskOrexAcO87IWRw5VC5/mLFswUthhQdHhX7PAbv0WvG49gAVL80+rSvHkivvxc7smg95kOMvS54fL8Oiv99gNkGc1WMsqFli7ec71VT2Nn+4SGtAJ/Rbf+q88LL8tCsH2NUG+rFAeHoeFa/h4CS9gBS+M6o6iiPeNc7Pw11X1AoqF1roKLPyPQix1NuLltWBqw5uvibVvUf+yDLd7+rPNx5b47R4IuSJ2HZ5ZN47yBjPYxH67l68SBtix/+22DM7zxtlreN6nrMTO7a/jLx/n4XYnNcCfn5WaYvv6i+/cF63iDQakIC5S+CBDiahZYqWA4dTno8tYwQuw6hfb8N5Bscmla02elUhIlUYqPnwEn8qcH4NHq/G+8GkJ5s4UPlwz3jjGc9bswM4/VePjn82XpsgwdaDD0mLeKh27LMduThwcHqbgKNws/NGAto6RozSe9Y7nu4SMh8OAs6/lCMQbKvMxP8nzu5D8opfPOyNbvYbv5vLhy+3+Jg4aoMDt94pNCXD0MD5ycLeq7ei7wg+O4v5FmCvzw8WHY7detvDa97RnTYp69qPM2Qh/PdX4+b+JAaUiYSWe/dN+CAMr8Q7+JeswhxUqDG078NPnxEEAHDPg0z+JNQcL/+MNYZtdGe6ef+/krpfHP1IfH97ePs2E1zaskmaRtwdFvPN77DIUbmcXM/6dv+4fc6AAPv2ff7lfqO2Iu38zXh0eZICn20bcPpWn2x48+W+OC3iyx/njF7DcpnDlyfb1Yd+vN+N13odZ+J50TO2+KxQGX3F0XBOQMJu96T7E8bPiFHtdn7zvoPbKBWPlyzFMRPqzExmF+6R0sXqN1Np4ij8SYfRy+evVNdIsDhz53XNCP3KbgRjeKMU6aXCzHU88jfcd3QW3Pwd4jZPluyylXt/yunRt/Lqx/PmKuwPBuH594Y+osEkHy2vrSmkOKzctAoshGQPeqHUQcV46gg+EJmQpWHqnpQUMu269VoCfv8v3QolFj7NA7ANpPX/mhV1+hmlx+NlrNC6AgQUyBS+MDLbyhnQ+8NcHb+DlDSni75JqD361140NYoHW/m18kBxmwWb857+62G8xbAEKtmyEkFqqbSh3ZZAXC/abVPyCuE7F9zajYMnX/5iDwcOvo1zoD5iCVUs8bQLL8sz/FOF1YTlxWFXIfl9lfv9dxn6XH/2J9NvNjvmLvDDOjzc779/b/jSWJ7CFXzqM4p887fzGouxv51i/m+PAfncOvyN+TEhPGH4MzGCvJTAJQ5iTKDwsTKpWa+gWA3crc/71BeTfn+L8kSsyorLysYovtpv9ZjyxDZ92S7+o/BEcfysVyj8slZHw+CosGscdArfLdhN1jD1g+IQFtMKnBCxMshwlLfosvz/h053cLAlDqHRn7tMu9zZMfr2uGc93CXHEccDZY+klnoCor+OuaMo9Un9QdlH9RKZ6hf2AH9nPL5NR2HDffLEQIBnUifPHRU/UiWLAkR0v4Ahb18IFcj+SrBDHfgCFUdxiV+L3W/OwNDZMHFiJd/C/cyN+X7xSKDQYql/H+846YbOL3hsV7CIduRG52ZZCmQtU+1Gyi6XHggVfXx+dyJV4eQe7eM+WblAowsSBAiwd0MvtOqAbjmPrr8Vm23xghFeffhhzhgcZ4OnGCnzsx8AyMMJv3CngyXF3+07txw7hLl8KCn7LvycdU0767n/+TMoP1ScdFPzDsHjREvbehX1H5ba/C0cO8AL6Eizls7llrHw5hnGn/yAMQu1hHG7+umtOZCx8+nW8aj0Qw03zkfvSy2KBiBXWfvM/x4V9HxOvceLf3fiw+P/ukzjtKFi9hgxHdwi1V1HsnHf56Ht6fRlTGL6bKd5gcFSbP8gKMULdVuYKLLU0E/yCXbfK+ZmjYIXIHfjPNSmIstT4TU3A8qeLUSgstgPl+108XuPAA6LXpVYzwmArN0mZhwuIwu0bX8Z/3i/+t6uh1XHrG3tnpdY4zNL77xkODlwyexFW8ZtWzOG/feri2Ah9eP+30m8SWNC6eRmiXA4e+MBF9s0U5V7SMzhdwQOOT7bhSel6E7cmH8udNBV1xtC0A78R8gzL+ys3I9eV7j4OdY2M3puSh53/vRELeXNDjp33YbOXoXDryDWjWObGomFIzJULHVcnegG/UWNp2bIIq78vRSWMQSdtYYC/+O5AcJh0/uscNH/1REAK8ne8jsKHUuD/2Q48/qDU3P+7i/BQwR60+c/HquLXsXONZzcbPCvbjf8Ye4zXxL8kDWqVuYqVC4WpjB6XpZUonGbfYEyXspXBnYufw/W6YDzfJcQJhwGnfnDknpe/m3e5JoRvCn7wL+IFUbZZbZv0Ax55PxbaXbsGv5zgW+FSszXFkseRmylzoWMF98O8EMcs+vF6oTbTnmL+MqxKYUHKbH/0fun4LnVb5Q6hUDbnX5YgweV01+Iw+/E5yQr+uY+tEmvdvgaLHlsvP1BA1iZsEC6aTXj/k5F8ZTjOCr/SD+YzGxfI3/GPXIZcKR90vGOpdfeMu9vX19UNJe9Hs2AZ7nFw0Y1LsjRL6cDnDoKQ0AWLsJS9dx2WCUotzWkfWup+c7ex8uUYxp/+WnSdkj5eb3hAdb9MQMUKROt/vEj4aHj3MBrd+REfFowpMvnomjK14XVeKAhYgvyNizBdmjwWz64vrgn73lKWkxjZZrVaHPlQbEq56O6RLhodR/dL/ZjWITdL5nj5RuEHjzyM4NgExPX3oVea7C0dPV1ISAhD8MNLZQdb4YFxYqpUc3+0Y1TNkEODg9K8Ubg52t0WQ3GIS5U+nuyAK/UcgzWl+I0w4B+/8bIZy69lLGTnyK+XiQFH/g6c1Clx++Pb8OpjUk2xu3i+/387xOto5EoUbrS92ey24a5DUcjdvFJ+ACPra0b1YRy3i0YG+1zOBROm692R5tkLf/E4lk4Vp9tIjRRucjuiCBxXyjnU13IUx5va5IO2S61oa1B5/HxHj8p2E3CMPSI95UGoiQ9YgMLHlwxf96zdHuXs5FQgOFD66CoX1ytrPN8lZAxOBg36+iUsuF+8YMo0q7U0p01Ytciu4GTA4BB/n4+4iah1GX5+WQry2QVJtljfYekzMR8L5zgqTMRhxR/2Y+f2UuTOl59n8NSbKNvBfkRiVyJfrvDlgOU5ZIqH8rAqwfldTe9ZgHsc7Bd8EzA/U/x4smHkh6j15H7xw/wFmCP3gylJ+J6UD7qP47R7rUqsuL99YZlPi/1o/muZezUS9qbO4bsInHofn9rVblua067ImO/ehd2VfDmGcae/YVC8Czo/bnzp4wWKrNsdBlTBLGAQWgHojqJp1B0AeYYvjqL4t3uEz4olizD/a/4V7nirWHjswZx/WwdXx0rx9PrisqkLcY9wHsk0qx1uTvswlg8PFGM1quWiOQ6Pl2LBZvzlTzuw8zdLnBagJ4LQv2nnfvzlcakv2jcRbxoo1STybisFcjdenHoYL/65Gn8Z87UDBU66gVkowhMQN3x9MeDztlZ0C7/R7mvbtUV83AfLCat+sUn2BqI7RroO3Y0UJ5VuwQuWCDcNhdFV7WKe4Vq3yGtzFeyqeQ5PCs8wZetcw2vcvX1WuK6rqhD//FM+uBr73ci2f3ZoHhZN1eLTXZvxz66OZ2HDs7LdRBxjt/F+6c8VoMjqKQ/X5KbPeNb7dW0z+dZwGHAG32g5M9lJLvxyfQ1mL5Qy/FEcabCqFRxuTpuC5Qvs6/MG0SsUisMwxVHs54bBwztQwspOUbwJkKOmBcN3rxOkDt7uOoqi5Qvx/fUvoDVpHV7+7zzZWlJZlpoO3mxqndg09OsRhygnv7dRliHPOvuk2mqWry5JGWv2zc4LklPD2NK54+jwuCmju9vngE6LwS/a8Onf9uP13xZi7f95U/qDM5bmhk0sH1sv3dKc9mEsdHPQK5fypVMTkP6XesV8HxZ83d0FdXrXOPxmaX+60Nsnc3HbNTLSs+V11wrpWXQpG/GHp/mD079GLKAQBgeLZIFjtivtGcZxfXGLEgsXi+3CDTWf2gxwY2lOq8hZZDVQzGVclk6HhbNc2Q93ifttfyyF1ybx5oErDINa9Kma8Gn1myh5Ng8/fdnVdqRWgoOlc6wLn3e60Q9T0IGOBumjswFGBAYc2bZF6sufgoIn3GlKa6FA8FSlC6+wMZoDim7f+AL+989H8F7xSiQEGNBX/QLW/sRZn3AHVG/ieam/uuKhzcidgIECB7VSBmTliJudpVPw9OGbah3dtr8QYq1bFKZcg4tC17uF+NdnLH3ui/Cis5pimb6Z1ixNgSfM4GHs+K3YHJUHwn942v7ZoSvxn1IXDT6ehftdZDwr203EMXYLryX85TqpX3oclv+mGPlOmn0775tpCbJd4OZ6bYznu4S4yGHAGXWTZRDsk3Czr/IESsCiVWLge/jDI8M1T8PNaXlTx1H9QLrF0bUCopx2mHeJoQnbX64Wm62tcXxh7+sWfwQ9l4AVj63D0gQF+o6/jq3vtrHLjGv6qrYKd3zjHttkN0jOdepUl3QcLT8e15nh7ZOYtGir3oZf5UuPR7hnCb6/Yh0eL3gOJW9Zj+rqXNichUI/uyNHj48sf7g57UL3Rmt0MV86NwHpz/I9r9lX3ORs0IPrW1efzdEeW9PrKD/srBjnbZbBwRRY+vh6FwdL8fz64q7gjKXi89u638WR4fKkpTmtAivutW4C2Y+O49LH6wl/nM5bL+Dna8XHJ931/SX44Y824vFfvoDXq46PjHrsjlmWm6fA++9+4HrfT+7UYbwuNV1f9L3bnZ5rhqOl+Lk0avGczYXiCLfXibDv5eEP0lgGvE/4T//PftebVvIWHf/vBbH5Ne9fmzcxN1fH3/2mD58Lg8HFwqsVnOx36OQfN+Kffy0FdDkv4PdPL5K9maAIkHLIGH0zh5sCj9HX01X8ptI+qYvGeke/S5HLUJAnth7o2CE9D9JlnpXtJryLlTODTdjxb6tQJAzuFYcV/1WKwky527n+wzconPfNHPmddnpzx+X1yhjPdwlxg8OAUzErQRp8pg0n23lGdJHqTTz+o0IU7+LPuxt/sSaOBZVC6FtzGEekH/qTNTuEO3eLsmQGX+j+XGw+MT/Oea2NCzoqS4QBJBY+sRGLnDQ5HO5877EwJGRtxLNCx3VWoHxlI37+rguFWt1RbH+BXYEjV6LgESdtRa4nCyzHZaQz/HVlePsY3nl+/f1Y+8sdeP8T/ngEBcISEpCw6GGse/xpvLj9Dfzlv2RG7JQTOx/L+cAfNUeG+4dYN6d1p/Dkar50bvzp39Uh/pDfHn09HkjXyA4+ITfa5Af7sXMzL+RewxFT5QwPDrYZm1x+hqGH1xdPKOZjUQ7PzV0jg2T1fID3eXPayHX4gU1LVSWipMFwvEN+9GThJTfSLtddLTwS5fHfvonDbfzxSUrEzU7A7Vkrse4/tuDVP+3H//6H1BrCHb4JWLZRCpKOsmD2jy4G/X1HUbxlm1hTFbsRGzKdHHPdcZSx7RaWy+Z96iFv1BqPj2L+Jjy7Rtwuw9+eQ7GL+bDr3VIU85tzLAWX/mKTg/617htpyeUhy+MjAhKdtqAZF6Gp40Y8+gofRZ0/UmeHcC1yNIJs8I1R0u9JH5zdT+vrE9omj9nX01XDgxWN0UUjapZUmaFrdTjugSwPy3bjPsau6j6Mop9sFB+5FZCC3O07ULDAUaZQIswyIFlP78hN6FH60C/VZzhstePWeu2M57uEuMlxH87w+VgoFQ7eP2RVuziGjiP78anqMN54+TA+ly5743LTAiwVtuMwPviEBb6mJnzwJv9JXYIfLBj94zvYchyfsnfrYcI9Ymm2xn64ZQcfsaIIDpb21PHAMdzJl/lDhtdh7S7hl3M0fsI/wR8HY8CRF7YJQ/M7Iz5/UazpGG9flvFz3vR6+HlhkZbaMAWmsx9GwanPnTb9waU+oQkRL0B6PhCgu9vHRwHcwgIL8UK8ruQN/JUPob6T/dj/52bkrlmGhbOj3OjQH4e5i/j+VuPTJr4hHjandSNfOjfe9Nei7Tivnro+h03vtRR+5FgKLmzbo1wN2ANY0JazGfnCtagD5YcdnMNeZT04mAdNJd28vnhGgbkZy9i/LIfvPyI0q+375LBQEx71wEK7fprBCJayzpEOJ9XtPfvx5A9WYe3653B4HC3dxtaHfb/dIqbL8OOTqvG/rBD28q/ykPvQEsyJDUOwhz9rYVnP4fcbEoT0P/nKOvwwvxT7PuvCoEzTUkOP+ID6tZam3HwAj5fWORnoaRCfbntOHGGX54//52zerxMLmH68Gauk68iRl8bOh/ru/Sh+Trw+K5ZsQYGzoNtNYZZnThxlv93OalsHe4drpW1uUp09KY68nDUHicKECcabOv5/q6Smjkos+sXrePVfeR5yIjYB9wgfmuD4tNKi66x41VfMvnl8ZSV7QwaWwyeep2W7cR9jV3zBrlGrCrGPn6tTF6Hwf7Zh3WznF4q4WeIgRU4HAhvswufCHxVIiJPZJg/WO2w83yXEA04GDYrC0pVLxAtbzTZsP+7CJUR3FG9sE4tyiiXLcM+ENPGMwj0PiHeUhSHhz36Kw/wH+qGlWDiqWQX7IT/OHyyuwO0J47m7OzjcbG3FE6vG/uFOmIPlwge7vqY2OtDK0rCvrQ3TpzqOmhQLVoqFWl01Slhg6jDV2Y+w8PzFlDysd7mmw5v2s313sLWmNjSJA1Sy4GTkxzIuQaopOM6+6+RRMW1/EweI4neRPX/8hrvb14aP3hR/kBP+rRC5d0aNPBLFSl+ndPvRBZZBsPYdOSkMQuN+c1o38+UYxpX+hpP4lJ9qAfOR6OHjDbyp7f3jDoPowZNHhYKL+9sehURptFDZh6V72eBn21EyPDiYNNFNLl9fxkExf6n4SCverPasFic/4cFCAlYtst/oMCSywqPArs+nNcPZNhy51IG2DiXCPK7Rd0HfcRyW7juteGLzyOOT7HR53A6YBVsbd+B//+8yJLD0GfxkD4o2rcD371mIH/5aWrH0SJK7pAfUt7HfuuA7N+LlN15wOoBH7+FSFO8Rc3zchkKP88c1wc679Y9LZQuWD39peT6prA68/gJ/9BPDgu5nHp/Y/tPB8XOErg7AmzjspIwzeLQa7wufFthcMzo+OyxcZ6x/1yaMFGxaBnFZ8V97XBsgKDgBc4QbY1049JmD3ydDKz6t5R8UWJ46MZlluKXXqeNodXITYfg3063fc8/LduM9xmNiZbEn/+U56bF4D+PF3UUuPfInOHGO2Hqv+zAapcpmewaWlh/wDwHL2H4Lk0Z4uF7BeL5LiIecBJzshFi0EQXf45fRLrxe8LTtMwrt6Trwxv95WnrMgjhy5kT9MITduUhs3lt9HG/+jV/gWYF7kUwzxEuHse8t9h7wMO4RLrgeamAFO6nZ2voFLvyMDDcjY0Hxa9tlB0MwsEK92A9nEZZ+z9ndsygs38hrIViq77J7LuSwPuwvFZ+/uCpvmfww39ecAW/seV+2T05X1VaU87t0AUuw3GrfFfMXSc9abULJ60cxKFfg5IH1/0gFqXWLxAu0R9zfPoPMcbSha8Lu/7EUFF0w63YsYvtrePcI9h3lzWkd5GNH3M2XYxhP+g8e3i88GFrx8D2Ycz3WpDTtwRtyhQt2zLa/Jt5diFu31M1t1470Z4+LmthagTGdxPbSPezaN97Bwca4vljd5feYbwrueVhYAw797Q3xxkTKMiyU6U843GWiewfKqsR8ZoMVuv+8VxyYK+pf3D1ebjK58DxCdj5sF1rYeC5qydPYeXA/dv7fzez8tx7B1YI3452PpSs3Cw+o/0vJOtw+RmZr+9tRsRVC7Do8s87Tft3XTnBmHgqk+12Gt14Qm/TJOoojQsClwML/KHT/0VFjiV2A5UJZgf0+bHsTHXLXQKtrBr+RvtByLExtOPw6v8G+AIvunPirQdsuqxFDf7/NjaaOUVj6iFh71vbfb4pBhZ2Oyq1iWS3yYSxNnZjcMvJ7chhb/+jgmbm649j9mvibGfUvbvyej6dsN55jPBaWB3Y8YQncVuLlP2x2/bs3LcUKYVTvNpT8Seami6kD+9j28ulRDy/FXOvDNJ71jue7hIyD04CTPwNt+eYt4iiYuqMoWrEEj7+8Hye/0MJgOWl1fej4G3/A7yoUW34YfrFlYgcrCL8HS4UTcz/K/4dd4NlFZ6lMM0TLM+bcL0jaaWoabrbm2nmowO3/Ujj8gPyfPrENn34hXT6kB17/tIAXFtm28cE7xrhLr7hTqoWQAoHRF+42nGwSn7+4/noaSezoc/jXf9+BT7ulLTZ04eSuQvyrMIQ7yxeb7focskB90y/EO92Gtzbj0efexEnLd4V0Y/lq/ciF8Znx9lN1a/viMFcccJP9aBeh7JOukTxvsOT5jeLzqlxlKYjr3kQJbxYbsAyL3PmxdztfjsHT9Gc/WG8KP85x2LBkPHd2vInfJNuIonfbhgPpQVU1SjZJzxhzNz/pWF7546/wG+HRHgqsWOD5rQ/PsGPPssxEDA7m9PrS3Y3PhQ/jab4OzMlcx4q97Nz5nx3Yx94XPrBI+P8oNy1D/gZeY2HAkV+zAjY7XpaBgw19bdjHh+nn5VM+QNZD4zz/xxKeiLnSPr/x0gvYd6rP6neOHf+3nsPaVdL5MF6+YUhY8jAK/nOHOILrLyz9QlfiVaEZbyme/dnDIw+od0kc1v2fdS4OJPV1C8PyJzZLAQc7V4ted1jDzSm+V4hnsrxRKo7Civ/YyFKOaSrF2n/bhiMqqZUSuwb2ndqPIss1I2ABCh4buZE+ePh14UblxLXmsvLFyIi8YQ9txIpZbH2XtE5eNmcxghetwjqh3PYmnlz3HMvL0j7x37w/bsbaF3jzGncGHnMB+z1Z/x/izbCuPZvxE7vfEyEt1+WJzb5ZGa5gpevn8/jKdp4f47F0VYqPp+L5ecVjDyPRJHdsrF421w4l7lm5Ttgu/vu79tf70SbVDBu6m7Dj/1sn9luWGRxwPOsd3zYT4rlJRqP+qvTZscEmvP7MkyjhfSidCUjAqqIXkD/Gnbi+dzeLTYgWPI33XHzG4WB1Ib7/S/EOVNTGHXhrg9XFivfxWc4KAtJ/3WK1DSdfXohHd4mTo1aW4n9/Nrr2ydm2G07twE/ZxczRcO/CMObWI8sNbzcf3OIFm4Kk4bNS/PMmHqSmoOBP28QA3mY/2XfelmtmxQqR/8QCIfZp1dYjyL9NnDqW4X3nA6bIPoPOwXKHtykBK3LCsK9CLkBWIGHDy/jDRvk778JQ79Loe3IUCSvxn/+VZ3cXrg/7/n2ZUBhd+Iv9ePF+B7loPNvHm504K2BOnY/84ofR+5NCMV1+z9LF8lw6B8fWcPQF3PXvYo2NIqcUBzeP5DFHx2C8+XIs7qT/8Ho84PQ4WWN5X3xsBS9858neBR8zrTIfxor2N8X+b/amLsKz24uw1O7csU5nZ4Izt+CP/3eJi30oR/Kp66z2ezgtmMiVePn1vNH9tR1dRxxNZ+yvL4n77fY9diN2vu6gH6ALx0e4i75iHcqEGmGW3n9m6e3oRpswKEqB1E9NBu97+t8vu96/yMl+DxveB7vzk01fy6Y72BJ2LizDM48n4P183sJkPrsGl07Is+pGzisnaTqKbd6KY+fCTnYuOE8lx78P7m+D1fpH/W6MrMfZed/2x1VYKwVWcza/jldzpOaS1vme9199nR2jMdJ5PNfAweP8pvAOoQmzLHbNKPj9Fhb48dQd2Tf3uZa2bX9cwdJFpsbfIZnl8gGw1kt9kkdx/ps8mqvlCgM63tqCR6XHo8hycP2VNXwue8AuH7h3jF3BrnEPWq5xLpIpX/Fnl/7rsw7Si5Wp1720Dbk2FQvjWe/EbDMhnnBew2kRnIJVJdX4y59eQMFDi5CQEDZykeKDady5BOt+sQ3vHdwxZrDpqZGH8kZh+fe8fKeb31H6VzeaOkoUs9fh1X2v48XHl+D24TvTSsSx9Mkv2Y///YX8MOZyFLetwjrhpje70L82+mIk1HRMQEFn4rB88C8v4O3f52HpbVL+4Hlj0Uo8u/Nd7HTywxbFAvG/7NuGwjUsb4Vb5pLSrfh1vLfdPtj0hAfbF7kML74hs12zF2EVz+/vlWJVyu3DNaGHPxP7LzujmL9QfGwEW9vyjDkO00SWh/lyLNcm/a+xyKUo2PE6nmX7ZGmyGBw7H0sfL2XHzcXCjg0xPdb93x14y+VgcyJN7OBg9teXkUe9KRB228P4T6cD1LjANwELH5DqNJcswUJnrTp8o4TBUN7b+rTQzzNM2kdFeAIWrdmCnSxvXqvBLBS35WHnGy8gP2v+SFNX6TdOPBeextI750g1ocdx5OQYN2GvFT5S+Y9dDR6uHwmPjAwgdPKFUuyTGXRvIe9P6+XfuuD5G1k+s//t5qOSW671RW4EIuPVh9MN7gSbDkQuwX9WiPs0x/q6zn7zCre+6fQ32XMKxD1UhPfeLhXLisPrtU1L96+/4zfhx7inFY3uBG4ORGUV4S1Wts7PShm+9mFqHLv2PY1X/7TDLthkxrPeCdpmQjzhWg3n9eBSNX7+gy04nLIZb/3hYdvmWZa7YO7c2fTkO2Q0V2oTvk7X+/Z9w1hqEVyurWQ8+Y6nHNV8fjNYahHcqeW6frWVr8Dabb1YUVKNgjsnvmhLyNfDk/P0H+vcvmaobEfIPwzXajivA5Y2/IseWSrfF4gQQsj14dJh7OaDTUWuw3J3HvtDCCGEkH8412/AaehDVw/vtCwO1vBL3s8j4GGsuC4eAUIIIcTaYE+XMMhEn+ooyv6/LXhfB8z5lyXX6fMgCSGEEHKtXL8B56UjKF6+BN//wQo8+tv96IACS3+xyY1nFhJCCLlWOvauYNfrJfjhjzZjB3/MRexGPJVN7VEIIYSQb7vruA9nE17/0ZMoUWmhCF+ADb8qxLr51Br/ukN9OMl15Jvdh/Obra9mC9b+uhp9OiXmPJSHZ/gzgidokCNCCCGEfHN9cwYNIoQQQgghhBDyjfKNGTSIEEIIIYQQQsg3CwWchBBCCCGEEEK8ggJOQgghhBBCCCFeQQEnIYQQQgghhBCvoICTEEIIIYQQQohXUMBJCCGEEEIIIcQrKOAkhBBCCCGEEOIVFHASQgghhBBCCPEKCjgJIYQQQgghhHgFBZyEEEIIIYQQQryCAk5CCCGEEEIIIV5BASchhBBCCCGEEK+ggJMQQgghhBBCiFdQwEkIIYQQQgghxCso4CSEEEIIIYQQ4hUUcBJCCCGEEEII8YpJRqP+qvR52OTJCukTIYQQQgghhBDiGarhJIQQQgghhBDiFRRwEkIIIYQQQgjxCgo4CSGEEEIIIYR4BQWchBBCCCGEEEK8ggJOQgghhBBCCCFeQQEnIYQQQgghhBCvoICTEEIIIYQQQohXUMBJCCGEEEIIIcQrKOAkhBBCCCGEEOIVFHASQgghhBBCCPEKCjgJIYQQQgghhHgFBZyEEEIIIYQQQryCAk5CiHt6u1B3QoX2S9L/r7UrPahn66/v1kkTCCGEEELI9WqS0ai/Kn0eNnmyQvpERH2ofPUcSgYCUVyQjDRpqj1tQxNWH9RBC+fzEfKNMNCFqkO9eEetR7tRmjbMF/lr5iE7QvqvNxj7UPdBNypadWjWAwZpskX2knnIn+sr/Y8QQgghhFyPqIZzolzpQMkhHmwS8s2nbWzG6tfOo/isGGwqJvsgIsDy8kPW3dHeDTa721FQeg6FjTrU82DTx3r9vkifG4UNFGwSQgghhFz3qIbTJWPVcGpRu/sUtnRL/6UaTvJNZj6PstIuVPj4I39JLLITQ6Q/XCsDqCpvQ/ElX2QvikZu6g1Q0K0xQgghhJBvJCrGTQDtsXMo4sGmvz/Sg8VphHxjNV1CpdEH2Xff8jUEm4zmSxzoB5JSY5E/j4JNQgghhJBvMqrhdImTGs4rHSjaegE1Zl9syImGsrrDdj5NG/J2DaAlNgI17O827P/W2IzM6iHpj/KS5s1E6eIw8T89KpT/mW1brwlaM2/26Iu0+DDkL41FhJ84i0BaLu/ztsZ8GkUfDqFeaiaZHDsdBffbzl9fcQwFKvk+eg7/Nta2WPZVnFueXBo51ImSYg0q+Uc/JUrzZiPJPjBh+53F9pv3/bNON3Ef2DF6MgqGShWKPzein22z0t8PWd+NRu48KX2tuZDW4nKBmFkRKH2Q5QVhqmU7rfOOFi3vtuPpNiO00eI+O0xXcxfKfn8eFXreZ/EO5M+Vpstykk/7z6FwRx/qWD4dq++l5uAJrG5QoOjJOIR91IGyEzohv8DHB2nRIchdcjPiQ+yas5ovo/0j9ci8TGhoADZkxCDrliniBIn2bDvKPhxADUt0fmyUQWy+e2OQbZmvoQmZBw3IXX0bMr9sQ/FRLeqv8Ga1LG2nK5H7g3ikh1tncImr5wNjOVbyrNPPSZo6/Btbv7oTuw72oeqSecxt4fP3t5xF+ceDVmnij+z0Gdgg5EXLeoSZHZDbPkIIIYSQrx/VHYwLKzRX8GCTFYRTorA6dpzJOTUA2bMCpVcAkoSCqS/Sh6cF4i6poM372OXs7MHuHhNCp4vfy1CaUH+6B+u3NQsFdHv9raex6eAQzrACPl9+mr8Z9WfZ/OWn0MICGk+5tC0BAbjLaj/Sg/g3fZAUMzIt+yZ/PtE9LMkVxiH8tc0kTbDQobZZDDblmVD7JgvCWLAZcSNbd6w/Qo1GVBw6h03vdtl8z9W0DruJLSfCF5qzGpQcdzKCamsnfnXaCCULyJzvswnqao0QbI6PFrVVPNiU/juG7ossLYN9oX6zFZvqdFJ+CUTmFDOaVRex6bWTqOy2Sm/zBVSWi/M2X/VDJj+WLD2Vl3QormxFwYcXpBkZVSs2V15kgdgkZM67AUUZU5D2lQ4llWdQ0iKmmaafp74CaD6J1QdZsAl/YZlZ01na9mhRuKsRJY22vaU9OR/g54csvq3DL8s5Nx4maD48iZy9F1DBgk1xW/i5ZkId25bVZfbbwuY/xPbzwIAQnMZHitsRodNjN8uLeYd42vkhJtZqO8PFYF9pd72QuU1CCCGEEPK1o4BzHPo/UqG4l30ImoJnl0zACCoxM5H/YLL0isS9gXyiP3KGpyUjJ2WKOEARCxz7/fxRsHoetq9NEf5W+JN52H13AJS6IWw50Dkq2KpV/R1pd8ej8id8/hQUPTYbxSxINgxq8fyHPdJcbnJ1W0KibfdjOv/yJNx718i0/AXhwiLdwoK8LB8zqlo10gSJvge13SxJgxwNLKNHpcYfW9bOQ+lqtu6cudi+KQLZLP5rP61BpVqazY20jlnAlrNmFvJDgZrPzqNfXIIdFgif0KKf5Znn1rFlOdtnzVk832Qad5NSQyPLpywt3FoOyxNlKiD73kQpv4j7XMEyZajZiJJ32iEmEQ+KO1Fyie3/LVGoeCIVhfxYCukZjQ1TgfpjnSyt+bx61PF9hy9yV96GgsVxSE9PxJblUxABMyo/6bYadEuHsgYj4lNjUfXYXBSwZRawY1X1SAiS+LwHO1BrCcQ9PB8QGIg1fFuHX5ZzbhzYMfvNMSMM/gFC3hK3hZ9rqdie6geFfgiFFedG8oa6HU+f4PMHoujHUl5k82+V8mLLifOo6mdB+RKr7UwVb1LEzIwcmfbgTMQIUwkhhBBCri8UcHqq/xyK6/SsEMsKzw/EI+YapqS24bJQq5o2LxZZkdYBlS9C74jEmhA2j+oi2ObZCg1B7h3TpP9wSqQtn45Mtu3qU33Om7s64PG2TJRJSmREs3V0XLbZfkPjgNDM+YFExzWIaanRyJhutc1B0chdGAAFC6J2fdYlTHJ//0KQeRtbRj/7niVotdZ/HpXn2fJSIsYIENj2/3kALf5KFIxnNFZzF8o/HIJhehjyXW2tbBERhg2p1s1hfaFkAWAuv7dyRYsDrXzal+zdJDRrfmrZDKkZsSQoAqvvDBTSc28Djzj9kf7gfFQ8OQ851mnpPwksRgeMX9mO8hwwBT9bbBeQx8zCzxJYhjXrUPXpZWGS+8foItS8earfZNvtnQDqhkEhH47KW7yW8t4obAhiebP3Emql+yMtn2mFwD1z4UykWzdTZnlxDQ9Q/UxQfeGtk4cQQgghxPso4PQICwb2iU0Uk1jB0qbwfA2c6RILoH2ff4GSt5vtXhrUfcX/akRzhzDbsKS4aWLB3pr/NKTziUY9zvDaWjd5ui0TxwdpiSyo4c1qW6VJ/PicZNsVOoUV+qVJo/gi45bRA+Io4gOFfnDaL4eEWihP9k+RFopsfxPKa8+h3/r5lcYB1B4cQL1/IAvERq/bmvYYrz33QRaLppM9PkstTXJ9sYH3HZSmuir95lCZgEyJ5Cie381oPt8HaLRoFvZRjwOV9unDXqeNvHEsNJoh22DSwnwZdbVikBYaobTZRmVMMOJH7bsv4mO+I3yq6xI7Nbp/jL6CgbcIDvKb4IBTB1Ufuyg4yFtAOEtTvkMsiBQaFFzEmS/5/H5Ijg3gE2yEZqSi6mfzkTvXWbNrQgghhJDrGwWcHhhuShsSgmcW3yBOHItKg8ziY7avsQbRGYO6ZwiVZ0e/6oQ+YmYYxHL4sFumy/XymoJQoT8lK/gKBXMLE0p22W0vezkaaMXdbZlQiUpk8Ga1bWKtJPovoIZFi+mJ4aMD7GH+iJGLwEL8xKDnqjh4i4Vb++cThdzVYUi/0Iec30kDG2EIBb9rwxa1L3IfSkCasxhC34nyI2yBkWHITR1HSCQ1yeX9iz25KRIRbDvYj0XEdJmNNxpRJZM+lWqjGGja114KA+GwPPViKwpVLO/xJsY/iJL+JooJcpBI4X5Ikj5ac/kYmYegGgSSwtxpP8uOn925kFlsP5DPEPqdj/kFhWKS9Ilj+y0M2eaHGIc3RgghhBBCvtko4HSXph2/4k1pffyQf/8sRLiagnzUyeEBPqRXzHhqWHywIecO1BQ4ftmPaHrm4kXpkzWpeSEmQ2lTyWI3oI/0Egf7sef+tkwo/3BkRALac2IAr2m4LAw0k3W7fMAkMkItV6Pbq8cZ/m7T3NLN/es+hy27+1AXEIiilTcgU5gYgMKVEVg91YiyPzXbDrpjw4SW6h5UmvxRkBU3jvwx0iT3KTf7F0eGicGpwSy/jRqWRgJfq8wfeQOqZNJl+PVogl0NK8tL3w1H0eIbkB/jC8WVy3j6nU4hKLUEtAYzr/2T0WMUjrNisvhfkRvH6MwQatn8yTPcGWbHdvAu8WU/yFAgQseIYQ0G60HBWfoJ8aeDvEgIIYQQ8g+AAk636FH+7kW0sHJwUuoMZLtTazR9mtUAH9LrrkCPBvoQAwIzDrbKDfTTg4pXjiG7tEmo5bPW3nV59MAp+sto5l3hAvxh2wrQbkAf6SUO9jPC022ZWAFITwgQmtXWq3pQ22qCYkYI0p22RDSiWTV6JFmD6u9oZ+8REYFCsOf2/pkvoOLdPtQaWcCYk4z0Gb5S0DgJoTOisUEIQI0oeaNNyEf2DJ3teL7VjKS5kch0XD07pn6rJrmjHhczhogZAcI216rsBmISaNHcxQNRFrBFTAPCA3ALX/6XWtl+uobjTch68TjWH+gCBjtRsvU4svd0sHwYgIikWKTPi0P2IwkoYNFov6oPNTzwimXHk721qwdkBl4ysel/Fz6lhYsZ1t1jpP58CFqf7yD9FvH/rrEdvEt82Q8yFIDYMJ4YJtSekXuGSQ/qPucH3RexQtfUabjlRj6/ESohTe2cPoVslnZ51XLHgRBCCCHkm4ECTreY0HIJUEwNwTOLXGxK6wURqVORzo6cuqkLFWrrToL8EQtdKL/CCvrBgUizC1gM53tRZv04Cd5/bl+vMOBK0uzpHgW/nm7LRFOkBAvNag98qMEBts6MhHCh76AzNUfO2T6iYkCFsiM6YSCoR1LF+jj39o9P60QZizX4DQnZgDEoDrksElbotXh+VCBxFXs/vgx10BQ85WpTbVl/R9nH42iSmxiGNUEstDx7YVRNrLaRpRHbbH4OPJDIJvhE4V4ecZp1KNmnEp45OewKSwuenmxa+qwbgWB/RJrN0J7vd1LDy4REImsGe+8fwC67x5+g+yx+18YW6B+IHKkG261jpO/EOyygV86aijT2nYkWkxosNPetb+hEba/1PhqhPihui2L6VGRI1b1Jc5XCeVf54WnbvMgfNfM3rZCeybFf37WGEEIIIWS8vFDk+gfn44fcH7rRlNYbQmei4O4A4fEUZXsbsH5nkzBAStEfTmA9f8QC38alsaP6Lyr9garqU9L8TcgrEfvPKUKnsQDaw6f4ebgtshqbxb5xr7bB7TodqVmtpkcPtZ8SD6SNHoTFlg/bpiEUbD2BwopmlOxuQPZrPahkcVraHdHItrT/dGf/+lUoaWRBBg8YnaRn6HdnIDdECpBsAi8z+vU+yFk83lGP2XJ4DavHTXLDkfMAf/yIESV7GlD47jnUnVCh6t0G4Tmu/f5s2ffHS01kfZG0hO3PVL77PcgpaUARH6ynohHrt2qE9IyYFY41ibwWMhzZdweytDKhbM9nKD7UwZZ7DuU7WlHMg9jplkGeApCxnD8WxIxKll83VbShhq2/5lATNu3hzaZ9sXrJzJF+sC4eI0VTG4p3s2PMYtLQgUvCPLavbrDdY/SoeLsN9XKVlGOJmIVn7uCPP9Fhy062fulcK3yFbVcDf/wJSzvr8yE2Hs/NEx+XMpwXhXOzQ3jUzEjaEUIIIYR8M1HA6aak+SwYucaj0soJnZ+CirXhWB3uC22vThgcpeayD5Jjp2Hrj+fIbmNMcjS2Lw6Esp/Pr0P7JD9kpc9AxToWPIwjJ3iyLRMvAOnxYgSijJviQjPSSViTPRNFN/uguXMIld1GKKYGoCA7EcV329YoubZ/WtRW8ZGLXQkYw5C9ZApiWOBV/t7nNsG1Mmb6hAQY422Si8gElPJ9nj4JZ9r6UHioB8VtJigjQ7B1bTIyLQE55x+BnA2J2JoegGRfI2pZ+lSq9OgP8MfqxTOx+8Ho4cBXkXQrtmdPQ9bUqyyIvMCW24eKgUlIuzUcu9fOHAnEgqKRvyEaBbF+0J4fQBFbf1GDDtqpgShaMwcbEm1vKLhyjLQ9WlT1i1Ww8gMM6dAiVJCaUHdWC/XoFtcu8EXE3XNQIeyjD/qFbdGh3uCLdL6PuXORaXM+sPkXz8Hu+6YgM+gq6lXidqhZYGqfdoQQQggh30STjEa99SgWgsmTx2qMSL5ReM1h9RCS5s1E6WIPazKvFb6tn/ij4ifxI8HHBKuv4KPt+iJ/zbyRmkzyD09z6ARWn/BHcUGy8Ogbh4TzRU/5gxBCCCFkAlANJ7l+8D6lp/+O0Aje7JIQQgghhBDyTUcBJ7l+9GhQoVXiuXtsn8dICCGEEEII+WaigJNcPyISULwhEfGyz/okZHwiFs9DzVjNabm5yWw+ak5LCCGEEDIRqA8nIYQQQgghhBCvoBpOQgghhBBCCCFeQQEnIYQQQgghhBCvoICTEEIIIYQQQohXUMBJCCGEEEIIIcQrKOAkhBBCCCGEEOIVFHASQgghhBBCCPEKCjgJIYQQQgghhHgFBZyEEEIIIYQQQryCAk5CCCGEEEIIIV5BASchhBBCCCGEEK+ggNMlfah89Rgyi0+gUiNNGmaEuq4JeS/xvx9D3qE+afp1qLH5+t9G8i1iOa+aUS9NIYQQQggh/1go4BwnzYfN2FSrQzv8kDkrEHeF+0l/IYQQQgghhJBvt0lGo/6q9HnY5MkK6RMR8ZqYcygZ8EX+mnnIjpAm6ztRUqZBJQJQ9JMUpAdJ0wkhhBBCCCGEUA3nePR/wgJRIxAzO5yCTUIIIYQQQgixQzWcLpGr4exBxSsqlF3xQ8GGVGSFCjPaGuhBzaEulKuM0HzF/s/C+5jpSuT+IB7pNk1vO1FSzGtKGT8lSvNmI8n+VkBjM7Kqh2BgH5PmzUTp4jD2ybJdwhzyQkKw+9EECJvM+3CyZVi+31/bgJw6o9XyrOlQu6cJW86z/VseiAP7BtAi/UVWbARqcqLFz8Y+1L1/HmXteqid7bemDXm72Maz9T8X24eS6gHUXgEMPj6IjwzGU/fNQnyIrzSzhQn9LWdR/vEgavrNQnoog/yRnT4DG+ZZ9sGSLoEoLkhGmjBNB/XBVuQ1GqENtkoTsGNzoh0lx4ZQPyguD3z90wOxYdRxcsLVfeak/XaUnsPHo78dBeUXUW99DK0Yjjch+wMdktMTUJzxlRv7bIL2zOcoq2XpfckMrZlNYtsbMTUAazJikHXLFGEuTnPoBFafMCF7yR3InytNlNRXHEOByrbWX26awNyFst+fR4UeVsuSO06c69tHCCGEEEKub/ZhDXGRofECdrHgSDFjGjLlgs1uFiy8pkLRWVbY9/dH1qxAZE33haZHi8KdjShp1EozWmFHQ2Ecwl/bTNIECxb8NYvBpjxfpLPlZ9u8/BEj/dWR0LlTkM7eW1p7oRYnjdB/idrz7D1yKjJvDMBdVssWa3N9kBRjtb6b/PlE4ApvZnwOhaf10Ej7nX2jH/p72X7vkt9vQ68GT1ey4AL+Qj/YzClmqM8PYNPOZtTYDNJkYgHQSaw+MIAqFojER/J1ByBCp8fuQ+eQd+iCNJ8MtRq/ajBCwYKW7NgAKIWJWhYgNWL1Ifau80WGsC8BSA8wo50fp12nWFArzOicB/vMxYTz9Vm9wu2C69BwlmfY+4AWtaMOkA51p3UsT7Bg+84QaZod2X0W0zCn8iJLw0lIjhbXncliuP5+HYorz6Cs1T7/jZcJ6mqNEGyO7evYPkIIIYQQ4i0UcLrNBEN3B4o/HGLhii/WLLwJo+uD+1D57kXUm32QeXc8Kh+bi4IHk1Gwdh6qHglBko8ZlQfPjQ5mbmJBKftbVavdULj6HtR2swAlyL62z8IfOWz5+TavaVY1Rg6ERCJrBnu/cgV1dgGN9tPLqGHvmbfeCEVItM3yc3gQhEm49y6r9S0I599C7TsaVOp9kJ4ehyppv/NXp6Jy7Q3I9GP7/YEK9XaBR7t6CEiKRoU0f+FP5mH7PD8o9HoUs/mHA211O54+YYTBPxBFP56H0tV83SnYuikC2SzebTlxHlWyAaIJLfVaqP2UeHZdCvKXRIvBl/o8SlRmFpCFYHt+KgqFfUlB0WNs/Sksrc16vHPyorAExzzbZy4tla/P6pUqBe3DpiBjTgDLXyYcON0jTZMMdKOK5QnFjBCk239N4GCf9V+gnAWhPA2LN81DUY647sKf3IGKu/3Zutj2tnQJS5gwmrN4vskEhStXm69j+wghhBBCiNdQwOkWE0p2nUDW7guoMflhQ3YCVsfKBIGqXuzlzVxDQ5B7xzRxmkVMAp6yBDMNdo8nmaRERjQLYTou2zS3NDQOoMbsiwcSZSOLcQhAeoIY0LzTYh3kDqC2lUVILFh5IC1AmuaCgR4hCOL7XZBxgzjNYnocNiSz/TYOoapRJ02UsPU8tiRCqoHjfBGxOAobgti+n2fbIjUZbvmMBVDsPXPhTKRbN7UNisaaVBag+pmg+kImsrvSiXfOmhEzO8ymqXJ/px6GyUDWnbMQYXMm+CImSkprE2/P6YQn+9xvRDs79RQuHE5FSjAy2Lapz1y0qYXub7yMOraM7DS5Gx6Mg33G50NoZpuUlByBNLt+x8ro7yCevRt4k+AJw/LunwfQ4q9EwVyrY+bINd8+QgghhBDiTRRwusUHWfNCkDOdBQtfGbGrugO1vaOb9xl69ODhW1LcNMi1to1JDBL60rX0DYkThvkgLTFQbFbbKk3iBfaTLIgKnYIMoWZxYinSpiHbD9C0XhwJcjVf4kA/K+DP5LWx0jRXqHQsCGL0Q9j1djNK7F57vxDmQp3GrtYwSimznnAk38Qn6tHMm/biIs58yYM/PyTHjg6CQzNSUfWz+cidaxfFmVlgdqAPNfDHmtt5LeyI0O/Oxe4neH9CMwwDl6FuVaGuthUluxuQc9D+2DjgyT4brsKASYh00BLWhv9NeGAWSwedFgdapWnoQ+1pI0uKQNx1q0wQ52Sfcets7P7ZHShdPBWGwcvQfN6Juro2lFc0Yv3/jtFP1wPaYyoU97LzJiMaya7kpWu8fYQQQgghxLvcCScICxJuSUpA7rq52JrKojSdDlv2nEb9FenPkv7BMapg/CfJBqKCRCUyeLPaNqnZYP8FoeltemK44++Mh88M3DWTZQMe5J4Wg2d1o5YV7H2x5rYo4f9uu6JH5dmh0a8ecfnav9sG6UlhgdInW6FBk8QPQnKyYFMY3soPMS4H3kMoeLEVhapJWJ19i0xfWy3aDzVh/YsNyHq1Fev396Cw7jIqvzQhNtiF2jhrbuyzppc3EvZHjPWgOg75IunWQCjZ/ledFiJvdoB68c4AxNpLcYqVsfbZhP6GZuS9dAJZW1ux+k0NCmsHsLtTDyh9rWqZJ4C+E+VH2HIjw5Cb6uqSr+H2EUIIIYQQr6OA0yMs6Lk3GrlT2Uf9ELa8p2Khy4jQ4MnSJwf0V+FwLBr/cGREsgDlnFibo2m4jHoWnGTd7r2ROZNuUyKGBzRC39Ee1J1lwVEIC3zHGnXIgYiUaNQU3OH4ZRnNVtI+IF+b2D3AgzRL01OWVYX408jjLRcFoHDtDOSGmrC7shWV3baBrubDduSd0EETFID8jBnY/mgiKvPmoebJ+SiW7xjpkOv7fBnNX7DtmB6AW6QpY0oMw5oglid4U2sWd6tPX4GaBaIPzLWrvRQ432dDy2lsOjiEFl8/rE6PwNa1bJ8fS2X7fAe238/zwUQxoaW6B5UmfxRkxbkcKF677SOEEEIIIdcCBZweC0P2/dOEpqBaFgGVNYyEnIpwf7HJbMdF2cBS3XpFbHIrW7Mn9as0DqFe1YPaVpOTgWEmSMw03GcJaM5exDtXgLRbbxz1GI4xhfsJNW6azwdGj3rLqKtPIOul4yg6avscF4NmSGb+HrQL3Ur9kBzH36fhlht5djVC1WUbRAlOn0L2i8eRV23dF3USQsOjkPOjCGT7GVHyhnVtdB/q2owwsOXn56QgOz0KMSFToPQXazY1vTJ9QeW4u8/6ftSxgDkpJsSN2rpwpM9i28Vrods0qD3D9p83sZY9QM72GWhuHmJ50gc535+DDRnRiA9n+xwkPbalh/ctnRiGznY832pG0txI+VGcHbhW20cIIYQQQq4NCjjHIyIez8z3E0bOrKpVjRTsY6fjEd4/r38AZcfs+iuq24QRO+HjjwdS7Z99KRIHijHjwIcaHGDLzEgIlx8YZsKEIzOFFepZQLOrlgXDPgGOH7XhTMSNeIA3d71yGc8ftBtVtVvcb4PZD+mJdsvm89s80sQI9cEulLN9V8ZOGw62k+YqhRquyg/tmjGbL6Dyb1rheY3JsXYD93BB0Sx4CYBSP4Si6k67x8uY0H3RLoBlx+g3DTJBrRw391nzUT9qWJB7n4Nj70jM7VOQxvPZxz34WAdk3jbDeRNrp/tshmbAbuCmARVKPnT26B13XMXejy9DHTQFTy2WOR5j8vb2EUIIIYSQa4UCznGKuHukaW3RgU6paa1Y+5nGgsaaD9uR/Uojit9uRvHOE8jaO4AWsw8y0p3U/EjNajU9euGxFm6NFOsh8ZmcZtT1mqCIDPawRjUEmQ+w4JV9t6VBhSxpv/kgPNl7+H4DafNl9tvfB5oTHcj+QxNK3m5C4SsNWN9gBAICseW+6JFgOzYezwmPSxlCwdYTKKzgA/M0Ia+kAyWX2LGYFY41ifJ9L5WpcShgadp/tgflwnMcw5CeIN4s2F15Anm7xUF+iv5wTDhGmiCxv+DogZ3subrPPah5uxG/4oEsi+2bPxTXZ/NqEGtV1ee6UXLULniVnsmp7dWjxScAGSlj54nR+8wC8uRAIVCtrT2F9Tt5ekv58tUeVCl8xSarl3RCDby1+obR21shNG2+ioN/bUaNTfWuGf16H+QsjkeMm1cYT7ePEEIIIYRcnyjgHLeRprX9KlawtzzkPzIexT+egYJYPyj1elSdHUJV71XEhCtRtHYutnzXWc1PANLjxYhPGTfFvZFiPWV5JifLEg4fteGKqbEozJ2Jolv9EWMQ97uy2wjF1AAUZCei+G6Z/Y6Yju3ZIUg36lB5Vod6vS/Sbw3H9o3Jdo/G4I9LmYPd901BZtBV1Kv4wDw6qP39sXrxTOx+UHrWpCwlMjL5cTKj4lA71CwQjLg7HqXpAUhjMWpLtzjITz0L5nJ/MBMVj96ATJ7uvXLNfe24tM96NJ/Vo52tF0ajOI/9yzLAEAuoKkc93sXyTE62J7OmIcOlGwKj91mRdCu23qtEOktXTQ9P7yHUXpmMnIxYts+xeIBXxA4acMZu9eqe0dtbJ9Qym9GiHkIzC/itKWOmOwz+nfF0+wghhBBCyPVpktGoF8b+tDZ5sncbcJKvSWMzMquHkDRvJkoX2zfp1KF2TxO29ChR+rPZMqOfeoGmDXm7BtASGzFqIKF/PJ0oKdbgjGzaW+tD5avnUDJ1dJoYjjch+wM9spfNR26iNPHrJh3DW5bwx8tI01wm7etAIIoLkpEmTSWEEEIIIf84qIbzW8Sgd9Iv8awa5ecdPWqDfO2MGuz6RAdDkBL3XS/B5rgZoaVOmYQQQggh/9Ao4Pw2aG1HMe8b+TFvh+iD5BmWGrY+VO08jtW/P46sty9D7R+I/LvlHrVBvi6a2kbh+OSUdmL3FR9k3x3zD/BokD7UvtuMkl1d2MXHBnLnETGEEEIIIeQbhQLObwFN52VU8b6RRl9kzpuBNcM1ZIEI/Y4ZGp0ZCApA4YpbkebRYEFkbNHIL7hjjOa0XBiyHx15bmdosA/62fHpBzt2C2KQn+T9AaTcEpGAUrZfbjWnNWpR1zaESo0JiqmBKLo/1o1HxBBCCCGEkG8S6sNJCCGEEEIIIcQrqIaTEEIIIYQQQohXUMBJCCGEEEIIIcQrKOAkhBBCCCGEEOIVFHASQgghhBBCCPEKCjgJIYQQQgghhHgFBZyEEEIIIYQQQryCAk5CCCGEEEIIIV5BASchhBBCCCGEEK+ggJMQQgghhBBCiFdQwEkIIYQQQgghxCso4HRJHypfPYbM4hOo1EiThhmhrmtC3kv878eQd6hPmn4damy+/reREEIIIYQQ8g+DAs5x0nzYjE21OrTDD5mzAnFXuJ/0F0IIIYQQQgj5dqOAczz0ndjbYITBLwBbHk1F4YPJyEmZIv3xOjQ3GTUFd6B0cZg0gRBCCCGEEEK8hwLOcej/pA+VRiBmdjjSg6SJhBBCCCGEEEIEk4xG/VXp87DJkxXSJyLifTjPoWTAF/lr5iE7gk/rQcUrKpRd8UPBhlRkhQoz2hroQc2hLpSrjNB8xf7PwvuY6Urk/iAe6TZNbztRUqxBJf/op0Rp3mwk2d8KaGxGVvUQDOxj0ryZUi2lZbuEOeSFhGD3owkQNpn34WTLsHy/v7YBOXVGq+VZ06F2TxO2nGf7tzwQB/YNoEX6i6zYCNTkRIufjX2oe/88ytr1UDvbb00b8naxjWfrfy62DyXVA6i9Ahh8fBAfGYyn7puF+BBfaWYLE/pbzqL840HU9JuF9FAG+SM7fQY2zLPsgyVdAlFckIw0YZoO6oOtyGs0QhvM0yQMdaPmkfSfQ+EOtg9m6+PtgLQPLdb7b+Hob1L6lJ/Vo90oTlL4+SJtVhjyl8YigieRmaVfaRcqTGz7nmDbZ58f1K1Yv/cy+m+JQmX2DNRXHEOBynZ7+483Y/OHQ1CbxX2EzDwCcxfKfn8eFXoge8kdyJ8rTSeEEEIIIWScqIbTQ4bGC9jFgiPFjGnIlAs2u9tR8JoKRWdZgOPvj6xZgcia7gtNjxaFOxtR0qiVZrTCjobCOIS/tpmkCRYs+GsWg015vkhny8+2efkjRvqrI6FzpyCdvbe09kItThqh/xK159l75FRk3hiAu6yWLdbm+iApxmp9N/nzicAVFjyXsYDttB4aab+zb/RDfy/b713y+23o1eDpShZswl/oB5s5xQz1+QFs2tmMGptBmkzQHDqJ1QcGUHXJzIJSvu4AROj02H3oHPIOXZDmk6FW41cNRiimBiA7NgBKafJoWtRW8WBT+u9Es06fILYtPH1i/RFhMqHudA/W7z6Hfj6fzwzcNZNlCPMQqup1wletqVu07Jj54JHUGdIUO3oVyliwqeHBOEsjx42oTVBXa4RgkxBCCCGEkIlGAafbTDB0d6CYFea1LNBbs/AmjK4P7kPluxdRb/ZB5t3xqHxsLgoeTEbB2nmoeiQEST5mVB48hxohsrByEwtK2d+qWu2GwtX3oLYbiAmyr+2z8EcOW36+zWuaba2dnJBIZPF45coV1NlFnNpPL6OGvWfeeiMUIdE2y8+ZzueYhHvvslrfgnD+LdS+o0Gl3gfp6XGokvY7f3UqKtfegEw/tt8fqFBvF9y0q4eApGhUSPMX/mQets/zg0KvRzGbfzjQVrfj6RNGGPwDUfTjeShdzdedgq2bIpDN4t2WE+dRZZ+mAhNa6lmA5qfEs+tSkL8k2mHAaWhUoZiltcJLZ4b6owssfXgtdRwqf8K2hadPzlxsfyIaG1ggb+i9jNpecd6k25TCTYPath67mw1dONDKIuIgJTJipUl2+j+5iBqzn7Ds/AdnOr75oDmL55tMXttfQgghhBDy7UbFTLeYULLrBLJ2X0CNyQ8bshOwOlYmCFT1Yi9v5hoagtw7ponTLGIS8FQK+45Zj3ca7B5PMokFENEsbOu4bNN81dA4wIIHXzyQKNUiTpgApCcEsIDZhHdarIPcAdS2sqiIBWgPpAVI01ww0IMqFqzx/S7IuEGcZjE9DhuS2X4bh1DVaFdjx9bz2JIIqyDQFxGLo8QA7DzbFqnJcMtnvFaPBcELZyLduqltUDTWpLIA1c8E1RcyVXVXOvHOWTNiZoeNbqpszdyF8g+HYJgehny71rET4yKae65C6ROIDYvs0scnAklCIM8CSd4MmYuZhvukNKiz3q3TA6gyAmkpEfKBpFmDqiaj49r3YSxf/XkALf5KFMx1dDODEEIIIYQQz1HA6RYfZM0LQc50Hyi+MmJXdQdqe+2bv7IAoUcPHr4lxU2DXHk/JjFI6FPZ0jckThjmg7TEQLFZbas0iQcFJ1m0EToFGUJAMrEUadOQ7QdoWi+OBLmaL3GgH1DO5LWx0jRXqHSo4+/6Iex6uxkldq+9XwhzoU5zUfxgEaWUWU84km/iE/Vo5k17WbB25kveztUPybGjg+DQjFRU/Ww+cufaBeXmy6g70Ica+GPN7bwW1hFL01JfbOD9KKWpE2sastbMR+WTyUgzDUE7cAEtJ1Soqm5GUflxFKqk2YaFIzOFd+jUo+rTy+Iktp31J7XQsv3JmhsiTbNmhPqQBruu+CB7nlzt+wjtMRWKe1mezohGMl0JCCGEEEKIF1Ax0y2TcEtSAnLXzcXWVBYI6HTYsuc06q9If5b0D1qqqBzwnyQbiAoSlcjgzWrbusT/918Qmt6mJ4Y7/s54WPoK8iD3tBg8qxu1LPj0xZrbooT/u+2KHpVnh0a/esTla/9uG6QnhQVKn2yFBk0SPwjJyYJNYXgrP8S4HHgPoeDFVhbITcLq7Fuc1/ZJTUtjUqKQE+lBbZ9Kg8ziY7YvPmCQ9OdhVzSo3HMCWb9rRvarHcg71IPixiHUDvoiRmakY0s/27rWHrFvp/4LVHXyvsMhyBgVb/Ia+AasbzAiPWMmchOd7Ie+E+VH9EBkGHJTHfdoJYQQQgghZDwo4PQIC3rujUbuVPZRP4Qt76lgPRROaPBk6ZMD+qti8CDHPxwZkSwoOycGK5qGy6jntVm3e+/5nmJfQUvf0R7UnWUBYQgLfMcadciBiJRo4XmfDl92o7m2D9jX9Iq6B3hg6gOFUGnJsqoQfxqhlvo4ji0AhWtnIDfUhN2Vrajstg10R4w0LX1qiYd1m8LgPNIASpZXjJ9dX9E+Fmx2ouQ8C2xjQlC4LA6Vj85G1ZN3oOpnqciVC6Qt/Wz7tahjmcbQNIhaFntnJcvVXvpiQ3YcCmN8UFd7Tn5gKoEJLdU9qDT5oyArzskASoQQQgghhIwPBZweC0P2/dOEpqBaFgGVNYwU7hXh/mKT2Y6LsoGluvWK2ORWtmZP6ldpHEK9qge1rSahNit9ortvWpP6Cgp9R89exDtXgLRbb3S/WWm4H5LYm+bzgdGj3jLq6hPIeuk4io7aPsfFoBmSmb8H7UK3Uj8kx/H3abjlRp5djVB1yQSOp08h+8XjyKu27os6CaHhUcj5UQSy/YwoeWN0bTTXb9W01K0mxNamTxsZQMnyuivQto+lpg8HL7H30Gl47pEEZCbeACUL7MUBe/qg5n8bxdLP1oia5guoO62DwU+Je3k/YBnK4BuQuSIGuVP5wFTtskG2obMdz7eakTQ3cow+noQQQgghhIwPBZzjERGPZ+b7sWDAjKpa1UgwEzsdj/Dmjv0DKDtm119R3SY03YSPPx5IlX9YhSIlWGhWe+BDDQ6wZWYkhDvtizd+Ul9BFuTuqmXBsE8Asu+U6x84hogb8QCvpbtyGc8f7BGnWXSL+20w+yE90W7ZfH6bR5oYoT7YhXK278rYacPBdtJcXhMLVH5oFziaL6Dyb1pozUByrN1gPFxQNDZkBECpH0JRdafdiK9/R9nH17hpqc6Eft4ddRjf306UOXieqqWfbf2ZblR9ibEHP/K5Adk/DEGS2Yiy9z4Xbm6MuIq9H1+GOmgKnlosk1aEEEIIIYRMIAo4xyni7pGmtUUHOqWmtWLtZxoLGms+bEf2K40ofrsZxTtPIGvvAFrMPshId1K7JDWr1fTohUd5uDVSrIfEvoJm1PWaoIgM9rBGNQSZD7DglX23pUGFLGm/S3Y3IHsP328gbb7Mfvv7QHOiA9l/aELJ200ofEXsh4iAQGy5L3ok2I6Nx3PC41KGULD1BAor+GBETcgr6UDJJXYsZoVjjYN+i8rUOBSwNO0/24PyVutaPzP6jdeoaWlEGO7leUV3mW1zA4qEwZTY9r/E99eEmGB+OpqgsovVh/vZ9utRZ/bFfbc6G/xIEjlLGA3ZcOkiSj6yjmTZ/up9kLM4HjF09hNCCCGEEC+jIue4jTSt7WeRQrml31xkPIp/PAMFsX5Q6vWoOjuEqt6riAlXomjtXGz5rrPapQCkx4sRnzJuiufNPN1h6SvIskR2mvPRTZ2aGovC3JkoutUfMQZxvyu7jVBMDUBBdiKK75bZ74jp2J4dgnSjDpVndajX+yKdBVXbNyYjzWYgHf64lDnYfd8UZAZdRb2KD0akg9rfH6sXz8TuBx0/X5OlJDIy+XEyo+JQO9RWNYzXrmkpyysro8U8YTaihqfN53r4zwhBMcsTWxd8R0j3eo19xGnpZ8uEsn13qW+tL2LuuUF4PmldnQq1VjXCypjpDgNzQgghhBBCJtIko1EvjP1pbfJk7zbgJF+TxmZkVg8had5MlC62b86rQ+2eJmzpUaL0Z7OFvphep2lDHh/JNTZi1EBCxI66Fev3XkbkgkQUfdd7A0gRQgghhBAykaiG81vEoHc0SitzVo3y81L/QGkSuU6YL6Om9jLUPgFeHa2YEEIIIYSQiUYB57dBazuKed9IPjgOO+TJMyy1m32o2nkcq39/HFlvs4DGPxD5d7vQP5BcGy2nhGOzuqQVRd1A0vxIZHjUt5YQQgghhJCvBwWc3wKazsuo4n0jjb7InDcDaxKlPyAQod8xQ6MzA0EBKFxxK9IooLl+KH2h1LPjww5P0q1ReO5u+VGNCSGEEEIIuV5RH05CCCGEEEIIIV5BNZyEEEIIIYQQQryCAk5CCCGEEEIIIV5BASchhBBCCCGEEK+ggJMQQgghhBBCiFdQwEkIIYQQQgghxCso4CSEEEIIIYQQ4hUUcBJCCCGEEEII8QoKOAkhhBBCCCGEeAUFnIQQQgghhBBCvIICTkIIIYQQQgghXkEBp0v6UPnqMWQWn0ClRpo0zAh1XRPyXuJ/P4a8Q33S9OtQY/P1v42EEEIIIYSQfxgUcI6T5sNmbKrVoR1+yJwViLvC/aS/EEIIIYQQQsi3GwWc46HvxN4GIwx+AdjyaCoKH0xGTsoU6Y/XobnJqCm4A6WLw6QJhBBCCCGEEOI9FHCOQ/8nfag0AjGzw5EeJE0khBBCCCGEECKYZDTqr0qfh02erJA+ERHvw3kOJQO+yF8zD9kRfFoPKl5RoeyKHwo2pCIrVJjR1kAPag51oVxlhOYr9n8W3sdMVyL3B/FIt2l624mSYg0q+Uc/JUrzZiPJ/lZAYzOyqodgYB+T5s2Uaikt2yXMIS8kBLsfTYCwybwPJ1uG5fv9tQ3IqTNaLc+aDrV7mrDlPNu/5YE4sG8ALdJfZMVGoCYnWvxs7EPd++dR1q6H2tl+a9qQt4ttPFv/c7F9KKkeQO0VwODjg/jIYDx13yzEh/hKM1uY0N9yFuUfD6Km3yykhzLIH9npM7BhnmUfLOkSiOKCZKQJ03RQH2xFXqMR2mCrNGHbWv9BN8pO6dBuFGZEaGgANmTEIOsWF2qrpX1osd5/Sf9HjVh9VA+Dk2Ngw+5v9RXHUKBiaTcrAqUPRkMpzGTJK9b7pkXLu+14uo3tW7TVdpgvo/0jNcpO6FDvbN+c7IPjv5mgPfM5ymoHho+Dws8PmfPCkfvdKCit8q+4H2x7n4yCoVKF4s+NYF+B0t8PWd+NRu7wcRuhPd+BvTX9qOxl62Hz2i/bkjaOWc5Vx+eIsP6MWOSmTpOmcGx96k7sOtiHqktmcd2TfZEWH4b8pbGIoBbzhBBCCCFusQ9riIsMjRewiwVHihnTkCkXbHa3o+A1FYrOsiDA3x9ZswKRNd0Xmh4tCnc2oqRRK81ohR0NhXEIf20zSRMsWPDXLAab8nyRzpafbfPyR4z0V0dC505BOntvae2FWpw0Qv8las+z98ipyLwxAHdZLVuszfVBUozV+m7y5xOBKywgKjuHwtN6aKT9zr7RD/29bL93ye+3oVeDpytZsAl/oR9s5hQz1OcHsGlnM2psBmkyQXPoJFYfGBCCgfhIvu4AROj02H3oHPIOXZDmk6FW41cNRiimBiA7NkAM3vi2bjuHgkYWjEp9cLMj/WC4pENxJQtOnS1vLFc6UFbHgk3pv54Iu4ltTwTLM2c1KDmuk6bKaO3Er04boWTB5PBxMF9AZXkrNtXp0HxV2rdYfyilfSv4cBz7Jh2HnMqLNschTWFEVd155Oxoh4YFarZMqH2T5QsWbEbcKG5LqNGICnbcNr3bZZNOWhZ4r99zAbt7TAidzvaJL3uyuOz1b3ay8FpKG75P/BXjJx5PfuPBMm2WEjEBfKKF7TmSFe4L8PUfZMFoiyVt2X59yPZr7wVUsP0aXre/CXWne7C6rBn17JwnhBBCCCGuo4DTbSYYujtQ/OEQK/j6Ys3CmzC6PrgPle9eRL3ZB5l3x6PysbkoeDAZBWvnoeqRECT5mFHJCro1/dLsFqwQncX+VtVqNxSuvge13UBMkH1tn4U/ctjy821e06TaLydCIpE1g71fuYI6u4hT++ll1LD3zFtvhCIk2mb5OdP5HJNw711W61sQzr+F2nc0qNT7ID09DlXSfuevTkXl2huQ6cf2+wMV6vX8+yPa1UNAUjQqpPkLfzIP2+f5QaHXo5jNPxyMqNvx9AkjDP6BKPrxPJSu5utOwdZNEchmcVbLifOosk9TgQkt9Vqo/ZR4dl0K8pfw2kId6g/0oJLFGkkpbN0/E/vgCtv643BpeWqUtdoH/67gy+4T0m88bQViFrDtWTML+aFAzWfnIbtr/GbECS36g6bgOb5vwnEwQV3NgulLbBm3RKHiCWnfcuZi+6ZobJgK1B/rlBlx2UUq6TgEKVG66Y7h41D02GxsTfED+i/iN4ftR0LWs/X5Yws7B4T5hW0Rj1v7aZZnLPlPr0LJwSH0+/gh95FUbF/L9klYdhzy2Xb3q3qw67RJTBu+T/x1V6B4c2X6tJFpDyYgLURYosT2HOHnYuV9SpYPWJ5s7hVn0ZzFb47x/BUgbOfIutl2pPL8OITCinMOjgMhhBBCCJFDAadbTCjZdQJZuy+gxuSHDdkJWB0rEwSqerGXN+ELDUHuHdbN9ZiYBDyVwr5j1uOdBrtC+SQlMqJZ2NZx2ab5qqFxADVmXzyQKNVeTZgApCcEsKDIhHdarKOPAdS2sqiQBWgPpNlUEzk30IMqFhjz/S7IuEGcZjE9DhuSea3SEKoa7Wrr2HoeWxIhNRnlfBGxOAobgti+n2fbIjWHbPmMBY3sPXPhTKRbN7UNisYaHhD4maD6wi6a5a504p2zZsTMDhtpqqz/ElUqs8y6mZBY5C7k6cKCkcYuaaIbWjtQxJadnj4NWdIkz4Ug8za2Lf2XUTOqGprpP4/K80BaSoRVjfaXOMADZbZvTy2bYbtvQRFYfWegcMz3NngWcbY08uPgg5x7EpBk03dZifglYchiadxyanSteVpqNDKm2x43MZ1N2PWZmM7aT3leZ6dJShRyYqzar/rcgOzvKRE6GVB3T0zIp/27eDNB+R1xm9QNg8J5N2o74YeYe6X82HsJtZ4G6oQQQggh30IUcLrFB1nzQpAz3QeKr4zYVd2B2t7RNWCGHj14mTQpbhrkWtvGJAYJ/fla+obECcN8kJbIggHerLZVmsSCv5qTLIgKncIKwdKkCaRIm4ZsVq7XtF4cCXI1LGBhZXrlTF4bK01zhUqHOv6uH8Kut5tRYvfa+4UwF+o0F8UPFlFKmfWEI/kmPlGPZt60Fxdx5kveTtMPybGjg+DQjFRU/Ww+cufaBeXmy6gTahv9seZ2Xvsn0bDl8nfZdbN0SWHBP3vnzWvdii/MGuw+pEV/SAjyF0zMDQJFWiiy/U0orz2HfqkvpsDIgvGDA6j3D2RBpFV1nkaLZmE+PQ5Ujj4OJaeNQs2rRsNr6d3VhzNSe9nmxtOjl105gDM8VtPpccam36QvMm6xqXIUKOIDhZp47ZdDQs3hGXbucGk3WR0ri1tno+KJ+Si6x+5mhkv0qLDezt0NWH1IJzR3z78jiv1dB1Uf3y/57eT5Mf1mnlFMUPWIUwghhBBCyNjcCScIJuGWpATkrpuLraksStPpsGXP6VH9uvoH+Ug5TvhPkg1EBYks0OHNatukmrX+C0LT2/TEcMffGQ+fGbhrJssGPMg9LQbP6kYtCz59seY2XhD3wBU9Ks8OjX71iMu31CxZJIUFSp9shQZNEj8IycmCAWF4Kz/EuBx4D6HgxVYUqiZhdfYttn1tB75yHkj6+9rWDLpIc7gL5Vd8sWHJLEQ4ObtaTpxDZvEx21e1/Q0IiU8UcleHIf1CH3J+Jw0uxfftd23YovZF7kMJSJOLbY1GVMkdB7VRDDSNX9kGnCrN6G3iAwZJf7ZlRotaZtlndWgRgl22bJuKbH/ECKMm2QnxEwdTuioOPCQea1/ETnhmN6HOeju7WRqwLKXgx+gqz48s4HWQ/BYKhZQfCSGEEEKIyyjg9AhvYheN3Knso34IW95T2RTcQ4MnS58c0F913A/MPxwZkSwoOycW9DUNl1HPCutZt3vv+Z5JtykRwwIIse9oDyuYswJ4CAt8xxp1yIGIlGjheZ8OX3YjobYPyJf0uwd4IOADhRBMsawqlPeNUEtd7sYWgMK1M5AbasLuylYWZFgFuiGTxUDHEb3J/dq//nMoaTAhNDFCvqm1FSUfvMhqEBvhxQeykdN9Dlt296EuIBBFK29ApjCR7dtKtp6pRpT9qdl23ywib0CVXPpbXpaRcy1sBt2RXpYBeUbxx5Y8mWUOvyyjOVs4OG69epzh736TxfUIp44JKocniKf4qL7W25eKimVTEK/To+iddqjZ30Pl73sMMxhGDehNCCGEEELGQAGnx8KQff80oTmmlpWkyxpGwhNFuL/YZLbjomxgqW69Ija5la3Zk/pVGodQr+pBbasJihkhSJ/o7pvWYqbhviC2H7zv6NmLeOcKkHbrjc4DMjnhfkhib5rPB0b13+PU1SeQ9dJxFB21fUaFQTMkM38P2oUqSD8kx/H3abjlRp5djVB1yQRXp08h+8XjyKu2rrechNDwKOT8KALZfkaUvGFVGx3hj2T+3qVFi9hC1IahSYta9s5HtXUtHUyorWJBoW8AChaPXTMcMzNyeACb4VeqzEE2X0DFu32oNfqjICcZ6TMsNa9s32ZEY4MQgPJ9axvZj/AA3MKT6kst6mS6tBqONyGLpdX6A3b9U20G3ZFelgF5hk1FDL/RAj1qm2RGztWrUPTiMeS80mpXM2pEs2r0/AbV39HO3iMiAoX9uoWdO9wZjf2gQ0x/OwrYsldXdHjQFNieH0ITY/BIJPt45QrqNQGIDeOJxo6jbVtgSQ/qPheb3MbKtPYlhBBCCCHyKOAcj4h4PDPfTxhcpqpWNRLMxE7HI7wbWP8Ayo7Z9VdUt+H5JhYw+fjjgdTRzx/kFCnBQrPaAx9qcIAtMyMhXOhz5z3hyOSji7Igd1ctC4Z9ApBt3SfQVRE34gHe3PXKZTx/0K6jW7e43wazH9IT7ZbN57d5BIkR6oO8aSqgjJ02HGwnzVUKwU/lh3bNmPkjQP6mFZpIJsfK9O8LYoFZRgCU+iEUVXeKTTf9b0RWLMv+Ri1eYUGqTQAzoELZER2bzwfZc11sVswCpJJuPqBRnPTYmInAHz/SiTIW/ySlzpB//E5QHHJZAin0WjxvCbZ9onAvjzjNOpTsUwnpMuwKWx7fNzYtfdaN0kR3+CKNHQe+KTVHzqFOqIW20KJ+X68w6A9uChZuPljj89sct+F09sUjqWJYr0ydgky26S0NnXa1tmzZNQOoZ8uOjZrmUXPnUcwDOHOJf5iM0GlATKq4zfVs3bZ9s0fyo2L6VGS4fSeGEEIIIeTbiwLOcYq4e6RpbdEB8RmBltrPNBY01nzYjuxXGlH8djOKd55A1t4BtJh9kJEeKR9AcFKzWk2PXniUh1sjxXpIfCanGXWsoK2IDPawRjUEmQ+w4JV9t6VBhSxpv/kALdl7+H4DafNl9tvfB5oTHcj+QxNK3m5C4SsNWN9gBAICseW+6JFgOzYezwmPSxlCwdYTKKzgA8A0Ia+kQ3gESMSscKxJlG+WqkyNQwFL0/6zPSgXHnUSgLT7wpHNkralqRM5v2tAkWVbX+tBpR6IT4xwuLxR9GZop4ch944JCYVE/SqUNLJtDZqCpxbJ35zgQr87A7kshlc3daFCCNJ8kbSETZMeI5JTIu1bRSPWb+WPrXGeVmNKjMMLc6XHhLx2Anm7xeNQ+MopFKjMULDjVjiqlteHBalWx80qndPuiB5pfssC6Px7AxFqNqJkj8yyWWSYv8CDmyH2gwbxtCjpxG4dS79Z0k2NiFl45g6+XzpsYefq+p22+dHg74+CpbHe6UtNCCGEEPIPigLOcRtpWssL9+WNUl1ZZDyKfzwDBbF+UOr1wuAtVb1XEROuRNHaudjyXWcjbQYgPV6M+JRxU9wbKdZTlmdy8lq9NLlni7poaiwKc2ei6FZ/xBjE/eYDtPCmqQXZiSi+W2a/I6Zje3YI0o06YdCZer0v0m8Nx/aNyUizqS3kj0uZg933TUFm0FXUq8RBatQsEFi9eCZ2P8ifr+mIEhmZ/DiZUXGoHWpeCxcUjfyN0rbCiBq+rV8ahf6VfFu32j9SxClfbJjQYEQrNtE1+yBncTxinOYBlgeXTGH7YEL5e5+LgyH5RyBnA9uH9AAk+xpRy/dNpUd/gCtpNZYAxCyZg4rsacia6gP1l+JxcHzcuElYk83S+mYfNHc6zxPKucnYvvIG5Fgv2+CHrPQZqFgX73QwJsfsBg1iaaGZJG7v1mzLTQ2Wv+4e2a/+Xik/GsT5dufORWakh0E6IYQQQsi31CSjUT9qJIzJk73bgJN8TRqbhZFQk+bNROli+xozHWr3NGFLjxKlP5s9qjmkV2jakMdHQY2NGDWQEPnHUV9xDAUqX+SvsR9IiBBCCCGE/KOjGs5vEYPeul+anbNqlJ8HYmaHXZtgkxBCCCGEEPIPjwLOb4PWdhTzvmgf8yFLfZA8w1K72Yeqncex+vfHkfX2Zaj9A5F/Nw3BSQghhBBCCJkYFHB+C2g6L6OK90Uz+iJz3gysSZT+wJ89+B0zNDozEBSAwhW3Is2jwYIIIYQQQgghZDTqw0kIIYQQQgghxCuohpMQQgghhBBCiFdQwEkIIYQQQgghxCso4CSEEEIIIYQQ4hUUcBJCCCGEEEII8QoKOAkhhBBCCCGEeAUFnIQQQgghhBBCvIICTkIIIYQQQgghXkEBJyGEEEIIIYQQr6CAkxBCCCGEEEKIV1DASQghhBBCCCHEKyYZjfqr0udhkycrpE9E1IfKV8+hZED675gCUVyQjDTpf4SMRXPoBFafMCF7yR3InytNJIQQQggh5BuOajjdpPT3QUSA4xeF6oQQQgghhBAiooDTLb7YkDMfu3/q6BWOLGlOQgghhBBCCPm2o4CTEEIIIYQQQohXUB9Ol1j6cPoif808ZEdIk0fpREmxBpXWfTg1bcjbNQDMm4nnYvtQUj2A2iuAwccH8ZHBeOq+WYgP8RW+LWhsRmb1EJLY/KWLw6SJnAkt+xuQ12oGYiNQkxMtTLX0/ePS0hNQnBEifB5h3f9Upm9pjwrlf2bz9JqgZYtWTPZFWnwY8pfGIsJPmoeprziGApX8/jv820AXqqp7sOu8EZqvxElKfz9kpIYj97tRUI51u8NhWjCO/ua1dcqnv0fpwtK87N1eVPabhXyQlhCB3O98iU0NJmTfm4iMng6UNOmhZqsKDQ1Ewf0JSA+3OhicsQ/1H3Sj7JQO7UZxUmhoADZkxCDrliniBIF0/BGC3aumoG5fF8q7xWMdGhyANYtjkG09v5RfW/jn0Gmo2BCPUOEPI6zz3Kg+py6nv3SuhLDtejQBNkln2QardJadJun/qBGrj+phGLUsE/pbzqL840HU8LRmU5RB/shOn4EN8yzH1nJ+WJ8bOqgPtiKv0QhtMF9mGOpGzSPpP4fCHX2oM49xbbBOV0es940d37r3z6OsneUDno4s3WKmK5H7g/iRvNDNlrmbLdPHH4Xr5iJz+ECZ2DE6ifUnjFCyZW5ny1Q6ST/HacuOYdM5lH+kRe2gmH4KPz9kzpM5l6TzxjG560MPag6x/KiS8orcPnIO005aZs8EnbPmLpT9/jwq9DL5mhBCCCEeG6v4TSaIoVeDpytZsAl/ZM4KROYUM9TnB7BpZzNqNNJMzqja8TwvODmgYEey/swF9Ev/H6buxTsOBjvSskJizs4e7O4xIXR6ALLZdmUoTag/3YP125pRzwJjj/HC8GvnUcwKkwoWCPFlZ0eyQqTRiKq681j/Xpc04wTy5jrHSH+X8W3c1YOKS2bER7Lti/ZDX1sXC27EAK629gwKmr5CZDTfdl9o+4dQuKsZlSxIHHaFBWvbzqGgkQVGYAGAtJ+GSzoUV7JA6dAFaUYrZgP27mHf6waShWWz+a/oUFJ5Blvq+qSZRvD8hH4t6kZlqB7Utlpti7Wv45hf6UBZHQs2pf+OEIOu1QcGUGVJ61kBiNDpsfvQOfk0slCr8asGtg9T2T7EBkApTR6NBWJVPNiU/utMQADu4ukhvdKD+EQfJMWMTMu+yV+YVTi+ZSyQPa2Hxt8fWfxvN/qhv1fL8kIjShq14nyRs/DMPD8ozHoUV3WwrZF0n8VvWLBp8A9E4X0s2JQmu0eL+rcbsf7Pl1HDrgPJUvrFXxWPZU55GzQy+63kaWbZH+kl7qud7nYUvKZC0VkW1Ev7mDXdF5oeto87rfbRGr9ZYLNsJWICpL/JceucNUFdrRGCTUIIIYRMLAo4r5F29RCQFI2Kx+ai4MFkFP5kHrbzwqKeFRY/UMkUmK31obL6MtTsaMnXPfsiK9pXNkBQn77Cvuc7umDGCuolB4fQ7+ePgtVsW9amIF/art13s0K2bghbDnSOsV2O6FB7eAAtZh9kL5k9vOz81amo3HQDMtl+9J+5iHpp7onhzXWOlf6uYsFPlbSN985G6Wq2fTlzsX1lCOKlOfqNftiyaR6Kcvi2z0PFkkCEmo0oe18l3UzQof5ADyp1LDulsPz0s1QUWvbzx+HIZjFLywk1yuyDwkEdqjAFW4eXzeZn603yMaP2o27U2hW041lQmgQjaprt7laoL+IAC0BiguwvHV/PMa8/0Ica9mnUcVG342kp6Cr68TwxrR9MYfsfIaXReVSNCqY5E1rqtVD7KfHsOrYPSxwHbIZGFYpZAC8E52MJiUYOTw/plTOdT5yEe+8amZa/IJxNY0HsOxpU6n2Qnh6HKul6IaTjWpaOfmZUsutFvXC8fBGxaAZyp7Jt6b6AkmMsSOO1dG/w2kBfbFh+K9Lkgj0X8H3bcpYFa1N5npmPYin9SvMTURTrA8OlAeTJ3ECImRk5sj/SS9xXa+x8epflBZZXMu+OR6W0jwVr56HqETFPVh48hxr74zN9mt2yE5Bm36BjmJvnrOYsnm8yuXYsCSGEEOIW+nm9VlgB9rElEVaFV1ZYXByFDaxAaDg/gFonj1zp/+g8ygZ8kJM+EpjYi01UCgFC7anL0hROg9ozrBAVrcR9dqUubcNl1LDyZNq8WGRFWjXpZdsVekck1rCCnFZ1EXUe3fHvx5l+HyhCgvHIXLvielAwkoPZu6sVDy7z3jpdSX+XaL7EAV6IjgxDrvU2Rs7CBqklo3JWGDKsggTl3JuwIZTXkGtRz/OI/ktUqdiOjMpPTEgschcGsAI2K7A32gcDLBD8XjzirQOQyAQ8lcKOvZkFo59a5xsmbAruZXmg/mzfSM0Zo25hwZhPIB64ZZI0xeJrOOatHShiaZGePm3UYF0tn7HtZO+ZC2ci3brJelA01qT6QeFnguoLmcx9pRPvsEArZnYYC3ykaXJYYFf+4RAM08OQb9dCdVwGelDFgliEhqAg4wZxmsX0OGxIZvtiHEJVo06c5nMDsu+fJmxrzZEOlL3ZLdTSJc2LxupY6/PaHTrUnRxix10mz/hMQfry6SM3EDw5pqpe7OV5me1j7h3TxGkWMZY8qcc7DaNr3l3l3jk7gJo/syDdX4mCuZ6mGSGEEEIcoYDzWoliAeGo1A5H8k18oh7N58Upo0hNBhUx07FmljRNTniYECDUnekdCRBOX8ReHSs0zpk26i7/mS6xsN33+RcoebvZ7qVBndD/zojmDmE2N83Ahp/ORxXvT6fXQtujQf2JDlS+24TCV86xgqA024Ty0jpdTX9X9BiFfmhJkcF2x8OXxaBiQTdmaqDwPiIEyVFWeUTD3vlk2fwEKFKUyGDvvHmtbUvt7yD91tGF6RipyWh9j30CBSJ9FpufBbp1lj+Zz+NAq5kFxVORPmrd1/iYmzXYfUiL/pAQ5C+QmqIOu4gzX/JIyA/JbP/shWakoupn81nQb/c982XUCTWm/lhzO69tdMTS/NIXG3hfZ2nqhFCxYI+/64ewa9R52Yy9XwhzoU5zUfzARcTj2XR/KIw6VLAAXDF1Gp5ZbBesumUA6kv8XT7PwD8cGTeydxYUqnvESe4w9OiFvJkUN21U/2AuJjFISNOWPmd9Qp1w85zVHlOhuNcHWRnRSJY5pwghhBAyPvTzeo0khdkHEqLQIKmmSBpgxZalyaA/Cn4YO0ZfrDCk8RqN4QDBhJbWIWj9AnHXrY4Ps7pnCJVnR7/qhP6bZhhsKoFMKNl1DJnFtq8ClfRna70qlP3hGLJKTyF7ZycKDl1AyWkdC5b8EGM1HogrWk6cG7VO2QFKJnCdIlfT3410GcMt0+xqfBiFwiqPDHxlF0ja8feV384QP0RKH22E+CKGvRlk8l9EfBD7mx41TVLtZ9tlVBlZwfzWGeL/7U14+jumOdyF8iss4FsyCxGjsjcLNoWh0Nh6RzXndGQIBS+2olA1Cauzb7EagEeG1PwyJiUKOTatAybQFb3seVnZIzaV1v7dtsl0aGoIMiaLn+PjQhwHwSrNqHyaOWpAHiP6pApUeQFQutROVV7/oOzFboT/JNlA1DXuXDMZfSfKj7CLHG91kDrm3IQQQgjxAAWc10j7gPzd+u4BXnD0gcK+koYbbjIYa9PM0pGYW60CBHMXDp41IyJxGpKkv4/mgw05d6CmwPHLdqRGu0FOpNeoQUFYIa5kDx8YxwfJt4ah+OF4VD6aLCyv8rFo3CcfezskNxBJdrhdQX+C1ylwOf1dTBeJwey4HeKZi1Y1V5L+K9JA0jygCJnsvEZNb7JpAjts0AjeUnOUfiPa2ZvyOzKBU8w03Mf2Qaw1N6H+pBbaACXuS5T+bs0b6e9I/zmUNJgQmhjhoNkou6wJMbqRj5nlogAUrp2B3FATdle22g7SZGOk+eVTSya0btNGREr08Dko+7IZTVaLuvd6UfOVD5QssG9p6ESFo+0fNfAOe8X42QVmfghzNhgPC+q0nnXuFoQGS5GxI/qrowc/c5Vb10wTWqp7UGliwWlW3NjBKSGEEEI8QgHnNWLQDAl9ymz1oF2orvJDcpwwYYR50KrJoMORMWxZAoSOfvTXD6DK7IsHkuQLxWITTjMOtsq1iWOBwyvHkF3aZDdwh90gJ9Jr1KAgrZdRqWdBzC0RKL5/JtJungZliBRxmIegGhQ/ukpuIJL8VLsIfYLX6V76u5gu4X5C8N/+xaBdUGhCd58YIPTrbKqUmT6cEYYD9Ucyr1iMYO98cpcWLTJxq6FJi1r2zkdYtTnyZj3aR2dAqL8QR3hNjxhds8qbfFua1dZf+gJVnexY3DJNqBEdZaLT3yGTODKsbwAKFkdJ0+xNwy038kubEaoumcDr9Clkv3gcedXWdcWTEBoehZwfRSDbz4iSN07LjtLcb9X80mkfT09JeUTz+YDM9YIdr+oTyHrpOIqOjrRR1h47hy1qM5Qx07GbD7rD0qjsnXbhsTqjjBp4h73uCrQ7piGImcrf/4660zLpp+9B7Zfs3ccfMc5aHjugCPcXm8x2XJQNLNWtV8Qmtw5ahTjk5jXT0CmOYps0N9J5jTYhhBBCxoUCzmvlymU8b/MoBiPUB3mzQFZIj52GdLv4SX2qD7scNhl0RAoQui+huFkHQ1AQ0mWjAxa3pIr98NRNXahQSw9yFPDHSYjbZQgORNo4CmLaQaNtYMX7yL3Zg0rHFXzjNlHr9Cz9xxBxI+7j6dl7EeXWj3240ikEc5ymtVdqzsyZoD3RjXIWWyhmhEB4xKr/jciKZRtk1OIVFjDZ7OuACmVH2HFnp3X2XPtgzITyartHWajbhKah8AtE1lz5Ki1LrXnlvgHUmn1x363OIwyvH3NNn/Bol8yFcQ5rkLmkuUohiKr80C5wNF9A5d+0wnNIk2Nl+jkGRWNDRgCU+iEUVduP0vx3lH3s5eaXLI88wG9U8OvFQbubQd3i8TKY/ZCeKAVU/edQVKuHwS8AhbwJaeQscdAd9v3NHj+GJgDpcwKh5INP/a0d7Tbpx47nvl5hwLHQW6YhTTo3DHopMPV14WSJnQ4WF7NtH0DZMbsafUueZMHsA6l2z94dg3vn7FXs/fgy1EFT8NS4+rsSQgghZCwTVZQmY/H3geZEB7L/0ISSt/lAKg1Y38ACvYBAbLkvetSgPlq9GUqHTQYdEwMEI+pYWTUtJUK+NooLnYmCuwPER27sZduyk29XM4r+cEJ4YLzBxw+5S2M960uVOEV49AQ0F5DzSiOK+YAnFY1Y/1IrCjsnSaNe6qF22hnRTRO8Tk/T37kQZGVJj32oPiWmOd/GrReEWklOYdKhcOsJFLHtL97RgJxDOmjZsci/J1bKIwFIuy8c2Sw+bGnqRM7vGoR5S3Y3IPs1FtixeCiebfeaRPvt9oFSN4D1JeL8xTtPIGsv77vHglO27DS5Jt2cVGte38OCmtApyHSUoTxN/yGZwXH+KrUGYIF5CQv6bAJYdly001nAd8cYAV9sPJ4THjs0hAKWnoUVfNlNyCvpQMklFtfNCpdJI5EyNQ4FkSweOtuDcpvHy5jRb/R288sQZD4QjkyWli0NKmRZ0pIf3z3seLFAL22+pUauD5Vv8eeA+iDrbksA7ouYJeLo1/2t3ShpcdoZ0yHF3FhsmcV+Hi5dxqatx1Gw25J+vJ+rGYpgJZ5dHAVtU5swfcsnYs38LTfI1ZTbCxNG1k1j50HNh+3IlvZxOE+y/clId7/W0b1zlh1LvQ9yFscjhn4FCSGEEK+in9prJWI6tmeHIN2oQ+VZHer1vki/NRzbNybLPyvPz1mTQSdiQnCvUFnlh8xk583KQuenoGJtOFaH+0Lby7drCDWXfZAcOw1bfzwH2Z4OiOIfjfyV4nIVOj2q2HKrzn+FyIQbsP3Ht+FZoaBvQvN5zwrDsiZ6nZ6m/1giE1DK0jwn1AeaHpbmnUaE3RyOIulxDFmsAFx0sw/qPmfb32tGRLgSRWvnIMu6fWwQ29eNM1F0q79wc6GGDybzpVHo61qQnYity2bIBETfQQHvo3ijGbU8bXpN4rLXzEW+/WNMbIQjnW0Pl3bLDY5vQHia/kajMK/NwDhqqZaUD5yjYgG3MKOFODLs2LEIf+zQHOy+jwXJQVdRr+LL1kHt74/Vi2di94OOn6/JQk5kZPJHjZhRcci2aeo1aX45NRaFudLxNYhpWdltFJpJ8+NbfDevkeMtETpRxoJnhX2Nqw8Luth+x/Aayppzsk2Dx6ZE2oNzsX2xUghkm7ul9PP1Q1b6DFQ8OhtJbLq2RytMr2OHNSb2Bqy5Vfr6WCLjUfzjGSiI9YNSL+WX3quIEfL7XGz5rge1jm6es7wJsqObDoQQQgiZOJOMRr00IsmIyZPHMQQhsaVpQx4fBTI2wm6gD0JGaA6dwOoTJmQvsR+oabz6UPnqOZQMBKK4IBlp0tRvgvqKYyi4FILd/FEr0jRCCCGEEPLNQjWchBBCCCGEEEK8ggJOQgghhBBCCCFeQQEnIeS6lMafEUvNaQkhhBBCvtGoDychhBBCCCGEEK+gGk5CCCGEEEIIIV5BASchhBBCCCGEEK+ggJMQQgghhBBCiFdQwEkIIYQQQgghxCso4CSEEEIIIYQQ4hUUcBJCCCGEEEII8QoKOAkhhBBCCCGEeAUFnIQQQgghhBBCvIICTkIIIYQQQgghXkEBJyGEEEIIIYQQr5hkNOqvSp+HTZ6skD6R0YzQNH2Od05oUdNrQr+ZTWJhe8TUANyXGonV88LE2SZcJ0qKNagMCcHuRxMQIU0lhJAxNTYjs3oISfNmonSxt65RhBBCCCGjUQ2nO66cR/mrDVj95wFU9F5F6PQAZM8KRPaNfjBc0qH80Dnk7DoHDQ9CCSGEEEIIIeRbjgJOV+k7UVLehd0DQFLKDFQ+MR9b16Yg/8Fk5K9ORUVeLPJDgX5NH/IqO2GQvkYIIYQQQggh31YUcLrEhJbqHlTqgdDYCDz3gygo7VPOLxzZPwpHlh8LOs9eQKVamk4IIYQQQggh31LUh9MV5k6UvKRBpdkPBRtSkRUqTZehrj6BzWd8kHn3TOSmTJGmMgM9qDnUhXKVEZqv2P9ZwBozXYncH8QjPZxFqdbMl9F+WI3fNOqgZvMqgwKQ+8NgnNnLgt6QEGxfqsDe6guoucTmneyLjLkRyF8kBcFSXy1nxH5cQOWr51AyIE20ovT3Q1ZGLHJTp0lTJMY+1L1/HmXtemG7HO6Dpg15u9iC2Xqei+1DSfUAaq8ABh8fxEcG46n7ZiE+xFeaWWK+iPrD57H7pA71RvZ/uWVLy21hQX9NTrQ4Ta9BxZ5OlPcC8db909i21n/QjbJTOrTz5TGhoQHYkBGDrFusjosjcuuS9H/UiNVH9TBY96d11kfO5m9Sug8C6fPjUHT3DeI8lvVZL9PMjvGfOlF83jRq39w5DnL74PhvJmjPfI6y2gHU9JuFmnqFnx8y54Uj97vWN1r6xP0A295VU1C3j+XtbvZdM0vn4ACsWRyDbJl01p7vwN6aflT2ivPaL7u+4hgKVNLMsnyRv2YesiFtvzR1GFtGxNRA5C+/FenTrfMYW5+6E7sO9qHqkllcNzt30uLDkL80FhF2p6Accduk9Vt3ojZ3oez351GhB7KX3IH8udJ0OV7LV1Z/G+hC5QGNeDzYf2Mip+HZRD3WH+LzxuKpoB48f1SHFunasuFeuWPF+6qfQ/lHWtQOOssHlnQJRPGTUTBUqlD8uVHo2y5cR74bjVybfu1SX3T+0U+J0rzZSLJaloDtVxbbL77OUfsm5f3ys/rh81rhx47jrNHH0eHxsuTdAbbNBclIczhN0n8OhTvYes2jlzVWfubktqP/eDM2fzgEtVlan8PjbELL/gbktbKFy53Hcq6w35oPNNg1fH3wQVp0CHKX3Dxy3fVkfWNdoy15W5xbnvUyXb2OjSPPTMg5SwghZNzsL9tEzhktatjvL6Yqke4k2ORilsxDxU9TbYPN7nYUvKZC0VkjtP7+yJoViCxWGNb0aFG4sxEljbxYaKFF/ZtnsOmEDhpp3nQ/HUre6EEV//PQIDa/cQG1CGB/C0Canwk1J85j/ZudQuESU6V+pcIrAEnC77Yv0oenBeIumx9z279lhbMCidGIioOs8NWik+ZhrrAf/TJW8DqtH94u3ne1v5ftwy77fRAZejV4upIFm/BHJps/c4oZ6vMD2LSzGTUaaSaOBVaV5SyN2D43X2UFNmHZUvrsakYlKzg7ov6QFRx6fZAca7VffFu3nUMBD9ghLS9S7GdbXNmKvEMXxPk8caUDZXUsKJD+6z4/xLBtzZrqg7pjnahwUhPef7RbCDZjIu32zc3j4DoTNIdOIqfyohCUxbP18jyUpjCiqu48cna0j+6fbDZgLwv4S7qB5Ggpna+w/Fp5Blvq+qSZRFpWKFy/5wJ295ik/s9s2ZPFZVvyb9hNfJ3SK8YPSv7FIP+RabOUiAngEyU2fwtAOvtbf/8QCvecRj0rTIrYfn3I9mvvBVSw/Rpet78Jdad7sLqsGfVXpFndZoK6WiMUXMdl3PlKwvPHzvMoYflG2M+bA6D88iI2HRZvQqmbO7HpI3Ze38DSK5alr048VqOuQW83Yv2fL6OGpUuylA/ir0r5oLxNpp+6CbVvsnzJgs2IG/my/RHKryOHzmHTu12j94v98iiMQ/hrm/25rUNtsxg4jGKd91mgLBxztp4Ik3gc1+8+h35p1onDAu4qHmxK/7XiSn6WpVehjAWbGiHvBsA63BtF1Y7nefDnKp5G5ey3xur6wG+QNqtYHtjJzomx8rmj9blyjQ4IwF3D5yL73QriX/RBUszItOyb/IXFeXQd8yTPyJqgc5YQQojLKOB0geEyCxT5hxBWiBKmuKMPle9eRL2Z13rGo/KxuSh4MBkFa+eh6pEQJPmYUcmCuxpLSel0J7aozFBMDcH2TeK8hT+ZjaJoH/EH1WiGMikalT/h/UdTUPRYHPKnskK2qge7WtkPccxMsV+p8IrEvYH8S/7IGZ6WjBzrYNjub3y7Ku9TsoI+267mXmkeVuh6R4NKvQ/S0+NQJe0D77taufYGZPqxeT9QWRXwRe1qVshl21ohzV/4k3nYPs8PCr0exWx+SwFBfZAVPi7x5srhqMhPRaGwbBa4LwlEqNmIkqrP5QuS5vM4cMoE5S0RKM6x7JcO9Qd6UMnK1EkpbN0/syyPbeuPw5HNyjstJ9Qo42nlNr7sPtSwT563AZiCtCUsnddFIMfPhF3156Xp9npQ08gSdEY4Sldb9s2z4+AyVth8+oQRhiAlSjfdIaxXzGOzsTWFBbz9F/Gbw7ZBJAZ1qGL7tHXTPBSxYyBsy0oxX9d+1I1ay7awQnbJwSH0+/gh95FUbBf6P9vl39MsuF7A1ym97gpEDP/u9Gkj0x5MQFqIsESRzd/48ubhhVvYZU0/hNpWaR7NWfzmGNsv/wBsYfl7ZN1sO1J5fmQBaoWHwQpb9vNNJijGdSWdiHzFmdByUGz6nzQvbng/Sx+NEJr6c1r9JKx5eJ54bHNSsVs6VpUfdqJFijMMjSpsOcv+M5Uf1/kolvJBaX4iimLZdejSAPLe6xJnHqZHpcZfSF9x2XPZ9StCON/aT7M8a39j5SYWCLH1VrVa33li9D2o7WaXsSC7FhCM+iMW9Ej7Jl7/pPU8EY0NLLgx9F5GreWSNUF4WhSz7Rl1fF3Mz3L6P7mIGrOfsO35D84U87gs9ttRfRlqHmhJU5xjgdc+fn1gaZQaO3x9KFjHtk+47g5hy0FH1xvO8fpcukaHRNv+zkzn35yEe+8amZa/IJxN8/A65kGekTUh5ywhhBB30CXXBf2DvL2Ph1S92MubrYaGIPcOuyaqMQl4KoX9SJr1eKeBF+RNqD+pZT/HPljz/QREDB8dJdIygpEkfPbDI3datQ3yuQHZ3xMDxKq2L6WJ46P9u1hQUn5H+gEf6EEV+0Hn+1CQITUBtZgehw3JvFZ0CFWNVjWinJ8Sjy2JEGupBL6IWBwlFg7PD6BWaM7bJQSN8AlA/vJYm6Z6yrk3YQOL8EN1epyRms9Z0x5nBSSjL9akzZCmMPovUcUC9tHrZkJikbswgBWmWIGm0b7A7ILWDhSxZaenT0OWNMljPjNw32xfaM9eHAnKrJ3uw64rPshOu2mk8OfpcXBRS6MWapb3cu5JQJJQO2GhRPySMFbYY/Oc6mXzWGPb+L14xFvPH2nJ1ywY/fSyMEn76YDQSiAmJQo5MVY17FL+DZ3MCrXdE1E/pcOgkJ4+UEiVKeqGQaGZX1pqNDJsmtn6IeZeKT/2XkKtXTl2bGyf/jyAFn8lCuZaL9dNE5WvzF04yAPFgCl4arFV/giKxiM8b3ChU5AVa7WtkbPw2Cx2YFkw8tczfIIOdSeHhGvQqOPqMwXpy6cjk83ef4bfRJOmS0alL1uveL6ZsOszu/NtkhIZ0SxfdFy2aYJpaOT5xBcPJEoHb9hFNPdcZdeHQGxYZJf3fSKQJAQ3bIPGcakehaVn+YdDMEwPQ75dS1aP87NZg6omIxQzpiFzjLuX/R+dR9kAOx/TQxAvTXNqoBtVPJ4MYsf/Xh7YWbDrLkszHvwrL+rgKJs7Xp/n12hZnl7H3M4zcibonCWEEOIWq58O4khEqOf1DoYevfADnxQ3TbZ2NCYxSOir1dLHm7xdgpr3y8R3kBTL361EBOAW/u7jx7ZHmDLi5gCkszftl0Me1NLoUfF2M0osr90NWH1IJzT9zb8jSpxFxQqh/J0VSndZzyu99n4hzIU6zUXxg0WUcnRfG4Qj+SY+UY9mXjjqHUIzL6hM+Q6SR5UXQpC14Q5U/DQZ6VZlOsGACuUfs8hi+lRkWlcRaNhy+bvsugFFCiu0sHfevNat+IIVFHcf0qI/JAT5C1wp2Iwt5vap7LjpUP6XLhise1Lre1BRq4VhaggeuNWqUOTpcXBJH85I7SSbG0+PWnZJ5QDO8E3hBUubfr/fQbr1NkpiYgOEYL++R5z5DDsPuLSbrAvCkltno+KJ+Si6x67w6YreizbbWfSHU9iiNiM0YhorgPIZdFD18f3yRcYt1lWjFuFIv5lnFBNUPeIUV2mPqVDc64MsVgpO9vRKOpH5qkeHM3xXw6WaYSsR08VlK6b5212HfBEfxU8uM5qFfDMwfA2SO67wD0fGjezdrIfaJr3k01cRHyj0hxx9bfJBWmKg2ESyVZrEg4GTLJ+woDhDCCCtsWB8zXxUPpmMNBMLiAcuoOWEClXV7JiXH0eh036/nrA0u/TFBt43VJpq4Vl+NkJ9SCPeSJpndSNJjtTEWhEzHWtmSdPGcl6HevamiBh9/PkNrty8O7B7XfyofRE4W5+n12hHPL6OuZtnRpuQc5YQQojb6JLrimksyOPvA3q3A7oxa0f9J7nXTDfYD5HSx2H+vmJN3lVxcA/3mFB3dgiVlle3URz8gueMq3ZNwq7oR+azfvWI81lqRi2SwoT2vKOEBk0SP/Ck+UoMctxqrqzSIPPVHlROVqJ05Uzb7w185TyQtKSVmzSHu1B+hRU+l8yyqnkereXEOWQWH7N9VTsYxCl0JrZks605fR5Zu6XBNgYGsLpUhbK/B2DLCkeFQ/eOg5Be9tvkcHAPM1rUMss+q0OLUIPxFbTWFQ8hMvmRC/EVCr0GS/YX3n0R61Zmd4FdWvCBtPg5IBTmhazFAh3nY2hBoZDyozv0nSg/wgq6kWHITfUkR4m8kq+ciA8ZfU4q2DkhMPEEM6LPaQV5AJSykZI/YuQyK8sfwmS5a1OiEhm8iWSbVPvZf0HoWpCeGC5/LbiiQeWeE8j6XTOyX+1A3qEeFDcOoXaQ5TWbGvkJIDW7FGowI2UCb7fzswkluxqwvsGI9IyZyE2UWeYwSxNrfxT8MNb16xXbJp7GcsfYuTHW58k12hXuXsc4d/OMtQk6ZwkhhLiPAk5XxAYjg9+9vaRF3VgR5+lTWF/agKJD58H7fYYGTxanO6K/KhPEXoVB+o0fZdAI3hrJxoBRDLIm+Ti/ay6Lj5J4B2qGX6moWDYF8To9it5pt2k+GZESbTWfzMtuBMX2AfkCcfcAL0hITR4nS1nQnWB+xg3YzbYxTadF3v/YDWASMlk+SLPQiyN3uqX/HEoaTAhNjMBq6+aIMpQ2gzZJLz4Qkwwtyyt5lVpoI0JQeh9Lcz4xeAqKHw5DJisEbtktP5iNu8fBdmAd6WUZkGcUf2zJk1nm8MtutEe5/Mj1G9HO3oabZQungQkqlw+yi/iol9bb97MElN7qC42mD08f5FVwgQgdo/xtsKledoX0mCQTK6BnxXl0A0PgpXzFgztH5M5J7aBUsPfl56IfwqwHZRpFB63sXS0j1HL9J3v1EFrq+k0enU68tjSSrf+cePND03AZ9Sz/Zd1uP2Iu18eCzU5hMKSYmBAULotD5aOzUfXkHaj6WSpyXajdct1Is8unlji4mridn32xITsOhTE+qKtlx93Z4F7DTaxjkeFOIM22iV//HV13HRprfZ5co13g9nWMcyvPWJugc5YQQohHKOB0SZTQ344Xqso/ctb3jxVUPtZCrTei34/3q2QFgHB/IQBq6bgo+2Otbr0iNrkVagOnImYqn6pHvVBKs6LRiQU3MwuYxNZcI1RiUyrljaxwLU4ZBz9WAI7BI7za6soV1PONC/cT+o9qPh+w678n4o+CyXrpOIqO2rS1hEEzJDN/D9qF6NgPyXHsbXogknkwf1kP3vXSFiskVB5H1u8aUPG5NImb7IuIxERsuTcQSj6AifWIkBH+SObvXdrhQVCsGZq0qGXvClaAdxqYDjOJo1T6BqBgsdTE2ImYmZEjA2RYXqkyTSWvqFD2vhbtLJ88uyoBSaGTxJsFPpMQefNMFC6fggid3WA2Hh4H24F1pJdlQJ5hI3mvtkmmikuvQtGLx5DzSqttzahZj3aZjVF/IY64mh4h9lu+hZ0H3BkWCI7S344CtuzVFR3u3wyw5xeCpO+HsoCdbYPqEju3AhAbxi9z7DjatgWW9KDuc55RfBEr0zpSjqFTHMkzaW7kmP3wHPNCvgoPAB8vCd1Do2qvNSzw4wxDJruaRhPOdPG/+SBZOFYhUj74O+rkBr3hA7TwruI+/oixSS8jmtl1yJ5B9XfhxkNEBDtXxUlWApCeECA0kaxXseW2mqCYEYJ0mdMFLN8c5E19Q6fhuUcSkJl4A5QhSmnglz6pGfDE6LdqdinXLJ/zJD8rg29A5ooY5E41o/Jgu/zo2+ZBqybWck3AnZgRIDRfNvTKdRcYQFX5MWSXNqF2UJrEubI+T67Rznh6HRO4kWesTMw5SwghxFMUcLoo5m5x0IX+1vPI+3OX0OzUhrEPNXvbWUGFfQ6agvzvSj/esdPxCP/YP4CyY3Z9UtRtQrMtXnh7IJUPju+LtDnSCLG11jV3JqgbWAAlfNZjb63VYz2MPaio40PC+2LNbWMXXF1iHsAZoQA3mZfvWGnxRjzAaxCuXMbzQq2RlW5xHwxmP6Qn2hVY+Pw2jyAxQn2QNyFkha/YaVIh4Ubcx5uXmYdQZP8oge6zeOWsGQaWPsn2fVoZ5dxYFMT4CCNCllse4eJ/I7JiWbY2avFKtcZ2eQMsyDuiY2nlg+y5LqYVK1DyR35kLoyThvmfCFrUvdeLKiPbjrvj5Au1sfF4KtGHFR77WL6R9sLT4+ASlvfmKoUbFjVHzqFOqIW20KJ+X68wSApusgxeZWFCebVdLbMlX/sFImuuWF2mTJ0iDDbT0tBpV9Bmy64ZEAagiY2aNjE1DyzYFfrxBiqE/YlJFbe5nq27ttd63SP5UTF9KjJcugNxFXs/vgw1H5jFemAed3kjX/lE4V4+ABDP+9bnnVmDGsuozN39tumvbkc57/8YpGTnIZ/ACvRzeHDIrkF/a0e7dQ27+TLqpHwQess0pNnlW55vbGrkh883XzySKp+4ipRgoYnkgQ81OMC+m5EQ7ryVhs4kPONzBD+GnSiTi0088neU8b7hYzS79Dg/80GFfhiCJLMRZe99PiowVJ/ig4WN3cRaVkg4sviNwoEB/Mbu0U/axi9Q3s8Cr2AWPAZLExnX1uf5NVrWOK9jbueZiTpnCSGEeMzdn7RvL/9o5K+8AVms/NzSdB7ZLx1HwW5xkIPinSeQU3oORWpWyggIRNGqeLA4SBKG7Pt54cyMmg/bkf1KI4ql72TtHUCL2QcZ6VZ3XW+Nxhbp0QPrSxpQxOYt+sMJbGoxSTVgQHtDB1bvaGLrbsIm3t+PFbYiZrGCzKiRIlxhN2hQRSNbbyd2s/gtdJYlKAxB5gPhyGSfWxpUyJL2gQ8wlL2H7wOQNl/mzrG/DzQnOpD9B3FbC18R+zDxNNpyX7RUSPBFzBKWtsKjBDTIsV82Dw7vdlTToET6D8NYwY8Vjms6pBrNAKTdF45s4Th1Iud3YhoKy3tNfGREfGIE1jjtQ2VFb4Z2Oit83jEhoZCotRPFLK8oWKF2gxSQjeaLpCVsP/x4Qb4DdUJB3sPj4KrEOLwwV3pMyGsnkCfkb37cTqFAxbaXHbfCUbVxPlDqRvLqcL7mx+2eWKQJ+YcJikP+vdIjFPbILDt0mvs1OpzdoEF8/dmVl1lBnq0/7UYxj0XMwjN38P3SYQv7+/qdtvnR4O+PgqWxLrYOMKNf74OcxdbnuAe8ka94nrnX8uifkfMuj53Pu6T7MQofE8r2NKCwgucbfqwuo8WH7c/dMcM13oq5sdjCA9dLl7Fpq+U6x5fTikJ+rIKVeFYmH4RiCAVbT0jLHjnf0u6Itm2GbU1qIqnp0UPtp8QDaQ7Oh4gw3MtrXnWX2XZI5zTfppf4MTQhJpgfDLmBn67i4F/FvDHy6sZBodUpv/a1od4mWGXH1+hCs8vx5OfIWcIozoZLLO9+ZBspa1m+ULrQxFqeEhkPiI+iGTn+0u9TtfQIF7t87tr6xnONljPO65ireWbYBJ2zhBBCPEaXX3dMj0PBY4nYmi4+1PrMl+IgB1V8kIMgf6zOiEXFY8lID7H78Y6MR/GPZ6CAP2hdr0cV/07vVcSEK1G0di62fNf6rqsSaTlsHfN4k08jati8dcYA5GazYJf/OTgEpQ+GIFmnY+vWQc0KEVnp0dj6oCWAc5fdoEEqPTSTfJF+azi2Zlstc2osCnNnouhWf8QYxH3gAwzxpqkF2YkovlvmznHEdGzPDkG6UdzWer243O0bk5FmXavD7/pvYGnEgq/hZX9pROh0lj5r5iJ/rpOiHyv4bZjPgwktnq+W6guCWOFoo7StUhry5fF+cHxbty6b4bwwacNXGKXS0xhuFMuopD4uFGr9o7FhoT8ULP2KqzvFppCeHAeXsfRfMgcV2dOQNdUHaiF/Ozlugu+gYO0M5N5oRi3blqpeEyJ4vpY5bsq5ydi+8gbkWC/bwPPvDFTw0TM9uRrZDTzCz0UFPxfvnYn8JEtB1BcRd4/sV3+vlB8N4n7tzp2LTLmBYRxQ8pE8Xb1h4dAE5ysLnvc3sNcMtn2X2X5+roP2RnbN+K7YkTU+lV0rUv3R3cnzDUsrKd/kDqcVx65BD87F9sVK4TrX3C0eK7WvdKwenW332BxuEtZks3x5sw+ahWW7micDkB4v3pVQxk1xErSEIXtltHgNZUGecE5/rof/jBAUs2vo1gXfEa5V9Rr7iFNuECzLAFj82qeF2q4lsKvNLj3PzyyAu0dsMVNXp0Ktda2wH0szF5pYOyQcf3aNmMXSScvzufhbkxw7DVt/PAfZ9vnc1fWN5xotZ1zXMVfzzIiJOWcJIYR4apLRqB81YsbkyZ6FLsSbOlFSrEFlSAh2P5rgYv/Dr4mmDXl8FFQ+oIvcwA/kH0AfKl89h5IBPugUC0SlqeQ61dgsjGqbNG8mShfz5vsTp77iGApUvshfYzeg1PVOSBP9N2+7CSGEkG8YquEkhBBCCCGEEOIVFHASQgghhBBCCPEKCjgJIYR8+8xNxqjnyhJCCCFkwlEfTkIIIYQQQgghXkE1nIQQQgghhBBCvIICTkIIIYQQQgghXkEBJyGEEEIIIYQQr6CAkxBCCCGEEEKIV1DASQghhBBCCCHEKyjgJIQQQgghhBDiFRRwEkIIIYQQQgjxCgo4CSGEEEIIIYR4BQWchBBCCCGEEEK8ggJOQgghhBBCCCFeMclo1F+VPg+bPFkhfSI2jANo+fgL7Gr5O+oHzTDwaSxkjwjyR2ZqBB65IxzK8YbwVzSo3NeF8m4TtGZAEToNuzfcDMWZs9jbH4YN6WHSjMRrGpuRWT2EpHkzUbr4m5Xe9RXHUKDyRf6aeciOkCZ+m7h87PpQ+eo5lAwEorggGWnSVHdpz7ahpHoAtVcgXA/S0uNRnDFN/OM3lhGaE22o/U4ycpKkSZo25O1i17/YCNTkREsTv43YdZmuxYQQQohbqIbTVVc6UbKNFbrqhlDHgk2Fvw8iAtjLl5XFBvXYXatCzqun0PL/t3f/QVHf+f3An+wKy+ICAoKLChhERVAiWo9cUi654NceTlKS5kyb0W/uYiY979vRtFf6R+209eY7402n3n3vdO6ik1S/4+g3nTBNjjZzXK1YUy65o3pAUTBEjAIiBGT5tbAsy67f1/vz+QDLuuAusvEufT5mHNbdD+99vz/vH7xf+/68PysTz/nzovlcJ450ejEeb0XZ6jiUrk9AcvPH2Fk5iPoHSpuIFpSvE6ffH0S19MvM9Di9v2b9tgebgOODJuw6P4quCeMJmsaxmIiIKGxc4QyJBIKVDdh3zYfkFak4+vVVsEcbLynuHlRVdOBwt7y+bgUqnl1uvBCuyVUXCw7uK0CxxXj6t3jFjehz9Xn2lclVv/RUVO1ahS/KqNl9vg676rwo274V+wuMJ0nHsZiIiChsXOEMyW2cu+6Tn1aU/2FAsKlY0lD6fAqK5aHz1jBa9WcfgBm2yWCTiH6zxZi/MMEmERER0ULjCmdIbuPYjzpR4QlYeQyJF872Dpw+14eqAZ++L3ORGYU5Kdj/e1lTwevkqsJMZvxBuhfvdhn/NeRtTkb+ZQcqYMPR19djcpsV4ELNmSs4KMfbN2TgzNf8NvENfooDb/ahPsuOqsk9WJ4+1P5rJ05cd6PVoz8VEy15Wz0zb1Mrr0jE8afv4sS/DKF2AkhOTsD3/uc65KjjjLSOtbrRri7FMwGZS23Y+7UcFKUFRuizUfujbuBYzSCqHfoe2ZjoaJRsTsPeJ5bP2B+r71WMw+HvSFnO3cSRZv19J89t+Y4sJM/4OMULR8MnOPxLp3Y53LjKX3oi/ur3rfjZG92oTEzEmdfWQjtjQVYxwn8/0dOGEz+Xc3fH2I8bpN6nhV/2Q99cjJqKXlRJeWyLrdj/wgYkfxCwh9NYhYMqS84wDks7nEw/OdmKPU+uQulqm5buNCdaa27iWJ0L9apdmEwofGQpDjzmxt+eCWMf3+BtVJ3twelOD7qNyzNtlmgUbwoo04Lk0YyitVIPK53YeW6eeziNei/bvhl7FrXi0AdD021FteUda1G01Oz3u+qX/Pi3ocEeVJ+/jRNtRtkn0wjsD1Nlz8DrE9348yseKZmc77x0HNrkxJ8b5+V7Wf049u/9qB7wb7trkWPtR+3POnDsE2mPqo0ttmC3nK9deQnGGxhC6uvBy6WtdKYZq7n31L2U78qnOPGhEzXGvvbg7XZ6DDnzzSVo+qmMqR0eSDUbx9uxt9guI1oIjHZ1wvh9dW7tS6zYXZyJ0jV6uR01DdhZ65mlHcg4+baMk53RKN+zCaXJ8lQIaer9Tns4ZUb6oY6Bfu39wepV7bVtxZFaY0yTZ4KP30RERA+X+W/+5q8PGo+nmGTyRv7iENf7Gar6JvBRywDSky3IToo1XpuLF90fXMaufxvGZYnr7UuteEpmAfFj46jtGsG7DQMo2JCGdBXfjwzDddcEs3MCvT6ZPK+24ndksr0m1YxUrw8tI3dhkwlQ6YoYbMhchgK3A2cdE0hfsRwFS/R3AyT4+PdhNMsExemLxgubkqZWXsYvd+Dv2rx4avMqFC+XmYjak/pmB37ymRfjCXq6uQkmOAc8aO4dwfsyMd0hv2/VftuFljqZAI1PyJx8DI4kK0okXw6LDbs3LoHZLy2X1YLtmRbkS1De3DuGqsYeDC5OQNGy+32IIefqvJyrCyNokXO1zh6Hx5ctQrzLjQs3hvFuiwvbHk2GLUo/urv5Ns4OmmC93YujrT5kp1lRlCL5H9TzX3XbhxfyEyVkV/S0X/5wDO0S02tpS3TY3TmCM42j6PXehSs2Fi9sSdEnvJ/14tR1D1LTk7DjkTgthfDeT86/BC+73h3Af0q92VNVvccg3Sv1fmsElY0DyM836l0zn7L7cO2aE5cXWfHMymh43TF4tjgFLiOfRQXpyFWFcfZJHbgxHu3G2V8N4nJUDJ6S+sm660Fr/wRqPu7HkmzjWI1MXitasL9JJrNSmqJMaYfWu7h0axgVLRIMybkaX2LDN6Ssc+qSSfWpXlQO+JCstXtpX9JlbgzJ+ZK0zjqi8OK6eP3YB8ijwxSNpx6JRYHlLmrbJY83PJAszqi74Iw27Y7G9selLtRTRr2nTQzizUtOOOKlnUtfWeKeQPPAOKqbBlFQKMcumoCrzwVp6uiUehiXYKBM8pubapN+m4iYrlaUn+pGhYpc5KASeW3NIh8u90j5/kv6g82vPxhldwzJeCBtqCDDioIYL2yrMlCcMKS/5nLKWDGCG7FWbF9h5KdP0up0IupiF450S4C6Kha50T7ckP576doA4lamY6qKQu7rernMbi9ax+4iMy1OG6/ys9OQbdbz2Tuj7qUe3mvG/otjaJ2IQoFd+oS0Wwy48csOabdXR7Btk/Qprd0a59tngrfxDk71RSF/pbQtqaL2YdUmhtA4FnufOhOqLP+3Cyf7fUidbFdSDy1yPi5IOxlckoSi1GhYl4zK+7nQMOTFV7culTDXj7sTZ86N4kZ6Cv66yBi/QkjTMyRRoTtwLE5CfpocHM4YOFnnD1Svasy4glc+GpN+Go1i1QeS1Zih/215X40Zm2XM0N6QiIjo4WLAGRITUtdEY+WNIXzUN44LV/tw6lcysb/aj85eJ+JjLUhNCPJxcncr/vLno+i2WHFwdwH2f9mOovVpKNmahq+OyqSj043qm/pkLzEtRV4zw3NZTYKt+LNX8/Hc+hTkPJKGoiiHNhHOycvEd3dkyQQnVoKXAfzj9XGMSqA0NUlru43/c1km7iaZjowABY+lYaUx2fvoQhcuOC34xrMrkSVzwvYL1/F3t+8iTwLQUy88ouWrKH8ZnisyY1HjEC4NSjC71o5cLWljsui8i8T8DJz6erZ+bL5M1mTSWVNxE8cHJMgpysLJF7LxuEqrwI6X1njQ2SzB2I1RY6Ku0ppF2zXsq3bBsdiGo68+im9skTS0c5WIJ4YGUdU2gib3dFn1oMuLljErDr9mHK/yVCAB+3+NoNnhQZb8P1t9LuD4FAd/NoJOSxwOvbIRr21dZhxrhvfqIP7TLceEFHCG+H4jN3G4YhDNiywof+lRlP+uXu/Fm+3YET2As60uVPf6BajzKrsEyUtTUfHNtSiWY3dsTtEm1ZOBcWDA2SKBcWqh1PWLev2ovGwb7cG73V5JOwovTQZ/H1/H3otyQpYk4q0/3oA/2Dhdl+2NEhCr1Z/7Bpwu1LzfgYohE8q25+J721fq7UulUyBtom5UzpcXBV82Ar0w8zjeeA1/Ujeu5fHk3nyU5hlprxpB7RUJih4w4GyXet4u+f7+1/R8q3rIveVAdf84Bs3xEkAmIH21vGeKjAcqCFueip+8kKMHm2ol7x+7UDlmQsmTq/GTslVaWR5/NB27V47g0tUx/OLTYaxcJ21FfZpjlP2Gx4RvfH0T/uzxZdqxj6sPhSZfG5NAtCgHbz2fpedni7TbhiE09LvRFDt9DtTv7fD2oqJzAgPRMXg2e7EqVRh93aKVK3ugG+923cVTT2zC/qfk/6qqjbz4B5xaPVwah3dJAn7yzY34I6Pd7vhSPHJv9+PsZ2O4MPXBgnG+hyYkwFJ53oCyDdP1dknGreY7Hmx9LBWpWurBOX55A/+73YeSr6zH93f4tavlTgkOx9HujcKz66VfSX+OaevBhT4pm3/wLZy17Th0yyv1mo2n5DyHmmZyhjx/z1gsUWW4Y+CC1GsnTrw3hOa4BLz1vzbgGdUHVBrSVrNv3EHtsBdpmVKnRrcmIiJ6mCQ0oZCYUlGyexMqd9mxf7UFORIpdDtcqGzsw763m1DygzocOt8tU49p7Q3DaJafhZsyUKxdijcpGpnblmOPzBvG7wygptt4OhzrFmt7RpvbB6fe03nLjW5YsHeTmgS5UX9Nfx6+O6j/TH6mJ6BIvYR+NPXchc0Uhz1PBUzvTHbkLVUPJLIwLoOcZsK29QHftTHYgyp1yW9yIsqLA9Jaugp78qXcnlGZYLmMJ4NrbnSiXdLf+dW1yNPnyQYbcranoFRaavPVO3LMTEWbM1Dof/ziLJRo92yagNN4y/ZLQ6iXnyWPSaCc6FcPi+3YU2wLaxUglPdzyqSxWk5f4eYslKb717sZyVsl8JDJr7NNBTv6s/Mte/HaZaHnPdqGbz/tXz9m2DfYtMuxnWOTl3JLoFjvlPZkwu7/sRaZ/p+hSF3u3RzqNXoOXHOYEJMYjxcLAnK4OB75ahKsAtdAIeVRgs+W0ak82v1HsPS1+IsN/ud7npYmYc+MfNtQpJZnxbDbuB51Nm138I66JFX6w96tAXeszTTy53Pjpw19xpMGq/TnrFnyLudlt/9XrUgfldhFU/I7q2ecg+ScOOTIz9b+Mf2Jeff1+3Gh9rJeD2W/m4Mc/3ZrknHm95eiRPLluNaP+hl1LccXB9ZbCrapgNDjk1FrbuNePbGu/lHt55SsdTj5nS0483yGcVWHFUVrrfLYi582+w+wg6hpkXeRc/pcoX79RuhpzmK+Y+AD1atQ2R73oEuCy2k2FO/aisp9m1CmfYpCRET08Pn/2af7MiMmPQNlzxfg+OtbUb1vPU4+m4I96dHyZ96L6roOvFLRYQSALrT1qRmBGcVr/D5en5KGokfU6feirUd/JiyWZShWE4o7TtRrszQX6m/Kg/hYFBXEySTdh/qOXvUCcGUIVZKVolXJxsQpCaW7t6DyO/ko9MqkcbAXzXVtqDrbhEMnfo0DAfuUpkmgHbh1r00mnuqnexSn32vCkYB/79zSjkJtd7/+IKg+XOvWJ31NjR/fk8aRykFcU3NxlxvXZuwvMyFzacBetXsM4dptNSEzIz9Dn2DOsDZOC9xDE8r7Qd5Pnzb33bh1b1ne69b2v6r9V003taPmWXYz1qwMUp7ZJFqQaTycnQpO1M9Y5GVpT8wwOem9vxXY8ydbUKX2M7olgO3pRn3dTVS+fwUH3vgUxwL2CE4JKY8OtDrUz+B5zMyyhh6Ez8KWEjvvNMZ71Ic+QN6qJKitgYEy1y3W9ng29wUEN6mxs5d9cbS+L/Qe0gbU9zL5i0JAcDTfvn4/g2gfUD9lvMkNEihb0lC8TH5KcN0+Y3yLljwbD+fBnpeAPBk2mxvbUPrDX6P8zFVU1nXD4fYPunQxhUkoiwa6W/q1D/403Z/hZ9J+bNmJWjpKOGkGNd8x8IHqdSmKV0umPS4ceLMOO4834vDZT9HcGdCuiIiIfgMYf3JpXiw2mUBmY9euTah8NQ1lFpkOt/WiSluKGoXjPn/7Y2KMTXnzYkXhKmMls0VNjPRVTNtyG+xLbXhMYpHWW8Na8NvcNoZxCRZLNvgFSyPdqHy7DqU/akLZmzex73wPDjeOombYjMwZq2z+ohAzW4sZcaPy+ui9/3r0Sdv0CtVcfGhuD5LGdReatYWl6VVEXRTSg8XyM3jg1H43BvZg95AxmeZevZghlPeb1t4TrCyjqB1Rr/owPmM5J9yyS4nCaT4yub1/EOVVCyZy7CIEvd3OPZPeOdxpw7G3LqL06FWUnepA+fleHPnYhSa1uj/bQmlIeRxD17DxMJhEab/Gw/nKXKxdBjAvjuH7LBVaooIGooiaYyiWQDzo74RqXn39fjzoC2iPM0ngH7SxmNVC4PzZc3B0dxp2qjt0TfhQ3+XEkfMd2Hm0DmVvNaH2jt84Y1qBr2SroGwU//Gx/nx7o1OCTzN2P+r31VXhpDmXcMfAB6pXGf/L1uD4ZisyF6l250bVHFfbEBERPUxzzHJokuPDRpT94CIOXZxjhpWYhRfXq0+lvejSPvmPQ/JcW8jE+Pg9NwgOi219nHZ3zdrbvUCbBDI+oCRLLSukIk9dmuVw4ZrvNv7jU3lBMlM4NdHrkwloB450epGZmYgDz65C5WvrUfWdrah6fRP2apfZhUfdFbe6fOvs/0K5q6kExQf3BfndqX/GnVfDIkGMFuCMozvgKsbIMmHPzmBlmP438zsOI1H2cJkRo87VyIS0kAfglrb1dg8qBkzIz03B4RdypH3la+Wo/HYGdtynX8wtFulz7Utz34W2APqQJMfPtVFZfO75W/i+rotGypwL7C441W1TIyEtC3v3bJH85+Pks6nYn2tFnpx258AoDrz9iXbTtEl5j9qQCR+qWtS6cw9qr0vQl2hDceCnEmGkOZuFGQPDYEpAztMbcPJPN6NqTwYOFyWgNE36sE+/2ubQh7NdSkBERPT5YsAZguR4M8ZlwlHd0AHj6scgvHCMGAGkNue0IitFnV4vamZeC2mQyc8NlZgZWca+nbAlJ6FYgsjujiHUXx/R9m/ma/vAzMhXq5++MdReGEaNJ+ASP4m8zqmgWH7/ey+uRcm6VNhkEqavXvYZl8qFKC1a22PXfWPwnj2GSvvZOu0ytUO/nGvyswSZ2p123ai5EiSod7fhkAT8O99omb40LmQJWKNthvKiqSNI2h87UW08XCjpKaoOfDjXEuxaaQnE3riIsqNXUK1FHpEse7iSkK8FIGNoDnKppePaaGh5aBlCpRuwrbHj8DPZKHwkSdqXEWX6RtE21wrlfSUjR2vI0raNVSt/jnaXdknrwxKTZtEvmb3ZHzSwbG9R/VT6Y8oDRd2hW8i+PkOi0W6D1wPcPahR+8ZNFmTOd3y7xyCqz/waO3/QiBp1dUB0HDLXrULZMxtw9E/Xoly1C7cL1/y7XWYSdiyWwPHmEJqv9+OnI0Bh7jK/S1nnkWagBRkDw9TSgleOXsQrP1etSYLMZDsKi9eh/GUJPp/R96XX3h7SDiUiInrYGHCGYkMKdqtLzwYHse//fYJmR0Bg4BlE8/km/O01CSAtNmzL1Z/O3BSvTUTqJVCtmXFZlgft527jhEx+YpYuQfH9Vq4kgFVXpzm06x39paBQBZiDThxRl9Umxk7djTEmI1bbx1nZMCQTXDO+khPkIkmXBMkzAmiVr47Z99gFY1+G51SQMjKEvz8XMCvr+gR/f8UrwXo0itbNdR2dGYUFNi0grv7oU9QO+p8rJ+r/+Y52Ex6s1M9nuCbrofpXAWl7JPj7hbpJzsKyb1qCIulZ7Vduo6Ldv87UVxno9T4eH4dCLXCKbNnDY0XRxjiZrPpw+t8+wYysD7bhdENg+5ubc1h9p6Qf3xBq/6kHlTPaXLgmz5e07V+0olW7PNlw5yaOhZnHBZe1FC+qpu4YxLGLAXv22vX+oIKw5zYFvWg5csLo6zFm/c+CUwKt2U23lXvqQdWz0W6T1yShcMH+yiRiTWqUlMONdz4IGGs8LnSpgNEUo2JrP2ko2RAtr4/idI0E+yYryr7kPxaFmWawsXhBxsAwrYrFGslCe8udgDHDq31Vk1pczkyc/6XhREREC4kBZyhMduzamYpSq0w0uiXoPHFF+8R614/1f6U/+gT76tzadwLu//raqZtRwL4af7U1GjEycTt4qg6vnLqCI++pG6c04BWZGI9bLCj/vazplcfZpFm0m7Wor7w4+F4TKq5Mf3Kt34TEi3aZ8NkzEqY/ubfbkC/zLLUyq+6AWeR/CZk9BdvU6oRrCPuONOCQdnOLK9j3Q5UvLzLjVQFCvZlRIkqek0mdzG2aG9pQ+kYjDqv0zjSg7G0JxOX9C7eko+R+hVy3Ct8vUOdqFAf+oQ77zuh5OvDGVZS3+RBjjcOBp/32XYVD1cPmybQbUK7SrmjEK0fbcMJlCmHfYJiSs1H+pBXJPg+OvSPnVKv3Jhx6S9pAndS7tJO9/vUeybKHKaYgCwezTBgfGMS3flyHAxVGXf5DD2pCHS7WJWj7mdHdi52T7UGd7x+24EBHlHFHUzfa57sUKefru+pGNQND+NZxvzye6tXyuOD1GZYUlD2jgiwfqj9oRZlR/sPS/0vfUf3BhOKiEPrDQplHX09OlbYoP6t/1aLlvTrYsp3Q2oq6cY1WD+pmO0baR6SeVbuNt+G7C9xuM59M1dqWdoMf/7b14w6ckTEwb9MyFAfEWckFCSiSwFjtxYxJjzfu1D0trDSDjsULNAaGw5KFPVukntRNg6bGDHUjqAbsrHHL35Y47H9iwZaWiYiIHkiIM0hSt7cv//Y6nCy2oUgmaTafD90u/V+MJRolBWk4o92KXl1OOckM+5MbUVGWhNIlJjjuuKBuAlM/bkZRrhy/twAlM46fxVI7Xi+wSIDiRc31UZy+4bdulBWPYuMmLEXL/W/Jv0z+rz+yr04MuJGKTIpfykB5VrSUw4NqdWOLG25YViTi8MsFOP7lWG3CWd8dUsQJLMnCgb3ZOJRrQea4G1UqvS4PYpZYUV62DodlQnd/VmRunz5X7Z+pG27IuXLr5+rkH+fP/DqSsEg9PL0RZ7ZJ3Vl9aOqStDvcsGWk4nhZvH5u4mLuH/iHIXnLBlS8nIZdaWY4tXofRfWQCflZSTj+6saAdhLJsofLhsKd63C8yIr8KC9q2yQvn/mQv2G5tH39q0Hs8UaDm40lA/tf0sse49LbQ1Wn+q7HVJx89VF8d50quxdNnXOtoM3FirxnNuLk06o+vajX8ujFmowkHN1h1OfDlJ6Dw6+u0PuX2yj/nbvITLPhkPSvg0+E0h8Wyjz6eu5yHMgyw+bxaHmv7pjt0kxpK88X6PUg7VPrV9Ju283RKC1agYrX1gd8zc8CUG1rj16eZOPcVra54UywYv/XsnF0xtfqGBLTUbpCPTChrHClVt4ZwklztrF4QcbA8Ki/LdqYttiEVu3cj6JmKAqFudLPXs79HMcMIiKiuUV5PO577lyzaNE9f5KJvpi6PsG3zgyifbUdVc8v8E09vmgarqDknAt5W3Nw9MmA75gk+o3lQs3bV3Cwx4ajr0sQbDxLREREnw+ucNIXnvPDRv2mHbUBG9bUXrNfDKNVHhZnzvt2nV8ozf+iLhGvwxntq3b8qP2ul9SKpBlfeYTBJv0Wud6OE51A5voUBptEREQPAVc46YtvpA2HjvfoNzFJtqI4SX2B5V1ca3OheUKes6fg6O7sWb6E/b+ZthZ865+GtCA8c6kVhfFyria8qO9wo13OX07uChx9Zvm9lyUS/UbpQ9Wpmzg9DDhcPm1P42F1aXrA/k0iIiKKPAac9N/D4G1Une3B6U4Puo3v5rcttqBssx0vbk2DjWv903racOLnMmG/M31nUxWo7/5SOso2fM53VyWaFxdq37mCA+1AzGIryp9bH9p+eSIiIlpwDDiJiIiIiIgoIriuQ0RERERERBHBgJOIiIiIiIgiggEnERERERERRQQDTiIiIiIiIooIBpxEREREREQUEQw4iYiIiIiIKCIYcBIREREREVFEMOAkIiIiIiKiiGDASURERERERBHBgJOIiIiIiIgiggEnERERERERRQQDTiIiIiIiIooIBpxEREREREQUEQw4iYiIiIiIKCIYcBIREREREVFEMOAkIiIiIiKiiGDASURERERERBHBgJOIiIiIiIgiggEnERERERERRQQDTiIiIiIiIooIBpxEREREREQUEQw4iYiIiIiIKCIYcBIREREREVFEMOAkIiIiIiKiiGDASURERERERBHBgJOIiIiIiIgiIsrjcd81HhMREREREREtGK5wEhERERERUUQw4CQiIiIiIqKIYMBJREREREREEcGAk4iIiIiIiCKCAScRERERERFFBANOIiIiIiIiiggGnERERERERBQRDDiJiIiIiIgoIhhwEhERERERUUQw4CQiIiIiIqKIYMBJREREREREEcGAk4iIiIiIiCKCAScRERERERFFBANOIiIiIiIiiogoj8d913g85U7/sPGIiIiIiIiIaH64wklEREREREQRwYCTiIiIiIiIIoIBJxEREREREUVE0D2cixbFGI+IiIiIiIiI5ocrnERERERERBQRDDiJiIiIiIgoAoD/D01va15TztJnAAAAAElFTkSuQmCC)\n",
        "![image.png](data:image/png;base64,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)"
      ]
    },
    {
      "cell_type": "code",
      "execution_count": null,
      "metadata": {
        "colab": {
          "base_uri": "https://localhost:8080/"
        },
        "id": "20YgQ7RzhX_b",
        "outputId": "450086ca-e365-41e3-dfb2-b46b0b532e90"
      },
      "outputs": [
        {
          "output_type": "stream",
          "name": "stdout",
          "text": [
            "Number of students which are part of studies from 2018 or later: 5059\n",
            "Percent compared to all: 84.75%\n"
          ]
        }
      ],
      "source": [
        "count = (df_s['Enrollment Year'] >= 2018).sum()\n",
        "print(f\"Number of students which are part of studies from 2018 or later: {count}\")\n",
        "percent_compared_to_all = (float(count) / len(df_s)) * 100\n",
        "print(f\"Percent compared to all: {percent_compared_to_all:.2f}%\")"
      ]
    },
    {
      "cell_type": "markdown",
      "metadata": {
        "id": "IwBN1Rtvi_sr"
      },
      "source": [
        "Nearly 85% of all students enrolled in 2018 or later. This study will use only theses students, because they encompase the last two changes in the study program."
      ]
    },
    {
      "cell_type": "markdown",
      "metadata": {
        "id": "Xk8qA3Ivlwwf"
      },
      "source": [
        "###Creating a new dataset from enrollment year >= 2018\n"
      ]
    },
    {
      "cell_type": "code",
      "execution_count": null,
      "metadata": {
        "id": "9ZmcPXg4i965"
      },
      "outputs": [],
      "source": [
        "df_18 = df_s[df_s['Enrollment Year'] >= 2018].reset_index(drop=True)"
      ]
    },
    {
      "cell_type": "code",
      "execution_count": null,
      "metadata": {
        "colab": {
          "base_uri": "https://localhost:8080/"
        },
        "id": "jJ9X42_BmXdH",
        "outputId": "9590daf5-424a-4271-f693-b78973837015"
      },
      "outputs": [
        {
          "output_type": "execute_result",
          "data": {
            "text/plain": [
              "5059"
            ]
          },
          "metadata": {},
          "execution_count": 342
        }
      ],
      "source": [
        "len(df_18)"
      ]
    },
    {
      "cell_type": "markdown",
      "metadata": {
        "id": "oprrTmC0mmMk"
      },
      "source": [
        "##Enrollment on active students"
      ]
    },
    {
      "cell_type": "code",
      "execution_count": null,
      "metadata": {
        "id": "O6cmJPSioDvl"
      },
      "outputs": [],
      "source": [
        "li = ['Стручни студии – ВВКН -2023',\n",
        " 'Стручни студии – Интернет програмирање -2023',\n",
        " 'Стручни студии – СП -2023']"
      ]
    },
    {
      "cell_type": "code",
      "execution_count": null,
      "metadata": {
        "id": "GEETSdH5mw-i"
      },
      "outputs": [],
      "source": [
        "row_indexes = set()\n",
        "for index, row in df_s.iterrows():\n",
        "    courses= row['Courses']\n",
        "    year = 2023\n",
        "    for c in courses.split(\"@\"):\n",
        "      if ((str(year) in c or str(year)[-2:] in c) and (str(year+1) in c or str(year+1)[-2:] in c)) or c in li:\n",
        "        row_indexes.add(index)\n",
        "        if index > len(df_s):\n",
        "            print(index)\n"
      ]
    },
    {
      "cell_type": "code",
      "execution_count": null,
      "metadata": {
        "id": "xk7LPt4Dobd9"
      },
      "outputs": [],
      "source": [
        "df_a = df_s.iloc[list(row_indexes)]"
      ]
    },
    {
      "cell_type": "code",
      "execution_count": null,
      "metadata": {
        "colab": {
          "base_uri": "https://localhost:8080/"
        },
        "id": "iHn2fiuVp2YF",
        "outputId": "639b8dbf-9082-4a1c-c656-b395c0ff340e"
      },
      "outputs": [
        {
          "output_type": "execute_result",
          "data": {
            "text/plain": [
              "2023    995\n",
              "2022    988\n",
              "2021    841\n",
              "2020    576\n",
              "2019    511\n",
              "2018    326\n",
              "2017    192\n",
              "2016    101\n",
              "2015     65\n",
              "2014     53\n",
              "2013     39\n",
              "2012     27\n",
              "2011      7\n",
              "2008      4\n",
              "2010      1\n",
              "Name: Enrollment Year, dtype: int64"
            ]
          },
          "metadata": {},
          "execution_count": 346
        }
      ],
      "source": [
        "counts_a = df_a[\"Enrollment Year\"].value_counts()\n",
        "counts_a"
      ]
    },
    {
      "cell_type": "markdown",
      "metadata": {
        "id": "uq_nNIKEgMsv"
      },
      "source": [
        "###Plots"
      ]
    },
    {
      "cell_type": "code",
      "execution_count": null,
      "metadata": {
        "colab": {
          "base_uri": "https://localhost:8080/"
        },
        "id": "Aif08jKNqsug",
        "outputId": "182a34d4-8b4a-4ab2-9d15-df45f888eff9"
      },
      "outputs": [
        {
          "output_type": "display_data",
          "data": {
            "text/html": [
              "<html>\n",
              "<head><meta charset=\"utf-8\" /></head>\n",
              "<body>\n",
              "    <div>            <script src=\"https://cdnjs.cloudflare.com/ajax/libs/mathjax/2.7.5/MathJax.js?config=TeX-AMS-MML_SVG\"></script><script type=\"text/javascript\">if (window.MathJax && window.MathJax.Hub && window.MathJax.Hub.Config) {window.MathJax.Hub.Config({SVG: {font: \"STIX-Web\"}});}</script>                <script type=\"text/javascript\">window.PlotlyConfig = {MathJaxConfig: 'local'};</script>\n",
              "        <script charset=\"utf-8\" src=\"https://cdn.plot.ly/plotly-2.24.1.min.js\"></script>                <div id=\"018ea51b-690e-4a10-845c-298e75789ae5\" class=\"plotly-graph-div\" style=\"height:525px; width:100%;\"></div>            <script type=\"text/javascript\">                                    window.PLOTLYENV=window.PLOTLYENV || {};                                    if (document.getElementById(\"018ea51b-690e-4a10-845c-298e75789ae5\")) {                    Plotly.newPlot(                        \"018ea51b-690e-4a10-845c-298e75789ae5\",                        [{\"alignmentgroup\":\"True\",\"bingroup\":\"x\",\"hovertemplate\":\"DataFrame=active\\u003cbr\\u003eCount=%{x}\\u003cbr\\u003ecount=%{y}\\u003cextra\\u003e\\u003c\\u002fextra\\u003e\",\"legendgroup\":\"active\",\"marker\":{\"color\":\"blue\",\"pattern\":{\"shape\":\"\"}},\"name\":\"active\",\"offsetgroup\":\"active\",\"orientation\":\"v\",\"showlegend\":true,\"x\":[2023.0,2022.0,2023.0,2022.0,2023.0,2019.0,2022.0,2023.0,2022.0,2023.0,2018.0,2022.0,2019.0,2019.0,2021.0,2018.0,2022.0,2019.0,2022.0,2023.0,2020.0,2023.0,2022.0,2019.0,2022.0,2017.0,2023.0,2023.0,2023.0,2022.0,2022.0,2023.0,2022.0,2023.0,2017.0,2021.0,2018.0,2022.0,2020.0,2022.0,2020.0,2019.0,2022.0,2023.0,2023.0,2019.0,2023.0,2019.0,2021.0,2023.0,2022.0,2021.0,2020.0,2021.0,2023.0,2023.0,2022.0,2023.0,2023.0,2023.0,2019.0,2023.0,2022.0,2023.0,2018.0,2023.0,2021.0,2021.0,2022.0,2021.0,2023.0,2019.0,2023.0,2022.0,2021.0,2021.0,2021.0,2022.0,2023.0,2023.0,2020.0,2020.0,2018.0,2019.0,2022.0,2021.0,2022.0,2023.0,2018.0,2019.0,2020.0,2018.0,2021.0,2020.0,2022.0,2021.0,2021.0,2023.0,2022.0,2023.0,2023.0,2023.0,2018.0,2019.0,2020.0,2022.0,2022.0,2023.0,2021.0,2022.0,2023.0,2023.0,2023.0,2022.0,2021.0,2018.0,2023.0,2023.0,2022.0,2019.0,2023.0,2020.0,2020.0,2023.0,2023.0,2021.0,2021.0,2020.0,2018.0,2019.0,2021.0,2020.0,2018.0,2018.0,2023.0,2023.0,2021.0,2020.0,2018.0,2021.0,2018.0,2019.0,2023.0,2020.0,2022.0,2023.0,2022.0,2023.0,2022.0,2022.0,2022.0,2021.0,2019.0,2023.0,2023.0,2022.0,2021.0,2023.0,2019.0,2018.0,2022.0,2021.0,2020.0,2018.0,2018.0,2023.0,2022.0,2020.0,2023.0,2020.0,2023.0,2019.0,2021.0,2022.0,2021.0,2022.0,2022.0,2022.0,2020.0,2023.0,2021.0,2023.0,2018.0,2017.0,2016.0,2016.0,2019.0,2021.0,2022.0,2017.0,2021.0,2017.0,2018.0,2018.0,2020.0,2021.0,2016.0,2019.0,2019.0,2022.0,2015.0,2020.0,2017.0,2022.0,2022.0,2023.0,2017.0,2020.0,2019.0,2015.0,2023.0,2019.0,2020.0,2022.0,2019.0,2022.0,2022.0,2022.0,2022.0,2023.0,2023.0,2019.0,2022.0,2022.0,2019.0,2023.0,2022.0,2022.0,2022.0,2023.0,2023.0,2019.0,2022.0,2021.0,2015.0,2023.0,2019.0,2023.0,2023.0,2020.0,2018.0,2021.0,2022.0,2022.0,2022.0,2022.0,2018.0,2022.0,2023.0,2021.0,2021.0,2023.0,2023.0,2021.0,2020.0,2021.0,2023.0,2021.0,2022.0,2019.0,2021.0,2021.0,2022.0,2021.0,2018.0,2019.0,2022.0,2021.0,2023.0,2023.0,2021.0,2019.0,2021.0,2018.0,2020.0,2019.0,2020.0,2022.0,2019.0,2023.0,2019.0,2022.0,2020.0,2018.0,2021.0,2022.0,2023.0,2020.0,2022.0,2021.0,2019.0,2021.0,2018.0,2023.0,2021.0,2022.0,2023.0,2021.0,2023.0,2022.0,2022.0,2018.0,2020.0,2021.0,2023.0,2021.0,2020.0,2018.0,2022.0,2018.0,2019.0,2020.0,2020.0,2020.0,2023.0,2022.0,2018.0,2020.0,2022.0,2022.0,2020.0,2018.0,2022.0,2021.0,2021.0,2020.0,2019.0,2020.0,2020.0,2022.0,2023.0,2020.0,2020.0,2021.0,2021.0,2021.0,2021.0,2022.0,2022.0,2023.0,2022.0,2020.0,2021.0,2018.0,2023.0,2022.0,2022.0,2021.0,2023.0,2022.0,2022.0,2022.0,2022.0,2019.0,2023.0,2020.0,2023.0,2022.0,2021.0,2020.0,2021.0,2022.0,2022.0,2021.0,2022.0,2021.0,2023.0,2023.0,2022.0,2020.0,2020.0,2015.0,2022.0,2018.0,2022.0,2020.0,2020.0,2019.0,2021.0,2023.0,2019.0,2022.0,2019.0,2019.0,2019.0,2022.0,2022.0,2023.0,2023.0,2023.0,2015.0,2023.0,2020.0,2022.0,2022.0,2019.0,2021.0,2023.0,2021.0,2021.0,2022.0,2021.0,2019.0,2020.0,2021.0,2021.0,2022.0,2016.0,2014.0,2016.0,2016.0,2023.0,2022.0,2019.0,2019.0,2023.0,2022.0,2022.0,2021.0,2023.0,2023.0,2023.0,2018.0,2021.0,2018.0,2023.0,2019.0,2022.0,2022.0,2019.0,2023.0,2023.0,2019.0,2020.0,2022.0,2018.0,2023.0,2020.0,2018.0,2020.0,2019.0,2022.0,2021.0,2020.0,2021.0,2023.0,2018.0,2023.0,2020.0,2023.0,2021.0,2021.0,2021.0,2022.0,2022.0,2020.0,2020.0,2022.0,2018.0,2022.0,2020.0,2022.0,2019.0,2021.0,2022.0,2022.0,2020.0,2023.0,2021.0,2023.0,2019.0,2021.0,2021.0,2021.0,2023.0,2018.0,2021.0,2022.0,2020.0,2021.0,2021.0,2021.0,2022.0,2019.0,2020.0,2022.0,2021.0,2021.0,2020.0,2023.0,2023.0,2020.0,2019.0,2023.0,2019.0,2022.0,2022.0,2021.0,2021.0,2020.0,2023.0,2022.0,2019.0,2022.0,2023.0,2023.0,2022.0,2018.0,2022.0,2023.0,2019.0,2023.0,2021.0,2023.0,2022.0,2023.0,2023.0,2019.0,2021.0,2023.0,2023.0,2018.0,2022.0,2019.0,2023.0,2020.0,2021.0,2022.0,2023.0,2023.0,2022.0,2022.0,2023.0,2021.0,2020.0,2023.0,2021.0,2021.0,2019.0,2023.0,2023.0,2019.0,2023.0,2019.0,2022.0,2018.0,2023.0,2021.0,2023.0,2021.0,2023.0,2019.0,2021.0,2018.0,2023.0,2021.0,2023.0,2020.0,2019.0,2023.0,2015.0,2022.0,2017.0,2023.0,2017.0,2023.0,2023.0,2023.0,2022.0,2020.0,2020.0,2019.0,2020.0,2022.0,2020.0,2018.0,2021.0,2021.0,2022.0,2022.0,2023.0,2018.0,2018.0,2021.0,2019.0,2023.0,2021.0,2022.0,2019.0,2021.0,2019.0,2023.0,2019.0,2022.0,2021.0,2022.0,2015.0,2023.0,2023.0,2018.0,2015.0,2023.0,2021.0,2023.0,2022.0,2023.0,2023.0,2020.0,2023.0,2021.0,2021.0,2023.0,2020.0,2023.0,2023.0,2022.0,2021.0,2021.0,2023.0,2021.0,2023.0,2022.0,2021.0,2016.0,2021.0,2021.0,2022.0,2021.0,2023.0,2022.0,2014.0,2017.0,2013.0,2016.0,2012.0,2019.0,2022.0,2015.0,2021.0,2016.0,2022.0,2023.0,2023.0,2018.0,2020.0,2022.0,2023.0,2021.0,2021.0,2022.0,2023.0,2022.0,2020.0,2022.0,2022.0,2023.0,2022.0,2010.0,2023.0,2020.0,2020.0,2021.0,2008.0,2020.0,2022.0,2023.0,2020.0,2023.0,2020.0,2021.0,2022.0,2019.0,2022.0,2023.0,2017.0,2019.0,2021.0,2019.0,2023.0,2017.0,2019.0,2019.0,2022.0,2013.0,2017.0,2021.0,2017.0,2022.0,2021.0,2021.0,2020.0,2019.0,2023.0,2017.0,2023.0,2022.0,2020.0,2023.0,2021.0,2022.0,2019.0,2021.0,2018.0,2019.0,2023.0,2018.0,2023.0,2022.0,2021.0,2023.0,2021.0,2018.0,2020.0,2022.0,2021.0,2021.0,2016.0,2016.0,2016.0,2022.0,2019.0,2017.0,2018.0,2018.0,2023.0,2021.0,2022.0,2021.0,2016.0,2013.0,2022.0,2019.0,2021.0,2019.0,2019.0,2017.0,2017.0,2014.0,2014.0,2013.0,2021.0,2021.0,2022.0,2020.0,2021.0,2021.0,2020.0,2018.0,2022.0,2015.0,2018.0,2019.0,2018.0,2023.0,2021.0,2019.0,2021.0,2021.0,2022.0,2020.0,2020.0,2021.0,2020.0,2023.0,2022.0,2022.0,2019.0,2022.0,2019.0,2023.0,2019.0,2019.0,2023.0,2020.0,2022.0,2023.0,2019.0,2018.0,2021.0,2023.0,2023.0,2019.0,2019.0,2021.0,2021.0,2019.0,2021.0,2022.0,2019.0,2022.0,2023.0,2021.0,2018.0,2020.0,2020.0,2021.0,2021.0,2018.0,2020.0,2023.0,2022.0,2023.0,2021.0,2020.0,2021.0,2022.0,2021.0,2019.0,2021.0,2020.0,2022.0,2022.0,2023.0,2021.0,2022.0,2023.0,2013.0,2017.0,2017.0,2017.0,2023.0,2020.0,2023.0,2019.0,2023.0,2023.0,2020.0,2022.0,2021.0,2022.0,2023.0,2021.0,2022.0,2019.0,2018.0,2022.0,2021.0,2023.0,2020.0,2023.0,2023.0,2022.0,2022.0,2022.0,2020.0,2023.0,2023.0,2021.0,2020.0,2022.0,2021.0,2019.0,2020.0,2016.0,2017.0,2014.0,2019.0,2013.0,2018.0,2020.0,2019.0,2019.0,2019.0,2022.0,2022.0,2022.0,2021.0,2021.0,2017.0,2017.0,2020.0,2023.0,2021.0,2023.0,2023.0,2022.0,2019.0,2020.0,2018.0,2022.0,2022.0,2018.0,2014.0,2021.0,2021.0,2023.0,2018.0,2023.0,2023.0,2018.0,2022.0,2022.0,2021.0,2020.0,2018.0,2021.0,2019.0,2018.0,2021.0,2021.0,2021.0,2021.0,2020.0,2023.0,2022.0,2023.0,2021.0,2019.0,2022.0,2022.0,2023.0,2023.0,2023.0,2019.0,2023.0,2022.0,2021.0,2022.0,2021.0,2021.0,2019.0,2021.0,2021.0,2020.0,2023.0,2017.0,2019.0,2017.0,2017.0,2013.0,2016.0,2016.0,2023.0,2016.0,2023.0,2020.0,2014.0,2020.0,2019.0,2022.0,2022.0,2022.0,2022.0,2023.0,2018.0,2020.0,2023.0,2021.0,2023.0,2021.0,2023.0,2021.0,2020.0,2019.0,2023.0,2017.0,2022.0,2017.0,2019.0,2022.0,2022.0,2021.0,2022.0,2022.0,2022.0,2020.0,2021.0,2023.0,2021.0,2022.0,2021.0,2020.0,2019.0,2021.0,2019.0,2020.0,2019.0,2021.0,2018.0,2021.0,2023.0,2021.0,2019.0,2021.0,2021.0,2022.0,2023.0,2021.0,2023.0,2020.0,2018.0,2023.0,2020.0,2019.0,2019.0,2022.0,2021.0,2023.0,2022.0,2022.0,2022.0,2020.0,2019.0,2020.0,2023.0,2019.0,2020.0,2022.0,2022.0,2020.0,2020.0,2023.0,2023.0,2023.0,2021.0,2019.0,2022.0,2021.0,2019.0,2019.0,2021.0,2018.0,2021.0,2023.0,2023.0,2021.0,2021.0,2019.0,2019.0,2020.0,2022.0,2018.0,2022.0,2021.0,2018.0,2022.0,2022.0,2023.0,2022.0,2023.0,2019.0,2018.0,2020.0,2015.0,2019.0,2023.0,2023.0,2020.0,2019.0,2015.0,2020.0,2022.0,2021.0,2022.0,2020.0,2018.0,2022.0,2020.0,2022.0,2021.0,2021.0,2018.0,2022.0,2022.0,2018.0,2018.0,2019.0,2022.0,2018.0,2020.0,2023.0,2017.0,2014.0,2021.0,2019.0,2022.0,2018.0,2018.0,2020.0,2017.0,2022.0,2019.0,2022.0,2021.0,2016.0,2022.0,2018.0,2020.0,2021.0,2022.0,2015.0,2020.0,2016.0,2020.0,2020.0,2020.0,2017.0,2017.0,2014.0,2019.0,2020.0,2022.0,2023.0,2020.0,2022.0,2023.0,2023.0,2022.0,2022.0,2020.0,2022.0,2022.0,2023.0,2018.0,2022.0,2021.0,2015.0,2019.0,2018.0,2019.0,2023.0,2022.0,2020.0,2023.0,2015.0,2023.0,2021.0,2019.0,2023.0,2021.0,2022.0,2020.0,2022.0,2021.0,2019.0,2023.0,2021.0,2020.0,2021.0,2021.0,2020.0,2022.0,2018.0,2017.0,2013.0,2016.0,2017.0,2016.0,2018.0,2023.0,2020.0,2021.0,2023.0,2023.0,2020.0,2019.0,2022.0,2023.0,2018.0,2020.0,2020.0,2022.0,2023.0,2021.0,2023.0,2022.0,2022.0,2023.0,2018.0,2021.0,2021.0,2021.0,2018.0,2023.0,2022.0,2021.0,2022.0,2022.0,2022.0,2021.0,2018.0,2021.0,2018.0,2020.0,2022.0,2018.0,2021.0,2021.0,2023.0,2023.0,2022.0,2020.0,2022.0,2021.0,2022.0,2022.0,2022.0,2023.0,2020.0,2022.0,2023.0,2022.0,2023.0,2023.0,2018.0,2020.0,2021.0,2021.0,2021.0,2022.0,2023.0,2019.0,2018.0,2020.0,2021.0,2021.0,2019.0,2023.0,2021.0,2023.0,2022.0,2019.0,2021.0,2021.0,2018.0,2018.0,2023.0,2021.0,2021.0,2023.0,2016.0,2012.0,2020.0,2020.0,2022.0,2022.0,2023.0,2018.0,2023.0,2020.0,2023.0,2021.0,2020.0,2020.0,2020.0,2021.0,2023.0,2022.0,2018.0,2019.0,2020.0,2022.0,2023.0,2022.0,2022.0,2022.0,2023.0,2023.0,2018.0,2023.0,2022.0,2022.0,2023.0,2021.0,2020.0,2023.0,2021.0,2019.0,2018.0,2022.0,2021.0,2018.0,2021.0,2022.0,2021.0,2022.0,2021.0,2019.0,2018.0,2021.0,2021.0,2021.0,2020.0,2019.0,2019.0,2022.0,2018.0,2023.0,2023.0,2023.0,2023.0,2020.0,2020.0,2022.0,2019.0,2021.0,2023.0,2021.0,2019.0,2022.0,2022.0,2023.0,2022.0,2019.0,2021.0,2022.0,2022.0,2023.0,2021.0,2018.0,2022.0,2022.0,2019.0,2022.0,2022.0,2021.0,2021.0,2022.0,2022.0,2022.0,2022.0,2022.0,2022.0,2019.0,2019.0,2020.0,2022.0,2020.0,2023.0,2019.0,2020.0,2020.0,2023.0,2023.0,2021.0,2020.0,2020.0,2021.0,2017.0,2018.0,2021.0,2022.0,2018.0,2023.0,2023.0,2020.0,2021.0,2021.0,2022.0,2021.0,2023.0,2023.0,2023.0,2023.0,2021.0,2019.0,2022.0,2020.0,2021.0,2022.0,2019.0,2022.0,2022.0,2022.0,2021.0,2020.0,2021.0,2021.0,2021.0,2018.0,2020.0,2018.0,2023.0,2020.0,2019.0,2023.0,2020.0,2020.0,2021.0,2020.0,2023.0,2015.0,2020.0,2022.0,2023.0,2020.0,2022.0,2022.0,2021.0,2023.0,2018.0,2022.0,2021.0,2021.0,2023.0,2021.0,2023.0,2022.0,2019.0,2019.0,2022.0,2021.0,2019.0,2021.0,2021.0,2023.0,2017.0,2022.0,2022.0,2021.0,2022.0,2023.0,2022.0,2022.0,2022.0,2021.0,2015.0,2019.0,2020.0,2015.0,2021.0,2019.0,2018.0,2021.0,2023.0,2021.0,2015.0,2022.0,2023.0,2020.0,2023.0,2023.0,2016.0,2022.0,2023.0,2016.0,2022.0,2023.0,2021.0,2023.0,2023.0,2020.0,2023.0,2022.0,2021.0,2023.0,2020.0,2018.0,2021.0,2020.0,2018.0,2021.0,2023.0,2023.0,2022.0,2021.0,2021.0,2020.0,2022.0,2021.0,2019.0,2021.0,2022.0,2021.0,2023.0,2021.0,2021.0,2021.0,2021.0,2022.0,2020.0,2020.0,2021.0,2020.0,2021.0,2023.0,2022.0,2020.0,2022.0,2017.0,2023.0,2020.0,2022.0,2018.0,2022.0,2020.0,2023.0,2021.0,2020.0,2018.0,2023.0,2021.0,2019.0,2023.0,2022.0,2021.0,2023.0,2022.0,2020.0,2022.0,2021.0,2022.0,2018.0,2021.0,2019.0,2020.0,2021.0,2018.0,2022.0,2023.0,2022.0,2016.0,2017.0,2021.0,2021.0,2022.0,2023.0,2020.0,2016.0,2014.0,2017.0,2017.0,2017.0,2016.0,2017.0,2016.0,2022.0,2022.0,2023.0,2018.0,2021.0,2023.0,2014.0,2023.0,2022.0,2023.0,2023.0,2020.0,2021.0,2022.0,2021.0,2020.0,2017.0,2013.0,2017.0,2014.0,2023.0,2019.0,2020.0,2021.0,2022.0,2021.0,2021.0,2023.0,2019.0,2021.0,2021.0,2023.0,2021.0,2015.0,2022.0,2023.0,2023.0,2023.0,2015.0,2019.0,2023.0,2019.0,2021.0,2021.0,2020.0,2023.0,2021.0,2022.0,2022.0,2019.0,2023.0,2022.0,2022.0,2022.0,2023.0,2022.0,2023.0,2021.0,2021.0,2020.0,2022.0,2021.0,2017.0,2012.0,2017.0,2021.0,2020.0,2022.0,2022.0,2022.0,2023.0,2018.0,2023.0,2022.0,2021.0,2019.0,2021.0,2017.0,2021.0,2019.0,2022.0,2022.0,2018.0,2021.0,2021.0,2021.0,2023.0,2023.0,2021.0,2020.0,2017.0,2016.0,2023.0,2014.0,2019.0,2022.0,2020.0,2021.0,2019.0,2021.0,2023.0,2017.0,2019.0,2023.0,2021.0,2021.0,2023.0,2021.0,2016.0,2023.0,2014.0,2019.0,2023.0,2019.0,2022.0,2022.0,2017.0,2018.0,2020.0,2023.0,2021.0,2023.0,2023.0,2018.0,2023.0,2019.0,2020.0,2022.0,2023.0,2023.0,2019.0,2018.0,2022.0,2022.0,2022.0,2023.0,2020.0,2022.0,2022.0,2023.0,2020.0,2021.0,2022.0,2021.0,2022.0,2019.0,2019.0,2023.0,2021.0,2023.0,2021.0,2022.0,2023.0,2021.0,2019.0,2023.0,2021.0,2020.0,2022.0,2015.0,2023.0,2023.0,2022.0,2022.0,2021.0,2023.0,2020.0,2022.0,2019.0,2022.0,2022.0,2020.0,2022.0,2022.0,2018.0,2022.0,2016.0,2019.0,2022.0,2021.0,2022.0,2022.0,2022.0,2019.0,2018.0,2023.0,2021.0,2022.0,2018.0,2020.0,2021.0,2020.0,2018.0,2020.0,2020.0,2021.0,2023.0,2021.0,2021.0,2021.0,2020.0,2018.0,2022.0,2019.0,2021.0,2019.0,2022.0,2021.0,2019.0,2023.0,2023.0,2022.0,2022.0,2023.0,2023.0,2023.0,2019.0,2019.0,2023.0,2021.0,2023.0,2023.0,2019.0,2023.0,2020.0,2021.0,2022.0,2020.0,2020.0,2019.0,2018.0,2018.0,2019.0,2021.0,2022.0,2023.0,2019.0,2019.0,2018.0,2023.0,2019.0,2023.0,2021.0,2019.0,2020.0,2022.0,2021.0,2020.0,2022.0,2021.0,2022.0,2021.0,2021.0,2019.0,2022.0,2022.0,2023.0,2019.0,2022.0,2020.0,2023.0,2023.0,2022.0,2023.0,2020.0,2022.0,2022.0,2021.0,2023.0,2021.0,2023.0,2021.0,2022.0,2023.0,2023.0,2021.0,2018.0,2017.0,2022.0,2018.0,2020.0,2022.0,2019.0,2022.0,2022.0,2018.0,2015.0,2021.0,2016.0,2022.0,2023.0,2021.0,2020.0,2019.0,2017.0,2019.0,2020.0,2014.0,2022.0,2021.0,2019.0,2021.0,2022.0,2021.0,2022.0,2020.0,2020.0,2021.0,2021.0,2021.0,2023.0,2023.0,2018.0,2018.0,2023.0,2022.0,2021.0,2018.0,2022.0,2021.0,2020.0,2020.0,2023.0,2022.0,2023.0,2018.0,2022.0,2021.0,2020.0,2023.0,2021.0,2020.0,2022.0,2021.0,2020.0,2022.0,2019.0,2021.0,2020.0,2019.0,2022.0,2022.0,2019.0,2022.0,2023.0,2022.0,2019.0,2023.0,2023.0,2019.0,2023.0,2020.0,2018.0,2023.0,2021.0,2019.0,2020.0,2020.0,2021.0,2019.0,2021.0,2022.0,2018.0,2018.0,2022.0,2021.0,2019.0,2019.0,2023.0,2023.0,2023.0,2022.0,2022.0,2022.0,2023.0,2023.0,2021.0,2018.0,2023.0,2021.0,2022.0,2021.0,2023.0,2015.0,2021.0,2023.0,2023.0,2018.0,2018.0,2020.0,2020.0,2023.0,2022.0,2023.0,2023.0,2018.0,2019.0,2023.0,2020.0,2023.0,2023.0,2021.0,2018.0,2022.0,2021.0,2023.0,2018.0,2020.0,2015.0,2019.0,2019.0,2022.0,2023.0,2018.0,2019.0,2021.0,2020.0,2020.0,2019.0,2021.0,2022.0,2022.0,2020.0,2023.0,2020.0,2023.0,2023.0,2023.0,2023.0,2016.0,2017.0,2017.0,2020.0,2020.0,2021.0,2022.0,2020.0,2019.0,2021.0,2021.0,2023.0,2023.0,2022.0,2021.0,2018.0,2020.0,2022.0,2019.0,2018.0,2023.0,2022.0,2020.0,2020.0,2023.0,2022.0,2023.0,2015.0,2019.0,2023.0,2019.0,2021.0,2020.0,2023.0,2012.0,2022.0,2018.0,2021.0,2021.0,2022.0,2022.0,2020.0,2019.0,2011.0,2016.0,2017.0,2012.0,2013.0,2020.0,2023.0,2023.0,2022.0,2021.0,2019.0,2023.0,2019.0,2021.0,2021.0,2019.0,2023.0,2023.0,2022.0,2022.0,2022.0,2023.0,2016.0,2021.0,2022.0,2022.0,2022.0,2023.0,2022.0,2023.0,2016.0,2014.0,2020.0,2022.0,2015.0,2018.0,2022.0,2019.0,2018.0,2021.0,2023.0,2021.0,2018.0,2018.0,2021.0,2014.0,2022.0,2022.0,2021.0,2021.0,2023.0,2022.0,2022.0,2019.0,2020.0,2017.0,2021.0,2017.0,2016.0,2016.0,2021.0,2018.0,2019.0,2017.0,2018.0,2022.0,2019.0,2018.0,2022.0,2023.0,2021.0,2019.0,2023.0,2022.0,2022.0,2022.0,2022.0,2021.0,2018.0,2022.0,2022.0,2022.0,2020.0,2022.0,2019.0,2020.0,2022.0,2021.0,2020.0,2021.0,2021.0,2021.0,2020.0,2019.0,2022.0,2018.0,2021.0,2021.0,2022.0,2021.0,2018.0,2017.0,2017.0,2017.0,2019.0,2012.0,2016.0,2013.0,2021.0,2023.0,2022.0,2023.0,2022.0,2022.0,2020.0,2023.0,2019.0,2023.0,2019.0,2018.0,2020.0,2020.0,2023.0,2022.0,2023.0,2018.0,2019.0,2021.0,2019.0,2019.0,2023.0,2018.0,2020.0,2018.0,2020.0,2021.0,2018.0,2023.0,2022.0,2020.0,2020.0,2022.0,2023.0,2022.0,2021.0,2021.0,2023.0,2021.0,2022.0,2022.0,2021.0,2023.0,2022.0,2020.0,2018.0,2023.0,2022.0,2023.0,2022.0,2020.0,2021.0,2020.0,2015.0,2023.0,2022.0,2019.0,2022.0,2022.0,2020.0,2023.0,2023.0,2021.0,2020.0,2018.0,2021.0,2023.0,2022.0,2023.0,2018.0,2020.0,2023.0,2019.0,2020.0,2022.0,2023.0,2019.0,2022.0,2023.0,2023.0,2017.0,2016.0,2017.0,2017.0,2017.0,2011.0,2017.0,2015.0,2020.0,2021.0,2023.0,2016.0,2019.0,2019.0,2023.0,2020.0,2021.0,2020.0,2022.0,2014.0,2016.0,2017.0,2021.0,2023.0,2019.0,2019.0,2023.0,2022.0,2017.0,2017.0,2022.0,2020.0,2023.0,2017.0,2014.0,2013.0,2021.0,2021.0,2018.0,2021.0,2022.0,2019.0,2019.0,2021.0,2017.0,2017.0,2017.0,2016.0,2017.0,2018.0,2019.0,2022.0,2022.0,2020.0,2021.0,2023.0,2019.0,2021.0,2021.0,2021.0,2023.0,2015.0,2020.0,2023.0,2020.0,2023.0,2023.0,2019.0,2021.0,2017.0,2016.0,2017.0,2021.0,2021.0,2021.0,2022.0,2022.0,2018.0,2019.0,2023.0,2019.0,2020.0,2018.0,2019.0,2023.0,2023.0,2023.0,2023.0,2019.0,2022.0,2019.0,2023.0,2021.0,2022.0,2021.0,2020.0,2022.0,2022.0,2022.0,2021.0,2019.0,2021.0,2022.0,2020.0,2015.0,2020.0,2022.0,2019.0,2018.0,2020.0,2013.0,2016.0,2022.0,2022.0,2023.0,2020.0,2020.0,2021.0,2023.0,2020.0,2014.0,2013.0,2016.0,2021.0,2019.0,2022.0,2022.0,2020.0,2019.0,2021.0,2022.0,2018.0,2022.0,2020.0,2017.0,2017.0,2017.0,2023.0,2020.0,2023.0,2023.0,2023.0,2019.0,2022.0,2018.0,2022.0,2013.0,2014.0,2013.0,2012.0,2016.0,2017.0,2014.0,2017.0,2016.0,2016.0,2017.0,2017.0,2023.0,2018.0,2023.0,2022.0,2021.0,2022.0,2020.0,2019.0,2020.0,2018.0,2023.0,2023.0,2022.0,2022.0,2023.0,2018.0,2023.0,2022.0,2022.0,2020.0,2021.0,2022.0,2018.0,2023.0,2021.0,2019.0,2022.0,2021.0,2022.0,2020.0,2022.0,2019.0,2019.0,2022.0,2023.0,2023.0,2021.0,2021.0,2023.0,2021.0,2018.0,2021.0,2023.0,2022.0,2020.0,2022.0,2021.0,2023.0,2020.0,2021.0,2020.0,2018.0,2020.0,2020.0,2019.0,2020.0,2023.0,2018.0,2022.0,2022.0,2021.0,2022.0,2021.0,2023.0,2021.0,2020.0,2021.0,2020.0,2019.0,2020.0,2015.0,2022.0,2022.0,2021.0,2020.0,2020.0,2021.0,2021.0,2021.0,2020.0,2023.0,2019.0,2023.0,2022.0,2021.0,2022.0,2022.0,2020.0,2022.0,2019.0,2020.0,2016.0,2017.0,2017.0,2023.0,2018.0,2019.0,2022.0,2023.0,2021.0,2019.0,2019.0,2017.0,2017.0,2020.0,2019.0,2019.0,2021.0,2021.0,2021.0,2014.0,2016.0,2017.0,2021.0,2021.0,2017.0,2018.0,2021.0,2023.0,2023.0,2022.0,2012.0,2014.0,2023.0,2019.0,2019.0,2023.0,2023.0,2023.0,2021.0,2019.0,2022.0,2022.0,2021.0,2018.0,2023.0,2021.0,2022.0,2023.0,2022.0,2018.0,2020.0,2021.0,2020.0,2020.0,2021.0,2023.0,2022.0,2021.0,2022.0,2018.0,2018.0,2023.0,2019.0,2023.0,2022.0,2023.0,2023.0,2023.0,2021.0,2020.0,2020.0,2022.0,2017.0,2023.0,2023.0,2023.0,2020.0,2022.0,2022.0,2022.0,2020.0,2023.0,2020.0,2019.0,2020.0,2017.0,2017.0,2019.0,2023.0,2023.0,2023.0,2021.0,2019.0,2020.0,2023.0,2023.0,2023.0,2022.0,2021.0,2023.0,2023.0,2023.0,2022.0,2021.0,2021.0,2023.0,2021.0,2021.0,2021.0,2023.0,2023.0,2022.0,2023.0,2022.0,2021.0,2023.0,2023.0,2020.0,2021.0,2022.0,2023.0,2019.0,2023.0,2021.0,2023.0,2023.0,2022.0,2020.0,2023.0,2021.0,2021.0,2021.0,2017.0,2021.0,2022.0,2023.0,2022.0,2022.0,2021.0,2020.0,2020.0,2021.0,2022.0,2021.0,2020.0,2023.0,2023.0,2022.0,2022.0,2020.0,2022.0,2022.0,2019.0,2021.0,2022.0,2022.0,2023.0,2020.0,2023.0,2020.0,2022.0,2023.0,2019.0,2022.0,2022.0,2023.0,2023.0,2022.0,2022.0,2021.0,2022.0,2022.0,2017.0,2022.0,2018.0,2018.0,2022.0,2019.0,2022.0,2023.0,2018.0,2023.0,2022.0,2022.0,2020.0,2015.0,2020.0,2022.0,2020.0,2019.0,2022.0,2022.0,2021.0,2020.0,2019.0,2023.0,2023.0,2023.0,2023.0,2021.0,2022.0,2021.0,2017.0,2017.0,2017.0,2022.0,2019.0,2022.0,2022.0,2023.0,2020.0,2018.0,2022.0,2020.0,2019.0,2022.0,2021.0,2019.0,2019.0,2022.0,2021.0,2020.0,2021.0,2020.0,2023.0,2022.0,2021.0,2023.0,2023.0,2021.0,2023.0,2023.0,2021.0,2022.0,2022.0,2020.0,2019.0,2022.0,2020.0,2023.0,2023.0,2021.0,2021.0,2023.0,2020.0,2018.0,2022.0,2023.0,2023.0,2023.0,2022.0,2023.0,2015.0,2023.0,2022.0,2019.0,2015.0,2022.0,2021.0,2020.0,2021.0,2018.0,2023.0,2022.0,2023.0,2023.0,2021.0,2023.0,2021.0,2019.0,2022.0,2021.0,2021.0,2023.0,2020.0,2019.0,2018.0,2023.0,2021.0,2021.0,2022.0,2019.0,2020.0,2021.0,2022.0,2022.0,2023.0,2022.0,2018.0,2021.0,2018.0,2023.0,2021.0,2020.0,2022.0,2021.0,2015.0,2021.0,2020.0,2020.0,2020.0,2018.0,2022.0,2023.0,2022.0,2021.0,2023.0,2018.0,2018.0,2019.0,2020.0,2018.0,2023.0,2022.0,2019.0,2019.0,2019.0,2018.0,2022.0,2023.0,2022.0,2023.0,2022.0,2020.0,2023.0,2020.0,2022.0,2022.0,2018.0,2021.0,2022.0,2019.0,2023.0,2022.0,2021.0,2023.0,2022.0,2023.0,2022.0,2023.0,2022.0,2022.0,2020.0,2019.0,2019.0,2023.0,2021.0,2018.0,2022.0,2018.0,2019.0,2022.0,2022.0,2018.0,2021.0,2022.0,2019.0,2022.0,2018.0,2023.0,2022.0,2019.0,2022.0,2022.0,2022.0,2022.0,2019.0,2020.0,2021.0,2021.0,2019.0,2023.0,2021.0,2023.0,2021.0,2021.0,2022.0,2021.0,2021.0,2019.0,2022.0,2020.0,2023.0,2023.0,2023.0,2021.0,2018.0,2020.0,2020.0,2023.0,2023.0,2022.0,2019.0,2021.0,2023.0,2021.0,2022.0,2019.0,2019.0,2023.0,2021.0,2021.0,2023.0,2023.0,2023.0,2022.0,2023.0,2019.0,2018.0,2015.0,2022.0,2023.0,2020.0,2019.0,2023.0,2023.0,2022.0,2019.0,2022.0,2021.0,2021.0,2022.0,2023.0,2023.0,2023.0,2022.0,2022.0,2020.0,2023.0,2019.0,2020.0,2019.0,2020.0,2023.0,2020.0,2018.0,2021.0,2020.0,2019.0,2023.0,2023.0,2022.0,2022.0,2022.0,2023.0,2021.0,2019.0,2022.0,2020.0,2023.0,2022.0,2023.0,2023.0,2021.0,2018.0,2021.0,2023.0,2018.0,2021.0,2020.0,2022.0,2021.0,2022.0,2022.0,2023.0,2022.0,2019.0,2020.0,2023.0,2019.0,2018.0,2021.0,2021.0,2023.0,2022.0,2014.0,2016.0,2016.0,2022.0,2019.0,2020.0,2023.0,2022.0,2023.0,2022.0,2022.0,2023.0,2019.0,2019.0,2022.0,2021.0,2021.0,2019.0,2022.0,2017.0,2023.0,2023.0,2023.0,2022.0,2019.0,2022.0,2022.0,2022.0,2019.0,2023.0,2021.0,2020.0,2023.0,2023.0,2019.0,2021.0,2020.0,2019.0,2023.0,2020.0,2022.0,2019.0,2018.0,2022.0,2022.0,2023.0,2022.0,2022.0,2019.0,2023.0,2019.0,2020.0,2022.0,2023.0,2022.0,2023.0,2020.0,2018.0,2023.0,2020.0,2022.0,2022.0,2021.0,2023.0,2022.0,2019.0,2021.0,2020.0,2020.0,2021.0,2022.0,2020.0,2021.0,2019.0,2018.0,2020.0,2022.0,2021.0,2023.0,2023.0,2021.0,2023.0,2021.0,2021.0,2018.0,2018.0,2022.0,2018.0,2023.0,2018.0,2022.0,2021.0,2019.0,2020.0,2023.0,2023.0,2019.0,2021.0,2021.0,2019.0,2023.0,2022.0,2022.0,2020.0,2022.0,2023.0,2023.0,2023.0,2020.0,2022.0,2019.0,2022.0,2020.0,2021.0,2020.0,2021.0,2020.0,2022.0,2021.0,2023.0,2023.0,2020.0,2022.0,2023.0,2021.0,2020.0,2021.0,2023.0,2023.0,2020.0,2019.0,2023.0,2018.0,2022.0,2023.0,2021.0,2019.0,2018.0,2021.0,2023.0,2022.0,2019.0,2020.0,2023.0,2021.0,2021.0,2020.0,2022.0,2022.0,2021.0,2021.0,2020.0,2023.0,2022.0,2021.0,2023.0,2021.0,2020.0,2018.0,2023.0,2023.0,2023.0,2021.0,2023.0,2022.0,2019.0,2019.0,2019.0,2023.0,2020.0,2023.0,2021.0,2022.0,2020.0,2021.0,2022.0,2021.0,2022.0,2019.0,2022.0,2021.0,2023.0,2017.0,2008.0,2021.0,2023.0,2021.0,2017.0,2021.0,2019.0,2022.0,2023.0,2022.0,2022.0,2020.0,2023.0,2018.0,2023.0,2020.0,2020.0,2022.0,2014.0,2017.0,2021.0,2019.0,2020.0,2023.0,2019.0,2021.0,2019.0,2019.0,2018.0,2022.0,2019.0,2019.0,2019.0,2022.0,2020.0,2023.0,2020.0,2023.0,2021.0,2023.0,2023.0,2022.0,2023.0,2021.0,2021.0,2023.0,2020.0,2017.0,2017.0,2020.0,2021.0,2020.0,2023.0,2022.0,2020.0,2022.0,2019.0,2023.0,2023.0,2019.0,2020.0,2023.0,2023.0,2021.0,2022.0,2021.0,2020.0,2019.0,2021.0,2021.0,2022.0,2021.0,2019.0,2022.0,2020.0,2022.0,2021.0,2023.0,2023.0,2019.0,2022.0,2022.0,2023.0,2021.0,2020.0,2020.0,2022.0,2019.0,2022.0,2020.0,2023.0,2023.0,2019.0,2020.0,2022.0,2021.0,2019.0,2023.0,2023.0,2023.0,2021.0,2022.0,2017.0,2021.0,2020.0,2020.0,2023.0,2021.0,2019.0,2022.0,2023.0,2021.0,2018.0,2022.0,2012.0,2022.0,2023.0,2023.0,2021.0,2020.0,2022.0,2023.0,2021.0,2022.0,2019.0,2018.0,2022.0,2019.0,2017.0,2023.0,2018.0,2018.0,2016.0,2023.0,2012.0,2023.0,2023.0,2018.0,2021.0,2017.0,2014.0,2019.0,2013.0,2013.0,2023.0,2023.0,2022.0,2017.0,2017.0,2017.0,2022.0,2016.0,2017.0,2014.0,2022.0,2019.0,2022.0,2022.0,2022.0,2023.0,2023.0,2023.0,2018.0,2019.0,2023.0,2023.0,2021.0,2022.0,2022.0,2023.0,2019.0,2023.0,2022.0,2020.0,2022.0,2023.0,2021.0,2022.0,2019.0,2023.0,2019.0,2022.0,2020.0,2019.0,2023.0,2020.0,2019.0,2021.0,2022.0,2019.0,2018.0,2018.0,2021.0,2023.0,2020.0,2023.0,2020.0,2023.0,2018.0,2023.0,2020.0,2021.0,2022.0,2015.0,2019.0,2023.0,2022.0,2022.0,2023.0,2022.0,2017.0,2023.0,2013.0,2023.0,2018.0,2019.0,2020.0,2021.0,2020.0,2017.0,2017.0,2016.0,2016.0,2018.0,2020.0,2022.0,2023.0,2018.0,2022.0,2020.0,2018.0,2018.0,2021.0,2018.0,2019.0,2022.0,2021.0,2018.0,2020.0,2021.0,2018.0,2020.0,2020.0,2019.0,2016.0,2018.0,2017.0,2016.0,2022.0,2020.0,2019.0,2015.0,2023.0,2021.0,2021.0,2023.0,2023.0,2019.0,2022.0,2014.0,2014.0,2017.0,2019.0,2021.0,2021.0,2023.0,2022.0,2021.0,2022.0,2023.0,2019.0,2020.0,2023.0,2023.0,2022.0,2023.0,2021.0,2019.0,2022.0,2020.0,2013.0,2023.0,2016.0,2014.0,2017.0,2020.0,2021.0,2023.0,2019.0,2019.0,2019.0,2023.0,2020.0,2014.0,2017.0,2014.0,2023.0,2022.0,2012.0,2020.0,2021.0,2022.0,2023.0,2023.0,2023.0,2020.0,2022.0,2019.0,2018.0,2023.0,2020.0,2023.0,2016.0,2016.0,2022.0,2019.0,2022.0,2022.0,2023.0,2022.0,2022.0,2022.0,2019.0,2019.0,2021.0,2015.0,2020.0,2021.0,2022.0,2022.0,2022.0,2020.0,2018.0,2020.0,2023.0,2023.0,2020.0,2023.0,2021.0,2015.0,2019.0,2022.0,2021.0,2020.0,2020.0,2018.0,2020.0,2022.0,2018.0,2018.0,2022.0,2021.0,2019.0,2020.0,2022.0,2022.0,2020.0,2022.0,2020.0,2022.0,2018.0,2021.0,2021.0,2020.0,2023.0,2021.0,2021.0,2021.0,2018.0,2018.0,2021.0,2021.0,2022.0,2022.0,2019.0,2021.0,2021.0,2021.0,2023.0,2019.0,2021.0,2020.0,2022.0,2019.0,2015.0,2015.0,2021.0,2019.0,2019.0,2021.0,2021.0,2020.0,2021.0,2022.0,2023.0,2022.0,2023.0,2021.0,2022.0,2020.0,2020.0,2019.0,2021.0,2022.0,2023.0,2018.0,2022.0,2023.0,2022.0,2019.0,2019.0,2022.0,2021.0,2020.0,2020.0,2023.0,2020.0,2022.0,2022.0,2023.0,2022.0,2022.0,2020.0,2023.0,2022.0,2021.0,2022.0,2021.0,2023.0,2019.0,2019.0,2021.0,2021.0,2022.0,2023.0,2018.0,2023.0,2020.0,2021.0,2022.0,2019.0,2021.0,2020.0,2021.0,2020.0,2019.0,2021.0,2013.0,2017.0,2017.0,2023.0,2013.0,2014.0,2017.0,2017.0,2014.0,2023.0,2023.0,2022.0,2023.0,2023.0,2023.0,2023.0,2023.0,2022.0,2022.0,2022.0,2022.0,2019.0,2021.0,2021.0,2021.0,2020.0,2022.0,2023.0,2023.0,2018.0,2022.0,2013.0,2017.0,2017.0,2020.0,2019.0,2021.0,2018.0,2021.0,2023.0,2023.0,2022.0,2023.0,2022.0,2023.0,2021.0,2021.0,2015.0,2020.0,2019.0,2023.0,2021.0,2022.0,2020.0,2018.0,2020.0,2019.0,2020.0,2012.0,2017.0,2023.0,2023.0,2023.0,2023.0,2022.0,2023.0,2023.0,2023.0,2022.0,2020.0,2022.0,2020.0,2022.0,2018.0,2021.0,2020.0,2021.0,2022.0,2020.0,2021.0,2013.0,2017.0,2014.0,2013.0,2017.0,2023.0,2008.0,2017.0,2016.0,2021.0,2021.0,2021.0,2018.0,2019.0,2018.0,2017.0,2014.0,2023.0,2023.0,2016.0,2014.0,2016.0,2016.0,2012.0,2022.0,2021.0,2016.0,2019.0,2023.0,2023.0,2023.0,2022.0,2021.0,2023.0,2021.0,2021.0,2023.0,2020.0,2023.0,2020.0,2022.0,2022.0,2022.0,2023.0,2023.0,2018.0,2022.0,2020.0,2021.0,2023.0,2021.0,2023.0,2020.0,2022.0,2021.0,2021.0,2020.0,2022.0,2019.0,2019.0,2023.0,2021.0,2021.0,2019.0,2022.0,2022.0,2022.0,2020.0,2022.0,2020.0,2023.0,2020.0,2018.0,2023.0,2021.0,2022.0,2023.0,2023.0,2022.0,2020.0,2021.0,2021.0,2022.0,2022.0,2019.0,2019.0,2023.0,2022.0,2023.0,2020.0,2023.0,2020.0,2021.0,2021.0,2020.0,2019.0,2020.0,2023.0,2019.0,2023.0,2019.0,2021.0,2021.0,2021.0,2023.0,2021.0,2022.0,2017.0,2017.0,2020.0,2013.0,2020.0,2016.0,2014.0,2011.0,2014.0,2017.0,2016.0,2017.0,2017.0,2017.0,2021.0,2014.0,2013.0,2016.0,2011.0,2013.0,2012.0,2023.0,2018.0,2021.0,2020.0,2017.0,2022.0,2019.0,2021.0,2017.0,2021.0,2023.0,2023.0,2021.0,2023.0,2017.0,2018.0,2019.0,2022.0,2019.0,2019.0,2021.0,2022.0,2016.0,2020.0,2019.0,2022.0,2021.0,2022.0,2015.0,2023.0,2021.0,2023.0,2017.0,2017.0,2016.0,2017.0,2017.0,2020.0,2023.0,2019.0,2022.0,2019.0,2012.0,2017.0,2013.0,2017.0,2017.0,2014.0,2011.0,2017.0,2012.0,2019.0,2023.0,2021.0,2023.0,2022.0,2015.0,2019.0,2021.0,2023.0,2018.0,2023.0,2018.0,2023.0,2021.0,2021.0,2023.0,2022.0,2022.0,2018.0,2017.0,2017.0,2012.0,2018.0,2020.0,2020.0,2023.0,2021.0,2023.0,2023.0,2018.0,2021.0,2022.0,2015.0,2023.0,2023.0,2021.0,2023.0,2022.0,2022.0,2023.0,2020.0,2019.0,2018.0,2023.0,2022.0,2018.0,2023.0,2022.0,2019.0,2021.0,2019.0,2022.0,2022.0,2023.0,2021.0,2023.0,2021.0,2022.0,2018.0,2021.0,2021.0,2020.0,2018.0,2015.0,2022.0,2021.0,2019.0,2019.0,2019.0,2019.0,2022.0,2023.0,2023.0,2021.0,2021.0,2023.0,2021.0,2020.0,2023.0,2021.0,2022.0,2022.0,2022.0,2023.0,2023.0,2020.0,2023.0,2023.0,2021.0,2022.0,2020.0,2023.0,2021.0,2022.0,2021.0,2023.0,2021.0,2019.0,2018.0,2023.0,2020.0,2021.0,2023.0,2023.0,2021.0,2020.0,2023.0,2020.0,2022.0,2018.0,2021.0,2021.0,2016.0,2014.0,2016.0,2017.0,2017.0,2020.0,2021.0,2018.0,2023.0,2023.0,2023.0,2022.0,2022.0,2019.0,2019.0,2020.0,2022.0,2022.0,2018.0,2022.0,2022.0,2017.0,2021.0,2021.0,2021.0,2022.0,2018.0,2023.0,2018.0,2022.0,2020.0,2022.0,2019.0,2022.0,2021.0,2019.0,2023.0,2022.0,2023.0,2019.0,2015.0,2015.0,2022.0,2022.0,2022.0,2020.0,2023.0,2020.0,2021.0,2020.0,2022.0,2023.0,2019.0,2022.0,2019.0,2017.0,2020.0,2020.0,2019.0,2022.0,2023.0,2018.0,2021.0,2023.0,2023.0,2022.0,2023.0,2019.0,2021.0,2017.0,2015.0,2022.0,2021.0,2022.0,2022.0,2019.0,2017.0,2020.0,2022.0,2021.0,2018.0,2019.0,2017.0,2017.0,2019.0,2022.0,2023.0,2014.0,2013.0,2022.0,2021.0,2021.0,2021.0,2021.0,2022.0,2019.0,2019.0,2022.0,2021.0,2022.0,2023.0,2023.0,2022.0,2021.0,2023.0,2023.0,2019.0,2017.0,2023.0,2014.0,2021.0,2022.0,2019.0,2019.0,2019.0,2022.0,2022.0,2012.0,2012.0,2013.0,2023.0,2013.0,2022.0,2023.0,2014.0,2019.0,2022.0,2019.0,2021.0,2022.0,2019.0,2022.0,2023.0,2019.0,2022.0,2021.0,2020.0,2022.0,2019.0,2020.0,2020.0,2021.0,2022.0,2018.0,2020.0,2022.0,2020.0,2018.0,2015.0,2015.0,2022.0,2023.0,2020.0,2023.0,2022.0,2020.0,2020.0,2019.0,2023.0,2023.0,2018.0,2021.0,2023.0,2023.0,2021.0,2022.0,2023.0,2018.0,2022.0,2021.0,2022.0,2019.0,2021.0,2020.0,2023.0,2019.0,2023.0,2022.0,2018.0,2022.0,2021.0,2018.0,2023.0,2022.0,2022.0,2021.0,2019.0,2021.0,2021.0,2020.0,2019.0,2023.0,2022.0,2022.0,2020.0,2023.0,2020.0,2022.0,2023.0,2022.0,2021.0,2021.0,2020.0,2023.0,2020.0,2020.0,2022.0,2022.0,2021.0,2023.0,2022.0,2023.0,2018.0,2023.0,2023.0,2023.0,2021.0,2021.0,2020.0,2020.0,2021.0,2021.0,2022.0,2023.0,2023.0,2014.0,2023.0,2019.0,2023.0,2021.0,2023.0,2019.0,2023.0,2023.0,2023.0,2019.0,2021.0,2019.0,2022.0,2020.0,2022.0,2019.0,2023.0,2023.0,2020.0,2022.0,2022.0,2020.0,2023.0,2023.0,2022.0,2015.0,2018.0,2022.0,2018.0,2018.0,2021.0,2023.0,2023.0,2020.0,2020.0,2022.0,2023.0,2019.0,2020.0,2020.0,2021.0,2023.0,2023.0,2022.0,2023.0,2023.0,2015.0,2022.0,2022.0,2023.0,2018.0,2022.0,2018.0,2022.0,2020.0,2018.0,2022.0,2023.0,2015.0,2021.0,2019.0,2021.0,2019.0,2023.0,2023.0,2021.0,2023.0,2017.0,2020.0,2019.0,2022.0,2021.0,2021.0,2017.0,2016.0,2019.0,2012.0,2017.0,2016.0,2013.0,2017.0,2016.0,2016.0,2019.0,2019.0,2017.0,2012.0,2012.0,2016.0,2017.0,2017.0,2022.0,2022.0,2017.0,2023.0,2023.0,2017.0,2022.0,2023.0,2016.0,2014.0,2016.0,2023.0,2022.0,2013.0,2023.0,2012.0,2016.0,2022.0,2019.0,2021.0,2021.0,2020.0,2018.0,2021.0,2022.0,2022.0,2023.0,2021.0,2018.0,2022.0,2022.0,2021.0,2023.0,2017.0,2022.0,2023.0,2021.0,2023.0,2019.0,2022.0,2021.0,2022.0,2021.0,2015.0,2023.0,2021.0,2022.0,2021.0,2018.0,2023.0,2017.0,2016.0,2021.0,2016.0,2016.0,2017.0,2019.0,2022.0,2018.0,2014.0,2017.0,2017.0,2021.0,2022.0,2021.0,2018.0,2018.0,2018.0,2023.0,2023.0,2023.0,2023.0,2022.0,2022.0,2021.0,2021.0,2016.0,2015.0,2022.0,2021.0,2022.0,2021.0,2022.0,2023.0,2020.0,2022.0,2022.0,2022.0,2023.0,2023.0,2021.0,2020.0,2023.0,2018.0,2021.0,2018.0,2022.0,2022.0,2022.0,2020.0,2015.0,2021.0,2020.0,2022.0,2022.0,2018.0,2023.0,2021.0,2022.0,2022.0,2022.0,2022.0,2022.0,2020.0,2019.0,2022.0,2023.0,2023.0,2021.0,2019.0,2021.0,2020.0,2020.0,2020.0,2022.0,2023.0,2020.0,2020.0,2022.0,2023.0,2022.0,2020.0,2023.0,2022.0,2019.0,2022.0,2020.0,2021.0,2023.0,2023.0,2022.0,2022.0,2021.0,2019.0,2016.0,2020.0,2019.0,2021.0,2021.0,2020.0,2020.0,2013.0,2021.0,2020.0,2023.0,2020.0,2023.0,2023.0,2021.0,2021.0,2022.0,2021.0,2020.0,2023.0,2016.0,2012.0,2022.0,2023.0,2023.0,2023.0,2020.0,2016.0,2023.0,2023.0,2022.0,2023.0,2020.0,2018.0,2021.0,2022.0,2023.0,2017.0,2021.0,2021.0,2017.0,2013.0,2016.0,2017.0,2023.0,2016.0,2020.0,2016.0,2017.0,2017.0,2017.0,2017.0,2017.0,2013.0,2017.0,2017.0,2020.0,2023.0,2023.0,2022.0,2023.0,2021.0,2022.0,2020.0,2012.0,2016.0,2017.0,2017.0,2023.0,2014.0,2015.0,2016.0,2017.0,2021.0,2023.0,2018.0,2023.0,2021.0,2020.0,2023.0,2023.0,2019.0,2019.0,2020.0,2018.0,2020.0,2023.0,2018.0,2021.0,2021.0,2022.0,2023.0,2021.0,2021.0,2018.0,2022.0,2021.0,2018.0,2020.0,2022.0,2022.0,2022.0,2022.0,2019.0,2015.0,2022.0,2021.0,2022.0,2022.0,2022.0,2019.0,2023.0,2022.0,2015.0,2022.0,2023.0,2020.0,2021.0,2020.0,2020.0,2020.0,2021.0,2015.0,2019.0,2022.0,2020.0,2020.0,2022.0,2021.0,2023.0,2020.0,2023.0,2019.0,2020.0,2023.0,2018.0,2023.0,2019.0,2022.0,2021.0,2022.0,2023.0,2022.0,2023.0,2023.0,2023.0,2022.0,2023.0,2023.0,2021.0,2021.0,2021.0,2020.0,2018.0,2021.0,2021.0,2021.0,2023.0,2023.0,2021.0,2023.0,2020.0,2018.0,2023.0,2021.0,2018.0,2022.0,2020.0,2021.0,2019.0,2021.0,2023.0,2019.0,2020.0,2023.0,2021.0,2019.0,2019.0,2021.0,2018.0,2023.0,2023.0,2020.0,2023.0,2020.0,2023.0,2023.0,2019.0,2021.0,2023.0,2019.0,2022.0,2021.0,2019.0,2022.0,2023.0,2023.0,2021.0,2022.0,2018.0,2021.0,2021.0,2021.0,2022.0,2023.0,2023.0,2012.0,2016.0,2017.0,2023.0,2022.0,2023.0,2023.0,2022.0,2019.0,2023.0,2022.0,2019.0,2019.0,2021.0,2018.0,2022.0,2019.0,2023.0,2022.0,2021.0,2020.0,2018.0,2022.0,2019.0,2019.0,2021.0,2021.0,2014.0,2019.0,2023.0,2013.0,2021.0,2023.0,2023.0,2023.0,2022.0,2021.0,2023.0,2022.0,2023.0,2018.0,2018.0,2018.0,2019.0,2022.0,2020.0,2021.0,2023.0,2022.0,2023.0,2022.0,2020.0,2021.0,2022.0,2021.0,2022.0,2019.0,2022.0,2023.0,2020.0,2020.0,2022.0,2019.0,2020.0,2020.0,2022.0,2021.0,2019.0,2023.0,2022.0,2020.0,2019.0,2018.0,2023.0,2023.0,2023.0,2021.0,2022.0,2022.0,2023.0,2021.0,2022.0,2022.0,2022.0,2019.0,2023.0,2023.0,2022.0,2023.0,2020.0,2022.0,2021.0,2019.0,2022.0,2018.0,2015.0,2023.0,2021.0,2023.0,2015.0,2023.0,2021.0,2021.0,2021.0,2020.0,2020.0,2023.0,2022.0,2018.0,2022.0,2023.0,2008.0,2017.0,2021.0,2022.0,2017.0,2019.0,2017.0,2017.0,2012.0,2014.0,2016.0,2017.0,2016.0,2011.0,2020.0,2016.0,2022.0,2013.0,2023.0,2016.0,2021.0,2022.0,2022.0,2019.0,2019.0,2014.0,2018.0,2017.0,2011.0,2023.0,2023.0,2016.0,2016.0,2018.0,2019.0,2017.0,null,null,null,null,null,null,null,null,null,null,null,null,null,null,null,null,null,null,null,null,null,null,null,null,null,null,null,null,null,null,null,null,null,null,null,null,null,null,null,null,null,null,null,null,null,null,null,null,null,null,null,null,null,null,null,null,null,null,null,null,null,null,null,null,null,null,null,null,null,null,null,null,null,null,null,null,null,null,null,null,null,null,null,null,null,null,null,null,null,null,null,null,null,null,null,null,null,null,null,null,null,null,null,null,null,null,null,null,null,null,null,null,null,null,null,null,null,null,null,null,null,null,null,null,null,null,null,null,null,null,null,null,null,null,null,null,null,null,null,null,null,null,null,null,null,null,null,null,null,null,null,null,null,null,null,null,null,null,null,null,null,null,null,null,null,null,null,null,null,null,null,null,null,null,null,null,null,null,null,null,null,null,null,null,null,null,null,null,null,null,null,null,null,null,null,null,null,null,null,null,null,null,null,null,null,null,null,null,null,null,null,null,null,null,null,null,null,null,null,null,null,null,null,null,null,null,null,null,null,null,null,null,null,null,null,null,null,null,null,null,null,null,null,null,null,null,null,null,null,null,null,null,null,null,null,null,null,null,null,null,null,null,null,null,null,null,null,null,null,null,null,null,null,null,null,null,null,null,null,null,null,null,null,null,null,null,null,null,null,null,null,null,null,null,null,null,null,null,null,null,null,null,null,null,null,null,null,null,null,null,null,null,null,null,null,null,null,null,null,null,null,null,null,null,null,null,null,null,null,null,null,null,null,null,null,null,null,null,null,null,null,null,null,null,null,null,null,null,null,null,null,null,null,null,null,null,null,null,null,null,null,null,null,null,null,null,null,null,null,null,null,null,null,null,null,null,null,null,null,null,null,null,null,null,null,null,null,null,null,null,null,null,null,null,null,null,null,null,null,null,null,null,null,null,null,null,null,null,null,null,null,null,null,null,null,null,null,null,null,null,null,null,null,null,null,null,null,null,null,null,null,null,null,null,null,null,null,null,null,null,null,null,null,null,null,null,null,null,null,null,null,null,null,null,null,null,null,null,null,null,null,null,null,null,null,null,null,null,null,null,null,null,null,null,null,null,null,null,null,null,null,null,null,null,null,null,null,null,null,null,null,null,null,null,null,null,null,null,null,null,null,null,null,null,null,null,null,null,null,null,null,null,null,null,null,null,null,null,null,null,null,null,null,null,null,null,null,null,null,null,null,null,null,null,null,null,null,null,null,null,null,null,null,null,null,null,null,null,null,null,null,null,null,null,null,null,null,null,null,null,null,null,null,null,null,null,null,null,null,null,null,null,null,null,null,null,null,null,null,null,null,null,null,null,null,null,null,null,null,null,null,null,null,null,null,null,null,null,null,null,null,null,null,null,null,null,null,null,null,null,null,null,null,null,null,null,null,null,null,null,null,null,null,null,null,null,null,null,null,null,null,null,null,null,null,null,null,null,null,null,null,null,null,null,null,null,null,null,null,null,null,null,null,null,null,null,null,null,null,null,null,null,null,null,null,null,null,null,null,null,null,null,null,null,null,null,null,null,null,null,null,null,null,null,null,null,null,null,null,null,null,null,null,null,null,null,null,null,null,null,null,null,null,null,null,null,null,null,null,null,null,null,null,null,null,null,null,null,null,null,null,null,null,null,null,null,null,null,null,null,null,null,null,null,null,null,null,null,null,null,null,null,null,null,null,null,null,null,null,null,null,null,null,null,null,null,null,null,null,null,null,null,null,null,null,null,null,null,null,null,null,null,null,null,null,null,null,null,null,null,null,null,null,null,null,null,null,null,null,null,null,null,null,null,null,null,null,null,null,null,null,null,null,null,null,null,null,null,null,null,null,null,null,null,null,null,null,null,null,null,null,null,null,null,null,null,null,null,null,null,null,null,null,null,null,null,null,null,null,null,null,null,null,null,null,null,null,null,null,null,null,null,null,null,null,null,null,null,null,null,null,null,null,null,null,null,null,null,null,null,null,null,null,null,null,null,null,null,null,null,null,null,null,null,null,null,null,null,null,null,null,null,null,null,null,null,null,null,null,null,null,null,null,null,null,null,null,null,null,null,null,null,null,null,null,null,null,null,null,null,null,null,null,null,null,null,null,null,null,null,null,null,null,null,null,null,null,null,null,null,null,null,null,null,null,null,null,null,null,null,null,null,null,null,null,null,null,null,null,null,null,null,null,null,null,null,null,null,null,null,null,null,null,null,null,null,null,null,null,null,null,null,null,null,null,null,null,null,null,null,null,null,null,null,null,null,null,null,null,null,null,null,null,null,null,null,null,null,null,null,null,null,null,null,null,null,null,null,null,null,null,null,null,null,null,null,null,null,null,null,null,null,null,null,null,null,null,null,null,null,null,null,null,null,null,null,null,null,null,null,null,null,null,null,null,null,null,null,null,null,null,null,null,null,null,null,null,null,null,null,null,null,null,null,null,null,null,null,null,null,null,null,null,null,null,null,null,null,null,null,null,null,null,null,null,null,null,null,null,null,null,null,null,null,null,null,null,null,null,null,null,null,null,null,null,null,null,null,null,null,null,null,null,null,null,null,null,null,null,null,null,null,null,null,null,null,null,null,null,null,null,null,null,null,null,null,null,null,null,null,null,null,null,null,null,null,null,null,null,null,null,null,null,null,null,null,null,null,null,null,null,null,null,null,null,null,null,null,null,null,null,null,null,null,null,null,null,null,null,null,null,null,null,null,null,null,null,null,null,null,null,null,null,null,null,null,null,null,null,null,null,null,null,null,null,null,null,null,null,null,null,null,null,null,null,null,null,null,null,null,null,null,null,null,null,null,null,null,null,null,null,null,null],\"xaxis\":\"x\",\"yaxis\":\"y\",\"type\":\"histogram\"},{\"alignmentgroup\":\"True\",\"bingroup\":\"x\",\"hovertemplate\":\"DataFrame=all time\\u003cbr\\u003eCount=%{x}\\u003cbr\\u003ecount=%{y}\\u003cextra\\u003e\\u003c\\u002fextra\\u003e\",\"legendgroup\":\"all time\",\"marker\":{\"color\":\"orange\",\"pattern\":{\"shape\":\"\"}},\"name\":\"all time\",\"offsetgroup\":\"all time\",\"orientation\":\"v\",\"showlegend\":true,\"x\":[2023.0,2022.0,2023.0,2022.0,2023.0,2019.0,2022.0,2023.0,2022.0,2023.0,2018.0,2022.0,2019.0,2019.0,2021.0,2018.0,2022.0,2019.0,2022.0,2023.0,2020.0,2023.0,2022.0,2019.0,2022.0,2017.0,2023.0,2023.0,2023.0,2022.0,2022.0,2023.0,2022.0,2023.0,2017.0,2021.0,2018.0,2022.0,2020.0,2022.0,2020.0,2019.0,2022.0,2023.0,2023.0,2019.0,2023.0,2019.0,2021.0,2023.0,2022.0,2021.0,2020.0,2021.0,2023.0,2023.0,2022.0,2023.0,2023.0,2023.0,2019.0,2023.0,2022.0,2023.0,2018.0,2023.0,2021.0,2021.0,2022.0,2021.0,2023.0,2019.0,2023.0,2022.0,2021.0,2021.0,2021.0,2022.0,2023.0,2023.0,2020.0,2020.0,2018.0,2019.0,2022.0,2021.0,2022.0,2023.0,2018.0,2019.0,2020.0,2018.0,2021.0,2020.0,2022.0,2021.0,2021.0,2023.0,2022.0,2023.0,2023.0,2023.0,2018.0,2019.0,2020.0,2022.0,2022.0,2023.0,2021.0,2022.0,2023.0,2023.0,2023.0,2022.0,2021.0,2018.0,2023.0,2023.0,2022.0,2019.0,2023.0,2020.0,2020.0,2023.0,2023.0,2021.0,2021.0,2020.0,2018.0,2019.0,2021.0,2020.0,2018.0,2018.0,2023.0,2023.0,2021.0,2020.0,2018.0,2021.0,2018.0,2019.0,2023.0,2020.0,2022.0,2023.0,2022.0,2023.0,2022.0,2022.0,2022.0,2021.0,2019.0,2023.0,2023.0,2022.0,2021.0,2023.0,2019.0,2018.0,2022.0,2021.0,2020.0,2018.0,2018.0,2023.0,2022.0,2020.0,2023.0,2020.0,2023.0,2019.0,2021.0,2022.0,2021.0,2022.0,2022.0,2022.0,2020.0,2023.0,2021.0,2023.0,2018.0,2017.0,2016.0,2016.0,2019.0,2021.0,2022.0,2017.0,2021.0,2017.0,2018.0,2018.0,2020.0,2021.0,2016.0,2019.0,2019.0,2022.0,2015.0,2020.0,2017.0,2022.0,2022.0,2023.0,2017.0,2020.0,2019.0,2015.0,2023.0,2019.0,2020.0,2022.0,2019.0,2022.0,2022.0,2022.0,2022.0,2023.0,2023.0,2019.0,2022.0,2022.0,2019.0,2023.0,2022.0,2022.0,2022.0,2023.0,2023.0,2019.0,2022.0,2021.0,2015.0,2023.0,2019.0,2023.0,2023.0,2020.0,2018.0,2021.0,2022.0,2022.0,2022.0,2022.0,2018.0,2022.0,2023.0,2021.0,2021.0,2023.0,2023.0,2021.0,2020.0,2021.0,2023.0,2021.0,2022.0,2019.0,2021.0,2021.0,2022.0,2021.0,2018.0,2019.0,2022.0,2021.0,2023.0,2023.0,2021.0,2019.0,2021.0,2018.0,2020.0,2019.0,2020.0,2022.0,2019.0,2023.0,2019.0,2022.0,2020.0,2018.0,2021.0,2022.0,2023.0,2020.0,2022.0,2021.0,2019.0,2021.0,2018.0,2023.0,2021.0,2022.0,2023.0,2021.0,2023.0,2022.0,2022.0,2018.0,2020.0,2021.0,2023.0,2021.0,2020.0,2018.0,2022.0,2018.0,2019.0,2020.0,2020.0,2020.0,2023.0,2022.0,2018.0,2020.0,2022.0,2022.0,2020.0,2018.0,2022.0,2021.0,2021.0,2020.0,2019.0,2020.0,2020.0,2022.0,2023.0,2020.0,2020.0,2021.0,2021.0,2021.0,2021.0,2022.0,2022.0,2023.0,2022.0,2020.0,2021.0,2018.0,2023.0,2022.0,2022.0,2021.0,2023.0,2022.0,2022.0,2022.0,2022.0,2019.0,2023.0,2020.0,2023.0,2022.0,2021.0,2020.0,2021.0,2022.0,2022.0,2021.0,2022.0,2021.0,2023.0,2023.0,2022.0,2020.0,2020.0,2015.0,2022.0,2018.0,2022.0,2020.0,2020.0,2019.0,2021.0,2023.0,2019.0,2022.0,2019.0,2019.0,2019.0,2022.0,2022.0,2023.0,2023.0,2023.0,2015.0,2023.0,2020.0,2022.0,2022.0,2019.0,2021.0,2023.0,2021.0,2021.0,2022.0,2021.0,2019.0,2020.0,2021.0,2021.0,2022.0,2016.0,2014.0,2016.0,2016.0,2023.0,2022.0,2019.0,2019.0,2023.0,2022.0,2022.0,2021.0,2023.0,2023.0,2023.0,2018.0,2021.0,2018.0,2023.0,2019.0,2022.0,2022.0,2019.0,2023.0,2023.0,2019.0,2020.0,2022.0,2018.0,2023.0,2020.0,2018.0,2020.0,2019.0,2022.0,2021.0,2020.0,2021.0,2023.0,2018.0,2023.0,2020.0,2023.0,2021.0,2021.0,2021.0,2022.0,2022.0,2020.0,2020.0,2022.0,2018.0,2022.0,2020.0,2022.0,2019.0,2021.0,2022.0,2022.0,2020.0,2023.0,2021.0,2023.0,2019.0,2021.0,2021.0,2021.0,2023.0,2018.0,2021.0,2022.0,2020.0,2021.0,2021.0,2021.0,2022.0,2019.0,2020.0,2022.0,2021.0,2021.0,2020.0,2023.0,2023.0,2020.0,2019.0,2023.0,2019.0,2022.0,2022.0,2021.0,2021.0,2020.0,2023.0,2022.0,2019.0,2022.0,2023.0,2023.0,2022.0,2018.0,2022.0,2023.0,2019.0,2023.0,2021.0,2023.0,2022.0,2023.0,2023.0,2019.0,2021.0,2023.0,2023.0,2018.0,2022.0,2019.0,2023.0,2020.0,2021.0,2022.0,2023.0,2023.0,2022.0,2022.0,2023.0,2021.0,2020.0,2023.0,2021.0,2021.0,2019.0,2023.0,2023.0,2019.0,2023.0,2019.0,2022.0,2018.0,2023.0,2021.0,2023.0,2021.0,2023.0,2019.0,2021.0,2018.0,2023.0,2021.0,2023.0,2020.0,2019.0,2023.0,2015.0,2022.0,2017.0,2023.0,2017.0,2023.0,2023.0,2023.0,2022.0,2020.0,2020.0,2019.0,2020.0,2022.0,2020.0,2018.0,2021.0,2021.0,2022.0,2022.0,2023.0,2018.0,2018.0,2021.0,2019.0,2023.0,2021.0,2022.0,2019.0,2021.0,2019.0,2023.0,2019.0,2022.0,2021.0,2022.0,2015.0,2023.0,2023.0,2018.0,2015.0,2023.0,2021.0,2023.0,2022.0,2023.0,2023.0,2020.0,2023.0,2021.0,2021.0,2023.0,2020.0,2023.0,2023.0,2022.0,2021.0,2021.0,2023.0,2021.0,2023.0,2022.0,2021.0,2016.0,2021.0,2021.0,2022.0,2021.0,2023.0,2022.0,2014.0,2017.0,2013.0,2016.0,2012.0,2019.0,2022.0,2015.0,2021.0,2016.0,2022.0,2023.0,2023.0,2018.0,2020.0,2022.0,2023.0,2021.0,2021.0,2022.0,2023.0,2022.0,2020.0,2022.0,2022.0,2023.0,2022.0,2010.0,2023.0,2020.0,2020.0,2021.0,2008.0,2020.0,2022.0,2023.0,2020.0,2023.0,2020.0,2021.0,2022.0,2019.0,2022.0,2023.0,2017.0,2019.0,2021.0,2019.0,2023.0,2017.0,2019.0,2019.0,2022.0,2013.0,2017.0,2021.0,2017.0,2022.0,2021.0,2021.0,2020.0,2019.0,2023.0,2017.0,2023.0,2022.0,2020.0,2023.0,2021.0,2022.0,2019.0,2021.0,2018.0,2019.0,2023.0,2018.0,2023.0,2022.0,2021.0,2023.0,2021.0,2018.0,2020.0,2022.0,2021.0,2021.0,2016.0,2016.0,2016.0,2022.0,2019.0,2017.0,2018.0,2018.0,2023.0,2021.0,2022.0,2021.0,2016.0,2013.0,2022.0,2019.0,2021.0,2019.0,2019.0,2017.0,2017.0,2014.0,2014.0,2013.0,2021.0,2021.0,2022.0,2020.0,2021.0,2021.0,2020.0,2018.0,2022.0,2015.0,2018.0,2019.0,2018.0,2023.0,2021.0,2019.0,2021.0,2021.0,2022.0,2020.0,2020.0,2021.0,2020.0,2023.0,2022.0,2022.0,2019.0,2022.0,2019.0,2023.0,2019.0,2019.0,2023.0,2020.0,2022.0,2023.0,2019.0,2018.0,2021.0,2023.0,2023.0,2019.0,2019.0,2021.0,2021.0,2019.0,2021.0,2022.0,2019.0,2022.0,2023.0,2021.0,2018.0,2020.0,2020.0,2021.0,2021.0,2018.0,2020.0,2023.0,2022.0,2023.0,2021.0,2020.0,2021.0,2022.0,2021.0,2019.0,2021.0,2020.0,2022.0,2022.0,2023.0,2021.0,2022.0,2023.0,2013.0,2017.0,2017.0,2017.0,2023.0,2020.0,2023.0,2019.0,2023.0,2023.0,2020.0,2022.0,2021.0,2022.0,2023.0,2021.0,2022.0,2019.0,2018.0,2022.0,2021.0,2023.0,2020.0,2023.0,2023.0,2022.0,2022.0,2022.0,2020.0,2023.0,2023.0,2021.0,2020.0,2022.0,2021.0,2019.0,2020.0,2016.0,2017.0,2014.0,2019.0,2013.0,2018.0,2020.0,2019.0,2019.0,2019.0,2022.0,2022.0,2022.0,2021.0,2021.0,2017.0,2017.0,2020.0,2023.0,2021.0,2023.0,2023.0,2022.0,2019.0,2020.0,2018.0,2022.0,2022.0,2018.0,2014.0,2021.0,2021.0,2023.0,2018.0,2023.0,2023.0,2018.0,2022.0,2022.0,2021.0,2020.0,2018.0,2021.0,2019.0,2018.0,2021.0,2021.0,2021.0,2021.0,2020.0,2023.0,2022.0,2023.0,2021.0,2019.0,2022.0,2022.0,2023.0,2023.0,2023.0,2019.0,2023.0,2022.0,2021.0,2022.0,2021.0,2021.0,2019.0,2021.0,2021.0,2020.0,2023.0,2017.0,2019.0,2017.0,2017.0,2013.0,2016.0,2016.0,2023.0,2016.0,2023.0,2020.0,2014.0,2020.0,2019.0,2022.0,2022.0,2022.0,2022.0,2023.0,2018.0,2020.0,2023.0,2021.0,2023.0,2021.0,2023.0,2021.0,2020.0,2019.0,2023.0,2017.0,2022.0,2017.0,2019.0,2022.0,2022.0,2021.0,2022.0,2022.0,2022.0,2020.0,2021.0,2023.0,2021.0,2022.0,2021.0,2020.0,2019.0,2021.0,2019.0,2020.0,2019.0,2021.0,2018.0,2021.0,2023.0,2021.0,2019.0,2021.0,2021.0,2022.0,2023.0,2021.0,2023.0,2020.0,2018.0,2023.0,2020.0,2019.0,2019.0,2022.0,2021.0,2023.0,2022.0,2022.0,2022.0,2020.0,2019.0,2020.0,2023.0,2019.0,2020.0,2022.0,2022.0,2020.0,2020.0,2023.0,2023.0,2023.0,2021.0,2019.0,2022.0,2021.0,2019.0,2019.0,2021.0,2018.0,2021.0,2023.0,2023.0,2021.0,2021.0,2019.0,2019.0,2020.0,2022.0,2018.0,2022.0,2021.0,2018.0,2022.0,2022.0,2023.0,2022.0,2023.0,2019.0,2018.0,2020.0,2015.0,2019.0,2023.0,2023.0,2020.0,2019.0,2015.0,2020.0,2022.0,2021.0,2022.0,2020.0,2018.0,2022.0,2020.0,2022.0,2021.0,2021.0,2018.0,2022.0,2022.0,2018.0,2018.0,2019.0,2022.0,2018.0,2020.0,2023.0,2017.0,2014.0,2021.0,2019.0,2022.0,2018.0,2018.0,2020.0,2017.0,2022.0,2019.0,2022.0,2021.0,2016.0,2022.0,2018.0,2020.0,2021.0,2022.0,2015.0,2020.0,2016.0,2020.0,2020.0,2020.0,2017.0,2017.0,2014.0,2019.0,2020.0,2022.0,2023.0,2020.0,2022.0,2023.0,2023.0,2022.0,2022.0,2020.0,2022.0,2022.0,2023.0,2018.0,2022.0,2021.0,2015.0,2019.0,2018.0,2019.0,2023.0,2022.0,2020.0,2023.0,2015.0,2023.0,2021.0,2019.0,2023.0,2021.0,2022.0,2020.0,2022.0,2021.0,2019.0,2023.0,2021.0,2020.0,2021.0,2021.0,2020.0,2022.0,2018.0,2017.0,2013.0,2016.0,2017.0,2016.0,2018.0,2023.0,2020.0,2021.0,2023.0,2023.0,2020.0,2019.0,2022.0,2023.0,2018.0,2020.0,2020.0,2022.0,2023.0,2021.0,2023.0,2022.0,2022.0,2023.0,2018.0,2021.0,2021.0,2021.0,2018.0,2023.0,2022.0,2021.0,2022.0,2022.0,2022.0,2021.0,2018.0,2021.0,2018.0,2020.0,2022.0,2018.0,2021.0,2021.0,2023.0,2023.0,2022.0,2020.0,2022.0,2021.0,2022.0,2022.0,2022.0,2023.0,2020.0,2022.0,2023.0,2022.0,2023.0,2023.0,2018.0,2020.0,2021.0,2021.0,2021.0,2022.0,2023.0,2019.0,2018.0,2020.0,2021.0,2021.0,2019.0,2023.0,2021.0,2023.0,2022.0,2019.0,2021.0,2021.0,2018.0,2018.0,2023.0,2021.0,2021.0,2023.0,2016.0,2012.0,2020.0,2020.0,2022.0,2022.0,2023.0,2018.0,2023.0,2020.0,2023.0,2021.0,2020.0,2020.0,2020.0,2021.0,2023.0,2022.0,2018.0,2019.0,2020.0,2022.0,2023.0,2022.0,2022.0,2022.0,2023.0,2023.0,2018.0,2023.0,2022.0,2022.0,2023.0,2021.0,2020.0,2023.0,2021.0,2019.0,2018.0,2022.0,2021.0,2018.0,2021.0,2022.0,2021.0,2022.0,2021.0,2019.0,2018.0,2021.0,2021.0,2021.0,2020.0,2019.0,2019.0,2022.0,2018.0,2023.0,2023.0,2023.0,2023.0,2020.0,2020.0,2022.0,2019.0,2021.0,2023.0,2021.0,2019.0,2022.0,2022.0,2023.0,2022.0,2019.0,2021.0,2022.0,2022.0,2023.0,2021.0,2018.0,2022.0,2022.0,2019.0,2022.0,2022.0,2021.0,2021.0,2022.0,2022.0,2022.0,2022.0,2022.0,2022.0,2019.0,2019.0,2020.0,2022.0,2020.0,2023.0,2019.0,2020.0,2020.0,2023.0,2023.0,2021.0,2020.0,2020.0,2021.0,2017.0,2018.0,2021.0,2022.0,2018.0,2023.0,2023.0,2020.0,2021.0,2021.0,2022.0,2021.0,2023.0,2023.0,2023.0,2023.0,2021.0,2019.0,2022.0,2020.0,2021.0,2022.0,2019.0,2022.0,2022.0,2022.0,2021.0,2020.0,2021.0,2021.0,2021.0,2018.0,2020.0,2018.0,2023.0,2020.0,2019.0,2023.0,2020.0,2020.0,2021.0,2020.0,2023.0,2015.0,2020.0,2022.0,2023.0,2020.0,2022.0,2022.0,2021.0,2023.0,2018.0,2022.0,2021.0,2021.0,2023.0,2021.0,2023.0,2022.0,2019.0,2019.0,2022.0,2021.0,2019.0,2021.0,2021.0,2023.0,2017.0,2022.0,2022.0,2021.0,2022.0,2023.0,2022.0,2022.0,2022.0,2021.0,2015.0,2019.0,2020.0,2015.0,2021.0,2019.0,2018.0,2021.0,2023.0,2021.0,2015.0,2022.0,2023.0,2020.0,2023.0,2023.0,2016.0,2022.0,2023.0,2016.0,2022.0,2023.0,2021.0,2023.0,2023.0,2020.0,2023.0,2022.0,2021.0,2023.0,2020.0,2018.0,2021.0,2020.0,2018.0,2021.0,2023.0,2023.0,2022.0,2021.0,2021.0,2020.0,2022.0,2021.0,2019.0,2021.0,2022.0,2021.0,2023.0,2021.0,2021.0,2021.0,2021.0,2022.0,2020.0,2020.0,2021.0,2020.0,2021.0,2023.0,2022.0,2020.0,2022.0,2017.0,2023.0,2020.0,2022.0,2018.0,2022.0,2020.0,2023.0,2021.0,2020.0,2018.0,2023.0,2021.0,2019.0,2023.0,2022.0,2021.0,2023.0,2022.0,2020.0,2022.0,2021.0,2022.0,2018.0,2021.0,2019.0,2020.0,2021.0,2018.0,2022.0,2023.0,2022.0,2016.0,2017.0,2021.0,2021.0,2022.0,2023.0,2020.0,2016.0,2014.0,2017.0,2017.0,2017.0,2016.0,2017.0,2016.0,2022.0,2022.0,2023.0,2018.0,2021.0,2023.0,2014.0,2023.0,2022.0,2023.0,2023.0,2020.0,2021.0,2022.0,2021.0,2020.0,2017.0,2013.0,2017.0,2014.0,2023.0,2019.0,2020.0,2021.0,2022.0,2021.0,2021.0,2023.0,2019.0,2021.0,2021.0,2023.0,2021.0,2015.0,2022.0,2023.0,2023.0,2023.0,2015.0,2019.0,2023.0,2019.0,2021.0,2021.0,2020.0,2023.0,2021.0,2022.0,2022.0,2019.0,2023.0,2022.0,2022.0,2022.0,2023.0,2022.0,2023.0,2021.0,2021.0,2020.0,2022.0,2021.0,2017.0,2012.0,2017.0,2021.0,2020.0,2022.0,2022.0,2022.0,2023.0,2018.0,2023.0,2022.0,2021.0,2019.0,2021.0,2017.0,2021.0,2019.0,2022.0,2022.0,2018.0,2021.0,2021.0,2021.0,2023.0,2023.0,2021.0,2020.0,2017.0,2016.0,2023.0,2014.0,2019.0,2022.0,2020.0,2021.0,2019.0,2021.0,2023.0,2017.0,2019.0,2023.0,2021.0,2021.0,2023.0,2021.0,2016.0,2023.0,2014.0,2019.0,2023.0,2019.0,2022.0,2022.0,2017.0,2018.0,2020.0,2023.0,2021.0,2023.0,2023.0,2018.0,2023.0,2019.0,2020.0,2022.0,2023.0,2023.0,2019.0,2018.0,2022.0,2022.0,2022.0,2023.0,2020.0,2022.0,2022.0,2023.0,2020.0,2021.0,2022.0,2021.0,2022.0,2019.0,2019.0,2023.0,2021.0,2023.0,2021.0,2022.0,2023.0,2021.0,2019.0,2023.0,2021.0,2020.0,2022.0,2015.0,2023.0,2023.0,2022.0,2022.0,2021.0,2023.0,2020.0,2022.0,2019.0,2022.0,2022.0,2020.0,2022.0,2022.0,2018.0,2022.0,2016.0,2019.0,2022.0,2021.0,2022.0,2022.0,2022.0,2019.0,2018.0,2023.0,2021.0,2022.0,2018.0,2020.0,2021.0,2020.0,2018.0,2020.0,2020.0,2021.0,2023.0,2021.0,2021.0,2021.0,2020.0,2018.0,2022.0,2019.0,2021.0,2019.0,2022.0,2021.0,2019.0,2023.0,2023.0,2022.0,2022.0,2023.0,2023.0,2023.0,2019.0,2019.0,2023.0,2021.0,2023.0,2023.0,2019.0,2023.0,2020.0,2021.0,2022.0,2020.0,2020.0,2019.0,2018.0,2018.0,2019.0,2021.0,2022.0,2023.0,2019.0,2019.0,2018.0,2023.0,2019.0,2023.0,2021.0,2019.0,2020.0,2022.0,2021.0,2020.0,2022.0,2021.0,2022.0,2021.0,2021.0,2019.0,2022.0,2022.0,2023.0,2019.0,2022.0,2020.0,2023.0,2023.0,2022.0,2023.0,2020.0,2022.0,2022.0,2021.0,2023.0,2021.0,2023.0,2021.0,2022.0,2023.0,2023.0,2021.0,2018.0,2017.0,2022.0,2018.0,2020.0,2022.0,2019.0,2022.0,2022.0,2018.0,2015.0,2021.0,2016.0,2022.0,2023.0,2021.0,2020.0,2019.0,2017.0,2019.0,2020.0,2014.0,2022.0,2021.0,2019.0,2021.0,2022.0,2021.0,2022.0,2020.0,2020.0,2021.0,2021.0,2021.0,2023.0,2023.0,2018.0,2018.0,2023.0,2022.0,2021.0,2018.0,2022.0,2021.0,2020.0,2020.0,2023.0,2022.0,2023.0,2018.0,2022.0,2021.0,2020.0,2023.0,2021.0,2020.0,2022.0,2021.0,2020.0,2022.0,2019.0,2021.0,2020.0,2019.0,2022.0,2022.0,2019.0,2022.0,2023.0,2022.0,2019.0,2023.0,2023.0,2019.0,2023.0,2020.0,2018.0,2023.0,2021.0,2019.0,2020.0,2020.0,2021.0,2019.0,2021.0,2022.0,2018.0,2018.0,2022.0,2021.0,2019.0,2019.0,2023.0,2023.0,2023.0,2022.0,2022.0,2022.0,2023.0,2023.0,2021.0,2018.0,2023.0,2021.0,2022.0,2021.0,2023.0,2015.0,2021.0,2023.0,2023.0,2018.0,2018.0,2020.0,2020.0,2023.0,2022.0,2023.0,2023.0,2018.0,2019.0,2023.0,2020.0,2023.0,2023.0,2021.0,2018.0,2022.0,2021.0,2023.0,2018.0,2020.0,2015.0,2019.0,2019.0,2022.0,2023.0,2018.0,2019.0,2021.0,2020.0,2020.0,2019.0,2021.0,2022.0,2022.0,2020.0,2023.0,2020.0,2023.0,2023.0,2023.0,2023.0,2016.0,2017.0,2017.0,2020.0,2020.0,2021.0,2022.0,2020.0,2019.0,2021.0,2021.0,2023.0,2023.0,2022.0,2021.0,2018.0,2020.0,2022.0,2019.0,2018.0,2023.0,2022.0,2020.0,2020.0,2023.0,2022.0,2023.0,2015.0,2019.0,2023.0,2019.0,2021.0,2020.0,2023.0,2012.0,2022.0,2018.0,2021.0,2021.0,2022.0,2022.0,2020.0,2019.0,2011.0,2016.0,2017.0,2012.0,2013.0,2020.0,2023.0,2023.0,2022.0,2021.0,2019.0,2023.0,2019.0,2021.0,2021.0,2019.0,2023.0,2023.0,2022.0,2022.0,2022.0,2023.0,2016.0,2021.0,2022.0,2022.0,2022.0,2023.0,2022.0,2023.0,2016.0,2014.0,2020.0,2022.0,2015.0,2018.0,2022.0,2019.0,2018.0,2021.0,2023.0,2021.0,2018.0,2018.0,2021.0,2014.0,2022.0,2022.0,2021.0,2021.0,2023.0,2022.0,2022.0,2019.0,2020.0,2017.0,2021.0,2017.0,2016.0,2016.0,2021.0,2018.0,2019.0,2017.0,2018.0,2022.0,2019.0,2018.0,2022.0,2023.0,2021.0,2019.0,2023.0,2022.0,2022.0,2022.0,2022.0,2021.0,2018.0,2022.0,2022.0,2022.0,2020.0,2022.0,2019.0,2020.0,2022.0,2021.0,2020.0,2021.0,2021.0,2021.0,2020.0,2019.0,2022.0,2018.0,2021.0,2021.0,2022.0,2021.0,2018.0,2017.0,2017.0,2017.0,2019.0,2012.0,2016.0,2013.0,2021.0,2023.0,2022.0,2023.0,2022.0,2022.0,2020.0,2023.0,2019.0,2023.0,2019.0,2018.0,2020.0,2020.0,2023.0,2022.0,2023.0,2018.0,2019.0,2021.0,2019.0,2019.0,2023.0,2018.0,2020.0,2018.0,2020.0,2021.0,2018.0,2023.0,2022.0,2020.0,2020.0,2022.0,2023.0,2022.0,2021.0,2021.0,2023.0,2021.0,2022.0,2022.0,2021.0,2023.0,2022.0,2020.0,2018.0,2023.0,2022.0,2023.0,2022.0,2020.0,2021.0,2020.0,2015.0,2023.0,2022.0,2019.0,2022.0,2022.0,2020.0,2023.0,2023.0,2021.0,2020.0,2018.0,2021.0,2023.0,2022.0,2023.0,2018.0,2020.0,2023.0,2019.0,2020.0,2022.0,2023.0,2019.0,2022.0,2023.0,2023.0,2017.0,2016.0,2017.0,2017.0,2017.0,2011.0,2017.0,2015.0,2020.0,2021.0,2023.0,2016.0,2019.0,2019.0,2023.0,2020.0,2021.0,2020.0,2022.0,2014.0,2016.0,2017.0,2021.0,2023.0,2019.0,2019.0,2023.0,2022.0,2017.0,2017.0,2022.0,2020.0,2023.0,2017.0,2014.0,2013.0,2021.0,2021.0,2018.0,2021.0,2022.0,2019.0,2019.0,2021.0,2017.0,2017.0,2017.0,2016.0,2017.0,2018.0,2019.0,2022.0,2022.0,2020.0,2021.0,2023.0,2019.0,2021.0,2021.0,2021.0,2023.0,2015.0,2020.0,2023.0,2020.0,2023.0,2023.0,2019.0,2021.0,2017.0,2016.0,2017.0,2021.0,2021.0,2021.0,2022.0,2022.0,2018.0,2019.0,2023.0,2019.0,2020.0,2018.0,2019.0,2023.0,2023.0,2023.0,2023.0,2019.0,2022.0,2019.0,2023.0,2021.0,2022.0,2021.0,2020.0,2022.0,2022.0,2022.0,2021.0,2019.0,2021.0,2022.0,2020.0,2015.0,2020.0,2022.0,2019.0,2018.0,2020.0,2013.0,2016.0,2022.0,2022.0,2023.0,2020.0,2020.0,2021.0,2023.0,2020.0,2014.0,2013.0,2016.0,2021.0,2019.0,2022.0,2022.0,2020.0,2019.0,2021.0,2022.0,2018.0,2022.0,2020.0,2017.0,2017.0,2017.0,2023.0,2020.0,2023.0,2023.0,2023.0,2019.0,2022.0,2018.0,2022.0,2013.0,2014.0,2013.0,2012.0,2016.0,2017.0,2014.0,2017.0,2016.0,2016.0,2017.0,2017.0,2023.0,2018.0,2023.0,2022.0,2021.0,2022.0,2020.0,2019.0,2020.0,2018.0,2023.0,2023.0,2022.0,2022.0,2023.0,2018.0,2023.0,2022.0,2022.0,2020.0,2021.0,2022.0,2018.0,2023.0,2021.0,2019.0,2022.0,2021.0,2022.0,2020.0,2022.0,2019.0,2019.0,2022.0,2023.0,2023.0,2021.0,2021.0,2023.0,2021.0,2018.0,2021.0,2023.0,2022.0,2020.0,2022.0,2021.0,2023.0,2020.0,2021.0,2020.0,2018.0,2020.0,2020.0,2019.0,2020.0,2023.0,2018.0,2022.0,2022.0,2021.0,2022.0,2021.0,2023.0,2021.0,2020.0,2021.0,2020.0,2019.0,2020.0,2015.0,2022.0,2022.0,2021.0,2020.0,2020.0,2021.0,2021.0,2021.0,2020.0,2023.0,2019.0,2023.0,2022.0,2021.0,2022.0,2022.0,2020.0,2022.0,2019.0,2020.0,2016.0,2017.0,2017.0,2023.0,2018.0,2019.0,2022.0,2023.0,2021.0,2019.0,2019.0,2017.0,2017.0,2020.0,2019.0,2019.0,2021.0,2021.0,2021.0,2014.0,2016.0,2017.0,2021.0,2021.0,2017.0,2018.0,2021.0,2023.0,2023.0,2022.0,2012.0,2014.0,2023.0,2019.0,2019.0,2023.0,2023.0,2023.0,2021.0,2019.0,2022.0,2022.0,2021.0,2018.0,2023.0,2021.0,2022.0,2023.0,2022.0,2018.0,2020.0,2021.0,2020.0,2020.0,2021.0,2023.0,2022.0,2021.0,2022.0,2018.0,2018.0,2023.0,2019.0,2023.0,2022.0,2023.0,2023.0,2023.0,2021.0,2020.0,2020.0,2022.0,2017.0,2023.0,2023.0,2023.0,2020.0,2022.0,2022.0,2022.0,2020.0,2023.0,2020.0,2019.0,2020.0,2017.0,2017.0,2019.0,2023.0,2023.0,2023.0,2021.0,2019.0,2020.0,2023.0,2023.0,2023.0,2022.0,2021.0,2023.0,2023.0,2023.0,2022.0,2021.0,2021.0,2023.0,2021.0,2021.0,2021.0,2023.0,2023.0,2022.0,2023.0,2022.0,2021.0,2023.0,2023.0,2020.0,2021.0,2022.0,2023.0,2019.0,2023.0,2021.0,2023.0,2023.0,2022.0,2020.0,2023.0,2021.0,2021.0,2021.0,2017.0,2021.0,2022.0,2023.0,2022.0,2022.0,2021.0,2020.0,2020.0,2021.0,2022.0,2021.0,2020.0,2023.0,2023.0,2022.0,2022.0,2020.0,2022.0,2022.0,2019.0,2021.0,2022.0,2022.0,2023.0,2020.0,2023.0,2020.0,2022.0,2023.0,2019.0,2022.0,2022.0,2023.0,2023.0,2022.0,2022.0,2021.0,2022.0,2022.0,2017.0,2022.0,2018.0,2018.0,2022.0,2019.0,2022.0,2023.0,2018.0,2023.0,2022.0,2022.0,2020.0,2015.0,2020.0,2022.0,2020.0,2019.0,2022.0,2022.0,2021.0,2020.0,2019.0,2023.0,2023.0,2023.0,2023.0,2021.0,2022.0,2021.0,2017.0,2017.0,2017.0,2022.0,2019.0,2022.0,2022.0,2023.0,2020.0,2018.0,2022.0,2020.0,2019.0,2022.0,2021.0,2019.0,2019.0,2022.0,2021.0,2020.0,2021.0,2020.0,2023.0,2022.0,2021.0,2023.0,2023.0,2021.0,2023.0,2023.0,2021.0,2022.0,2022.0,2020.0,2019.0,2022.0,2020.0,2023.0,2023.0,2021.0,2021.0,2023.0,2020.0,2018.0,2022.0,2023.0,2023.0,2023.0,2022.0,2023.0,2015.0,2023.0,2022.0,2019.0,2015.0,2022.0,2021.0,2020.0,2021.0,2018.0,2023.0,2022.0,2023.0,2023.0,2021.0,2023.0,2021.0,2019.0,2022.0,2021.0,2021.0,2023.0,2020.0,2019.0,2018.0,2023.0,2021.0,2021.0,2022.0,2019.0,2020.0,2021.0,2022.0,2022.0,2023.0,2022.0,2018.0,2021.0,2018.0,2023.0,2021.0,2020.0,2022.0,2021.0,2015.0,2021.0,2020.0,2020.0,2020.0,2018.0,2022.0,2023.0,2022.0,2021.0,2023.0,2018.0,2018.0,2019.0,2020.0,2018.0,2023.0,2022.0,2019.0,2019.0,2019.0,2018.0,2022.0,2023.0,2022.0,2023.0,2022.0,2020.0,2023.0,2020.0,2022.0,2022.0,2018.0,2021.0,2022.0,2019.0,2023.0,2022.0,2021.0,2023.0,2022.0,2023.0,2022.0,2023.0,2022.0,2022.0,2020.0,2019.0,2019.0,2023.0,2021.0,2018.0,2022.0,2018.0,2019.0,2022.0,2022.0,2018.0,2021.0,2022.0,2019.0,2022.0,2018.0,2023.0,2022.0,2019.0,2022.0,2022.0,2022.0,2022.0,2019.0,2020.0,2021.0,2021.0,2019.0,2023.0,2021.0,2023.0,2021.0,2021.0,2022.0,2021.0,2021.0,2019.0,2022.0,2020.0,2023.0,2023.0,2023.0,2021.0,2018.0,2020.0,2020.0,2023.0,2023.0,2022.0,2019.0,2021.0,2023.0,2021.0,2022.0,2019.0,2019.0,2023.0,2021.0,2021.0,2023.0,2023.0,2023.0,2022.0,2023.0,2019.0,2018.0,2015.0,2022.0,2023.0,2020.0,2019.0,2023.0,2023.0,2022.0,2019.0,2022.0,2021.0,2021.0,2022.0,2023.0,2023.0,2023.0,2022.0,2022.0,2020.0,2023.0,2019.0,2020.0,2019.0,2020.0,2023.0,2020.0,2018.0,2021.0,2020.0,2019.0,2023.0,2023.0,2022.0,2022.0,2022.0,2023.0,2021.0,2019.0,2022.0,2020.0,2023.0,2022.0,2023.0,2023.0,2021.0,2018.0,2021.0,2023.0,2018.0,2021.0,2020.0,2022.0,2021.0,2022.0,2022.0,2023.0,2022.0,2019.0,2020.0,2023.0,2019.0,2018.0,2021.0,2021.0,2023.0,2022.0,2014.0,2016.0,2016.0,2022.0,2019.0,2020.0,2023.0,2022.0,2023.0,2022.0,2022.0,2023.0,2019.0,2019.0,2022.0,2021.0,2021.0,2019.0,2022.0,2017.0,2023.0,2023.0,2023.0,2022.0,2019.0,2022.0,2022.0,2022.0,2019.0,2023.0,2021.0,2020.0,2023.0,2023.0,2019.0,2021.0,2020.0,2019.0,2023.0,2020.0,2022.0,2019.0,2018.0,2022.0,2022.0,2023.0,2022.0,2022.0,2019.0,2023.0,2019.0,2020.0,2022.0,2023.0,2022.0,2023.0,2020.0,2018.0,2023.0,2020.0,2022.0,2022.0,2021.0,2023.0,2022.0,2019.0,2021.0,2020.0,2020.0,2021.0,2022.0,2020.0,2021.0,2019.0,2018.0,2020.0,2022.0,2021.0,2023.0,2023.0,2021.0,2023.0,2021.0,2021.0,2018.0,2018.0,2022.0,2018.0,2023.0,2018.0,2022.0,2021.0,2019.0,2020.0,2023.0,2023.0,2019.0,2021.0,2021.0,2019.0,2023.0,2022.0,2022.0,2020.0,2022.0,2023.0,2023.0,2023.0,2020.0,2022.0,2019.0,2022.0,2020.0,2021.0,2020.0,2021.0,2020.0,2022.0,2021.0,2023.0,2023.0,2020.0,2022.0,2023.0,2021.0,2020.0,2021.0,2023.0,2023.0,2020.0,2019.0,2023.0,2018.0,2022.0,2023.0,2021.0,2019.0,2018.0,2021.0,2023.0,2022.0,2019.0,2020.0,2023.0,2021.0,2021.0,2020.0,2022.0,2022.0,2021.0,2021.0,2020.0,2023.0,2022.0,2021.0,2023.0,2021.0,2020.0,2018.0,2023.0,2023.0,2023.0,2021.0,2023.0,2022.0,2019.0,2019.0,2019.0,2023.0,2020.0,2023.0,2021.0,2022.0,2020.0,2021.0,2022.0,2021.0,2022.0,2019.0,2022.0,2021.0,2023.0,2017.0,2008.0,2021.0,2023.0,2021.0,2017.0,2021.0,2019.0,2022.0,2023.0,2022.0,2022.0,2020.0,2023.0,2018.0,2023.0,2020.0,2020.0,2022.0,2014.0,2017.0,2021.0,2019.0,2020.0,2023.0,2019.0,2021.0,2019.0,2019.0,2018.0,2022.0,2019.0,2019.0,2019.0,2022.0,2020.0,2023.0,2020.0,2023.0,2021.0,2023.0,2023.0,2022.0,2023.0,2021.0,2021.0,2023.0,2020.0,2017.0,2017.0,2020.0,2021.0,2020.0,2023.0,2022.0,2020.0,2022.0,2019.0,2023.0,2023.0,2019.0,2020.0,2023.0,2023.0,2021.0,2022.0,2021.0,2020.0,2019.0,2021.0,2021.0,2022.0,2021.0,2019.0,2022.0,2020.0,2022.0,2021.0,2023.0,2023.0,2019.0,2022.0,2022.0,2023.0,2021.0,2020.0,2020.0,2022.0,2019.0,2022.0,2020.0,2023.0,2023.0,2019.0,2020.0,2022.0,2021.0,2019.0,2023.0,2023.0,2023.0,2021.0,2022.0,2017.0,2021.0,2020.0,2020.0,2023.0,2021.0,2019.0,2022.0,2023.0,2021.0,2018.0,2022.0,2012.0,2022.0,2023.0,2023.0,2021.0,2020.0,2022.0,2023.0,2021.0,2022.0,2019.0,2018.0,2022.0,2019.0,2017.0,2023.0,2018.0,2018.0,2016.0,2023.0,2012.0,2023.0,2023.0,2018.0,2021.0,2017.0,2014.0,2019.0,2013.0,2013.0,2023.0,2023.0,2022.0,2017.0,2017.0,2017.0,2022.0,2016.0,2017.0,2014.0,2022.0,2019.0,2022.0,2022.0,2022.0,2023.0,2023.0,2023.0,2018.0,2019.0,2023.0,2023.0,2021.0,2022.0,2022.0,2023.0,2019.0,2023.0,2022.0,2020.0,2022.0,2023.0,2021.0,2022.0,2019.0,2023.0,2019.0,2022.0,2020.0,2019.0,2023.0,2020.0,2019.0,2021.0,2022.0,2019.0,2018.0,2018.0,2021.0,2023.0,2020.0,2023.0,2020.0,2023.0,2018.0,2023.0,2020.0,2021.0,2022.0,2015.0,2019.0,2023.0,2022.0,2022.0,2023.0,2022.0,2017.0,2023.0,2013.0,2023.0,2018.0,2019.0,2020.0,2021.0,2020.0,2017.0,2017.0,2016.0,2016.0,2018.0,2020.0,2022.0,2023.0,2018.0,2022.0,2020.0,2018.0,2018.0,2021.0,2018.0,2019.0,2022.0,2021.0,2018.0,2020.0,2021.0,2018.0,2020.0,2020.0,2019.0,2016.0,2018.0,2017.0,2016.0,2022.0,2020.0,2019.0,2015.0,2023.0,2021.0,2021.0,2023.0,2023.0,2019.0,2022.0,2014.0,2014.0,2017.0,2019.0,2021.0,2021.0,2023.0,2022.0,2021.0,2022.0,2023.0,2019.0,2020.0,2023.0,2023.0,2022.0,2023.0,2021.0,2019.0,2022.0,2020.0,2013.0,2023.0,2016.0,2014.0,2017.0,2020.0,2021.0,2023.0,2019.0,2019.0,2019.0,2023.0,2020.0,2014.0,2017.0,2014.0,2023.0,2022.0,2012.0,2020.0,2021.0,2022.0,2023.0,2023.0,2023.0,2020.0,2022.0,2019.0,2018.0,2023.0,2020.0,2023.0,2016.0,2016.0,2022.0,2019.0,2022.0,2022.0,2023.0,2022.0,2022.0,2022.0,2019.0,2019.0,2021.0,2015.0,2020.0,2021.0,2022.0,2022.0,2022.0,2020.0,2018.0,2020.0,2023.0,2023.0,2020.0,2023.0,2021.0,2015.0,2019.0,2022.0,2021.0,2020.0,2020.0,2018.0,2020.0,2022.0,2018.0,2018.0,2022.0,2021.0,2019.0,2020.0,2022.0,2022.0,2020.0,2022.0,2020.0,2022.0,2018.0,2021.0,2021.0,2020.0,2023.0,2021.0,2021.0,2021.0,2018.0,2018.0,2021.0,2021.0,2022.0,2022.0,2019.0,2021.0,2021.0,2021.0,2023.0,2019.0,2021.0,2020.0,2022.0,2019.0,2015.0,2015.0,2021.0,2019.0,2019.0,2021.0,2021.0,2020.0,2021.0,2022.0,2023.0,2022.0,2023.0,2021.0,2022.0,2020.0,2020.0,2019.0,2021.0,2022.0,2023.0,2018.0,2022.0,2023.0,2022.0,2019.0,2019.0,2022.0,2021.0,2020.0,2020.0,2023.0,2020.0,2022.0,2022.0,2023.0,2022.0,2022.0,2020.0,2023.0,2022.0,2021.0,2022.0,2021.0,2023.0,2019.0,2019.0,2021.0,2021.0,2022.0,2023.0,2018.0,2023.0,2020.0,2021.0,2022.0,2019.0,2021.0,2020.0,2021.0,2020.0,2019.0,2021.0,2013.0,2017.0,2017.0,2023.0,2013.0,2014.0,2017.0,2017.0,2014.0,2023.0,2023.0,2022.0,2023.0,2023.0,2023.0,2023.0,2023.0,2022.0,2022.0,2022.0,2022.0,2019.0,2021.0,2021.0,2021.0,2020.0,2022.0,2023.0,2023.0,2018.0,2022.0,2013.0,2017.0,2017.0,2020.0,2019.0,2021.0,2018.0,2021.0,2023.0,2023.0,2022.0,2023.0,2022.0,2023.0,2021.0,2021.0,2015.0,2020.0,2019.0,2023.0,2021.0,2022.0,2020.0,2018.0,2020.0,2019.0,2020.0,2012.0,2017.0,2023.0,2023.0,2023.0,2023.0,2022.0,2023.0,2023.0,2023.0,2022.0,2020.0,2022.0,2020.0,2022.0,2018.0,2021.0,2020.0,2021.0,2022.0,2020.0,2021.0,2013.0,2017.0,2014.0,2013.0,2017.0,2023.0,2008.0,2017.0,2016.0,2021.0,2021.0,2021.0,2018.0,2019.0,2018.0,2017.0,2014.0,2023.0,2023.0,2016.0,2014.0,2016.0,2016.0,2012.0,2022.0,2021.0,2016.0,2019.0,2023.0,2023.0,2023.0,2022.0,2021.0,2023.0,2021.0,2021.0,2023.0,2020.0,2023.0,2020.0,2022.0,2022.0,2022.0,2023.0,2023.0,2018.0,2022.0,2020.0,2021.0,2023.0,2021.0,2023.0,2020.0,2022.0,2021.0,2021.0,2020.0,2022.0,2019.0,2019.0,2023.0,2021.0,2021.0,2019.0,2022.0,2022.0,2022.0,2020.0,2022.0,2020.0,2023.0,2020.0,2018.0,2023.0,2021.0,2022.0,2023.0,2023.0,2022.0,2020.0,2021.0,2021.0,2022.0,2022.0,2019.0,2019.0,2023.0,2022.0,2023.0,2020.0,2023.0,2020.0,2021.0,2021.0,2020.0,2019.0,2020.0,2023.0,2019.0,2023.0,2019.0,2021.0,2021.0,2021.0,2023.0,2021.0,2022.0,2017.0,2017.0,2020.0,2013.0,2020.0,2016.0,2014.0,2011.0,2014.0,2017.0,2016.0,2017.0,2017.0,2017.0,2021.0,2014.0,2013.0,2016.0,2011.0,2013.0,2012.0,2023.0,2018.0,2021.0,2020.0,2017.0,2022.0,2019.0,2021.0,2017.0,2021.0,2023.0,2023.0,2021.0,2023.0,2017.0,2018.0,2019.0,2022.0,2019.0,2019.0,2021.0,2022.0,2016.0,2020.0,2019.0,2022.0,2021.0,2022.0,2015.0,2023.0,2021.0,2023.0,2017.0,2017.0,2016.0,2017.0,2017.0,2020.0,2023.0,2019.0,2022.0,2019.0,2012.0,2017.0,2013.0,2017.0,2017.0,2014.0,2011.0,2017.0,2012.0,2019.0,2023.0,2021.0,2023.0,2022.0,2015.0,2019.0,2021.0,2023.0,2018.0,2023.0,2018.0,2023.0,2021.0,2021.0,2023.0,2022.0,2022.0,2018.0,2017.0,2017.0,2012.0,2018.0,2020.0,2020.0,2023.0,2021.0,2023.0,2023.0,2018.0,2021.0,2022.0,2015.0,2023.0,2023.0,2021.0,2023.0,2022.0,2022.0,2023.0,2020.0,2019.0,2018.0,2023.0,2022.0,2018.0,2023.0,2022.0,2019.0,2021.0,2019.0,2022.0,2022.0,2023.0,2021.0,2023.0,2021.0,2022.0,2018.0,2021.0,2021.0,2020.0,2018.0,2015.0,2022.0,2021.0,2019.0,2019.0,2019.0,2019.0,2022.0,2023.0,2023.0,2021.0,2021.0,2023.0,2021.0,2020.0,2023.0,2021.0,2022.0,2022.0,2022.0,2023.0,2023.0,2020.0,2023.0,2023.0,2021.0,2022.0,2020.0,2023.0,2021.0,2022.0,2021.0,2023.0,2021.0,2019.0,2018.0,2023.0,2020.0,2021.0,2023.0,2023.0,2021.0,2020.0,2023.0,2020.0,2022.0,2018.0,2021.0,2021.0,2016.0,2014.0,2016.0,2017.0,2017.0,2020.0,2021.0,2018.0,2023.0,2023.0,2023.0,2022.0,2022.0,2019.0,2019.0,2020.0,2022.0,2022.0,2018.0,2022.0,2022.0,2017.0,2021.0,2021.0,2021.0,2022.0,2018.0,2023.0,2018.0,2022.0,2020.0,2022.0,2019.0,2022.0,2021.0,2019.0,2023.0,2022.0,2023.0,2019.0,2015.0,2015.0,2022.0,2022.0,2022.0,2020.0,2023.0,2020.0,2021.0,2020.0,2022.0,2023.0,2019.0,2022.0,2019.0,2017.0,2020.0,2020.0,2019.0,2022.0,2023.0,2018.0,2021.0,2023.0,2023.0,2022.0,2023.0,2019.0,2021.0,2017.0,2015.0,2022.0,2021.0,2022.0,2022.0,2019.0,2017.0,2020.0,2022.0,2021.0,2018.0,2019.0,2017.0,2017.0,2019.0,2022.0,2023.0,2014.0,2013.0,2022.0,2021.0,2021.0,2021.0,2021.0,2022.0,2019.0,2019.0,2022.0,2021.0,2022.0,2023.0,2023.0,2022.0,2021.0,2023.0,2023.0,2019.0,2017.0,2023.0,2014.0,2021.0,2022.0,2019.0,2019.0,2019.0,2022.0,2022.0,2012.0,2012.0,2013.0,2023.0,2013.0,2022.0,2023.0,2014.0,2019.0,2022.0,2019.0,2021.0,2022.0,2019.0,2022.0,2023.0,2019.0,2022.0,2021.0,2020.0,2022.0,2019.0,2020.0,2020.0,2021.0,2022.0,2018.0,2020.0,2022.0,2020.0,2018.0,2015.0,2015.0,2022.0,2023.0,2020.0,2023.0,2022.0,2020.0,2020.0,2019.0,2023.0,2023.0,2018.0,2021.0,2023.0,2023.0,2021.0,2022.0,2023.0,2018.0,2022.0,2021.0,2022.0,2019.0,2021.0,2020.0,2023.0,2019.0,2023.0,2022.0,2018.0,2022.0,2021.0,2018.0,2023.0,2022.0,2022.0,2021.0,2019.0,2021.0,2021.0,2020.0,2019.0,2023.0,2022.0,2022.0,2020.0,2023.0,2020.0,2022.0,2023.0,2022.0,2021.0,2021.0,2020.0,2023.0,2020.0,2020.0,2022.0,2022.0,2021.0,2023.0,2022.0,2023.0,2018.0,2023.0,2023.0,2023.0,2021.0,2021.0,2020.0,2020.0,2021.0,2021.0,2022.0,2023.0,2023.0,2014.0,2023.0,2019.0,2023.0,2021.0,2023.0,2019.0,2023.0,2023.0,2023.0,2019.0,2021.0,2019.0,2022.0,2020.0,2022.0,2019.0,2023.0,2023.0,2020.0,2022.0,2022.0,2020.0,2023.0,2023.0,2022.0,2015.0,2018.0,2022.0,2018.0,2018.0,2021.0,2023.0,2023.0,2020.0,2020.0,2022.0,2023.0,2019.0,2020.0,2020.0,2021.0,2023.0,2023.0,2022.0,2023.0,2023.0,2015.0,2022.0,2022.0,2023.0,2018.0,2022.0,2018.0,2022.0,2020.0,2018.0,2022.0,2023.0,2015.0,2021.0,2019.0,2021.0,2019.0,2023.0,2023.0,2021.0,2023.0,2017.0,2020.0,2019.0,2022.0,2021.0,2021.0,2017.0,2016.0,2019.0,2012.0,2017.0,2016.0,2013.0,2017.0,2016.0,2016.0,2019.0,2019.0,2017.0,2012.0,2012.0,2016.0,2017.0,2017.0,2022.0,2022.0,2017.0,2023.0,2023.0,2017.0,2022.0,2023.0,2016.0,2014.0,2016.0,2023.0,2022.0,2013.0,2023.0,2012.0,2016.0,2022.0,2019.0,2021.0,2021.0,2020.0,2018.0,2021.0,2022.0,2022.0,2023.0,2021.0,2018.0,2022.0,2022.0,2021.0,2023.0,2017.0,2022.0,2023.0,2021.0,2023.0,2019.0,2022.0,2021.0,2022.0,2021.0,2015.0,2023.0,2021.0,2022.0,2021.0,2018.0,2023.0,2017.0,2016.0,2021.0,2016.0,2016.0,2017.0,2019.0,2022.0,2018.0,2014.0,2017.0,2017.0,2021.0,2022.0,2021.0,2018.0,2018.0,2018.0,2023.0,2023.0,2023.0,2023.0,2022.0,2022.0,2021.0,2021.0,2016.0,2015.0,2022.0,2021.0,2022.0,2021.0,2022.0,2023.0,2020.0,2022.0,2022.0,2022.0,2023.0,2023.0,2021.0,2020.0,2023.0,2018.0,2021.0,2018.0,2022.0,2022.0,2022.0,2020.0,2015.0,2021.0,2020.0,2022.0,2022.0,2018.0,2023.0,2021.0,2022.0,2022.0,2022.0,2022.0,2022.0,2020.0,2019.0,2022.0,2023.0,2023.0,2021.0,2019.0,2021.0,2020.0,2020.0,2020.0,2022.0,2023.0,2020.0,2020.0,2022.0,2023.0,2022.0,2020.0,2023.0,2022.0,2019.0,2022.0,2020.0,2021.0,2023.0,2023.0,2022.0,2022.0,2021.0,2019.0,2016.0,2020.0,2019.0,2021.0,2021.0,2020.0,2020.0,2013.0,2021.0,2020.0,2023.0,2020.0,2023.0,2023.0,2021.0,2021.0,2022.0,2021.0,2020.0,2023.0,2016.0,2012.0,2022.0,2023.0,2023.0,2023.0,2020.0,2016.0,2023.0,2023.0,2022.0,2023.0,2020.0,2018.0,2021.0,2022.0,2023.0,2017.0,2021.0,2021.0,2017.0,2013.0,2016.0,2017.0,2023.0,2016.0,2020.0,2016.0,2017.0,2017.0,2017.0,2017.0,2017.0,2013.0,2017.0,2017.0,2020.0,2023.0,2023.0,2022.0,2023.0,2021.0,2022.0,2020.0,2012.0,2016.0,2017.0,2017.0,2023.0,2014.0,2015.0,2016.0,2017.0,2021.0,2023.0,2018.0,2023.0,2021.0,2020.0,2023.0,2023.0,2019.0,2019.0,2020.0,2018.0,2020.0,2023.0,2018.0,2021.0,2021.0,2022.0,2023.0,2021.0,2021.0,2018.0,2022.0,2021.0,2018.0,2020.0,2022.0,2022.0,2022.0,2022.0,2019.0,2015.0,2022.0,2021.0,2022.0,2022.0,2022.0,2019.0,2023.0,2022.0,2015.0,2022.0,2023.0,2020.0,2021.0,2020.0,2020.0,2020.0,2021.0,2015.0,2019.0,2022.0,2020.0,2020.0,2022.0,2021.0,2023.0,2020.0,2023.0,2019.0,2020.0,2023.0,2018.0,2023.0,2019.0,2022.0,2021.0,2022.0,2023.0,2022.0,2023.0,2023.0,2023.0,2022.0,2023.0,2023.0,2021.0,2021.0,2021.0,2020.0,2018.0,2021.0,2021.0,2021.0,2023.0,2023.0,2021.0,2023.0,2020.0,2018.0,2023.0,2021.0,2018.0,2022.0,2020.0,2021.0,2019.0,2021.0,2023.0,2019.0,2020.0,2023.0,2021.0,2019.0,2019.0,2021.0,2018.0,2023.0,2023.0,2020.0,2023.0,2020.0,2023.0,2023.0,2019.0,2021.0,2023.0,2019.0,2022.0,2021.0,2019.0,2022.0,2023.0,2023.0,2021.0,2022.0,2018.0,2021.0,2021.0,2021.0,2022.0,2023.0,2023.0,2012.0,2016.0,2017.0,2023.0,2022.0,2023.0,2023.0,2022.0,2019.0,2023.0,2022.0,2019.0,2019.0,2021.0,2018.0,2022.0,2019.0,2023.0,2022.0,2021.0,2020.0,2018.0,2022.0,2019.0,2019.0,2021.0,2021.0,2014.0,2019.0,2023.0,2013.0,2021.0,2023.0,2023.0,2023.0,2022.0,2021.0,2023.0,2022.0,2023.0,2018.0,2018.0,2018.0,2019.0,2022.0,2020.0,2021.0,2023.0,2022.0,2023.0,2022.0,2020.0,2021.0,2022.0,2021.0,2022.0,2019.0,2022.0,2023.0,2020.0,2020.0,2022.0,2019.0,2020.0,2020.0,2022.0,2021.0,2019.0,2023.0,2022.0,2020.0,2019.0,2018.0,2023.0,2023.0,2023.0,2021.0,2022.0,2022.0,2023.0,2021.0,2022.0,2022.0,2022.0,2019.0,2023.0,2023.0,2022.0,2023.0,2020.0,2022.0,2021.0,2019.0,2022.0,2018.0,2015.0,2023.0,2021.0,2023.0,2015.0,2023.0,2021.0,2021.0,2021.0,2020.0,2020.0,2023.0,2022.0,2018.0,2022.0,2023.0,2008.0,2017.0,2021.0,2022.0,2017.0,2019.0,2017.0,2017.0,2012.0,2014.0,2016.0,2017.0,2016.0,2011.0,2020.0,2016.0,2022.0,2013.0,2023.0,2016.0,2021.0,2022.0,2022.0,2019.0,2019.0,2014.0,2018.0,2017.0,2011.0,2023.0,2023.0,2016.0,2016.0,2018.0,2019.0,2017.0,2022.0,2019.0,2021.0,2022.0,2021.0,2020.0,2022.0,2021.0,2022.0,2021.0,2021.0,2022.0,2022.0,2022.0,2022.0,2021.0,2021.0,2021.0,2021.0,2022.0,2019.0,2019.0,2019.0,2022.0,2022.0,2017.0,2014.0,2017.0,2019.0,2016.0,2022.0,2010.0,2018.0,2016.0,2022.0,2019.0,2021.0,2015.0,2021.0,2019.0,2019.0,2019.0,2019.0,2019.0,2018.0,2022.0,2019.0,2022.0,2018.0,2021.0,2020.0,2022.0,2017.0,2018.0,2018.0,2021.0,2019.0,2018.0,2022.0,2021.0,2021.0,2020.0,2018.0,2019.0,2019.0,2021.0,2016.0,2014.0,2016.0,2014.0,2022.0,2019.0,2018.0,2018.0,2018.0,2019.0,2021.0,2018.0,2019.0,2021.0,2019.0,2019.0,2022.0,2022.0,2022.0,2019.0,2015.0,2019.0,2019.0,2019.0,2021.0,2015.0,2019.0,2015.0,2021.0,2021.0,2021.0,2019.0,2019.0,2022.0,2022.0,2018.0,2022.0,2021.0,2018.0,2018.0,2017.0,2017.0,2021.0,2019.0,2019.0,2019.0,2021.0,2019.0,2018.0,2018.0,2019.0,2019.0,2022.0,2021.0,2022.0,2015.0,2021.0,2022.0,2019.0,2022.0,2021.0,2018.0,2016.0,2014.0,2017.0,2017.0,2012.0,2016.0,2021.0,2018.0,2021.0,2018.0,2011.0,2022.0,2018.0,2021.0,2019.0,2019.0,2022.0,2022.0,2022.0,2018.0,2022.0,2018.0,2019.0,2019.0,2018.0,2021.0,2022.0,2019.0,2019.0,2022.0,2022.0,2018.0,2018.0,2022.0,2018.0,2022.0,2022.0,2022.0,2021.0,2022.0,2021.0,2021.0,2019.0,2016.0,2019.0,2022.0,2016.0,2018.0,2019.0,2022.0,2021.0,2015.0,2016.0,2018.0,2016.0,2017.0,2013.0,2012.0,2017.0,2017.0,2014.0,2017.0,2022.0,2014.0,2011.0,2017.0,2018.0,2022.0,2017.0,2014.0,2017.0,2022.0,2019.0,2019.0,2017.0,2018.0,2018.0,2018.0,2019.0,2019.0,2018.0,2022.0,2021.0,2015.0,2019.0,2022.0,2017.0,2016.0,2017.0,2019.0,2018.0,2018.0,2019.0,2022.0,2015.0,2019.0,2015.0,2018.0,2018.0,2022.0,2019.0,2021.0,2018.0,2019.0,2021.0,2018.0,2018.0,2022.0,2022.0,2019.0,2017.0,2016.0,2022.0,2017.0,2019.0,2022.0,2022.0,2018.0,2021.0,2019.0,2019.0,2022.0,2022.0,2022.0,2016.0,2011.0,2012.0,2017.0,2021.0,2022.0,2019.0,2018.0,2017.0,2019.0,2016.0,2016.0,2019.0,2022.0,2019.0,2018.0,2022.0,2015.0,2018.0,2017.0,2017.0,2017.0,2016.0,2017.0,2017.0,2022.0,2016.0,2022.0,2019.0,2015.0,2022.0,2018.0,2022.0,2018.0,2021.0,2021.0,2021.0,2019.0,2019.0,2019.0,2019.0,2022.0,2018.0,2021.0,2022.0,2018.0,2021.0,2018.0,2018.0,2021.0,2018.0,2015.0,2019.0,2018.0,2021.0,2017.0,2022.0,2019.0,2016.0,2013.0,2015.0,2019.0,2018.0,2017.0,2013.0,2017.0,2012.0,2022.0,2014.0,2019.0,2018.0,2017.0,2013.0,2018.0,2018.0,2022.0,2015.0,2022.0,2020.0,2021.0,2022.0,2022.0,2021.0,2018.0,2021.0,2021.0,2019.0,2016.0,2014.0,2019.0,2021.0,2020.0,2018.0,2019.0,2022.0,2018.0,2019.0,2022.0,2019.0,2017.0,2017.0,2019.0,2015.0,2017.0,2019.0,2021.0,2020.0,2018.0,2018.0,2022.0,2018.0,2019.0,2019.0,2021.0,2018.0,2022.0,2018.0,2018.0,2022.0,2021.0,2019.0,2019.0,2018.0,2019.0,2022.0,2022.0,2021.0,2018.0,2018.0,2019.0,2018.0,2019.0,2018.0,2018.0,2021.0,2019.0,2015.0,2017.0,2019.0,2015.0,2011.0,2019.0,2017.0,2021.0,2015.0,2019.0,2018.0,2022.0,2015.0,2021.0,2018.0,2021.0,2021.0,2019.0,2019.0,2022.0,2019.0,2019.0,2019.0,2014.0,2021.0,2017.0,2011.0,2018.0,2016.0,2017.0,2017.0,2016.0,2016.0,2017.0,2016.0,2017.0,2016.0,2015.0,2018.0,2019.0,2019.0,2019.0,2021.0,2019.0,2022.0,2022.0,2021.0,2019.0,2021.0,2015.0,2019.0,2018.0,2016.0,2016.0,2013.0,2015.0,2017.0,2018.0,2022.0,2022.0,2019.0,2019.0,2013.0,2016.0,2019.0,2016.0,2013.0,2018.0,2019.0,2022.0,2018.0,2019.0,2016.0,2017.0,2013.0,2014.0,2014.0,2013.0,2022.0,2021.0,2021.0,2022.0,2022.0,2017.0,2019.0,2019.0,2022.0,2018.0,2015.0,2019.0,2021.0,2019.0,2018.0,2021.0,2015.0,2018.0,2014.0,2021.0,2019.0,2022.0,2021.0,2022.0,2021.0,2019.0,2018.0,2019.0,2021.0,2019.0,2019.0,2021.0,2019.0,2018.0,2019.0,2021.0,2016.0,2019.0,2016.0,2019.0,2011.0,2019.0,2016.0,2021.0,2014.0,2013.0,2019.0,2009.0,2019.0,2022.0,2022.0,2016.0,2021.0,2019.0,2021.0,2019.0,2019.0,2021.0,2022.0,2019.0,2019.0,2022.0,2015.0,2022.0,2022.0,2021.0,2015.0,2021.0,2022.0,2021.0,2021.0,2019.0,2022.0,2019.0,2018.0,2018.0,2019.0,2018.0,2012.0,2021.0,2019.0,2019.0,2021.0,2018.0,2019.0,2021.0,2019.0,2022.0,2022.0,2019.0,2019.0,2021.0,2022.0,2018.0,2016.0,2016.0,2022.0,2022.0,2021.0,2021.0,2018.0,2022.0,2022.0,2011.0,2014.0,2017.0,2014.0,2021.0,2015.0,2015.0,2017.0,2018.0,2017.0,2016.0,2016.0,2012.0,2017.0,2021.0,2019.0,2019.0,2022.0,2018.0,2022.0,2019.0,2022.0,2019.0,2021.0,2022.0,2017.0,2016.0,2016.0,2012.0,2019.0,2015.0,2019.0,2018.0,2018.0,2021.0,2015.0,2018.0,2022.0,2019.0,2019.0,2019.0,2022.0,2018.0,2021.0,2016.0,2016.0,2017.0,2017.0,2017.0,2016.0,2016.0,2011.0,2017.0,2016.0,2016.0,2019.0,2021.0,2011.0,2014.0,2012.0,2018.0,2012.0,2021.0,2022.0,2016.0,2018.0,2018.0,2018.0,2015.0,2022.0,2016.0,2017.0,2019.0,2022.0,2020.0,2018.0,2022.0,2022.0,2018.0,2021.0,2019.0,2018.0,2022.0,2011.0,2016.0,2022.0,2020.0,2019.0,2020.0,2022.0,2019.0,2019.0,2017.0,2017.0,2016.0,2014.0,2014.0,2013.0,2008.0,2017.0,2017.0,2021.0,2021.0,2015.0,2015.0,2022.0,2022.0,2022.0,2018.0,2022.0,2022.0,2021.0,2017.0,2014.0,2019.0,2017.0,2014.0,2017.0,2014.0,2016.0,2020.0,2016.0,2012.0,2016.0,2017.0,2010.0,2022.0,2017.0,2021.0,2018.0,2017.0,2019.0,2018.0,2019.0,2022.0,2017.0,2019.0,2018.0,2019.0,2022.0,2022.0,2022.0,2021.0,2016.0,2021.0,2015.0,2022.0,2021.0,2020.0,2019.0,2021.0,2019.0,2018.0,2018.0,2019.0,2022.0,2017.0,2019.0,2016.0,2022.0,2017.0,2017.0,2016.0,2019.0,2014.0,2013.0,2011.0,2021.0,2021.0,2018.0,2019.0,2020.0,2018.0,2018.0,2021.0,2022.0,2018.0,2018.0,2018.0,2022.0,2021.0,2019.0,2019.0,2021.0,2019.0,2022.0,2018.0,2022.0,2022.0,2019.0,2022.0,2021.0,2019.0,2018.0,2019.0,2022.0,2021.0,2021.0,2019.0,2018.0,2018.0,2019.0,2019.0,2022.0,2018.0,2019.0,2021.0,2018.0,2022.0,2015.0,2018.0,2018.0,2014.0,2016.0,2016.0,2021.0,2019.0,2022.0,2022.0,2019.0,2021.0,2021.0,2021.0,2022.0,2022.0,2019.0,2019.0,2021.0,2018.0,2022.0,2022.0,2022.0,2018.0,2022.0,2020.0,2021.0,2019.0,2022.0,2018.0,2022.0,2021.0,2022.0,2019.0,2021.0,2013.0,2019.0,2022.0,2021.0,2015.0,2017.0,2017.0,2021.0,2021.0,2011.0,2019.0,2021.0,2016.0,2022.0,2015.0,2014.0,2016.0,2016.0,2021.0,2022.0,2014.0,2017.0,2016.0,2021.0,2014.0,2018.0,2020.0,2018.0,2015.0,2014.0,2019.0,2011.0,2013.0,2011.0,2015.0,2022.0,2019.0,2019.0,2018.0,2018.0,2015.0,2021.0,2022.0,2022.0,2020.0,2017.0,2017.0,2018.0,2016.0,2016.0,2017.0,2012.0,2016.0,2021.0,2019.0,2016.0,2015.0,2022.0,2017.0,2022.0,2018.0,2016.0,2022.0,2021.0,2019.0,2013.0,2017.0,2022.0,2018.0,2019.0,2021.0,2018.0,2022.0,2019.0,2022.0,2021.0,2021.0,2019.0,2022.0,2016.0,2012.0,2021.0,2015.0,2019.0,2015.0,2022.0,2022.0,2022.0,2017.0,2014.0,2022.0,2022.0,2021.0,2019.0,2021.0,2018.0,2021.0,2018.0,2015.0,2021.0,2022.0,2018.0,2019.0,2022.0,2015.0,2019.0,2021.0,2021.0,2021.0,2019.0,2022.0,2016.0,2008.0,2016.0,2016.0,2016.0,2016.0,2014.0,2018.0,2018.0,2020.0,2019.0,2021.0,2021.0,2017.0,2017.0,2019.0,2021.0,2018.0,2016.0,2012.0,2015.0,2015.0,2022.0,2017.0,2017.0,2018.0,2022.0,2019.0,2019.0,2018.0,2018.0,2015.0,2020.0,2018.0,2021.0,2019.0,2017.0,2017.0,2016.0,2014.0,2012.0,2019.0,2017.0,2016.0,2017.0,2017.0,2017.0,2017.0,2016.0,2017.0,2016.0,2017.0,2013.0,2012.0,2017.0,2014.0,2017.0,2016.0,2017.0,2017.0,2018.0,2017.0,2016.0,2022.0,2014.0,2022.0,2017.0,2022.0,2014.0,2020.0,2021.0,2014.0,2019.0,2017.0,2016.0,2014.0,2014.0,2021.0,2016.0,2019.0,2016.0,2011.0,2017.0,2012.0,2017.0,2022.0,2022.0,2021.0,2019.0,2021.0,2015.0,2022.0,2019.0,2018.0,2019.0,2018.0,2014.0,2021.0,2018.0,2016.0,2018.0,2021.0,2016.0,2022.0,2018.0,2018.0,2018.0,2015.0,2020.0,2018.0,2011.0,2015.0,2015.0,2019.0,2017.0,2018.0,2015.0,2021.0,2021.0,2018.0,2016.0,2016.0,2016.0,2008.0,2016.0,2018.0,2013.0,2017.0,2017.0,2016.0,2012.0,2013.0,2013.0,2017.0,2017.0,2012.0,2019.0,2015.0,2021.0,2022.0,2018.0,2022.0,2021.0,2018.0,2022.0,2018.0,2018.0,2019.0,2019.0,2022.0,2022.0,2019.0,2019.0,2019.0,2022.0,2020.0,2021.0,2015.0,2018.0,2019.0,2015.0,2019.0,2018.0,2019.0,2018.0,2016.0,2011.0,2014.0,2013.0,2016.0,2017.0,2017.0,2014.0,2013.0,2016.0,2009.0,2016.0,2021.0,2019.0,2019.0,2016.0,2011.0,2014.0,2011.0,2021.0,2022.0,2014.0,2016.0,2022.0,2012.0,2017.0,2017.0,2016.0,2019.0,2019.0,2022.0,2018.0,2022.0,2021.0,2018.0,2015.0,2021.0,2022.0,2017.0,2016.0,2019.0,2015.0,2019.0,2019.0,2015.0,2017.0,2017.0,2022.0,2016.0,2017.0,2019.0,2016.0,2019.0,2022.0,2018.0,2013.0,2017.0,2019.0,2019.0,2019.0,2021.0,2013.0,2016.0,2016.0,2013.0,2019.0,2019.0,2011.0,2019.0,2018.0,2022.0,2019.0,2017.0,2016.0,2017.0,2022.0,2019.0,2021.0,2013.0,2016.0,2017.0,2013.0,2014.0,2017.0,2019.0,2017.0,2016.0,2017.0,2016.0,2019.0,2019.0,2022.0,2018.0,2022.0,2021.0,2018.0,2021.0,2021.0,2015.0,2021.0,2018.0,2021.0,2019.0,2019.0,2019.0,2022.0,2018.0,2021.0,2021.0,2022.0,2018.0,2018.0,2017.0,2017.0,2017.0,2016.0,2019.0,2016.0,2016.0,2018.0,2018.0,2019.0,2021.0,2021.0,2021.0,2015.0,2015.0,2022.0,2022.0,2021.0,2022.0,2015.0,2019.0,2021.0,2022.0,2019.0,2021.0,2017.0,2016.0,2016.0,2019.0,2022.0,2022.0,2012.0,2013.0,2014.0,2014.0,2017.0,2017.0,2017.0,2017.0,2017.0,2017.0,2013.0],\"xaxis\":\"x2\",\"yaxis\":\"y2\",\"type\":\"histogram\"}],                        {\"template\":{\"data\":{\"histogram2dcontour\":[{\"type\":\"histogram2dcontour\",\"colorbar\":{\"outlinewidth\":0,\"ticks\":\"\"},\"colorscale\":[[0.0,\"#0d0887\"],[0.1111111111111111,\"#46039f\"],[0.2222222222222222,\"#7201a8\"],[0.3333333333333333,\"#9c179e\"],[0.4444444444444444,\"#bd3786\"],[0.5555555555555556,\"#d8576b\"],[0.6666666666666666,\"#ed7953\"],[0.7777777777777778,\"#fb9f3a\"],[0.8888888888888888,\"#fdca26\"],[1.0,\"#f0f921\"]]}],\"choropleth\":[{\"type\":\"choropleth\",\"colorbar\":{\"outlinewidth\":0,\"ticks\":\"\"}}],\"histogram2d\":[{\"type\":\"histogram2d\",\"colorbar\":{\"outlinewidth\":0,\"ticks\":\"\"},\"colorscale\":[[0.0,\"#0d0887\"],[0.1111111111111111,\"#46039f\"],[0.2222222222222222,\"#7201a8\"],[0.3333333333333333,\"#9c179e\"],[0.4444444444444444,\"#bd3786\"],[0.5555555555555556,\"#d8576b\"],[0.6666666666666666,\"#ed7953\"],[0.7777777777777778,\"#fb9f3a\"],[0.8888888888888888,\"#fdca26\"],[1.0,\"#f0f921\"]]}],\"heatmap\":[{\"type\":\"heatmap\",\"colorbar\":{\"outlinewidth\":0,\"ticks\":\"\"},\"colorscale\":[[0.0,\"#0d0887\"],[0.1111111111111111,\"#46039f\"],[0.2222222222222222,\"#7201a8\"],[0.3333333333333333,\"#9c179e\"],[0.4444444444444444,\"#bd3786\"],[0.5555555555555556,\"#d8576b\"],[0.6666666666666666,\"#ed7953\"],[0.7777777777777778,\"#fb9f3a\"],[0.8888888888888888,\"#fdca26\"],[1.0,\"#f0f921\"]]}],\"heatmapgl\":[{\"type\":\"heatmapgl\",\"colorbar\":{\"outlinewidth\":0,\"ticks\":\"\"},\"colorscale\":[[0.0,\"#0d0887\"],[0.1111111111111111,\"#46039f\"],[0.2222222222222222,\"#7201a8\"],[0.3333333333333333,\"#9c179e\"],[0.4444444444444444,\"#bd3786\"],[0.5555555555555556,\"#d8576b\"],[0.6666666666666666,\"#ed7953\"],[0.7777777777777778,\"#fb9f3a\"],[0.8888888888888888,\"#fdca26\"],[1.0,\"#f0f921\"]]}],\"contourcarpet\":[{\"type\":\"contourcarpet\",\"colorbar\":{\"outlinewidth\":0,\"ticks\":\"\"}}],\"contour\":[{\"type\":\"contour\",\"colorbar\":{\"outlinewidth\":0,\"ticks\":\"\"},\"colorscale\":[[0.0,\"#0d0887\"],[0.1111111111111111,\"#46039f\"],[0.2222222222222222,\"#7201a8\"],[0.3333333333333333,\"#9c179e\"],[0.4444444444444444,\"#bd3786\"],[0.5555555555555556,\"#d8576b\"],[0.6666666666666666,\"#ed7953\"],[0.7777777777777778,\"#fb9f3a\"],[0.8888888888888888,\"#fdca26\"],[1.0,\"#f0f921\"]]}],\"surface\":[{\"type\":\"surface\",\"colorbar\":{\"outlinewidth\":0,\"ticks\":\"\"},\"colorscale\":[[0.0,\"#0d0887\"],[0.1111111111111111,\"#46039f\"],[0.2222222222222222,\"#7201a8\"],[0.3333333333333333,\"#9c179e\"],[0.4444444444444444,\"#bd3786\"],[0.5555555555555556,\"#d8576b\"],[0.6666666666666666,\"#ed7953\"],[0.7777777777777778,\"#fb9f3a\"],[0.8888888888888888,\"#fdca26\"],[1.0,\"#f0f921\"]]}],\"mesh3d\":[{\"type\":\"mesh3d\",\"colorbar\":{\"outlinewidth\":0,\"ticks\":\"\"}}],\"scatter\":[{\"fillpattern\":{\"fillmode\":\"overlay\",\"size\":10,\"solidity\":0.2},\"type\":\"scatter\"}],\"parcoords\":[{\"type\":\"parcoords\",\"line\":{\"colorbar\":{\"outlinewidth\":0,\"ticks\":\"\"}}}],\"scatterpolargl\":[{\"type\":\"scatterpolargl\",\"marker\":{\"colorbar\":{\"outlinewidth\":0,\"ticks\":\"\"}}}],\"bar\":[{\"error_x\":{\"color\":\"#2a3f5f\"},\"error_y\":{\"color\":\"#2a3f5f\"},\"marker\":{\"line\":{\"color\":\"#E5ECF6\",\"width\":0.5},\"pattern\":{\"fillmode\":\"overlay\",\"size\":10,\"solidity\":0.2}},\"type\":\"bar\"}],\"scattergeo\":[{\"type\":\"scattergeo\",\"marker\":{\"colorbar\":{\"outlinewidth\":0,\"ticks\":\"\"}}}],\"scatterpolar\":[{\"type\":\"scatterpolar\",\"marker\":{\"colorbar\":{\"outlinewidth\":0,\"ticks\":\"\"}}}],\"histogram\":[{\"marker\":{\"pattern\":{\"fillmode\":\"overlay\",\"size\":10,\"solidity\":0.2}},\"type\":\"histogram\"}],\"scattergl\":[{\"type\":\"scattergl\",\"marker\":{\"colorbar\":{\"outlinewidth\":0,\"ticks\":\"\"}}}],\"scatter3d\":[{\"type\":\"scatter3d\",\"line\":{\"colorbar\":{\"outlinewidth\":0,\"ticks\":\"\"}},\"marker\":{\"colorbar\":{\"outlinewidth\":0,\"ticks\":\"\"}}}],\"scattermapbox\":[{\"type\":\"scattermapbox\",\"marker\":{\"colorbar\":{\"outlinewidth\":0,\"ticks\":\"\"}}}],\"scatterternary\":[{\"type\":\"scatterternary\",\"marker\":{\"colorbar\":{\"outlinewidth\":0,\"ticks\":\"\"}}}],\"scattercarpet\":[{\"type\":\"scattercarpet\",\"marker\":{\"colorbar\":{\"outlinewidth\":0,\"ticks\":\"\"}}}],\"carpet\":[{\"aaxis\":{\"endlinecolor\":\"#2a3f5f\",\"gridcolor\":\"white\",\"linecolor\":\"white\",\"minorgridcolor\":\"white\",\"startlinecolor\":\"#2a3f5f\"},\"baxis\":{\"endlinecolor\":\"#2a3f5f\",\"gridcolor\":\"white\",\"linecolor\":\"white\",\"minorgridcolor\":\"white\",\"startlinecolor\":\"#2a3f5f\"},\"type\":\"carpet\"}],\"table\":[{\"cells\":{\"fill\":{\"color\":\"#EBF0F8\"},\"line\":{\"color\":\"white\"}},\"header\":{\"fill\":{\"color\":\"#C8D4E3\"},\"line\":{\"color\":\"white\"}},\"type\":\"table\"}],\"barpolar\":[{\"marker\":{\"line\":{\"color\":\"#E5ECF6\",\"width\":0.5},\"pattern\":{\"fillmode\":\"overlay\",\"size\":10,\"solidity\":0.2}},\"type\":\"barpolar\"}],\"pie\":[{\"automargin\":true,\"type\":\"pie\"}]},\"layout\":{\"autotypenumbers\":\"strict\",\"colorway\":[\"#636efa\",\"#EF553B\",\"#00cc96\",\"#ab63fa\",\"#FFA15A\",\"#19d3f3\",\"#FF6692\",\"#B6E880\",\"#FF97FF\",\"#FECB52\"],\"font\":{\"color\":\"#2a3f5f\"},\"hovermode\":\"closest\",\"hoverlabel\":{\"align\":\"left\"},\"paper_bgcolor\":\"white\",\"plot_bgcolor\":\"#E5ECF6\",\"polar\":{\"bgcolor\":\"#E5ECF6\",\"angularaxis\":{\"gridcolor\":\"white\",\"linecolor\":\"white\",\"ticks\":\"\"},\"radialaxis\":{\"gridcolor\":\"white\",\"linecolor\":\"white\",\"ticks\":\"\"}},\"ternary\":{\"bgcolor\":\"#E5ECF6\",\"aaxis\":{\"gridcolor\":\"white\",\"linecolor\":\"white\",\"ticks\":\"\"},\"baxis\":{\"gridcolor\":\"white\",\"linecolor\":\"white\",\"ticks\":\"\"},\"caxis\":{\"gridcolor\":\"white\",\"linecolor\":\"white\",\"ticks\":\"\"}},\"coloraxis\":{\"colorbar\":{\"outlinewidth\":0,\"ticks\":\"\"}},\"colorscale\":{\"sequential\":[[0.0,\"#0d0887\"],[0.1111111111111111,\"#46039f\"],[0.2222222222222222,\"#7201a8\"],[0.3333333333333333,\"#9c179e\"],[0.4444444444444444,\"#bd3786\"],[0.5555555555555556,\"#d8576b\"],[0.6666666666666666,\"#ed7953\"],[0.7777777777777778,\"#fb9f3a\"],[0.8888888888888888,\"#fdca26\"],[1.0,\"#f0f921\"]],\"sequentialminus\":[[0.0,\"#0d0887\"],[0.1111111111111111,\"#46039f\"],[0.2222222222222222,\"#7201a8\"],[0.3333333333333333,\"#9c179e\"],[0.4444444444444444,\"#bd3786\"],[0.5555555555555556,\"#d8576b\"],[0.6666666666666666,\"#ed7953\"],[0.7777777777777778,\"#fb9f3a\"],[0.8888888888888888,\"#fdca26\"],[1.0,\"#f0f921\"]],\"diverging\":[[0,\"#8e0152\"],[0.1,\"#c51b7d\"],[0.2,\"#de77ae\"],[0.3,\"#f1b6da\"],[0.4,\"#fde0ef\"],[0.5,\"#f7f7f7\"],[0.6,\"#e6f5d0\"],[0.7,\"#b8e186\"],[0.8,\"#7fbc41\"],[0.9,\"#4d9221\"],[1,\"#276419\"]]},\"xaxis\":{\"gridcolor\":\"white\",\"linecolor\":\"white\",\"ticks\":\"\",\"title\":{\"standoff\":15},\"zerolinecolor\":\"white\",\"automargin\":true,\"zerolinewidth\":2},\"yaxis\":{\"gridcolor\":\"white\",\"linecolor\":\"white\",\"ticks\":\"\",\"title\":{\"standoff\":15},\"zerolinecolor\":\"white\",\"automargin\":true,\"zerolinewidth\":2},\"scene\":{\"xaxis\":{\"backgroundcolor\":\"#E5ECF6\",\"gridcolor\":\"white\",\"linecolor\":\"white\",\"showbackground\":true,\"ticks\":\"\",\"zerolinecolor\":\"white\",\"gridwidth\":2},\"yaxis\":{\"backgroundcolor\":\"#E5ECF6\",\"gridcolor\":\"white\",\"linecolor\":\"white\",\"showbackground\":true,\"ticks\":\"\",\"zerolinecolor\":\"white\",\"gridwidth\":2},\"zaxis\":{\"backgroundcolor\":\"#E5ECF6\",\"gridcolor\":\"white\",\"linecolor\":\"white\",\"showbackground\":true,\"ticks\":\"\",\"zerolinecolor\":\"white\",\"gridwidth\":2}},\"shapedefaults\":{\"line\":{\"color\":\"#2a3f5f\"}},\"annotationdefaults\":{\"arrowcolor\":\"#2a3f5f\",\"arrowhead\":0,\"arrowwidth\":1},\"geo\":{\"bgcolor\":\"white\",\"landcolor\":\"#E5ECF6\",\"subunitcolor\":\"white\",\"showland\":true,\"showlakes\":true,\"lakecolor\":\"white\"},\"title\":{\"x\":0.05},\"mapbox\":{\"style\":\"light\"}}},\"xaxis\":{\"anchor\":\"y\",\"domain\":[0.0,0.49],\"title\":{\"text\":\"Count\"}},\"yaxis\":{\"anchor\":\"x\",\"domain\":[0.0,1.0],\"title\":{\"text\":\"count\"}},\"xaxis2\":{\"anchor\":\"y2\",\"domain\":[0.51,1.0],\"matches\":\"x\",\"title\":{\"text\":\"Count\"}},\"yaxis2\":{\"anchor\":\"x2\",\"domain\":[0.0,1.0],\"matches\":\"y\",\"showticklabels\":false},\"annotations\":[{\"font\":{},\"showarrow\":false,\"text\":\"DataFrame=active\",\"x\":0.245,\"xanchor\":\"center\",\"xref\":\"paper\",\"y\":1.0,\"yanchor\":\"bottom\",\"yref\":\"paper\"},{\"font\":{},\"showarrow\":false,\"text\":\"DataFrame=all time\",\"x\":0.755,\"xanchor\":\"center\",\"xref\":\"paper\",\"y\":1.0,\"yanchor\":\"bottom\",\"yref\":\"paper\"}],\"legend\":{\"title\":{\"text\":\"DataFrame\"},\"tracegroupgap\":0},\"title\":{\"text\":\"Comparison of Enrollment Year for active and all time students\"},\"barmode\":\"relative\"},                        {\"responsive\": true}                    ).then(function(){\n",
              "                            \n",
              "var gd = document.getElementById('018ea51b-690e-4a10-845c-298e75789ae5');\n",
              "var x = new MutationObserver(function (mutations, observer) {{\n",
              "        var display = window.getComputedStyle(gd).display;\n",
              "        if (!display || display === 'none') {{\n",
              "            console.log([gd, 'removed!']);\n",
              "            Plotly.purge(gd);\n",
              "            observer.disconnect();\n",
              "        }}\n",
              "}});\n",
              "\n",
              "// Listen for the removal of the full notebook cells\n",
              "var notebookContainer = gd.closest('#notebook-container');\n",
              "if (notebookContainer) {{\n",
              "    x.observe(notebookContainer, {childList: true});\n",
              "}}\n",
              "\n",
              "// Listen for the clearing of the current output cell\n",
              "var outputEl = gd.closest('.output');\n",
              "if (outputEl) {{\n",
              "    x.observe(outputEl, {childList: true});\n",
              "}}\n",
              "\n",
              "                        })                };                            </script>        </div>\n",
              "</body>\n",
              "</html>"
            ]
          },
          "metadata": {}
        }
      ],
      "source": [
        "df_comparison = pd.concat([df_a[\"Enrollment Year\"], df_s[\"Enrollment Year\"]], axis=1, keys=['active', 'all time'])\n",
        "\n",
        "fig = px.histogram(\n",
        "    df_comparison,\n",
        "    facet_col=\"variable\",\n",
        "    color_discrete_sequence=['blue', 'orange'],\n",
        "    category_orders={\"Enrollment Year\": sorted(pd.concat([df_a[\"Enrollment Year\"], df_s[\"Enrollment Year\"]]).unique())},\n",
        "    labels={'value': 'Count', 'variable': 'DataFrame', 'Enrollment Year': 'Year'},\n",
        "    title='Comparison of Enrollment Year for active and all time students',\n",
        ")\n",
        "\n",
        "fig.show()"
      ]
    },
    {
      "cell_type": "code",
      "execution_count": null,
      "metadata": {
        "colab": {
          "base_uri": "https://localhost:8080/"
        },
        "id": "bBphcA2crKfk",
        "outputId": "9d378f60-50ec-4657-b74b-6c483fcf85f1"
      },
      "outputs": [
        {
          "output_type": "display_data",
          "data": {
            "text/html": [
              "<html>\n",
              "<head><meta charset=\"utf-8\" /></head>\n",
              "<body>\n",
              "    <div>            <script src=\"https://cdnjs.cloudflare.com/ajax/libs/mathjax/2.7.5/MathJax.js?config=TeX-AMS-MML_SVG\"></script><script type=\"text/javascript\">if (window.MathJax && window.MathJax.Hub && window.MathJax.Hub.Config) {window.MathJax.Hub.Config({SVG: {font: \"STIX-Web\"}});}</script>                <script type=\"text/javascript\">window.PlotlyConfig = {MathJaxConfig: 'local'};</script>\n",
              "        <script charset=\"utf-8\" src=\"https://cdn.plot.ly/plotly-2.24.1.min.js\"></script>                <div id=\"1a72f8d6-1ceb-449c-93e0-397eb9157d20\" class=\"plotly-graph-div\" style=\"height:525px; width:100%;\"></div>            <script type=\"text/javascript\">                                    window.PLOTLYENV=window.PLOTLYENV || {};                                    if (document.getElementById(\"1a72f8d6-1ceb-449c-93e0-397eb9157d20\")) {                    Plotly.newPlot(                        \"1a72f8d6-1ceb-449c-93e0-397eb9157d20\",                        [{\"alignmentgroup\":\"True\",\"bingroup\":\"x\",\"hovertemplate\":\"DataFrame=df_a\\u003cbr\\u003eCount=%{x}\\u003cbr\\u003ecount=%{y}\\u003cextra\\u003e\\u003c\\u002fextra\\u003e\",\"legendgroup\":\"df_a\",\"marker\":{\"color\":\"blue\",\"opacity\":0.7,\"pattern\":{\"shape\":\"\"}},\"name\":\"df_a\",\"offsetgroup\":\"df_a\",\"orientation\":\"v\",\"showlegend\":true,\"x\":[2023.0,2022.0,2023.0,2022.0,2023.0,2019.0,2022.0,2023.0,2022.0,2023.0,2018.0,2022.0,2019.0,2019.0,2021.0,2018.0,2022.0,2019.0,2022.0,2023.0,2020.0,2023.0,2022.0,2019.0,2022.0,2017.0,2023.0,2023.0,2023.0,2022.0,2022.0,2023.0,2022.0,2023.0,2017.0,2021.0,2018.0,2022.0,2020.0,2022.0,2020.0,2019.0,2022.0,2023.0,2023.0,2019.0,2023.0,2019.0,2021.0,2023.0,2022.0,2021.0,2020.0,2021.0,2023.0,2023.0,2022.0,2023.0,2023.0,2023.0,2019.0,2023.0,2022.0,2023.0,2018.0,2023.0,2021.0,2021.0,2022.0,2021.0,2023.0,2019.0,2023.0,2022.0,2021.0,2021.0,2021.0,2022.0,2023.0,2023.0,2020.0,2020.0,2018.0,2019.0,2022.0,2021.0,2022.0,2023.0,2018.0,2019.0,2020.0,2018.0,2021.0,2020.0,2022.0,2021.0,2021.0,2023.0,2022.0,2023.0,2023.0,2023.0,2018.0,2019.0,2020.0,2022.0,2022.0,2023.0,2021.0,2022.0,2023.0,2023.0,2023.0,2022.0,2021.0,2018.0,2023.0,2023.0,2022.0,2019.0,2023.0,2020.0,2020.0,2023.0,2023.0,2021.0,2021.0,2020.0,2018.0,2019.0,2021.0,2020.0,2018.0,2018.0,2023.0,2023.0,2021.0,2020.0,2018.0,2021.0,2018.0,2019.0,2023.0,2020.0,2022.0,2023.0,2022.0,2023.0,2022.0,2022.0,2022.0,2021.0,2019.0,2023.0,2023.0,2022.0,2021.0,2023.0,2019.0,2018.0,2022.0,2021.0,2020.0,2018.0,2018.0,2023.0,2022.0,2020.0,2023.0,2020.0,2023.0,2019.0,2021.0,2022.0,2021.0,2022.0,2022.0,2022.0,2020.0,2023.0,2021.0,2023.0,2018.0,2017.0,2016.0,2016.0,2019.0,2021.0,2022.0,2017.0,2021.0,2017.0,2018.0,2018.0,2020.0,2021.0,2016.0,2019.0,2019.0,2022.0,2015.0,2020.0,2017.0,2022.0,2022.0,2023.0,2017.0,2020.0,2019.0,2015.0,2023.0,2019.0,2020.0,2022.0,2019.0,2022.0,2022.0,2022.0,2022.0,2023.0,2023.0,2019.0,2022.0,2022.0,2019.0,2023.0,2022.0,2022.0,2022.0,2023.0,2023.0,2019.0,2022.0,2021.0,2015.0,2023.0,2019.0,2023.0,2023.0,2020.0,2018.0,2021.0,2022.0,2022.0,2022.0,2022.0,2018.0,2022.0,2023.0,2021.0,2021.0,2023.0,2023.0,2021.0,2020.0,2021.0,2023.0,2021.0,2022.0,2019.0,2021.0,2021.0,2022.0,2021.0,2018.0,2019.0,2022.0,2021.0,2023.0,2023.0,2021.0,2019.0,2021.0,2018.0,2020.0,2019.0,2020.0,2022.0,2019.0,2023.0,2019.0,2022.0,2020.0,2018.0,2021.0,2022.0,2023.0,2020.0,2022.0,2021.0,2019.0,2021.0,2018.0,2023.0,2021.0,2022.0,2023.0,2021.0,2023.0,2022.0,2022.0,2018.0,2020.0,2021.0,2023.0,2021.0,2020.0,2018.0,2022.0,2018.0,2019.0,2020.0,2020.0,2020.0,2023.0,2022.0,2018.0,2020.0,2022.0,2022.0,2020.0,2018.0,2022.0,2021.0,2021.0,2020.0,2019.0,2020.0,2020.0,2022.0,2023.0,2020.0,2020.0,2021.0,2021.0,2021.0,2021.0,2022.0,2022.0,2023.0,2022.0,2020.0,2021.0,2018.0,2023.0,2022.0,2022.0,2021.0,2023.0,2022.0,2022.0,2022.0,2022.0,2019.0,2023.0,2020.0,2023.0,2022.0,2021.0,2020.0,2021.0,2022.0,2022.0,2021.0,2022.0,2021.0,2023.0,2023.0,2022.0,2020.0,2020.0,2015.0,2022.0,2018.0,2022.0,2020.0,2020.0,2019.0,2021.0,2023.0,2019.0,2022.0,2019.0,2019.0,2019.0,2022.0,2022.0,2023.0,2023.0,2023.0,2015.0,2023.0,2020.0,2022.0,2022.0,2019.0,2021.0,2023.0,2021.0,2021.0,2022.0,2021.0,2019.0,2020.0,2021.0,2021.0,2022.0,2016.0,2014.0,2016.0,2016.0,2023.0,2022.0,2019.0,2019.0,2023.0,2022.0,2022.0,2021.0,2023.0,2023.0,2023.0,2018.0,2021.0,2018.0,2023.0,2019.0,2022.0,2022.0,2019.0,2023.0,2023.0,2019.0,2020.0,2022.0,2018.0,2023.0,2020.0,2018.0,2020.0,2019.0,2022.0,2021.0,2020.0,2021.0,2023.0,2018.0,2023.0,2020.0,2023.0,2021.0,2021.0,2021.0,2022.0,2022.0,2020.0,2020.0,2022.0,2018.0,2022.0,2020.0,2022.0,2019.0,2021.0,2022.0,2022.0,2020.0,2023.0,2021.0,2023.0,2019.0,2021.0,2021.0,2021.0,2023.0,2018.0,2021.0,2022.0,2020.0,2021.0,2021.0,2021.0,2022.0,2019.0,2020.0,2022.0,2021.0,2021.0,2020.0,2023.0,2023.0,2020.0,2019.0,2023.0,2019.0,2022.0,2022.0,2021.0,2021.0,2020.0,2023.0,2022.0,2019.0,2022.0,2023.0,2023.0,2022.0,2018.0,2022.0,2023.0,2019.0,2023.0,2021.0,2023.0,2022.0,2023.0,2023.0,2019.0,2021.0,2023.0,2023.0,2018.0,2022.0,2019.0,2023.0,2020.0,2021.0,2022.0,2023.0,2023.0,2022.0,2022.0,2023.0,2021.0,2020.0,2023.0,2021.0,2021.0,2019.0,2023.0,2023.0,2019.0,2023.0,2019.0,2022.0,2018.0,2023.0,2021.0,2023.0,2021.0,2023.0,2019.0,2021.0,2018.0,2023.0,2021.0,2023.0,2020.0,2019.0,2023.0,2015.0,2022.0,2017.0,2023.0,2017.0,2023.0,2023.0,2023.0,2022.0,2020.0,2020.0,2019.0,2020.0,2022.0,2020.0,2018.0,2021.0,2021.0,2022.0,2022.0,2023.0,2018.0,2018.0,2021.0,2019.0,2023.0,2021.0,2022.0,2019.0,2021.0,2019.0,2023.0,2019.0,2022.0,2021.0,2022.0,2015.0,2023.0,2023.0,2018.0,2015.0,2023.0,2021.0,2023.0,2022.0,2023.0,2023.0,2020.0,2023.0,2021.0,2021.0,2023.0,2020.0,2023.0,2023.0,2022.0,2021.0,2021.0,2023.0,2021.0,2023.0,2022.0,2021.0,2016.0,2021.0,2021.0,2022.0,2021.0,2023.0,2022.0,2014.0,2017.0,2013.0,2016.0,2012.0,2019.0,2022.0,2015.0,2021.0,2016.0,2022.0,2023.0,2023.0,2018.0,2020.0,2022.0,2023.0,2021.0,2021.0,2022.0,2023.0,2022.0,2020.0,2022.0,2022.0,2023.0,2022.0,2010.0,2023.0,2020.0,2020.0,2021.0,2008.0,2020.0,2022.0,2023.0,2020.0,2023.0,2020.0,2021.0,2022.0,2019.0,2022.0,2023.0,2017.0,2019.0,2021.0,2019.0,2023.0,2017.0,2019.0,2019.0,2022.0,2013.0,2017.0,2021.0,2017.0,2022.0,2021.0,2021.0,2020.0,2019.0,2023.0,2017.0,2023.0,2022.0,2020.0,2023.0,2021.0,2022.0,2019.0,2021.0,2018.0,2019.0,2023.0,2018.0,2023.0,2022.0,2021.0,2023.0,2021.0,2018.0,2020.0,2022.0,2021.0,2021.0,2016.0,2016.0,2016.0,2022.0,2019.0,2017.0,2018.0,2018.0,2023.0,2021.0,2022.0,2021.0,2016.0,2013.0,2022.0,2019.0,2021.0,2019.0,2019.0,2017.0,2017.0,2014.0,2014.0,2013.0,2021.0,2021.0,2022.0,2020.0,2021.0,2021.0,2020.0,2018.0,2022.0,2015.0,2018.0,2019.0,2018.0,2023.0,2021.0,2019.0,2021.0,2021.0,2022.0,2020.0,2020.0,2021.0,2020.0,2023.0,2022.0,2022.0,2019.0,2022.0,2019.0,2023.0,2019.0,2019.0,2023.0,2020.0,2022.0,2023.0,2019.0,2018.0,2021.0,2023.0,2023.0,2019.0,2019.0,2021.0,2021.0,2019.0,2021.0,2022.0,2019.0,2022.0,2023.0,2021.0,2018.0,2020.0,2020.0,2021.0,2021.0,2018.0,2020.0,2023.0,2022.0,2023.0,2021.0,2020.0,2021.0,2022.0,2021.0,2019.0,2021.0,2020.0,2022.0,2022.0,2023.0,2021.0,2022.0,2023.0,2013.0,2017.0,2017.0,2017.0,2023.0,2020.0,2023.0,2019.0,2023.0,2023.0,2020.0,2022.0,2021.0,2022.0,2023.0,2021.0,2022.0,2019.0,2018.0,2022.0,2021.0,2023.0,2020.0,2023.0,2023.0,2022.0,2022.0,2022.0,2020.0,2023.0,2023.0,2021.0,2020.0,2022.0,2021.0,2019.0,2020.0,2016.0,2017.0,2014.0,2019.0,2013.0,2018.0,2020.0,2019.0,2019.0,2019.0,2022.0,2022.0,2022.0,2021.0,2021.0,2017.0,2017.0,2020.0,2023.0,2021.0,2023.0,2023.0,2022.0,2019.0,2020.0,2018.0,2022.0,2022.0,2018.0,2014.0,2021.0,2021.0,2023.0,2018.0,2023.0,2023.0,2018.0,2022.0,2022.0,2021.0,2020.0,2018.0,2021.0,2019.0,2018.0,2021.0,2021.0,2021.0,2021.0,2020.0,2023.0,2022.0,2023.0,2021.0,2019.0,2022.0,2022.0,2023.0,2023.0,2023.0,2019.0,2023.0,2022.0,2021.0,2022.0,2021.0,2021.0,2019.0,2021.0,2021.0,2020.0,2023.0,2017.0,2019.0,2017.0,2017.0,2013.0,2016.0,2016.0,2023.0,2016.0,2023.0,2020.0,2014.0,2020.0,2019.0,2022.0,2022.0,2022.0,2022.0,2023.0,2018.0,2020.0,2023.0,2021.0,2023.0,2021.0,2023.0,2021.0,2020.0,2019.0,2023.0,2017.0,2022.0,2017.0,2019.0,2022.0,2022.0,2021.0,2022.0,2022.0,2022.0,2020.0,2021.0,2023.0,2021.0,2022.0,2021.0,2020.0,2019.0,2021.0,2019.0,2020.0,2019.0,2021.0,2018.0,2021.0,2023.0,2021.0,2019.0,2021.0,2021.0,2022.0,2023.0,2021.0,2023.0,2020.0,2018.0,2023.0,2020.0,2019.0,2019.0,2022.0,2021.0,2023.0,2022.0,2022.0,2022.0,2020.0,2019.0,2020.0,2023.0,2019.0,2020.0,2022.0,2022.0,2020.0,2020.0,2023.0,2023.0,2023.0,2021.0,2019.0,2022.0,2021.0,2019.0,2019.0,2021.0,2018.0,2021.0,2023.0,2023.0,2021.0,2021.0,2019.0,2019.0,2020.0,2022.0,2018.0,2022.0,2021.0,2018.0,2022.0,2022.0,2023.0,2022.0,2023.0,2019.0,2018.0,2020.0,2015.0,2019.0,2023.0,2023.0,2020.0,2019.0,2015.0,2020.0,2022.0,2021.0,2022.0,2020.0,2018.0,2022.0,2020.0,2022.0,2021.0,2021.0,2018.0,2022.0,2022.0,2018.0,2018.0,2019.0,2022.0,2018.0,2020.0,2023.0,2017.0,2014.0,2021.0,2019.0,2022.0,2018.0,2018.0,2020.0,2017.0,2022.0,2019.0,2022.0,2021.0,2016.0,2022.0,2018.0,2020.0,2021.0,2022.0,2015.0,2020.0,2016.0,2020.0,2020.0,2020.0,2017.0,2017.0,2014.0,2019.0,2020.0,2022.0,2023.0,2020.0,2022.0,2023.0,2023.0,2022.0,2022.0,2020.0,2022.0,2022.0,2023.0,2018.0,2022.0,2021.0,2015.0,2019.0,2018.0,2019.0,2023.0,2022.0,2020.0,2023.0,2015.0,2023.0,2021.0,2019.0,2023.0,2021.0,2022.0,2020.0,2022.0,2021.0,2019.0,2023.0,2021.0,2020.0,2021.0,2021.0,2020.0,2022.0,2018.0,2017.0,2013.0,2016.0,2017.0,2016.0,2018.0,2023.0,2020.0,2021.0,2023.0,2023.0,2020.0,2019.0,2022.0,2023.0,2018.0,2020.0,2020.0,2022.0,2023.0,2021.0,2023.0,2022.0,2022.0,2023.0,2018.0,2021.0,2021.0,2021.0,2018.0,2023.0,2022.0,2021.0,2022.0,2022.0,2022.0,2021.0,2018.0,2021.0,2018.0,2020.0,2022.0,2018.0,2021.0,2021.0,2023.0,2023.0,2022.0,2020.0,2022.0,2021.0,2022.0,2022.0,2022.0,2023.0,2020.0,2022.0,2023.0,2022.0,2023.0,2023.0,2018.0,2020.0,2021.0,2021.0,2021.0,2022.0,2023.0,2019.0,2018.0,2020.0,2021.0,2021.0,2019.0,2023.0,2021.0,2023.0,2022.0,2019.0,2021.0,2021.0,2018.0,2018.0,2023.0,2021.0,2021.0,2023.0,2016.0,2012.0,2020.0,2020.0,2022.0,2022.0,2023.0,2018.0,2023.0,2020.0,2023.0,2021.0,2020.0,2020.0,2020.0,2021.0,2023.0,2022.0,2018.0,2019.0,2020.0,2022.0,2023.0,2022.0,2022.0,2022.0,2023.0,2023.0,2018.0,2023.0,2022.0,2022.0,2023.0,2021.0,2020.0,2023.0,2021.0,2019.0,2018.0,2022.0,2021.0,2018.0,2021.0,2022.0,2021.0,2022.0,2021.0,2019.0,2018.0,2021.0,2021.0,2021.0,2020.0,2019.0,2019.0,2022.0,2018.0,2023.0,2023.0,2023.0,2023.0,2020.0,2020.0,2022.0,2019.0,2021.0,2023.0,2021.0,2019.0,2022.0,2022.0,2023.0,2022.0,2019.0,2021.0,2022.0,2022.0,2023.0,2021.0,2018.0,2022.0,2022.0,2019.0,2022.0,2022.0,2021.0,2021.0,2022.0,2022.0,2022.0,2022.0,2022.0,2022.0,2019.0,2019.0,2020.0,2022.0,2020.0,2023.0,2019.0,2020.0,2020.0,2023.0,2023.0,2021.0,2020.0,2020.0,2021.0,2017.0,2018.0,2021.0,2022.0,2018.0,2023.0,2023.0,2020.0,2021.0,2021.0,2022.0,2021.0,2023.0,2023.0,2023.0,2023.0,2021.0,2019.0,2022.0,2020.0,2021.0,2022.0,2019.0,2022.0,2022.0,2022.0,2021.0,2020.0,2021.0,2021.0,2021.0,2018.0,2020.0,2018.0,2023.0,2020.0,2019.0,2023.0,2020.0,2020.0,2021.0,2020.0,2023.0,2015.0,2020.0,2022.0,2023.0,2020.0,2022.0,2022.0,2021.0,2023.0,2018.0,2022.0,2021.0,2021.0,2023.0,2021.0,2023.0,2022.0,2019.0,2019.0,2022.0,2021.0,2019.0,2021.0,2021.0,2023.0,2017.0,2022.0,2022.0,2021.0,2022.0,2023.0,2022.0,2022.0,2022.0,2021.0,2015.0,2019.0,2020.0,2015.0,2021.0,2019.0,2018.0,2021.0,2023.0,2021.0,2015.0,2022.0,2023.0,2020.0,2023.0,2023.0,2016.0,2022.0,2023.0,2016.0,2022.0,2023.0,2021.0,2023.0,2023.0,2020.0,2023.0,2022.0,2021.0,2023.0,2020.0,2018.0,2021.0,2020.0,2018.0,2021.0,2023.0,2023.0,2022.0,2021.0,2021.0,2020.0,2022.0,2021.0,2019.0,2021.0,2022.0,2021.0,2023.0,2021.0,2021.0,2021.0,2021.0,2022.0,2020.0,2020.0,2021.0,2020.0,2021.0,2023.0,2022.0,2020.0,2022.0,2017.0,2023.0,2020.0,2022.0,2018.0,2022.0,2020.0,2023.0,2021.0,2020.0,2018.0,2023.0,2021.0,2019.0,2023.0,2022.0,2021.0,2023.0,2022.0,2020.0,2022.0,2021.0,2022.0,2018.0,2021.0,2019.0,2020.0,2021.0,2018.0,2022.0,2023.0,2022.0,2016.0,2017.0,2021.0,2021.0,2022.0,2023.0,2020.0,2016.0,2014.0,2017.0,2017.0,2017.0,2016.0,2017.0,2016.0,2022.0,2022.0,2023.0,2018.0,2021.0,2023.0,2014.0,2023.0,2022.0,2023.0,2023.0,2020.0,2021.0,2022.0,2021.0,2020.0,2017.0,2013.0,2017.0,2014.0,2023.0,2019.0,2020.0,2021.0,2022.0,2021.0,2021.0,2023.0,2019.0,2021.0,2021.0,2023.0,2021.0,2015.0,2022.0,2023.0,2023.0,2023.0,2015.0,2019.0,2023.0,2019.0,2021.0,2021.0,2020.0,2023.0,2021.0,2022.0,2022.0,2019.0,2023.0,2022.0,2022.0,2022.0,2023.0,2022.0,2023.0,2021.0,2021.0,2020.0,2022.0,2021.0,2017.0,2012.0,2017.0,2021.0,2020.0,2022.0,2022.0,2022.0,2023.0,2018.0,2023.0,2022.0,2021.0,2019.0,2021.0,2017.0,2021.0,2019.0,2022.0,2022.0,2018.0,2021.0,2021.0,2021.0,2023.0,2023.0,2021.0,2020.0,2017.0,2016.0,2023.0,2014.0,2019.0,2022.0,2020.0,2021.0,2019.0,2021.0,2023.0,2017.0,2019.0,2023.0,2021.0,2021.0,2023.0,2021.0,2016.0,2023.0,2014.0,2019.0,2023.0,2019.0,2022.0,2022.0,2017.0,2018.0,2020.0,2023.0,2021.0,2023.0,2023.0,2018.0,2023.0,2019.0,2020.0,2022.0,2023.0,2023.0,2019.0,2018.0,2022.0,2022.0,2022.0,2023.0,2020.0,2022.0,2022.0,2023.0,2020.0,2021.0,2022.0,2021.0,2022.0,2019.0,2019.0,2023.0,2021.0,2023.0,2021.0,2022.0,2023.0,2021.0,2019.0,2023.0,2021.0,2020.0,2022.0,2015.0,2023.0,2023.0,2022.0,2022.0,2021.0,2023.0,2020.0,2022.0,2019.0,2022.0,2022.0,2020.0,2022.0,2022.0,2018.0,2022.0,2016.0,2019.0,2022.0,2021.0,2022.0,2022.0,2022.0,2019.0,2018.0,2023.0,2021.0,2022.0,2018.0,2020.0,2021.0,2020.0,2018.0,2020.0,2020.0,2021.0,2023.0,2021.0,2021.0,2021.0,2020.0,2018.0,2022.0,2019.0,2021.0,2019.0,2022.0,2021.0,2019.0,2023.0,2023.0,2022.0,2022.0,2023.0,2023.0,2023.0,2019.0,2019.0,2023.0,2021.0,2023.0,2023.0,2019.0,2023.0,2020.0,2021.0,2022.0,2020.0,2020.0,2019.0,2018.0,2018.0,2019.0,2021.0,2022.0,2023.0,2019.0,2019.0,2018.0,2023.0,2019.0,2023.0,2021.0,2019.0,2020.0,2022.0,2021.0,2020.0,2022.0,2021.0,2022.0,2021.0,2021.0,2019.0,2022.0,2022.0,2023.0,2019.0,2022.0,2020.0,2023.0,2023.0,2022.0,2023.0,2020.0,2022.0,2022.0,2021.0,2023.0,2021.0,2023.0,2021.0,2022.0,2023.0,2023.0,2021.0,2018.0,2017.0,2022.0,2018.0,2020.0,2022.0,2019.0,2022.0,2022.0,2018.0,2015.0,2021.0,2016.0,2022.0,2023.0,2021.0,2020.0,2019.0,2017.0,2019.0,2020.0,2014.0,2022.0,2021.0,2019.0,2021.0,2022.0,2021.0,2022.0,2020.0,2020.0,2021.0,2021.0,2021.0,2023.0,2023.0,2018.0,2018.0,2023.0,2022.0,2021.0,2018.0,2022.0,2021.0,2020.0,2020.0,2023.0,2022.0,2023.0,2018.0,2022.0,2021.0,2020.0,2023.0,2021.0,2020.0,2022.0,2021.0,2020.0,2022.0,2019.0,2021.0,2020.0,2019.0,2022.0,2022.0,2019.0,2022.0,2023.0,2022.0,2019.0,2023.0,2023.0,2019.0,2023.0,2020.0,2018.0,2023.0,2021.0,2019.0,2020.0,2020.0,2021.0,2019.0,2021.0,2022.0,2018.0,2018.0,2022.0,2021.0,2019.0,2019.0,2023.0,2023.0,2023.0,2022.0,2022.0,2022.0,2023.0,2023.0,2021.0,2018.0,2023.0,2021.0,2022.0,2021.0,2023.0,2015.0,2021.0,2023.0,2023.0,2018.0,2018.0,2020.0,2020.0,2023.0,2022.0,2023.0,2023.0,2018.0,2019.0,2023.0,2020.0,2023.0,2023.0,2021.0,2018.0,2022.0,2021.0,2023.0,2018.0,2020.0,2015.0,2019.0,2019.0,2022.0,2023.0,2018.0,2019.0,2021.0,2020.0,2020.0,2019.0,2021.0,2022.0,2022.0,2020.0,2023.0,2020.0,2023.0,2023.0,2023.0,2023.0,2016.0,2017.0,2017.0,2020.0,2020.0,2021.0,2022.0,2020.0,2019.0,2021.0,2021.0,2023.0,2023.0,2022.0,2021.0,2018.0,2020.0,2022.0,2019.0,2018.0,2023.0,2022.0,2020.0,2020.0,2023.0,2022.0,2023.0,2015.0,2019.0,2023.0,2019.0,2021.0,2020.0,2023.0,2012.0,2022.0,2018.0,2021.0,2021.0,2022.0,2022.0,2020.0,2019.0,2011.0,2016.0,2017.0,2012.0,2013.0,2020.0,2023.0,2023.0,2022.0,2021.0,2019.0,2023.0,2019.0,2021.0,2021.0,2019.0,2023.0,2023.0,2022.0,2022.0,2022.0,2023.0,2016.0,2021.0,2022.0,2022.0,2022.0,2023.0,2022.0,2023.0,2016.0,2014.0,2020.0,2022.0,2015.0,2018.0,2022.0,2019.0,2018.0,2021.0,2023.0,2021.0,2018.0,2018.0,2021.0,2014.0,2022.0,2022.0,2021.0,2021.0,2023.0,2022.0,2022.0,2019.0,2020.0,2017.0,2021.0,2017.0,2016.0,2016.0,2021.0,2018.0,2019.0,2017.0,2018.0,2022.0,2019.0,2018.0,2022.0,2023.0,2021.0,2019.0,2023.0,2022.0,2022.0,2022.0,2022.0,2021.0,2018.0,2022.0,2022.0,2022.0,2020.0,2022.0,2019.0,2020.0,2022.0,2021.0,2020.0,2021.0,2021.0,2021.0,2020.0,2019.0,2022.0,2018.0,2021.0,2021.0,2022.0,2021.0,2018.0,2017.0,2017.0,2017.0,2019.0,2012.0,2016.0,2013.0,2021.0,2023.0,2022.0,2023.0,2022.0,2022.0,2020.0,2023.0,2019.0,2023.0,2019.0,2018.0,2020.0,2020.0,2023.0,2022.0,2023.0,2018.0,2019.0,2021.0,2019.0,2019.0,2023.0,2018.0,2020.0,2018.0,2020.0,2021.0,2018.0,2023.0,2022.0,2020.0,2020.0,2022.0,2023.0,2022.0,2021.0,2021.0,2023.0,2021.0,2022.0,2022.0,2021.0,2023.0,2022.0,2020.0,2018.0,2023.0,2022.0,2023.0,2022.0,2020.0,2021.0,2020.0,2015.0,2023.0,2022.0,2019.0,2022.0,2022.0,2020.0,2023.0,2023.0,2021.0,2020.0,2018.0,2021.0,2023.0,2022.0,2023.0,2018.0,2020.0,2023.0,2019.0,2020.0,2022.0,2023.0,2019.0,2022.0,2023.0,2023.0,2017.0,2016.0,2017.0,2017.0,2017.0,2011.0,2017.0,2015.0,2020.0,2021.0,2023.0,2016.0,2019.0,2019.0,2023.0,2020.0,2021.0,2020.0,2022.0,2014.0,2016.0,2017.0,2021.0,2023.0,2019.0,2019.0,2023.0,2022.0,2017.0,2017.0,2022.0,2020.0,2023.0,2017.0,2014.0,2013.0,2021.0,2021.0,2018.0,2021.0,2022.0,2019.0,2019.0,2021.0,2017.0,2017.0,2017.0,2016.0,2017.0,2018.0,2019.0,2022.0,2022.0,2020.0,2021.0,2023.0,2019.0,2021.0,2021.0,2021.0,2023.0,2015.0,2020.0,2023.0,2020.0,2023.0,2023.0,2019.0,2021.0,2017.0,2016.0,2017.0,2021.0,2021.0,2021.0,2022.0,2022.0,2018.0,2019.0,2023.0,2019.0,2020.0,2018.0,2019.0,2023.0,2023.0,2023.0,2023.0,2019.0,2022.0,2019.0,2023.0,2021.0,2022.0,2021.0,2020.0,2022.0,2022.0,2022.0,2021.0,2019.0,2021.0,2022.0,2020.0,2015.0,2020.0,2022.0,2019.0,2018.0,2020.0,2013.0,2016.0,2022.0,2022.0,2023.0,2020.0,2020.0,2021.0,2023.0,2020.0,2014.0,2013.0,2016.0,2021.0,2019.0,2022.0,2022.0,2020.0,2019.0,2021.0,2022.0,2018.0,2022.0,2020.0,2017.0,2017.0,2017.0,2023.0,2020.0,2023.0,2023.0,2023.0,2019.0,2022.0,2018.0,2022.0,2013.0,2014.0,2013.0,2012.0,2016.0,2017.0,2014.0,2017.0,2016.0,2016.0,2017.0,2017.0,2023.0,2018.0,2023.0,2022.0,2021.0,2022.0,2020.0,2019.0,2020.0,2018.0,2023.0,2023.0,2022.0,2022.0,2023.0,2018.0,2023.0,2022.0,2022.0,2020.0,2021.0,2022.0,2018.0,2023.0,2021.0,2019.0,2022.0,2021.0,2022.0,2020.0,2022.0,2019.0,2019.0,2022.0,2023.0,2023.0,2021.0,2021.0,2023.0,2021.0,2018.0,2021.0,2023.0,2022.0,2020.0,2022.0,2021.0,2023.0,2020.0,2021.0,2020.0,2018.0,2020.0,2020.0,2019.0,2020.0,2023.0,2018.0,2022.0,2022.0,2021.0,2022.0,2021.0,2023.0,2021.0,2020.0,2021.0,2020.0,2019.0,2020.0,2015.0,2022.0,2022.0,2021.0,2020.0,2020.0,2021.0,2021.0,2021.0,2020.0,2023.0,2019.0,2023.0,2022.0,2021.0,2022.0,2022.0,2020.0,2022.0,2019.0,2020.0,2016.0,2017.0,2017.0,2023.0,2018.0,2019.0,2022.0,2023.0,2021.0,2019.0,2019.0,2017.0,2017.0,2020.0,2019.0,2019.0,2021.0,2021.0,2021.0,2014.0,2016.0,2017.0,2021.0,2021.0,2017.0,2018.0,2021.0,2023.0,2023.0,2022.0,2012.0,2014.0,2023.0,2019.0,2019.0,2023.0,2023.0,2023.0,2021.0,2019.0,2022.0,2022.0,2021.0,2018.0,2023.0,2021.0,2022.0,2023.0,2022.0,2018.0,2020.0,2021.0,2020.0,2020.0,2021.0,2023.0,2022.0,2021.0,2022.0,2018.0,2018.0,2023.0,2019.0,2023.0,2022.0,2023.0,2023.0,2023.0,2021.0,2020.0,2020.0,2022.0,2017.0,2023.0,2023.0,2023.0,2020.0,2022.0,2022.0,2022.0,2020.0,2023.0,2020.0,2019.0,2020.0,2017.0,2017.0,2019.0,2023.0,2023.0,2023.0,2021.0,2019.0,2020.0,2023.0,2023.0,2023.0,2022.0,2021.0,2023.0,2023.0,2023.0,2022.0,2021.0,2021.0,2023.0,2021.0,2021.0,2021.0,2023.0,2023.0,2022.0,2023.0,2022.0,2021.0,2023.0,2023.0,2020.0,2021.0,2022.0,2023.0,2019.0,2023.0,2021.0,2023.0,2023.0,2022.0,2020.0,2023.0,2021.0,2021.0,2021.0,2017.0,2021.0,2022.0,2023.0,2022.0,2022.0,2021.0,2020.0,2020.0,2021.0,2022.0,2021.0,2020.0,2023.0,2023.0,2022.0,2022.0,2020.0,2022.0,2022.0,2019.0,2021.0,2022.0,2022.0,2023.0,2020.0,2023.0,2020.0,2022.0,2023.0,2019.0,2022.0,2022.0,2023.0,2023.0,2022.0,2022.0,2021.0,2022.0,2022.0,2017.0,2022.0,2018.0,2018.0,2022.0,2019.0,2022.0,2023.0,2018.0,2023.0,2022.0,2022.0,2020.0,2015.0,2020.0,2022.0,2020.0,2019.0,2022.0,2022.0,2021.0,2020.0,2019.0,2023.0,2023.0,2023.0,2023.0,2021.0,2022.0,2021.0,2017.0,2017.0,2017.0,2022.0,2019.0,2022.0,2022.0,2023.0,2020.0,2018.0,2022.0,2020.0,2019.0,2022.0,2021.0,2019.0,2019.0,2022.0,2021.0,2020.0,2021.0,2020.0,2023.0,2022.0,2021.0,2023.0,2023.0,2021.0,2023.0,2023.0,2021.0,2022.0,2022.0,2020.0,2019.0,2022.0,2020.0,2023.0,2023.0,2021.0,2021.0,2023.0,2020.0,2018.0,2022.0,2023.0,2023.0,2023.0,2022.0,2023.0,2015.0,2023.0,2022.0,2019.0,2015.0,2022.0,2021.0,2020.0,2021.0,2018.0,2023.0,2022.0,2023.0,2023.0,2021.0,2023.0,2021.0,2019.0,2022.0,2021.0,2021.0,2023.0,2020.0,2019.0,2018.0,2023.0,2021.0,2021.0,2022.0,2019.0,2020.0,2021.0,2022.0,2022.0,2023.0,2022.0,2018.0,2021.0,2018.0,2023.0,2021.0,2020.0,2022.0,2021.0,2015.0,2021.0,2020.0,2020.0,2020.0,2018.0,2022.0,2023.0,2022.0,2021.0,2023.0,2018.0,2018.0,2019.0,2020.0,2018.0,2023.0,2022.0,2019.0,2019.0,2019.0,2018.0,2022.0,2023.0,2022.0,2023.0,2022.0,2020.0,2023.0,2020.0,2022.0,2022.0,2018.0,2021.0,2022.0,2019.0,2023.0,2022.0,2021.0,2023.0,2022.0,2023.0,2022.0,2023.0,2022.0,2022.0,2020.0,2019.0,2019.0,2023.0,2021.0,2018.0,2022.0,2018.0,2019.0,2022.0,2022.0,2018.0,2021.0,2022.0,2019.0,2022.0,2018.0,2023.0,2022.0,2019.0,2022.0,2022.0,2022.0,2022.0,2019.0,2020.0,2021.0,2021.0,2019.0,2023.0,2021.0,2023.0,2021.0,2021.0,2022.0,2021.0,2021.0,2019.0,2022.0,2020.0,2023.0,2023.0,2023.0,2021.0,2018.0,2020.0,2020.0,2023.0,2023.0,2022.0,2019.0,2021.0,2023.0,2021.0,2022.0,2019.0,2019.0,2023.0,2021.0,2021.0,2023.0,2023.0,2023.0,2022.0,2023.0,2019.0,2018.0,2015.0,2022.0,2023.0,2020.0,2019.0,2023.0,2023.0,2022.0,2019.0,2022.0,2021.0,2021.0,2022.0,2023.0,2023.0,2023.0,2022.0,2022.0,2020.0,2023.0,2019.0,2020.0,2019.0,2020.0,2023.0,2020.0,2018.0,2021.0,2020.0,2019.0,2023.0,2023.0,2022.0,2022.0,2022.0,2023.0,2021.0,2019.0,2022.0,2020.0,2023.0,2022.0,2023.0,2023.0,2021.0,2018.0,2021.0,2023.0,2018.0,2021.0,2020.0,2022.0,2021.0,2022.0,2022.0,2023.0,2022.0,2019.0,2020.0,2023.0,2019.0,2018.0,2021.0,2021.0,2023.0,2022.0,2014.0,2016.0,2016.0,2022.0,2019.0,2020.0,2023.0,2022.0,2023.0,2022.0,2022.0,2023.0,2019.0,2019.0,2022.0,2021.0,2021.0,2019.0,2022.0,2017.0,2023.0,2023.0,2023.0,2022.0,2019.0,2022.0,2022.0,2022.0,2019.0,2023.0,2021.0,2020.0,2023.0,2023.0,2019.0,2021.0,2020.0,2019.0,2023.0,2020.0,2022.0,2019.0,2018.0,2022.0,2022.0,2023.0,2022.0,2022.0,2019.0,2023.0,2019.0,2020.0,2022.0,2023.0,2022.0,2023.0,2020.0,2018.0,2023.0,2020.0,2022.0,2022.0,2021.0,2023.0,2022.0,2019.0,2021.0,2020.0,2020.0,2021.0,2022.0,2020.0,2021.0,2019.0,2018.0,2020.0,2022.0,2021.0,2023.0,2023.0,2021.0,2023.0,2021.0,2021.0,2018.0,2018.0,2022.0,2018.0,2023.0,2018.0,2022.0,2021.0,2019.0,2020.0,2023.0,2023.0,2019.0,2021.0,2021.0,2019.0,2023.0,2022.0,2022.0,2020.0,2022.0,2023.0,2023.0,2023.0,2020.0,2022.0,2019.0,2022.0,2020.0,2021.0,2020.0,2021.0,2020.0,2022.0,2021.0,2023.0,2023.0,2020.0,2022.0,2023.0,2021.0,2020.0,2021.0,2023.0,2023.0,2020.0,2019.0,2023.0,2018.0,2022.0,2023.0,2021.0,2019.0,2018.0,2021.0,2023.0,2022.0,2019.0,2020.0,2023.0,2021.0,2021.0,2020.0,2022.0,2022.0,2021.0,2021.0,2020.0,2023.0,2022.0,2021.0,2023.0,2021.0,2020.0,2018.0,2023.0,2023.0,2023.0,2021.0,2023.0,2022.0,2019.0,2019.0,2019.0,2023.0,2020.0,2023.0,2021.0,2022.0,2020.0,2021.0,2022.0,2021.0,2022.0,2019.0,2022.0,2021.0,2023.0,2017.0,2008.0,2021.0,2023.0,2021.0,2017.0,2021.0,2019.0,2022.0,2023.0,2022.0,2022.0,2020.0,2023.0,2018.0,2023.0,2020.0,2020.0,2022.0,2014.0,2017.0,2021.0,2019.0,2020.0,2023.0,2019.0,2021.0,2019.0,2019.0,2018.0,2022.0,2019.0,2019.0,2019.0,2022.0,2020.0,2023.0,2020.0,2023.0,2021.0,2023.0,2023.0,2022.0,2023.0,2021.0,2021.0,2023.0,2020.0,2017.0,2017.0,2020.0,2021.0,2020.0,2023.0,2022.0,2020.0,2022.0,2019.0,2023.0,2023.0,2019.0,2020.0,2023.0,2023.0,2021.0,2022.0,2021.0,2020.0,2019.0,2021.0,2021.0,2022.0,2021.0,2019.0,2022.0,2020.0,2022.0,2021.0,2023.0,2023.0,2019.0,2022.0,2022.0,2023.0,2021.0,2020.0,2020.0,2022.0,2019.0,2022.0,2020.0,2023.0,2023.0,2019.0,2020.0,2022.0,2021.0,2019.0,2023.0,2023.0,2023.0,2021.0,2022.0,2017.0,2021.0,2020.0,2020.0,2023.0,2021.0,2019.0,2022.0,2023.0,2021.0,2018.0,2022.0,2012.0,2022.0,2023.0,2023.0,2021.0,2020.0,2022.0,2023.0,2021.0,2022.0,2019.0,2018.0,2022.0,2019.0,2017.0,2023.0,2018.0,2018.0,2016.0,2023.0,2012.0,2023.0,2023.0,2018.0,2021.0,2017.0,2014.0,2019.0,2013.0,2013.0,2023.0,2023.0,2022.0,2017.0,2017.0,2017.0,2022.0,2016.0,2017.0,2014.0,2022.0,2019.0,2022.0,2022.0,2022.0,2023.0,2023.0,2023.0,2018.0,2019.0,2023.0,2023.0,2021.0,2022.0,2022.0,2023.0,2019.0,2023.0,2022.0,2020.0,2022.0,2023.0,2021.0,2022.0,2019.0,2023.0,2019.0,2022.0,2020.0,2019.0,2023.0,2020.0,2019.0,2021.0,2022.0,2019.0,2018.0,2018.0,2021.0,2023.0,2020.0,2023.0,2020.0,2023.0,2018.0,2023.0,2020.0,2021.0,2022.0,2015.0,2019.0,2023.0,2022.0,2022.0,2023.0,2022.0,2017.0,2023.0,2013.0,2023.0,2018.0,2019.0,2020.0,2021.0,2020.0,2017.0,2017.0,2016.0,2016.0,2018.0,2020.0,2022.0,2023.0,2018.0,2022.0,2020.0,2018.0,2018.0,2021.0,2018.0,2019.0,2022.0,2021.0,2018.0,2020.0,2021.0,2018.0,2020.0,2020.0,2019.0,2016.0,2018.0,2017.0,2016.0,2022.0,2020.0,2019.0,2015.0,2023.0,2021.0,2021.0,2023.0,2023.0,2019.0,2022.0,2014.0,2014.0,2017.0,2019.0,2021.0,2021.0,2023.0,2022.0,2021.0,2022.0,2023.0,2019.0,2020.0,2023.0,2023.0,2022.0,2023.0,2021.0,2019.0,2022.0,2020.0,2013.0,2023.0,2016.0,2014.0,2017.0,2020.0,2021.0,2023.0,2019.0,2019.0,2019.0,2023.0,2020.0,2014.0,2017.0,2014.0,2023.0,2022.0,2012.0,2020.0,2021.0,2022.0,2023.0,2023.0,2023.0,2020.0,2022.0,2019.0,2018.0,2023.0,2020.0,2023.0,2016.0,2016.0,2022.0,2019.0,2022.0,2022.0,2023.0,2022.0,2022.0,2022.0,2019.0,2019.0,2021.0,2015.0,2020.0,2021.0,2022.0,2022.0,2022.0,2020.0,2018.0,2020.0,2023.0,2023.0,2020.0,2023.0,2021.0,2015.0,2019.0,2022.0,2021.0,2020.0,2020.0,2018.0,2020.0,2022.0,2018.0,2018.0,2022.0,2021.0,2019.0,2020.0,2022.0,2022.0,2020.0,2022.0,2020.0,2022.0,2018.0,2021.0,2021.0,2020.0,2023.0,2021.0,2021.0,2021.0,2018.0,2018.0,2021.0,2021.0,2022.0,2022.0,2019.0,2021.0,2021.0,2021.0,2023.0,2019.0,2021.0,2020.0,2022.0,2019.0,2015.0,2015.0,2021.0,2019.0,2019.0,2021.0,2021.0,2020.0,2021.0,2022.0,2023.0,2022.0,2023.0,2021.0,2022.0,2020.0,2020.0,2019.0,2021.0,2022.0,2023.0,2018.0,2022.0,2023.0,2022.0,2019.0,2019.0,2022.0,2021.0,2020.0,2020.0,2023.0,2020.0,2022.0,2022.0,2023.0,2022.0,2022.0,2020.0,2023.0,2022.0,2021.0,2022.0,2021.0,2023.0,2019.0,2019.0,2021.0,2021.0,2022.0,2023.0,2018.0,2023.0,2020.0,2021.0,2022.0,2019.0,2021.0,2020.0,2021.0,2020.0,2019.0,2021.0,2013.0,2017.0,2017.0,2023.0,2013.0,2014.0,2017.0,2017.0,2014.0,2023.0,2023.0,2022.0,2023.0,2023.0,2023.0,2023.0,2023.0,2022.0,2022.0,2022.0,2022.0,2019.0,2021.0,2021.0,2021.0,2020.0,2022.0,2023.0,2023.0,2018.0,2022.0,2013.0,2017.0,2017.0,2020.0,2019.0,2021.0,2018.0,2021.0,2023.0,2023.0,2022.0,2023.0,2022.0,2023.0,2021.0,2021.0,2015.0,2020.0,2019.0,2023.0,2021.0,2022.0,2020.0,2018.0,2020.0,2019.0,2020.0,2012.0,2017.0,2023.0,2023.0,2023.0,2023.0,2022.0,2023.0,2023.0,2023.0,2022.0,2020.0,2022.0,2020.0,2022.0,2018.0,2021.0,2020.0,2021.0,2022.0,2020.0,2021.0,2013.0,2017.0,2014.0,2013.0,2017.0,2023.0,2008.0,2017.0,2016.0,2021.0,2021.0,2021.0,2018.0,2019.0,2018.0,2017.0,2014.0,2023.0,2023.0,2016.0,2014.0,2016.0,2016.0,2012.0,2022.0,2021.0,2016.0,2019.0,2023.0,2023.0,2023.0,2022.0,2021.0,2023.0,2021.0,2021.0,2023.0,2020.0,2023.0,2020.0,2022.0,2022.0,2022.0,2023.0,2023.0,2018.0,2022.0,2020.0,2021.0,2023.0,2021.0,2023.0,2020.0,2022.0,2021.0,2021.0,2020.0,2022.0,2019.0,2019.0,2023.0,2021.0,2021.0,2019.0,2022.0,2022.0,2022.0,2020.0,2022.0,2020.0,2023.0,2020.0,2018.0,2023.0,2021.0,2022.0,2023.0,2023.0,2022.0,2020.0,2021.0,2021.0,2022.0,2022.0,2019.0,2019.0,2023.0,2022.0,2023.0,2020.0,2023.0,2020.0,2021.0,2021.0,2020.0,2019.0,2020.0,2023.0,2019.0,2023.0,2019.0,2021.0,2021.0,2021.0,2023.0,2021.0,2022.0,2017.0,2017.0,2020.0,2013.0,2020.0,2016.0,2014.0,2011.0,2014.0,2017.0,2016.0,2017.0,2017.0,2017.0,2021.0,2014.0,2013.0,2016.0,2011.0,2013.0,2012.0,2023.0,2018.0,2021.0,2020.0,2017.0,2022.0,2019.0,2021.0,2017.0,2021.0,2023.0,2023.0,2021.0,2023.0,2017.0,2018.0,2019.0,2022.0,2019.0,2019.0,2021.0,2022.0,2016.0,2020.0,2019.0,2022.0,2021.0,2022.0,2015.0,2023.0,2021.0,2023.0,2017.0,2017.0,2016.0,2017.0,2017.0,2020.0,2023.0,2019.0,2022.0,2019.0,2012.0,2017.0,2013.0,2017.0,2017.0,2014.0,2011.0,2017.0,2012.0,2019.0,2023.0,2021.0,2023.0,2022.0,2015.0,2019.0,2021.0,2023.0,2018.0,2023.0,2018.0,2023.0,2021.0,2021.0,2023.0,2022.0,2022.0,2018.0,2017.0,2017.0,2012.0,2018.0,2020.0,2020.0,2023.0,2021.0,2023.0,2023.0,2018.0,2021.0,2022.0,2015.0,2023.0,2023.0,2021.0,2023.0,2022.0,2022.0,2023.0,2020.0,2019.0,2018.0,2023.0,2022.0,2018.0,2023.0,2022.0,2019.0,2021.0,2019.0,2022.0,2022.0,2023.0,2021.0,2023.0,2021.0,2022.0,2018.0,2021.0,2021.0,2020.0,2018.0,2015.0,2022.0,2021.0,2019.0,2019.0,2019.0,2019.0,2022.0,2023.0,2023.0,2021.0,2021.0,2023.0,2021.0,2020.0,2023.0,2021.0,2022.0,2022.0,2022.0,2023.0,2023.0,2020.0,2023.0,2023.0,2021.0,2022.0,2020.0,2023.0,2021.0,2022.0,2021.0,2023.0,2021.0,2019.0,2018.0,2023.0,2020.0,2021.0,2023.0,2023.0,2021.0,2020.0,2023.0,2020.0,2022.0,2018.0,2021.0,2021.0,2016.0,2014.0,2016.0,2017.0,2017.0,2020.0,2021.0,2018.0,2023.0,2023.0,2023.0,2022.0,2022.0,2019.0,2019.0,2020.0,2022.0,2022.0,2018.0,2022.0,2022.0,2017.0,2021.0,2021.0,2021.0,2022.0,2018.0,2023.0,2018.0,2022.0,2020.0,2022.0,2019.0,2022.0,2021.0,2019.0,2023.0,2022.0,2023.0,2019.0,2015.0,2015.0,2022.0,2022.0,2022.0,2020.0,2023.0,2020.0,2021.0,2020.0,2022.0,2023.0,2019.0,2022.0,2019.0,2017.0,2020.0,2020.0,2019.0,2022.0,2023.0,2018.0,2021.0,2023.0,2023.0,2022.0,2023.0,2019.0,2021.0,2017.0,2015.0,2022.0,2021.0,2022.0,2022.0,2019.0,2017.0,2020.0,2022.0,2021.0,2018.0,2019.0,2017.0,2017.0,2019.0,2022.0,2023.0,2014.0,2013.0,2022.0,2021.0,2021.0,2021.0,2021.0,2022.0,2019.0,2019.0,2022.0,2021.0,2022.0,2023.0,2023.0,2022.0,2021.0,2023.0,2023.0,2019.0,2017.0,2023.0,2014.0,2021.0,2022.0,2019.0,2019.0,2019.0,2022.0,2022.0,2012.0,2012.0,2013.0,2023.0,2013.0,2022.0,2023.0,2014.0,2019.0,2022.0,2019.0,2021.0,2022.0,2019.0,2022.0,2023.0,2019.0,2022.0,2021.0,2020.0,2022.0,2019.0,2020.0,2020.0,2021.0,2022.0,2018.0,2020.0,2022.0,2020.0,2018.0,2015.0,2015.0,2022.0,2023.0,2020.0,2023.0,2022.0,2020.0,2020.0,2019.0,2023.0,2023.0,2018.0,2021.0,2023.0,2023.0,2021.0,2022.0,2023.0,2018.0,2022.0,2021.0,2022.0,2019.0,2021.0,2020.0,2023.0,2019.0,2023.0,2022.0,2018.0,2022.0,2021.0,2018.0,2023.0,2022.0,2022.0,2021.0,2019.0,2021.0,2021.0,2020.0,2019.0,2023.0,2022.0,2022.0,2020.0,2023.0,2020.0,2022.0,2023.0,2022.0,2021.0,2021.0,2020.0,2023.0,2020.0,2020.0,2022.0,2022.0,2021.0,2023.0,2022.0,2023.0,2018.0,2023.0,2023.0,2023.0,2021.0,2021.0,2020.0,2020.0,2021.0,2021.0,2022.0,2023.0,2023.0,2014.0,2023.0,2019.0,2023.0,2021.0,2023.0,2019.0,2023.0,2023.0,2023.0,2019.0,2021.0,2019.0,2022.0,2020.0,2022.0,2019.0,2023.0,2023.0,2020.0,2022.0,2022.0,2020.0,2023.0,2023.0,2022.0,2015.0,2018.0,2022.0,2018.0,2018.0,2021.0,2023.0,2023.0,2020.0,2020.0,2022.0,2023.0,2019.0,2020.0,2020.0,2021.0,2023.0,2023.0,2022.0,2023.0,2023.0,2015.0,2022.0,2022.0,2023.0,2018.0,2022.0,2018.0,2022.0,2020.0,2018.0,2022.0,2023.0,2015.0,2021.0,2019.0,2021.0,2019.0,2023.0,2023.0,2021.0,2023.0,2017.0,2020.0,2019.0,2022.0,2021.0,2021.0,2017.0,2016.0,2019.0,2012.0,2017.0,2016.0,2013.0,2017.0,2016.0,2016.0,2019.0,2019.0,2017.0,2012.0,2012.0,2016.0,2017.0,2017.0,2022.0,2022.0,2017.0,2023.0,2023.0,2017.0,2022.0,2023.0,2016.0,2014.0,2016.0,2023.0,2022.0,2013.0,2023.0,2012.0,2016.0,2022.0,2019.0,2021.0,2021.0,2020.0,2018.0,2021.0,2022.0,2022.0,2023.0,2021.0,2018.0,2022.0,2022.0,2021.0,2023.0,2017.0,2022.0,2023.0,2021.0,2023.0,2019.0,2022.0,2021.0,2022.0,2021.0,2015.0,2023.0,2021.0,2022.0,2021.0,2018.0,2023.0,2017.0,2016.0,2021.0,2016.0,2016.0,2017.0,2019.0,2022.0,2018.0,2014.0,2017.0,2017.0,2021.0,2022.0,2021.0,2018.0,2018.0,2018.0,2023.0,2023.0,2023.0,2023.0,2022.0,2022.0,2021.0,2021.0,2016.0,2015.0,2022.0,2021.0,2022.0,2021.0,2022.0,2023.0,2020.0,2022.0,2022.0,2022.0,2023.0,2023.0,2021.0,2020.0,2023.0,2018.0,2021.0,2018.0,2022.0,2022.0,2022.0,2020.0,2015.0,2021.0,2020.0,2022.0,2022.0,2018.0,2023.0,2021.0,2022.0,2022.0,2022.0,2022.0,2022.0,2020.0,2019.0,2022.0,2023.0,2023.0,2021.0,2019.0,2021.0,2020.0,2020.0,2020.0,2022.0,2023.0,2020.0,2020.0,2022.0,2023.0,2022.0,2020.0,2023.0,2022.0,2019.0,2022.0,2020.0,2021.0,2023.0,2023.0,2022.0,2022.0,2021.0,2019.0,2016.0,2020.0,2019.0,2021.0,2021.0,2020.0,2020.0,2013.0,2021.0,2020.0,2023.0,2020.0,2023.0,2023.0,2021.0,2021.0,2022.0,2021.0,2020.0,2023.0,2016.0,2012.0,2022.0,2023.0,2023.0,2023.0,2020.0,2016.0,2023.0,2023.0,2022.0,2023.0,2020.0,2018.0,2021.0,2022.0,2023.0,2017.0,2021.0,2021.0,2017.0,2013.0,2016.0,2017.0,2023.0,2016.0,2020.0,2016.0,2017.0,2017.0,2017.0,2017.0,2017.0,2013.0,2017.0,2017.0,2020.0,2023.0,2023.0,2022.0,2023.0,2021.0,2022.0,2020.0,2012.0,2016.0,2017.0,2017.0,2023.0,2014.0,2015.0,2016.0,2017.0,2021.0,2023.0,2018.0,2023.0,2021.0,2020.0,2023.0,2023.0,2019.0,2019.0,2020.0,2018.0,2020.0,2023.0,2018.0,2021.0,2021.0,2022.0,2023.0,2021.0,2021.0,2018.0,2022.0,2021.0,2018.0,2020.0,2022.0,2022.0,2022.0,2022.0,2019.0,2015.0,2022.0,2021.0,2022.0,2022.0,2022.0,2019.0,2023.0,2022.0,2015.0,2022.0,2023.0,2020.0,2021.0,2020.0,2020.0,2020.0,2021.0,2015.0,2019.0,2022.0,2020.0,2020.0,2022.0,2021.0,2023.0,2020.0,2023.0,2019.0,2020.0,2023.0,2018.0,2023.0,2019.0,2022.0,2021.0,2022.0,2023.0,2022.0,2023.0,2023.0,2023.0,2022.0,2023.0,2023.0,2021.0,2021.0,2021.0,2020.0,2018.0,2021.0,2021.0,2021.0,2023.0,2023.0,2021.0,2023.0,2020.0,2018.0,2023.0,2021.0,2018.0,2022.0,2020.0,2021.0,2019.0,2021.0,2023.0,2019.0,2020.0,2023.0,2021.0,2019.0,2019.0,2021.0,2018.0,2023.0,2023.0,2020.0,2023.0,2020.0,2023.0,2023.0,2019.0,2021.0,2023.0,2019.0,2022.0,2021.0,2019.0,2022.0,2023.0,2023.0,2021.0,2022.0,2018.0,2021.0,2021.0,2021.0,2022.0,2023.0,2023.0,2012.0,2016.0,2017.0,2023.0,2022.0,2023.0,2023.0,2022.0,2019.0,2023.0,2022.0,2019.0,2019.0,2021.0,2018.0,2022.0,2019.0,2023.0,2022.0,2021.0,2020.0,2018.0,2022.0,2019.0,2019.0,2021.0,2021.0,2014.0,2019.0,2023.0,2013.0,2021.0,2023.0,2023.0,2023.0,2022.0,2021.0,2023.0,2022.0,2023.0,2018.0,2018.0,2018.0,2019.0,2022.0,2020.0,2021.0,2023.0,2022.0,2023.0,2022.0,2020.0,2021.0,2022.0,2021.0,2022.0,2019.0,2022.0,2023.0,2020.0,2020.0,2022.0,2019.0,2020.0,2020.0,2022.0,2021.0,2019.0,2023.0,2022.0,2020.0,2019.0,2018.0,2023.0,2023.0,2023.0,2021.0,2022.0,2022.0,2023.0,2021.0,2022.0,2022.0,2022.0,2019.0,2023.0,2023.0,2022.0,2023.0,2020.0,2022.0,2021.0,2019.0,2022.0,2018.0,2015.0,2023.0,2021.0,2023.0,2015.0,2023.0,2021.0,2021.0,2021.0,2020.0,2020.0,2023.0,2022.0,2018.0,2022.0,2023.0,2008.0,2017.0,2021.0,2022.0,2017.0,2019.0,2017.0,2017.0,2012.0,2014.0,2016.0,2017.0,2016.0,2011.0,2020.0,2016.0,2022.0,2013.0,2023.0,2016.0,2021.0,2022.0,2022.0,2019.0,2019.0,2014.0,2018.0,2017.0,2011.0,2023.0,2023.0,2016.0,2016.0,2018.0,2019.0,2017.0,null,null,null,null,null,null,null,null,null,null,null,null,null,null,null,null,null,null,null,null,null,null,null,null,null,null,null,null,null,null,null,null,null,null,null,null,null,null,null,null,null,null,null,null,null,null,null,null,null,null,null,null,null,null,null,null,null,null,null,null,null,null,null,null,null,null,null,null,null,null,null,null,null,null,null,null,null,null,null,null,null,null,null,null,null,null,null,null,null,null,null,null,null,null,null,null,null,null,null,null,null,null,null,null,null,null,null,null,null,null,null,null,null,null,null,null,null,null,null,null,null,null,null,null,null,null,null,null,null,null,null,null,null,null,null,null,null,null,null,null,null,null,null,null,null,null,null,null,null,null,null,null,null,null,null,null,null,null,null,null,null,null,null,null,null,null,null,null,null,null,null,null,null,null,null,null,null,null,null,null,null,null,null,null,null,null,null,null,null,null,null,null,null,null,null,null,null,null,null,null,null,null,null,null,null,null,null,null,null,null,null,null,null,null,null,null,null,null,null,null,null,null,null,null,null,null,null,null,null,null,null,null,null,null,null,null,null,null,null,null,null,null,null,null,null,null,null,null,null,null,null,null,null,null,null,null,null,null,null,null,null,null,null,null,null,null,null,null,null,null,null,null,null,null,null,null,null,null,null,null,null,null,null,null,null,null,null,null,null,null,null,null,null,null,null,null,null,null,null,null,null,null,null,null,null,null,null,null,null,null,null,null,null,null,null,null,null,null,null,null,null,null,null,null,null,null,null,null,null,null,null,null,null,null,null,null,null,null,null,null,null,null,null,null,null,null,null,null,null,null,null,null,null,null,null,null,null,null,null,null,null,null,null,null,null,null,null,null,null,null,null,null,null,null,null,null,null,null,null,null,null,null,null,null,null,null,null,null,null,null,null,null,null,null,null,null,null,null,null,null,null,null,null,null,null,null,null,null,null,null,null,null,null,null,null,null,null,null,null,null,null,null,null,null,null,null,null,null,null,null,null,null,null,null,null,null,null,null,null,null,null,null,null,null,null,null,null,null,null,null,null,null,null,null,null,null,null,null,null,null,null,null,null,null,null,null,null,null,null,null,null,null,null,null,null,null,null,null,null,null,null,null,null,null,null,null,null,null,null,null,null,null,null,null,null,null,null,null,null,null,null,null,null,null,null,null,null,null,null,null,null,null,null,null,null,null,null,null,null,null,null,null,null,null,null,null,null,null,null,null,null,null,null,null,null,null,null,null,null,null,null,null,null,null,null,null,null,null,null,null,null,null,null,null,null,null,null,null,null,null,null,null,null,null,null,null,null,null,null,null,null,null,null,null,null,null,null,null,null,null,null,null,null,null,null,null,null,null,null,null,null,null,null,null,null,null,null,null,null,null,null,null,null,null,null,null,null,null,null,null,null,null,null,null,null,null,null,null,null,null,null,null,null,null,null,null,null,null,null,null,null,null,null,null,null,null,null,null,null,null,null,null,null,null,null,null,null,null,null,null,null,null,null,null,null,null,null,null,null,null,null,null,null,null,null,null,null,null,null,null,null,null,null,null,null,null,null,null,null,null,null,null,null,null,null,null,null,null,null,null,null,null,null,null,null,null,null,null,null,null,null,null,null,null,null,null,null,null,null,null,null,null,null,null,null,null,null,null,null,null,null,null,null,null,null,null,null,null,null,null,null,null,null,null,null,null,null,null,null,null,null,null,null,null,null,null,null,null,null,null,null,null,null,null,null,null,null,null,null,null,null,null,null,null,null,null,null,null,null,null,null,null,null,null,null,null,null,null,null,null,null,null,null,null,null,null,null,null,null,null,null,null,null,null,null,null,null,null,null,null,null,null,null,null,null,null,null,null,null,null,null,null,null,null,null,null,null,null,null,null,null,null,null,null,null,null,null,null,null,null,null,null,null,null,null,null,null,null,null,null,null,null,null,null,null,null,null,null,null,null,null,null,null,null,null,null,null,null,null,null,null,null,null,null,null,null,null,null,null,null,null,null,null,null,null,null,null,null,null,null,null,null,null,null,null,null,null,null,null,null,null,null,null,null,null,null,null,null,null,null,null,null,null,null,null,null,null,null,null,null,null,null,null,null,null,null,null,null,null,null,null,null,null,null,null,null,null,null,null,null,null,null,null,null,null,null,null,null,null,null,null,null,null,null,null,null,null,null,null,null,null,null,null,null,null,null,null,null,null,null,null,null,null,null,null,null,null,null,null,null,null,null,null,null,null,null,null,null,null,null,null,null,null,null,null,null,null,null,null,null,null,null,null,null,null,null,null,null,null,null,null,null,null,null,null,null,null,null,null,null,null,null,null,null,null,null,null,null,null,null,null,null,null,null,null,null,null,null,null,null,null,null,null,null,null,null,null,null,null,null,null,null,null,null,null,null,null,null,null,null,null,null,null,null,null,null,null,null,null,null,null,null,null,null,null,null,null,null,null,null,null,null,null,null,null,null,null,null,null,null,null,null,null,null,null,null,null,null,null,null,null,null,null,null,null,null,null,null,null,null,null,null,null,null,null,null,null,null,null,null,null,null,null,null,null,null,null,null,null,null,null,null,null,null,null,null,null,null,null,null,null,null,null,null,null,null,null,null,null,null,null,null,null,null,null,null,null,null,null,null,null,null,null,null,null,null,null,null,null,null,null,null,null,null,null,null,null,null,null,null,null,null,null,null,null,null,null,null,null,null,null,null,null,null,null,null,null,null,null,null,null,null,null,null,null,null,null,null,null,null,null,null,null,null,null,null,null,null,null,null,null,null,null,null,null,null,null,null,null,null,null,null,null,null,null,null,null,null,null,null,null,null,null,null,null,null,null,null,null,null,null,null,null],\"xaxis\":\"x\",\"yaxis\":\"y\",\"type\":\"histogram\"},{\"alignmentgroup\":\"True\",\"bingroup\":\"x\",\"hovertemplate\":\"DataFrame=df_s\\u003cbr\\u003eCount=%{x}\\u003cbr\\u003ecount=%{y}\\u003cextra\\u003e\\u003c\\u002fextra\\u003e\",\"legendgroup\":\"df_s\",\"marker\":{\"color\":\"orange\",\"opacity\":0.7,\"pattern\":{\"shape\":\"\"}},\"name\":\"df_s\",\"offsetgroup\":\"df_s\",\"orientation\":\"v\",\"showlegend\":true,\"x\":[2023.0,2022.0,2023.0,2022.0,2023.0,2019.0,2022.0,2023.0,2022.0,2023.0,2018.0,2022.0,2019.0,2019.0,2021.0,2018.0,2022.0,2019.0,2022.0,2023.0,2020.0,2023.0,2022.0,2019.0,2022.0,2017.0,2023.0,2023.0,2023.0,2022.0,2022.0,2023.0,2022.0,2023.0,2017.0,2021.0,2018.0,2022.0,2020.0,2022.0,2020.0,2019.0,2022.0,2023.0,2023.0,2019.0,2023.0,2019.0,2021.0,2023.0,2022.0,2021.0,2020.0,2021.0,2023.0,2023.0,2022.0,2023.0,2023.0,2023.0,2019.0,2023.0,2022.0,2023.0,2018.0,2023.0,2021.0,2021.0,2022.0,2021.0,2023.0,2019.0,2023.0,2022.0,2021.0,2021.0,2021.0,2022.0,2023.0,2023.0,2020.0,2020.0,2018.0,2019.0,2022.0,2021.0,2022.0,2023.0,2018.0,2019.0,2020.0,2018.0,2021.0,2020.0,2022.0,2021.0,2021.0,2023.0,2022.0,2023.0,2023.0,2023.0,2018.0,2019.0,2020.0,2022.0,2022.0,2023.0,2021.0,2022.0,2023.0,2023.0,2023.0,2022.0,2021.0,2018.0,2023.0,2023.0,2022.0,2019.0,2023.0,2020.0,2020.0,2023.0,2023.0,2021.0,2021.0,2020.0,2018.0,2019.0,2021.0,2020.0,2018.0,2018.0,2023.0,2023.0,2021.0,2020.0,2018.0,2021.0,2018.0,2019.0,2023.0,2020.0,2022.0,2023.0,2022.0,2023.0,2022.0,2022.0,2022.0,2021.0,2019.0,2023.0,2023.0,2022.0,2021.0,2023.0,2019.0,2018.0,2022.0,2021.0,2020.0,2018.0,2018.0,2023.0,2022.0,2020.0,2023.0,2020.0,2023.0,2019.0,2021.0,2022.0,2021.0,2022.0,2022.0,2022.0,2020.0,2023.0,2021.0,2023.0,2018.0,2017.0,2016.0,2016.0,2019.0,2021.0,2022.0,2017.0,2021.0,2017.0,2018.0,2018.0,2020.0,2021.0,2016.0,2019.0,2019.0,2022.0,2015.0,2020.0,2017.0,2022.0,2022.0,2023.0,2017.0,2020.0,2019.0,2015.0,2023.0,2019.0,2020.0,2022.0,2019.0,2022.0,2022.0,2022.0,2022.0,2023.0,2023.0,2019.0,2022.0,2022.0,2019.0,2023.0,2022.0,2022.0,2022.0,2023.0,2023.0,2019.0,2022.0,2021.0,2015.0,2023.0,2019.0,2023.0,2023.0,2020.0,2018.0,2021.0,2022.0,2022.0,2022.0,2022.0,2018.0,2022.0,2023.0,2021.0,2021.0,2023.0,2023.0,2021.0,2020.0,2021.0,2023.0,2021.0,2022.0,2019.0,2021.0,2021.0,2022.0,2021.0,2018.0,2019.0,2022.0,2021.0,2023.0,2023.0,2021.0,2019.0,2021.0,2018.0,2020.0,2019.0,2020.0,2022.0,2019.0,2023.0,2019.0,2022.0,2020.0,2018.0,2021.0,2022.0,2023.0,2020.0,2022.0,2021.0,2019.0,2021.0,2018.0,2023.0,2021.0,2022.0,2023.0,2021.0,2023.0,2022.0,2022.0,2018.0,2020.0,2021.0,2023.0,2021.0,2020.0,2018.0,2022.0,2018.0,2019.0,2020.0,2020.0,2020.0,2023.0,2022.0,2018.0,2020.0,2022.0,2022.0,2020.0,2018.0,2022.0,2021.0,2021.0,2020.0,2019.0,2020.0,2020.0,2022.0,2023.0,2020.0,2020.0,2021.0,2021.0,2021.0,2021.0,2022.0,2022.0,2023.0,2022.0,2020.0,2021.0,2018.0,2023.0,2022.0,2022.0,2021.0,2023.0,2022.0,2022.0,2022.0,2022.0,2019.0,2023.0,2020.0,2023.0,2022.0,2021.0,2020.0,2021.0,2022.0,2022.0,2021.0,2022.0,2021.0,2023.0,2023.0,2022.0,2020.0,2020.0,2015.0,2022.0,2018.0,2022.0,2020.0,2020.0,2019.0,2021.0,2023.0,2019.0,2022.0,2019.0,2019.0,2019.0,2022.0,2022.0,2023.0,2023.0,2023.0,2015.0,2023.0,2020.0,2022.0,2022.0,2019.0,2021.0,2023.0,2021.0,2021.0,2022.0,2021.0,2019.0,2020.0,2021.0,2021.0,2022.0,2016.0,2014.0,2016.0,2016.0,2023.0,2022.0,2019.0,2019.0,2023.0,2022.0,2022.0,2021.0,2023.0,2023.0,2023.0,2018.0,2021.0,2018.0,2023.0,2019.0,2022.0,2022.0,2019.0,2023.0,2023.0,2019.0,2020.0,2022.0,2018.0,2023.0,2020.0,2018.0,2020.0,2019.0,2022.0,2021.0,2020.0,2021.0,2023.0,2018.0,2023.0,2020.0,2023.0,2021.0,2021.0,2021.0,2022.0,2022.0,2020.0,2020.0,2022.0,2018.0,2022.0,2020.0,2022.0,2019.0,2021.0,2022.0,2022.0,2020.0,2023.0,2021.0,2023.0,2019.0,2021.0,2021.0,2021.0,2023.0,2018.0,2021.0,2022.0,2020.0,2021.0,2021.0,2021.0,2022.0,2019.0,2020.0,2022.0,2021.0,2021.0,2020.0,2023.0,2023.0,2020.0,2019.0,2023.0,2019.0,2022.0,2022.0,2021.0,2021.0,2020.0,2023.0,2022.0,2019.0,2022.0,2023.0,2023.0,2022.0,2018.0,2022.0,2023.0,2019.0,2023.0,2021.0,2023.0,2022.0,2023.0,2023.0,2019.0,2021.0,2023.0,2023.0,2018.0,2022.0,2019.0,2023.0,2020.0,2021.0,2022.0,2023.0,2023.0,2022.0,2022.0,2023.0,2021.0,2020.0,2023.0,2021.0,2021.0,2019.0,2023.0,2023.0,2019.0,2023.0,2019.0,2022.0,2018.0,2023.0,2021.0,2023.0,2021.0,2023.0,2019.0,2021.0,2018.0,2023.0,2021.0,2023.0,2020.0,2019.0,2023.0,2015.0,2022.0,2017.0,2023.0,2017.0,2023.0,2023.0,2023.0,2022.0,2020.0,2020.0,2019.0,2020.0,2022.0,2020.0,2018.0,2021.0,2021.0,2022.0,2022.0,2023.0,2018.0,2018.0,2021.0,2019.0,2023.0,2021.0,2022.0,2019.0,2021.0,2019.0,2023.0,2019.0,2022.0,2021.0,2022.0,2015.0,2023.0,2023.0,2018.0,2015.0,2023.0,2021.0,2023.0,2022.0,2023.0,2023.0,2020.0,2023.0,2021.0,2021.0,2023.0,2020.0,2023.0,2023.0,2022.0,2021.0,2021.0,2023.0,2021.0,2023.0,2022.0,2021.0,2016.0,2021.0,2021.0,2022.0,2021.0,2023.0,2022.0,2014.0,2017.0,2013.0,2016.0,2012.0,2019.0,2022.0,2015.0,2021.0,2016.0,2022.0,2023.0,2023.0,2018.0,2020.0,2022.0,2023.0,2021.0,2021.0,2022.0,2023.0,2022.0,2020.0,2022.0,2022.0,2023.0,2022.0,2010.0,2023.0,2020.0,2020.0,2021.0,2008.0,2020.0,2022.0,2023.0,2020.0,2023.0,2020.0,2021.0,2022.0,2019.0,2022.0,2023.0,2017.0,2019.0,2021.0,2019.0,2023.0,2017.0,2019.0,2019.0,2022.0,2013.0,2017.0,2021.0,2017.0,2022.0,2021.0,2021.0,2020.0,2019.0,2023.0,2017.0,2023.0,2022.0,2020.0,2023.0,2021.0,2022.0,2019.0,2021.0,2018.0,2019.0,2023.0,2018.0,2023.0,2022.0,2021.0,2023.0,2021.0,2018.0,2020.0,2022.0,2021.0,2021.0,2016.0,2016.0,2016.0,2022.0,2019.0,2017.0,2018.0,2018.0,2023.0,2021.0,2022.0,2021.0,2016.0,2013.0,2022.0,2019.0,2021.0,2019.0,2019.0,2017.0,2017.0,2014.0,2014.0,2013.0,2021.0,2021.0,2022.0,2020.0,2021.0,2021.0,2020.0,2018.0,2022.0,2015.0,2018.0,2019.0,2018.0,2023.0,2021.0,2019.0,2021.0,2021.0,2022.0,2020.0,2020.0,2021.0,2020.0,2023.0,2022.0,2022.0,2019.0,2022.0,2019.0,2023.0,2019.0,2019.0,2023.0,2020.0,2022.0,2023.0,2019.0,2018.0,2021.0,2023.0,2023.0,2019.0,2019.0,2021.0,2021.0,2019.0,2021.0,2022.0,2019.0,2022.0,2023.0,2021.0,2018.0,2020.0,2020.0,2021.0,2021.0,2018.0,2020.0,2023.0,2022.0,2023.0,2021.0,2020.0,2021.0,2022.0,2021.0,2019.0,2021.0,2020.0,2022.0,2022.0,2023.0,2021.0,2022.0,2023.0,2013.0,2017.0,2017.0,2017.0,2023.0,2020.0,2023.0,2019.0,2023.0,2023.0,2020.0,2022.0,2021.0,2022.0,2023.0,2021.0,2022.0,2019.0,2018.0,2022.0,2021.0,2023.0,2020.0,2023.0,2023.0,2022.0,2022.0,2022.0,2020.0,2023.0,2023.0,2021.0,2020.0,2022.0,2021.0,2019.0,2020.0,2016.0,2017.0,2014.0,2019.0,2013.0,2018.0,2020.0,2019.0,2019.0,2019.0,2022.0,2022.0,2022.0,2021.0,2021.0,2017.0,2017.0,2020.0,2023.0,2021.0,2023.0,2023.0,2022.0,2019.0,2020.0,2018.0,2022.0,2022.0,2018.0,2014.0,2021.0,2021.0,2023.0,2018.0,2023.0,2023.0,2018.0,2022.0,2022.0,2021.0,2020.0,2018.0,2021.0,2019.0,2018.0,2021.0,2021.0,2021.0,2021.0,2020.0,2023.0,2022.0,2023.0,2021.0,2019.0,2022.0,2022.0,2023.0,2023.0,2023.0,2019.0,2023.0,2022.0,2021.0,2022.0,2021.0,2021.0,2019.0,2021.0,2021.0,2020.0,2023.0,2017.0,2019.0,2017.0,2017.0,2013.0,2016.0,2016.0,2023.0,2016.0,2023.0,2020.0,2014.0,2020.0,2019.0,2022.0,2022.0,2022.0,2022.0,2023.0,2018.0,2020.0,2023.0,2021.0,2023.0,2021.0,2023.0,2021.0,2020.0,2019.0,2023.0,2017.0,2022.0,2017.0,2019.0,2022.0,2022.0,2021.0,2022.0,2022.0,2022.0,2020.0,2021.0,2023.0,2021.0,2022.0,2021.0,2020.0,2019.0,2021.0,2019.0,2020.0,2019.0,2021.0,2018.0,2021.0,2023.0,2021.0,2019.0,2021.0,2021.0,2022.0,2023.0,2021.0,2023.0,2020.0,2018.0,2023.0,2020.0,2019.0,2019.0,2022.0,2021.0,2023.0,2022.0,2022.0,2022.0,2020.0,2019.0,2020.0,2023.0,2019.0,2020.0,2022.0,2022.0,2020.0,2020.0,2023.0,2023.0,2023.0,2021.0,2019.0,2022.0,2021.0,2019.0,2019.0,2021.0,2018.0,2021.0,2023.0,2023.0,2021.0,2021.0,2019.0,2019.0,2020.0,2022.0,2018.0,2022.0,2021.0,2018.0,2022.0,2022.0,2023.0,2022.0,2023.0,2019.0,2018.0,2020.0,2015.0,2019.0,2023.0,2023.0,2020.0,2019.0,2015.0,2020.0,2022.0,2021.0,2022.0,2020.0,2018.0,2022.0,2020.0,2022.0,2021.0,2021.0,2018.0,2022.0,2022.0,2018.0,2018.0,2019.0,2022.0,2018.0,2020.0,2023.0,2017.0,2014.0,2021.0,2019.0,2022.0,2018.0,2018.0,2020.0,2017.0,2022.0,2019.0,2022.0,2021.0,2016.0,2022.0,2018.0,2020.0,2021.0,2022.0,2015.0,2020.0,2016.0,2020.0,2020.0,2020.0,2017.0,2017.0,2014.0,2019.0,2020.0,2022.0,2023.0,2020.0,2022.0,2023.0,2023.0,2022.0,2022.0,2020.0,2022.0,2022.0,2023.0,2018.0,2022.0,2021.0,2015.0,2019.0,2018.0,2019.0,2023.0,2022.0,2020.0,2023.0,2015.0,2023.0,2021.0,2019.0,2023.0,2021.0,2022.0,2020.0,2022.0,2021.0,2019.0,2023.0,2021.0,2020.0,2021.0,2021.0,2020.0,2022.0,2018.0,2017.0,2013.0,2016.0,2017.0,2016.0,2018.0,2023.0,2020.0,2021.0,2023.0,2023.0,2020.0,2019.0,2022.0,2023.0,2018.0,2020.0,2020.0,2022.0,2023.0,2021.0,2023.0,2022.0,2022.0,2023.0,2018.0,2021.0,2021.0,2021.0,2018.0,2023.0,2022.0,2021.0,2022.0,2022.0,2022.0,2021.0,2018.0,2021.0,2018.0,2020.0,2022.0,2018.0,2021.0,2021.0,2023.0,2023.0,2022.0,2020.0,2022.0,2021.0,2022.0,2022.0,2022.0,2023.0,2020.0,2022.0,2023.0,2022.0,2023.0,2023.0,2018.0,2020.0,2021.0,2021.0,2021.0,2022.0,2023.0,2019.0,2018.0,2020.0,2021.0,2021.0,2019.0,2023.0,2021.0,2023.0,2022.0,2019.0,2021.0,2021.0,2018.0,2018.0,2023.0,2021.0,2021.0,2023.0,2016.0,2012.0,2020.0,2020.0,2022.0,2022.0,2023.0,2018.0,2023.0,2020.0,2023.0,2021.0,2020.0,2020.0,2020.0,2021.0,2023.0,2022.0,2018.0,2019.0,2020.0,2022.0,2023.0,2022.0,2022.0,2022.0,2023.0,2023.0,2018.0,2023.0,2022.0,2022.0,2023.0,2021.0,2020.0,2023.0,2021.0,2019.0,2018.0,2022.0,2021.0,2018.0,2021.0,2022.0,2021.0,2022.0,2021.0,2019.0,2018.0,2021.0,2021.0,2021.0,2020.0,2019.0,2019.0,2022.0,2018.0,2023.0,2023.0,2023.0,2023.0,2020.0,2020.0,2022.0,2019.0,2021.0,2023.0,2021.0,2019.0,2022.0,2022.0,2023.0,2022.0,2019.0,2021.0,2022.0,2022.0,2023.0,2021.0,2018.0,2022.0,2022.0,2019.0,2022.0,2022.0,2021.0,2021.0,2022.0,2022.0,2022.0,2022.0,2022.0,2022.0,2019.0,2019.0,2020.0,2022.0,2020.0,2023.0,2019.0,2020.0,2020.0,2023.0,2023.0,2021.0,2020.0,2020.0,2021.0,2017.0,2018.0,2021.0,2022.0,2018.0,2023.0,2023.0,2020.0,2021.0,2021.0,2022.0,2021.0,2023.0,2023.0,2023.0,2023.0,2021.0,2019.0,2022.0,2020.0,2021.0,2022.0,2019.0,2022.0,2022.0,2022.0,2021.0,2020.0,2021.0,2021.0,2021.0,2018.0,2020.0,2018.0,2023.0,2020.0,2019.0,2023.0,2020.0,2020.0,2021.0,2020.0,2023.0,2015.0,2020.0,2022.0,2023.0,2020.0,2022.0,2022.0,2021.0,2023.0,2018.0,2022.0,2021.0,2021.0,2023.0,2021.0,2023.0,2022.0,2019.0,2019.0,2022.0,2021.0,2019.0,2021.0,2021.0,2023.0,2017.0,2022.0,2022.0,2021.0,2022.0,2023.0,2022.0,2022.0,2022.0,2021.0,2015.0,2019.0,2020.0,2015.0,2021.0,2019.0,2018.0,2021.0,2023.0,2021.0,2015.0,2022.0,2023.0,2020.0,2023.0,2023.0,2016.0,2022.0,2023.0,2016.0,2022.0,2023.0,2021.0,2023.0,2023.0,2020.0,2023.0,2022.0,2021.0,2023.0,2020.0,2018.0,2021.0,2020.0,2018.0,2021.0,2023.0,2023.0,2022.0,2021.0,2021.0,2020.0,2022.0,2021.0,2019.0,2021.0,2022.0,2021.0,2023.0,2021.0,2021.0,2021.0,2021.0,2022.0,2020.0,2020.0,2021.0,2020.0,2021.0,2023.0,2022.0,2020.0,2022.0,2017.0,2023.0,2020.0,2022.0,2018.0,2022.0,2020.0,2023.0,2021.0,2020.0,2018.0,2023.0,2021.0,2019.0,2023.0,2022.0,2021.0,2023.0,2022.0,2020.0,2022.0,2021.0,2022.0,2018.0,2021.0,2019.0,2020.0,2021.0,2018.0,2022.0,2023.0,2022.0,2016.0,2017.0,2021.0,2021.0,2022.0,2023.0,2020.0,2016.0,2014.0,2017.0,2017.0,2017.0,2016.0,2017.0,2016.0,2022.0,2022.0,2023.0,2018.0,2021.0,2023.0,2014.0,2023.0,2022.0,2023.0,2023.0,2020.0,2021.0,2022.0,2021.0,2020.0,2017.0,2013.0,2017.0,2014.0,2023.0,2019.0,2020.0,2021.0,2022.0,2021.0,2021.0,2023.0,2019.0,2021.0,2021.0,2023.0,2021.0,2015.0,2022.0,2023.0,2023.0,2023.0,2015.0,2019.0,2023.0,2019.0,2021.0,2021.0,2020.0,2023.0,2021.0,2022.0,2022.0,2019.0,2023.0,2022.0,2022.0,2022.0,2023.0,2022.0,2023.0,2021.0,2021.0,2020.0,2022.0,2021.0,2017.0,2012.0,2017.0,2021.0,2020.0,2022.0,2022.0,2022.0,2023.0,2018.0,2023.0,2022.0,2021.0,2019.0,2021.0,2017.0,2021.0,2019.0,2022.0,2022.0,2018.0,2021.0,2021.0,2021.0,2023.0,2023.0,2021.0,2020.0,2017.0,2016.0,2023.0,2014.0,2019.0,2022.0,2020.0,2021.0,2019.0,2021.0,2023.0,2017.0,2019.0,2023.0,2021.0,2021.0,2023.0,2021.0,2016.0,2023.0,2014.0,2019.0,2023.0,2019.0,2022.0,2022.0,2017.0,2018.0,2020.0,2023.0,2021.0,2023.0,2023.0,2018.0,2023.0,2019.0,2020.0,2022.0,2023.0,2023.0,2019.0,2018.0,2022.0,2022.0,2022.0,2023.0,2020.0,2022.0,2022.0,2023.0,2020.0,2021.0,2022.0,2021.0,2022.0,2019.0,2019.0,2023.0,2021.0,2023.0,2021.0,2022.0,2023.0,2021.0,2019.0,2023.0,2021.0,2020.0,2022.0,2015.0,2023.0,2023.0,2022.0,2022.0,2021.0,2023.0,2020.0,2022.0,2019.0,2022.0,2022.0,2020.0,2022.0,2022.0,2018.0,2022.0,2016.0,2019.0,2022.0,2021.0,2022.0,2022.0,2022.0,2019.0,2018.0,2023.0,2021.0,2022.0,2018.0,2020.0,2021.0,2020.0,2018.0,2020.0,2020.0,2021.0,2023.0,2021.0,2021.0,2021.0,2020.0,2018.0,2022.0,2019.0,2021.0,2019.0,2022.0,2021.0,2019.0,2023.0,2023.0,2022.0,2022.0,2023.0,2023.0,2023.0,2019.0,2019.0,2023.0,2021.0,2023.0,2023.0,2019.0,2023.0,2020.0,2021.0,2022.0,2020.0,2020.0,2019.0,2018.0,2018.0,2019.0,2021.0,2022.0,2023.0,2019.0,2019.0,2018.0,2023.0,2019.0,2023.0,2021.0,2019.0,2020.0,2022.0,2021.0,2020.0,2022.0,2021.0,2022.0,2021.0,2021.0,2019.0,2022.0,2022.0,2023.0,2019.0,2022.0,2020.0,2023.0,2023.0,2022.0,2023.0,2020.0,2022.0,2022.0,2021.0,2023.0,2021.0,2023.0,2021.0,2022.0,2023.0,2023.0,2021.0,2018.0,2017.0,2022.0,2018.0,2020.0,2022.0,2019.0,2022.0,2022.0,2018.0,2015.0,2021.0,2016.0,2022.0,2023.0,2021.0,2020.0,2019.0,2017.0,2019.0,2020.0,2014.0,2022.0,2021.0,2019.0,2021.0,2022.0,2021.0,2022.0,2020.0,2020.0,2021.0,2021.0,2021.0,2023.0,2023.0,2018.0,2018.0,2023.0,2022.0,2021.0,2018.0,2022.0,2021.0,2020.0,2020.0,2023.0,2022.0,2023.0,2018.0,2022.0,2021.0,2020.0,2023.0,2021.0,2020.0,2022.0,2021.0,2020.0,2022.0,2019.0,2021.0,2020.0,2019.0,2022.0,2022.0,2019.0,2022.0,2023.0,2022.0,2019.0,2023.0,2023.0,2019.0,2023.0,2020.0,2018.0,2023.0,2021.0,2019.0,2020.0,2020.0,2021.0,2019.0,2021.0,2022.0,2018.0,2018.0,2022.0,2021.0,2019.0,2019.0,2023.0,2023.0,2023.0,2022.0,2022.0,2022.0,2023.0,2023.0,2021.0,2018.0,2023.0,2021.0,2022.0,2021.0,2023.0,2015.0,2021.0,2023.0,2023.0,2018.0,2018.0,2020.0,2020.0,2023.0,2022.0,2023.0,2023.0,2018.0,2019.0,2023.0,2020.0,2023.0,2023.0,2021.0,2018.0,2022.0,2021.0,2023.0,2018.0,2020.0,2015.0,2019.0,2019.0,2022.0,2023.0,2018.0,2019.0,2021.0,2020.0,2020.0,2019.0,2021.0,2022.0,2022.0,2020.0,2023.0,2020.0,2023.0,2023.0,2023.0,2023.0,2016.0,2017.0,2017.0,2020.0,2020.0,2021.0,2022.0,2020.0,2019.0,2021.0,2021.0,2023.0,2023.0,2022.0,2021.0,2018.0,2020.0,2022.0,2019.0,2018.0,2023.0,2022.0,2020.0,2020.0,2023.0,2022.0,2023.0,2015.0,2019.0,2023.0,2019.0,2021.0,2020.0,2023.0,2012.0,2022.0,2018.0,2021.0,2021.0,2022.0,2022.0,2020.0,2019.0,2011.0,2016.0,2017.0,2012.0,2013.0,2020.0,2023.0,2023.0,2022.0,2021.0,2019.0,2023.0,2019.0,2021.0,2021.0,2019.0,2023.0,2023.0,2022.0,2022.0,2022.0,2023.0,2016.0,2021.0,2022.0,2022.0,2022.0,2023.0,2022.0,2023.0,2016.0,2014.0,2020.0,2022.0,2015.0,2018.0,2022.0,2019.0,2018.0,2021.0,2023.0,2021.0,2018.0,2018.0,2021.0,2014.0,2022.0,2022.0,2021.0,2021.0,2023.0,2022.0,2022.0,2019.0,2020.0,2017.0,2021.0,2017.0,2016.0,2016.0,2021.0,2018.0,2019.0,2017.0,2018.0,2022.0,2019.0,2018.0,2022.0,2023.0,2021.0,2019.0,2023.0,2022.0,2022.0,2022.0,2022.0,2021.0,2018.0,2022.0,2022.0,2022.0,2020.0,2022.0,2019.0,2020.0,2022.0,2021.0,2020.0,2021.0,2021.0,2021.0,2020.0,2019.0,2022.0,2018.0,2021.0,2021.0,2022.0,2021.0,2018.0,2017.0,2017.0,2017.0,2019.0,2012.0,2016.0,2013.0,2021.0,2023.0,2022.0,2023.0,2022.0,2022.0,2020.0,2023.0,2019.0,2023.0,2019.0,2018.0,2020.0,2020.0,2023.0,2022.0,2023.0,2018.0,2019.0,2021.0,2019.0,2019.0,2023.0,2018.0,2020.0,2018.0,2020.0,2021.0,2018.0,2023.0,2022.0,2020.0,2020.0,2022.0,2023.0,2022.0,2021.0,2021.0,2023.0,2021.0,2022.0,2022.0,2021.0,2023.0,2022.0,2020.0,2018.0,2023.0,2022.0,2023.0,2022.0,2020.0,2021.0,2020.0,2015.0,2023.0,2022.0,2019.0,2022.0,2022.0,2020.0,2023.0,2023.0,2021.0,2020.0,2018.0,2021.0,2023.0,2022.0,2023.0,2018.0,2020.0,2023.0,2019.0,2020.0,2022.0,2023.0,2019.0,2022.0,2023.0,2023.0,2017.0,2016.0,2017.0,2017.0,2017.0,2011.0,2017.0,2015.0,2020.0,2021.0,2023.0,2016.0,2019.0,2019.0,2023.0,2020.0,2021.0,2020.0,2022.0,2014.0,2016.0,2017.0,2021.0,2023.0,2019.0,2019.0,2023.0,2022.0,2017.0,2017.0,2022.0,2020.0,2023.0,2017.0,2014.0,2013.0,2021.0,2021.0,2018.0,2021.0,2022.0,2019.0,2019.0,2021.0,2017.0,2017.0,2017.0,2016.0,2017.0,2018.0,2019.0,2022.0,2022.0,2020.0,2021.0,2023.0,2019.0,2021.0,2021.0,2021.0,2023.0,2015.0,2020.0,2023.0,2020.0,2023.0,2023.0,2019.0,2021.0,2017.0,2016.0,2017.0,2021.0,2021.0,2021.0,2022.0,2022.0,2018.0,2019.0,2023.0,2019.0,2020.0,2018.0,2019.0,2023.0,2023.0,2023.0,2023.0,2019.0,2022.0,2019.0,2023.0,2021.0,2022.0,2021.0,2020.0,2022.0,2022.0,2022.0,2021.0,2019.0,2021.0,2022.0,2020.0,2015.0,2020.0,2022.0,2019.0,2018.0,2020.0,2013.0,2016.0,2022.0,2022.0,2023.0,2020.0,2020.0,2021.0,2023.0,2020.0,2014.0,2013.0,2016.0,2021.0,2019.0,2022.0,2022.0,2020.0,2019.0,2021.0,2022.0,2018.0,2022.0,2020.0,2017.0,2017.0,2017.0,2023.0,2020.0,2023.0,2023.0,2023.0,2019.0,2022.0,2018.0,2022.0,2013.0,2014.0,2013.0,2012.0,2016.0,2017.0,2014.0,2017.0,2016.0,2016.0,2017.0,2017.0,2023.0,2018.0,2023.0,2022.0,2021.0,2022.0,2020.0,2019.0,2020.0,2018.0,2023.0,2023.0,2022.0,2022.0,2023.0,2018.0,2023.0,2022.0,2022.0,2020.0,2021.0,2022.0,2018.0,2023.0,2021.0,2019.0,2022.0,2021.0,2022.0,2020.0,2022.0,2019.0,2019.0,2022.0,2023.0,2023.0,2021.0,2021.0,2023.0,2021.0,2018.0,2021.0,2023.0,2022.0,2020.0,2022.0,2021.0,2023.0,2020.0,2021.0,2020.0,2018.0,2020.0,2020.0,2019.0,2020.0,2023.0,2018.0,2022.0,2022.0,2021.0,2022.0,2021.0,2023.0,2021.0,2020.0,2021.0,2020.0,2019.0,2020.0,2015.0,2022.0,2022.0,2021.0,2020.0,2020.0,2021.0,2021.0,2021.0,2020.0,2023.0,2019.0,2023.0,2022.0,2021.0,2022.0,2022.0,2020.0,2022.0,2019.0,2020.0,2016.0,2017.0,2017.0,2023.0,2018.0,2019.0,2022.0,2023.0,2021.0,2019.0,2019.0,2017.0,2017.0,2020.0,2019.0,2019.0,2021.0,2021.0,2021.0,2014.0,2016.0,2017.0,2021.0,2021.0,2017.0,2018.0,2021.0,2023.0,2023.0,2022.0,2012.0,2014.0,2023.0,2019.0,2019.0,2023.0,2023.0,2023.0,2021.0,2019.0,2022.0,2022.0,2021.0,2018.0,2023.0,2021.0,2022.0,2023.0,2022.0,2018.0,2020.0,2021.0,2020.0,2020.0,2021.0,2023.0,2022.0,2021.0,2022.0,2018.0,2018.0,2023.0,2019.0,2023.0,2022.0,2023.0,2023.0,2023.0,2021.0,2020.0,2020.0,2022.0,2017.0,2023.0,2023.0,2023.0,2020.0,2022.0,2022.0,2022.0,2020.0,2023.0,2020.0,2019.0,2020.0,2017.0,2017.0,2019.0,2023.0,2023.0,2023.0,2021.0,2019.0,2020.0,2023.0,2023.0,2023.0,2022.0,2021.0,2023.0,2023.0,2023.0,2022.0,2021.0,2021.0,2023.0,2021.0,2021.0,2021.0,2023.0,2023.0,2022.0,2023.0,2022.0,2021.0,2023.0,2023.0,2020.0,2021.0,2022.0,2023.0,2019.0,2023.0,2021.0,2023.0,2023.0,2022.0,2020.0,2023.0,2021.0,2021.0,2021.0,2017.0,2021.0,2022.0,2023.0,2022.0,2022.0,2021.0,2020.0,2020.0,2021.0,2022.0,2021.0,2020.0,2023.0,2023.0,2022.0,2022.0,2020.0,2022.0,2022.0,2019.0,2021.0,2022.0,2022.0,2023.0,2020.0,2023.0,2020.0,2022.0,2023.0,2019.0,2022.0,2022.0,2023.0,2023.0,2022.0,2022.0,2021.0,2022.0,2022.0,2017.0,2022.0,2018.0,2018.0,2022.0,2019.0,2022.0,2023.0,2018.0,2023.0,2022.0,2022.0,2020.0,2015.0,2020.0,2022.0,2020.0,2019.0,2022.0,2022.0,2021.0,2020.0,2019.0,2023.0,2023.0,2023.0,2023.0,2021.0,2022.0,2021.0,2017.0,2017.0,2017.0,2022.0,2019.0,2022.0,2022.0,2023.0,2020.0,2018.0,2022.0,2020.0,2019.0,2022.0,2021.0,2019.0,2019.0,2022.0,2021.0,2020.0,2021.0,2020.0,2023.0,2022.0,2021.0,2023.0,2023.0,2021.0,2023.0,2023.0,2021.0,2022.0,2022.0,2020.0,2019.0,2022.0,2020.0,2023.0,2023.0,2021.0,2021.0,2023.0,2020.0,2018.0,2022.0,2023.0,2023.0,2023.0,2022.0,2023.0,2015.0,2023.0,2022.0,2019.0,2015.0,2022.0,2021.0,2020.0,2021.0,2018.0,2023.0,2022.0,2023.0,2023.0,2021.0,2023.0,2021.0,2019.0,2022.0,2021.0,2021.0,2023.0,2020.0,2019.0,2018.0,2023.0,2021.0,2021.0,2022.0,2019.0,2020.0,2021.0,2022.0,2022.0,2023.0,2022.0,2018.0,2021.0,2018.0,2023.0,2021.0,2020.0,2022.0,2021.0,2015.0,2021.0,2020.0,2020.0,2020.0,2018.0,2022.0,2023.0,2022.0,2021.0,2023.0,2018.0,2018.0,2019.0,2020.0,2018.0,2023.0,2022.0,2019.0,2019.0,2019.0,2018.0,2022.0,2023.0,2022.0,2023.0,2022.0,2020.0,2023.0,2020.0,2022.0,2022.0,2018.0,2021.0,2022.0,2019.0,2023.0,2022.0,2021.0,2023.0,2022.0,2023.0,2022.0,2023.0,2022.0,2022.0,2020.0,2019.0,2019.0,2023.0,2021.0,2018.0,2022.0,2018.0,2019.0,2022.0,2022.0,2018.0,2021.0,2022.0,2019.0,2022.0,2018.0,2023.0,2022.0,2019.0,2022.0,2022.0,2022.0,2022.0,2019.0,2020.0,2021.0,2021.0,2019.0,2023.0,2021.0,2023.0,2021.0,2021.0,2022.0,2021.0,2021.0,2019.0,2022.0,2020.0,2023.0,2023.0,2023.0,2021.0,2018.0,2020.0,2020.0,2023.0,2023.0,2022.0,2019.0,2021.0,2023.0,2021.0,2022.0,2019.0,2019.0,2023.0,2021.0,2021.0,2023.0,2023.0,2023.0,2022.0,2023.0,2019.0,2018.0,2015.0,2022.0,2023.0,2020.0,2019.0,2023.0,2023.0,2022.0,2019.0,2022.0,2021.0,2021.0,2022.0,2023.0,2023.0,2023.0,2022.0,2022.0,2020.0,2023.0,2019.0,2020.0,2019.0,2020.0,2023.0,2020.0,2018.0,2021.0,2020.0,2019.0,2023.0,2023.0,2022.0,2022.0,2022.0,2023.0,2021.0,2019.0,2022.0,2020.0,2023.0,2022.0,2023.0,2023.0,2021.0,2018.0,2021.0,2023.0,2018.0,2021.0,2020.0,2022.0,2021.0,2022.0,2022.0,2023.0,2022.0,2019.0,2020.0,2023.0,2019.0,2018.0,2021.0,2021.0,2023.0,2022.0,2014.0,2016.0,2016.0,2022.0,2019.0,2020.0,2023.0,2022.0,2023.0,2022.0,2022.0,2023.0,2019.0,2019.0,2022.0,2021.0,2021.0,2019.0,2022.0,2017.0,2023.0,2023.0,2023.0,2022.0,2019.0,2022.0,2022.0,2022.0,2019.0,2023.0,2021.0,2020.0,2023.0,2023.0,2019.0,2021.0,2020.0,2019.0,2023.0,2020.0,2022.0,2019.0,2018.0,2022.0,2022.0,2023.0,2022.0,2022.0,2019.0,2023.0,2019.0,2020.0,2022.0,2023.0,2022.0,2023.0,2020.0,2018.0,2023.0,2020.0,2022.0,2022.0,2021.0,2023.0,2022.0,2019.0,2021.0,2020.0,2020.0,2021.0,2022.0,2020.0,2021.0,2019.0,2018.0,2020.0,2022.0,2021.0,2023.0,2023.0,2021.0,2023.0,2021.0,2021.0,2018.0,2018.0,2022.0,2018.0,2023.0,2018.0,2022.0,2021.0,2019.0,2020.0,2023.0,2023.0,2019.0,2021.0,2021.0,2019.0,2023.0,2022.0,2022.0,2020.0,2022.0,2023.0,2023.0,2023.0,2020.0,2022.0,2019.0,2022.0,2020.0,2021.0,2020.0,2021.0,2020.0,2022.0,2021.0,2023.0,2023.0,2020.0,2022.0,2023.0,2021.0,2020.0,2021.0,2023.0,2023.0,2020.0,2019.0,2023.0,2018.0,2022.0,2023.0,2021.0,2019.0,2018.0,2021.0,2023.0,2022.0,2019.0,2020.0,2023.0,2021.0,2021.0,2020.0,2022.0,2022.0,2021.0,2021.0,2020.0,2023.0,2022.0,2021.0,2023.0,2021.0,2020.0,2018.0,2023.0,2023.0,2023.0,2021.0,2023.0,2022.0,2019.0,2019.0,2019.0,2023.0,2020.0,2023.0,2021.0,2022.0,2020.0,2021.0,2022.0,2021.0,2022.0,2019.0,2022.0,2021.0,2023.0,2017.0,2008.0,2021.0,2023.0,2021.0,2017.0,2021.0,2019.0,2022.0,2023.0,2022.0,2022.0,2020.0,2023.0,2018.0,2023.0,2020.0,2020.0,2022.0,2014.0,2017.0,2021.0,2019.0,2020.0,2023.0,2019.0,2021.0,2019.0,2019.0,2018.0,2022.0,2019.0,2019.0,2019.0,2022.0,2020.0,2023.0,2020.0,2023.0,2021.0,2023.0,2023.0,2022.0,2023.0,2021.0,2021.0,2023.0,2020.0,2017.0,2017.0,2020.0,2021.0,2020.0,2023.0,2022.0,2020.0,2022.0,2019.0,2023.0,2023.0,2019.0,2020.0,2023.0,2023.0,2021.0,2022.0,2021.0,2020.0,2019.0,2021.0,2021.0,2022.0,2021.0,2019.0,2022.0,2020.0,2022.0,2021.0,2023.0,2023.0,2019.0,2022.0,2022.0,2023.0,2021.0,2020.0,2020.0,2022.0,2019.0,2022.0,2020.0,2023.0,2023.0,2019.0,2020.0,2022.0,2021.0,2019.0,2023.0,2023.0,2023.0,2021.0,2022.0,2017.0,2021.0,2020.0,2020.0,2023.0,2021.0,2019.0,2022.0,2023.0,2021.0,2018.0,2022.0,2012.0,2022.0,2023.0,2023.0,2021.0,2020.0,2022.0,2023.0,2021.0,2022.0,2019.0,2018.0,2022.0,2019.0,2017.0,2023.0,2018.0,2018.0,2016.0,2023.0,2012.0,2023.0,2023.0,2018.0,2021.0,2017.0,2014.0,2019.0,2013.0,2013.0,2023.0,2023.0,2022.0,2017.0,2017.0,2017.0,2022.0,2016.0,2017.0,2014.0,2022.0,2019.0,2022.0,2022.0,2022.0,2023.0,2023.0,2023.0,2018.0,2019.0,2023.0,2023.0,2021.0,2022.0,2022.0,2023.0,2019.0,2023.0,2022.0,2020.0,2022.0,2023.0,2021.0,2022.0,2019.0,2023.0,2019.0,2022.0,2020.0,2019.0,2023.0,2020.0,2019.0,2021.0,2022.0,2019.0,2018.0,2018.0,2021.0,2023.0,2020.0,2023.0,2020.0,2023.0,2018.0,2023.0,2020.0,2021.0,2022.0,2015.0,2019.0,2023.0,2022.0,2022.0,2023.0,2022.0,2017.0,2023.0,2013.0,2023.0,2018.0,2019.0,2020.0,2021.0,2020.0,2017.0,2017.0,2016.0,2016.0,2018.0,2020.0,2022.0,2023.0,2018.0,2022.0,2020.0,2018.0,2018.0,2021.0,2018.0,2019.0,2022.0,2021.0,2018.0,2020.0,2021.0,2018.0,2020.0,2020.0,2019.0,2016.0,2018.0,2017.0,2016.0,2022.0,2020.0,2019.0,2015.0,2023.0,2021.0,2021.0,2023.0,2023.0,2019.0,2022.0,2014.0,2014.0,2017.0,2019.0,2021.0,2021.0,2023.0,2022.0,2021.0,2022.0,2023.0,2019.0,2020.0,2023.0,2023.0,2022.0,2023.0,2021.0,2019.0,2022.0,2020.0,2013.0,2023.0,2016.0,2014.0,2017.0,2020.0,2021.0,2023.0,2019.0,2019.0,2019.0,2023.0,2020.0,2014.0,2017.0,2014.0,2023.0,2022.0,2012.0,2020.0,2021.0,2022.0,2023.0,2023.0,2023.0,2020.0,2022.0,2019.0,2018.0,2023.0,2020.0,2023.0,2016.0,2016.0,2022.0,2019.0,2022.0,2022.0,2023.0,2022.0,2022.0,2022.0,2019.0,2019.0,2021.0,2015.0,2020.0,2021.0,2022.0,2022.0,2022.0,2020.0,2018.0,2020.0,2023.0,2023.0,2020.0,2023.0,2021.0,2015.0,2019.0,2022.0,2021.0,2020.0,2020.0,2018.0,2020.0,2022.0,2018.0,2018.0,2022.0,2021.0,2019.0,2020.0,2022.0,2022.0,2020.0,2022.0,2020.0,2022.0,2018.0,2021.0,2021.0,2020.0,2023.0,2021.0,2021.0,2021.0,2018.0,2018.0,2021.0,2021.0,2022.0,2022.0,2019.0,2021.0,2021.0,2021.0,2023.0,2019.0,2021.0,2020.0,2022.0,2019.0,2015.0,2015.0,2021.0,2019.0,2019.0,2021.0,2021.0,2020.0,2021.0,2022.0,2023.0,2022.0,2023.0,2021.0,2022.0,2020.0,2020.0,2019.0,2021.0,2022.0,2023.0,2018.0,2022.0,2023.0,2022.0,2019.0,2019.0,2022.0,2021.0,2020.0,2020.0,2023.0,2020.0,2022.0,2022.0,2023.0,2022.0,2022.0,2020.0,2023.0,2022.0,2021.0,2022.0,2021.0,2023.0,2019.0,2019.0,2021.0,2021.0,2022.0,2023.0,2018.0,2023.0,2020.0,2021.0,2022.0,2019.0,2021.0,2020.0,2021.0,2020.0,2019.0,2021.0,2013.0,2017.0,2017.0,2023.0,2013.0,2014.0,2017.0,2017.0,2014.0,2023.0,2023.0,2022.0,2023.0,2023.0,2023.0,2023.0,2023.0,2022.0,2022.0,2022.0,2022.0,2019.0,2021.0,2021.0,2021.0,2020.0,2022.0,2023.0,2023.0,2018.0,2022.0,2013.0,2017.0,2017.0,2020.0,2019.0,2021.0,2018.0,2021.0,2023.0,2023.0,2022.0,2023.0,2022.0,2023.0,2021.0,2021.0,2015.0,2020.0,2019.0,2023.0,2021.0,2022.0,2020.0,2018.0,2020.0,2019.0,2020.0,2012.0,2017.0,2023.0,2023.0,2023.0,2023.0,2022.0,2023.0,2023.0,2023.0,2022.0,2020.0,2022.0,2020.0,2022.0,2018.0,2021.0,2020.0,2021.0,2022.0,2020.0,2021.0,2013.0,2017.0,2014.0,2013.0,2017.0,2023.0,2008.0,2017.0,2016.0,2021.0,2021.0,2021.0,2018.0,2019.0,2018.0,2017.0,2014.0,2023.0,2023.0,2016.0,2014.0,2016.0,2016.0,2012.0,2022.0,2021.0,2016.0,2019.0,2023.0,2023.0,2023.0,2022.0,2021.0,2023.0,2021.0,2021.0,2023.0,2020.0,2023.0,2020.0,2022.0,2022.0,2022.0,2023.0,2023.0,2018.0,2022.0,2020.0,2021.0,2023.0,2021.0,2023.0,2020.0,2022.0,2021.0,2021.0,2020.0,2022.0,2019.0,2019.0,2023.0,2021.0,2021.0,2019.0,2022.0,2022.0,2022.0,2020.0,2022.0,2020.0,2023.0,2020.0,2018.0,2023.0,2021.0,2022.0,2023.0,2023.0,2022.0,2020.0,2021.0,2021.0,2022.0,2022.0,2019.0,2019.0,2023.0,2022.0,2023.0,2020.0,2023.0,2020.0,2021.0,2021.0,2020.0,2019.0,2020.0,2023.0,2019.0,2023.0,2019.0,2021.0,2021.0,2021.0,2023.0,2021.0,2022.0,2017.0,2017.0,2020.0,2013.0,2020.0,2016.0,2014.0,2011.0,2014.0,2017.0,2016.0,2017.0,2017.0,2017.0,2021.0,2014.0,2013.0,2016.0,2011.0,2013.0,2012.0,2023.0,2018.0,2021.0,2020.0,2017.0,2022.0,2019.0,2021.0,2017.0,2021.0,2023.0,2023.0,2021.0,2023.0,2017.0,2018.0,2019.0,2022.0,2019.0,2019.0,2021.0,2022.0,2016.0,2020.0,2019.0,2022.0,2021.0,2022.0,2015.0,2023.0,2021.0,2023.0,2017.0,2017.0,2016.0,2017.0,2017.0,2020.0,2023.0,2019.0,2022.0,2019.0,2012.0,2017.0,2013.0,2017.0,2017.0,2014.0,2011.0,2017.0,2012.0,2019.0,2023.0,2021.0,2023.0,2022.0,2015.0,2019.0,2021.0,2023.0,2018.0,2023.0,2018.0,2023.0,2021.0,2021.0,2023.0,2022.0,2022.0,2018.0,2017.0,2017.0,2012.0,2018.0,2020.0,2020.0,2023.0,2021.0,2023.0,2023.0,2018.0,2021.0,2022.0,2015.0,2023.0,2023.0,2021.0,2023.0,2022.0,2022.0,2023.0,2020.0,2019.0,2018.0,2023.0,2022.0,2018.0,2023.0,2022.0,2019.0,2021.0,2019.0,2022.0,2022.0,2023.0,2021.0,2023.0,2021.0,2022.0,2018.0,2021.0,2021.0,2020.0,2018.0,2015.0,2022.0,2021.0,2019.0,2019.0,2019.0,2019.0,2022.0,2023.0,2023.0,2021.0,2021.0,2023.0,2021.0,2020.0,2023.0,2021.0,2022.0,2022.0,2022.0,2023.0,2023.0,2020.0,2023.0,2023.0,2021.0,2022.0,2020.0,2023.0,2021.0,2022.0,2021.0,2023.0,2021.0,2019.0,2018.0,2023.0,2020.0,2021.0,2023.0,2023.0,2021.0,2020.0,2023.0,2020.0,2022.0,2018.0,2021.0,2021.0,2016.0,2014.0,2016.0,2017.0,2017.0,2020.0,2021.0,2018.0,2023.0,2023.0,2023.0,2022.0,2022.0,2019.0,2019.0,2020.0,2022.0,2022.0,2018.0,2022.0,2022.0,2017.0,2021.0,2021.0,2021.0,2022.0,2018.0,2023.0,2018.0,2022.0,2020.0,2022.0,2019.0,2022.0,2021.0,2019.0,2023.0,2022.0,2023.0,2019.0,2015.0,2015.0,2022.0,2022.0,2022.0,2020.0,2023.0,2020.0,2021.0,2020.0,2022.0,2023.0,2019.0,2022.0,2019.0,2017.0,2020.0,2020.0,2019.0,2022.0,2023.0,2018.0,2021.0,2023.0,2023.0,2022.0,2023.0,2019.0,2021.0,2017.0,2015.0,2022.0,2021.0,2022.0,2022.0,2019.0,2017.0,2020.0,2022.0,2021.0,2018.0,2019.0,2017.0,2017.0,2019.0,2022.0,2023.0,2014.0,2013.0,2022.0,2021.0,2021.0,2021.0,2021.0,2022.0,2019.0,2019.0,2022.0,2021.0,2022.0,2023.0,2023.0,2022.0,2021.0,2023.0,2023.0,2019.0,2017.0,2023.0,2014.0,2021.0,2022.0,2019.0,2019.0,2019.0,2022.0,2022.0,2012.0,2012.0,2013.0,2023.0,2013.0,2022.0,2023.0,2014.0,2019.0,2022.0,2019.0,2021.0,2022.0,2019.0,2022.0,2023.0,2019.0,2022.0,2021.0,2020.0,2022.0,2019.0,2020.0,2020.0,2021.0,2022.0,2018.0,2020.0,2022.0,2020.0,2018.0,2015.0,2015.0,2022.0,2023.0,2020.0,2023.0,2022.0,2020.0,2020.0,2019.0,2023.0,2023.0,2018.0,2021.0,2023.0,2023.0,2021.0,2022.0,2023.0,2018.0,2022.0,2021.0,2022.0,2019.0,2021.0,2020.0,2023.0,2019.0,2023.0,2022.0,2018.0,2022.0,2021.0,2018.0,2023.0,2022.0,2022.0,2021.0,2019.0,2021.0,2021.0,2020.0,2019.0,2023.0,2022.0,2022.0,2020.0,2023.0,2020.0,2022.0,2023.0,2022.0,2021.0,2021.0,2020.0,2023.0,2020.0,2020.0,2022.0,2022.0,2021.0,2023.0,2022.0,2023.0,2018.0,2023.0,2023.0,2023.0,2021.0,2021.0,2020.0,2020.0,2021.0,2021.0,2022.0,2023.0,2023.0,2014.0,2023.0,2019.0,2023.0,2021.0,2023.0,2019.0,2023.0,2023.0,2023.0,2019.0,2021.0,2019.0,2022.0,2020.0,2022.0,2019.0,2023.0,2023.0,2020.0,2022.0,2022.0,2020.0,2023.0,2023.0,2022.0,2015.0,2018.0,2022.0,2018.0,2018.0,2021.0,2023.0,2023.0,2020.0,2020.0,2022.0,2023.0,2019.0,2020.0,2020.0,2021.0,2023.0,2023.0,2022.0,2023.0,2023.0,2015.0,2022.0,2022.0,2023.0,2018.0,2022.0,2018.0,2022.0,2020.0,2018.0,2022.0,2023.0,2015.0,2021.0,2019.0,2021.0,2019.0,2023.0,2023.0,2021.0,2023.0,2017.0,2020.0,2019.0,2022.0,2021.0,2021.0,2017.0,2016.0,2019.0,2012.0,2017.0,2016.0,2013.0,2017.0,2016.0,2016.0,2019.0,2019.0,2017.0,2012.0,2012.0,2016.0,2017.0,2017.0,2022.0,2022.0,2017.0,2023.0,2023.0,2017.0,2022.0,2023.0,2016.0,2014.0,2016.0,2023.0,2022.0,2013.0,2023.0,2012.0,2016.0,2022.0,2019.0,2021.0,2021.0,2020.0,2018.0,2021.0,2022.0,2022.0,2023.0,2021.0,2018.0,2022.0,2022.0,2021.0,2023.0,2017.0,2022.0,2023.0,2021.0,2023.0,2019.0,2022.0,2021.0,2022.0,2021.0,2015.0,2023.0,2021.0,2022.0,2021.0,2018.0,2023.0,2017.0,2016.0,2021.0,2016.0,2016.0,2017.0,2019.0,2022.0,2018.0,2014.0,2017.0,2017.0,2021.0,2022.0,2021.0,2018.0,2018.0,2018.0,2023.0,2023.0,2023.0,2023.0,2022.0,2022.0,2021.0,2021.0,2016.0,2015.0,2022.0,2021.0,2022.0,2021.0,2022.0,2023.0,2020.0,2022.0,2022.0,2022.0,2023.0,2023.0,2021.0,2020.0,2023.0,2018.0,2021.0,2018.0,2022.0,2022.0,2022.0,2020.0,2015.0,2021.0,2020.0,2022.0,2022.0,2018.0,2023.0,2021.0,2022.0,2022.0,2022.0,2022.0,2022.0,2020.0,2019.0,2022.0,2023.0,2023.0,2021.0,2019.0,2021.0,2020.0,2020.0,2020.0,2022.0,2023.0,2020.0,2020.0,2022.0,2023.0,2022.0,2020.0,2023.0,2022.0,2019.0,2022.0,2020.0,2021.0,2023.0,2023.0,2022.0,2022.0,2021.0,2019.0,2016.0,2020.0,2019.0,2021.0,2021.0,2020.0,2020.0,2013.0,2021.0,2020.0,2023.0,2020.0,2023.0,2023.0,2021.0,2021.0,2022.0,2021.0,2020.0,2023.0,2016.0,2012.0,2022.0,2023.0,2023.0,2023.0,2020.0,2016.0,2023.0,2023.0,2022.0,2023.0,2020.0,2018.0,2021.0,2022.0,2023.0,2017.0,2021.0,2021.0,2017.0,2013.0,2016.0,2017.0,2023.0,2016.0,2020.0,2016.0,2017.0,2017.0,2017.0,2017.0,2017.0,2013.0,2017.0,2017.0,2020.0,2023.0,2023.0,2022.0,2023.0,2021.0,2022.0,2020.0,2012.0,2016.0,2017.0,2017.0,2023.0,2014.0,2015.0,2016.0,2017.0,2021.0,2023.0,2018.0,2023.0,2021.0,2020.0,2023.0,2023.0,2019.0,2019.0,2020.0,2018.0,2020.0,2023.0,2018.0,2021.0,2021.0,2022.0,2023.0,2021.0,2021.0,2018.0,2022.0,2021.0,2018.0,2020.0,2022.0,2022.0,2022.0,2022.0,2019.0,2015.0,2022.0,2021.0,2022.0,2022.0,2022.0,2019.0,2023.0,2022.0,2015.0,2022.0,2023.0,2020.0,2021.0,2020.0,2020.0,2020.0,2021.0,2015.0,2019.0,2022.0,2020.0,2020.0,2022.0,2021.0,2023.0,2020.0,2023.0,2019.0,2020.0,2023.0,2018.0,2023.0,2019.0,2022.0,2021.0,2022.0,2023.0,2022.0,2023.0,2023.0,2023.0,2022.0,2023.0,2023.0,2021.0,2021.0,2021.0,2020.0,2018.0,2021.0,2021.0,2021.0,2023.0,2023.0,2021.0,2023.0,2020.0,2018.0,2023.0,2021.0,2018.0,2022.0,2020.0,2021.0,2019.0,2021.0,2023.0,2019.0,2020.0,2023.0,2021.0,2019.0,2019.0,2021.0,2018.0,2023.0,2023.0,2020.0,2023.0,2020.0,2023.0,2023.0,2019.0,2021.0,2023.0,2019.0,2022.0,2021.0,2019.0,2022.0,2023.0,2023.0,2021.0,2022.0,2018.0,2021.0,2021.0,2021.0,2022.0,2023.0,2023.0,2012.0,2016.0,2017.0,2023.0,2022.0,2023.0,2023.0,2022.0,2019.0,2023.0,2022.0,2019.0,2019.0,2021.0,2018.0,2022.0,2019.0,2023.0,2022.0,2021.0,2020.0,2018.0,2022.0,2019.0,2019.0,2021.0,2021.0,2014.0,2019.0,2023.0,2013.0,2021.0,2023.0,2023.0,2023.0,2022.0,2021.0,2023.0,2022.0,2023.0,2018.0,2018.0,2018.0,2019.0,2022.0,2020.0,2021.0,2023.0,2022.0,2023.0,2022.0,2020.0,2021.0,2022.0,2021.0,2022.0,2019.0,2022.0,2023.0,2020.0,2020.0,2022.0,2019.0,2020.0,2020.0,2022.0,2021.0,2019.0,2023.0,2022.0,2020.0,2019.0,2018.0,2023.0,2023.0,2023.0,2021.0,2022.0,2022.0,2023.0,2021.0,2022.0,2022.0,2022.0,2019.0,2023.0,2023.0,2022.0,2023.0,2020.0,2022.0,2021.0,2019.0,2022.0,2018.0,2015.0,2023.0,2021.0,2023.0,2015.0,2023.0,2021.0,2021.0,2021.0,2020.0,2020.0,2023.0,2022.0,2018.0,2022.0,2023.0,2008.0,2017.0,2021.0,2022.0,2017.0,2019.0,2017.0,2017.0,2012.0,2014.0,2016.0,2017.0,2016.0,2011.0,2020.0,2016.0,2022.0,2013.0,2023.0,2016.0,2021.0,2022.0,2022.0,2019.0,2019.0,2014.0,2018.0,2017.0,2011.0,2023.0,2023.0,2016.0,2016.0,2018.0,2019.0,2017.0,2022.0,2019.0,2021.0,2022.0,2021.0,2020.0,2022.0,2021.0,2022.0,2021.0,2021.0,2022.0,2022.0,2022.0,2022.0,2021.0,2021.0,2021.0,2021.0,2022.0,2019.0,2019.0,2019.0,2022.0,2022.0,2017.0,2014.0,2017.0,2019.0,2016.0,2022.0,2010.0,2018.0,2016.0,2022.0,2019.0,2021.0,2015.0,2021.0,2019.0,2019.0,2019.0,2019.0,2019.0,2018.0,2022.0,2019.0,2022.0,2018.0,2021.0,2020.0,2022.0,2017.0,2018.0,2018.0,2021.0,2019.0,2018.0,2022.0,2021.0,2021.0,2020.0,2018.0,2019.0,2019.0,2021.0,2016.0,2014.0,2016.0,2014.0,2022.0,2019.0,2018.0,2018.0,2018.0,2019.0,2021.0,2018.0,2019.0,2021.0,2019.0,2019.0,2022.0,2022.0,2022.0,2019.0,2015.0,2019.0,2019.0,2019.0,2021.0,2015.0,2019.0,2015.0,2021.0,2021.0,2021.0,2019.0,2019.0,2022.0,2022.0,2018.0,2022.0,2021.0,2018.0,2018.0,2017.0,2017.0,2021.0,2019.0,2019.0,2019.0,2021.0,2019.0,2018.0,2018.0,2019.0,2019.0,2022.0,2021.0,2022.0,2015.0,2021.0,2022.0,2019.0,2022.0,2021.0,2018.0,2016.0,2014.0,2017.0,2017.0,2012.0,2016.0,2021.0,2018.0,2021.0,2018.0,2011.0,2022.0,2018.0,2021.0,2019.0,2019.0,2022.0,2022.0,2022.0,2018.0,2022.0,2018.0,2019.0,2019.0,2018.0,2021.0,2022.0,2019.0,2019.0,2022.0,2022.0,2018.0,2018.0,2022.0,2018.0,2022.0,2022.0,2022.0,2021.0,2022.0,2021.0,2021.0,2019.0,2016.0,2019.0,2022.0,2016.0,2018.0,2019.0,2022.0,2021.0,2015.0,2016.0,2018.0,2016.0,2017.0,2013.0,2012.0,2017.0,2017.0,2014.0,2017.0,2022.0,2014.0,2011.0,2017.0,2018.0,2022.0,2017.0,2014.0,2017.0,2022.0,2019.0,2019.0,2017.0,2018.0,2018.0,2018.0,2019.0,2019.0,2018.0,2022.0,2021.0,2015.0,2019.0,2022.0,2017.0,2016.0,2017.0,2019.0,2018.0,2018.0,2019.0,2022.0,2015.0,2019.0,2015.0,2018.0,2018.0,2022.0,2019.0,2021.0,2018.0,2019.0,2021.0,2018.0,2018.0,2022.0,2022.0,2019.0,2017.0,2016.0,2022.0,2017.0,2019.0,2022.0,2022.0,2018.0,2021.0,2019.0,2019.0,2022.0,2022.0,2022.0,2016.0,2011.0,2012.0,2017.0,2021.0,2022.0,2019.0,2018.0,2017.0,2019.0,2016.0,2016.0,2019.0,2022.0,2019.0,2018.0,2022.0,2015.0,2018.0,2017.0,2017.0,2017.0,2016.0,2017.0,2017.0,2022.0,2016.0,2022.0,2019.0,2015.0,2022.0,2018.0,2022.0,2018.0,2021.0,2021.0,2021.0,2019.0,2019.0,2019.0,2019.0,2022.0,2018.0,2021.0,2022.0,2018.0,2021.0,2018.0,2018.0,2021.0,2018.0,2015.0,2019.0,2018.0,2021.0,2017.0,2022.0,2019.0,2016.0,2013.0,2015.0,2019.0,2018.0,2017.0,2013.0,2017.0,2012.0,2022.0,2014.0,2019.0,2018.0,2017.0,2013.0,2018.0,2018.0,2022.0,2015.0,2022.0,2020.0,2021.0,2022.0,2022.0,2021.0,2018.0,2021.0,2021.0,2019.0,2016.0,2014.0,2019.0,2021.0,2020.0,2018.0,2019.0,2022.0,2018.0,2019.0,2022.0,2019.0,2017.0,2017.0,2019.0,2015.0,2017.0,2019.0,2021.0,2020.0,2018.0,2018.0,2022.0,2018.0,2019.0,2019.0,2021.0,2018.0,2022.0,2018.0,2018.0,2022.0,2021.0,2019.0,2019.0,2018.0,2019.0,2022.0,2022.0,2021.0,2018.0,2018.0,2019.0,2018.0,2019.0,2018.0,2018.0,2021.0,2019.0,2015.0,2017.0,2019.0,2015.0,2011.0,2019.0,2017.0,2021.0,2015.0,2019.0,2018.0,2022.0,2015.0,2021.0,2018.0,2021.0,2021.0,2019.0,2019.0,2022.0,2019.0,2019.0,2019.0,2014.0,2021.0,2017.0,2011.0,2018.0,2016.0,2017.0,2017.0,2016.0,2016.0,2017.0,2016.0,2017.0,2016.0,2015.0,2018.0,2019.0,2019.0,2019.0,2021.0,2019.0,2022.0,2022.0,2021.0,2019.0,2021.0,2015.0,2019.0,2018.0,2016.0,2016.0,2013.0,2015.0,2017.0,2018.0,2022.0,2022.0,2019.0,2019.0,2013.0,2016.0,2019.0,2016.0,2013.0,2018.0,2019.0,2022.0,2018.0,2019.0,2016.0,2017.0,2013.0,2014.0,2014.0,2013.0,2022.0,2021.0,2021.0,2022.0,2022.0,2017.0,2019.0,2019.0,2022.0,2018.0,2015.0,2019.0,2021.0,2019.0,2018.0,2021.0,2015.0,2018.0,2014.0,2021.0,2019.0,2022.0,2021.0,2022.0,2021.0,2019.0,2018.0,2019.0,2021.0,2019.0,2019.0,2021.0,2019.0,2018.0,2019.0,2021.0,2016.0,2019.0,2016.0,2019.0,2011.0,2019.0,2016.0,2021.0,2014.0,2013.0,2019.0,2009.0,2019.0,2022.0,2022.0,2016.0,2021.0,2019.0,2021.0,2019.0,2019.0,2021.0,2022.0,2019.0,2019.0,2022.0,2015.0,2022.0,2022.0,2021.0,2015.0,2021.0,2022.0,2021.0,2021.0,2019.0,2022.0,2019.0,2018.0,2018.0,2019.0,2018.0,2012.0,2021.0,2019.0,2019.0,2021.0,2018.0,2019.0,2021.0,2019.0,2022.0,2022.0,2019.0,2019.0,2021.0,2022.0,2018.0,2016.0,2016.0,2022.0,2022.0,2021.0,2021.0,2018.0,2022.0,2022.0,2011.0,2014.0,2017.0,2014.0,2021.0,2015.0,2015.0,2017.0,2018.0,2017.0,2016.0,2016.0,2012.0,2017.0,2021.0,2019.0,2019.0,2022.0,2018.0,2022.0,2019.0,2022.0,2019.0,2021.0,2022.0,2017.0,2016.0,2016.0,2012.0,2019.0,2015.0,2019.0,2018.0,2018.0,2021.0,2015.0,2018.0,2022.0,2019.0,2019.0,2019.0,2022.0,2018.0,2021.0,2016.0,2016.0,2017.0,2017.0,2017.0,2016.0,2016.0,2011.0,2017.0,2016.0,2016.0,2019.0,2021.0,2011.0,2014.0,2012.0,2018.0,2012.0,2021.0,2022.0,2016.0,2018.0,2018.0,2018.0,2015.0,2022.0,2016.0,2017.0,2019.0,2022.0,2020.0,2018.0,2022.0,2022.0,2018.0,2021.0,2019.0,2018.0,2022.0,2011.0,2016.0,2022.0,2020.0,2019.0,2020.0,2022.0,2019.0,2019.0,2017.0,2017.0,2016.0,2014.0,2014.0,2013.0,2008.0,2017.0,2017.0,2021.0,2021.0,2015.0,2015.0,2022.0,2022.0,2022.0,2018.0,2022.0,2022.0,2021.0,2017.0,2014.0,2019.0,2017.0,2014.0,2017.0,2014.0,2016.0,2020.0,2016.0,2012.0,2016.0,2017.0,2010.0,2022.0,2017.0,2021.0,2018.0,2017.0,2019.0,2018.0,2019.0,2022.0,2017.0,2019.0,2018.0,2019.0,2022.0,2022.0,2022.0,2021.0,2016.0,2021.0,2015.0,2022.0,2021.0,2020.0,2019.0,2021.0,2019.0,2018.0,2018.0,2019.0,2022.0,2017.0,2019.0,2016.0,2022.0,2017.0,2017.0,2016.0,2019.0,2014.0,2013.0,2011.0,2021.0,2021.0,2018.0,2019.0,2020.0,2018.0,2018.0,2021.0,2022.0,2018.0,2018.0,2018.0,2022.0,2021.0,2019.0,2019.0,2021.0,2019.0,2022.0,2018.0,2022.0,2022.0,2019.0,2022.0,2021.0,2019.0,2018.0,2019.0,2022.0,2021.0,2021.0,2019.0,2018.0,2018.0,2019.0,2019.0,2022.0,2018.0,2019.0,2021.0,2018.0,2022.0,2015.0,2018.0,2018.0,2014.0,2016.0,2016.0,2021.0,2019.0,2022.0,2022.0,2019.0,2021.0,2021.0,2021.0,2022.0,2022.0,2019.0,2019.0,2021.0,2018.0,2022.0,2022.0,2022.0,2018.0,2022.0,2020.0,2021.0,2019.0,2022.0,2018.0,2022.0,2021.0,2022.0,2019.0,2021.0,2013.0,2019.0,2022.0,2021.0,2015.0,2017.0,2017.0,2021.0,2021.0,2011.0,2019.0,2021.0,2016.0,2022.0,2015.0,2014.0,2016.0,2016.0,2021.0,2022.0,2014.0,2017.0,2016.0,2021.0,2014.0,2018.0,2020.0,2018.0,2015.0,2014.0,2019.0,2011.0,2013.0,2011.0,2015.0,2022.0,2019.0,2019.0,2018.0,2018.0,2015.0,2021.0,2022.0,2022.0,2020.0,2017.0,2017.0,2018.0,2016.0,2016.0,2017.0,2012.0,2016.0,2021.0,2019.0,2016.0,2015.0,2022.0,2017.0,2022.0,2018.0,2016.0,2022.0,2021.0,2019.0,2013.0,2017.0,2022.0,2018.0,2019.0,2021.0,2018.0,2022.0,2019.0,2022.0,2021.0,2021.0,2019.0,2022.0,2016.0,2012.0,2021.0,2015.0,2019.0,2015.0,2022.0,2022.0,2022.0,2017.0,2014.0,2022.0,2022.0,2021.0,2019.0,2021.0,2018.0,2021.0,2018.0,2015.0,2021.0,2022.0,2018.0,2019.0,2022.0,2015.0,2019.0,2021.0,2021.0,2021.0,2019.0,2022.0,2016.0,2008.0,2016.0,2016.0,2016.0,2016.0,2014.0,2018.0,2018.0,2020.0,2019.0,2021.0,2021.0,2017.0,2017.0,2019.0,2021.0,2018.0,2016.0,2012.0,2015.0,2015.0,2022.0,2017.0,2017.0,2018.0,2022.0,2019.0,2019.0,2018.0,2018.0,2015.0,2020.0,2018.0,2021.0,2019.0,2017.0,2017.0,2016.0,2014.0,2012.0,2019.0,2017.0,2016.0,2017.0,2017.0,2017.0,2017.0,2016.0,2017.0,2016.0,2017.0,2013.0,2012.0,2017.0,2014.0,2017.0,2016.0,2017.0,2017.0,2018.0,2017.0,2016.0,2022.0,2014.0,2022.0,2017.0,2022.0,2014.0,2020.0,2021.0,2014.0,2019.0,2017.0,2016.0,2014.0,2014.0,2021.0,2016.0,2019.0,2016.0,2011.0,2017.0,2012.0,2017.0,2022.0,2022.0,2021.0,2019.0,2021.0,2015.0,2022.0,2019.0,2018.0,2019.0,2018.0,2014.0,2021.0,2018.0,2016.0,2018.0,2021.0,2016.0,2022.0,2018.0,2018.0,2018.0,2015.0,2020.0,2018.0,2011.0,2015.0,2015.0,2019.0,2017.0,2018.0,2015.0,2021.0,2021.0,2018.0,2016.0,2016.0,2016.0,2008.0,2016.0,2018.0,2013.0,2017.0,2017.0,2016.0,2012.0,2013.0,2013.0,2017.0,2017.0,2012.0,2019.0,2015.0,2021.0,2022.0,2018.0,2022.0,2021.0,2018.0,2022.0,2018.0,2018.0,2019.0,2019.0,2022.0,2022.0,2019.0,2019.0,2019.0,2022.0,2020.0,2021.0,2015.0,2018.0,2019.0,2015.0,2019.0,2018.0,2019.0,2018.0,2016.0,2011.0,2014.0,2013.0,2016.0,2017.0,2017.0,2014.0,2013.0,2016.0,2009.0,2016.0,2021.0,2019.0,2019.0,2016.0,2011.0,2014.0,2011.0,2021.0,2022.0,2014.0,2016.0,2022.0,2012.0,2017.0,2017.0,2016.0,2019.0,2019.0,2022.0,2018.0,2022.0,2021.0,2018.0,2015.0,2021.0,2022.0,2017.0,2016.0,2019.0,2015.0,2019.0,2019.0,2015.0,2017.0,2017.0,2022.0,2016.0,2017.0,2019.0,2016.0,2019.0,2022.0,2018.0,2013.0,2017.0,2019.0,2019.0,2019.0,2021.0,2013.0,2016.0,2016.0,2013.0,2019.0,2019.0,2011.0,2019.0,2018.0,2022.0,2019.0,2017.0,2016.0,2017.0,2022.0,2019.0,2021.0,2013.0,2016.0,2017.0,2013.0,2014.0,2017.0,2019.0,2017.0,2016.0,2017.0,2016.0,2019.0,2019.0,2022.0,2018.0,2022.0,2021.0,2018.0,2021.0,2021.0,2015.0,2021.0,2018.0,2021.0,2019.0,2019.0,2019.0,2022.0,2018.0,2021.0,2021.0,2022.0,2018.0,2018.0,2017.0,2017.0,2017.0,2016.0,2019.0,2016.0,2016.0,2018.0,2018.0,2019.0,2021.0,2021.0,2021.0,2015.0,2015.0,2022.0,2022.0,2021.0,2022.0,2015.0,2019.0,2021.0,2022.0,2019.0,2021.0,2017.0,2016.0,2016.0,2019.0,2022.0,2022.0,2012.0,2013.0,2014.0,2014.0,2017.0,2017.0,2017.0,2017.0,2017.0,2017.0,2013.0],\"xaxis\":\"x\",\"yaxis\":\"y\",\"type\":\"histogram\"}],                        {\"template\":{\"data\":{\"histogram2dcontour\":[{\"type\":\"histogram2dcontour\",\"colorbar\":{\"outlinewidth\":0,\"ticks\":\"\"},\"colorscale\":[[0.0,\"#0d0887\"],[0.1111111111111111,\"#46039f\"],[0.2222222222222222,\"#7201a8\"],[0.3333333333333333,\"#9c179e\"],[0.4444444444444444,\"#bd3786\"],[0.5555555555555556,\"#d8576b\"],[0.6666666666666666,\"#ed7953\"],[0.7777777777777778,\"#fb9f3a\"],[0.8888888888888888,\"#fdca26\"],[1.0,\"#f0f921\"]]}],\"choropleth\":[{\"type\":\"choropleth\",\"colorbar\":{\"outlinewidth\":0,\"ticks\":\"\"}}],\"histogram2d\":[{\"type\":\"histogram2d\",\"colorbar\":{\"outlinewidth\":0,\"ticks\":\"\"},\"colorscale\":[[0.0,\"#0d0887\"],[0.1111111111111111,\"#46039f\"],[0.2222222222222222,\"#7201a8\"],[0.3333333333333333,\"#9c179e\"],[0.4444444444444444,\"#bd3786\"],[0.5555555555555556,\"#d8576b\"],[0.6666666666666666,\"#ed7953\"],[0.7777777777777778,\"#fb9f3a\"],[0.8888888888888888,\"#fdca26\"],[1.0,\"#f0f921\"]]}],\"heatmap\":[{\"type\":\"heatmap\",\"colorbar\":{\"outlinewidth\":0,\"ticks\":\"\"},\"colorscale\":[[0.0,\"#0d0887\"],[0.1111111111111111,\"#46039f\"],[0.2222222222222222,\"#7201a8\"],[0.3333333333333333,\"#9c179e\"],[0.4444444444444444,\"#bd3786\"],[0.5555555555555556,\"#d8576b\"],[0.6666666666666666,\"#ed7953\"],[0.7777777777777778,\"#fb9f3a\"],[0.8888888888888888,\"#fdca26\"],[1.0,\"#f0f921\"]]}],\"heatmapgl\":[{\"type\":\"heatmapgl\",\"colorbar\":{\"outlinewidth\":0,\"ticks\":\"\"},\"colorscale\":[[0.0,\"#0d0887\"],[0.1111111111111111,\"#46039f\"],[0.2222222222222222,\"#7201a8\"],[0.3333333333333333,\"#9c179e\"],[0.4444444444444444,\"#bd3786\"],[0.5555555555555556,\"#d8576b\"],[0.6666666666666666,\"#ed7953\"],[0.7777777777777778,\"#fb9f3a\"],[0.8888888888888888,\"#fdca26\"],[1.0,\"#f0f921\"]]}],\"contourcarpet\":[{\"type\":\"contourcarpet\",\"colorbar\":{\"outlinewidth\":0,\"ticks\":\"\"}}],\"contour\":[{\"type\":\"contour\",\"colorbar\":{\"outlinewidth\":0,\"ticks\":\"\"},\"colorscale\":[[0.0,\"#0d0887\"],[0.1111111111111111,\"#46039f\"],[0.2222222222222222,\"#7201a8\"],[0.3333333333333333,\"#9c179e\"],[0.4444444444444444,\"#bd3786\"],[0.5555555555555556,\"#d8576b\"],[0.6666666666666666,\"#ed7953\"],[0.7777777777777778,\"#fb9f3a\"],[0.8888888888888888,\"#fdca26\"],[1.0,\"#f0f921\"]]}],\"surface\":[{\"type\":\"surface\",\"colorbar\":{\"outlinewidth\":0,\"ticks\":\"\"},\"colorscale\":[[0.0,\"#0d0887\"],[0.1111111111111111,\"#46039f\"],[0.2222222222222222,\"#7201a8\"],[0.3333333333333333,\"#9c179e\"],[0.4444444444444444,\"#bd3786\"],[0.5555555555555556,\"#d8576b\"],[0.6666666666666666,\"#ed7953\"],[0.7777777777777778,\"#fb9f3a\"],[0.8888888888888888,\"#fdca26\"],[1.0,\"#f0f921\"]]}],\"mesh3d\":[{\"type\":\"mesh3d\",\"colorbar\":{\"outlinewidth\":0,\"ticks\":\"\"}}],\"scatter\":[{\"fillpattern\":{\"fillmode\":\"overlay\",\"size\":10,\"solidity\":0.2},\"type\":\"scatter\"}],\"parcoords\":[{\"type\":\"parcoords\",\"line\":{\"colorbar\":{\"outlinewidth\":0,\"ticks\":\"\"}}}],\"scatterpolargl\":[{\"type\":\"scatterpolargl\",\"marker\":{\"colorbar\":{\"outlinewidth\":0,\"ticks\":\"\"}}}],\"bar\":[{\"error_x\":{\"color\":\"#2a3f5f\"},\"error_y\":{\"color\":\"#2a3f5f\"},\"marker\":{\"line\":{\"color\":\"#E5ECF6\",\"width\":0.5},\"pattern\":{\"fillmode\":\"overlay\",\"size\":10,\"solidity\":0.2}},\"type\":\"bar\"}],\"scattergeo\":[{\"type\":\"scattergeo\",\"marker\":{\"colorbar\":{\"outlinewidth\":0,\"ticks\":\"\"}}}],\"scatterpolar\":[{\"type\":\"scatterpolar\",\"marker\":{\"colorbar\":{\"outlinewidth\":0,\"ticks\":\"\"}}}],\"histogram\":[{\"marker\":{\"pattern\":{\"fillmode\":\"overlay\",\"size\":10,\"solidity\":0.2}},\"type\":\"histogram\"}],\"scattergl\":[{\"type\":\"scattergl\",\"marker\":{\"colorbar\":{\"outlinewidth\":0,\"ticks\":\"\"}}}],\"scatter3d\":[{\"type\":\"scatter3d\",\"line\":{\"colorbar\":{\"outlinewidth\":0,\"ticks\":\"\"}},\"marker\":{\"colorbar\":{\"outlinewidth\":0,\"ticks\":\"\"}}}],\"scattermapbox\":[{\"type\":\"scattermapbox\",\"marker\":{\"colorbar\":{\"outlinewidth\":0,\"ticks\":\"\"}}}],\"scatterternary\":[{\"type\":\"scatterternary\",\"marker\":{\"colorbar\":{\"outlinewidth\":0,\"ticks\":\"\"}}}],\"scattercarpet\":[{\"type\":\"scattercarpet\",\"marker\":{\"colorbar\":{\"outlinewidth\":0,\"ticks\":\"\"}}}],\"carpet\":[{\"aaxis\":{\"endlinecolor\":\"#2a3f5f\",\"gridcolor\":\"white\",\"linecolor\":\"white\",\"minorgridcolor\":\"white\",\"startlinecolor\":\"#2a3f5f\"},\"baxis\":{\"endlinecolor\":\"#2a3f5f\",\"gridcolor\":\"white\",\"linecolor\":\"white\",\"minorgridcolor\":\"white\",\"startlinecolor\":\"#2a3f5f\"},\"type\":\"carpet\"}],\"table\":[{\"cells\":{\"fill\":{\"color\":\"#EBF0F8\"},\"line\":{\"color\":\"white\"}},\"header\":{\"fill\":{\"color\":\"#C8D4E3\"},\"line\":{\"color\":\"white\"}},\"type\":\"table\"}],\"barpolar\":[{\"marker\":{\"line\":{\"color\":\"#E5ECF6\",\"width\":0.5},\"pattern\":{\"fillmode\":\"overlay\",\"size\":10,\"solidity\":0.2}},\"type\":\"barpolar\"}],\"pie\":[{\"automargin\":true,\"type\":\"pie\"}]},\"layout\":{\"autotypenumbers\":\"strict\",\"colorway\":[\"#636efa\",\"#EF553B\",\"#00cc96\",\"#ab63fa\",\"#FFA15A\",\"#19d3f3\",\"#FF6692\",\"#B6E880\",\"#FF97FF\",\"#FECB52\"],\"font\":{\"color\":\"#2a3f5f\"},\"hovermode\":\"closest\",\"hoverlabel\":{\"align\":\"left\"},\"paper_bgcolor\":\"white\",\"plot_bgcolor\":\"#E5ECF6\",\"polar\":{\"bgcolor\":\"#E5ECF6\",\"angularaxis\":{\"gridcolor\":\"white\",\"linecolor\":\"white\",\"ticks\":\"\"},\"radialaxis\":{\"gridcolor\":\"white\",\"linecolor\":\"white\",\"ticks\":\"\"}},\"ternary\":{\"bgcolor\":\"#E5ECF6\",\"aaxis\":{\"gridcolor\":\"white\",\"linecolor\":\"white\",\"ticks\":\"\"},\"baxis\":{\"gridcolor\":\"white\",\"linecolor\":\"white\",\"ticks\":\"\"},\"caxis\":{\"gridcolor\":\"white\",\"linecolor\":\"white\",\"ticks\":\"\"}},\"coloraxis\":{\"colorbar\":{\"outlinewidth\":0,\"ticks\":\"\"}},\"colorscale\":{\"sequential\":[[0.0,\"#0d0887\"],[0.1111111111111111,\"#46039f\"],[0.2222222222222222,\"#7201a8\"],[0.3333333333333333,\"#9c179e\"],[0.4444444444444444,\"#bd3786\"],[0.5555555555555556,\"#d8576b\"],[0.6666666666666666,\"#ed7953\"],[0.7777777777777778,\"#fb9f3a\"],[0.8888888888888888,\"#fdca26\"],[1.0,\"#f0f921\"]],\"sequentialminus\":[[0.0,\"#0d0887\"],[0.1111111111111111,\"#46039f\"],[0.2222222222222222,\"#7201a8\"],[0.3333333333333333,\"#9c179e\"],[0.4444444444444444,\"#bd3786\"],[0.5555555555555556,\"#d8576b\"],[0.6666666666666666,\"#ed7953\"],[0.7777777777777778,\"#fb9f3a\"],[0.8888888888888888,\"#fdca26\"],[1.0,\"#f0f921\"]],\"diverging\":[[0,\"#8e0152\"],[0.1,\"#c51b7d\"],[0.2,\"#de77ae\"],[0.3,\"#f1b6da\"],[0.4,\"#fde0ef\"],[0.5,\"#f7f7f7\"],[0.6,\"#e6f5d0\"],[0.7,\"#b8e186\"],[0.8,\"#7fbc41\"],[0.9,\"#4d9221\"],[1,\"#276419\"]]},\"xaxis\":{\"gridcolor\":\"white\",\"linecolor\":\"white\",\"ticks\":\"\",\"title\":{\"standoff\":15},\"zerolinecolor\":\"white\",\"automargin\":true,\"zerolinewidth\":2},\"yaxis\":{\"gridcolor\":\"white\",\"linecolor\":\"white\",\"ticks\":\"\",\"title\":{\"standoff\":15},\"zerolinecolor\":\"white\",\"automargin\":true,\"zerolinewidth\":2},\"scene\":{\"xaxis\":{\"backgroundcolor\":\"#E5ECF6\",\"gridcolor\":\"white\",\"linecolor\":\"white\",\"showbackground\":true,\"ticks\":\"\",\"zerolinecolor\":\"white\",\"gridwidth\":2},\"yaxis\":{\"backgroundcolor\":\"#E5ECF6\",\"gridcolor\":\"white\",\"linecolor\":\"white\",\"showbackground\":true,\"ticks\":\"\",\"zerolinecolor\":\"white\",\"gridwidth\":2},\"zaxis\":{\"backgroundcolor\":\"#E5ECF6\",\"gridcolor\":\"white\",\"linecolor\":\"white\",\"showbackground\":true,\"ticks\":\"\",\"zerolinecolor\":\"white\",\"gridwidth\":2}},\"shapedefaults\":{\"line\":{\"color\":\"#2a3f5f\"}},\"annotationdefaults\":{\"arrowcolor\":\"#2a3f5f\",\"arrowhead\":0,\"arrowwidth\":1},\"geo\":{\"bgcolor\":\"white\",\"landcolor\":\"#E5ECF6\",\"subunitcolor\":\"white\",\"showland\":true,\"showlakes\":true,\"lakecolor\":\"white\"},\"title\":{\"x\":0.05},\"mapbox\":{\"style\":\"light\"}}},\"xaxis\":{\"anchor\":\"y\",\"domain\":[0.0,1.0],\"title\":{\"text\":\"Count\"}},\"yaxis\":{\"anchor\":\"x\",\"domain\":[0.0,1.0],\"title\":{\"text\":\"count\"}},\"legend\":{\"title\":{\"text\":\"DataFrame\"},\"tracegroupgap\":0},\"title\":{\"text\":\"Comparison of Enrollment Year\"},\"barmode\":\"overlay\"},                        {\"responsive\": true}                    ).then(function(){\n",
              "                            \n",
              "var gd = document.getElementById('1a72f8d6-1ceb-449c-93e0-397eb9157d20');\n",
              "var x = new MutationObserver(function (mutations, observer) {{\n",
              "        var display = window.getComputedStyle(gd).display;\n",
              "        if (!display || display === 'none') {{\n",
              "            console.log([gd, 'removed!']);\n",
              "            Plotly.purge(gd);\n",
              "            observer.disconnect();\n",
              "        }}\n",
              "}});\n",
              "\n",
              "// Listen for the removal of the full notebook cells\n",
              "var notebookContainer = gd.closest('#notebook-container');\n",
              "if (notebookContainer) {{\n",
              "    x.observe(notebookContainer, {childList: true});\n",
              "}}\n",
              "\n",
              "// Listen for the clearing of the current output cell\n",
              "var outputEl = gd.closest('.output');\n",
              "if (outputEl) {{\n",
              "    x.observe(outputEl, {childList: true});\n",
              "}}\n",
              "\n",
              "                        })                };                            </script>        </div>\n",
              "</body>\n",
              "</html>"
            ]
          },
          "metadata": {}
        }
      ],
      "source": [
        "df_comparison = pd.concat([df_a[\"Enrollment Year\"], df_s[\"Enrollment Year\"]], axis=1, keys=['df_a', 'df_s'])\n",
        "\n",
        "fig = px.histogram(\n",
        "    df_comparison,\n",
        "    color_discrete_sequence=['blue', 'orange'],\n",
        "    category_orders={\"Enrollment Year\": sorted(pd.concat([df_a[\"Enrollment Year\"], df_s[\"Enrollment Year\"]]).unique())},\n",
        "    labels={'value': 'Count', 'variable': 'DataFrame', 'Enrollment Year': 'Year'},\n",
        "    title='Comparison of Enrollment Year',\n",
        "    opacity=0.7,\n",
        "    barmode='overlay',\n",
        ")\n",
        "\n",
        "fig.show()"
      ]
    },
    {
      "cell_type": "markdown",
      "metadata": {
        "id": "Xyv0FR3PoCov"
      },
      "source": [
        "#Students and number of groups"
      ]
    },
    {
      "cell_type": "code",
      "execution_count": null,
      "metadata": {
        "id": "DH54JcI8oFhc"
      },
      "outputs": [],
      "source": [
        "num_groups= []\n",
        "for index, row in df_s.iterrows():\n",
        "    line_courses = row['Courses'].split('@')\n",
        "    num_groups.append(len(line_courses))"
      ]
    },
    {
      "cell_type": "code",
      "execution_count": null,
      "metadata": {
        "id": "RFAzVbv2pAYJ"
      },
      "outputs": [],
      "source": [
        "df_s[\"Num Groups\"] = num_groups"
      ]
    },
    {
      "cell_type": "code",
      "execution_count": null,
      "metadata": {
        "colab": {
          "base_uri": "https://localhost:8080/"
        },
        "id": "WxZUnVeipHhO",
        "outputId": "7a5ab7db-270f-491d-b52e-8eca21314946"
      },
      "outputs": [
        {
          "output_type": "execute_result",
          "data": {
            "text/plain": [
              "0"
            ]
          },
          "metadata": {},
          "execution_count": 351
        }
      ],
      "source": [
        "missing_values_count = df_s['Num Groups'].isnull().sum()\n",
        "missing_values_count"
      ]
    },
    {
      "cell_type": "code",
      "execution_count": null,
      "metadata": {
        "colab": {
          "base_uri": "https://localhost:8080/"
        },
        "id": "zfgRj6_2pQ_v",
        "outputId": "bdeaa8f5-0ff9-4c59-e3bc-6da9ac814b8a"
      },
      "outputs": [
        {
          "output_type": "stream",
          "name": "stdout",
          "text": [
            "Unique values in the 'Num Groups' column:\n"
          ]
        },
        {
          "output_type": "execute_result",
          "data": {
            "text/plain": [
              "array([  1,   4,  20,   7,   3,  15,   6,   5,  42,   2,  14,  10,  54,\n",
              "        18,  36,  11,  62,  56,  26,  55,  49,  44,  47,  30,  65,  46,\n",
              "        16,  73,  77,  45,  68,  28,  48,  38,  37,  40,  50,  27,  41,\n",
              "        61,  25,  43,  51,  39,  22,  53,  32,  13,  57,  19,   8,  59,\n",
              "        60,  74,  69,  81,  58,  29,  63,  87,  35,  52,  24,  64,  34,\n",
              "        31,  21,  75,  71,  99,  33,  76,  94,  78,  80,  17,  92,  72,\n",
              "       106,  79,  70, 132,  96,  88,  67,  93,  66,  95, 120,  91,  98,\n",
              "        83, 101,  12,  82, 109,  85,  23,   9,  86, 102, 104,  89,  84,\n",
              "       116, 121, 108,  90, 107, 113, 115])"
            ]
          },
          "metadata": {},
          "execution_count": 352
        }
      ],
      "source": [
        "unique_values = df_s['Num Groups'].unique()\n",
        "\n",
        "print(\"Unique values in the 'Num Groups' column:\")\n",
        "unique_values"
      ]
    },
    {
      "cell_type": "markdown",
      "metadata": {
        "id": "3jv8Gu_K15bx"
      },
      "source": [
        "##Histogram of Num Groups"
      ]
    },
    {
      "cell_type": "code",
      "execution_count": null,
      "metadata": {
        "colab": {
          "base_uri": "https://localhost:8080/"
        },
        "id": "-CU30ETc05Ly",
        "outputId": "bc91b72d-117f-41ff-e5a0-6985a7bb4be0"
      },
      "outputs": [
        {
          "output_type": "display_data",
          "data": {
            "text/html": [
              "<html>\n",
              "<head><meta charset=\"utf-8\" /></head>\n",
              "<body>\n",
              "    <div>            <script src=\"https://cdnjs.cloudflare.com/ajax/libs/mathjax/2.7.5/MathJax.js?config=TeX-AMS-MML_SVG\"></script><script type=\"text/javascript\">if (window.MathJax && window.MathJax.Hub && window.MathJax.Hub.Config) {window.MathJax.Hub.Config({SVG: {font: \"STIX-Web\"}});}</script>                <script type=\"text/javascript\">window.PlotlyConfig = {MathJaxConfig: 'local'};</script>\n",
              "        <script charset=\"utf-8\" src=\"https://cdn.plot.ly/plotly-2.24.1.min.js\"></script>                <div id=\"42ce4eff-bd77-408c-842c-ef8c1aab36f9\" class=\"plotly-graph-div\" style=\"height:525px; width:100%;\"></div>            <script type=\"text/javascript\">                                    window.PLOTLYENV=window.PLOTLYENV || {};                                    if (document.getElementById(\"42ce4eff-bd77-408c-842c-ef8c1aab36f9\")) {                    Plotly.newPlot(                        \"42ce4eff-bd77-408c-842c-ef8c1aab36f9\",                        [{\"alignmentgroup\":\"True\",\"bingroup\":\"x\",\"hovertemplate\":\"Num Groups=%{x}\\u003cbr\\u003ecount=%{y}\\u003cextra\\u003e\\u003c\\u002fextra\\u003e\",\"legendgroup\":\"\",\"marker\":{\"color\":\"#636efa\",\"pattern\":{\"shape\":\"\"}},\"name\":\"\",\"nbinsx\":100,\"offsetgroup\":\"\",\"orientation\":\"v\",\"showlegend\":false,\"x\":[1,4,20,7,3,15,6,1,5,42,1,2,5,14,1,1,1,3,15,6,1,1,10,54,1,10,1,1,1,1,1,18,6,36,5,11,5,1,1,62,56,26,55,49,44,15,47,15,5,30,65,5,15,46,16,73,5,5,5,5,14,15,5,77,15,45,11,68,65,28,48,15,1,2,14,38,16,37,40,1,50,15,5,5,45,5,44,26,5,15,27,45,41,41,37,27,5,5,15,5,42,5,5,44,5,15,5,61,5,25,25,16,26,43,51,5,47,5,16,27,28,5,27,15,5,3,36,37,50,41,44,15,26,15,5,48,41,1,26,47,46,26,39,15,27,25,5,16,5,5,6,54,49,1,37,15,7,15,5,26,15,3,10,6,5,5,16,25,54,5,43,5,15,47,5,22,38,5,5,53,27,28,37,53,44,25,32,1,55,36,46,5,46,1,5,27,36,13,54,26,57,43,5,36,15,5,19,15,5,15,16,8,15,26,43,5,5,16,25,44,5,46,51,41,15,25,38,37,54,1,59,5,16,39,5,40,4,46,27,14,26,16,15,16,37,5,25,5,56,60,74,39,40,68,43,26,15,69,25,61,68,81,58,53,5,38,29,63,48,49,15,87,37,73,15,15,5,59,36,35,45,73,46,5,43,35,15,42,15,49,51,14,15,15,5,4,48,15,15,48,5,15,15,41,15,15,2,5,47,15,43,25,87,5,46,5,44,5,1,39,40,42,52,26,15,15,1,15,15,1,56,15,5,26,28,5,5,24,41,1,39,57,27,6,26,15,49,27,28,36,15,26,45,42,15,28,5,41,5,27,37,49,1,26,64,54,38,41,50,38,14,58,48,5,45,16,1,32,15,51,25,15,6,39,1,15,25,48,26,50,41,5,26,15,5,26,37,6,15,15,54,39,27,5,28,1,39,56,15,54,47,5,48,36,1,34,16,39,6,15,57,41,16,15,51,37,59,15,27,25,44,37,49,54,56,34,36,15,1,5,41,34,36,25,26,25,27,15,16,5,15,31,25,34,54,41,5,16,3,15,25,36,5,15,16,15,15,47,5,50,37,39,5,15,26,36,26,15,15,28,15,26,6,4,16,36,36,65,15,54,43,15,41,36,37,43,10,21,26,5,5,42,68,15,8,48,43,45,15,15,1,43,1,6,5,1,5,75,5,30,16,15,47,26,5,26,28,15,25,46,39,26,26,45,15,71,63,56,75,48,99,64,5,15,47,55,46,5,15,77,39,15,27,5,1,46,5,5,52,1,26,55,44,5,47,16,8,48,5,41,4,47,36,15,60,1,5,36,54,37,50,15,25,37,46,1,27,5,60,43,5,36,5,27,36,26,25,15,15,37,26,16,54,1,15,3,36,13,20,26,16,16,31,5,28,5,48,25,30,5,25,5,51,26,49,15,38,27,26,10,26,16,48,48,36,15,26,27,34,6,33,5,38,44,41,5,48,15,15,46,24,27,37,5,15,1,43,15,5,5,15,55,15,6,44,5,1,28,5,15,5,5,47,25,5,5,56,15,48,5,36,27,15,5,5,16,15,5,26,41,36,41,5,26,26,49,5,6,50,5,48,15,57,5,28,5,25,3,47,10,28,55,5,26,5,36,46,5,74,15,64,5,76,5,5,5,15,37,35,47,37,16,37,57,26,21,15,15,10,5,58,42,57,25,48,44,5,27,14,46,27,49,1,47,5,50,15,1,27,1,1,15,94,5,5,59,78,5,26,5,16,5,19,1,16,5,15,31,5,42,27,80,27,6,38,5,5,15,25,26,2,5,25,10,54,6,48,15,27,31,62,27,10,26,17,27,5,16,4,64,92,38,72,71,68,106,33,15,79,29,50,71,69,15,5,6,32,37,15,5,26,26,15,3,62,70,75,50,51,15,36,16,16,5,4,132,96,11,36,57,37,19,88,36,15,5,37,5,40,28,16,43,15,6,67,47,28,1,47,5,57,48,72,45,15,10,93,62,57,1,55,59,27,63,50,57,16,5,42,25,27,35,39,42,5,46,55,45,5,43,16,43,38,5,26,15,53,26,51,42,47,5,40,58,5,15,26,5,25,45,56,35,10,15,26,18,15,66,79,76,15,47,4,56,40,53,41,3,27,15,29,5,68,63,76,61,65,15,50,25,41,49,57,67,87,71,88,26,42,43,47,43,20,15,26,26,25,36,52,5,15,77,46,51,40,48,56,5,27,48,59,26,46,26,6,36,38,26,45,37,4,10,15,41,15,19,50,37,43,15,47,5,49,48,5,36,15,5,1,47,29,55,27,5,5,48,50,26,26,45,44,25,6,1,43,15,5,1,25,57,37,37,27,26,45,56,38,5,15,5,28,39,27,15,26,50,27,36,15,15,5,26,15,5,93,56,41,72,59,40,6,36,6,47,5,5,5,7,34,15,25,15,1,5,5,27,16,51,59,15,27,1,5,45,15,39,5,5,31,13,45,16,15,39,2,5,26,36,14,27,10,46,39,10,10,77,61,44,95,47,61,120,77,58,52,26,51,1,46,52,5,15,35,15,50,15,27,43,27,70,74,37,32,6,57,54,1,5,24,5,43,5,16,46,39,52,15,15,48,47,75,27,27,10,59,5,55,5,5,54,15,15,27,26,55,27,40,47,46,24,26,28,27,59,36,5,55,15,5,18,44,15,15,6,5,4,44,5,62,15,25,15,26,26,42,25,25,39,42,57,6,65,47,65,65,55,5,63,73,71,70,5,69,5,39,62,39,1,47,16,15,42,15,6,5,39,58,38,5,26,5,25,5,26,40,47,1,5,36,48,15,65,10,45,50,15,15,28,15,15,1,1,15,41,26,5,27,15,1,36,26,38,48,26,46,36,47,26,51,27,5,26,46,27,27,15,5,29,35,6,40,51,34,41,5,1,41,41,47,47,16,26,5,16,1,15,16,1,30,45,37,6,49,36,43,15,15,15,39,35,5,5,5,27,53,15,26,48,46,42,26,52,58,25,5,5,26,26,47,46,38,6,50,15,25,61,16,15,5,1,16,6,43,44,59,36,73,77,49,38,3,5,34,48,88,38,15,28,15,26,50,46,15,38,16,28,27,55,15,15,15,51,43,52,5,47,15,57,27,2,5,65,59,81,91,24,68,44,15,46,41,36,50,38,60,55,98,55,15,46,16,68,24,68,15,58,38,27,16,73,5,36,72,79,38,28,39,42,64,63,87,47,31,14,5,47,63,38,15,60,5,44,5,15,48,15,10,30,15,15,5,54,40,1,15,1,26,78,41,1,57,41,5,3,36,5,10,59,5,22,43,10,10,51,20,5,28,15,36,15,27,1,41,46,5,25,37,68,57,27,27,36,15,59,61,81,59,52,83,45,54,5,36,28,5,6,39,45,1,15,1,5,55,26,41,44,15,5,26,5,15,15,6,50,25,25,30,45,5,15,26,16,15,15,27,52,44,25,45,38,15,52,27,26,1,5,6,45,15,26,15,27,16,15,15,5,38,16,5,15,5,5,58,36,37,28,27,26,16,5,41,5,47,54,35,27,27,45,5,26,4,15,46,26,3,27,58,56,5,28,27,6,52,101,55,35,39,15,15,39,5,55,57,5,37,5,26,37,31,28,27,60,5,15,57,44,40,15,5,15,14,15,42,6,5,60,20,5,15,15,5,27,35,5,1,26,41,59,16,26,44,25,15,27,16,27,57,47,56,49,25,26,25,38,31,49,16,1,58,5,6,6,5,46,38,36,15,46,27,3,5,26,43,43,15,16,1,52,5,15,48,25,15,15,6,5,26,54,16,15,48,51,15,15,26,47,25,15,15,10,20,4,15,15,15,48,48,39,15,36,5,50,39,34,6,5,27,39,34,27,65,36,57,27,16,46,5,6,36,27,26,15,26,5,6,5,5,26,1,20,16,31,21,15,49,16,15,16,28,36,27,25,27,51,36,44,51,5,47,36,49,5,37,37,29,36,5,65,37,1,15,5,38,16,1,1,15,48,26,5,55,15,27,28,5,25,47,5,15,44,48,16,44,26,40,50,25,32,26,5,65,15,46,15,27,15,5,15,15,15,27,80,46,37,71,27,48,1,41,54,43,27,5,26,61,76,14,5,37,6,5,57,60,14,42,5,64,15,10,26,6,38,5,37,38,42,3,5,15,27,6,39,52,29,1,36,81,54,41,26,6,5,15,27,45,26,1,37,69,16,28,2,47,24,15,25,5,27,30,27,26,16,35,39,2,33,15,26,39,26,41,5,16,36,15,5,5,40,40,12,5,49,15,36,5,29,36,60,5,27,48,3,15,41,25,5,16,35,15,27,15,42,49,27,45,36,25,42,45,14,5,15,79,59,82,20,29,27,15,5,37,74,60,75,45,4,46,71,65,64,53,73,64,47,61,43,62,56,71,46,45,16,15,6,56,68,26,5,61,5,15,5,5,24,26,15,26,38,67,94,61,73,5,44,39,27,15,25,26,58,5,46,42,26,29,6,44,25,62,16,42,5,6,5,79,47,5,47,28,1,41,24,36,5,28,10,16,15,1,1,46,5,15,15,15,5,15,41,5,28,17,31,15,26,55,109,68,26,35,15,16,16,1,52,5,55,5,2,24,48,28,41,51,53,65,40,26,49,47,16,52,57,48,10,15,56,25,25,26,5,5,26,10,38,37,42,66,88,38,5,62,48,85,5,58,44,48,14,41,38,26,47,1,28,5,68,45,6,26,49,35,26,5,51,55,64,29,68,49,5,54,59,53,5,50,15,15,69,61,58,35,1,1,5,26,1,5,5,2,49,5,32,37,15,1,5,5,51,49,6,15,15,15,5,38,15,42,15,5,37,28,15,26,15,47,43,5,26,5,45,25,15,5,26,1,43,5,26,37,15,75,6,6,15,15,27,5,45,38,12,15,42,47,15,15,36,2,15,16,43,38,15,48,49,15,29,48,1,15,15,51,15,50,43,47,5,62,28,15,60,35,27,38,44,40,1,36,29,5,23,27,27,38,50,16,47,26,44,15,42,5,15,26,46,5,5,15,15,5,6,5,45,49,5,26,5,5,45,5,41,25,15,32,36,10,20,33,38,55,56,45,24,15,4,45,44,49,50,5,44,35,5,26,45,15,31,44,46,15,15,24,39,15,25,15,26,39,44,27,49,16,16,5,49,16,37,1,6,5,14,6,37,16,15,26,5,26,15,6,27,15,5,5,26,57,43,33,15,43,55,40,15,47,15,74,15,41,48,77,26,20,57,15,41,9,27,48,38,48,5,1,71,36,36,86,57,15,26,46,47,40,27,15,28,15,36,37,41,27,28,26,5,1,5,5,57,54,52,5,15,26,51,16,26,37,36,6,42,5,16,5,1,47,15,27,40,40,44,5,26,34,15,26,38,15,43,15,25,37,48,15,1,14,36,46,15,5,16,48,42,5,5,48,5,37,53,5,29,49,36,5,36,27,45,27,15,54,58,15,26,44,48,6,6,60,5,15,15,16,5,5,25,46,1,5,1,26,2,15,27,5,79,20,5,5,46,46,46,34,36,5,15,1,1,5,5,1,51,47,5,1,35,5,42,5,27,44,15,10,43,49,26,5,58,34,80,49,44,16,5,48,49,26,37,38,46,27,15,14,35,5,40,42,5,5,42,6,53,5,74,72,99,48,32,38,2,29,15,41,31,47,25,25,5,5,15,40,27,55,33,16,42,1,49,5,46,41,16,33,36,5,16,43,10,15,5,5,75,43,47,5,43,29,36,5,2,81,15,55,29,27,16,1,16,1,40,47,95,54,4,48,68,39,102,67,38,5,1,5,10,29,48,5,1,15,51,26,27,51,15,5,5,16,15,15,48,5,5,56,10,28,15,16,15,5,15,5,104,60,85,54,70,61,27,15,1,89,54,15,42,43,84,24,2,26,52,45,55,25,66,58,16,15,27,26,5,44,15,15,42,35,66,25,55,54,69,55,77,73,77,27,63,49,48,56,52,16,45,2,53,15,5,27,42,44,44,5,1,42,15,1,15,15,15,27,50,15,15,15,35,16,45,41,1,35,15,27,36,25,27,31,28,36,46,15,52,1,27,26,1,15,26,55,64,61,41,62,46,44,44,63,54,83,82,25,6,16,38,49,5,38,15,15,37,5,11,44,6,44,61,38,32,42,5,15,5,54,45,26,45,44,1,5,56,36,55,31,26,52,5,15,39,54,32,15,5,17,28,26,5,28,15,15,26,5,15,39,48,5,16,5,47,15,39,26,36,92,5,15,5,43,15,15,37,42,6,5,27,37,47,53,26,5,36,16,5,52,34,5,48,40,15,5,1,46,15,41,5,5,1,46,69,69,80,52,58,58,51,50,47,41,42,98,77,66,64,48,81,36,53,26,5,71,48,48,5,44,38,26,35,16,87,73,48,27,15,5,47,45,5,15,68,52,47,61,7,31,84,7,68,86,81,27,25,42,24,16,48,51,26,56,42,60,102,67,1,1,65,71,51,40,47,44,49,15,16,40,50,26,5,46,26,28,28,5,39,91,35,1,5,36,5,5,48,28,57,61,64,58,43,58,27,27,28,1,15,16,52,45,5,1,49,36,52,55,46,1,5,5,5,6,43,15,37,5,26,15,26,27,16,15,16,24,47,27,15,37,72,37,15,45,54,37,6,99,63,15,15,52,1,5,37,1,45,35,27,2,5,37,63,85,87,44,55,30,5,45,15,15,7,37,46,28,15,52,15,38,77,52,81,30,2,36,5,5,5,47,15,52,3,10,15,42,30,85,48,64,104,55,41,88,69,76,62,52,89,63,94,54,53,70,77,64,57,53,5,1,54,6,15,15,16,40,47,1,38,60,5,5,15,15,68,5,57,5,15,15,41,25,16,55,6,62,25,46,16,27,15,38,15,45,51,1,16,5,5,26,26,5,26,53,27,5,10,15,38,16,28,5,35,1,25,31,51,38,36,47,39,5,55,16,16,26,15,27,5,25,37,25,31,44,39,52,16,15,27,45,1,1,36,36,28,25,27,1,37,5,46,5,15,25,15,46,80,15,35,16,46,43,35,44,73,45,63,44,5,50,52,16,5,50,106,29,77,47,44,66,60,1,16,45,48,26,25,26,40,68,49,47,91,79,62,69,27,16,10,65,58,26,5,7,5,16,1,51,77,57,92,5,46,49,5,5,5,26,1,47,15,15,29,46,5,27,36,41,16,6,15,56,26,25,34,36,27,5,5,15,27,15,58,56,6,50,5,15,5,5,5,27,37,36,60,15,63,6,5,5,35,15,15,15,10,38,5,44,36,49,37,74,70,52,5,5,5,27,46,38,5,5,5,15,27,5,41,5,5,11,25,26,5,27,26,26,6,5,16,5,15,26,5,5,37,27,15,5,5,47,5,27,5,5,15,36,5,6,5,28,27,26,2,66,40,26,15,5,15,15,27,1,39,74,37,1,26,15,29,38,5,5,15,14,15,36,16,15,49,27,15,15,3,42,5,31,15,5,36,15,5,44,15,15,4,46,5,15,15,46,27,15,15,59,15,58,54,15,46,47,16,5,64,42,5,15,15,36,65,37,15,38,46,7,52,43,16,15,28,37,47,5,5,6,5,58,26,15,1,25,40,65,71,42,65,2,43,67,75,15,37,15,33,15,5,33,58,6,15,15,37,50,16,28,50,43,15,28,35,27,39,5,42,15,20,5,5,28,5,5,40,27,15,16,39,41,15,35,7,5,5,28,26,5,37,56,15,5,5,5,15,5,52,5,15,46,45,44,82,2,1,15,33,47,37,25,46,49,5,15,44,5,5,5,27,1,25,51,15,26,24,5,39,48,54,5,26,29,1,15,46,42,41,38,1,27,15,15,5,15,52,26,48,5,27,42,36,15,23,70,25,38,39,41,56,15,5,1,2,27,5,58,58,48,40,48,4,15,47,46,45,50,42,15,5,15,5,15,33,6,37,16,15,45,26,16,52,5,15,23,2,15,5,15,5,16,15,38,46,45,5,25,56,5,15,58,46,5,16,15,54,26,16,42,48,15,56,5,5,1,15,40,15,16,15,16,43,44,36,24,28,47,4,26,5,10,25,15,25,27,46,16,49,37,5,5,5,25,1,45,5,36,39,5,1,6,15,44,25,6,1,27,15,41,45,47,6,26,25,43,5,5,5,15,5,47,54,86,15,5,40,47,5,5,15,43,15,26,48,28,15,5,5,5,15,16,35,5,50,37,45,38,5,38,42,1,56,27,36,43,5,5,15,15,15,5,27,46,17,37,5,5,17,5,46,5,26,46,40,23,5,57,27,42,2,51,15,1,81,53,27,15,15,51,5,16,43,36,5,49,49,26,26,2,15,78,57,86,89,59,54,15,43,37,20,5,15,42,6,15,15,5,46,45,10,15,26,24,47,16,4,5,5,5,15,42,15,7,15,15,46,5,20,36,5,5,46,45,28,37,1,47,5,36,16,47,58,15,15,5,10,15,44,5,2,48,36,16,5,15,5,39,55,5,38,15,14,19,5,15,43,27,36,38,29,15,1,1,37,1,42,25,48,47,54,36,15,25,5,5,26,6,27,26,51,60,15,48,6,58,14,28,41,37,5,5,15,48,27,25,44,45,5,6,16,15,38,15,5,5,5,35,16,51,15,36,26,34,25,1,35,15,27,5,1,5,35,15,5,27,37,27,40,5,5,5,38,44,5,60,15,5,26,50,2,48,26,5,16,15,40,46,36,5,26,27,37,15,1,15,25,26,38,5,15,47,26,5,25,36,60,5,5,5,24,5,15,5,50,45,44,6,38,5,28,15,35,1,26,5,16,26,15,48,15,26,42,15,5,61,59,62,26,5,16,64,28,46,15,5,16,16,36,5,58,2,41,26,24,15,68,74,27,48,39,5,48,25,2,23,43,51,15,47,47,46,20,15,36,5,39,5,27,5,5,16,5,25,26,5,64,38,45,41,56,64,37,28,37,5,15,36,15,55,5,5,46,37,5,5,26,15,27,1,37,48,26,26,15,26,1,45,15,35,15,27,5,5,44,15,15,5,27,86,39,34,15,47,41,15,42,5,5,46,38,15,15,26,47,5,5,5,27,15,62,26,37,39,5,28,64,51,16,5,26,55,7,78,10,5,1,5,60,27,54,40,74,61,15,1,10,5,25,15,48,56,15,45,57,48,54,69,1,5,53,48,76,71,6,71,51,5,5,50,28,2,43,44,59,60,73,4,45,63,75,104,5,5,16,64,67,65,6,79,54,68,81,46,58,15,1,49,15,16,15,5,43,5,5,54,41,5,36,5,53,27,15,15,5,46,5,15,39,15,45,5,26,38,15,47,5,47,1,15,38,48,5,36,35,26,15,42,5,58,55,5,26,5,35,5,36,5,49,5,36,27,1,15,68,48,5,15,15,5,15,67,46,61,5,81,2,48,47,41,25,37,1,67,54,65,65,66,59,60,84,58,62,39,15,5,46,15,36,61,52,26,53,43,15,28,1,56,43,36,29,64,36,36,48,78,39,56,55,5,64,73,10,44,67,67,10,15,36,45,61,5,26,26,5,1,5,46,16,32,75,63,93,64,53,38,1,46,26,25,5,15,25,40,15,2,51,1,5,44,43,5,2,1,38,5,6,16,5,29,39,46,16,37,1,116,6,65,77,65,37,65,25,5,50,46,47,5,36,94,43,77,70,5,15,93,29,27,15,5,5,5,38,20,54,15,43,59,1,48,46,5,4,1,38,5,73,61,87,16,48,16,11,5,15,15,41,15,46,44,26,78,31,26,15,14,15,39,59,35,5,5,37,5,26,63,48,15,10,25,38,37,52,26,15,52,57,15,16,47,36,1,15,1,16,37,16,36,15,39,55,27,15,45,27,19,36,5,28,26,25,54,56,27,53,57,25,14,15,45,27,27,25,15,6,5,48,28,39,15,43,86,75,49,27,47,44,4,10,26,27,32,25,15,5,63,15,5,27,15,36,37,35,25,16,5,51,15,5,15,41,1,48,46,16,25,27,36,5,36,16,15,6,2,15,15,37,5,15,26,15,27,5,46,1,34,27,26,15,5,43,6,40,25,42,15,45,1,25,35,27,35,47,25,121,65,64,6,54,41,32,54,65,59,71,69,65,81,71,69,5,4,15,5,5,5,5,5,6,15,16,15,53,27,26,26,38,15,5,5,55,48,15,108,62,60,45,37,46,25,51,25,5,1,5,14,5,15,5,28,27,75,37,45,5,41,27,15,36,35,26,7,15,48,61,36,53,93,73,42,5,5,22,5,5,15,5,5,5,15,37,15,37,16,55,27,21,25,15,36,25,54,67,63,90,108,73,5,83,68,6,62,69,29,74,28,24,70,50,45,47,1,76,57,62,5,5,70,74,73,68,50,71,7,25,72,49,2,5,5,15,29,5,26,28,5,36,44,5,26,15,1,15,16,5,5,55,14,38,26,5,26,5,28,15,44,27,25,35,15,47,41,47,5,25,26,51,15,46,7,15,40,15,38,5,32,55,5,26,16,5,5,16,37,49,27,27,15,16,50,45,74,5,15,1,5,31,5,39,25,20,36,46,44,15,39,5,46,5,47,27,41,26,27,5,29,15,46,48,65,74,57,95,57,37,59,3,38,75,92,98,40,94,46,56,55,54,54,62,50,61,56,53,63,52,69,27,57,67,84,58,95,61,52,83,78,60,73,58,63,65,6,57,27,26,55,60,44,56,80,15,1,46,27,68,27,5,5,26,5,41,6,62,5,65,48,46,15,47,49,25,50,16,76,39,43,16,26,13,76,3,2,5,26,5,42,72,61,94,61,56,35,5,49,15,49,41,107,54,48,60,77,77,55,54,51,38,52,77,67,45,5,27,5,15,74,47,18,5,2,57,5,53,5,27,59,27,5,15,36,15,41,54,53,63,83,101,41,74,55,36,37,46,5,25,6,6,53,5,10,26,15,15,68,1,5,15,46,5,29,5,16,15,5,39,41,62,5,15,64,5,16,1,45,26,43,15,15,5,28,43,5,44,24,15,54,28,42,28,41,52,75,15,26,49,39,52,48,16,5,6,26,27,5,25,40,5,26,51,15,15,15,5,5,37,5,5,20,15,36,5,27,15,26,5,26,47,57,5,37,27,5,5,70,2,25,42,36,5,37,16,46,25,26,75,86,92,75,51,69,31,26,55,5,5,47,5,14,15,44,43,37,15,15,15,57,16,15,42,63,26,27,29,1,15,57,5,57,15,37,46,16,48,15,26,46,47,50,5,63,16,5,45,78,79,15,15,15,37,5,35,25,31,15,5,51,7,44,15,45,73,39,55,39,46,15,59,5,55,26,5,6,5,87,5,48,41,26,30,51,15,26,15,15,43,50,37,14,26,55,50,64,46,53,50,15,5,44,85,82,15,26,65,25,1,23,25,15,47,43,15,17,15,5,5,15,27,5,5,1,2,50,61,48,73,56,29,73,5,46,66,71,26,15,46,47,46,15,35,15,57,72,74,92,56,54,89,6,99,15,5,66,63,44,53,81,52,16,49,3,27,15,48,15,5,67,15,48,5,15,27,26,15,46,37,30,44,21,15,55,39,16,39,45,83,95,15,5,33,5,15,36,37,49,1,5,5,15,46,26,5,5,28,15,33,5,1,54,15,26,15,48,26,46,40,5,39,5,15,55,46,15,26,47,5,43,15,15,27,41,43,27,28,6,36,47,5,16,1,15,36,6,3,36,15,5,16,26,28,39,5,36,37,16,15,41,27,5,15,5,59,5,5,5,28,26,39,36,25,28,15,5,5,68,5,41,5,29,5,46,6,5,6,5,50,27,51,15,37,15,38,5,5,37,5,15,16,39,5,5,7,2,64,47,15,46,56,16,54,54,28,5,5,37,36,16,5,51,39,35,27,5,5,15,6,40,5,82,15,15,1,56,16,50,15,36,49,40,1,15,5,80,26,43,26,48,5,5,26,52,43,5,2,70,56,47,75,68,53,37,45,15,26,27,54,61,71,69,29,56,18,70,67,58,69,77,54,52,42,62,69,1,41,48,49,50,1,56,113,67,34,53,58,67,43,20,1,62,63,59,10,15,15,67,6,4,66,16,5,80,96,37,70,58,5,59,15,64,6,42,71,68,14,49,42,26,25,36,44,50,26,15,15,5,1,26,47,53,16,16,26,5,5,7,16,5,1,27,5,46,16,26,15,26,79,5,25,15,43,28,50,5,65,56,58,26,66,73,62,1,1,38,15,53,89,59,70,63,68,25,16,26,44,57,52,45,5,5,5,5,16,16,28,26,86,53,15,50,27,14,25,15,5,28,15,15,15,5,5,28,35,5,43,27,56,15,15,15,38,92,27,39,15,15,52,41,5,27,15,15,15,15,41,4,37,51,15,5,5,26,49,27,34,38,36,15,5,36,35,43,45,9,15,5,15,30,5,15,48,15,35,27,5,5,15,15,10,28,41,56,56,50,39,46,25,41,7,1,27,1,49,38,31,50,95,62,27,37,1,37,5,41,34,5,5,26,26,16,21,1,39,61,78,64,47,5,42,64,91,15,5,5,5,36,37,80,66,6,41,5,16,41,2,5,38,51,26,15,5,62,28,44,25,63,69,75,48,65,3,68,40,73,63,75,57,63,39,60,66,101,51,63,32,1,5,39,5,15,5,25,15,38,72,1,40,81,52,64,49,62,67,68,6,48,88,61,43,83,25,59,54,54,67,26,6,51,6,41,10,37,42,6,6,46,41,40,44,37,5,5,49,26,27,15,45,5,27,27,1,58,15,26,56,36,1,15,16,49,15,14,43,77,15,25,15,15,5,15,47,2,5,15,76,15,5,35,27,38,37,38,74,27,62,46,19,16,41,38,49,20,15,27,5,44,36,5,46,37,5,53,4,43,41,15,28,15,1,5,16,6,5,5,15,5,5,1,27,27,27,36,39,26,25,24,5,5,45,25,5,31,54,5,29,55,16,38,26,50,26,5,48,27,5,25,44,47,28,53,5,5,36,5,37,5,15,5,45,27,1,5,5,50,15,28,47,48,15,5,5,25,15,50,27,54,28,26,15,5,5,115,50,69,49,72,6,15,5,6,2,16,45,6,16,46,50,26,50,16,45,5,16,56,22,37,60,15,45,49,37,50,27,24,67,48,6,43,62,27,5,6,5,16,26,4,15,5,55,48,56,50,40,42,16,34,37,27,5,15,15,5,11,35,29,17,15,25,16,16,47,15,5,36,20,15,48,49,37,31,56,15,27,50,5,15,36,48,54,5,5,5,26,5,1,15,1,15,5,27,15,15,16,55,5,5,15,5,26,15,25,1,46,14,49,70,5,27,5,65,44,75,5,26,27,25,34,39,3,5,15,56,15,1,40,1,5,61,69,72,40,45,60,28,15,1,64,1,33,5,66,76,61,107,72,88,40,72,70,56,79,53,88,26,52,62,83,15,75,6,50,75,29,15,15,50,47,88,59,64,94,5,5,53,73,73,57,47,65,67],\"xaxis\":\"x\",\"yaxis\":\"y\",\"type\":\"histogram\"}],                        {\"template\":{\"data\":{\"histogram2dcontour\":[{\"type\":\"histogram2dcontour\",\"colorbar\":{\"outlinewidth\":0,\"ticks\":\"\"},\"colorscale\":[[0.0,\"#0d0887\"],[0.1111111111111111,\"#46039f\"],[0.2222222222222222,\"#7201a8\"],[0.3333333333333333,\"#9c179e\"],[0.4444444444444444,\"#bd3786\"],[0.5555555555555556,\"#d8576b\"],[0.6666666666666666,\"#ed7953\"],[0.7777777777777778,\"#fb9f3a\"],[0.8888888888888888,\"#fdca26\"],[1.0,\"#f0f921\"]]}],\"choropleth\":[{\"type\":\"choropleth\",\"colorbar\":{\"outlinewidth\":0,\"ticks\":\"\"}}],\"histogram2d\":[{\"type\":\"histogram2d\",\"colorbar\":{\"outlinewidth\":0,\"ticks\":\"\"},\"colorscale\":[[0.0,\"#0d0887\"],[0.1111111111111111,\"#46039f\"],[0.2222222222222222,\"#7201a8\"],[0.3333333333333333,\"#9c179e\"],[0.4444444444444444,\"#bd3786\"],[0.5555555555555556,\"#d8576b\"],[0.6666666666666666,\"#ed7953\"],[0.7777777777777778,\"#fb9f3a\"],[0.8888888888888888,\"#fdca26\"],[1.0,\"#f0f921\"]]}],\"heatmap\":[{\"type\":\"heatmap\",\"colorbar\":{\"outlinewidth\":0,\"ticks\":\"\"},\"colorscale\":[[0.0,\"#0d0887\"],[0.1111111111111111,\"#46039f\"],[0.2222222222222222,\"#7201a8\"],[0.3333333333333333,\"#9c179e\"],[0.4444444444444444,\"#bd3786\"],[0.5555555555555556,\"#d8576b\"],[0.6666666666666666,\"#ed7953\"],[0.7777777777777778,\"#fb9f3a\"],[0.8888888888888888,\"#fdca26\"],[1.0,\"#f0f921\"]]}],\"heatmapgl\":[{\"type\":\"heatmapgl\",\"colorbar\":{\"outlinewidth\":0,\"ticks\":\"\"},\"colorscale\":[[0.0,\"#0d0887\"],[0.1111111111111111,\"#46039f\"],[0.2222222222222222,\"#7201a8\"],[0.3333333333333333,\"#9c179e\"],[0.4444444444444444,\"#bd3786\"],[0.5555555555555556,\"#d8576b\"],[0.6666666666666666,\"#ed7953\"],[0.7777777777777778,\"#fb9f3a\"],[0.8888888888888888,\"#fdca26\"],[1.0,\"#f0f921\"]]}],\"contourcarpet\":[{\"type\":\"contourcarpet\",\"colorbar\":{\"outlinewidth\":0,\"ticks\":\"\"}}],\"contour\":[{\"type\":\"contour\",\"colorbar\":{\"outlinewidth\":0,\"ticks\":\"\"},\"colorscale\":[[0.0,\"#0d0887\"],[0.1111111111111111,\"#46039f\"],[0.2222222222222222,\"#7201a8\"],[0.3333333333333333,\"#9c179e\"],[0.4444444444444444,\"#bd3786\"],[0.5555555555555556,\"#d8576b\"],[0.6666666666666666,\"#ed7953\"],[0.7777777777777778,\"#fb9f3a\"],[0.8888888888888888,\"#fdca26\"],[1.0,\"#f0f921\"]]}],\"surface\":[{\"type\":\"surface\",\"colorbar\":{\"outlinewidth\":0,\"ticks\":\"\"},\"colorscale\":[[0.0,\"#0d0887\"],[0.1111111111111111,\"#46039f\"],[0.2222222222222222,\"#7201a8\"],[0.3333333333333333,\"#9c179e\"],[0.4444444444444444,\"#bd3786\"],[0.5555555555555556,\"#d8576b\"],[0.6666666666666666,\"#ed7953\"],[0.7777777777777778,\"#fb9f3a\"],[0.8888888888888888,\"#fdca26\"],[1.0,\"#f0f921\"]]}],\"mesh3d\":[{\"type\":\"mesh3d\",\"colorbar\":{\"outlinewidth\":0,\"ticks\":\"\"}}],\"scatter\":[{\"fillpattern\":{\"fillmode\":\"overlay\",\"size\":10,\"solidity\":0.2},\"type\":\"scatter\"}],\"parcoords\":[{\"type\":\"parcoords\",\"line\":{\"colorbar\":{\"outlinewidth\":0,\"ticks\":\"\"}}}],\"scatterpolargl\":[{\"type\":\"scatterpolargl\",\"marker\":{\"colorbar\":{\"outlinewidth\":0,\"ticks\":\"\"}}}],\"bar\":[{\"error_x\":{\"color\":\"#2a3f5f\"},\"error_y\":{\"color\":\"#2a3f5f\"},\"marker\":{\"line\":{\"color\":\"#E5ECF6\",\"width\":0.5},\"pattern\":{\"fillmode\":\"overlay\",\"size\":10,\"solidity\":0.2}},\"type\":\"bar\"}],\"scattergeo\":[{\"type\":\"scattergeo\",\"marker\":{\"colorbar\":{\"outlinewidth\":0,\"ticks\":\"\"}}}],\"scatterpolar\":[{\"type\":\"scatterpolar\",\"marker\":{\"colorbar\":{\"outlinewidth\":0,\"ticks\":\"\"}}}],\"histogram\":[{\"marker\":{\"pattern\":{\"fillmode\":\"overlay\",\"size\":10,\"solidity\":0.2}},\"type\":\"histogram\"}],\"scattergl\":[{\"type\":\"scattergl\",\"marker\":{\"colorbar\":{\"outlinewidth\":0,\"ticks\":\"\"}}}],\"scatter3d\":[{\"type\":\"scatter3d\",\"line\":{\"colorbar\":{\"outlinewidth\":0,\"ticks\":\"\"}},\"marker\":{\"colorbar\":{\"outlinewidth\":0,\"ticks\":\"\"}}}],\"scattermapbox\":[{\"type\":\"scattermapbox\",\"marker\":{\"colorbar\":{\"outlinewidth\":0,\"ticks\":\"\"}}}],\"scatterternary\":[{\"type\":\"scatterternary\",\"marker\":{\"colorbar\":{\"outlinewidth\":0,\"ticks\":\"\"}}}],\"scattercarpet\":[{\"type\":\"scattercarpet\",\"marker\":{\"colorbar\":{\"outlinewidth\":0,\"ticks\":\"\"}}}],\"carpet\":[{\"aaxis\":{\"endlinecolor\":\"#2a3f5f\",\"gridcolor\":\"white\",\"linecolor\":\"white\",\"minorgridcolor\":\"white\",\"startlinecolor\":\"#2a3f5f\"},\"baxis\":{\"endlinecolor\":\"#2a3f5f\",\"gridcolor\":\"white\",\"linecolor\":\"white\",\"minorgridcolor\":\"white\",\"startlinecolor\":\"#2a3f5f\"},\"type\":\"carpet\"}],\"table\":[{\"cells\":{\"fill\":{\"color\":\"#EBF0F8\"},\"line\":{\"color\":\"white\"}},\"header\":{\"fill\":{\"color\":\"#C8D4E3\"},\"line\":{\"color\":\"white\"}},\"type\":\"table\"}],\"barpolar\":[{\"marker\":{\"line\":{\"color\":\"#E5ECF6\",\"width\":0.5},\"pattern\":{\"fillmode\":\"overlay\",\"size\":10,\"solidity\":0.2}},\"type\":\"barpolar\"}],\"pie\":[{\"automargin\":true,\"type\":\"pie\"}]},\"layout\":{\"autotypenumbers\":\"strict\",\"colorway\":[\"#636efa\",\"#EF553B\",\"#00cc96\",\"#ab63fa\",\"#FFA15A\",\"#19d3f3\",\"#FF6692\",\"#B6E880\",\"#FF97FF\",\"#FECB52\"],\"font\":{\"color\":\"#2a3f5f\"},\"hovermode\":\"closest\",\"hoverlabel\":{\"align\":\"left\"},\"paper_bgcolor\":\"white\",\"plot_bgcolor\":\"#E5ECF6\",\"polar\":{\"bgcolor\":\"#E5ECF6\",\"angularaxis\":{\"gridcolor\":\"white\",\"linecolor\":\"white\",\"ticks\":\"\"},\"radialaxis\":{\"gridcolor\":\"white\",\"linecolor\":\"white\",\"ticks\":\"\"}},\"ternary\":{\"bgcolor\":\"#E5ECF6\",\"aaxis\":{\"gridcolor\":\"white\",\"linecolor\":\"white\",\"ticks\":\"\"},\"baxis\":{\"gridcolor\":\"white\",\"linecolor\":\"white\",\"ticks\":\"\"},\"caxis\":{\"gridcolor\":\"white\",\"linecolor\":\"white\",\"ticks\":\"\"}},\"coloraxis\":{\"colorbar\":{\"outlinewidth\":0,\"ticks\":\"\"}},\"colorscale\":{\"sequential\":[[0.0,\"#0d0887\"],[0.1111111111111111,\"#46039f\"],[0.2222222222222222,\"#7201a8\"],[0.3333333333333333,\"#9c179e\"],[0.4444444444444444,\"#bd3786\"],[0.5555555555555556,\"#d8576b\"],[0.6666666666666666,\"#ed7953\"],[0.7777777777777778,\"#fb9f3a\"],[0.8888888888888888,\"#fdca26\"],[1.0,\"#f0f921\"]],\"sequentialminus\":[[0.0,\"#0d0887\"],[0.1111111111111111,\"#46039f\"],[0.2222222222222222,\"#7201a8\"],[0.3333333333333333,\"#9c179e\"],[0.4444444444444444,\"#bd3786\"],[0.5555555555555556,\"#d8576b\"],[0.6666666666666666,\"#ed7953\"],[0.7777777777777778,\"#fb9f3a\"],[0.8888888888888888,\"#fdca26\"],[1.0,\"#f0f921\"]],\"diverging\":[[0,\"#8e0152\"],[0.1,\"#c51b7d\"],[0.2,\"#de77ae\"],[0.3,\"#f1b6da\"],[0.4,\"#fde0ef\"],[0.5,\"#f7f7f7\"],[0.6,\"#e6f5d0\"],[0.7,\"#b8e186\"],[0.8,\"#7fbc41\"],[0.9,\"#4d9221\"],[1,\"#276419\"]]},\"xaxis\":{\"gridcolor\":\"white\",\"linecolor\":\"white\",\"ticks\":\"\",\"title\":{\"standoff\":15},\"zerolinecolor\":\"white\",\"automargin\":true,\"zerolinewidth\":2},\"yaxis\":{\"gridcolor\":\"white\",\"linecolor\":\"white\",\"ticks\":\"\",\"title\":{\"standoff\":15},\"zerolinecolor\":\"white\",\"automargin\":true,\"zerolinewidth\":2},\"scene\":{\"xaxis\":{\"backgroundcolor\":\"#E5ECF6\",\"gridcolor\":\"white\",\"linecolor\":\"white\",\"showbackground\":true,\"ticks\":\"\",\"zerolinecolor\":\"white\",\"gridwidth\":2},\"yaxis\":{\"backgroundcolor\":\"#E5ECF6\",\"gridcolor\":\"white\",\"linecolor\":\"white\",\"showbackground\":true,\"ticks\":\"\",\"zerolinecolor\":\"white\",\"gridwidth\":2},\"zaxis\":{\"backgroundcolor\":\"#E5ECF6\",\"gridcolor\":\"white\",\"linecolor\":\"white\",\"showbackground\":true,\"ticks\":\"\",\"zerolinecolor\":\"white\",\"gridwidth\":2}},\"shapedefaults\":{\"line\":{\"color\":\"#2a3f5f\"}},\"annotationdefaults\":{\"arrowcolor\":\"#2a3f5f\",\"arrowhead\":0,\"arrowwidth\":1},\"geo\":{\"bgcolor\":\"white\",\"landcolor\":\"#E5ECF6\",\"subunitcolor\":\"white\",\"showland\":true,\"showlakes\":true,\"lakecolor\":\"white\"},\"title\":{\"x\":0.05},\"mapbox\":{\"style\":\"light\"}}},\"xaxis\":{\"anchor\":\"y\",\"domain\":[0.0,1.0],\"title\":{\"text\":\"Num Groups\"}},\"yaxis\":{\"anchor\":\"x\",\"domain\":[0.0,1.0],\"title\":{\"text\":\"count\"}},\"legend\":{\"tracegroupgap\":0},\"title\":{\"text\":\"Histogram of Num Groups\"},\"barmode\":\"relative\"},                        {\"responsive\": true}                    ).then(function(){\n",
              "                            \n",
              "var gd = document.getElementById('42ce4eff-bd77-408c-842c-ef8c1aab36f9');\n",
              "var x = new MutationObserver(function (mutations, observer) {{\n",
              "        var display = window.getComputedStyle(gd).display;\n",
              "        if (!display || display === 'none') {{\n",
              "            console.log([gd, 'removed!']);\n",
              "            Plotly.purge(gd);\n",
              "            observer.disconnect();\n",
              "        }}\n",
              "}});\n",
              "\n",
              "// Listen for the removal of the full notebook cells\n",
              "var notebookContainer = gd.closest('#notebook-container');\n",
              "if (notebookContainer) {{\n",
              "    x.observe(notebookContainer, {childList: true});\n",
              "}}\n",
              "\n",
              "// Listen for the clearing of the current output cell\n",
              "var outputEl = gd.closest('.output');\n",
              "if (outputEl) {{\n",
              "    x.observe(outputEl, {childList: true});\n",
              "}}\n",
              "\n",
              "                        })                };                            </script>        </div>\n",
              "</body>\n",
              "</html>"
            ]
          },
          "metadata": {}
        }
      ],
      "source": [
        "fig = px.histogram(df_s, x='Num Groups', nbins=100, title='Histogram of Num Groups')\n",
        "\n",
        "fig.show()"
      ]
    },
    {
      "cell_type": "markdown",
      "metadata": {
        "id": "vYfIeNB77SWd"
      },
      "source": [
        "##Updating df_18 with Num Groups"
      ]
    },
    {
      "cell_type": "code",
      "execution_count": null,
      "metadata": {
        "id": "46_sHWWoRCsR"
      },
      "outputs": [],
      "source": [
        "df_18 = df_s[df_s['Enrollment Year'] >= 2018].reset_index(drop=True)\n"
      ]
    },
    {
      "cell_type": "code",
      "execution_count": null,
      "metadata": {
        "colab": {
          "base_uri": "https://localhost:8080/"
        },
        "id": "zpBuw6TbRCKn",
        "outputId": "b4ad3a5f-8cd4-43c5-e4e3-11fc982a6991"
      },
      "outputs": [
        {
          "output_type": "execute_result",
          "data": {
            "text/plain": [
              "84.75456525381135"
            ]
          },
          "metadata": {},
          "execution_count": 355
        }
      ],
      "source": [
        "len(df_18)/len(df_s)*100"
      ]
    },
    {
      "cell_type": "code",
      "execution_count": null,
      "metadata": {
        "id": "12BVRSAv7Pfm"
      },
      "outputs": [],
      "source": [
        "df_18 = df_s[(df_s['Enrollment Year'] >= 2013) & (df_s['Enrollment Year'] < 2022)].reset_index(drop=True)\n"
      ]
    },
    {
      "cell_type": "code",
      "execution_count": null,
      "metadata": {
        "colab": {
          "base_uri": "https://localhost:8080/"
        },
        "id": "qrC4gxMYanEk",
        "outputId": "92643202-ab9f-4144-8b2d-d4668e82e5fa"
      },
      "outputs": [
        {
          "output_type": "execute_result",
          "data": {
            "text/plain": [
              "3690"
            ]
          },
          "metadata": {},
          "execution_count": 357
        }
      ],
      "source": [
        "len(df_18)"
      ]
    },
    {
      "cell_type": "code",
      "execution_count": null,
      "metadata": {
        "colab": {
          "base_uri": "https://localhost:8080/"
        },
        "id": "N2mlYMw_QTdN",
        "outputId": "b03d6f7c-f246-4c69-b319-548412de1325"
      },
      "outputs": [
        {
          "output_type": "execute_result",
          "data": {
            "text/plain": [
              "61.81940023454515"
            ]
          },
          "metadata": {},
          "execution_count": 358
        }
      ],
      "source": [
        "len(df_18)/len(df_s)*100"
      ]
    },
    {
      "cell_type": "code",
      "execution_count": null,
      "metadata": {
        "colab": {
          "base_uri": "https://localhost:8080/"
        },
        "id": "dXRHpN5k12Ky",
        "outputId": "4b3112b5-ad6f-4406-9052-1a82b8fb471d"
      },
      "outputs": [
        {
          "output_type": "execute_result",
          "data": {
            "text/plain": [
              "58.63628748534093"
            ]
          },
          "metadata": {},
          "execution_count": 359
        }
      ],
      "source": [
        "df_1 = df_18[df_18['Num Groups'] >= 10].reset_index(drop=True)\n",
        "len(df_1)\n",
        "len(df_1)/len(df_s)*100"
      ]
    },
    {
      "cell_type": "code",
      "execution_count": null,
      "metadata": {
        "colab": {
          "base_uri": "https://localhost:8080/"
        },
        "id": "dRPbBg2W6uuc",
        "outputId": "9f69c3b0-e3ea-4f28-c5b5-e69d9b3f5b8e"
      },
      "outputs": [
        {
          "output_type": "execute_result",
          "data": {
            "text/plain": [
              "4598"
            ]
          },
          "metadata": {},
          "execution_count": 360
        }
      ],
      "source": [
        "df_2 = df_s[df_s['Num Groups'] >= 10].reset_index(drop=True)\n",
        "len(df_2)"
      ]
    },
    {
      "cell_type": "markdown",
      "metadata": {
        "id": "0nH4OYSVxUxk"
      },
      "source": [
        "#Defining year to the courses"
      ]
    },
    {
      "cell_type": "code",
      "execution_count": null,
      "metadata": {
        "id": "aZHCA4Zc0L3F"
      },
      "outputs": [],
      "source": [
        "for index, row in df.iterrows():\n",
        "    line_courses = row['Courses'].split('@')\n",
        "    new_courses = []\n",
        "    for c in line_courses:\n",
        "      for year in range(2018,2024):\n",
        "        if (str(year) in c or str(year)[-2:] in c) and (str(year+1) in c or str(year+1)[-2:] in c):\n",
        "          new_courses.append(c)\n",
        "    c = \"@\".join(new_courses)\n",
        "    df.at[index, 'Courses'] = c"
      ]
    },
    {
      "cell_type": "code",
      "execution_count": null,
      "metadata": {
        "colab": {
          "base_uri": "https://localhost:8080/"
        },
        "id": "egJG22fcxcJ7",
        "outputId": "e06da084-5e3f-491b-d3d3-46a22ead3c9b"
      },
      "outputs": [
        {
          "output_type": "execute_result",
          "data": {
            "text/plain": [
              "Index(['Names', 'Emails', 'Roles', 'Courses'], dtype='object')"
            ]
          },
          "metadata": {},
          "execution_count": 362
        }
      ],
      "source": [
        "df.columns"
      ]
    },
    {
      "cell_type": "code",
      "execution_count": null,
      "metadata": {
        "colab": {
          "base_uri": "https://localhost:8080/"
        },
        "id": "P6Vo14pgyaMX",
        "outputId": "acb0da2e-c859-4b60-f378-208ccf90f207"
      },
      "outputs": [
        {
          "output_type": "execute_result",
          "data": {
            "text/plain": [
              "                   Names                                        Emails  \\\n",
              "0          Aaron Köndgen         aaron.koendgen@students.finki.ukim.mk   \n",
              "1  Anastasija Cvetanovic  anastasija.cvetanovic@students.finki.ukim.mk   \n",
              "2           Anchev Nenad                    nenad.anchev@finki.ukim.mk   \n",
              "\n",
              "     Roles                                            Courses  \n",
              "0  Student             Машинска визија-Machine Vision 2022-23  \n",
              "1  Student  Интернет програмирање на клиентска страна-2023...  \n",
              "2  Teacher  Test course - 2019/2020/L@Databases-2023/2024/...  "
            ],
            "text/html": [
              "\n",
              "  <div id=\"df-b432c8d2-5665-49ff-9b37-a39f8cffcc3b\" class=\"colab-df-container\">\n",
              "    <div>\n",
              "<style scoped>\n",
              "    .dataframe tbody tr th:only-of-type {\n",
              "        vertical-align: middle;\n",
              "    }\n",
              "\n",
              "    .dataframe tbody tr th {\n",
              "        vertical-align: top;\n",
              "    }\n",
              "\n",
              "    .dataframe thead th {\n",
              "        text-align: right;\n",
              "    }\n",
              "</style>\n",
              "<table border=\"1\" class=\"dataframe\">\n",
              "  <thead>\n",
              "    <tr style=\"text-align: right;\">\n",
              "      <th></th>\n",
              "      <th>Names</th>\n",
              "      <th>Emails</th>\n",
              "      <th>Roles</th>\n",
              "      <th>Courses</th>\n",
              "    </tr>\n",
              "  </thead>\n",
              "  <tbody>\n",
              "    <tr>\n",
              "      <th>0</th>\n",
              "      <td>Aaron Köndgen</td>\n",
              "      <td>aaron.koendgen@students.finki.ukim.mk</td>\n",
              "      <td>Student</td>\n",
              "      <td>Машинска визија-Machine Vision 2022-23</td>\n",
              "    </tr>\n",
              "    <tr>\n",
              "      <th>1</th>\n",
              "      <td>Anastasija Cvetanovic</td>\n",
              "      <td>anastasija.cvetanovic@students.finki.ukim.mk</td>\n",
              "      <td>Student</td>\n",
              "      <td>Интернет програмирање на клиентска страна-2023...</td>\n",
              "    </tr>\n",
              "    <tr>\n",
              "      <th>2</th>\n",
              "      <td>Anchev Nenad</td>\n",
              "      <td>nenad.anchev@finki.ukim.mk</td>\n",
              "      <td>Teacher</td>\n",
              "      <td>Test course - 2019/2020/L@Databases-2023/2024/...</td>\n",
              "    </tr>\n",
              "  </tbody>\n",
              "</table>\n",
              "</div>\n",
              "    <div class=\"colab-df-buttons\">\n",
              "\n",
              "  <div class=\"colab-df-container\">\n",
              "    <button class=\"colab-df-convert\" onclick=\"convertToInteractive('df-b432c8d2-5665-49ff-9b37-a39f8cffcc3b')\"\n",
              "            title=\"Convert this dataframe to an interactive table.\"\n",
              "            style=\"display:none;\">\n",
              "\n",
              "  <svg xmlns=\"http://www.w3.org/2000/svg\" height=\"24px\" viewBox=\"0 -960 960 960\">\n",
              "    <path d=\"M120-120v-720h720v720H120Zm60-500h600v-160H180v160Zm220 220h160v-160H400v160Zm0 220h160v-160H400v160ZM180-400h160v-160H180v160Zm440 0h160v-160H620v160ZM180-180h160v-160H180v160Zm440 0h160v-160H620v160Z\"/>\n",
              "  </svg>\n",
              "    </button>\n",
              "\n",
              "  <style>\n",
              "    .colab-df-container {\n",
              "      display:flex;\n",
              "      gap: 12px;\n",
              "    }\n",
              "\n",
              "    .colab-df-convert {\n",
              "      background-color: #E8F0FE;\n",
              "      border: none;\n",
              "      border-radius: 50%;\n",
              "      cursor: pointer;\n",
              "      display: none;\n",
              "      fill: #1967D2;\n",
              "      height: 32px;\n",
              "      padding: 0 0 0 0;\n",
              "      width: 32px;\n",
              "    }\n",
              "\n",
              "    .colab-df-convert:hover {\n",
              "      background-color: #E2EBFA;\n",
              "      box-shadow: 0px 1px 2px rgba(60, 64, 67, 0.3), 0px 1px 3px 1px rgba(60, 64, 67, 0.15);\n",
              "      fill: #174EA6;\n",
              "    }\n",
              "\n",
              "    .colab-df-buttons div {\n",
              "      margin-bottom: 4px;\n",
              "    }\n",
              "\n",
              "    [theme=dark] .colab-df-convert {\n",
              "      background-color: #3B4455;\n",
              "      fill: #D2E3FC;\n",
              "    }\n",
              "\n",
              "    [theme=dark] .colab-df-convert:hover {\n",
              "      background-color: #434B5C;\n",
              "      box-shadow: 0px 1px 3px 1px rgba(0, 0, 0, 0.15);\n",
              "      filter: drop-shadow(0px 1px 2px rgba(0, 0, 0, 0.3));\n",
              "      fill: #FFFFFF;\n",
              "    }\n",
              "  </style>\n",
              "\n",
              "    <script>\n",
              "      const buttonEl =\n",
              "        document.querySelector('#df-b432c8d2-5665-49ff-9b37-a39f8cffcc3b button.colab-df-convert');\n",
              "      buttonEl.style.display =\n",
              "        google.colab.kernel.accessAllowed ? 'block' : 'none';\n",
              "\n",
              "      async function convertToInteractive(key) {\n",
              "        const element = document.querySelector('#df-b432c8d2-5665-49ff-9b37-a39f8cffcc3b');\n",
              "        const dataTable =\n",
              "          await google.colab.kernel.invokeFunction('convertToInteractive',\n",
              "                                                    [key], {});\n",
              "        if (!dataTable) return;\n",
              "\n",
              "        const docLinkHtml = 'Like what you see? Visit the ' +\n",
              "          '<a target=\"_blank\" href=https://colab.research.google.com/notebooks/data_table.ipynb>data table notebook</a>'\n",
              "          + ' to learn more about interactive tables.';\n",
              "        element.innerHTML = '';\n",
              "        dataTable['output_type'] = 'display_data';\n",
              "        await google.colab.output.renderOutput(dataTable, element);\n",
              "        const docLink = document.createElement('div');\n",
              "        docLink.innerHTML = docLinkHtml;\n",
              "        element.appendChild(docLink);\n",
              "      }\n",
              "    </script>\n",
              "  </div>\n",
              "\n",
              "\n",
              "<div id=\"df-08f8577f-c559-46b9-b315-abe207f41513\">\n",
              "  <button class=\"colab-df-quickchart\" onclick=\"quickchart('df-08f8577f-c559-46b9-b315-abe207f41513')\"\n",
              "            title=\"Suggest charts\"\n",
              "            style=\"display:none;\">\n",
              "\n",
              "<svg xmlns=\"http://www.w3.org/2000/svg\" height=\"24px\"viewBox=\"0 0 24 24\"\n",
              "     width=\"24px\">\n",
              "    <g>\n",
              "        <path d=\"M19 3H5c-1.1 0-2 .9-2 2v14c0 1.1.9 2 2 2h14c1.1 0 2-.9 2-2V5c0-1.1-.9-2-2-2zM9 17H7v-7h2v7zm4 0h-2V7h2v10zm4 0h-2v-4h2v4z\"/>\n",
              "    </g>\n",
              "</svg>\n",
              "  </button>\n",
              "\n",
              "<style>\n",
              "  .colab-df-quickchart {\n",
              "      --bg-color: #E8F0FE;\n",
              "      --fill-color: #1967D2;\n",
              "      --hover-bg-color: #E2EBFA;\n",
              "      --hover-fill-color: #174EA6;\n",
              "      --disabled-fill-color: #AAA;\n",
              "      --disabled-bg-color: #DDD;\n",
              "  }\n",
              "\n",
              "  [theme=dark] .colab-df-quickchart {\n",
              "      --bg-color: #3B4455;\n",
              "      --fill-color: #D2E3FC;\n",
              "      --hover-bg-color: #434B5C;\n",
              "      --hover-fill-color: #FFFFFF;\n",
              "      --disabled-bg-color: #3B4455;\n",
              "      --disabled-fill-color: #666;\n",
              "  }\n",
              "\n",
              "  .colab-df-quickchart {\n",
              "    background-color: var(--bg-color);\n",
              "    border: none;\n",
              "    border-radius: 50%;\n",
              "    cursor: pointer;\n",
              "    display: none;\n",
              "    fill: var(--fill-color);\n",
              "    height: 32px;\n",
              "    padding: 0;\n",
              "    width: 32px;\n",
              "  }\n",
              "\n",
              "  .colab-df-quickchart:hover {\n",
              "    background-color: var(--hover-bg-color);\n",
              "    box-shadow: 0 1px 2px rgba(60, 64, 67, 0.3), 0 1px 3px 1px rgba(60, 64, 67, 0.15);\n",
              "    fill: var(--button-hover-fill-color);\n",
              "  }\n",
              "\n",
              "  .colab-df-quickchart-complete:disabled,\n",
              "  .colab-df-quickchart-complete:disabled:hover {\n",
              "    background-color: var(--disabled-bg-color);\n",
              "    fill: var(--disabled-fill-color);\n",
              "    box-shadow: none;\n",
              "  }\n",
              "\n",
              "  .colab-df-spinner {\n",
              "    border: 2px solid var(--fill-color);\n",
              "    border-color: transparent;\n",
              "    border-bottom-color: var(--fill-color);\n",
              "    animation:\n",
              "      spin 1s steps(1) infinite;\n",
              "  }\n",
              "\n",
              "  @keyframes spin {\n",
              "    0% {\n",
              "      border-color: transparent;\n",
              "      border-bottom-color: var(--fill-color);\n",
              "      border-left-color: var(--fill-color);\n",
              "    }\n",
              "    20% {\n",
              "      border-color: transparent;\n",
              "      border-left-color: var(--fill-color);\n",
              "      border-top-color: var(--fill-color);\n",
              "    }\n",
              "    30% {\n",
              "      border-color: transparent;\n",
              "      border-left-color: var(--fill-color);\n",
              "      border-top-color: var(--fill-color);\n",
              "      border-right-color: var(--fill-color);\n",
              "    }\n",
              "    40% {\n",
              "      border-color: transparent;\n",
              "      border-right-color: var(--fill-color);\n",
              "      border-top-color: var(--fill-color);\n",
              "    }\n",
              "    60% {\n",
              "      border-color: transparent;\n",
              "      border-right-color: var(--fill-color);\n",
              "    }\n",
              "    80% {\n",
              "      border-color: transparent;\n",
              "      border-right-color: var(--fill-color);\n",
              "      border-bottom-color: var(--fill-color);\n",
              "    }\n",
              "    90% {\n",
              "      border-color: transparent;\n",
              "      border-bottom-color: var(--fill-color);\n",
              "    }\n",
              "  }\n",
              "</style>\n",
              "\n",
              "  <script>\n",
              "    async function quickchart(key) {\n",
              "      const quickchartButtonEl =\n",
              "        document.querySelector('#' + key + ' button');\n",
              "      quickchartButtonEl.disabled = true;  // To prevent multiple clicks.\n",
              "      quickchartButtonEl.classList.add('colab-df-spinner');\n",
              "      try {\n",
              "        const charts = await google.colab.kernel.invokeFunction(\n",
              "            'suggestCharts', [key], {});\n",
              "      } catch (error) {\n",
              "        console.error('Error during call to suggestCharts:', error);\n",
              "      }\n",
              "      quickchartButtonEl.classList.remove('colab-df-spinner');\n",
              "      quickchartButtonEl.classList.add('colab-df-quickchart-complete');\n",
              "    }\n",
              "    (() => {\n",
              "      let quickchartButtonEl =\n",
              "        document.querySelector('#df-08f8577f-c559-46b9-b315-abe207f41513 button');\n",
              "      quickchartButtonEl.style.display =\n",
              "        google.colab.kernel.accessAllowed ? 'block' : 'none';\n",
              "    })();\n",
              "  </script>\n",
              "</div>\n",
              "    </div>\n",
              "  </div>\n"
            ]
          },
          "metadata": {},
          "execution_count": 363
        }
      ],
      "source": [
        "df.head(3)"
      ]
    },
    {
      "cell_type": "code",
      "execution_count": null,
      "metadata": {
        "id": "xXuBjkwex9F8"
      },
      "outputs": [],
      "source": [
        "course = []\n",
        "name = []\n",
        "email = []\n",
        "role = []\n",
        "for index, row in df.iterrows():\n",
        "  courses = row[\"Courses\"].split(\"@\")\n",
        "  for c in courses:\n",
        "    course.append(c)\n",
        "    name.append(row[\"Names\"])\n",
        "    email.append(row[\"Emails\"])\n",
        "    role.append(row[\"Roles\"])"
      ]
    },
    {
      "cell_type": "code",
      "execution_count": null,
      "metadata": {
        "colab": {
          "base_uri": "https://localhost:8080/"
        },
        "id": "v7BXk2jIzJHU",
        "outputId": "d0c51f7e-1a6a-4027-a15a-d05dacc6d1c1"
      },
      "outputs": [
        {
          "output_type": "execute_result",
          "data": {
            "text/plain": [
              "                    Name                                         Email  \\\n",
              "0          Aaron Köndgen         aaron.koendgen@students.finki.ukim.mk   \n",
              "1  Anastasija Cvetanovic  anastasija.cvetanovic@students.finki.ukim.mk   \n",
              "2  Anastasija Cvetanovic  anastasija.cvetanovic@students.finki.ukim.mk   \n",
              "3  Anastasija Cvetanovic  anastasija.cvetanovic@students.finki.ukim.mk   \n",
              "4  Anastasija Cvetanovic  anastasija.cvetanovic@students.finki.ukim.mk   \n",
              "\n",
              "      Role                                             Course  \n",
              "0  Student             Машинска визија-Machine Vision 2022-23  \n",
              "1  Student  Интернет програмирање на клиентска страна-2023...  \n",
              "2  Student                     Компјутерска етика-2023/2024/Z  \n",
              "3  Student                  Пресметување во облак-2023/2024/Z  \n",
              "4  Student             Програмирање на видео игри-2023/2024/Z  "
            ],
            "text/html": [
              "\n",
              "  <div id=\"df-ffb5c483-bb6c-4a32-8987-6e41076a8bab\" class=\"colab-df-container\">\n",
              "    <div>\n",
              "<style scoped>\n",
              "    .dataframe tbody tr th:only-of-type {\n",
              "        vertical-align: middle;\n",
              "    }\n",
              "\n",
              "    .dataframe tbody tr th {\n",
              "        vertical-align: top;\n",
              "    }\n",
              "\n",
              "    .dataframe thead th {\n",
              "        text-align: right;\n",
              "    }\n",
              "</style>\n",
              "<table border=\"1\" class=\"dataframe\">\n",
              "  <thead>\n",
              "    <tr style=\"text-align: right;\">\n",
              "      <th></th>\n",
              "      <th>Name</th>\n",
              "      <th>Email</th>\n",
              "      <th>Role</th>\n",
              "      <th>Course</th>\n",
              "    </tr>\n",
              "  </thead>\n",
              "  <tbody>\n",
              "    <tr>\n",
              "      <th>0</th>\n",
              "      <td>Aaron Köndgen</td>\n",
              "      <td>aaron.koendgen@students.finki.ukim.mk</td>\n",
              "      <td>Student</td>\n",
              "      <td>Машинска визија-Machine Vision 2022-23</td>\n",
              "    </tr>\n",
              "    <tr>\n",
              "      <th>1</th>\n",
              "      <td>Anastasija Cvetanovic</td>\n",
              "      <td>anastasija.cvetanovic@students.finki.ukim.mk</td>\n",
              "      <td>Student</td>\n",
              "      <td>Интернет програмирање на клиентска страна-2023...</td>\n",
              "    </tr>\n",
              "    <tr>\n",
              "      <th>2</th>\n",
              "      <td>Anastasija Cvetanovic</td>\n",
              "      <td>anastasija.cvetanovic@students.finki.ukim.mk</td>\n",
              "      <td>Student</td>\n",
              "      <td>Компјутерска етика-2023/2024/Z</td>\n",
              "    </tr>\n",
              "    <tr>\n",
              "      <th>3</th>\n",
              "      <td>Anastasija Cvetanovic</td>\n",
              "      <td>anastasija.cvetanovic@students.finki.ukim.mk</td>\n",
              "      <td>Student</td>\n",
              "      <td>Пресметување во облак-2023/2024/Z</td>\n",
              "    </tr>\n",
              "    <tr>\n",
              "      <th>4</th>\n",
              "      <td>Anastasija Cvetanovic</td>\n",
              "      <td>anastasija.cvetanovic@students.finki.ukim.mk</td>\n",
              "      <td>Student</td>\n",
              "      <td>Програмирање на видео игри-2023/2024/Z</td>\n",
              "    </tr>\n",
              "  </tbody>\n",
              "</table>\n",
              "</div>\n",
              "    <div class=\"colab-df-buttons\">\n",
              "\n",
              "  <div class=\"colab-df-container\">\n",
              "    <button class=\"colab-df-convert\" onclick=\"convertToInteractive('df-ffb5c483-bb6c-4a32-8987-6e41076a8bab')\"\n",
              "            title=\"Convert this dataframe to an interactive table.\"\n",
              "            style=\"display:none;\">\n",
              "\n",
              "  <svg xmlns=\"http://www.w3.org/2000/svg\" height=\"24px\" viewBox=\"0 -960 960 960\">\n",
              "    <path d=\"M120-120v-720h720v720H120Zm60-500h600v-160H180v160Zm220 220h160v-160H400v160Zm0 220h160v-160H400v160ZM180-400h160v-160H180v160Zm440 0h160v-160H620v160ZM180-180h160v-160H180v160Zm440 0h160v-160H620v160Z\"/>\n",
              "  </svg>\n",
              "    </button>\n",
              "\n",
              "  <style>\n",
              "    .colab-df-container {\n",
              "      display:flex;\n",
              "      gap: 12px;\n",
              "    }\n",
              "\n",
              "    .colab-df-convert {\n",
              "      background-color: #E8F0FE;\n",
              "      border: none;\n",
              "      border-radius: 50%;\n",
              "      cursor: pointer;\n",
              "      display: none;\n",
              "      fill: #1967D2;\n",
              "      height: 32px;\n",
              "      padding: 0 0 0 0;\n",
              "      width: 32px;\n",
              "    }\n",
              "\n",
              "    .colab-df-convert:hover {\n",
              "      background-color: #E2EBFA;\n",
              "      box-shadow: 0px 1px 2px rgba(60, 64, 67, 0.3), 0px 1px 3px 1px rgba(60, 64, 67, 0.15);\n",
              "      fill: #174EA6;\n",
              "    }\n",
              "\n",
              "    .colab-df-buttons div {\n",
              "      margin-bottom: 4px;\n",
              "    }\n",
              "\n",
              "    [theme=dark] .colab-df-convert {\n",
              "      background-color: #3B4455;\n",
              "      fill: #D2E3FC;\n",
              "    }\n",
              "\n",
              "    [theme=dark] .colab-df-convert:hover {\n",
              "      background-color: #434B5C;\n",
              "      box-shadow: 0px 1px 3px 1px rgba(0, 0, 0, 0.15);\n",
              "      filter: drop-shadow(0px 1px 2px rgba(0, 0, 0, 0.3));\n",
              "      fill: #FFFFFF;\n",
              "    }\n",
              "  </style>\n",
              "\n",
              "    <script>\n",
              "      const buttonEl =\n",
              "        document.querySelector('#df-ffb5c483-bb6c-4a32-8987-6e41076a8bab button.colab-df-convert');\n",
              "      buttonEl.style.display =\n",
              "        google.colab.kernel.accessAllowed ? 'block' : 'none';\n",
              "\n",
              "      async function convertToInteractive(key) {\n",
              "        const element = document.querySelector('#df-ffb5c483-bb6c-4a32-8987-6e41076a8bab');\n",
              "        const dataTable =\n",
              "          await google.colab.kernel.invokeFunction('convertToInteractive',\n",
              "                                                    [key], {});\n",
              "        if (!dataTable) return;\n",
              "\n",
              "        const docLinkHtml = 'Like what you see? Visit the ' +\n",
              "          '<a target=\"_blank\" href=https://colab.research.google.com/notebooks/data_table.ipynb>data table notebook</a>'\n",
              "          + ' to learn more about interactive tables.';\n",
              "        element.innerHTML = '';\n",
              "        dataTable['output_type'] = 'display_data';\n",
              "        await google.colab.output.renderOutput(dataTable, element);\n",
              "        const docLink = document.createElement('div');\n",
              "        docLink.innerHTML = docLinkHtml;\n",
              "        element.appendChild(docLink);\n",
              "      }\n",
              "    </script>\n",
              "  </div>\n",
              "\n",
              "\n",
              "<div id=\"df-be9dd04b-6dc2-4560-995c-74bf441149e0\">\n",
              "  <button class=\"colab-df-quickchart\" onclick=\"quickchart('df-be9dd04b-6dc2-4560-995c-74bf441149e0')\"\n",
              "            title=\"Suggest charts\"\n",
              "            style=\"display:none;\">\n",
              "\n",
              "<svg xmlns=\"http://www.w3.org/2000/svg\" height=\"24px\"viewBox=\"0 0 24 24\"\n",
              "     width=\"24px\">\n",
              "    <g>\n",
              "        <path d=\"M19 3H5c-1.1 0-2 .9-2 2v14c0 1.1.9 2 2 2h14c1.1 0 2-.9 2-2V5c0-1.1-.9-2-2-2zM9 17H7v-7h2v7zm4 0h-2V7h2v10zm4 0h-2v-4h2v4z\"/>\n",
              "    </g>\n",
              "</svg>\n",
              "  </button>\n",
              "\n",
              "<style>\n",
              "  .colab-df-quickchart {\n",
              "      --bg-color: #E8F0FE;\n",
              "      --fill-color: #1967D2;\n",
              "      --hover-bg-color: #E2EBFA;\n",
              "      --hover-fill-color: #174EA6;\n",
              "      --disabled-fill-color: #AAA;\n",
              "      --disabled-bg-color: #DDD;\n",
              "  }\n",
              "\n",
              "  [theme=dark] .colab-df-quickchart {\n",
              "      --bg-color: #3B4455;\n",
              "      --fill-color: #D2E3FC;\n",
              "      --hover-bg-color: #434B5C;\n",
              "      --hover-fill-color: #FFFFFF;\n",
              "      --disabled-bg-color: #3B4455;\n",
              "      --disabled-fill-color: #666;\n",
              "  }\n",
              "\n",
              "  .colab-df-quickchart {\n",
              "    background-color: var(--bg-color);\n",
              "    border: none;\n",
              "    border-radius: 50%;\n",
              "    cursor: pointer;\n",
              "    display: none;\n",
              "    fill: var(--fill-color);\n",
              "    height: 32px;\n",
              "    padding: 0;\n",
              "    width: 32px;\n",
              "  }\n",
              "\n",
              "  .colab-df-quickchart:hover {\n",
              "    background-color: var(--hover-bg-color);\n",
              "    box-shadow: 0 1px 2px rgba(60, 64, 67, 0.3), 0 1px 3px 1px rgba(60, 64, 67, 0.15);\n",
              "    fill: var(--button-hover-fill-color);\n",
              "  }\n",
              "\n",
              "  .colab-df-quickchart-complete:disabled,\n",
              "  .colab-df-quickchart-complete:disabled:hover {\n",
              "    background-color: var(--disabled-bg-color);\n",
              "    fill: var(--disabled-fill-color);\n",
              "    box-shadow: none;\n",
              "  }\n",
              "\n",
              "  .colab-df-spinner {\n",
              "    border: 2px solid var(--fill-color);\n",
              "    border-color: transparent;\n",
              "    border-bottom-color: var(--fill-color);\n",
              "    animation:\n",
              "      spin 1s steps(1) infinite;\n",
              "  }\n",
              "\n",
              "  @keyframes spin {\n",
              "    0% {\n",
              "      border-color: transparent;\n",
              "      border-bottom-color: var(--fill-color);\n",
              "      border-left-color: var(--fill-color);\n",
              "    }\n",
              "    20% {\n",
              "      border-color: transparent;\n",
              "      border-left-color: var(--fill-color);\n",
              "      border-top-color: var(--fill-color);\n",
              "    }\n",
              "    30% {\n",
              "      border-color: transparent;\n",
              "      border-left-color: var(--fill-color);\n",
              "      border-top-color: var(--fill-color);\n",
              "      border-right-color: var(--fill-color);\n",
              "    }\n",
              "    40% {\n",
              "      border-color: transparent;\n",
              "      border-right-color: var(--fill-color);\n",
              "      border-top-color: var(--fill-color);\n",
              "    }\n",
              "    60% {\n",
              "      border-color: transparent;\n",
              "      border-right-color: var(--fill-color);\n",
              "    }\n",
              "    80% {\n",
              "      border-color: transparent;\n",
              "      border-right-color: var(--fill-color);\n",
              "      border-bottom-color: var(--fill-color);\n",
              "    }\n",
              "    90% {\n",
              "      border-color: transparent;\n",
              "      border-bottom-color: var(--fill-color);\n",
              "    }\n",
              "  }\n",
              "</style>\n",
              "\n",
              "  <script>\n",
              "    async function quickchart(key) {\n",
              "      const quickchartButtonEl =\n",
              "        document.querySelector('#' + key + ' button');\n",
              "      quickchartButtonEl.disabled = true;  // To prevent multiple clicks.\n",
              "      quickchartButtonEl.classList.add('colab-df-spinner');\n",
              "      try {\n",
              "        const charts = await google.colab.kernel.invokeFunction(\n",
              "            'suggestCharts', [key], {});\n",
              "      } catch (error) {\n",
              "        console.error('Error during call to suggestCharts:', error);\n",
              "      }\n",
              "      quickchartButtonEl.classList.remove('colab-df-spinner');\n",
              "      quickchartButtonEl.classList.add('colab-df-quickchart-complete');\n",
              "    }\n",
              "    (() => {\n",
              "      let quickchartButtonEl =\n",
              "        document.querySelector('#df-be9dd04b-6dc2-4560-995c-74bf441149e0 button');\n",
              "      quickchartButtonEl.style.display =\n",
              "        google.colab.kernel.accessAllowed ? 'block' : 'none';\n",
              "    })();\n",
              "  </script>\n",
              "</div>\n",
              "    </div>\n",
              "  </div>\n"
            ]
          },
          "metadata": {},
          "execution_count": 365
        }
      ],
      "source": [
        "data = {'Name': name, 'Email': email, 'Role': role,'Course': course}\n",
        "df_all = pd.DataFrame(data)\n",
        "\n",
        "df_all.head()"
      ]
    },
    {
      "cell_type": "code",
      "execution_count": null,
      "metadata": {
        "id": "7lySeC_ort5t"
      },
      "outputs": [],
      "source": [
        "import re"
      ]
    },
    {
      "cell_type": "code",
      "execution_count": null,
      "metadata": {
        "colab": {
          "base_uri": "https://localhost:8080/"
        },
        "id": "K1FQu_d5zTvx",
        "outputId": "75fe7a6b-0f84-41de-c1c1-f95113c1943c"
      },
      "outputs": [
        {
          "output_type": "stream",
          "name": "stdout",
          "text": [
            "{('',)}\n"
          ]
        }
      ],
      "source": [
        "s = set()\n",
        "inds=[]\n",
        "for index, row in df_all.iterrows():\n",
        "  integers = [int(match) for match in re.findall(r'\\d+', row[\"Course\"])]\n",
        "  if len(integers) < 1:\n",
        "    integers.append( row[\"Course\"])\n",
        "    s.add(tuple(integers))\n",
        "    inds.append(index)\n",
        "print(s)"
      ]
    },
    {
      "cell_type": "code",
      "execution_count": null,
      "metadata": {
        "id": "dG2jkCht2xwR"
      },
      "outputs": [],
      "source": [
        "df_all.drop(inds, inplace=True)"
      ]
    },
    {
      "cell_type": "code",
      "execution_count": null,
      "metadata": {
        "colab": {
          "base_uri": "https://localhost:8080/"
        },
        "id": "DsVt-28J22J4",
        "outputId": "8424a82a-f1ba-4aa8-a0d4-d8e096327412"
      },
      "outputs": [
        {
          "output_type": "execute_result",
          "data": {
            "text/plain": [
              "{'Мобилни информациски системи-2022/2023/Z copy 1'}"
            ]
          },
          "metadata": {},
          "execution_count": 369
        }
      ],
      "source": [
        "s = set()\n",
        "inds=[]\n",
        "for index, row in df_all.iterrows():\n",
        "  integers = [int(match) for match in re.findall(r'\\d+', row[\"Course\"])]\n",
        "  if integers[-1] == 1 or integers[-2] == 1:\n",
        "    s.add(row[\"Course\"])\n",
        "s"
      ]
    },
    {
      "cell_type": "code",
      "execution_count": null,
      "metadata": {
        "id": "q26NV3nZ4Qnr"
      },
      "outputs": [],
      "source": [
        "for index, row in df_all.iterrows():\n",
        "  integers = [int(match) for match in re.findall(r'\\d+', row[\"Course\"])]\n",
        "  if integers[-1] == 1 or integers[-2] == 1:\n",
        "    df_all.at[index, 'Course'] = c.replace(\"copy 1\", \"\")"
      ]
    },
    {
      "cell_type": "code",
      "execution_count": null,
      "metadata": {
        "colab": {
          "base_uri": "https://localhost:8080/"
        },
        "id": "HHgseZ5R5KLx",
        "outputId": "1cc4ff6e-b543-40bc-c52f-7ed5b1e27f69"
      },
      "outputs": [
        {
          "output_type": "execute_result",
          "data": {
            "text/plain": [
              "set()"
            ]
          },
          "metadata": {},
          "execution_count": 371
        }
      ],
      "source": [
        "s = set()\n",
        "inds=[]\n",
        "for index, row in df_all.iterrows():\n",
        "  integers = [int(match) for match in re.findall(r'\\d+', row[\"Course\"])]\n",
        "  if integers[-1] == 1 or integers[-2] == 1:\n",
        "    s.add(row[\"Course\"])\n",
        "s"
      ]
    },
    {
      "cell_type": "code",
      "execution_count": null,
      "metadata": {
        "colab": {
          "base_uri": "https://localhost:8080/"
        },
        "id": "9FXE_qJR5zLL",
        "outputId": "8215184e-9a09-4efe-8679-6b70d06ed96c"
      },
      "outputs": [
        {
          "output_type": "execute_result",
          "data": {
            "text/plain": [
              "set()"
            ]
          },
          "metadata": {},
          "execution_count": 372
        }
      ],
      "source": [
        "s = set()\n",
        "inds=[]\n",
        "year = []\n",
        "for index, row in df_all.iterrows():\n",
        "  integers = [int(match) for match in re.findall(r'\\d+', row[\"Course\"])]\n",
        "  tmp = integers[-1]\n",
        "  tmp1 = integers[-2]\n",
        "  if len(str(integers[-1])) == 2:\n",
        "    tmp = 2000+integers[-1]\n",
        "  if len(str(integers[-2])) == 2:\n",
        "    tmp1 = 2000+integers[-2]\n",
        "  if tmp>tmp1:\n",
        "     a = tmp\n",
        "     tmp = tmp1\n",
        "     tmp1 = a\n",
        "  year.append(str(tmp)+\"/\"+str(tmp1))\n",
        "s"
      ]
    },
    {
      "cell_type": "code",
      "execution_count": null,
      "metadata": {
        "id": "p-g4Caa77xd6"
      },
      "outputs": [],
      "source": [
        "df_all[\"Year\"] = year"
      ]
    },
    {
      "cell_type": "code",
      "execution_count": null,
      "metadata": {
        "colab": {
          "base_uri": "https://localhost:8080/"
        },
        "id": "9fJ4vgzt6NMt",
        "outputId": "3fdca681-f917-4367-ab23-6b1628c8d35f"
      },
      "outputs": [
        {
          "output_type": "execute_result",
          "data": {
            "text/plain": [
              "                    Name                                         Email  \\\n",
              "0          Aaron Köndgen         aaron.koendgen@students.finki.ukim.mk   \n",
              "1  Anastasija Cvetanovic  anastasija.cvetanovic@students.finki.ukim.mk   \n",
              "2  Anastasija Cvetanovic  anastasija.cvetanovic@students.finki.ukim.mk   \n",
              "3  Anastasija Cvetanovic  anastasija.cvetanovic@students.finki.ukim.mk   \n",
              "4  Anastasija Cvetanovic  anastasija.cvetanovic@students.finki.ukim.mk   \n",
              "\n",
              "      Role                                             Course       Year  \n",
              "0  Student             Машинска визија-Machine Vision 2022-23  2022/2023  \n",
              "1  Student  Интернет програмирање на клиентска страна-2023...  2023/2024  \n",
              "2  Student                     Компјутерска етика-2023/2024/Z  2023/2024  \n",
              "3  Student                  Пресметување во облак-2023/2024/Z  2023/2024  \n",
              "4  Student             Програмирање на видео игри-2023/2024/Z  2023/2024  "
            ],
            "text/html": [
              "\n",
              "  <div id=\"df-4d20fc8d-01ce-4b7f-afcf-f382707b9905\" class=\"colab-df-container\">\n",
              "    <div>\n",
              "<style scoped>\n",
              "    .dataframe tbody tr th:only-of-type {\n",
              "        vertical-align: middle;\n",
              "    }\n",
              "\n",
              "    .dataframe tbody tr th {\n",
              "        vertical-align: top;\n",
              "    }\n",
              "\n",
              "    .dataframe thead th {\n",
              "        text-align: right;\n",
              "    }\n",
              "</style>\n",
              "<table border=\"1\" class=\"dataframe\">\n",
              "  <thead>\n",
              "    <tr style=\"text-align: right;\">\n",
              "      <th></th>\n",
              "      <th>Name</th>\n",
              "      <th>Email</th>\n",
              "      <th>Role</th>\n",
              "      <th>Course</th>\n",
              "      <th>Year</th>\n",
              "    </tr>\n",
              "  </thead>\n",
              "  <tbody>\n",
              "    <tr>\n",
              "      <th>0</th>\n",
              "      <td>Aaron Köndgen</td>\n",
              "      <td>aaron.koendgen@students.finki.ukim.mk</td>\n",
              "      <td>Student</td>\n",
              "      <td>Машинска визија-Machine Vision 2022-23</td>\n",
              "      <td>2022/2023</td>\n",
              "    </tr>\n",
              "    <tr>\n",
              "      <th>1</th>\n",
              "      <td>Anastasija Cvetanovic</td>\n",
              "      <td>anastasija.cvetanovic@students.finki.ukim.mk</td>\n",
              "      <td>Student</td>\n",
              "      <td>Интернет програмирање на клиентска страна-2023...</td>\n",
              "      <td>2023/2024</td>\n",
              "    </tr>\n",
              "    <tr>\n",
              "      <th>2</th>\n",
              "      <td>Anastasija Cvetanovic</td>\n",
              "      <td>anastasija.cvetanovic@students.finki.ukim.mk</td>\n",
              "      <td>Student</td>\n",
              "      <td>Компјутерска етика-2023/2024/Z</td>\n",
              "      <td>2023/2024</td>\n",
              "    </tr>\n",
              "    <tr>\n",
              "      <th>3</th>\n",
              "      <td>Anastasija Cvetanovic</td>\n",
              "      <td>anastasija.cvetanovic@students.finki.ukim.mk</td>\n",
              "      <td>Student</td>\n",
              "      <td>Пресметување во облак-2023/2024/Z</td>\n",
              "      <td>2023/2024</td>\n",
              "    </tr>\n",
              "    <tr>\n",
              "      <th>4</th>\n",
              "      <td>Anastasija Cvetanovic</td>\n",
              "      <td>anastasija.cvetanovic@students.finki.ukim.mk</td>\n",
              "      <td>Student</td>\n",
              "      <td>Програмирање на видео игри-2023/2024/Z</td>\n",
              "      <td>2023/2024</td>\n",
              "    </tr>\n",
              "  </tbody>\n",
              "</table>\n",
              "</div>\n",
              "    <div class=\"colab-df-buttons\">\n",
              "\n",
              "  <div class=\"colab-df-container\">\n",
              "    <button class=\"colab-df-convert\" onclick=\"convertToInteractive('df-4d20fc8d-01ce-4b7f-afcf-f382707b9905')\"\n",
              "            title=\"Convert this dataframe to an interactive table.\"\n",
              "            style=\"display:none;\">\n",
              "\n",
              "  <svg xmlns=\"http://www.w3.org/2000/svg\" height=\"24px\" viewBox=\"0 -960 960 960\">\n",
              "    <path d=\"M120-120v-720h720v720H120Zm60-500h600v-160H180v160Zm220 220h160v-160H400v160Zm0 220h160v-160H400v160ZM180-400h160v-160H180v160Zm440 0h160v-160H620v160ZM180-180h160v-160H180v160Zm440 0h160v-160H620v160Z\"/>\n",
              "  </svg>\n",
              "    </button>\n",
              "\n",
              "  <style>\n",
              "    .colab-df-container {\n",
              "      display:flex;\n",
              "      gap: 12px;\n",
              "    }\n",
              "\n",
              "    .colab-df-convert {\n",
              "      background-color: #E8F0FE;\n",
              "      border: none;\n",
              "      border-radius: 50%;\n",
              "      cursor: pointer;\n",
              "      display: none;\n",
              "      fill: #1967D2;\n",
              "      height: 32px;\n",
              "      padding: 0 0 0 0;\n",
              "      width: 32px;\n",
              "    }\n",
              "\n",
              "    .colab-df-convert:hover {\n",
              "      background-color: #E2EBFA;\n",
              "      box-shadow: 0px 1px 2px rgba(60, 64, 67, 0.3), 0px 1px 3px 1px rgba(60, 64, 67, 0.15);\n",
              "      fill: #174EA6;\n",
              "    }\n",
              "\n",
              "    .colab-df-buttons div {\n",
              "      margin-bottom: 4px;\n",
              "    }\n",
              "\n",
              "    [theme=dark] .colab-df-convert {\n",
              "      background-color: #3B4455;\n",
              "      fill: #D2E3FC;\n",
              "    }\n",
              "\n",
              "    [theme=dark] .colab-df-convert:hover {\n",
              "      background-color: #434B5C;\n",
              "      box-shadow: 0px 1px 3px 1px rgba(0, 0, 0, 0.15);\n",
              "      filter: drop-shadow(0px 1px 2px rgba(0, 0, 0, 0.3));\n",
              "      fill: #FFFFFF;\n",
              "    }\n",
              "  </style>\n",
              "\n",
              "    <script>\n",
              "      const buttonEl =\n",
              "        document.querySelector('#df-4d20fc8d-01ce-4b7f-afcf-f382707b9905 button.colab-df-convert');\n",
              "      buttonEl.style.display =\n",
              "        google.colab.kernel.accessAllowed ? 'block' : 'none';\n",
              "\n",
              "      async function convertToInteractive(key) {\n",
              "        const element = document.querySelector('#df-4d20fc8d-01ce-4b7f-afcf-f382707b9905');\n",
              "        const dataTable =\n",
              "          await google.colab.kernel.invokeFunction('convertToInteractive',\n",
              "                                                    [key], {});\n",
              "        if (!dataTable) return;\n",
              "\n",
              "        const docLinkHtml = 'Like what you see? Visit the ' +\n",
              "          '<a target=\"_blank\" href=https://colab.research.google.com/notebooks/data_table.ipynb>data table notebook</a>'\n",
              "          + ' to learn more about interactive tables.';\n",
              "        element.innerHTML = '';\n",
              "        dataTable['output_type'] = 'display_data';\n",
              "        await google.colab.output.renderOutput(dataTable, element);\n",
              "        const docLink = document.createElement('div');\n",
              "        docLink.innerHTML = docLinkHtml;\n",
              "        element.appendChild(docLink);\n",
              "      }\n",
              "    </script>\n",
              "  </div>\n",
              "\n",
              "\n",
              "<div id=\"df-4d845aee-0e9f-47cd-80cb-79439adf9aea\">\n",
              "  <button class=\"colab-df-quickchart\" onclick=\"quickchart('df-4d845aee-0e9f-47cd-80cb-79439adf9aea')\"\n",
              "            title=\"Suggest charts\"\n",
              "            style=\"display:none;\">\n",
              "\n",
              "<svg xmlns=\"http://www.w3.org/2000/svg\" height=\"24px\"viewBox=\"0 0 24 24\"\n",
              "     width=\"24px\">\n",
              "    <g>\n",
              "        <path d=\"M19 3H5c-1.1 0-2 .9-2 2v14c0 1.1.9 2 2 2h14c1.1 0 2-.9 2-2V5c0-1.1-.9-2-2-2zM9 17H7v-7h2v7zm4 0h-2V7h2v10zm4 0h-2v-4h2v4z\"/>\n",
              "    </g>\n",
              "</svg>\n",
              "  </button>\n",
              "\n",
              "<style>\n",
              "  .colab-df-quickchart {\n",
              "      --bg-color: #E8F0FE;\n",
              "      --fill-color: #1967D2;\n",
              "      --hover-bg-color: #E2EBFA;\n",
              "      --hover-fill-color: #174EA6;\n",
              "      --disabled-fill-color: #AAA;\n",
              "      --disabled-bg-color: #DDD;\n",
              "  }\n",
              "\n",
              "  [theme=dark] .colab-df-quickchart {\n",
              "      --bg-color: #3B4455;\n",
              "      --fill-color: #D2E3FC;\n",
              "      --hover-bg-color: #434B5C;\n",
              "      --hover-fill-color: #FFFFFF;\n",
              "      --disabled-bg-color: #3B4455;\n",
              "      --disabled-fill-color: #666;\n",
              "  }\n",
              "\n",
              "  .colab-df-quickchart {\n",
              "    background-color: var(--bg-color);\n",
              "    border: none;\n",
              "    border-radius: 50%;\n",
              "    cursor: pointer;\n",
              "    display: none;\n",
              "    fill: var(--fill-color);\n",
              "    height: 32px;\n",
              "    padding: 0;\n",
              "    width: 32px;\n",
              "  }\n",
              "\n",
              "  .colab-df-quickchart:hover {\n",
              "    background-color: var(--hover-bg-color);\n",
              "    box-shadow: 0 1px 2px rgba(60, 64, 67, 0.3), 0 1px 3px 1px rgba(60, 64, 67, 0.15);\n",
              "    fill: var(--button-hover-fill-color);\n",
              "  }\n",
              "\n",
              "  .colab-df-quickchart-complete:disabled,\n",
              "  .colab-df-quickchart-complete:disabled:hover {\n",
              "    background-color: var(--disabled-bg-color);\n",
              "    fill: var(--disabled-fill-color);\n",
              "    box-shadow: none;\n",
              "  }\n",
              "\n",
              "  .colab-df-spinner {\n",
              "    border: 2px solid var(--fill-color);\n",
              "    border-color: transparent;\n",
              "    border-bottom-color: var(--fill-color);\n",
              "    animation:\n",
              "      spin 1s steps(1) infinite;\n",
              "  }\n",
              "\n",
              "  @keyframes spin {\n",
              "    0% {\n",
              "      border-color: transparent;\n",
              "      border-bottom-color: var(--fill-color);\n",
              "      border-left-color: var(--fill-color);\n",
              "    }\n",
              "    20% {\n",
              "      border-color: transparent;\n",
              "      border-left-color: var(--fill-color);\n",
              "      border-top-color: var(--fill-color);\n",
              "    }\n",
              "    30% {\n",
              "      border-color: transparent;\n",
              "      border-left-color: var(--fill-color);\n",
              "      border-top-color: var(--fill-color);\n",
              "      border-right-color: var(--fill-color);\n",
              "    }\n",
              "    40% {\n",
              "      border-color: transparent;\n",
              "      border-right-color: var(--fill-color);\n",
              "      border-top-color: var(--fill-color);\n",
              "    }\n",
              "    60% {\n",
              "      border-color: transparent;\n",
              "      border-right-color: var(--fill-color);\n",
              "    }\n",
              "    80% {\n",
              "      border-color: transparent;\n",
              "      border-right-color: var(--fill-color);\n",
              "      border-bottom-color: var(--fill-color);\n",
              "    }\n",
              "    90% {\n",
              "      border-color: transparent;\n",
              "      border-bottom-color: var(--fill-color);\n",
              "    }\n",
              "  }\n",
              "</style>\n",
              "\n",
              "  <script>\n",
              "    async function quickchart(key) {\n",
              "      const quickchartButtonEl =\n",
              "        document.querySelector('#' + key + ' button');\n",
              "      quickchartButtonEl.disabled = true;  // To prevent multiple clicks.\n",
              "      quickchartButtonEl.classList.add('colab-df-spinner');\n",
              "      try {\n",
              "        const charts = await google.colab.kernel.invokeFunction(\n",
              "            'suggestCharts', [key], {});\n",
              "      } catch (error) {\n",
              "        console.error('Error during call to suggestCharts:', error);\n",
              "      }\n",
              "      quickchartButtonEl.classList.remove('colab-df-spinner');\n",
              "      quickchartButtonEl.classList.add('colab-df-quickchart-complete');\n",
              "    }\n",
              "    (() => {\n",
              "      let quickchartButtonEl =\n",
              "        document.querySelector('#df-4d845aee-0e9f-47cd-80cb-79439adf9aea button');\n",
              "      quickchartButtonEl.style.display =\n",
              "        google.colab.kernel.accessAllowed ? 'block' : 'none';\n",
              "    })();\n",
              "  </script>\n",
              "</div>\n",
              "    </div>\n",
              "  </div>\n"
            ]
          },
          "metadata": {},
          "execution_count": 374
        }
      ],
      "source": [
        "df_all.head()"
      ]
    },
    {
      "cell_type": "markdown",
      "metadata": {
        "id": "y2_c8lTx8uuL"
      },
      "source": [
        "#Connecting course to subject"
      ]
    },
    {
      "cell_type": "code",
      "execution_count": null,
      "metadata": {
        "colab": {
          "base_uri": "https://localhost:8080/"
        },
        "id": "79zvrUQ984m9",
        "outputId": "77c8ee4c-0e09-42f2-c710-6c6e8256ac6c"
      },
      "outputs": [
        {
          "output_type": "stream",
          "name": "stdout",
          "text": [
            "Traceback (most recent call last):\n",
            "  File \"/usr/local/bin/gdown\", line 8, in <module>\n",
            "    sys.exit(main())\n",
            "  File \"/usr/local/lib/python3.10/dist-packages/gdown/cli.py\", line 156, in main\n",
            "    filename = download(\n",
            "  File \"/usr/local/lib/python3.10/dist-packages/gdown/download.py\", line 259, in download\n",
            "    filename_from_url = m.groups()[0]\n",
            "AttributeError: 'NoneType' object has no attribute 'groups'\n"
          ]
        }
      ],
      "source": [
        "!gdown 1b7t7hPuydvNfrchwLJr-z7clLjY4rQ75"
      ]
    },
    {
      "cell_type": "code",
      "execution_count": null,
      "metadata": {
        "id": "ZfjI3sCF8zGR"
      },
      "outputs": [],
      "source": [
        "subjects = pd.read_csv('/content/drive/MyDrive/subjects.csv')"
      ]
    },
    {
      "cell_type": "code",
      "execution_count": null,
      "metadata": {
        "colab": {
          "base_uri": "https://localhost:8080/",
          "height": 35
        },
        "id": "2afc389UxtEs",
        "outputId": "f021e1e6-03c5-4bf4-bb5a-159c95afdfb1"
      },
      "outputs": [
        {
          "output_type": "execute_result",
          "data": {
            "text/plain": [
              "'Калкулус'"
            ],
            "application/vnd.google.colaboratory.intrinsic+json": {
              "type": "string"
            }
          },
          "metadata": {},
          "execution_count": 376
        }
      ],
      "source": [
        "fr = subjects[subjects[\"Name_x\"].str.contains(\"Калкулус\", case=False, na=False)]\n",
        "subjects[subjects[\"Name_x\"]==\"Калкулус\"]\n",
        "fr.iloc[0][\"Name_x\"]"
      ]
    },
    {
      "cell_type": "code",
      "execution_count": null,
      "metadata": {
        "colab": {
          "base_uri": "https://localhost:8080/",
          "height": 205
        },
        "id": "pwQN-Bwy92gb",
        "outputId": "cab137a3-23d2-4294-ff82-a6849267f201"
      },
      "outputs": [
        {
          "output_type": "execute_result",
          "data": {
            "text/plain": [
              "               Name_x     Code_x  \\\n",
              "0  Бизнис и менаџмент  F18L1W005   \n",
              "\n",
              "                                           Content_x  \\\n",
              "0  Развој на менаџерски способности: техничка, ко...   \n",
              "\n",
              "                                         Description Prerequisite  \\\n",
              "0  Развој на менаџерски способности: техничка, ко...          NaN   \n",
              "\n",
              "                                            Weekly_x      Id  Level_x  \\\n",
              "0  Основни поими и дефиниции на менаџмент; претпр...  L1W005      1.0   \n",
              "\n",
              "  Semester Type_x              Name_y             Name_English     Code_y  \\\n",
              "0               W  Бизнис и менаџмент  Business and Management  F23L1W005   \n",
              "\n",
              "  Requirements                                          Content_y  Level_y  \\\n",
              "0          NaN  Развој на менаџерски способности: техничка, ко...      1.0   \n",
              "\n",
              "  Semester Type_y                                           Weekly_y  \n",
              "0               W  Предавања:\\t1. Менаџерите на своето работно ме...  "
            ],
            "text/html": [
              "\n",
              "  <div id=\"df-c5f6c8d7-915b-49ba-a9ef-82cdc4a6f99d\" class=\"colab-df-container\">\n",
              "    <div>\n",
              "<style scoped>\n",
              "    .dataframe tbody tr th:only-of-type {\n",
              "        vertical-align: middle;\n",
              "    }\n",
              "\n",
              "    .dataframe tbody tr th {\n",
              "        vertical-align: top;\n",
              "    }\n",
              "\n",
              "    .dataframe thead th {\n",
              "        text-align: right;\n",
              "    }\n",
              "</style>\n",
              "<table border=\"1\" class=\"dataframe\">\n",
              "  <thead>\n",
              "    <tr style=\"text-align: right;\">\n",
              "      <th></th>\n",
              "      <th>Name_x</th>\n",
              "      <th>Code_x</th>\n",
              "      <th>Content_x</th>\n",
              "      <th>Description</th>\n",
              "      <th>Prerequisite</th>\n",
              "      <th>Weekly_x</th>\n",
              "      <th>Id</th>\n",
              "      <th>Level_x</th>\n",
              "      <th>Semester Type_x</th>\n",
              "      <th>Name_y</th>\n",
              "      <th>Name_English</th>\n",
              "      <th>Code_y</th>\n",
              "      <th>Requirements</th>\n",
              "      <th>Content_y</th>\n",
              "      <th>Level_y</th>\n",
              "      <th>Semester Type_y</th>\n",
              "      <th>Weekly_y</th>\n",
              "    </tr>\n",
              "  </thead>\n",
              "  <tbody>\n",
              "    <tr>\n",
              "      <th>0</th>\n",
              "      <td>Бизнис и менаџмент</td>\n",
              "      <td>F18L1W005</td>\n",
              "      <td>Развој на менаџерски способности: техничка, ко...</td>\n",
              "      <td>Развој на менаџерски способности: техничка, ко...</td>\n",
              "      <td>NaN</td>\n",
              "      <td>Основни поими и дефиниции на менаџмент; претпр...</td>\n",
              "      <td>L1W005</td>\n",
              "      <td>1.0</td>\n",
              "      <td>W</td>\n",
              "      <td>Бизнис и менаџмент</td>\n",
              "      <td>Business and Management</td>\n",
              "      <td>F23L1W005</td>\n",
              "      <td>NaN</td>\n",
              "      <td>Развој на менаџерски способности: техничка, ко...</td>\n",
              "      <td>1.0</td>\n",
              "      <td>W</td>\n",
              "      <td>Предавања:\\t1. Менаџерите на своето работно ме...</td>\n",
              "    </tr>\n",
              "  </tbody>\n",
              "</table>\n",
              "</div>\n",
              "    <div class=\"colab-df-buttons\">\n",
              "\n",
              "  <div class=\"colab-df-container\">\n",
              "    <button class=\"colab-df-convert\" onclick=\"convertToInteractive('df-c5f6c8d7-915b-49ba-a9ef-82cdc4a6f99d')\"\n",
              "            title=\"Convert this dataframe to an interactive table.\"\n",
              "            style=\"display:none;\">\n",
              "\n",
              "  <svg xmlns=\"http://www.w3.org/2000/svg\" height=\"24px\" viewBox=\"0 -960 960 960\">\n",
              "    <path d=\"M120-120v-720h720v720H120Zm60-500h600v-160H180v160Zm220 220h160v-160H400v160Zm0 220h160v-160H400v160ZM180-400h160v-160H180v160Zm440 0h160v-160H620v160ZM180-180h160v-160H180v160Zm440 0h160v-160H620v160Z\"/>\n",
              "  </svg>\n",
              "    </button>\n",
              "\n",
              "  <style>\n",
              "    .colab-df-container {\n",
              "      display:flex;\n",
              "      gap: 12px;\n",
              "    }\n",
              "\n",
              "    .colab-df-convert {\n",
              "      background-color: #E8F0FE;\n",
              "      border: none;\n",
              "      border-radius: 50%;\n",
              "      cursor: pointer;\n",
              "      display: none;\n",
              "      fill: #1967D2;\n",
              "      height: 32px;\n",
              "      padding: 0 0 0 0;\n",
              "      width: 32px;\n",
              "    }\n",
              "\n",
              "    .colab-df-convert:hover {\n",
              "      background-color: #E2EBFA;\n",
              "      box-shadow: 0px 1px 2px rgba(60, 64, 67, 0.3), 0px 1px 3px 1px rgba(60, 64, 67, 0.15);\n",
              "      fill: #174EA6;\n",
              "    }\n",
              "\n",
              "    .colab-df-buttons div {\n",
              "      margin-bottom: 4px;\n",
              "    }\n",
              "\n",
              "    [theme=dark] .colab-df-convert {\n",
              "      background-color: #3B4455;\n",
              "      fill: #D2E3FC;\n",
              "    }\n",
              "\n",
              "    [theme=dark] .colab-df-convert:hover {\n",
              "      background-color: #434B5C;\n",
              "      box-shadow: 0px 1px 3px 1px rgba(0, 0, 0, 0.15);\n",
              "      filter: drop-shadow(0px 1px 2px rgba(0, 0, 0, 0.3));\n",
              "      fill: #FFFFFF;\n",
              "    }\n",
              "  </style>\n",
              "\n",
              "    <script>\n",
              "      const buttonEl =\n",
              "        document.querySelector('#df-c5f6c8d7-915b-49ba-a9ef-82cdc4a6f99d button.colab-df-convert');\n",
              "      buttonEl.style.display =\n",
              "        google.colab.kernel.accessAllowed ? 'block' : 'none';\n",
              "\n",
              "      async function convertToInteractive(key) {\n",
              "        const element = document.querySelector('#df-c5f6c8d7-915b-49ba-a9ef-82cdc4a6f99d');\n",
              "        const dataTable =\n",
              "          await google.colab.kernel.invokeFunction('convertToInteractive',\n",
              "                                                    [key], {});\n",
              "        if (!dataTable) return;\n",
              "\n",
              "        const docLinkHtml = 'Like what you see? Visit the ' +\n",
              "          '<a target=\"_blank\" href=https://colab.research.google.com/notebooks/data_table.ipynb>data table notebook</a>'\n",
              "          + ' to learn more about interactive tables.';\n",
              "        element.innerHTML = '';\n",
              "        dataTable['output_type'] = 'display_data';\n",
              "        await google.colab.output.renderOutput(dataTable, element);\n",
              "        const docLink = document.createElement('div');\n",
              "        docLink.innerHTML = docLinkHtml;\n",
              "        element.appendChild(docLink);\n",
              "      }\n",
              "    </script>\n",
              "  </div>\n",
              "\n",
              "    </div>\n",
              "  </div>\n"
            ]
          },
          "metadata": {},
          "execution_count": 377
        }
      ],
      "source": [
        "subjects.head(1)"
      ]
    },
    {
      "cell_type": "code",
      "execution_count": null,
      "metadata": {
        "id": "r9DRC8-2Cosz"
      },
      "outputs": [],
      "source": [
        "courses = set()\n",
        "inds=[]\n",
        "year = []\n",
        "for index, row in df_all.iterrows():\n",
        "  courses.add(row[\"Course\"])"
      ]
    },
    {
      "cell_type": "code",
      "execution_count": null,
      "metadata": {
        "colab": {
          "base_uri": "https://localhost:8080/"
        },
        "id": "xQf9vGthfODx",
        "outputId": "87337a92-a795-4b14-8efd-e29fc405b10f"
      },
      "outputs": [
        {
          "output_type": "execute_result",
          "data": {
            "text/plain": [
              "Index(['Name_x', 'Code_x', 'Content_x', 'Description', 'Prerequisite',\n",
              "       'Weekly_x', 'Id', 'Level_x', 'Semester Type_x', 'Name_y',\n",
              "       'Name_English', 'Code_y', 'Requirements', 'Content_y', 'Level_y',\n",
              "       'Semester Type_y', 'Weekly_y'],\n",
              "      dtype='object')"
            ]
          },
          "metadata": {},
          "execution_count": 379
        }
      ],
      "source": [
        "subjects.columns"
      ]
    },
    {
      "cell_type": "code",
      "source": [
        "d_df = pd.read_excel('/content/drive/MyDrive/connection5.xlsx')"
      ],
      "metadata": {
        "id": "wdRlnn545pl6"
      },
      "execution_count": null,
      "outputs": []
    },
    {
      "cell_type": "code",
      "source": [
        "d_df.columns"
      ],
      "metadata": {
        "colab": {
          "base_uri": "https://localhost:8080/"
        },
        "id": "T7rBioE25rK9",
        "outputId": "a6180209-afb5-49f5-a44c-361c0231b03c"
      },
      "execution_count": null,
      "outputs": [
        {
          "output_type": "execute_result",
          "data": {
            "text/plain": [
              "Index(['Unnamed: 0', 'Subject_Id', 'Subject', 'Course-abr', 'Course', 'Label'], dtype='object')"
            ]
          },
          "metadata": {},
          "execution_count": 381
        }
      ]
    },
    {
      "cell_type": "code",
      "source": [
        "corr = {}\n",
        "for i, row in d_df.iterrows():\n",
        "  if row[\"Label\"] == 1:\n",
        "    corr[row['Course-abr']] = row['Subject']"
      ],
      "metadata": {
        "id": "rb9fANQl5sZY"
      },
      "execution_count": null,
      "outputs": []
    },
    {
      "cell_type": "markdown",
      "source": [
        "In d we connect all of the courses with their subjects and ids. Later we will use this dict to add subjects to the df_all."
      ],
      "metadata": {
        "id": "LfqT7k2P5Ho8"
      }
    },
    {
      "cell_type": "code",
      "execution_count": null,
      "metadata": {
        "colab": {
          "base_uri": "https://localhost:8080/"
        },
        "id": "PBlFmVnv96Eg",
        "outputId": "431c2070-d074-4500-ce8d-76ede0c68e0c"
      },
      "outputs": [
        {
          "output_type": "stream",
          "name": "stderr",
          "text": [
            "100%|██████████| 1031/1031 [00:24<00:00, 42.46it/s]"
          ]
        },
        {
          "output_type": "stream",
          "name": "stdout",
          "text": [
            "Courses not connected: {'развојни процеси на информациски системи-//l': ['Развојни процеси на информациски системи-2019/2020/L', 'Развојни процеси на информациски системи-2020/2021/L'], 'менаџмент на човечки ресурси-//z': ['Менаџмент на човечки ресурси-2021/2022/Z', 'Менаџмент на човечки ресурси-2022/2023/Z', 'Менаџмент на човечки ресурси-2020/2021/Z', 'Менаџмент на човечки ресурси-2019/2020/Z', 'Менаџмент на човечки ресурси-2018/2019/Z', 'Менаџмент на човечки ресурси-2023/2024/Z'], 'дигитална електроника-//l': ['Дигитална електроника-2019/2020/L', 'Дигитална електроника-2020/2021/L', 'Дигитална електроника-2018/2019/L'], 'виртуелизирани податочни центри-//z': ['Виртуелизирани податочни центри-2019/2020/Z', 'Виртуелизирани податочни центри-2021/2022/Z', 'Виртуелизирани податочни центри-2022/2023/Z'], 'електротехника и компјутерски науки -': ['Електротехника и компјутерски науки 2018-2019', 'Електротехника и компјутерски науки 2019-2020', 'Електротехника и компјутерски науки 2020-2021', 'Електротехника и компјутерски науки 2021-2022'], 'апсолвенти финки-//z': ['Апсолвенти ФИНКИ-2023/2024/Z', 'Апсолвенти ФИНКИ-2022/2023/Z'], 'напредни мобилни и веб апликации-//z': ['Напредни мобилни и веб апликации-2018/2019/Z', 'Напредни мобилни и веб апликации-2019/2020/Z', 'Напредни мобилни и веб апликации-2020/2021/Z', 'Напредни мобилни и веб апликации-2022/2023/Z', 'Напредни мобилни и веб апликации-2021/2022/Z'], 'роботика-//l': ['Роботика-2018/2019/L', 'Роботика-2021/2022/L', 'Роботика-2019/2020/L'], 'персонални и ад хок мрежи-//z': ['Персонални и ад хок мрежи-2019/2020/Z', 'Персонални и ад хок мрежи-2020/2021/Z', 'Персонални и ад хок мрежи-2018/2019/Z'], 'шаблони за дизајн на софтвер-//z': ['Шаблони за дизајн на софтвер-2023/2024/Z', 'Шаблони за дизајн на софтвер-2018/2019/Z', 'Шаблони за дизајн на софтвер-2022/2023/Z', 'Шаблони за дизајн на софтвер-2021/2022/Z', 'Шаблони за дизајн на софтвер-2019/2020/Z', 'Шаблони за дизајн на софтвер-2020/2021/Z'], 'стратегиски менаџмент во ит-//l': ['Стратегиски менаџмент во ИТ-2022/2023/L', 'Стратегиски менаџмент во ИТ-2021/2022/L', 'Стратегиски менаџмент во ИТ-2020/2021/L', 'Стратегиски менаџмент во ИТ-2019/2020/L', 'Стратегиски менаџмент во ИТ-2018/2019/L'], 'анализа на софтверски барања-//z': ['Анализа на софтверски барања-2018/2019/Z', 'Анализа на софтверски барања-2019/2020/Z'], 'devops софтверски развој-//z': ['DevOps софтверски развој-2020/2021/Z', 'DevOps софтверски развој-2022/2023/Z', 'DevOps софтверски развој-2021/2022/Z', 'DevOps софтверски развој-2023/2024/Z', 'DevOps софтверски развој-2018/2019/Z', 'DevOps софтверски развој-2019/2020/Z'], 'складишта на податоци и аналитичка обработка-//l': ['Складишта на податоци и аналитичка обработка-2020/2021/L', 'Складишта на податоци и аналитичка обработка-2018/2019/L', 'Складишта на податоци и аналитичка обработка-2019/2020/L'], 'напредно управување со софтверски проекти-//z': ['Напредно управување со софтверски проекти-2019/2020/Z', 'Напредно управување со софтверски проекти-2022/2023/Z', 'Напредно управување со софтверски проекти-2021/2022/Z', 'Напредно управување со софтверски проекти-2023/2024/Z', 'Напредно управување со софтверски проекти-2020/2021/Z', 'Напредно управување со софтверски проекти-2018/2019/Z'], 'компјутерски подржано производство -': ['Компјутерски подржано производство 2018-2019', 'Компјутерски подржано производство 2019-2020', 'Компјутерски подржано производство 2022-2023', 'Компјутерски подржано производство 2021-2022', 'Компјутерски подржано производство 2020-2021', 'Компјутерски подржано производство 2023-2024'], 'управување со животен циклус на софтвер-//z': ['Управување со животен циклус на софтвер-2020/2021/Z', 'Управување со животен циклус на софтвер-2021/2022/Z', 'Управување со животен циклус на софтвер-2023/2024/Z', 'Управување со животен циклус на софтвер-2018/2019/Z', 'Управување со животен циклус на софтвер-2022/2023/Z', 'Управување со животен циклус на софтвер-2019/2020/Z'], 'менаџмент на икt-//z': ['Менаџмент на ИКT-2019/2020/Z', 'Менаџмент на ИКT-2021/2022/Z'], 'мрежи од следната генерација-//z': ['Мрежи од следната генерација-2019/2020/Z', 'Мрежи од следната генерација-2018/2019/Z', 'Мрежи од следната генерација-2021/2022/Z'], 'линеарна алгебра-//z': ['Линеарна алгебра-2018/2019/Z', 'Линеарна алгебра-2019/2020/Z'], 'менаџмент на мал бизнис-//l': ['Менаџмент на мал бизнис-2022/2023/L', 'Менаџмент на мал бизнис-2018/2019/L'], 'управување со квалитетот на софтверот-//l': ['Управување со квалитетот на софтверот-2019/2020/L', 'Управување со квалитетот на софтверот-2021/2022/L', 'Управување со квалитетот на софтверот-2020/2021/L', 'Управување со квалитетот на софтверот-2022/2023/L', 'Управување со квалитетот на софтверот-2018/2019/L'], 'напредно инженерство на софтверски барања-//l': ['Напредно инженерство на софтверски барања-2018/2019/L', 'Напредно инженерство на софтверски барања-2019/2020/L', 'Напредно инженерство на софтверски барања-2022/2023/L', 'Напредно инженерство на софтверски барања-2021/2022/L', 'Напредно инженерство на софтверски барања-2020/2021/L'], 'мрежен софтвер-//z': ['Мрежен софтвер-2019/2020/Z', 'Мрежен софтвер-2018/2019/Z'], 'статистичко прoграмирање-//z': ['Статистичко прoграмирање-2021/2022/Z'], 'бајесова анализа на податоци-//z': ['Бајесова анализа на податоци-2021/2022/Z', 'Бајесова анализа на податоци-2020/2021/Z'], 'развојни процеси на информациски системи - //l': ['Развојни процеси на информациски системи - 2018/2019/L'], 'безбедност на компјутерски системи-//l': ['Безбедност на компјутерски системи-2019/2020/L', 'Безбедност на компјутерски системи-2018/2019/L'], 'data science -/': ['Data Science -2023/24'], 'физички дизајн и имплементација на информациски системи - //l': ['Физички дизајн и имплементација на информациски системи - 2018/2019/L', 'Физички дизајн и имплементација на информациски системи - 2021/2022/L'], 'скалабилност и повеќестанарство за saas апликации-//z': ['Скалабилност и повеќестанарство за SaaS апликации-2020/2021/Z', 'Скалабилност и повеќестанарство за SaaS апликации-2022/2023/Z', 'Скалабилност и повеќестанарство за SaaS апликации-2021/2022/Z'], 'data science-//z': ['Data Science-2023/2024/Z'], 'процесирање информации во биолошки системи-//z': ['Процесирање информации во биолошки системи-2020/2021/Z', 'Процесирање информации во биолошки системи-2021/2022/Z'], 'системска анализа и дизајн -': ['Системска анализа и дизајн 2018-2019', 'Системска анализа и дизајн 2019-2020', 'Системска анализа и дизајн 2020-2021', 'Системска анализа и дизајн 2021-2022'], 'мултимедијален и скалабилен веб-//z': ['Мултимедијален и скалабилен веб-2019/2020/Z', 'Мултимедијален и скалабилен веб-2022/2023/Z'], 'introduction to data science-//z': ['Introduction to Data Science-2021/2022/Z', 'Introduction to Data Science-2023/2024/Z', 'Introduction to Data Science-2022/2023/Z'], 'ка-/': ['КА-21/22'], 'инженерска етика-//l': ['Инженерска етика-2020/2021/L', 'Инженерска етика-2021/2022/L'], 'логичко и функционално програмирање-//z': ['Логичко и функционално програмирање-2019/2020/Z', 'Логичко и функционално програмирање-2020/2021/Z', 'Логичко и функционално програмирање-2018/2019/Z'], 'системи на знаење-//z': ['Системи на знаење-2022/2023/Z', 'Системи на знаење-2020/2021/Z', 'Системи на знаење-2019/2020/Z', 'Системи на знаење-2023/2024/Z', 'Системи на знаење-2021/2022/Z', 'Системи на знаење-2018/2019/Z'], 'devops во мрежна околина-//l': ['DevOps во мрежна околина-2018/2019/L'], 'администрирање на ит системи-//l': ['Администрирање на ИТ системи-2020/2021/L', 'Администрирање на ИТ системи-2018/2019/L', 'Администрирање на ИТ системи-2019/2020/L'], 'анализа и предвидување на временски серии-//z': ['Анализа и предвидување на временски серии-2021/2022/Z'], 'стручни студии – ввкн -//z': ['Стручни студии – ВВКН -2023/2024/Z'], 'вовед во биоинформатика-//l': ['Вовед во биоинформатика-2020/2021/L', 'Вовед во биоинформатика-2018/2019/L', 'Вовед во биоинформатика-2019/2020/L'], 'менаџмент на икт-//z': ['Менаџмент на ИКТ-2022/2023/Z', 'Менаџмент на ИКТ-2018/2019/Z', 'Менаџмент на ИКТ-2020/21/Z'], 'интернет безбедност и приватност-//z': ['Интернет безбедност и приватност-2018/2019/Z'], 'стручни студии – сп -//z': ['Стручни студии – СП -2023/2024/Z'], 'вградливи компјутерски системи-//l': ['Вградливи компјутерски системи-2018/2019/L'], 'компајлери-//l': ['Компајлери-2018/2019/L', 'Компајлери-2019/2020/L'], 'дигитално процесирање на сигнали-//l': ['Дигитално процесирање на сигнали-2018/2019/L', 'Дигитално процесирање на сигнали-2019/2020/L'], 'е-бизнис-//z': ['Е-бизнис-2023/2024/Z', 'Е-бизнис-2021/2022/Z', 'Е-бизнис-2020/21/Z', 'Е-бизнис-2018/2019/Z', 'Е-бизнис-2019/2020/Z'], 'виртуелни општества -//z': ['Виртуелни општества -2020/2021/Z', 'Виртуелни општества -2023/2024/Z', 'Виртуелни општества -2021/2022/Z', 'Виртуелни општества -2022/2023/Z', 'Виртуелни општества -2019/2020/Z', 'Виртуелни општества -2018/2019/Z'], 'управување со мрежи-//l': ['Управување со мрежи-2018/2019/L', 'Управување со мрежи-2019/2020/L'], 'скалабилни платформи за развој во облак-//z': ['Скалабилни платформи за развој во облак-2019/2020/Z'], 'скалабилност и повеќестанарство за saas апликации-//l': ['Скалабилност и повеќестанарство за SaaS апликации-2020/2021/L'], 'методи на статистичко заклучување-//z и линеарни модели-//l': ['Методи на статистичко заклучување-2019/2020/Z и Линеарни модели-2019/2020/L'], 'стручни студии – интернет програмирање -//z': ['Стручни студии – Интернет програмирање -2023/2024/Z'], 'test course - //l': ['Test course - 2019/2020/L'], 'пишување и презентирање на научен труд - //z': ['Пишување и презентирање на научен труд - 2020/2021/Z'], 'моделирање и фузирање на неструктурирани податоци-//z': ['Моделирање и фузирање на неструктурирани податоци-2023/2024/Z', 'Моделирање и фузирање на неструктурирани податоци-2018/2019/Z'], 'пресметување со високи перформанси-//z': ['Пресметување со високи перформанси-2018/2019/Z'], 'вовед во интернет-//z': ['Вовед во интернет-2018/2019/Z'], 'business //z': ['Business 2023/2024/Z'], 'наука базирана на податоци (data science)-//z': ['Наука базирана на податоци (Data Science)-2020/2021/Z'], 'регресиони модели-//l': ['Регресиони модели-2021/2022/L', 'Регресиони модели-2020/2021/L'], 'алгоритми и сложеност-//l': ['Алгоритми и сложеност-2018/2019/L'], 'софтверски архитектури-//l': ['Софтверски архитектури-2020/2021/L'], 'администрација на мрежни сервиси-//z': ['Администрација на мрежни сервиси-2020/2021/Z', 'Администрација на мрежни сервиси-2019/2020/Z', 'Администрација на мрежни сервиси-2018/2019/Z'], 'ict management    -//z': ['ICT Management    -2023/2024/Z'], 'основи на телекомуникации-//z': ['Основи на Телекомуникации-2018/2019/Z'], 'аналитика на големи податоци-//z': ['Аналитика на големи податоци-2019/2020/Z'], 'системска анализа и дизајн-//z': ['Системска анализа и дизајн-2022/2023/Z'], 'e-business -//z': ['E-business -2022/2023/Z'], 'вовед во роботика-//z': ['Вовед во роботика-2018/2019/Z', 'Вовед во роботика-2019/2020/Z'], 'случајни процеси-//l': ['Случајни процеси-2018/2019/L'], 'теорија на сообраќај-//l': ['Теорија на сообраќај-2018/2019/L'], 'паметен град (smart city)-//z': ['Паметен Град (Smart City)-2020/2021/Z'], 'анализа на податоци со статистички пакети-//z': ['Анализа на податоци со статистички пакети-2020/2021/Z'], 'бајесова анализа на податоци-//l': ['Бајесова анализа на податоци-2019/2020/L'], 'вовед во асистивни технологии - //z': ['Вовед во асистивни технологии - 2021/2022/Z']}\n"
          ]
        },
        {
          "output_type": "stream",
          "name": "stderr",
          "text": [
            "\n"
          ]
        }
      ],
      "source": [
        "from tqdm import tqdm\n",
        "s = {}\n",
        "s1 = set()\n",
        "d = {}\n",
        "\n",
        "\n",
        "\n",
        "for course in tqdm(courses):\n",
        "    lol = course\n",
        "    course = course.lower()\n",
        "    integers = [int(match) for match in re.findall(r'\\d+', course)]\n",
        "    course = course.replace(str(integers[-1]), \"\")\n",
        "    course = course.replace(str(integers[-2]), \"\")\n",
        "\n",
        "    if course in corr:\n",
        "      course = corr[course].lower()\n",
        "\n",
        "    connected = False\n",
        "\n",
        "    for index1, row1 in subjects.iterrows():\n",
        "        name18 = row1[\"Name_x\"]\n",
        "        name23 = row1[\"Name_y\"]\n",
        "        name_е = row1[\"Name_English\"]\n",
        "\n",
        "        if not pd.isna(name18):\n",
        "            name18 = name18.lower()\n",
        "            if name18 in course:\n",
        "                connected = True\n",
        "                d[lol] = (row1[\"Name_x\"], row1[\"Id\"])\n",
        "\n",
        "\n",
        "        if not connected and not pd.isna(name23):\n",
        "            name23 = name23.lower()\n",
        "            if name23 in course:\n",
        "                connected = True\n",
        "                d[lol] = (row1[\"Name_y\"], row1[\"Id\"])\n",
        "\n",
        "        if not connected and not pd.isna(name_е):\n",
        "            name_е = name_е.lower()\n",
        "            if name_е in course:\n",
        "                connected = True\n",
        "                d[lol] = (row1[\"Name_English\"], row1[\"Id\"])\n",
        "\n",
        "\n",
        "\n",
        "    if not connected:\n",
        "        if course not in s:\n",
        "          s[course] = []\n",
        "        s[course].append(lol)\n",
        "        s1.add(lol)\n",
        "\n",
        "# Print the set of courses not connected\n",
        "print(\"Courses not connected:\", s)"
      ]
    },
    {
      "cell_type": "code",
      "source": [
        "len(s1)"
      ],
      "metadata": {
        "colab": {
          "base_uri": "https://localhost:8080/"
        },
        "id": "Jae-s9kK6hGc",
        "outputId": "6bd0f7f6-d3c8-4996-99ca-8828e1163dd4"
      },
      "execution_count": null,
      "outputs": [
        {
          "output_type": "execute_result",
          "data": {
            "text/plain": [
              "192"
            ]
          },
          "metadata": {},
          "execution_count": 393
        }
      ]
    },
    {
      "cell_type": "markdown",
      "metadata": {
        "id": "Xz4sTPDoblgJ"
      },
      "source": [
        "Add the connected subjects to the course"
      ]
    },
    {
      "cell_type": "code",
      "execution_count": null,
      "metadata": {
        "colab": {
          "base_uri": "https://localhost:8080/"
        },
        "id": "i0nFpY8ObvWp",
        "outputId": "c23f2089-4ed9-4596-8bc2-b4fc99252bba"
      },
      "outputs": [
        {
          "output_type": "execute_result",
          "data": {
            "text/plain": [
              "Index(['Name', 'Email', 'Role', 'Course', 'Year'], dtype='object')"
            ]
          },
          "metadata": {},
          "execution_count": 394
        }
      ],
      "source": [
        "df_all.columns"
      ]
    },
    {
      "cell_type": "code",
      "execution_count": null,
      "metadata": {
        "id": "k5NGadE_cK_C"
      },
      "outputs": [],
      "source": [
        "import numpy as np"
      ]
    },
    {
      "cell_type": "code",
      "execution_count": null,
      "metadata": {
        "id": "FW6sF6wiboLb"
      },
      "outputs": [],
      "source": [
        "c_subjects = []\n",
        "c_ids = []\n",
        "for index, row in df_all.iterrows():\n",
        "  if row['Course'] in d:\n",
        "    c_subjects.append(d[row['Course']][0])\n",
        "    c_ids.append(d[row['Course']][1])\n",
        "  else:\n",
        "    c_subjects.append(np.nan)\n",
        "    c_ids.append(np.nan)"
      ]
    },
    {
      "cell_type": "code",
      "execution_count": null,
      "metadata": {
        "colab": {
          "base_uri": "https://localhost:8080/"
        },
        "id": "Qh46k1IRcMyM",
        "outputId": "d44ea6f0-9591-4e5c-b7bf-ab8e28a771bf"
      },
      "outputs": [
        {
          "output_type": "execute_result",
          "data": {
            "text/plain": [
              "True"
            ]
          },
          "metadata": {},
          "execution_count": 397
        }
      ],
      "source": [
        "len(c_subjects) == len(df_all)"
      ]
    },
    {
      "cell_type": "code",
      "execution_count": null,
      "metadata": {
        "colab": {
          "base_uri": "https://localhost:8080/"
        },
        "id": "-2tSKxnicTbb",
        "outputId": "12b376e9-2caf-401f-ed85-00b1963b1d46"
      },
      "outputs": [
        {
          "output_type": "execute_result",
          "data": {
            "text/plain": [
              "['Машинска визија',\n",
              " 'Интернет програмирање на клиентска страна',\n",
              " 'Компјутерска етика',\n",
              " 'Пресметување во облак',\n",
              " 'Програмирање на видео игри',\n",
              " nan,\n",
              " 'Databases',\n",
              " 'Алгоритми и податочни структури',\n",
              " 'Бази на податоци',\n",
              " 'Дистрибуирани системи']"
            ]
          },
          "metadata": {},
          "execution_count": 398
        }
      ],
      "source": [
        "c_subjects[0:10]"
      ]
    },
    {
      "cell_type": "markdown",
      "metadata": {
        "id": "sG5kZS1wcZFr"
      },
      "source": [
        "Create a new column named subject."
      ]
    },
    {
      "cell_type": "code",
      "execution_count": null,
      "metadata": {
        "id": "_6RSTEZXcXf8"
      },
      "outputs": [],
      "source": [
        "df_all[\"Subject\"] = c_subjects\n",
        "df_all[\"Subject_Id\"] = c_ids"
      ]
    },
    {
      "cell_type": "code",
      "source": [
        "filtered_df = df_all[df_all[\"Subject\"].isna()]"
      ],
      "metadata": {
        "id": "B1D_pEvd75v9"
      },
      "execution_count": null,
      "outputs": []
    },
    {
      "cell_type": "code",
      "source": [
        "len(filtered_df)"
      ],
      "metadata": {
        "colab": {
          "base_uri": "https://localhost:8080/"
        },
        "id": "qhj9lAgn78QO",
        "outputId": "d6ea4c32-57bc-471a-cd7c-e7d5733c6198"
      },
      "execution_count": null,
      "outputs": [
        {
          "output_type": "execute_result",
          "data": {
            "text/plain": [
              "5849"
            ]
          },
          "metadata": {},
          "execution_count": 401
        }
      ]
    },
    {
      "cell_type": "code",
      "source": [
        "filtered_df = df_all[df_all[\"Subject\"].isna()]"
      ],
      "metadata": {
        "id": "9J3usGNE798L"
      },
      "execution_count": null,
      "outputs": []
    },
    {
      "cell_type": "code",
      "source": [
        "len(filtered_df)"
      ],
      "metadata": {
        "colab": {
          "base_uri": "https://localhost:8080/"
        },
        "id": "OMXy38od8Aw0",
        "outputId": "fa35b096-0604-4052-dcb3-25d6d7e9d8a0"
      },
      "execution_count": null,
      "outputs": [
        {
          "output_type": "execute_result",
          "data": {
            "text/plain": [
              "5849"
            ]
          },
          "metadata": {},
          "execution_count": 414
        }
      ]
    },
    {
      "cell_type": "code",
      "source": [
        "s = {}\n",
        "for i,row in filtered_df.iterrows():\n",
        "  course = row[\"Course\"].lower()\n",
        "  integers = [int(match) for match in re.findall(r'\\d+', course)]\n",
        "  course = course.replace(str(integers[-1]), \"\")\n",
        "  course = course.replace(str(integers[-2]), \"\")\n",
        "  if course not in s:\n",
        "    s[course] = []\n",
        "  s[course].append(row[\"Course\"])"
      ],
      "metadata": {
        "id": "XxWgYGn78jxI"
      },
      "execution_count": null,
      "outputs": []
    },
    {
      "cell_type": "markdown",
      "source": [
        "Those courses that are missing a subject, print all of them which have number of stundets higher than 50."
      ],
      "metadata": {
        "id": "5XAi_oL9-eaC"
      }
    },
    {
      "cell_type": "code",
      "source": [
        "s1 = set()\n",
        "for key in tqdm(s):\n",
        "    num = get_students__by_course(s[key][0], neighbours= False, count=0, num = 0, student=True, debug=False)\n",
        "    if num > 50:\n",
        "      s1.add(key)"
      ],
      "metadata": {
        "colab": {
          "base_uri": "https://localhost:8080/"
        },
        "id": "1lUPDCtz9hCX",
        "outputId": "8e888013-1ae7-47eb-af43-cddc6ff90bcb"
      },
      "execution_count": null,
      "outputs": [
        {
          "output_type": "stream",
          "name": "stderr",
          "text": [
            "100%|██████████| 81/81 [00:36<00:00,  2.25it/s]\n"
          ]
        }
      ]
    },
    {
      "cell_type": "code",
      "source": [
        "s1"
      ],
      "metadata": {
        "colab": {
          "base_uri": "https://localhost:8080/"
        },
        "id": "H6cUVoyA-n50",
        "outputId": "4382baf7-6b4a-4fc0-df8b-c5a192e065a5"
      },
      "execution_count": null,
      "outputs": [
        {
          "output_type": "execute_result",
          "data": {
            "text/plain": [
              "{'апсолвенти финки-//z',\n",
              " 'вовед во интернет-//z',\n",
              " 'ка-/',\n",
              " 'системи на знаење-//z',\n",
              " 'системска анализа и дизајн -'}"
            ]
          },
          "metadata": {},
          "execution_count": 419
        }
      ]
    },
    {
      "cell_type": "code",
      "source": [
        "len(df_all)"
      ],
      "metadata": {
        "colab": {
          "base_uri": "https://localhost:8080/"
        },
        "id": "EjoVN0UnBFii",
        "outputId": "9cbab2c3-8fe0-46aa-d6e4-ad6a690f3330"
      },
      "execution_count": null,
      "outputs": [
        {
          "output_type": "execute_result",
          "data": {
            "text/plain": [
              "209989"
            ]
          },
          "metadata": {},
          "execution_count": 420
        }
      ]
    },
    {
      "cell_type": "code",
      "source": [
        "len(df_all[df_all[\"Subject\"].isna()])"
      ],
      "metadata": {
        "colab": {
          "base_uri": "https://localhost:8080/"
        },
        "id": "ePTfj_mNRzWr",
        "outputId": "bcee436b-a109-471d-a4ec-873175b8e32c"
      },
      "execution_count": null,
      "outputs": [
        {
          "output_type": "execute_result",
          "data": {
            "text/plain": [
              "0"
            ]
          },
          "metadata": {},
          "execution_count": 435
        }
      ]
    },
    {
      "cell_type": "code",
      "source": [
        "len(df_all[df_all[\"Subject\"].isna()])/len(df_all)*100"
      ],
      "metadata": {
        "colab": {
          "base_uri": "https://localhost:8080/"
        },
        "id": "JJoUZjpFBFfx",
        "outputId": "09a74163-7023-4b64-9a51-aa18abed62a2"
      },
      "execution_count": null,
      "outputs": [
        {
          "output_type": "execute_result",
          "data": {
            "text/plain": [
              "2.785383996304568"
            ]
          },
          "metadata": {},
          "execution_count": 422
        }
      ]
    },
    {
      "cell_type": "code",
      "source": [
        "df_all.dropna(subset=[\"Subject\"], inplace=True)"
      ],
      "metadata": {
        "id": "hNK0Xe3hB3Tj"
      },
      "execution_count": null,
      "outputs": []
    },
    {
      "cell_type": "code",
      "source": [
        "df_all[\"Subject\"].isna().sum()"
      ],
      "metadata": {
        "colab": {
          "base_uri": "https://localhost:8080/"
        },
        "id": "ssoMwq5SCDWG",
        "outputId": "d338b588-c6f0-4aa4-84e0-dd617e51cc2a"
      },
      "execution_count": null,
      "outputs": [
        {
          "output_type": "execute_result",
          "data": {
            "text/plain": [
              "0"
            ]
          },
          "metadata": {},
          "execution_count": 425
        }
      ]
    },
    {
      "cell_type": "code",
      "source": [
        "len(df_all)"
      ],
      "metadata": {
        "colab": {
          "base_uri": "https://localhost:8080/"
        },
        "id": "fVwQRf6mO_f4",
        "outputId": "ef92e7b9-4cf1-4309-b669-7186fcc985e2"
      },
      "execution_count": null,
      "outputs": [
        {
          "output_type": "execute_result",
          "data": {
            "text/plain": [
              "204140"
            ]
          },
          "metadata": {},
          "execution_count": 429
        }
      ]
    },
    {
      "cell_type": "code",
      "source": [
        "df_all.to_csv(\"/content/drive/MyDrive/students_courses.csv\")"
      ],
      "metadata": {
        "id": "Ot2SfO_1PB0w"
      },
      "execution_count": null,
      "outputs": []
    },
    {
      "cell_type": "markdown",
      "metadata": {
        "id": "DycVeQvac4TJ"
      },
      "source": [
        "Име на курс:\n",
        "\n",
        "Професори:\n",
        "\n",
        "Предмет:"
      ]
    },
    {
      "cell_type": "code",
      "source": [
        "s = set()\n",
        "for ind, row in df_all.iterrows():\n",
        "  s.add(row[\"Course\"])"
      ],
      "metadata": {
        "id": "WmJDCF_4Pe2h"
      },
      "execution_count": null,
      "outputs": []
    },
    {
      "cell_type": "code",
      "source": [
        "s"
      ],
      "metadata": {
        "colab": {
          "base_uri": "https://localhost:8080/"
        },
        "id": "TBMZPYbtPpi0",
        "outputId": "5790bd15-73cb-4852-ba18-4c7cf6bc2976"
      },
      "execution_count": null,
      "outputs": [
        {
          "output_type": "execute_result",
          "data": {
            "text/plain": [
              "{'Algorithms and Data Structures - 2018/2019/Z',\n",
              " 'Algorithms and Data Structures-2019/2020/Z',\n",
              " 'Algorithms and Data Structures-2020/2021/Z',\n",
              " 'Algorithms and Data Structures-2021/2022/Z',\n",
              " 'Algorithms and Data Structures-2022/2023/Z',\n",
              " 'Artificial Intelligence-2018/2019/S',\n",
              " 'Computer Architecture and Organization-2018/2019/L',\n",
              " 'Computer Architecture and Organization-2019/2020/L',\n",
              " 'Computer Architecture and Organization-2020/2021/L',\n",
              " 'Computer Architecture and Organization-2021/2022/L',\n",
              " 'Computer Architecture and Organization-2022/2023/L',\n",
              " 'Computer Networks - 2018/2019/Z',\n",
              " 'Computer Networks and Security-2019/2020/Z',\n",
              " 'Computer Networks and Security-2020/2021/Z',\n",
              " 'Computer Networks and Security-2021/2022/Z',\n",
              " 'Computer Networks and Security-2022/2023/Z',\n",
              " 'Computer Networks and Security-2023/2024/Z',\n",
              " 'Databases - 2018/2019/Z',\n",
              " 'Databases - 2019/2020/Z',\n",
              " 'Databases-2020/2021/Z',\n",
              " 'Databases-2021/2022/Z',\n",
              " 'Databases-2022/2023/Z',\n",
              " 'Databases-2023/2024/Z',\n",
              " 'Discrete Mathematics-2018/2019/L',\n",
              " 'Discrete Mathematics-2020/2021/L',\n",
              " 'Discrete Mathematics-2021/2022/L',\n",
              " 'Discrete Mathematics-2022/2023/L',\n",
              " 'EMT-21/22',\n",
              " 'Human-computer interaction design-2022/2023/L',\n",
              " 'Introduction to Computer Science -2023/2024/Z',\n",
              " 'Mathematics 1 / Calculus (foreign students) 2023/2024/Z',\n",
              " 'Object Oriented Analysis and Design-2018/2019/L',\n",
              " 'Object Oriented Analysis and Design-2019/2020/L',\n",
              " 'Object Oriented Analysis and Design-2020/2021/L',\n",
              " 'Object Oriented Analysis and Design-2021/2022/L',\n",
              " 'Object Oriented Analysis and Design-2022/2023/L',\n",
              " 'Object oriented programming-2020/2021/L',\n",
              " 'Object oriented programming-2021/2022/L',\n",
              " 'Operating Systems-2018/2019/S',\n",
              " 'Professional skills 2023/2024/Z',\n",
              " 'Professional skills-2018/2019/Z',\n",
              " 'Professional skills-2019/2020/Z',\n",
              " 'Professional skills-2020/2021/Z',\n",
              " 'Professional skills-2021/2022/Z',\n",
              " 'Professional skills-2022/2023/Z',\n",
              " 'Professional skills-2023/2024/Z',\n",
              " 'Software quality and testing-2020/2021/L',\n",
              " 'Software quality and testing-2021/2022/L',\n",
              " 'Software quality and testing-2022/2023/L',\n",
              " 'Structural programming-2020/2021/Z',\n",
              " 'Structural programming-2021/2022/Z',\n",
              " 'Structural programming-2022/2023/Z',\n",
              " 'Structured programming 2023/2024 - English group',\n",
              " 'Агентно-базирани системи-2020/2021/L',\n",
              " 'Агентно-базирани системи-2021/2022/L',\n",
              " 'Агентно-базирани системи-2022/2023/L',\n",
              " 'Администрација на бази на податоци-2022/2023/Z',\n",
              " 'Администрација на бази на податоци-2023/2024/Z',\n",
              " 'Администрација на бази податоци - 2021/2022/Z',\n",
              " 'Администрација на мрежи-2020/2021/L',\n",
              " 'Администрација на мрежи-2021/2022/L',\n",
              " 'Администрација на мрежи-2022/2023/L',\n",
              " 'Администрација на системи-2021/2022/Z',\n",
              " 'Администрација на системи-2022/2023/Z',\n",
              " 'Администрација на системи-2023/2024/Z',\n",
              " 'Алгоритми и податочни структури -2018/2019/Z',\n",
              " 'Алгоритми и податочни структури-2019/2020/Z',\n",
              " 'Алгоритми и податочни структури-2020/2021/Z',\n",
              " 'Алгоритми и податочни структури-2021/2022/Z',\n",
              " 'Алгоритми и податочни структури-2022/2023/Z',\n",
              " 'Алгоритми и податочни структури-2023/2024/Z',\n",
              " 'Анализа и дизајн на ИС-2018/2019/Z',\n",
              " 'Анализа и дизајн на ИС-2019/2020/Z',\n",
              " 'Анализа и дизајн на ИС-2020/2021/Z',\n",
              " 'Анализа и дизајн на ИС-2021/2022/Z',\n",
              " 'Анализа и дизајн на ИС-2022/2023/Z',\n",
              " 'Анализа и дизајн на ИС-2023/2024/Z',\n",
              " 'Анализа на софтверските барања-2019/2020/L',\n",
              " 'Анализа на софтверските барања-2020/2021/L',\n",
              " 'Анализа на софтверските барања-2021/2022/L',\n",
              " 'Анализа на софтверските барања-2022/2023/L',\n",
              " 'Архитектура и организација на компјутери - СГ, ИМ, ММ - 2021/2022/Z',\n",
              " 'Архитектура и организација на компјутери-2018/2019/L',\n",
              " 'Архитектура и организација на компјутери-2019/2020/L',\n",
              " 'Архитектура и организација на компјутери-2020/2021/L',\n",
              " 'Архитектура и организација на компјутери-2021/2022/L',\n",
              " 'Архитектура и организација на компјутери-2022/2023/L',\n",
              " 'Бази на податоци - ВА - 2018/2019/Z',\n",
              " 'Бази на податоци - ВА - 2019/2020/Z',\n",
              " 'Бази на податоци - ВА - 2020/2021/Z',\n",
              " 'Бази на податоци - ВА - 2021/2022/Z',\n",
              " 'Бази на податоци - ВА - 2022/2023/Z',\n",
              " 'Бази на податоци - ВА - 2023/2024/Z',\n",
              " 'Бази на податоци - ГВ - 2018/2019/Z',\n",
              " 'Бази на податоци - ГВ - 2019/2020/Z',\n",
              " 'Бази на податоци - ГВ - 2020/2021/Z',\n",
              " 'Бази на податоци - ГВ - 2021/2022/Z',\n",
              " 'Бази на податоци - ГВ - 2022/2023/Z',\n",
              " 'Бази на податоци - ГВ - 2023/2024/Z',\n",
              " 'Бази на податоци - СК, КТ, ГМ - 2018/2019/Z',\n",
              " 'Бази на податоци - СК,КТ,ГМ - 2019/2020/Z',\n",
              " 'Бази на податоци - СК,КТ,ГМ,СГ - 2020/2021/Z',\n",
              " 'Бази на податоци - СК,КТ,ГМ,СГ - 2023/2024/Z',\n",
              " 'Бази на податоци - СК,КТ,СГ,ГМ - 2021/2022/Z',\n",
              " 'Бази на податоци - СК-КТ-ГМ-СГ-2022/2023/Z',\n",
              " 'Бази на податоци-2020/2021/Z',\n",
              " 'Бази на податоци-2021/2022/Z',\n",
              " 'Бази на податоци-2023/2024/Z',\n",
              " 'Безжични и мобилни системи-2018/2019/L',\n",
              " 'Безжични и мобилни системи-2019/2020/L',\n",
              " 'Безжични и мобилни системи-2020/2021/L',\n",
              " 'Безжични и мобилни системи-2021/2022/L',\n",
              " 'Безжични и мобилни системи-2022/2023/L',\n",
              " 'Безжични мултимедиски системи-2018/2019/L',\n",
              " 'Безжични мултимедиски системи-2019/2020/L',\n",
              " 'Безжични мултимедиски системи-2020/2021/L',\n",
              " 'Безжични мултимедиски системи-2021/2022/L',\n",
              " 'Безжични мултимедиски системи-2022/2023/L',\n",
              " 'Бизнис и менаџмент -2018/2019/L',\n",
              " 'Бизнис и менаџмент-2018/2019/Z',\n",
              " 'Бизнис и менаџмент-2019/2020/Z',\n",
              " 'Бизнис и менаџмент-2020/2021/Z',\n",
              " 'Бизнис и менаџмент-2021/2022/Z',\n",
              " 'Бизнис и менаџмент-2022/2023/Z',\n",
              " 'Бизнис и менаџмент-2023/2024/Z',\n",
              " 'Бизнис статистика-2018/2019/L',\n",
              " 'Бизнис статистика-2019/2020/L',\n",
              " 'Бизнис статистика-2020/2021/L',\n",
              " 'Бизнис статистика-2021/2022/L',\n",
              " 'Бизнис статистика-2022/2023/L',\n",
              " 'Биолошки инспирирано пресметување-2021/2022/L',\n",
              " 'Биолошки инспирирано пресметување-2022/2023/L',\n",
              " 'Блоковски вериги и криптовалути-2021/2022/L',\n",
              " 'Блоковски вериги и криптовалути-2022/2023/L',\n",
              " 'Вградливи микропроцесорски системи-2020/2021/L',\n",
              " 'Вградливи микропроцесорски системи-2021/2022/L',\n",
              " 'Вградливи микропроцесорски системи-2022/2023/L',\n",
              " 'Веб базирани системи-2018/2019/Z',\n",
              " 'Веб базирани системи-2019/2020/Z',\n",
              " 'Веб базирани системи-2020/2021/Z',\n",
              " 'Веб базирани системи-2021/2022/Z',\n",
              " 'Веб базирани системи-2022/2023/Z',\n",
              " 'Веб базирани системи-2023/2024/Z',\n",
              " 'Веб пребарувачки системи-2022/2023/L',\n",
              " 'Веб програмирање-2018/2019/Z',\n",
              " 'Веб програмирање-2019/2020/Z',\n",
              " 'Веб програмирање-2020/2021/Z',\n",
              " 'Веб програмирање-2021/2022',\n",
              " 'Веб програмирање-2022/2023/Z',\n",
              " 'Веб програмирање-2023/2024/Z',\n",
              " 'Веројатност и статистика / Probability and Statistics - 2019/2020/Z',\n",
              " 'Веројатност и статистика-2018/2019/Z',\n",
              " 'Веројатност и статистика-2020/2021/Z',\n",
              " 'Веројатност и статистика-2021/2022/Z',\n",
              " 'Веројатност и статистика-2022/2023/Z',\n",
              " 'Веројатност и статистика-2023/2024/Z',\n",
              " 'Вештачка интелигенција-2018/2019/L',\n",
              " 'Вештачка интелигенција-2019/2020/L',\n",
              " 'Вештачка интелигенција-2020/2021/L',\n",
              " 'Вештачка интелигенција-2021-22/L',\n",
              " 'Вештачка интелигенција-2022/2023/L',\n",
              " 'Визуелизација-2018/2019/Z',\n",
              " 'Визуелизација-2019/2020/Z',\n",
              " 'Визуелизација-2020/2021/Z',\n",
              " 'Визуелизација-2021/2022/Z',\n",
              " 'Визуелизација-2022/2023/Z',\n",
              " 'Визуелно програмирање-2018/2019/L',\n",
              " 'Визуелно програмирање-2019/2020/L',\n",
              " 'Визуелно програмирање-2020/2021/L',\n",
              " 'Визуелно програмирање-2021/2022/L',\n",
              " 'Визуелно програмирање-2022/2023/L',\n",
              " 'Виртуелизација и пресметување во облак -2018/2019/L',\n",
              " 'Виртуелизација и пресметување во облак -2019/2020/L',\n",
              " 'Виртуелизација и пресметување во облак -2020/2021/L',\n",
              " 'Виртуелизација и пресметување во облак -2021/2022/L',\n",
              " 'Виртуелизација-2020/2021/L',\n",
              " 'Виртуелизација-2021/2022/L',\n",
              " 'Виртуелизација-2022/2023/L',\n",
              " 'Виртуелна реалност -2018/2019/L',\n",
              " 'Виртуелна реалност -2019/2020/L',\n",
              " 'Виртуелна реалност -2020/2021/L',\n",
              " 'Виртуелна реалност -2021/2022/L',\n",
              " 'Виртуелна реалност -2022/2023/L',\n",
              " 'Вовед во биоинформатиката-2021/2022/Z',\n",
              " 'Вовед во биоинформатиката-2022/2023/Z',\n",
              " 'Вовед во биоинформатиката-2023/2024/Z',\n",
              " 'Вовед во екоинформатиката 2019-2020',\n",
              " 'Вовед во екоинформатиката 2020-2021',\n",
              " 'Вовед во екоинформатиката 2021-2022',\n",
              " 'Вовед во екоинформатиката 2022-2023',\n",
              " 'Вовед во когнитивни науки-2018/2019/L',\n",
              " 'Вовед во когнитивни науки-2019/2020/L',\n",
              " 'Вовед во когнитивни науки-2020/2021/L',\n",
              " 'Вовед во когнитивни науки-2021-22/L',\n",
              " 'Вовед во когнитивни науки-2022/2023/L',\n",
              " 'Вовед во компјутерските науки-2018/2019/Z',\n",
              " 'Вовед во компјутерските науки-2019/2020/Z',\n",
              " 'Вовед во компјутерските науки-2020/2021/Z',\n",
              " 'Вовед во компјутерските науки-2021/2022/Z',\n",
              " 'Вовед во компјутерските науки-2022/2023/Z',\n",
              " 'Вовед во компјутерските науки-2023/2024/Z',\n",
              " 'Вовед во мрежна наука-2020/2021/L',\n",
              " 'Вовед во мрежна наука-2021/2022/L',\n",
              " 'Вовед во мрежна наука-2022/2023/L',\n",
              " 'Вовед во науката за податоци-2020/2021/Z',\n",
              " 'Вовед во науката за податоци-2021/2022/Z',\n",
              " 'Вовед во науката за податоци-2022/2023/Z',\n",
              " 'Вовед во науката за податоци-2023/2024/Z',\n",
              " 'Вовед во паметни градови-2021/2022/Z',\n",
              " 'Вовед во паметни градови-2022/2023/Z',\n",
              " 'Вовед во паметни градови-2023/2024/Z',\n",
              " 'Вовед во препознавање на облици-2018/2019/Z',\n",
              " 'Вовед во препознавање на облици-2019/2020/Z',\n",
              " 'Вовед во препознавање на облици-2020/2021/Z',\n",
              " 'Вовед во препознавање на облици-2021/2022/Z',\n",
              " 'Вовед во препознавање на облици-2022/2023/Z',\n",
              " 'Вовед во препознавање на облици-2023/2024/Z',\n",
              " 'Вовед во случајни процеси-2019/2020/L',\n",
              " 'Вовед во случајни процеси-2021/2022/L',\n",
              " 'Вовед во случајни процеси-2022/2023/L',\n",
              " 'Географски информациски системи 2018-2019',\n",
              " 'Географски информациски системи 2019-2020',\n",
              " 'Географски информациски системи 2020-2021',\n",
              " 'Географски информациски системи 2021-2022',\n",
              " 'Географски информациски системи 2022-2023',\n",
              " 'Дигитален маркетинг-2020/2021/L',\n",
              " 'Дигитален маркетинг-2022/2023/L',\n",
              " 'Дигитална форензика-2020/2021/L',\n",
              " 'Дигитална форензика-2021/2022/L',\n",
              " 'Дигитална форензика-2022/2023/L',\n",
              " 'Дигитални библиотеки-2018/2019/L',\n",
              " 'Дигитални библиотеки-2019/2020/L',\n",
              " 'Дигитални библиотеки-2020/2021/L',\n",
              " 'Дигитални библиотеки-2021/2022/L',\n",
              " 'Дигитални библиотеки-2022/2023/L',\n",
              " 'Дигитално процесирање на слика-2019/2020/L',\n",
              " 'Дигитално процесирање на слика-2020/2021/L',\n",
              " 'Дигитално процесирање на слика-2021/2022/L',\n",
              " 'Дигитално процесирање на слика-2022/2023/L',\n",
              " 'Дигитизација и e-презентација-2018/2019/Z',\n",
              " 'Дигитизација и Е-презентација-2019/2020/Z',\n",
              " 'Дигитизација-2020/2021/Z',\n",
              " 'Дигитизација-2021/2022/Z',\n",
              " 'Дигитизација-2022/2023/Z',\n",
              " 'Дигитизација-2023/2024/Z',\n",
              " 'Дизајн и архитектура на софтвер-2018/2019/Z',\n",
              " 'Дизајн и архитектура на софтвер-2019/2020/Z',\n",
              " 'Дизајн и архитектура на софтвер-2020/2021/Z',\n",
              " 'Дизајн и архитектура на софтвер-2021/2022/Z',\n",
              " 'Дизајн и архитектура на софтвер-2022/2023/Z',\n",
              " 'Дизајн и архитектура на софтвер-2023/2024/Z',\n",
              " 'Дизајн на алгоритми-2019/2020/L',\n",
              " 'Дизајн на алгоритми-2020/2021/L',\n",
              " 'Дизајн на алгоритми-2021/2022/L',\n",
              " 'Дизајн на алгоритми-2022/2023/L',\n",
              " 'Дизајн на дигитални кола-2018/2019/Z',\n",
              " 'Дизајн на дигитални кола-2019/2020/Z',\n",
              " 'Дизајн на дигитални кола-2020/2021/Z',\n",
              " 'Дизајн на дигитални кола-2021/2022/Z',\n",
              " 'Дизајн на дигитални кола-2022/2023/Z',\n",
              " 'Дизајн на дигитални кола-2023/2024/Z',\n",
              " 'Дизајн на интеракцијата човек-компјутер-2020/2021/L',\n",
              " 'Дизајн на интеракцијата човек-компјутер-2021/2022/L',\n",
              " 'Дизајн на интеракцијата човек-компјутер-2022/2023/L',\n",
              " 'Дизајн на компјутерски мрежи-2018/2019/L',\n",
              " 'Дизајн на компјутерски мрежи-2019/2020/L',\n",
              " 'Дизајн на компјутерски мрежи-2020/2021/L',\n",
              " 'Дизајн на компјутерски мрежи-2021/2022/L',\n",
              " 'Дизајн на компјутерски мрежи-2022/2023/L',\n",
              " 'Дизајн на образовен софтвер-2018/2019/Z',\n",
              " 'Дизајн на образовен софтвер-2019/2020/Z',\n",
              " 'Дизајн на образовен софтвер-2020/2021/Z',\n",
              " 'Дизајн на образовен софтвер-2021/2022/Z',\n",
              " 'Дизајн на образовен софтвер-2022/2023/Z',\n",
              " 'Дизајн на образовен софтвер-2023/2024/Z',\n",
              " 'Дипломска работа-2018/2019/L',\n",
              " 'Дипломска работа-2019/2020/L',\n",
              " 'Дипломска работа-2020/2021/L',\n",
              " 'Дискретна математика 1-2018/2019/Z',\n",
              " 'Дискретна математика 1-2019/2020/Z',\n",
              " 'Дискретна математика 1-2020/2021/Z',\n",
              " 'Дискретна математика 1-2021/2022/Z',\n",
              " 'Дискретна математика 1-2022/2023/Z',\n",
              " 'Дискретна математика 2-2018/2019/L',\n",
              " 'Дискретна математика 2-2019/2020/L',\n",
              " 'Дискретна математика 2-2020/2021/L',\n",
              " 'Дискретна математика 2-2021/2022/L',\n",
              " 'Дискретна математика 2-2022/2023/L',\n",
              " 'Дискретна математика-2018/2019/L',\n",
              " 'Дискретна математика-2018/2019/Z',\n",
              " 'Дискретна математика-2019/2020/L',\n",
              " 'Дискретна математика-2019/2020/Z',\n",
              " 'Дискретна математика-2020/2021/L',\n",
              " 'Дискретна математика-2020/2021/Z',\n",
              " 'Дискретна математика-2021/2022/L',\n",
              " 'Дискретна математика-2021/2022/Z',\n",
              " 'Дискретна математика-2022/2023/L',\n",
              " 'Дискретна математика-2022/2023/Z',\n",
              " 'Дискретни структури 1-2018/2019/Z',\n",
              " 'Дискретни структури 1-2019/2020/Z',\n",
              " 'Дискретни структури 1-2020/2021/Z',\n",
              " 'Дискретни структури 1-2021/2022/Z',\n",
              " 'Дискретни структури 1-2022/2023/Z',\n",
              " 'Дискретни структури 1-2023/2024/Z',\n",
              " 'Дискретни структури 2-2018/2019/L',\n",
              " 'Дискретни структури 2-2019/2020/L',\n",
              " 'Дискретни структури 2-2020/2021/L',\n",
              " 'Дискретни структури 2-2021/2022/L',\n",
              " 'Дискретни структури 2-2022/2023/L',\n",
              " 'Дистрибуирани системи-2018/2019/Z',\n",
              " 'Дистрибуирани системи-2019/2020/Z',\n",
              " 'Дистрибуирани системи-2020/2021/Z',\n",
              " 'Дистрибуирани системи-2021/2022/Z',\n",
              " 'Дистрибуирани системи-2022/2023/Z',\n",
              " 'Дистрибуирани системи-2023/2024/Z',\n",
              " 'Е-влада-2019/2020/L',\n",
              " 'Е-влада-2020/2021/L',\n",
              " 'Е-влада-2021/2022/L',\n",
              " 'Е-влада-2022/2023/L',\n",
              " 'Е-маркетинг-2018/2019/L',\n",
              " 'Економија за ИКТ инженери-2019/2020/Z',\n",
              " 'Економија за ИКТ инженери-2020/2021/Z',\n",
              " 'Економија за ИКТ инженери-2021/2022/Z',\n",
              " 'Економија за ИКТ инженери-2022/2023/Z',\n",
              " 'Економија за ИКТ инженери-2023/2024/Z',\n",
              " 'Електрични кола-2019/2020/L',\n",
              " 'Електрични кола-2020/2021/L',\n",
              " 'Електрични кола-2021/2022/L',\n",
              " 'Електрични кола-2022/2023/L',\n",
              " 'Електронска и мобилна трговија-2018/2019/L',\n",
              " 'Електронска и мобилна трговија-2019/2020/L',\n",
              " 'Електронска и мобилна трговија-2020/2021/L',\n",
              " 'Електронска и мобилна трговија-2022/2023/L',\n",
              " 'Етичко хакирање-2021/2022/L',\n",
              " 'Етичко хакирање-2022/2023/L',\n",
              " 'ИКТ во образованието-2018/2019/L',\n",
              " 'ИКТ во образованието-2019/2020/L',\n",
              " 'ИКТ во образованието-2020/2021/L',\n",
              " 'ИКТ во образованието-2021/2022/L',\n",
              " 'ИКТ во образованието-2022/2023/L',\n",
              " 'ИТ системи за учење-2018/2019/L',\n",
              " 'ИТ системи за учење-2018/2019/Z',\n",
              " 'ИТ системи за учење-2019/2020/L',\n",
              " 'ИТ системи за учење-2020/2021/L',\n",
              " 'ИТ системи за учење-2021/2022/L',\n",
              " 'ИТ системи за учење-2022/2023/L',\n",
              " 'Избрани теми од математика-2023/2024/Z',\n",
              " 'Имплементација на системи со отворен код (Програмски практикум)-2018/2019/Z',\n",
              " 'Имплементација на системи со отворен код (Програмски практикум)-2019/2020/Z',\n",
              " 'Имплементација на системи со отворен код (Програмски практикум)-2020/2021/Z',\n",
              " 'Имплементација на системи со отворен код (Програмски практикум)-2021/2022/Z',\n",
              " 'Имплементација на системи со слободен и отворен код-2022/2023/Z',\n",
              " 'Имплементација на софтверски системи со слободен и отворен код-2023/2024/Z',\n",
              " 'Инженерска математика-2019/2020/Z',\n",
              " 'Инженерска математика-2020/2021/Z',\n",
              " 'Инженерска математика-2021/2022/Z',\n",
              " 'Инженерска математика-2022/2023/Z',\n",
              " 'Инженерска математика-2023/2024/Z',\n",
              " 'Иновации во ИКТ-2018/2019/Z',\n",
              " 'Иновации во ИКТ-2019/2020/Z',\n",
              " 'Иновации во ИКТ-2020/2021/Z',\n",
              " 'Иновации во ИКТ-2021/2022/Z',\n",
              " 'Иновации во ИКТ-2022/2023/Z',\n",
              " 'Иновации во ИКТ-2023/2024/Z',\n",
              " 'Интегрирани системи-2020/2021/L',\n",
              " 'Интегрирани системи-2021/2022/L',\n",
              " 'Интегрирани системи-2022/2023/L',\n",
              " 'Интелигентни информациски системи-2018/2019/L',\n",
              " 'Интелигентни информациски системи-2019/2020/L',\n",
              " 'Интелигентни информациски системи-2020/2021/L',\n",
              " 'Интелигентни информациски системи-2021/2022/L',\n",
              " 'Интелигентни информациски системи-2022/2023/L',\n",
              " 'Интелигентни системи-2018/2019/L',\n",
              " 'Интелигентни системи-2019/2020/L',\n",
              " 'Интелигентни системи-2020/2021/L',\n",
              " 'Интелигентни системи-2021/2022/L',\n",
              " 'Интелигентни системи-2022/2023/L',\n",
              " 'Интерактивни апликации-2018/2019/Z',\n",
              " 'Интерактивни апликации-2021/2022/Z',\n",
              " 'Интернет на нештата (Персонални и ад-хок мрежи)-2021/2022/Z',\n",
              " 'Интернет на нештата-2022/2023/Z',\n",
              " 'Интернет на нештата-2023/2024/Z',\n",
              " 'Интернет програмирање на клиентска страна-2019/2020/Z',\n",
              " 'Интернет програмирање на клиентска страна-2020/2021/Z',\n",
              " 'Интернет програмирање на клиентска страна-2022/2023/Z',\n",
              " 'Интернет програмирање на клиентска страна-2023/2024/Z',\n",
              " 'Интернет програмирање-2018/2019/Z',\n",
              " 'Интернет програмирање-2021/2022/Z',\n",
              " 'Интернет технологии - 2020/2021/Л - Вангел Ајановски',\n",
              " 'Интернет технологии - 2021/2022/Л - Вангел Ајановски',\n",
              " 'Интернет технологии - 2022/2023/Л - Вангел Ајановски',\n",
              " 'Интернет технологии - ВА - 2019/2020/L',\n",
              " 'Интернет технологии - ГА,МК - 2019/2020/L',\n",
              " 'Интернет технологии - ГА,МК - 2020/2021/L',\n",
              " 'Интернет технологии - ГА,МК - 2021/2022/L',\n",
              " 'Интернет технологии - ГА,МК - 2022/2023/L',\n",
              " 'Интернет технологии-2018/2019/L',\n",
              " 'Информациска безбедност-2020/2021/Z',\n",
              " 'Информациска безбедност-2021/2022/Z',\n",
              " 'Информациска безбедност-2022/2023/Z',\n",
              " 'Информациска безбедност-2023/2024/Z',\n",
              " 'Инфраструктурно програмирање-2021/2022/L',\n",
              " 'Инфраструктурно програмирање-2022/2023/L',\n",
              " 'Калкулус 1-2018/2019/Z',\n",
              " 'Калкулус 1-2019/2020/Z',\n",
              " 'Калкулус 1-2020/2021/Z',\n",
              " 'Калкулус 1-2021/2022/Z',\n",
              " 'Калкулус 1-2022/2023/Z',\n",
              " 'Калкулус 1-2023/2024/Z',\n",
              " 'Калкулус 2-2018/2019/L',\n",
              " 'Калкулус 2-2019/2020/L',\n",
              " 'Калкулус 2-2020/2021/L',\n",
              " 'Калкулус 2-2021/2022/L',\n",
              " 'Калкулус 2-2022/2023/L',\n",
              " 'Калкулус 3-2018/2019/Z',\n",
              " 'Калкулус-2018/2019/L',\n",
              " 'Калкулус-2018/2019/Z',\n",
              " 'Калкулус-2019/2020/L',\n",
              " 'Калкулус-2019/2020/Z',\n",
              " 'Калкулус-2020/2021/L',\n",
              " 'Калкулус-2020/2021/Z',\n",
              " 'Калкулус-2021/2022/L',\n",
              " 'Калкулус-2021/2022/Z',\n",
              " 'Калкулус-2022/2023/L',\n",
              " 'Калкулус-2022/2023/Z',\n",
              " 'Компјутерска Aнимација-2021/2022/L',\n",
              " 'Компјутерска анимација-2018/2019/L',\n",
              " 'Компјутерска анимација-2019/2020/L',\n",
              " 'Компјутерска анимација-2020/2021/L',\n",
              " 'Компјутерска анимација-2022/2023/L',\n",
              " 'Компјутерска графика-2019/2020/L',\n",
              " 'Компјутерска графика-2020/2021/L',\n",
              " 'Компјутерска графика-2021/2022/L',\n",
              " 'Компјутерска графика-2022/2023/L',\n",
              " 'Компјутерска електроника-2020/2021/Z',\n",
              " 'Компјутерска електроника-2021/2022/Z',\n",
              " 'Компјутерска електроника-2022/2023/Z',\n",
              " 'Компјутерска електроника-2023/2024/Z',\n",
              " 'Компјутерска етика-2018/2019/Z',\n",
              " 'Компјутерска етика-2019/2020/Z',\n",
              " 'Компјутерска етика-2020/2021/Z',\n",
              " 'Компјутерска етика-2021/2022/Z',\n",
              " 'Компјутерска етика-2022/2023/Z',\n",
              " 'Компјутерска етика-2023/2024/Z',\n",
              " 'Компјутерски архитектури-2018/2019/L',\n",
              " 'Компјутерски архитектури-2019/2020/L',\n",
              " 'Компјутерски архитектури-2020/2021/L',\n",
              " 'Компјутерски архитектури-2022/2023/L',\n",
              " 'Компјутерски звук, говор и музика-2021/2022/Z',\n",
              " 'Компјутерски звук, говор и музика-2022/2023/Z',\n",
              " 'Компјутерски звук, говор и музика-2023/2024/Z',\n",
              " 'Компјутерски компоненти 2018-2019',\n",
              " 'Компјутерски компоненти 2019-2020',\n",
              " 'Компјутерски компоненти 2020-2021',\n",
              " 'Компјутерски компоненти 2021-2022',\n",
              " 'Компјутерски компоненти 2022-2023',\n",
              " 'Компјутерски мрежи и безбедност - АМ, АД - 2023/2024/Z',\n",
              " 'Компјутерски мрежи и безбедност - АМ, СФ, АД - 2021/2022/Z',\n",
              " 'Компјутерски мрежи и безбедност - АМ, СФ, АД - 2022/2023/Z',\n",
              " 'Компјутерски мрежи и безбедност - ИМ, СГ, ММ - 2021/2022/Z',\n",
              " 'Компјутерски мрежи и безбедност - СГ, ИМ, ДС, KM - 2023/2024/Z',\n",
              " 'Компјутерски мрежи и безбедност - СГ, ИМ, ММ, ДС - 2022/2023/Z',\n",
              " 'Компјутерски мрежи и безбедност-2019/2020/Z',\n",
              " 'Компјутерски мрежи и безбедност-2020/2021/Z',\n",
              " 'Компјутерски мрежи-2018/2019/Z',\n",
              " 'Компјутерски мрежи-2019/2020/Z',\n",
              " 'Компјутерски мрежи-2020/2021/Z',\n",
              " 'Компјутерски мрежи-2021/2022/Z',\n",
              " 'Компјутерски мрежи-2022/2023/Z',\n",
              " 'Компјутерски мрежи-2023/2024/Z',\n",
              " 'Континуирана интеграција и испорака-2020/2021/L',\n",
              " 'Континуирана интеграција и испорака-2021/2022/L',\n",
              " 'Континуирана интеграција и испорака-2022/2023/L',\n",
              " 'Концепти на информатичко општество-2018/2019/L',\n",
              " 'Концепти на информатичко општество-2019/2020/L',\n",
              " 'Концепти на информатичко општество-2020/2021/L',\n",
              " 'Концепти на информатичко општество-2021/2022/L',\n",
              " 'Концепти на информатичко општество-2022/2023/L',\n",
              " 'Кориснички интерфејси-2018/2019/L',\n",
              " 'Кориснички интерфејси-2019/2020/L',\n",
              " 'Креативни вештини за решавање проблеми-2018/2019/L',\n",
              " 'Креативни вештини за решавање проблеми-2019/2020/L',\n",
              " 'Креативни вештини за решавање проблеми-2020/2021/L',\n",
              " 'Креативни вештини за решавање проблеми-2021/2022/L',\n",
              " 'Креативни вештини за решавање проблеми-2022/2023/L',\n",
              " 'Криптографија-2018/2019/Z',\n",
              " 'Криптографија-2019/2020/Z',\n",
              " 'Криптографија-2020/2021/L',\n",
              " 'Криптографија-2021/2022/L',\n",
              " 'Криптографија-2022/2023/L',\n",
              " 'Линеарна алгебра и примени-2020/2021/Z',\n",
              " 'Линеарна алгебра и примени-2021/2022/Z',\n",
              " 'Линеарна алгебра и примени-2022/2023/Z',\n",
              " 'Линеарна алгебра и примени-2023/2024/Z',\n",
              " 'Маркетинг-2018/2019/L',\n",
              " 'Маркетинг-2018/2019/Z',\n",
              " 'Маркетинг-2019/2020/L',\n",
              " 'Маркетинг-2020/2021/L',\n",
              " 'Маркетинг-2021/2022/L',\n",
              " 'Маркетинг-2022/2023/L',\n",
              " 'Математика 1 / Mathematics 1-2023/2024/Z',\n",
              " 'Математика 1-2018/2019/Z',\n",
              " 'Математика 1-2020/2021/Z',\n",
              " 'Математика 1-2021/2022/Z',\n",
              " 'Математика 2-2018/2019/L',\n",
              " 'Машинска визија - Machine Vision - 2021/2022/Z(W)',\n",
              " 'Машинска визија - Machine Vision 2023-24',\n",
              " 'Машинска визија-2018/2019/Z',\n",
              " 'Машинска визија-2019/2020/Z',\n",
              " 'Машинска визија-2020/2021/Z',\n",
              " 'Машинска визија-Machine Vision 2022-23',\n",
              " 'Машинско учење-2018/2019/Z',\n",
              " 'Машинско учење-2019/2020/Z',\n",
              " 'Машинско учење-2020/2021/L',\n",
              " 'Машинско учење-2020/2021/Z',\n",
              " 'Машинско учење-2021/2022/L',\n",
              " 'Машинско учење-2022/2023/L',\n",
              " 'Медиуми и комуникации-2018/2019/L',\n",
              " 'Медиуми и комуникации-2019/2020/L',\n",
              " 'Медиуми и комуникации-2020/2021/L',\n",
              " 'Медиуми и комуникации-2021/2022/L',\n",
              " 'Медиуми и комуникации-2022/2023/L',\n",
              " 'Менаџмент информациски системи-2018/2019/Z',\n",
              " 'Менаџмент информациски системи-2019/2020/Z',\n",
              " 'Менаџмент информациски системи-2020/2021/Z',\n",
              " 'Менаџмент информациски системи-2021/2022/Z',\n",
              " 'Менаџмент информациски системи-2022/2023/Z',\n",
              " 'Менаџмент информациски системи-2023/2024/Z',\n",
              " 'Мерење и анализа на интернет сообраќај-2021/2022/L',\n",
              " 'Методика на информатиката-2021/2022/L',\n",
              " 'Методика на информатиката-2022/2023/L',\n",
              " 'Методологија на истражувањето во ИКТ 2021/2022',\n",
              " 'Методологија на истражувањето во ИКТ 2022/2023',\n",
              " 'Методологија на истражувањето во ИКТ 2023/2024',\n",
              " 'Методологија на истражувањето во ИКТ-2018/2019/Z',\n",
              " 'Методологија на истражувањето во ИКТ-2019/2020/Z',\n",
              " 'Методологија на истражувањето во ИКТ-2020/2021/Z',\n",
              " 'Микропроцесорски системи-2018/2019/Z',\n",
              " 'Микропроцесорски системи-2019/2020/Z',\n",
              " 'Микропроцесорски системи-2020/2021/Z',\n",
              " 'Микропроцесорски системи-2021/2022/Z',\n",
              " 'Микропроцесорски системи-2022/2023/Z',\n",
              " 'Микропроцесорски системи-2023/2024/Z',\n",
              " 'Мобилни апликации-2018/2019/L',\n",
              " 'Мобилни апликации-2019/2020/L',\n",
              " 'Мобилни апликации-2020/2021/L',\n",
              " 'Мобилни апликации-2021/2022/L',\n",
              " 'Мобилни апликации-2022/2023/L',\n",
              " 'Мобилни информациски системи-2021/2022/Z',\n",
              " 'Мобилни информациски системи-2022/2023/Z',\n",
              " 'Мобилни платформи и програмирање-2018/2019/Z',\n",
              " 'Мобилни платформи и програмирање-2019/2020/Z',\n",
              " 'Мобилни платформи и програмирање-2020/2021/Z',\n",
              " 'Мобилни платформи и програмирање-2021/2022/Z',\n",
              " 'Мобилни платформи и програмирање-2022/2023/Z',\n",
              " 'Мобилни платформи и програмирање-2023/2024/Z',\n",
              " 'Моделирање и менаџирање на бизнис процеси-2021/2022/L',\n",
              " 'Моделирање и симулација на комуникациски мрежи-2018/2019/L',\n",
              " 'Моделирање и симулација на комуникациски мрежи-2019/2020/L',\n",
              " 'Моделирање и симулација-2018/2019/Z',\n",
              " 'Моделирање и симулација-2019/2020/Z',\n",
              " 'Моделирање и симулација-2020/2021/Z',\n",
              " 'Моделирање и симулација-2022/2023/Z',\n",
              " 'Моделирање и симулација-2023/2024/Z',\n",
              " 'Моделирање на бизнис процеси-2018/2019/L',\n",
              " 'Моделирање на бизнис процеси-2019/2020/L',\n",
              " 'Моделирање на бизнис процеси-2020/2021/L',\n",
              " 'Моделирање на бизнис процеси-2022/2023/L',\n",
              " 'Моделно базирано софтверско инженерство-2020/2021/Z',\n",
              " 'Моделно базирано софтверско инженерство-2022/2023/Z',\n",
              " 'Модерна физика-2018/2019/L',\n",
              " 'Модерна физика-2019/2020/L',\n",
              " 'Мрежна безбедност-2018/2019/L',\n",
              " 'Мрежна безбедност-2019/2020/L',\n",
              " 'Мрежна безбедност-2020/2021/L',\n",
              " 'Мрежна безбедност-2020/2021/Z',\n",
              " 'Мрежна безбедност-2021/2022/Z',\n",
              " 'Мрежна безбедност-2022/2023/Z',\n",
              " 'Мрежна безбедност-2023/2024/Z',\n",
              " 'Мрежна и мобилна форензика-2021/2022/Z',\n",
              " 'Мрежна и мобилна форензика-2022/2023/Z',\n",
              " 'Мрежна и мобилна форензика-2023/2024/Z',\n",
              " 'Мрежни оперативни системи-2018/2019/Z',\n",
              " 'Мрежни оперативни системи-2019/2020/Z',\n",
              " 'Мрежни оперативни системи-2020/2021/Z',\n",
              " 'Мултимедиски мрежи-2019/2020/Z',\n",
              " 'Мултимедиски мрежи-2020/2021/Z',\n",
              " 'Мултимедиски мрежи-2021/2022/Z',\n",
              " 'Мултимедиски мрежи-2022/2023/Z',\n",
              " 'Мултимедиски мрежи-2023/2024/Z',\n",
              " 'Мултимедиски системи-2018/2019/Z',\n",
              " 'Мултимедиски системи-2019/2020/Z',\n",
              " 'Мултимедиски системи-2020/2021/L',\n",
              " 'Мултимедиски системи-2020/2021/Z',\n",
              " 'Мултимедиски системи-2021/2022/L',\n",
              " 'Мултимедиски системи-2021/2022/Z',\n",
              " 'Мултимедиски системи-2022/2023/L',\n",
              " 'Мултимедиски системи-2022/2023/Z',\n",
              " 'Мултимедиски системи-2023/2024/Z',\n",
              " 'Мултимедијални технологии-2019/2020/Z',\n",
              " 'Мултимедијални технологии-2020/2021/Z',\n",
              " 'Мултимедијални технологии-2021/2022/Z',\n",
              " 'Мултимедијални технологии-2022/2023/Z',\n",
              " 'Мултимедијални технологии-2023/2024/Z',\n",
              " 'Напреден веб дизајн 2022-23',\n",
              " 'Напреден веб дизајн-2018/2019/Z',\n",
              " 'Напреден веб дизајн-2019/2020/Z',\n",
              " 'Напреден веб дизајн-2020/2021/Z',\n",
              " 'Напреден веб дизајн-2021/2022/Z',\n",
              " 'Напреден веб дизајн-2023/2024/Z',\n",
              " 'Напредна интеракција човек компјутер-2018/2019/Z',\n",
              " 'Напредна интеракција човек компјутер-2019/2020/Z',\n",
              " 'Напредна интеракција човек компјутер-2020/2021/Z',\n",
              " 'Напредна интеракција човек компјутер-2021/2022/Z',\n",
              " 'Напредна интеракција човек компјутер-2022/2023/Z',\n",
              " 'Напредна интеракција човек компјутер-2023/2024/Z',\n",
              " 'Напредни ИКТ иновации и претприемништво-2018/2019/Z',\n",
              " 'Напредни ИКТ иновации и претприемништво-2019/2020/Z',\n",
              " 'Напредни ИКТ иновации и претприемништво-2020/2021/Z',\n",
              " 'Напредни ИКТ иновации и претприемништво-2021/2022/Z',\n",
              " 'Напредни ИКТ иновации и претприемништво-2022/2023/Z',\n",
              " 'Напредни ИКТ иновации и претприемништво-2023/2024/Z',\n",
              " 'Напредни бази на податоци -2018/2019/L',\n",
              " 'Напредни бази на податоци -2019/2020/L',\n",
              " 'Напредни бази на податоци -2020/2021/L',\n",
              " 'Напредни бази на податоци-2021/2022/L',\n",
              " 'Напредни бази на податоци-2022/2023/L',\n",
              " 'Напредни теми од Е-Влада-2019/2020/Z',\n",
              " 'Напредни теми од Е-Влада-2021/2022/Z',\n",
              " 'Напредни теми од Е-Влада-2022/2023/Z',\n",
              " 'Напредни теми од вештачка интелигенција и машинско учење-2022/2023/Z',\n",
              " 'Напредно машинско учење-2023/2024/Z',\n",
              " 'Напредно програмирање-2018/2019/Z',\n",
              " 'Напредно програмирање-2019/2020/Z',\n",
              " 'Напредно програмирање-2020/2021/Z',\n",
              " 'Напредно програмирање-2021/2022/Z',\n",
              " 'Напредно програмирање-2022/2023/Z',\n",
              " 'Напредно програмирање-2023/2024/Z',\n",
              " 'Напредно софтверско инженерство-2018/2019/Z',\n",
              " 'Неструктурирани бази на податоци и XML-2018/2019/L',\n",
              " 'Неструктурирани бази на податоци и XML-2019/2020/L',\n",
              " 'Неструктурирани бази на податоци-2020/2021/L',\n",
              " 'Неструктурирани бази на податоци-2021/2022/L',\n",
              " 'Неструктурирани бази на податоци-2022/2023/L',\n",
              " 'Обработка на природните јазици-2018/2019/Z',\n",
              " 'Обработка на природните јазици-2019/2020/Z',\n",
              " 'Обработка на природните јазици-2020/2021/Z',\n",
              " 'Обработка на природните јазици-2021/2022/Z',\n",
              " 'Обработка на природните јазици-2022/2023/Z',\n",
              " 'Обработка на природните јазици-2023/2024/Z',\n",
              " 'Обработка на слика-2018/2019/L',\n",
              " 'Објектно ориентирана анализа и дизајн-2018/2019/L',\n",
              " 'Објектно ориентирана анализа и дизајн-2018/2019/Z',\n",
              " 'Објектно ориентирана анализа и дизајн-2019/2020/L',\n",
              " 'Објектно ориентирана анализа и дизајн-2020/2021/L',\n",
              " 'Објектно ориентирана анализа и дизајн-2021/2022/L',\n",
              " 'Објектно ориентирана анализа и дизајн-2022/2023/L',\n",
              " 'Објектно-ориентирано програмирање-2018/2019/L',\n",
              " 'Објектно-ориентирано програмирање-2019/2020/L',\n",
              " 'Објектно-ориентирано програмирање-2020/2021/L',\n",
              " 'Објектно-ориентирано програмирање-2021/2022/L',\n",
              " 'Објектно-ориентирано програмирање-2022/2023/L',\n",
              " 'Оперативни системи-2018/2019/L',\n",
              " 'Оперативни системи-2019/2020/L',\n",
              " 'Оперативни системи-2020/2021/L',\n",
              " 'Оперативни системи-2021/2022/L',\n",
              " 'Оперативни системи-2022/2023/L',\n",
              " 'Операциони истражувања-2018/2019/L',\n",
              " 'Операциони истражувања-2019/2020/L',\n",
              " 'Оптички мрежи и технологии-2018/2019/Z',\n",
              " 'Оптички мрежи и технологии-2019/2020/Z',\n",
              " 'Оптички мрежи и технологии-2020/2021/Z',\n",
              " 'Оптички мрежи-2021/2022/Z',\n",
              " 'Оптички мрежи-2022/2023/Z',\n",
              " 'Оптички мрежи-2023/2024/Z',\n",
              " 'Основи на Веб дизајн-2018/2019/L',\n",
              " 'Основи на Веб дизајн-2019/2020/L',\n",
              " 'Основи на Веб дизајн-2020/2021/L',\n",
              " 'Основи на Веб дизајн-2021/2022/L',\n",
              " 'Основи на Веб дизајн-2022/2023/L',\n",
              " 'Основи на електрични кола 2018-2019',\n",
              " 'Основи на електрични кола-2020/2021/Z',\n",
              " 'Основи на електрични кола-2022/2023/Z',\n",
              " 'Основи на компјутерска графика-2018/2019/L',\n",
              " 'Основи на комуникациски системи 2020-2021',\n",
              " 'Основи на комуникациски системи 2022-2023',\n",
              " 'Основи на комуникациски системи 2023-2024',\n",
              " 'Основи на комуникациски системи-2019/2020/Z',\n",
              " 'Основи на комуникациски системи-2021/2022/Z',\n",
              " 'Основи на роботика-2020/2021/Z',\n",
              " 'Основи на роботика-2021/2022/Z',\n",
              " 'Основи на роботиката-2022-23/Z',\n",
              " 'Основи на роботиката-2023/24',\n",
              " 'Основи на сајбер безбедноста-2018/2019/L',\n",
              " 'Основи на сајбер безбедноста-2019/2020/L',\n",
              " 'Основи на сајбер безбедноста-2020/2021/L',\n",
              " 'Основи на сајбер безбедноста-2021/2022/L',\n",
              " 'Основи на сајбер безбедноста-2022/2023/L',\n",
              " 'Основи на теоријата на информации-2019/2020/Z',\n",
              " 'Основи на теоријата на информации-2020/2021/Z',\n",
              " 'Основи на теоријата на информации-2021/2022/Z',\n",
              " 'Основи на теоријата на информации-2022/2023/Z',\n",
              " 'Основи на теоријата на информации-2023/2024/Z',\n",
              " 'Паралелно и дистрибуирано процесирање-2018/2019/Z',\n",
              " 'Паралелно и дистрибуирано процесирање-2020/2021/Z',\n",
              " 'Паралелно и дистрибуирано процесирање-2021/2022/Z',\n",
              " 'Паралелно и дистрибуирано процесирање-2022/2023/Z',\n",
              " 'Паралелно и дистрибуирано процесирање-2023/2024/Z',\n",
              " 'Паралелно програмирање-2018/2019/L',\n",
              " 'Паралелно програмирање-2019/2020/L',\n",
              " 'Паралелно програмирање-2020/2021/L',\n",
              " 'Паралелно програмирање-2021/2022/L',\n",
              " 'Паралелно програмирање-2022/2023/L',\n",
              " 'Педагогија-2020/2021/Z',\n",
              " 'Педагогија-2021/2022/Z',\n",
              " 'Педагогија-2022/2023/Z',\n",
              " 'Педагогија-2023/2024/Z',\n",
              " 'Податочно рударство-2018/2019/L',\n",
              " 'Податочно рударство-2019/2020/L',\n",
              " 'Податочно рударство-2020/2021/L',\n",
              " 'Податочно рударство-2021/2022/L',\n",
              " 'Податочно рударство-2022/2023/L',\n",
              " 'Пресметување во облак-2021/2022/Z',\n",
              " 'Пресметување во облак-2022/2023/Z',\n",
              " 'Пресметување во облак-2023/2024/Z',\n",
              " 'Претприемништво-2018/2019/L',\n",
              " 'Претприемништво-2019/2020/L',\n",
              " 'Претприемништво-2020/2021/L',\n",
              " 'Претприемништво-2021/2022/L',\n",
              " 'Претприемништво-2022/2023/L',\n",
              " 'Примена на алгоритми и податочни структури-2023/2024/Z',\n",
              " 'Програмирање на видео игри и специјални ефекти-2018/2019/Z',\n",
              " 'Програмирање на видео игри и специјални ефекти-2019/2020/Z',\n",
              " 'Програмирање на видео игри и специјални ефекти-2020/2021/Z',\n",
              " 'Програмирање на видео игри-2021/2022/Z',\n",
              " 'Програмирање на видео игри-2022/2023/Z',\n",
              " 'Програмирање на видео игри-2023/2024/Z',\n",
              " 'Програмски парадигми-2021/2022/Z',\n",
              " 'Програмски парадигми-2022/2023/Z',\n",
              " 'Програмски парадигми-2023/2024/Z',\n",
              " 'Програмски јазици и компајлери-2022/2023/L',\n",
              " 'Професионални вештини - 2021/2022',\n",
              " 'Професионални вештини - 2022/2023',\n",
              " 'Професионални вештини - 2023/2024',\n",
              " 'Професионални вештини-2018/2019/Z',\n",
              " 'Професионални вештини-2019/2020/Z',\n",
              " 'Професионални вештини-2020/2021/Z',\n",
              " 'Професионални вештини-2021/2022/L',\n",
              " 'Процесирање на сигналите-2020/2021/L',\n",
              " 'Процесирање на сигналите-2021/2022/L',\n",
              " 'Процесирање на сигналите-2022/2023/L',\n",
              " 'Психологија на училишна возраст-2020/2021/L',\n",
              " 'Психологија на училишна возраст-2021/2022/L',\n",
              " 'Психологија на училишна возраст-2022/2023/L',\n",
              " 'Рударење на масивни податоци-2021/2022/Z',\n",
              " 'Рударење на масивни податоци-2022/2023/Z',\n",
              " 'Рударење на масивни податоци-2023/2024/Z',\n",
              " 'Сензорски системи-2018/2019/L',\n",
              " 'Сензорски системи-2019/2020/L',\n",
              " 'Сензорски системи-2020/2021/L',\n",
              " 'Сензорски системи-2021/2022/L',\n",
              " 'Сензорски системи-2022/2023/L',\n",
              " 'Сервисно Ориентирани Архитектури-2018/2019/L',\n",
              " 'Сервисно ориентирани архитектури-2019/2020/L',\n",
              " 'Сервисно ориентирани архитектури-2020/2021/L',\n",
              " 'Сервисно ориентирани архитектури-2021/2022/L',\n",
              " 'Сервисно ориентирани архитектури-2022/2023/L',\n",
              " 'Системи за поддршка при одлучувањето-2021/2022/Z',\n",
              " 'Системи за поддршка при одлучувањето-2022/2023/Z',\n",
              " 'Складови на податоци и аналитичка обработка-2021/2022/L',\n",
              " 'Складови на податоци и аналитичка обработка-2022/2023/L',\n",
              " 'Современи интелигентни системи-2018/2019/Z',\n",
              " 'Современи интелигентни системи-2022/2023/Z',\n",
              " 'Современи интелигентни системи-2023/2024',\n",
              " 'Современи компјутерски архитектури-2020/2021/L',\n",
              " 'Современи компјутерски архитектури-2021/2022/L',\n",
              " 'Софтвер за вградливи системи-2021/2022/Z',\n",
              " 'Софтвер за вградливи системи-2022/2023/Z',\n",
              " 'Софтвер за вградливи системи-2023/2024/Z',\n",
              " 'Софтверски дефинирани мрежи-2022/2023/Z',\n",
              " 'Софтверски квалитет и тестирање-2018/2019/L',\n",
              " 'Софтверски квалитет и тестирање-2019/2020/L',\n",
              " 'Софтверски квалитет и тестирање-2020/2021/L',\n",
              " 'Софтверски квалитет и тестирање-2021/2022/L',\n",
              " 'Софтверски квалитет и тестирање-2022/2023/L',\n",
              " 'Софтверско инженерство 2018/2019 - Летен - ДЃ,ЃМ,КТ',\n",
              " 'Софтверско инженерство 2018/2019 - Летен - КЗ',\n",
              " 'Софтверско инженерство-2019/2020/L',\n",
              " 'Софтверско инженерство-2020/2021/L',\n",
              " 'Софтверско инженерство-2021/2022/L',\n",
              " 'Софтверско инженерство-2022/2023/L',\n",
              " 'Социјални мрежи и медиуми-2023/2024/Z',\n",
              " 'Статистичко моделирање-2020/2021/L',\n",
              " 'Структурно програмирање-2018/2019/Z',\n",
              " 'Структурно програмирање-2019/2020/Z',\n",
              " 'Структурно програмирање-2020/2021/Z',\n",
              " 'Структурно програмирање-2021/2022/Z',\n",
              " 'Структурно програмирање-2022/2023/Z',\n",
              " 'Структурно програмирање-2023/2024/Z',\n",
              " 'Теорија на информации со дигитални комуникации-2018/2019/L',\n",
              " 'Теорија на информации со дигитални комуникации-2019/2020/L',\n",
              " 'Теорија на информации со дигитални комуникации-2020/2021/L',\n",
              " 'Теорија на информации со дигитални комуникации-2021/2022/L',\n",
              " 'Теорија на информации со дигитални комуникации-2022/2023/L',\n",
              " 'Тимски проект-2021/2022/Z',\n",
              " 'Тимски проект-2022/2023/Z',\n",
              " 'Тимски проект-2023/2024/Z',\n",
              " 'Управување на ИКТ проекти-2019/2020/L',\n",
              " 'Управување на ИКТ проекти-2021/2022/L',\n",
              " 'Управување на ИКТ проекти-2022/2023/L',\n",
              " 'Управување со ИКТ проекти-2018/2019/L',\n",
              " 'Управување со ИКТ проекти-2020/2021/L',\n",
              " 'Управување со техничка поддршка-2018/2019/Z',\n",
              " 'Управување со техничка поддршка-2021/2022/Z',\n",
              " 'Управување со техничката поддршка-2019/2020/Z',\n",
              " 'Управување со техничката поддршка-2020/2021/Z',\n",
              " 'Управување со техничката поддршка-2022/2023/Z',\n",
              " 'Управување со техничката поддршка-2023/2024/Z',\n",
              " 'Учење на далечина-2018/2019/L',\n",
              " 'Учење на далечина-2019/2020/L',\n",
              " 'Учење на далечина-2020/2021/L',\n",
              " 'Учење на далечина-2021/2022/L',\n",
              " 'Учење на далечина-2022/2023/L',\n",
              " 'Физика-2018/2019/Z',\n",
              " 'Физика-2019/2020/Z',\n",
              " 'Физика-2020/2021/Z',\n",
              " 'Физика-2021/2022/Z',\n",
              " 'Физика-2022/2023/Z',\n",
              " 'Физика-2023/2024/Z',\n",
              " 'Формални јазици и автомати-2018/2019/Z',\n",
              " 'Формални јазици и автомати-2019/2020/Z',\n",
              " 'Формални јазици и автомати-2020/2021/L',\n",
              " 'Формални јазици и автомати-2021/2022/L',\n",
              " 'Формални јазици и автомати-2022/2023/L',\n",
              " 'Шаблони за дизајн на кориснички интерфејси-2020/2021/Z',\n",
              " 'Шаблони за дизајн на кориснички интерфејси-2022/2023/Z',\n",
              " 'Шаблони за дизајн на кориснички интерфејси-2023/2024/Z',\n",
              " 'Шаблони за дизајн на кориснички интерфејси/Интерактивни апликации-2019/2020/Z',\n",
              " 'е-Влада-2018/2019/L'}"
            ]
          },
          "metadata": {},
          "execution_count": 433
        }
      ]
    },
    {
      "cell_type": "code",
      "source": [],
      "metadata": {
        "id": "xGil9gR9Ppgg"
      },
      "execution_count": null,
      "outputs": []
    },
    {
      "cell_type": "markdown",
      "metadata": {
        "id": "Ju_LnPVVrBn0"
      },
      "source": [
        "##Input the missing course-subject connections"
      ]
    },
    {
      "cell_type": "code",
      "execution_count": null,
      "metadata": {
        "id": "fFraDLbne8IV"
      },
      "outputs": [],
      "source": [
        "# set1 = set()\n",
        "# for i,row in filtered_df.iterrows():\n",
        "#   if row['Course'] not in set1:\n",
        "#     content = subjects[subjects['Id'] == row[\"Subject_Id\"]][\"Content_y\"].values[0]\n",
        "#     weekly = subjects[subjects['Id'] == row[\"Subject_Id\"]][\"Weekly_y\"].values[0]\n",
        "#     if pd.isna(content):\n",
        "#       content = subjects[subjects['Id'] == row[\"Subject_Id\"]][\"Content_x\"].values[0]\n",
        "#       weekly = subjects[subjects['Id'] == row[\"Subject_Id\"]][\"Weekly_x\"].values[0]\n",
        "\n",
        "#     s = f\"Име на курс: {row['Course']}\\n\"\n",
        "#     s+= f\"Име на предмет: {row['Subject']}\\n\"\n",
        "#     s+= f\"Содржина: {content}\\n\"\n",
        "#     s+= f\"Опис: {weekly}\\n\"\n",
        "#     print(get_students__by_course(elem, True, count=4, num = 100, student=False, debug=True))\n",
        "\n",
        "#     set1.add(row['Course'])"
      ]
    },
    {
      "cell_type": "code",
      "execution_count": null,
      "metadata": {
        "colab": {
          "base_uri": "https://localhost:8080/"
        },
        "id": "TdDxH6ArambR",
        "outputId": "32424b60-b339-4418-a706-671ffb3f35aa"
      },
      "outputs": [
        {
          "output_type": "execute_result",
          "data": {
            "text/plain": [
              "209989"
            ]
          },
          "metadata": {},
          "execution_count": 263
        }
      ],
      "source": [
        "# len(c_subjects)"
      ]
    },
    {
      "cell_type": "code",
      "source": [
        "# d_df = pd.read_excel('/content/drive/MyDrive/connection5.xlsx')\n",
        "# d_df.columns\n",
        "# d = {}\n",
        "# for i, row in d_df.iterrows():\n",
        "#   if row[\"Label\"] == 1:\n",
        "#     d[row['Course-abr']] = row['Subject']"
      ],
      "metadata": {
        "id": "35DERo0hzUsN"
      },
      "execution_count": null,
      "outputs": []
    },
    {
      "cell_type": "code",
      "source": [
        "# d_df.columns"
      ],
      "metadata": {
        "colab": {
          "base_uri": "https://localhost:8080/"
        },
        "id": "lDYRbdI31Fl3",
        "outputId": "b39c61dd-5b49-415f-a9c2-406802e503d7"
      },
      "execution_count": null,
      "outputs": [
        {
          "output_type": "execute_result",
          "data": {
            "text/plain": [
              "Index(['Unnamed: 0', 'Subject_Id', 'Subject', 'Course-abr', 'Course', 'Label'], dtype='object')"
            ]
          },
          "metadata": {},
          "execution_count": 271
        }
      ]
    },
    {
      "cell_type": "code",
      "source": [
        "# d = {}\n",
        "# for i, row in d_df.iterrows():\n",
        "#   if row[\"Label\"] == 1:\n",
        "#     d[row['Course-abr']] = row['Subject']"
      ],
      "metadata": {
        "id": "vIkuKS3Q1Llm"
      },
      "execution_count": null,
      "outputs": []
    },
    {
      "cell_type": "code",
      "source": [
        "# d"
      ],
      "metadata": {
        "colab": {
          "base_uri": "https://localhost:8080/"
        },
        "id": "rB8N6VZJ3wtR",
        "outputId": "0ab211a0-623c-44f6-bbac-6540a19fe9cd"
      },
      "execution_count": null,
      "outputs": [
        {
          "output_type": "execute_result",
          "data": {
            "text/plain": [
              "{'structural programming-//z': 'Структурно програмирање',\n",
              " 'object oriented programming-//l': 'Објектно-ориентирано програмирање',\n",
              " 'computer architecture and organization-//l': 'Архитектура и организација на компјутери',\n",
              " 'object oriented analysis and design-//l': 'Објектно ориентирана анализа и дизајн',\n",
              " 'интерактивни апликации-//z': 'Шаблони за дизајн на кориснички интерфејси',\n",
              " 'основи на роботика-//z': 'Основи на роботиката',\n",
              " 'интернет програмирање-//z': 'Интернет програмирање на клиентска страна',\n",
              " 'микропроцесорски системи-//z': 'Вградливи микропроцесорски системи',\n",
              " 'кориснички интерфејси-//l': 'Дизајн на интеракцијата човек-компјутер',\n",
              " 'компјутерска aнимација-//l': 'Компјутерска анимација',\n",
              " 'emt-/': 'Електронска и мобилна трговија',\n",
              " 'управување на икт проекти-//l': 'Управување со ИКТ проекти',\n",
              " 'моделирање на бизнис процеси-//l': 'Моделирање и менаџирање на бизнис процеси',\n",
              " 'имплементација на системи со отворен код (програмски практикум)-//z': 'Имплементација на системи со слободен и отворен код',\n",
              " 'обработка на слика-//l': 'Дигитално процесирање на слика'}"
            ]
          },
          "metadata": {},
          "execution_count": 280
        }
      ]
    },
    {
      "cell_type": "code",
      "source": [
        "# df_all.columns"
      ],
      "metadata": {
        "colab": {
          "base_uri": "https://localhost:8080/"
        },
        "id": "uwEb2wm64STb",
        "outputId": "4dc27f30-377c-42e8-da1b-c47b3a63dd9b"
      },
      "execution_count": null,
      "outputs": [
        {
          "output_type": "execute_result",
          "data": {
            "text/plain": [
              "Index(['Name', 'Email', 'Role', 'Course', 'Year', 'Subject', 'Subject_Id'], dtype='object')"
            ]
          },
          "metadata": {},
          "execution_count": 286
        }
      ]
    },
    {
      "cell_type": "code",
      "source": [
        "# subjects = []\n",
        "# subjects_ids = []\n",
        "# for i, row in df_all.iterrows():\n",
        "#     course = row[\"Course\"].lower()\n",
        "#     integers = [int(match) for match in re.findall(r'\\d+', course)]\n",
        "#     course = course.replace(str(integers[-1]), \"\")\n",
        "#     course = course.replace(str(integers[-2]), \"\")\n",
        "#     if not pd.isna(row[\"Subject\"]):\n",
        "#       if course == 'emt-/':\n",
        "#         print(\"lol\")\n",
        "#       # else:\n",
        "#       #   print(\"lol1\")\n",
        "#     else:\n",
        "#       subjects.append(row[\"Subject\"])\n",
        "#       subjects_ids.append(row[\"Subject_Id\"])\n"
      ],
      "metadata": {
        "id": "czeQMM1_2Fz4"
      },
      "execution_count": null,
      "outputs": []
    },
    {
      "cell_type": "code",
      "source": [],
      "metadata": {
        "id": "TXbvCF032Iem"
      },
      "execution_count": null,
      "outputs": []
    }
  ],
  "metadata": {
    "colab": {
      "toc_visible": true,
      "provenance": []
    },
    "kernelspec": {
      "display_name": "Python 3",
      "name": "python3"
    },
    "language_info": {
      "name": "python"
    }
  },
  "nbformat": 4,
  "nbformat_minor": 0
}